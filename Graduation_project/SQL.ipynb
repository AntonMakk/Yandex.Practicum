{
 "cells": [
  {
   "cell_type": "markdown",
   "metadata": {
    "toc": true
   },
   "source": [
    "<h1>Table of Contents<span class=\"tocSkip\"></span></h1>\n",
    "<div class=\"toc\"><ul class=\"toc-item\"><li><span><a href=\"#Загрузим-и-ознакомимся-с-данными\" data-toc-modified-id=\"Загрузим-и-ознакомимся-с-данными-1\"><span class=\"toc-item-num\">1&nbsp;&nbsp;</span>Загрузим и ознакомимся с данными</a></span><ul class=\"toc-item\"><li><span><a href=\"#Подключимся-к-базе-и-загрузим-данные\" data-toc-modified-id=\"Подключимся-к-базе-и-загрузим-данные-1.1\"><span class=\"toc-item-num\">1.1&nbsp;&nbsp;</span>Подключимся к базе и загрузим данные</a></span></li><li><span><a href=\"#Ознакомимся-с-данными\" data-toc-modified-id=\"Ознакомимся-с-данными-1.2\"><span class=\"toc-item-num\">1.2&nbsp;&nbsp;</span>Ознакомимся с данными</a></span></li></ul></li><li><span><a href=\"#Посчитаем,-сколько-книг-вышло-после-1-января-2000-года\" data-toc-modified-id=\"Посчитаем,-сколько-книг-вышло-после-1-января-2000-года-2\"><span class=\"toc-item-num\">2&nbsp;&nbsp;</span>Посчитаем, сколько книг вышло после 1 января 2000 года</a></span></li><li><span><a href=\"#Для-каждой-книги-посчитаем-количество-обзоров-и-среднюю-оценку\" data-toc-modified-id=\"Для-каждой-книги-посчитаем-количество-обзоров-и-среднюю-оценку-3\"><span class=\"toc-item-num\">3&nbsp;&nbsp;</span>Для каждой книги посчитаем количество обзоров и среднюю оценку</a></span></li><li><span><a href=\"#Определим-издательство,-которое-выпустило-наибольшее-число-книг-толще-50-страниц\" data-toc-modified-id=\"Определим-издательство,-которое-выпустило-наибольшее-число-книг-толще-50-страниц-4\"><span class=\"toc-item-num\">4&nbsp;&nbsp;</span>Определим издательство, которое выпустило наибольшее число книг толще 50 страниц</a></span></li><li><span><a href=\"#Определим-автора-с-самой-высокой-средней-оценкой-книг\" data-toc-modified-id=\"Определим-автора-с-самой-высокой-средней-оценкой-книг-5\"><span class=\"toc-item-num\">5&nbsp;&nbsp;</span>Определим автора с самой высокой средней оценкой книг</a></span></li><li><span><a href=\"#Посчитаем-среднее-количество-обзоров-от-пользователей,-которые-поставили-больше-50-оценок.\" data-toc-modified-id=\"Посчитаем-среднее-количество-обзоров-от-пользователей,-которые-поставили-больше-50-оценок.-6\"><span class=\"toc-item-num\">6&nbsp;&nbsp;</span>Посчитаем среднее количество обзоров от пользователей, которые поставили больше 50 оценок.</a></span></li></ul></div>"
   ]
  },
  {
   "cell_type": "markdown",
   "metadata": {},
   "source": [
    "# SQL project"
   ]
  },
  {
   "cell_type": "markdown",
   "metadata": {},
   "source": [
    "Коронавирус застал мир врасплох, изменив привычный порядок вещей. В свободное время жители городов больше не выходят на улицу, не посещают кафе и торговые центры. Зато стало больше времени для книг. Это заметили стартаперы — и бросились создавать приложения для тех, кто любит читать.\n",
    "\n",
    "Наша компания решила быть на волне и купила крупный сервис для чтения книг по подписке. Наша первая задача — проанализировать базу данных.\n",
    "В ней — информация о книгах, издательствах, авторах, а также пользовательские обзоры книг. Эти данные помогут сформулировать ценностное предложение для нового продукта."
   ]
  },
  {
   "cell_type": "markdown",
   "metadata": {},
   "source": [
    "***Описание данных***"
   ]
  },
  {
   "cell_type": "markdown",
   "metadata": {},
   "source": [
    "**Таблица `books`**\n",
    "\n",
    "Содержит данные о книгах:\n",
    "\n",
    "- `book_id` — идентификатор книги;\n",
    "- `author_id` — идентификатор автора;\n",
    "- `title` — название книги;\n",
    "- `num_pages` — количество страниц;\n",
    "- `publication_date` — дата публикации книги;\n",
    "- `publisher_id` — идентификатор издателя.\n",
    "\n",
    "**Таблица `authors`**\n",
    "\n",
    "Содержит данные об авторах:\n",
    "\n",
    "- `author_id` — идентификатор автора;\n",
    "- `author` — имя автора.\n",
    "\n",
    "**Таблица `publishers`**\n",
    "\n",
    "Содержит данные об издательствах:\n",
    "\n",
    "- `publisher_id` — идентификатор издательства;\n",
    "- `publisher` — название издательства;\n",
    "\n",
    "**Таблица `ratings`**\n",
    "\n",
    "Содержит данные о пользовательских оценках книг:\n",
    "\n",
    "- `rating_id` — идентификатор оценки;\n",
    "- `book_id` — идентификатор книги;\n",
    "- `username` — имя пользователя, оставившего оценку;\n",
    "- `rating` — оценка книги.\n",
    "\n",
    "**Таблица `reviews`**\n",
    "\n",
    "Содержит данные о пользовательских обзорах на книги:\n",
    "\n",
    "- `review_id` — идентификатор обзора;\n",
    "- `book_id` — идентификатор книги;\n",
    "- `username` — имя пользователя, написавшего обзор;\n",
    "- `text` — текст обзора."
   ]
  },
  {
   "cell_type": "markdown",
   "metadata": {},
   "source": [
    "<img src = 'https://concrete-web-bad.notion.site/image/https%3A%2F%2Fs3-us-west-2.amazonaws.com%2Fsecure.notion-static.com%2F069818d1-0e5c-4d87-a461-0de584ab9c33%2FUntitled_(33).png?table=block&id=bd53c8db-b4fd-49eb-8cc9-572ebb3c9163&spaceId=9e4bd47b-c6e6-4ca3-bcee-279794b47315&width=1640&userId=&cache=v2'>"
   ]
  },
  {
   "cell_type": "markdown",
   "metadata": {},
   "source": [
    "***Постановка задачи:***\n",
    "\n",
    "- Небходимо посчитать, сколько книг вышло после 1 января 2000 года;\n",
    "- Для каждой книги посчитать количество обзоров и среднюю оценку;\n",
    "- Определитть издательство, которое выпустило наибольшее число книг толще 50 страниц — таким образом исключить из анализа брошюры;\n",
    "- Определить автора с самой высокой средней оценкой книг — учитывая только книги с 50 и более оценками;\n",
    "- Посчитайть среднее количество обзоров от пользователей, которые поставили больше 50 оценок."
   ]
  },
  {
   "cell_type": "markdown",
   "metadata": {},
   "source": [
    "## Загрузим и ознакомимся с данными"
   ]
  },
  {
   "cell_type": "code",
   "execution_count": 1,
   "metadata": {},
   "outputs": [],
   "source": [
    "# импортируем библиотеки\n",
    "import pandas as pd\n",
    "from sqlalchemy import create_engine"
   ]
  },
  {
   "cell_type": "markdown",
   "metadata": {},
   "source": [
    "### Подключимся к базе и загрузим данные"
   ]
  },
  {
   "cell_type": "code",
   "execution_count": 2,
   "metadata": {},
   "outputs": [],
   "source": [
    "#Подключимся к базе и загрузим данные\n",
    "# устанавливаем параметры\n",
    "db_config = {'user': 'praktikum_student', # имя пользователя\n",
    "'pwd': 'Sdf4$2;d-d30pp', # пароль\n",
    "'host': 'rc1b-wcoijxj3yxfsf3fs.mdb.yandexcloud.net',\n",
    "'port': 6432, # порт подключения\n",
    "'db': 'data-analyst-final-project-db'} # название базы данных\n",
    "connection_string = 'postgresql://{}:{}@{}:{}/{}'.format(db_config['user'], db_config['pwd'], db_config['host'], db_config['port'],\n",
    "db_config['db']) \n",
    "engine = create_engine(connection_string, connect_args={'sslmode':'require'})"
   ]
  },
  {
   "cell_type": "markdown",
   "metadata": {},
   "source": [
    "### Ознакомимся с данными"
   ]
  },
  {
   "cell_type": "code",
   "execution_count": 3,
   "metadata": {
    "scrolled": true
   },
   "outputs": [
    {
     "data": {
      "text/html": [
       "<div>\n",
       "<style scoped>\n",
       "    .dataframe tbody tr th:only-of-type {\n",
       "        vertical-align: middle;\n",
       "    }\n",
       "\n",
       "    .dataframe tbody tr th {\n",
       "        vertical-align: top;\n",
       "    }\n",
       "\n",
       "    .dataframe thead th {\n",
       "        text-align: right;\n",
       "    }\n",
       "</style>\n",
       "<table border=\"1\" class=\"dataframe\">\n",
       "  <thead>\n",
       "    <tr style=\"text-align: right;\">\n",
       "      <th></th>\n",
       "      <th>book_id</th>\n",
       "      <th>author_id</th>\n",
       "      <th>title</th>\n",
       "      <th>num_pages</th>\n",
       "      <th>publication_date</th>\n",
       "      <th>publisher_id</th>\n",
       "    </tr>\n",
       "  </thead>\n",
       "  <tbody>\n",
       "    <tr>\n",
       "      <th>0</th>\n",
       "      <td>1</td>\n",
       "      <td>546</td>\n",
       "      <td>'Salem's Lot</td>\n",
       "      <td>594</td>\n",
       "      <td>2005-11-01</td>\n",
       "      <td>93</td>\n",
       "    </tr>\n",
       "    <tr>\n",
       "      <th>1</th>\n",
       "      <td>2</td>\n",
       "      <td>465</td>\n",
       "      <td>1 000 Places to See Before You Die</td>\n",
       "      <td>992</td>\n",
       "      <td>2003-05-22</td>\n",
       "      <td>336</td>\n",
       "    </tr>\n",
       "    <tr>\n",
       "      <th>2</th>\n",
       "      <td>3</td>\n",
       "      <td>407</td>\n",
       "      <td>13 Little Blue Envelopes (Little Blue Envelope...</td>\n",
       "      <td>322</td>\n",
       "      <td>2010-12-21</td>\n",
       "      <td>135</td>\n",
       "    </tr>\n",
       "    <tr>\n",
       "      <th>3</th>\n",
       "      <td>4</td>\n",
       "      <td>82</td>\n",
       "      <td>1491: New Revelations of the Americas Before C...</td>\n",
       "      <td>541</td>\n",
       "      <td>2006-10-10</td>\n",
       "      <td>309</td>\n",
       "    </tr>\n",
       "    <tr>\n",
       "      <th>4</th>\n",
       "      <td>5</td>\n",
       "      <td>125</td>\n",
       "      <td>1776</td>\n",
       "      <td>386</td>\n",
       "      <td>2006-07-04</td>\n",
       "      <td>268</td>\n",
       "    </tr>\n",
       "  </tbody>\n",
       "</table>\n",
       "</div>"
      ],
      "text/plain": [
       "   book_id  author_id                                              title  \\\n",
       "0        1        546                                       'Salem's Lot   \n",
       "1        2        465                 1 000 Places to See Before You Die   \n",
       "2        3        407  13 Little Blue Envelopes (Little Blue Envelope...   \n",
       "3        4         82  1491: New Revelations of the Americas Before C...   \n",
       "4        5        125                                               1776   \n",
       "\n",
       "   num_pages publication_date  publisher_id  \n",
       "0        594       2005-11-01            93  \n",
       "1        992       2003-05-22           336  \n",
       "2        322       2010-12-21           135  \n",
       "3        541       2006-10-10           309  \n",
       "4        386       2006-07-04           268  "
      ]
     },
     "metadata": {},
     "output_type": "display_data"
    },
    {
     "data": {
      "text/html": [
       "<div>\n",
       "<style scoped>\n",
       "    .dataframe tbody tr th:only-of-type {\n",
       "        vertical-align: middle;\n",
       "    }\n",
       "\n",
       "    .dataframe tbody tr th {\n",
       "        vertical-align: top;\n",
       "    }\n",
       "\n",
       "    .dataframe thead th {\n",
       "        text-align: right;\n",
       "    }\n",
       "</style>\n",
       "<table border=\"1\" class=\"dataframe\">\n",
       "  <thead>\n",
       "    <tr style=\"text-align: right;\">\n",
       "      <th></th>\n",
       "      <th>author_id</th>\n",
       "      <th>author</th>\n",
       "    </tr>\n",
       "  </thead>\n",
       "  <tbody>\n",
       "    <tr>\n",
       "      <th>0</th>\n",
       "      <td>1</td>\n",
       "      <td>A.S. Byatt</td>\n",
       "    </tr>\n",
       "    <tr>\n",
       "      <th>1</th>\n",
       "      <td>2</td>\n",
       "      <td>Aesop/Laura Harris/Laura Gibbs</td>\n",
       "    </tr>\n",
       "    <tr>\n",
       "      <th>2</th>\n",
       "      <td>3</td>\n",
       "      <td>Agatha Christie</td>\n",
       "    </tr>\n",
       "    <tr>\n",
       "      <th>3</th>\n",
       "      <td>4</td>\n",
       "      <td>Alan Brennert</td>\n",
       "    </tr>\n",
       "    <tr>\n",
       "      <th>4</th>\n",
       "      <td>5</td>\n",
       "      <td>Alan Moore/David   Lloyd</td>\n",
       "    </tr>\n",
       "  </tbody>\n",
       "</table>\n",
       "</div>"
      ],
      "text/plain": [
       "   author_id                          author\n",
       "0          1                      A.S. Byatt\n",
       "1          2  Aesop/Laura Harris/Laura Gibbs\n",
       "2          3                 Agatha Christie\n",
       "3          4                   Alan Brennert\n",
       "4          5        Alan Moore/David   Lloyd"
      ]
     },
     "metadata": {},
     "output_type": "display_data"
    },
    {
     "data": {
      "text/html": [
       "<div>\n",
       "<style scoped>\n",
       "    .dataframe tbody tr th:only-of-type {\n",
       "        vertical-align: middle;\n",
       "    }\n",
       "\n",
       "    .dataframe tbody tr th {\n",
       "        vertical-align: top;\n",
       "    }\n",
       "\n",
       "    .dataframe thead th {\n",
       "        text-align: right;\n",
       "    }\n",
       "</style>\n",
       "<table border=\"1\" class=\"dataframe\">\n",
       "  <thead>\n",
       "    <tr style=\"text-align: right;\">\n",
       "      <th></th>\n",
       "      <th>publisher_id</th>\n",
       "      <th>publisher</th>\n",
       "    </tr>\n",
       "  </thead>\n",
       "  <tbody>\n",
       "    <tr>\n",
       "      <th>0</th>\n",
       "      <td>1</td>\n",
       "      <td>Ace</td>\n",
       "    </tr>\n",
       "    <tr>\n",
       "      <th>1</th>\n",
       "      <td>2</td>\n",
       "      <td>Ace Book</td>\n",
       "    </tr>\n",
       "    <tr>\n",
       "      <th>2</th>\n",
       "      <td>3</td>\n",
       "      <td>Ace Books</td>\n",
       "    </tr>\n",
       "    <tr>\n",
       "      <th>3</th>\n",
       "      <td>4</td>\n",
       "      <td>Ace Hardcover</td>\n",
       "    </tr>\n",
       "    <tr>\n",
       "      <th>4</th>\n",
       "      <td>5</td>\n",
       "      <td>Addison Wesley Publishing Company</td>\n",
       "    </tr>\n",
       "  </tbody>\n",
       "</table>\n",
       "</div>"
      ],
      "text/plain": [
       "   publisher_id                          publisher\n",
       "0             1                                Ace\n",
       "1             2                           Ace Book\n",
       "2             3                          Ace Books\n",
       "3             4                      Ace Hardcover\n",
       "4             5  Addison Wesley Publishing Company"
      ]
     },
     "metadata": {},
     "output_type": "display_data"
    },
    {
     "data": {
      "text/html": [
       "<div>\n",
       "<style scoped>\n",
       "    .dataframe tbody tr th:only-of-type {\n",
       "        vertical-align: middle;\n",
       "    }\n",
       "\n",
       "    .dataframe tbody tr th {\n",
       "        vertical-align: top;\n",
       "    }\n",
       "\n",
       "    .dataframe thead th {\n",
       "        text-align: right;\n",
       "    }\n",
       "</style>\n",
       "<table border=\"1\" class=\"dataframe\">\n",
       "  <thead>\n",
       "    <tr style=\"text-align: right;\">\n",
       "      <th></th>\n",
       "      <th>rating_id</th>\n",
       "      <th>book_id</th>\n",
       "      <th>username</th>\n",
       "      <th>rating</th>\n",
       "    </tr>\n",
       "  </thead>\n",
       "  <tbody>\n",
       "    <tr>\n",
       "      <th>0</th>\n",
       "      <td>1</td>\n",
       "      <td>1</td>\n",
       "      <td>ryanfranco</td>\n",
       "      <td>4</td>\n",
       "    </tr>\n",
       "    <tr>\n",
       "      <th>1</th>\n",
       "      <td>2</td>\n",
       "      <td>1</td>\n",
       "      <td>grantpatricia</td>\n",
       "      <td>2</td>\n",
       "    </tr>\n",
       "    <tr>\n",
       "      <th>2</th>\n",
       "      <td>3</td>\n",
       "      <td>1</td>\n",
       "      <td>brandtandrea</td>\n",
       "      <td>5</td>\n",
       "    </tr>\n",
       "    <tr>\n",
       "      <th>3</th>\n",
       "      <td>4</td>\n",
       "      <td>2</td>\n",
       "      <td>lorichen</td>\n",
       "      <td>3</td>\n",
       "    </tr>\n",
       "    <tr>\n",
       "      <th>4</th>\n",
       "      <td>5</td>\n",
       "      <td>2</td>\n",
       "      <td>mariokeller</td>\n",
       "      <td>2</td>\n",
       "    </tr>\n",
       "  </tbody>\n",
       "</table>\n",
       "</div>"
      ],
      "text/plain": [
       "   rating_id  book_id       username  rating\n",
       "0          1        1     ryanfranco       4\n",
       "1          2        1  grantpatricia       2\n",
       "2          3        1   brandtandrea       5\n",
       "3          4        2       lorichen       3\n",
       "4          5        2    mariokeller       2"
      ]
     },
     "metadata": {},
     "output_type": "display_data"
    },
    {
     "data": {
      "text/html": [
       "<div>\n",
       "<style scoped>\n",
       "    .dataframe tbody tr th:only-of-type {\n",
       "        vertical-align: middle;\n",
       "    }\n",
       "\n",
       "    .dataframe tbody tr th {\n",
       "        vertical-align: top;\n",
       "    }\n",
       "\n",
       "    .dataframe thead th {\n",
       "        text-align: right;\n",
       "    }\n",
       "</style>\n",
       "<table border=\"1\" class=\"dataframe\">\n",
       "  <thead>\n",
       "    <tr style=\"text-align: right;\">\n",
       "      <th></th>\n",
       "      <th>review_id</th>\n",
       "      <th>book_id</th>\n",
       "      <th>username</th>\n",
       "      <th>text</th>\n",
       "    </tr>\n",
       "  </thead>\n",
       "  <tbody>\n",
       "    <tr>\n",
       "      <th>0</th>\n",
       "      <td>1</td>\n",
       "      <td>1</td>\n",
       "      <td>brandtandrea</td>\n",
       "      <td>Mention society tell send professor analysis. ...</td>\n",
       "    </tr>\n",
       "    <tr>\n",
       "      <th>1</th>\n",
       "      <td>2</td>\n",
       "      <td>1</td>\n",
       "      <td>ryanfranco</td>\n",
       "      <td>Foot glass pretty audience hit themselves. Amo...</td>\n",
       "    </tr>\n",
       "    <tr>\n",
       "      <th>2</th>\n",
       "      <td>3</td>\n",
       "      <td>2</td>\n",
       "      <td>lorichen</td>\n",
       "      <td>Listen treat keep worry. Miss husband tax but ...</td>\n",
       "    </tr>\n",
       "    <tr>\n",
       "      <th>3</th>\n",
       "      <td>4</td>\n",
       "      <td>3</td>\n",
       "      <td>johnsonamanda</td>\n",
       "      <td>Finally month interesting blue could nature cu...</td>\n",
       "    </tr>\n",
       "    <tr>\n",
       "      <th>4</th>\n",
       "      <td>5</td>\n",
       "      <td>3</td>\n",
       "      <td>scotttamara</td>\n",
       "      <td>Nation purpose heavy give wait song will. List...</td>\n",
       "    </tr>\n",
       "  </tbody>\n",
       "</table>\n",
       "</div>"
      ],
      "text/plain": [
       "   review_id  book_id       username  \\\n",
       "0          1        1   brandtandrea   \n",
       "1          2        1     ryanfranco   \n",
       "2          3        2       lorichen   \n",
       "3          4        3  johnsonamanda   \n",
       "4          5        3    scotttamara   \n",
       "\n",
       "                                                text  \n",
       "0  Mention society tell send professor analysis. ...  \n",
       "1  Foot glass pretty audience hit themselves. Amo...  \n",
       "2  Listen treat keep worry. Miss husband tax but ...  \n",
       "3  Finally month interesting blue could nature cu...  \n",
       "4  Nation purpose heavy give wait song will. List...  "
      ]
     },
     "metadata": {},
     "output_type": "display_data"
    }
   ],
   "source": [
    "for table in ['books', 'authors', 'publishers', 'ratings', 'reviews']:\n",
    "    query = ''' SELECT* \n",
    "                FROM {}\n",
    "            '''.format(table) \n",
    "    request = pd.io.sql.read_sql(query, con = engine) \n",
    "    display(request.head())"
   ]
  },
  {
   "cell_type": "markdown",
   "metadata": {},
   "source": [
    "## Посчитаем, сколько книг вышло после 1 января 2000 года"
   ]
  },
  {
   "cell_type": "code",
   "execution_count": 4,
   "metadata": {},
   "outputs": [
    {
     "data": {
      "text/html": [
       "<div>\n",
       "<style scoped>\n",
       "    .dataframe tbody tr th:only-of-type {\n",
       "        vertical-align: middle;\n",
       "    }\n",
       "\n",
       "    .dataframe tbody tr th {\n",
       "        vertical-align: top;\n",
       "    }\n",
       "\n",
       "    .dataframe thead th {\n",
       "        text-align: right;\n",
       "    }\n",
       "</style>\n",
       "<table border=\"1\" class=\"dataframe\">\n",
       "  <thead>\n",
       "    <tr style=\"text-align: right;\">\n",
       "      <th></th>\n",
       "      <th>count</th>\n",
       "    </tr>\n",
       "  </thead>\n",
       "  <tbody>\n",
       "    <tr>\n",
       "      <th>0</th>\n",
       "      <td>819</td>\n",
       "    </tr>\n",
       "  </tbody>\n",
       "</table>\n",
       "</div>"
      ],
      "text/plain": [
       "   count\n",
       "0    819"
      ]
     },
     "execution_count": 4,
     "metadata": {},
     "output_type": "execute_result"
    }
   ],
   "source": [
    "query = ''' SELECT COUNT(book_id) \n",
    "            FROM books\n",
    "            WHERE CAST(publication_date AS date) > '2000-01-01'\n",
    "            '''.format(table) \n",
    "books_2000 = pd.io.sql.read_sql(query, con = engine)\n",
    "books_2000"
   ]
  },
  {
   "cell_type": "markdown",
   "metadata": {},
   "source": [
    "## Для каждой книги посчитаем количество обзоров и среднюю оценку"
   ]
  },
  {
   "cell_type": "code",
   "execution_count": 6,
   "metadata": {},
   "outputs": [
    {
     "data": {
      "text/html": [
       "<div>\n",
       "<style scoped>\n",
       "    .dataframe tbody tr th:only-of-type {\n",
       "        vertical-align: middle;\n",
       "    }\n",
       "\n",
       "    .dataframe tbody tr th {\n",
       "        vertical-align: top;\n",
       "    }\n",
       "\n",
       "    .dataframe thead th {\n",
       "        text-align: right;\n",
       "    }\n",
       "</style>\n",
       "<table border=\"1\" class=\"dataframe\">\n",
       "  <thead>\n",
       "    <tr style=\"text-align: right;\">\n",
       "      <th></th>\n",
       "      <th>book</th>\n",
       "      <th>author</th>\n",
       "      <th>titleb</th>\n",
       "      <th>average_rating</th>\n",
       "      <th>reviews_number</th>\n",
       "    </tr>\n",
       "  </thead>\n",
       "  <tbody>\n",
       "    <tr>\n",
       "      <th>0</th>\n",
       "      <td>86</td>\n",
       "      <td>411</td>\n",
       "      <td>Arrows of the Queen (Heralds of Valdemar  #1)</td>\n",
       "      <td>5.00</td>\n",
       "      <td>2</td>\n",
       "    </tr>\n",
       "    <tr>\n",
       "      <th>1</th>\n",
       "      <td>901</td>\n",
       "      <td>506</td>\n",
       "      <td>The Walking Dead  Book One (The Walking Dead #...</td>\n",
       "      <td>5.00</td>\n",
       "      <td>2</td>\n",
       "    </tr>\n",
       "    <tr>\n",
       "      <th>2</th>\n",
       "      <td>390</td>\n",
       "      <td>618</td>\n",
       "      <td>Light in August</td>\n",
       "      <td>5.00</td>\n",
       "      <td>2</td>\n",
       "    </tr>\n",
       "    <tr>\n",
       "      <th>3</th>\n",
       "      <td>972</td>\n",
       "      <td>313</td>\n",
       "      <td>Wherever You Go  There You Are: Mindfulness Me...</td>\n",
       "      <td>5.00</td>\n",
       "      <td>2</td>\n",
       "    </tr>\n",
       "    <tr>\n",
       "      <th>4</th>\n",
       "      <td>136</td>\n",
       "      <td>299</td>\n",
       "      <td>Captivating: Unveiling the Mystery of a Woman'...</td>\n",
       "      <td>5.00</td>\n",
       "      <td>2</td>\n",
       "    </tr>\n",
       "    <tr>\n",
       "      <th>...</th>\n",
       "      <td>...</td>\n",
       "      <td>...</td>\n",
       "      <td>...</td>\n",
       "      <td>...</td>\n",
       "      <td>...</td>\n",
       "    </tr>\n",
       "    <tr>\n",
       "      <th>995</th>\n",
       "      <td>915</td>\n",
       "      <td>580</td>\n",
       "      <td>The World Is Flat: A Brief History of the Twen...</td>\n",
       "      <td>2.25</td>\n",
       "      <td>3</td>\n",
       "    </tr>\n",
       "    <tr>\n",
       "      <th>996</th>\n",
       "      <td>316</td>\n",
       "      <td>321</td>\n",
       "      <td>His Excellency: George Washington</td>\n",
       "      <td>2.00</td>\n",
       "      <td>2</td>\n",
       "    </tr>\n",
       "    <tr>\n",
       "      <th>997</th>\n",
       "      <td>202</td>\n",
       "      <td>91</td>\n",
       "      <td>Drowning Ruth</td>\n",
       "      <td>2.00</td>\n",
       "      <td>3</td>\n",
       "    </tr>\n",
       "    <tr>\n",
       "      <th>998</th>\n",
       "      <td>371</td>\n",
       "      <td>625</td>\n",
       "      <td>Junky</td>\n",
       "      <td>2.00</td>\n",
       "      <td>2</td>\n",
       "    </tr>\n",
       "    <tr>\n",
       "      <th>999</th>\n",
       "      <td>303</td>\n",
       "      <td>291</td>\n",
       "      <td>Harvesting the Heart</td>\n",
       "      <td>1.50</td>\n",
       "      <td>2</td>\n",
       "    </tr>\n",
       "  </tbody>\n",
       "</table>\n",
       "<p>1000 rows × 5 columns</p>\n",
       "</div>"
      ],
      "text/plain": [
       "     book  author                                             titleb  \\\n",
       "0      86     411      Arrows of the Queen (Heralds of Valdemar  #1)   \n",
       "1     901     506  The Walking Dead  Book One (The Walking Dead #...   \n",
       "2     390     618                                    Light in August   \n",
       "3     972     313  Wherever You Go  There You Are: Mindfulness Me...   \n",
       "4     136     299  Captivating: Unveiling the Mystery of a Woman'...   \n",
       "..    ...     ...                                                ...   \n",
       "995   915     580  The World Is Flat: A Brief History of the Twen...   \n",
       "996   316     321                  His Excellency: George Washington   \n",
       "997   202      91                                      Drowning Ruth   \n",
       "998   371     625                                              Junky   \n",
       "999   303     291                               Harvesting the Heart   \n",
       "\n",
       "     average_rating  reviews_number  \n",
       "0              5.00               2  \n",
       "1              5.00               2  \n",
       "2              5.00               2  \n",
       "3              5.00               2  \n",
       "4              5.00               2  \n",
       "..              ...             ...  \n",
       "995            2.25               3  \n",
       "996            2.00               2  \n",
       "997            2.00               3  \n",
       "998            2.00               2  \n",
       "999            1.50               2  \n",
       "\n",
       "[1000 rows x 5 columns]"
      ]
     },
     "execution_count": 6,
     "metadata": {},
     "output_type": "execute_result"
    }
   ],
   "source": [
    "query = ''' WITH\n",
    "            rat AS\n",
    "            (SELECT b.book_id AS book,\n",
    "                   ROUND(AVG(rat.rating),2) AS average_rating\n",
    "            FROM books AS b\n",
    "            LEFT OUTER JOIN ratings AS rat ON b.book_id = rat.book_id\n",
    "            GROUP BY b.book_id),\n",
    "            rev AS \n",
    "            (SELECT b.book_id AS book,\n",
    "                   b.author_id AS author,\n",
    "                   b.title AS titleb,\n",
    "                   COUNT(rev.review_id) reviews_number\n",
    "            FROM books AS b\n",
    "            LEFT OUTER JOIN reviews AS rev ON b.book_id = rev.book_id\n",
    "            GROUP BY b.book_id, b.author_id, b.title\n",
    "            ORDER BY reviews_number DESC)\n",
    "            \n",
    "            SELECT rev.book,\n",
    "                   rev.author,\n",
    "                   rev.titleb,\n",
    "                   rat.average_rating,\n",
    "                   rev.reviews_number\n",
    "            FROM rev INNER JOIN rat ON rev.book = rat.book\n",
    "            ORDER BY rat.average_rating DESC\n",
    "            '''.format(table) \n",
    "reviews_and_rating = pd.io.sql.read_sql(query, con = engine)\n",
    "reviews_and_rating"
   ]
  },
  {
   "cell_type": "code",
   "execution_count": 7,
   "metadata": {},
   "outputs": [
    {
     "data": {
      "text/plain": [
       "2793"
      ]
     },
     "execution_count": 7,
     "metadata": {},
     "output_type": "execute_result"
    }
   ],
   "source": [
    "reviews_and_rating['reviews_number'].sum()"
   ]
  },
  {
   "cell_type": "markdown",
   "metadata": {},
   "source": [
    "## Определим издательство, которое выпустило наибольшее число книг толще 50 страниц\n",
    "Так мы исключим из анализа брошюры"
   ]
  },
  {
   "cell_type": "code",
   "execution_count": 8,
   "metadata": {},
   "outputs": [
    {
     "data": {
      "text/html": [
       "<div>\n",
       "<style scoped>\n",
       "    .dataframe tbody tr th:only-of-type {\n",
       "        vertical-align: middle;\n",
       "    }\n",
       "\n",
       "    .dataframe tbody tr th {\n",
       "        vertical-align: top;\n",
       "    }\n",
       "\n",
       "    .dataframe thead th {\n",
       "        text-align: right;\n",
       "    }\n",
       "</style>\n",
       "<table border=\"1\" class=\"dataframe\">\n",
       "  <thead>\n",
       "    <tr style=\"text-align: right;\">\n",
       "      <th></th>\n",
       "      <th>publisher_id</th>\n",
       "      <th>publisher</th>\n",
       "      <th>nuber_of_books</th>\n",
       "    </tr>\n",
       "  </thead>\n",
       "  <tbody>\n",
       "    <tr>\n",
       "      <th>0</th>\n",
       "      <td>212</td>\n",
       "      <td>Penguin Books</td>\n",
       "      <td>42</td>\n",
       "    </tr>\n",
       "  </tbody>\n",
       "</table>\n",
       "</div>"
      ],
      "text/plain": [
       "   publisher_id      publisher  nuber_of_books\n",
       "0           212  Penguin Books              42"
      ]
     },
     "execution_count": 8,
     "metadata": {},
     "output_type": "execute_result"
    }
   ],
   "source": [
    "query = ''' SELECT p.publisher_id,\n",
    "                   p.publisher,\n",
    "                   COUNT(b.book_id) nuber_of_books\n",
    "            FROM publishers AS p\n",
    "            INNER JOIN books AS b ON p.publisher_id = b.publisher_id\n",
    "            WHERE b.num_pages > 50\n",
    "            GROUP BY p.publisher_id\n",
    "            ORDER BY COUNT(b.book_id) DESC\n",
    "            LIMIT 1\n",
    "            '''.format(table) \n",
    "big_publisher = pd.io.sql.read_sql(query, con = engine)\n",
    "big_publisher"
   ]
  },
  {
   "cell_type": "markdown",
   "metadata": {},
   "source": [
    "## Определим автора с самой высокой средней оценкой книг\n",
    "Учем только книги с 50 и более оценками"
   ]
  },
  {
   "cell_type": "code",
   "execution_count": 9,
   "metadata": {},
   "outputs": [
    {
     "data": {
      "text/html": [
       "<div>\n",
       "<style scoped>\n",
       "    .dataframe tbody tr th:only-of-type {\n",
       "        vertical-align: middle;\n",
       "    }\n",
       "\n",
       "    .dataframe tbody tr th {\n",
       "        vertical-align: top;\n",
       "    }\n",
       "\n",
       "    .dataframe thead th {\n",
       "        text-align: right;\n",
       "    }\n",
       "</style>\n",
       "<table border=\"1\" class=\"dataframe\">\n",
       "  <thead>\n",
       "    <tr style=\"text-align: right;\">\n",
       "      <th></th>\n",
       "      <th>author_id</th>\n",
       "      <th>author</th>\n",
       "      <th>average_rating</th>\n",
       "    </tr>\n",
       "  </thead>\n",
       "  <tbody>\n",
       "    <tr>\n",
       "      <th>0</th>\n",
       "      <td>236</td>\n",
       "      <td>J.K. Rowling/Mary GrandPré</td>\n",
       "      <td>4.29</td>\n",
       "    </tr>\n",
       "  </tbody>\n",
       "</table>\n",
       "</div>"
      ],
      "text/plain": [
       "   author_id                      author  average_rating\n",
       "0        236  J.K. Rowling/Mary GrandPré            4.29"
      ]
     },
     "execution_count": 9,
     "metadata": {},
     "output_type": "execute_result"
    }
   ],
   "source": [
    "query = ''' SELECT a.author_id,\n",
    "                   a.author,\n",
    "                   ROUND(AVG(rat.rating), 2) average_rating\n",
    "            FROM authors AS a\n",
    "            INNER JOIN books AS b ON a.author_id = b.author_id\n",
    "            INNER JOIN ratings AS rat ON b.book_id = rat.book_id\n",
    "            WHERE rat.book_id IN (SELECT book_id\n",
    "                               FROM ratings\n",
    "                               GROUP BY book_id\n",
    "                               HAVING COUNT(rating_id) > 50\n",
    "                               )\n",
    "            GROUP BY a.author_id\n",
    "            ORDER BY average_rating DESC\n",
    "            LIMIT 1\n",
    "            '''.format(table) \n",
    "rating_author = pd.io.sql.read_sql(query, con = engine)\n",
    "rating_author"
   ]
  },
  {
   "cell_type": "markdown",
   "metadata": {},
   "source": [
    "## Посчитаем среднее количество обзоров от пользователей, которые поставили больше 50 оценок."
   ]
  },
  {
   "cell_type": "code",
   "execution_count": 10,
   "metadata": {},
   "outputs": [
    {
     "data": {
      "text/html": [
       "<div>\n",
       "<style scoped>\n",
       "    .dataframe tbody tr th:only-of-type {\n",
       "        vertical-align: middle;\n",
       "    }\n",
       "\n",
       "    .dataframe tbody tr th {\n",
       "        vertical-align: top;\n",
       "    }\n",
       "\n",
       "    .dataframe thead th {\n",
       "        text-align: right;\n",
       "    }\n",
       "</style>\n",
       "<table border=\"1\" class=\"dataframe\">\n",
       "  <thead>\n",
       "    <tr style=\"text-align: right;\">\n",
       "      <th></th>\n",
       "      <th>avg_number_of_reviews</th>\n",
       "    </tr>\n",
       "  </thead>\n",
       "  <tbody>\n",
       "    <tr>\n",
       "      <th>0</th>\n",
       "      <td>24.33</td>\n",
       "    </tr>\n",
       "  </tbody>\n",
       "</table>\n",
       "</div>"
      ],
      "text/plain": [
       "   avg_number_of_reviews\n",
       "0                  24.33"
      ]
     },
     "execution_count": 10,
     "metadata": {},
     "output_type": "execute_result"
    }
   ],
   "source": [
    "query = ''' SELECT ROUND(AVG(active_users.count_reviews), 2) avg_number_of_reviews\n",
    "            FROM (SELECT username,\n",
    "                   COUNT(reviews) count_reviews\n",
    "                  FROM reviews\n",
    "                  WHERE username IN (SELECT username\n",
    "                                     FROM ratings\n",
    "                                     GROUP BY username\n",
    "                                     HAVING COUNT(rating_id) > 50\n",
    "                                     )\n",
    "                  GROUP BY username\n",
    "                  ) AS active_users\n",
    "            '''.format(table) \n",
    "avg_number_of_reviews = pd.io.sql.read_sql(query, con = engine)\n",
    "avg_number_of_reviews"
   ]
  }
 ],
 "metadata": {
  "ExecuteTimeLog": [
   {
    "duration": 524,
    "start_time": "2022-06-04T17:33:50.517Z"
   },
   {
    "duration": 3075,
    "start_time": "2022-06-04T17:34:56.221Z"
   },
   {
    "duration": 128,
    "start_time": "2022-06-04T17:35:49.038Z"
   },
   {
    "duration": 25,
    "start_time": "2022-06-04T17:37:14.901Z"
   },
   {
    "duration": 73,
    "start_time": "2022-06-04T17:37:37.113Z"
   },
   {
    "duration": 13,
    "start_time": "2022-06-04T17:38:15.639Z"
   },
   {
    "duration": 26,
    "start_time": "2022-06-04T17:38:31.831Z"
   },
   {
    "duration": 14,
    "start_time": "2022-06-04T17:38:51.966Z"
   },
   {
    "duration": 503,
    "start_time": "2022-06-05T07:18:18.942Z"
   },
   {
    "duration": 42,
    "start_time": "2022-06-05T07:18:19.447Z"
   },
   {
    "duration": 545,
    "start_time": "2022-06-05T07:18:19.490Z"
   },
   {
    "duration": 65,
    "start_time": "2022-06-05T07:18:20.037Z"
   },
   {
    "duration": 132,
    "start_time": "2022-06-05T07:18:20.104Z"
   },
   {
    "duration": 67,
    "start_time": "2022-06-05T07:18:20.237Z"
   },
   {
    "duration": 70,
    "start_time": "2022-06-05T07:18:20.306Z"
   },
   {
    "duration": 68,
    "start_time": "2022-06-05T07:18:20.378Z"
   },
   {
    "duration": 53,
    "start_time": "2022-06-05T08:05:06.932Z"
   },
   {
    "duration": 517,
    "start_time": "2022-06-05T09:26:55.287Z"
   },
   {
    "duration": 42,
    "start_time": "2022-06-05T09:26:55.806Z"
   },
   {
    "duration": 118,
    "start_time": "2022-06-05T09:26:55.850Z"
   },
   {
    "duration": 10,
    "start_time": "2022-06-05T09:26:55.970Z"
   },
   {
    "duration": 73,
    "start_time": "2022-06-05T09:26:55.982Z"
   },
   {
    "duration": 12,
    "start_time": "2022-06-05T09:26:56.056Z"
   },
   {
    "duration": 14,
    "start_time": "2022-06-05T09:26:56.069Z"
   },
   {
    "duration": 13,
    "start_time": "2022-06-05T09:26:56.084Z"
   },
   {
    "duration": 15,
    "start_time": "2022-06-05T09:34:22.558Z"
   },
   {
    "duration": 17,
    "start_time": "2022-06-05T09:34:54.376Z"
   },
   {
    "duration": 27,
    "start_time": "2022-06-05T09:39:46.987Z"
   },
   {
    "duration": 29,
    "start_time": "2022-06-05T09:49:56.781Z"
   },
   {
    "duration": 30,
    "start_time": "2022-06-05T09:50:03.376Z"
   },
   {
    "duration": 35,
    "start_time": "2022-06-05T09:50:41.526Z"
   },
   {
    "duration": 569,
    "start_time": "2022-06-05T09:55:12.352Z"
   },
   {
    "duration": 64,
    "start_time": "2022-06-05T09:55:12.923Z"
   },
   {
    "duration": 182,
    "start_time": "2022-06-05T09:55:12.989Z"
   },
   {
    "duration": 11,
    "start_time": "2022-06-05T09:55:13.173Z"
   },
   {
    "duration": 87,
    "start_time": "2022-06-05T09:55:13.187Z"
   },
   {
    "duration": 13,
    "start_time": "2022-06-05T09:55:13.276Z"
   },
   {
    "duration": 29,
    "start_time": "2022-06-05T09:55:13.291Z"
   },
   {
    "duration": 22,
    "start_time": "2022-06-05T09:55:13.322Z"
   },
   {
    "duration": 41,
    "start_time": "2022-06-05T09:56:12.589Z"
   },
   {
    "duration": 29,
    "start_time": "2022-06-05T09:56:40.375Z"
   },
   {
    "duration": 116,
    "start_time": "2022-06-05T09:56:59.505Z"
   },
   {
    "duration": 26,
    "start_time": "2022-06-05T10:00:09.685Z"
   },
   {
    "duration": 28,
    "start_time": "2022-06-05T10:00:22.514Z"
   },
   {
    "duration": 29,
    "start_time": "2022-06-05T10:00:30.384Z"
   },
   {
    "duration": 102,
    "start_time": "2022-06-05T10:19:24.282Z"
   },
   {
    "duration": 75,
    "start_time": "2022-06-05T10:33:33.978Z"
   },
   {
    "duration": 44,
    "start_time": "2022-06-05T10:33:41.660Z"
   },
   {
    "duration": 64,
    "start_time": "2022-06-05T10:33:54.739Z"
   },
   {
    "duration": 28,
    "start_time": "2022-06-05T10:34:12.222Z"
   },
   {
    "duration": 13,
    "start_time": "2022-06-05T10:35:19.578Z"
   },
   {
    "duration": 117,
    "start_time": "2022-06-05T10:36:24.238Z"
   },
   {
    "duration": 77,
    "start_time": "2022-06-05T10:36:32.612Z"
   },
   {
    "duration": 67,
    "start_time": "2022-06-05T10:37:11.027Z"
   },
   {
    "duration": 33,
    "start_time": "2022-06-05T10:37:32.516Z"
   },
   {
    "duration": 15,
    "start_time": "2022-06-05T10:39:02.686Z"
   },
   {
    "duration": 564,
    "start_time": "2022-06-05T17:13:58.825Z"
   },
   {
    "duration": 146,
    "start_time": "2022-06-05T17:13:59.392Z"
   },
   {
    "duration": 192,
    "start_time": "2022-06-05T17:13:59.540Z"
   },
   {
    "duration": 14,
    "start_time": "2022-06-05T17:13:59.734Z"
   },
   {
    "duration": 89,
    "start_time": "2022-06-05T17:13:59.750Z"
   },
   {
    "duration": 15,
    "start_time": "2022-06-05T17:13:59.841Z"
   },
   {
    "duration": 18,
    "start_time": "2022-06-05T17:13:59.858Z"
   },
   {
    "duration": 17,
    "start_time": "2022-06-05T17:13:59.878Z"
   },
   {
    "duration": 9,
    "start_time": "2022-06-05T17:14:58.490Z"
   },
   {
    "duration": 19,
    "start_time": "2022-06-05T17:16:11.496Z"
   },
   {
    "duration": 26,
    "start_time": "2022-06-05T17:16:14.678Z"
   },
   {
    "duration": 54,
    "start_time": "2022-06-05T18:07:31.016Z"
   },
   {
    "duration": 515,
    "start_time": "2022-06-05T18:07:36.396Z"
   },
   {
    "duration": 38,
    "start_time": "2022-06-05T18:07:36.913Z"
   },
   {
    "duration": 588,
    "start_time": "2022-06-05T18:07:36.952Z"
   },
   {
    "duration": 70,
    "start_time": "2022-06-05T18:07:37.542Z"
   },
   {
    "duration": 128,
    "start_time": "2022-06-05T18:07:37.613Z"
   },
   {
    "duration": 3,
    "start_time": "2022-06-05T18:07:37.743Z"
   },
   {
    "duration": 78,
    "start_time": "2022-06-05T18:07:37.747Z"
   },
   {
    "duration": 76,
    "start_time": "2022-06-05T18:07:37.826Z"
   },
   {
    "duration": 72,
    "start_time": "2022-06-05T18:07:37.904Z"
   },
   {
    "duration": 4,
    "start_time": "2022-06-05T18:07:52.215Z"
   },
   {
    "duration": 108,
    "start_time": "2022-06-05T18:09:57.673Z"
   },
   {
    "duration": 106,
    "start_time": "2022-06-05T18:12:30.844Z"
   },
   {
    "duration": 3,
    "start_time": "2022-06-05T18:12:34.919Z"
   },
   {
    "duration": 106,
    "start_time": "2022-06-05T18:14:45.012Z"
   },
   {
    "duration": 5,
    "start_time": "2022-06-05T18:14:48.112Z"
   },
   {
    "duration": 4,
    "start_time": "2022-06-05T18:20:37.669Z"
   },
   {
    "duration": 108,
    "start_time": "2022-06-05T18:24:17.128Z"
   },
   {
    "duration": 3,
    "start_time": "2022-06-05T18:24:23.041Z"
   },
   {
    "duration": 106,
    "start_time": "2022-06-05T18:24:35.082Z"
   },
   {
    "duration": 5,
    "start_time": "2022-06-05T18:24:41.066Z"
   },
   {
    "duration": 107,
    "start_time": "2022-06-05T18:24:58.453Z"
   },
   {
    "duration": 7,
    "start_time": "2022-06-05T18:25:05.546Z"
   },
   {
    "duration": 107,
    "start_time": "2022-06-05T18:25:17.474Z"
   },
   {
    "duration": 107,
    "start_time": "2022-06-05T18:25:25.009Z"
   },
   {
    "duration": 173,
    "start_time": "2022-06-05T18:27:04.286Z"
   },
   {
    "duration": 97,
    "start_time": "2022-06-05T18:27:20.267Z"
   },
   {
    "duration": 99,
    "start_time": "2022-06-05T18:27:33.843Z"
   },
   {
    "duration": 98,
    "start_time": "2022-06-05T18:27:51.378Z"
   },
   {
    "duration": 97,
    "start_time": "2022-06-05T18:28:11.914Z"
   },
   {
    "duration": 4,
    "start_time": "2022-06-05T18:28:36.990Z"
   },
   {
    "duration": 4,
    "start_time": "2022-06-05T18:28:42.079Z"
   },
   {
    "duration": 106,
    "start_time": "2022-06-05T18:29:57.363Z"
   },
   {
    "duration": 4,
    "start_time": "2022-06-05T18:30:52.066Z"
   },
   {
    "duration": 137,
    "start_time": "2022-06-05T18:35:06.122Z"
   },
   {
    "duration": 102,
    "start_time": "2022-06-05T18:35:30.972Z"
   },
   {
    "duration": 116,
    "start_time": "2022-06-05T18:35:53.946Z"
   },
   {
    "duration": 94,
    "start_time": "2022-06-05T18:36:18.944Z"
   },
   {
    "duration": 99,
    "start_time": "2022-06-05T18:37:47.840Z"
   },
   {
    "duration": 106,
    "start_time": "2022-06-05T18:39:14.052Z"
   },
   {
    "duration": 103,
    "start_time": "2022-06-05T18:39:19.467Z"
   },
   {
    "duration": 309,
    "start_time": "2022-06-05T18:40:01.909Z"
   },
   {
    "duration": 117,
    "start_time": "2022-06-05T18:41:41.533Z"
   },
   {
    "duration": 104,
    "start_time": "2022-06-05T18:41:52.365Z"
   },
   {
    "duration": 99,
    "start_time": "2022-06-05T18:42:58.878Z"
   },
   {
    "duration": 4,
    "start_time": "2022-06-05T18:43:23.649Z"
   },
   {
    "duration": 110,
    "start_time": "2022-06-05T18:45:41.181Z"
   },
   {
    "duration": 108,
    "start_time": "2022-06-05T18:45:49.234Z"
   },
   {
    "duration": 101,
    "start_time": "2022-06-05T18:52:11.018Z"
   },
   {
    "duration": 97,
    "start_time": "2022-06-05T18:52:42.005Z"
   },
   {
    "duration": 110,
    "start_time": "2022-06-05T18:54:27.175Z"
   },
   {
    "duration": 108,
    "start_time": "2022-06-05T18:55:16.853Z"
   },
   {
    "duration": 102,
    "start_time": "2022-06-05T18:55:24.962Z"
   },
   {
    "duration": 105,
    "start_time": "2022-06-05T18:55:46.244Z"
   },
   {
    "duration": 120,
    "start_time": "2022-06-05T18:57:20.945Z"
   },
   {
    "duration": 99,
    "start_time": "2022-06-05T18:57:42.184Z"
   },
   {
    "duration": 104,
    "start_time": "2022-06-05T18:58:05.967Z"
   },
   {
    "duration": 114,
    "start_time": "2022-06-05T18:58:13.690Z"
   },
   {
    "duration": 105,
    "start_time": "2022-06-05T19:04:39.240Z"
   },
   {
    "duration": 105,
    "start_time": "2022-06-05T19:04:52.121Z"
   },
   {
    "duration": 5,
    "start_time": "2022-06-05T19:05:12.859Z"
   },
   {
    "duration": 103,
    "start_time": "2022-06-05T19:05:38.787Z"
   },
   {
    "duration": 2,
    "start_time": "2022-06-05T19:06:25.736Z"
   },
   {
    "duration": 105,
    "start_time": "2022-06-05T19:06:49.681Z"
   },
   {
    "duration": 4,
    "start_time": "2022-06-05T19:06:53.280Z"
   },
   {
    "duration": 105,
    "start_time": "2022-06-05T19:09:15.655Z"
   },
   {
    "duration": 4,
    "start_time": "2022-06-05T19:09:18.614Z"
   },
   {
    "duration": 461,
    "start_time": "2022-06-06T11:48:22.049Z"
   },
   {
    "duration": 45,
    "start_time": "2022-06-06T11:48:22.511Z"
   },
   {
    "duration": 595,
    "start_time": "2022-06-06T11:48:22.558Z"
   },
   {
    "duration": 72,
    "start_time": "2022-06-06T11:48:23.156Z"
   },
   {
    "duration": 3,
    "start_time": "2022-06-06T11:48:23.229Z"
   },
   {
    "duration": 128,
    "start_time": "2022-06-06T11:48:23.233Z"
   },
   {
    "duration": 4,
    "start_time": "2022-06-06T11:48:23.362Z"
   },
   {
    "duration": 84,
    "start_time": "2022-06-06T11:48:23.367Z"
   },
   {
    "duration": 75,
    "start_time": "2022-06-06T11:48:23.453Z"
   },
   {
    "duration": 75,
    "start_time": "2022-06-06T11:48:23.530Z"
   }
  ],
  "kernelspec": {
   "display_name": "Python 3",
   "language": "python",
   "name": "python3"
  },
  "language_info": {
   "codemirror_mode": {
    "name": "ipython",
    "version": 3
   },
   "file_extension": ".py",
   "mimetype": "text/x-python",
   "name": "python",
   "nbconvert_exporter": "python",
   "pygments_lexer": "ipython3",
   "version": "3.8.8"
  },
  "toc": {
   "base_numbering": 1,
   "nav_menu": {},
   "number_sections": true,
   "sideBar": true,
   "skip_h1_title": true,
   "title_cell": "Table of Contents",
   "title_sidebar": "Contents",
   "toc_cell": true,
   "toc_position": {},
   "toc_section_display": true,
   "toc_window_display": true
  }
 },
 "nbformat": 4,
 "nbformat_minor": 2
}
