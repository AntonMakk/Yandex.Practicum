{
 "cells": [
  {
   "cell_type": "markdown",
   "metadata": {
    "toc": true
   },
   "source": [
    "<h1>Содержание<span class=\"tocSkip\"></span></h1>\n",
    "<div class=\"toc\"><ul class=\"toc-item\"><li><span><a href=\"#Загрузим-данные\" data-toc-modified-id=\"Загрузим-данные-1\"><span class=\"toc-item-num\">1&nbsp;&nbsp;</span>Загрузим данные</a></span></li><li><span><a href=\"#Проведем-исследовательский-анализ-данных-(EDA)\" data-toc-modified-id=\"Проведем-исследовательский-анализ-данных-(EDA)-2\"><span class=\"toc-item-num\">2&nbsp;&nbsp;</span>Проведем исследовательский анализ данных (EDA)</a></span><ul class=\"toc-item\"><li><span><a href=\"#Изучим-датасет:-есть-ли-в-нем-отсутствующие-признаки,-изучим-средние-значения-и-стандартные-отклонения\" data-toc-modified-id=\"Изучим-датасет:-есть-ли-в-нем-отсутствующие-признаки,-изучим-средние-значения-и-стандартные-отклонения-2.1\"><span class=\"toc-item-num\">2.1&nbsp;&nbsp;</span>Изучим датасет: есть ли в нем отсутствующие признаки, изучим средние значения и стандартные отклонения</a></span></li><li><span><a href=\"#Посмотрим-на-средние-значения-признаков-в-двух-группах-—-тех,-кто-ушел-в-отток-и-тех,-кто-остался\" data-toc-modified-id=\"Посмотрим-на-средние-значения-признаков-в-двух-группах-—-тех,-кто-ушел-в-отток-и-тех,-кто-остался-2.2\"><span class=\"toc-item-num\">2.2&nbsp;&nbsp;</span>Посмотрим на средние значения признаков в двух группах — тех, кто ушел в отток и тех, кто остался</a></span></li><li><span><a href=\"#Построим-столбчатые-гистограммы-и-распределения-признаков-для-тех,-кто-ушёл-(отток)-и-тех,-кто-остался-(не-попали-в-отток)\" data-toc-modified-id=\"Построим-столбчатые-гистограммы-и-распределения-признаков-для-тех,-кто-ушёл-(отток)-и-тех,-кто-остался-(не-попали-в-отток)-2.3\"><span class=\"toc-item-num\">2.3&nbsp;&nbsp;</span>Построим столбчатые гистограммы и распределения признаков для тех, кто ушёл (отток) и тех, кто остался (не попали в отток)</a></span></li><li><span><a href=\"#Пострим-матрицу-корреляций.\" data-toc-modified-id=\"Пострим-матрицу-корреляций.-2.4\"><span class=\"toc-item-num\">2.4&nbsp;&nbsp;</span>Пострим матрицу корреляций.</a></span></li></ul></li><li><span><a href=\"#Построим-модель-прогнозирования-оттока-клиентов\" data-toc-modified-id=\"Построим-модель-прогнозирования-оттока-клиентов-3\"><span class=\"toc-item-num\">3&nbsp;&nbsp;</span>Построим модель прогнозирования оттока клиентов</a></span><ul class=\"toc-item\"><li><span><a href=\"#Разобьем-данные-на-обучающую-и-валидационную-выборку\" data-toc-modified-id=\"Разобьем-данные-на-обучающую-и-валидационную-выборку-3.1\"><span class=\"toc-item-num\">3.1&nbsp;&nbsp;</span>Разобьем данные на обучающую и валидационную выборку</a></span></li><li><span><a href=\"#Обучим-модель-на-train-выборке-двумя-способами:\" data-toc-modified-id=\"Обучим-модель-на-train-выборке-двумя-способами:-3.2\"><span class=\"toc-item-num\">3.2&nbsp;&nbsp;</span>Обучим модель на train-выборке двумя способами:</a></span><ul class=\"toc-item\"><li><span><a href=\"#Логистической-регрессией\" data-toc-modified-id=\"Логистической-регрессией-3.2.1\"><span class=\"toc-item-num\">3.2.1&nbsp;&nbsp;</span>Логистической регрессией</a></span></li><li><span><a href=\"#Случайным-лесом\" data-toc-modified-id=\"Случайным-лесом-3.2.2\"><span class=\"toc-item-num\">3.2.2&nbsp;&nbsp;</span>Случайным лесом</a></span></li></ul></li><li><span><a href=\"#Оценим-метрики-accuracy,-precision-и-recall-для-обеих-моделей-на-валидационной-выборке.-Сравним-по-ним-модели.\" data-toc-modified-id=\"Оценим-метрики-accuracy,-precision-и-recall-для-обеих-моделей-на-валидационной-выборке.-Сравним-по-ним-модели.-3.3\"><span class=\"toc-item-num\">3.3&nbsp;&nbsp;</span>Оценим метрики accuracy, precision и recall для обеих моделей на валидационной выборке. Сравним по ним модели.</a></span></li></ul></li><li><span><a href=\"#Сделаем-кластеризацию-клиентов\" data-toc-modified-id=\"Сделаем-кластеризацию-клиентов-4\"><span class=\"toc-item-num\">4&nbsp;&nbsp;</span>Сделаем кластеризацию клиентов</a></span><ul class=\"toc-item\"><li><span><a href=\"#Стандартизируем-данные.\" data-toc-modified-id=\"Стандартизируем-данные.-4.1\"><span class=\"toc-item-num\">4.1&nbsp;&nbsp;</span>Стандартизируем данные.</a></span></li><li><span><a href=\"#Построим-матрицу-расстояний-на-стандартизованной-матрице-признаков-и-нарисуем-дендрограмму.\" data-toc-modified-id=\"Построим-матрицу-расстояний-на-стандартизованной-матрице-признаков-и-нарисуем-дендрограмму.-4.2\"><span class=\"toc-item-num\">4.2&nbsp;&nbsp;</span>Построим матрицу расстояний на стандартизованной матрице признаков и нарисуем дендрограмму.</a></span></li><li><span><a href=\"#Обучим-модель-кластеризации-на-основании-алгоритма-K-Means-и-спрогнозируем-кластеры-клиентов.\" data-toc-modified-id=\"Обучим-модель-кластеризации-на-основании-алгоритма-K-Means-и-спрогнозируем-кластеры-клиентов.-4.3\"><span class=\"toc-item-num\">4.3&nbsp;&nbsp;</span>Обучим модель кластеризации на основании алгоритма K-Means и спрогнозируем кластеры клиентов.</a></span></li><li><span><a href=\"#Посмотрим-на-средние-значения-признаков-для-кластеров.\" data-toc-modified-id=\"Посмотрим-на-средние-значения-признаков-для-кластеров.-4.4\"><span class=\"toc-item-num\">4.4&nbsp;&nbsp;</span>Посмотрим на средние значения признаков для кластеров.</a></span></li><li><span><a href=\"#Построим-распределения-признаков-для-кластеров.\" data-toc-modified-id=\"Построим-распределения-признаков-для-кластеров.-4.5\"><span class=\"toc-item-num\">4.5&nbsp;&nbsp;</span>Построим распределения признаков для кластеров.</a></span></li></ul></li><li><span><a href=\"#Выводы\" data-toc-modified-id=\"Выводы-5\"><span class=\"toc-item-num\">5&nbsp;&nbsp;</span>Выводы</a></span></li></ul></div>"
   ]
  },
  {
   "cell_type": "markdown",
   "metadata": {},
   "source": [
    "# Разработка стратегии взаимодействия с клиентами сети фитнес-центров"
   ]
  },
  {
   "cell_type": "markdown",
   "metadata": {},
   "source": [
    "<b>Задача</b>"
   ]
  },
  {
   "cell_type": "markdown",
   "metadata": {},
   "source": [
    "Сеть фитнес-центров «Культурист-датасаентист» разрабатывает стратегию взаимодействия с клиентами на основе аналитических данных.\n",
    "Распространённая проблема фитнес-клубов и других сервисов — отток клиентов. \n",
    "\n",
    "Наша задача — провести анализ и подготовить план действий по удержанию клиентов.\n",
    "\n",
    "А именно:\n",
    "1. научиться прогнозировать вероятность оттока (на уровне следующего месяца) для каждого клиента;\n",
    "2. сформировать типичные портреты клиентов: выделить несколько наиболее ярких групп и охарактеризовать их основные свойства;\n",
    "3. проанализировать основные признаки, наиболее сильно влияющие на отток;\n",
    "4. сформулировать основные выводы и разработать рекомендации по повышению качества работы с клиентами:\n",
    "- выделить целевые группы клиентов;\n",
    "- предложить меры по снижению оттока;\n",
    "- определить другие особенности взаимодействия с клиентами."
   ]
  },
  {
   "cell_type": "markdown",
   "metadata": {},
   "source": [
    "## Загрузим данные"
   ]
  },
  {
   "cell_type": "code",
   "execution_count": 1,
   "metadata": {},
   "outputs": [],
   "source": [
    "# Импортируем библиотеки которые потребуются в проекте\n",
    "import pandas as pd\n",
    "import seaborn as sns\n",
    "import numpy as np\n",
    "import matplotlib.pyplot as plt\n",
    "from sklearn.preprocessing import StandardScaler\n",
    "from sklearn.linear_model import LogisticRegression\n",
    "from sklearn.ensemble import RandomForestClassifier, GradientBoostingClassifier\n",
    "from sklearn.metrics import accuracy_score, precision_score, recall_score, f1_score\n",
    "from sklearn.metrics import roc_auc_score\n",
    "from scipy.cluster.hierarchy import dendrogram, linkage \n",
    "from sklearn.cluster import KMeans\n",
    "\n",
    "from sklearn.model_selection import train_test_split\n"
   ]
  },
  {
   "cell_type": "code",
   "execution_count": 2,
   "metadata": {
    "scrolled": true
   },
   "outputs": [],
   "source": [
    "gym_churn = pd.read_csv('/datasets/gym_churn.csv')"
   ]
  },
  {
   "cell_type": "code",
   "execution_count": 3,
   "metadata": {
    "scrolled": true
   },
   "outputs": [
    {
     "data": {
      "text/html": [
       "<div>\n",
       "<style scoped>\n",
       "    .dataframe tbody tr th:only-of-type {\n",
       "        vertical-align: middle;\n",
       "    }\n",
       "\n",
       "    .dataframe tbody tr th {\n",
       "        vertical-align: top;\n",
       "    }\n",
       "\n",
       "    .dataframe thead th {\n",
       "        text-align: right;\n",
       "    }\n",
       "</style>\n",
       "<table border=\"1\" class=\"dataframe\">\n",
       "  <thead>\n",
       "    <tr style=\"text-align: right;\">\n",
       "      <th></th>\n",
       "      <th>gender</th>\n",
       "      <th>near_location</th>\n",
       "      <th>partner</th>\n",
       "      <th>promo_friends</th>\n",
       "      <th>phone</th>\n",
       "      <th>contract_period</th>\n",
       "      <th>group_visits</th>\n",
       "      <th>age</th>\n",
       "      <th>avg_additional_charges_total</th>\n",
       "      <th>month_to_end_contract</th>\n",
       "      <th>lifetime</th>\n",
       "      <th>avg_class_frequency_total</th>\n",
       "      <th>avg_class_frequency_current_month</th>\n",
       "      <th>churn</th>\n",
       "    </tr>\n",
       "  </thead>\n",
       "  <tbody>\n",
       "    <tr>\n",
       "      <th>0</th>\n",
       "      <td>1</td>\n",
       "      <td>1</td>\n",
       "      <td>1</td>\n",
       "      <td>1</td>\n",
       "      <td>0</td>\n",
       "      <td>6</td>\n",
       "      <td>1</td>\n",
       "      <td>29</td>\n",
       "      <td>14.227470</td>\n",
       "      <td>5.0</td>\n",
       "      <td>3</td>\n",
       "      <td>0.020398</td>\n",
       "      <td>0.000000</td>\n",
       "      <td>0</td>\n",
       "    </tr>\n",
       "    <tr>\n",
       "      <th>1</th>\n",
       "      <td>0</td>\n",
       "      <td>1</td>\n",
       "      <td>0</td>\n",
       "      <td>0</td>\n",
       "      <td>1</td>\n",
       "      <td>12</td>\n",
       "      <td>1</td>\n",
       "      <td>31</td>\n",
       "      <td>113.202938</td>\n",
       "      <td>12.0</td>\n",
       "      <td>7</td>\n",
       "      <td>1.922936</td>\n",
       "      <td>1.910244</td>\n",
       "      <td>0</td>\n",
       "    </tr>\n",
       "    <tr>\n",
       "      <th>2</th>\n",
       "      <td>0</td>\n",
       "      <td>1</td>\n",
       "      <td>1</td>\n",
       "      <td>0</td>\n",
       "      <td>1</td>\n",
       "      <td>1</td>\n",
       "      <td>0</td>\n",
       "      <td>28</td>\n",
       "      <td>129.448479</td>\n",
       "      <td>1.0</td>\n",
       "      <td>2</td>\n",
       "      <td>1.859098</td>\n",
       "      <td>1.736502</td>\n",
       "      <td>0</td>\n",
       "    </tr>\n",
       "    <tr>\n",
       "      <th>3</th>\n",
       "      <td>0</td>\n",
       "      <td>1</td>\n",
       "      <td>1</td>\n",
       "      <td>1</td>\n",
       "      <td>1</td>\n",
       "      <td>12</td>\n",
       "      <td>1</td>\n",
       "      <td>33</td>\n",
       "      <td>62.669863</td>\n",
       "      <td>12.0</td>\n",
       "      <td>2</td>\n",
       "      <td>3.205633</td>\n",
       "      <td>3.357215</td>\n",
       "      <td>0</td>\n",
       "    </tr>\n",
       "    <tr>\n",
       "      <th>4</th>\n",
       "      <td>1</td>\n",
       "      <td>1</td>\n",
       "      <td>1</td>\n",
       "      <td>1</td>\n",
       "      <td>1</td>\n",
       "      <td>1</td>\n",
       "      <td>0</td>\n",
       "      <td>26</td>\n",
       "      <td>198.362265</td>\n",
       "      <td>1.0</td>\n",
       "      <td>3</td>\n",
       "      <td>1.113884</td>\n",
       "      <td>1.120078</td>\n",
       "      <td>0</td>\n",
       "    </tr>\n",
       "  </tbody>\n",
       "</table>\n",
       "</div>"
      ],
      "text/plain": [
       "   gender  near_location  partner  promo_friends  phone  contract_period  \\\n",
       "0       1              1        1              1      0                6   \n",
       "1       0              1        0              0      1               12   \n",
       "2       0              1        1              0      1                1   \n",
       "3       0              1        1              1      1               12   \n",
       "4       1              1        1              1      1                1   \n",
       "\n",
       "   group_visits  age  avg_additional_charges_total  month_to_end_contract  \\\n",
       "0             1   29                     14.227470                    5.0   \n",
       "1             1   31                    113.202938                   12.0   \n",
       "2             0   28                    129.448479                    1.0   \n",
       "3             1   33                     62.669863                   12.0   \n",
       "4             0   26                    198.362265                    1.0   \n",
       "\n",
       "   lifetime  avg_class_frequency_total  avg_class_frequency_current_month  \\\n",
       "0         3                   0.020398                           0.000000   \n",
       "1         7                   1.922936                           1.910244   \n",
       "2         2                   1.859098                           1.736502   \n",
       "3         2                   3.205633                           3.357215   \n",
       "4         3                   1.113884                           1.120078   \n",
       "\n",
       "   churn  \n",
       "0      0  \n",
       "1      0  \n",
       "2      0  \n",
       "3      0  \n",
       "4      0  "
      ]
     },
     "execution_count": 3,
     "metadata": {},
     "output_type": "execute_result"
    }
   ],
   "source": [
    "# Для удобства приведем названия столбцов к нижнему регистру\n",
    "gym_churn.columns = gym_churn.columns.str.lower()\n",
    "gym_churn.head()"
   ]
  },
  {
   "cell_type": "markdown",
   "metadata": {},
   "source": [
    "## Проведем исследовательский анализ данных (EDA)"
   ]
  },
  {
   "cell_type": "markdown",
   "metadata": {},
   "source": [
    "### Изучим датасет: есть ли в нем отсутствующие признаки, изучим средние значения и стандартные отклонения"
   ]
  },
  {
   "cell_type": "code",
   "execution_count": 4,
   "metadata": {},
   "outputs": [
    {
     "name": "stdout",
     "output_type": "stream",
     "text": [
      "<class 'pandas.core.frame.DataFrame'>\n",
      "RangeIndex: 4000 entries, 0 to 3999\n",
      "Data columns (total 14 columns):\n",
      " #   Column                             Non-Null Count  Dtype  \n",
      "---  ------                             --------------  -----  \n",
      " 0   gender                             4000 non-null   int64  \n",
      " 1   near_location                      4000 non-null   int64  \n",
      " 2   partner                            4000 non-null   int64  \n",
      " 3   promo_friends                      4000 non-null   int64  \n",
      " 4   phone                              4000 non-null   int64  \n",
      " 5   contract_period                    4000 non-null   int64  \n",
      " 6   group_visits                       4000 non-null   int64  \n",
      " 7   age                                4000 non-null   int64  \n",
      " 8   avg_additional_charges_total       4000 non-null   float64\n",
      " 9   month_to_end_contract              4000 non-null   float64\n",
      " 10  lifetime                           4000 non-null   int64  \n",
      " 11  avg_class_frequency_total          4000 non-null   float64\n",
      " 12  avg_class_frequency_current_month  4000 non-null   float64\n",
      " 13  churn                              4000 non-null   int64  \n",
      "dtypes: float64(4), int64(10)\n",
      "memory usage: 437.6 KB\n"
     ]
    }
   ],
   "source": [
    "gym_churn.info()"
   ]
  },
  {
   "cell_type": "code",
   "execution_count": 5,
   "metadata": {
    "scrolled": false
   },
   "outputs": [
    {
     "data": {
      "text/html": [
       "<div>\n",
       "<style scoped>\n",
       "    .dataframe tbody tr th:only-of-type {\n",
       "        vertical-align: middle;\n",
       "    }\n",
       "\n",
       "    .dataframe tbody tr th {\n",
       "        vertical-align: top;\n",
       "    }\n",
       "\n",
       "    .dataframe thead th {\n",
       "        text-align: right;\n",
       "    }\n",
       "</style>\n",
       "<table border=\"1\" class=\"dataframe\">\n",
       "  <thead>\n",
       "    <tr style=\"text-align: right;\">\n",
       "      <th></th>\n",
       "      <th>count</th>\n",
       "      <th>mean</th>\n",
       "      <th>std</th>\n",
       "      <th>min</th>\n",
       "      <th>25%</th>\n",
       "      <th>50%</th>\n",
       "      <th>75%</th>\n",
       "      <th>max</th>\n",
       "    </tr>\n",
       "  </thead>\n",
       "  <tbody>\n",
       "    <tr>\n",
       "      <th>gender</th>\n",
       "      <td>4000.0</td>\n",
       "      <td>0.510250</td>\n",
       "      <td>0.499957</td>\n",
       "      <td>0.000000</td>\n",
       "      <td>0.000000</td>\n",
       "      <td>1.000000</td>\n",
       "      <td>1.000000</td>\n",
       "      <td>1.000000</td>\n",
       "    </tr>\n",
       "    <tr>\n",
       "      <th>near_location</th>\n",
       "      <td>4000.0</td>\n",
       "      <td>0.845250</td>\n",
       "      <td>0.361711</td>\n",
       "      <td>0.000000</td>\n",
       "      <td>1.000000</td>\n",
       "      <td>1.000000</td>\n",
       "      <td>1.000000</td>\n",
       "      <td>1.000000</td>\n",
       "    </tr>\n",
       "    <tr>\n",
       "      <th>partner</th>\n",
       "      <td>4000.0</td>\n",
       "      <td>0.486750</td>\n",
       "      <td>0.499887</td>\n",
       "      <td>0.000000</td>\n",
       "      <td>0.000000</td>\n",
       "      <td>0.000000</td>\n",
       "      <td>1.000000</td>\n",
       "      <td>1.000000</td>\n",
       "    </tr>\n",
       "    <tr>\n",
       "      <th>promo_friends</th>\n",
       "      <td>4000.0</td>\n",
       "      <td>0.308500</td>\n",
       "      <td>0.461932</td>\n",
       "      <td>0.000000</td>\n",
       "      <td>0.000000</td>\n",
       "      <td>0.000000</td>\n",
       "      <td>1.000000</td>\n",
       "      <td>1.000000</td>\n",
       "    </tr>\n",
       "    <tr>\n",
       "      <th>phone</th>\n",
       "      <td>4000.0</td>\n",
       "      <td>0.903500</td>\n",
       "      <td>0.295313</td>\n",
       "      <td>0.000000</td>\n",
       "      <td>1.000000</td>\n",
       "      <td>1.000000</td>\n",
       "      <td>1.000000</td>\n",
       "      <td>1.000000</td>\n",
       "    </tr>\n",
       "    <tr>\n",
       "      <th>contract_period</th>\n",
       "      <td>4000.0</td>\n",
       "      <td>4.681250</td>\n",
       "      <td>4.549706</td>\n",
       "      <td>1.000000</td>\n",
       "      <td>1.000000</td>\n",
       "      <td>1.000000</td>\n",
       "      <td>6.000000</td>\n",
       "      <td>12.000000</td>\n",
       "    </tr>\n",
       "    <tr>\n",
       "      <th>group_visits</th>\n",
       "      <td>4000.0</td>\n",
       "      <td>0.412250</td>\n",
       "      <td>0.492301</td>\n",
       "      <td>0.000000</td>\n",
       "      <td>0.000000</td>\n",
       "      <td>0.000000</td>\n",
       "      <td>1.000000</td>\n",
       "      <td>1.000000</td>\n",
       "    </tr>\n",
       "    <tr>\n",
       "      <th>age</th>\n",
       "      <td>4000.0</td>\n",
       "      <td>29.184250</td>\n",
       "      <td>3.258367</td>\n",
       "      <td>18.000000</td>\n",
       "      <td>27.000000</td>\n",
       "      <td>29.000000</td>\n",
       "      <td>31.000000</td>\n",
       "      <td>41.000000</td>\n",
       "    </tr>\n",
       "    <tr>\n",
       "      <th>avg_additional_charges_total</th>\n",
       "      <td>4000.0</td>\n",
       "      <td>146.943728</td>\n",
       "      <td>96.355602</td>\n",
       "      <td>0.148205</td>\n",
       "      <td>68.868830</td>\n",
       "      <td>136.220159</td>\n",
       "      <td>210.949625</td>\n",
       "      <td>552.590740</td>\n",
       "    </tr>\n",
       "    <tr>\n",
       "      <th>month_to_end_contract</th>\n",
       "      <td>4000.0</td>\n",
       "      <td>4.322750</td>\n",
       "      <td>4.191297</td>\n",
       "      <td>1.000000</td>\n",
       "      <td>1.000000</td>\n",
       "      <td>1.000000</td>\n",
       "      <td>6.000000</td>\n",
       "      <td>12.000000</td>\n",
       "    </tr>\n",
       "    <tr>\n",
       "      <th>lifetime</th>\n",
       "      <td>4000.0</td>\n",
       "      <td>3.724750</td>\n",
       "      <td>3.749267</td>\n",
       "      <td>0.000000</td>\n",
       "      <td>1.000000</td>\n",
       "      <td>3.000000</td>\n",
       "      <td>5.000000</td>\n",
       "      <td>31.000000</td>\n",
       "    </tr>\n",
       "    <tr>\n",
       "      <th>avg_class_frequency_total</th>\n",
       "      <td>4000.0</td>\n",
       "      <td>1.879020</td>\n",
       "      <td>0.972245</td>\n",
       "      <td>0.000000</td>\n",
       "      <td>1.180875</td>\n",
       "      <td>1.832768</td>\n",
       "      <td>2.536078</td>\n",
       "      <td>6.023668</td>\n",
       "    </tr>\n",
       "    <tr>\n",
       "      <th>avg_class_frequency_current_month</th>\n",
       "      <td>4000.0</td>\n",
       "      <td>1.767052</td>\n",
       "      <td>1.052906</td>\n",
       "      <td>0.000000</td>\n",
       "      <td>0.963003</td>\n",
       "      <td>1.719574</td>\n",
       "      <td>2.510336</td>\n",
       "      <td>6.146783</td>\n",
       "    </tr>\n",
       "    <tr>\n",
       "      <th>churn</th>\n",
       "      <td>4000.0</td>\n",
       "      <td>0.265250</td>\n",
       "      <td>0.441521</td>\n",
       "      <td>0.000000</td>\n",
       "      <td>0.000000</td>\n",
       "      <td>0.000000</td>\n",
       "      <td>1.000000</td>\n",
       "      <td>1.000000</td>\n",
       "    </tr>\n",
       "  </tbody>\n",
       "</table>\n",
       "</div>"
      ],
      "text/plain": [
       "                                    count        mean        std        min  \\\n",
       "gender                             4000.0    0.510250   0.499957   0.000000   \n",
       "near_location                      4000.0    0.845250   0.361711   0.000000   \n",
       "partner                            4000.0    0.486750   0.499887   0.000000   \n",
       "promo_friends                      4000.0    0.308500   0.461932   0.000000   \n",
       "phone                              4000.0    0.903500   0.295313   0.000000   \n",
       "contract_period                    4000.0    4.681250   4.549706   1.000000   \n",
       "group_visits                       4000.0    0.412250   0.492301   0.000000   \n",
       "age                                4000.0   29.184250   3.258367  18.000000   \n",
       "avg_additional_charges_total       4000.0  146.943728  96.355602   0.148205   \n",
       "month_to_end_contract              4000.0    4.322750   4.191297   1.000000   \n",
       "lifetime                           4000.0    3.724750   3.749267   0.000000   \n",
       "avg_class_frequency_total          4000.0    1.879020   0.972245   0.000000   \n",
       "avg_class_frequency_current_month  4000.0    1.767052   1.052906   0.000000   \n",
       "churn                              4000.0    0.265250   0.441521   0.000000   \n",
       "\n",
       "                                         25%         50%         75%  \\\n",
       "gender                              0.000000    1.000000    1.000000   \n",
       "near_location                       1.000000    1.000000    1.000000   \n",
       "partner                             0.000000    0.000000    1.000000   \n",
       "promo_friends                       0.000000    0.000000    1.000000   \n",
       "phone                               1.000000    1.000000    1.000000   \n",
       "contract_period                     1.000000    1.000000    6.000000   \n",
       "group_visits                        0.000000    0.000000    1.000000   \n",
       "age                                27.000000   29.000000   31.000000   \n",
       "avg_additional_charges_total       68.868830  136.220159  210.949625   \n",
       "month_to_end_contract               1.000000    1.000000    6.000000   \n",
       "lifetime                            1.000000    3.000000    5.000000   \n",
       "avg_class_frequency_total           1.180875    1.832768    2.536078   \n",
       "avg_class_frequency_current_month   0.963003    1.719574    2.510336   \n",
       "churn                               0.000000    0.000000    1.000000   \n",
       "\n",
       "                                          max  \n",
       "gender                               1.000000  \n",
       "near_location                        1.000000  \n",
       "partner                              1.000000  \n",
       "promo_friends                        1.000000  \n",
       "phone                                1.000000  \n",
       "contract_period                     12.000000  \n",
       "group_visits                         1.000000  \n",
       "age                                 41.000000  \n",
       "avg_additional_charges_total       552.590740  \n",
       "month_to_end_contract               12.000000  \n",
       "lifetime                            31.000000  \n",
       "avg_class_frequency_total            6.023668  \n",
       "avg_class_frequency_current_month    6.146783  \n",
       "churn                                1.000000  "
      ]
     },
     "execution_count": 5,
     "metadata": {},
     "output_type": "execute_result"
    }
   ],
   "source": [
    "gym_churn.describe().T"
   ]
  },
  {
   "cell_type": "code",
   "execution_count": 6,
   "metadata": {},
   "outputs": [
    {
     "data": {
      "text/plain": [
       "0"
      ]
     },
     "execution_count": 6,
     "metadata": {},
     "output_type": "execute_result"
    }
   ],
   "source": [
    "gym_churn.duplicated().sum()"
   ]
  },
  {
   "cell_type": "markdown",
   "metadata": {},
   "source": [
    "Видим, что \n",
    "- отсутствующих признаков нет\n",
    "- тип данных подходящий\n",
    "- дубликатов не обнаружили"
   ]
  },
  {
   "cell_type": "markdown",
   "metadata": {},
   "source": [
    "### Посмотрим на средние значения признаков в двух группах — тех, кто ушел в отток и тех, кто остался"
   ]
  },
  {
   "cell_type": "code",
   "execution_count": 7,
   "metadata": {},
   "outputs": [
    {
     "data": {
      "text/html": [
       "<div>\n",
       "<style scoped>\n",
       "    .dataframe tbody tr th:only-of-type {\n",
       "        vertical-align: middle;\n",
       "    }\n",
       "\n",
       "    .dataframe tbody tr th {\n",
       "        vertical-align: top;\n",
       "    }\n",
       "\n",
       "    .dataframe thead th {\n",
       "        text-align: right;\n",
       "    }\n",
       "</style>\n",
       "<table border=\"1\" class=\"dataframe\">\n",
       "  <thead>\n",
       "    <tr style=\"text-align: right;\">\n",
       "      <th></th>\n",
       "      <th>gender</th>\n",
       "      <th>near_location</th>\n",
       "      <th>partner</th>\n",
       "      <th>promo_friends</th>\n",
       "      <th>phone</th>\n",
       "      <th>contract_period</th>\n",
       "      <th>group_visits</th>\n",
       "      <th>age</th>\n",
       "      <th>avg_additional_charges_total</th>\n",
       "      <th>month_to_end_contract</th>\n",
       "      <th>lifetime</th>\n",
       "      <th>avg_class_frequency_total</th>\n",
       "      <th>avg_class_frequency_current_month</th>\n",
       "    </tr>\n",
       "    <tr>\n",
       "      <th>churn</th>\n",
       "      <th></th>\n",
       "      <th></th>\n",
       "      <th></th>\n",
       "      <th></th>\n",
       "      <th></th>\n",
       "      <th></th>\n",
       "      <th></th>\n",
       "      <th></th>\n",
       "      <th></th>\n",
       "      <th></th>\n",
       "      <th></th>\n",
       "      <th></th>\n",
       "      <th></th>\n",
       "    </tr>\n",
       "  </thead>\n",
       "  <tbody>\n",
       "    <tr>\n",
       "      <th>0</th>\n",
       "      <td>0.510037</td>\n",
       "      <td>0.873086</td>\n",
       "      <td>0.534195</td>\n",
       "      <td>0.353522</td>\n",
       "      <td>0.903709</td>\n",
       "      <td>5.747193</td>\n",
       "      <td>0.464103</td>\n",
       "      <td>29.976523</td>\n",
       "      <td>158.445715</td>\n",
       "      <td>5.283089</td>\n",
       "      <td>4.711807</td>\n",
       "      <td>2.024876</td>\n",
       "      <td>2.027882</td>\n",
       "    </tr>\n",
       "    <tr>\n",
       "      <th>1</th>\n",
       "      <td>0.510839</td>\n",
       "      <td>0.768143</td>\n",
       "      <td>0.355325</td>\n",
       "      <td>0.183789</td>\n",
       "      <td>0.902922</td>\n",
       "      <td>1.728558</td>\n",
       "      <td>0.268615</td>\n",
       "      <td>26.989632</td>\n",
       "      <td>115.082899</td>\n",
       "      <td>1.662582</td>\n",
       "      <td>0.990575</td>\n",
       "      <td>1.474995</td>\n",
       "      <td>1.044546</td>\n",
       "    </tr>\n",
       "  </tbody>\n",
       "</table>\n",
       "</div>"
      ],
      "text/plain": [
       "         gender  near_location   partner  promo_friends     phone  \\\n",
       "churn                                                               \n",
       "0      0.510037       0.873086  0.534195       0.353522  0.903709   \n",
       "1      0.510839       0.768143  0.355325       0.183789  0.902922   \n",
       "\n",
       "       contract_period  group_visits        age  avg_additional_charges_total  \\\n",
       "churn                                                                           \n",
       "0             5.747193      0.464103  29.976523                    158.445715   \n",
       "1             1.728558      0.268615  26.989632                    115.082899   \n",
       "\n",
       "       month_to_end_contract  lifetime  avg_class_frequency_total  \\\n",
       "churn                                                               \n",
       "0                   5.283089  4.711807                   2.024876   \n",
       "1                   1.662582  0.990575                   1.474995   \n",
       "\n",
       "       avg_class_frequency_current_month  \n",
       "churn                                     \n",
       "0                               2.027882  \n",
       "1                               1.044546  "
      ]
     },
     "execution_count": 7,
     "metadata": {},
     "output_type": "execute_result"
    }
   ],
   "source": [
    "gym_churn.groupby('churn').agg('mean')\n",
    "#.describe().T"
   ]
  },
  {
   "cell_type": "markdown",
   "metadata": {},
   "source": [
    "Видим заметные различия средних во многих признаках"
   ]
  },
  {
   "cell_type": "markdown",
   "metadata": {},
   "source": [
    "### Построим столбчатые гистограммы и распределения признаков для тех, кто ушёл (отток) и тех, кто остался (не попали в отток)"
   ]
  },
  {
   "cell_type": "code",
   "execution_count": 8,
   "metadata": {
    "scrolled": true
   },
   "outputs": [
    {
     "data": {
      "image/png": "[encoded data removed]",
      "text/plain": [
       "<Figure size 864x576 with 1 Axes>"
      ]
     },
     "metadata": {
      "needs_background": "light"
     },
     "output_type": "display_data"
    },
    {
     "data": {
      "image/png": "[encoded data removed]",
      "text/plain": [
       "<Figure size 864x576 with 1 Axes>"
      ]
     },
     "metadata": {
      "needs_background": "light"
     },
     "output_type": "display_data"
    },
    {
     "data": {
      "image/png": "[encoded data removed]",
      "text/plain": [
       "<Figure size 864x576 with 1 Axes>"
      ]
     },
     "metadata": {
      "needs_background": "light"
     },
     "output_type": "display_data"
    },
    {
     "data": {
      "image/png": "[encoded data removed]",
      "text/plain": [
       "<Figure size 864x576 with 1 Axes>"
      ]
     },
     "metadata": {
      "needs_background": "light"
     },
     "output_type": "display_data"
    },
    {
     "data": {
      "image/png": "[encoded data removed]",
      "text/plain": [
       "<Figure size 864x576 with 1 Axes>"
      ]
     },
     "metadata": {
      "needs_background": "light"
     },
     "output_type": "display_data"
    },
    {
     "data": {
      "image/png": "[encoded data removed]",
      "text/plain": [
       "<Figure size 864x576 with 1 Axes>"
      ]
     },
     "metadata": {
      "needs_background": "light"
     },
     "output_type": "display_data"
    },
    {
     "data": {
      "image/png": "[encoded data removed]",
      "text/plain": [
       "<Figure size 864x576 with 1 Axes>"
      ]
     },
     "metadata": {
      "needs_background": "light"
     },
     "output_type": "display_data"
    },
    {
     "data": {
      "image/png": "[encoded data removed]",
      "text/plain": [
       "<Figure size 864x576 with 1 Axes>"
      ]
     },
     "metadata": {
      "needs_background": "light"
     },
     "output_type": "display_data"
    }
   ],
   "source": [
    "for i in gym_churn.drop(columns=['churn', 'age', 'avg_additional_charges_total', 'avg_class_frequency_total', 'avg_class_frequency_current_month', 'lifetime']).columns:\n",
    "    fig, ax = plt.subplots(figsize=(12, 8))\n",
    "    x = np.arange(len(gym_churn[i].unique()))\n",
    "    bar_width = 0.4\n",
    "    b1 = ax.bar(x, gym_churn.loc[gym_churn['churn'] == 0].groupby(i).agg('count')['churn'],\n",
    "                width=bar_width,\n",
    "                label='not churn')\n",
    "    b2 = ax.bar(x + bar_width, gym_churn.loc[gym_churn['churn'] == 1].groupby(i).agg('count')['churn'],\n",
    "                width=bar_width,\n",
    "                label='churn')\n",
    "\n",
    "    #Fix the x-axes.\n",
    "    ax.set_xticks(x + bar_width / 2)\n",
    "    ax.set_xticklabels(gym_churn[i].unique())\n",
    "\n",
    "    # # Add axis and chart labels.\n",
    "    ax.set_xlabel('Features', labelpad=15)\n",
    "    ax.set_ylabel('Number', labelpad=15)\n",
    "    ax.set_title('Распределение ушедших и неушедших в отток для признака {}'.format(i), pad=15)\n",
    "    ax.legend()\n",
    "    fig.tight_layout()"
   ]
  },
  {
   "cell_type": "code",
   "execution_count": 9,
   "metadata": {
    "scrolled": true
   },
   "outputs": [
    {
     "data": {
      "image/png": "[encoded data removed]",
      "text/plain": [
       "<Figure size 864x576 with 1 Axes>"
      ]
     },
     "metadata": {
      "needs_background": "light"
     },
     "output_type": "display_data"
    },
    {
     "data": {
      "image/png": "[encoded data removed]",
      "text/plain": [
       "<Figure size 864x576 with 1 Axes>"
      ]
     },
     "metadata": {
      "needs_background": "light"
     },
     "output_type": "display_data"
    },
    {
     "data": {
      "image/png": "[encoded data removed]",
      "text/plain": [
       "<Figure size 864x576 with 1 Axes>"
      ]
     },
     "metadata": {
      "needs_background": "light"
     },
     "output_type": "display_data"
    },
    {
     "data": {
      "image/png": "[encoded data removed]",
      "text/plain": [
       "<Figure size 864x576 with 1 Axes>"
      ]
     },
     "metadata": {
      "needs_background": "light"
     },
     "output_type": "display_data"
    },
    {
     "data": {
      "image/png": "[encoded data removed]",
      "text/plain": [
       "<Figure size 864x576 with 1 Axes>"
      ]
     },
     "metadata": {
      "needs_background": "light"
     },
     "output_type": "display_data"
    }
   ],
   "source": [
    "for i in ['age', \n",
    "          'avg_additional_charges_total', \n",
    "          'avg_class_frequency_total', \n",
    "          'avg_class_frequency_current_month', \n",
    "          'lifetime']:\n",
    "    fig, ax = plt.subplots(figsize=(12, 8))\n",
    "#    gym_churn.loc[gym_churn['churn'] == 0].groupby(i).agg('count')['churn'].plot(kind='hist', bins = 100, density=True)\n",
    "#    gym_churn.loc[gym_churn['churn'] == 1].groupby(i).agg('count')['churn'].plot(kind='hist', bins = 100, density=True, alpha = 0.5)\n",
    "    gym_churn.query('churn == 0')[i].hist(alpha = 0.5)\n",
    "    gym_churn.query('churn == 1')[i].hist()\n",
    "    plt.title('Распределение ушедших и неушедших в отток для признака {}'.format(i), fontsize=10)\n",
    "    plt.xlabel('Features', fontsize=10)\n",
    "    plt.ylabel('Number', fontsize=10)\n",
    "    plt.legend(['not churn', 'churn'])"
   ]
  },
  {
   "cell_type": "markdown",
   "metadata": {},
   "source": [
    "Судя по графикамам можем сказать что:\n",
    "1. Gender: Различия в оттоке мужчин и женщин незначительные. Отток среди мужчин чуть меньше\n",
    "2. Near_Location: Однозначно можно сказать что люди подбирают фитнес центр возле работы и дома. Отток в близких центрах в разы ниже\n",
    "3. Partner: Как ни странно партнерские программы работатют не так хорошо, большой отток. Возможно посетители не так ценят дешевые абонементы\n",
    "4. Promo_friends: Люди пришедшие в зал по реферальной программе реже попадают в отткок. Видимо комьюнити сдерживает\n",
    "5. Phone: Наличие контактного телефона очень влияет на отток. Доверие и хороший маркетинговый инструмент.\n",
    "6. Contract_period: Не смотря на то что большинство выбирает контракты на пол года, этот вариант показывает худшие показатели оттока. Один и 12 месяцев напротив выглядят хорошо. Возможно стоит перераспрелить маркетинг на реализацию таких контрактов\n",
    "7. Group_visits: В групповых занятиях как мы видим отток выше\n",
    "8. Month_to_end_contract: Самый большой отток у тех кому до окончания контракта пять месяцев. Похоже выгодные шестимесячные контракты хорошо продаются, но позже не используются. \n",
    "9. Age: Самые активные посетителя около 30, а в отток попадают чаще 27-28 летние\n",
    "10. Avg_additional_charges_total: Те посетители что пользуются дополнительными сервисами, во моного раз реже уходят в отток\n",
    "11. Avg_class_frequency_total: Посетители занимающиеся регулярно, 3-4 и выше раз в неделю, редко попадают в отток. \n",
    "12. Avg_class_frequency_current_month: Перед тем как уйти в отток частота занятий для большинства уменьшается до 1 раза в неделю\n",
    "13. Lifetime: Большинство \"переживших\" первые полгода занятий продолжают заниматься\n"
   ]
  },
  {
   "cell_type": "markdown",
   "metadata": {},
   "source": [
    "### Пострим матрицу корреляций."
   ]
  },
  {
   "cell_type": "code",
   "execution_count": 10,
   "metadata": {
    "scrolled": false
   },
   "outputs": [
    {
     "data": {
      "text/plain": [
       "<AxesSubplot:>"
      ]
     },
     "execution_count": 10,
     "metadata": {},
     "output_type": "execute_result"
    },
    {
     "data": {
      "image/png": "[encoded data removed]",
      "text/plain": [
       "<Figure size 864x864 with 2 Axes>"
      ]
     },
     "metadata": {
      "needs_background": "light"
     },
     "output_type": "display_data"
    }
   ],
   "source": [
    "cm = gym_churn.corr()\n",
    "plt.figure(figsize=(12,12))\n",
    "sns.heatmap(cm, annot=True, square=True)\n"
   ]
  },
  {
   "cell_type": "markdown",
   "metadata": {},
   "source": [
    "Удалим сильно скоррелированные признаки: по одному для каждой пары"
   ]
  },
  {
   "cell_type": "code",
   "execution_count": 11,
   "metadata": {},
   "outputs": [],
   "source": [
    "gym_churn = gym_churn.drop(columns = ['month_to_end_contract', 'avg_class_frequency_current_month'])"
   ]
  },
  {
   "cell_type": "code",
   "execution_count": 12,
   "metadata": {},
   "outputs": [
    {
     "data": {
      "text/plain": [
       "<AxesSubplot:>"
      ]
     },
     "execution_count": 12,
     "metadata": {},
     "output_type": "execute_result"
    },
    {
     "data": {
      "image/png": "[encoded data removed]",
      "text/plain": [
       "<Figure size 864x864 with 2 Axes>"
      ]
     },
     "metadata": {
      "needs_background": "light"
     },
     "output_type": "display_data"
    }
   ],
   "source": [
    "cm = gym_churn.corr()\n",
    "plt.figure(figsize=(12,12))\n",
    "sns.heatmap(cm, annot=True, square=True)"
   ]
  },
  {
   "cell_type": "markdown",
   "metadata": {},
   "source": [
    "## Построим модель прогнозирования оттока клиентов"
   ]
  },
  {
   "cell_type": "markdown",
   "metadata": {},
   "source": [
    "### Разобьем данные на обучающую и валидационную выборку"
   ]
  },
  {
   "cell_type": "code",
   "execution_count": 13,
   "metadata": {},
   "outputs": [],
   "source": [
    "# разделим наши данные на признаки (матрица X) и целевую переменную (y)\n",
    "X = gym_churn.drop('churn', axis=1)\n",
    "y = gym_churn['churn']\n",
    "\n",
    "# разделяем модель на обучающую и валидационную выборку\n",
    "X_train, X_test, y_train, y_test = train_test_split(\n",
    "    X, y, test_size=0.2, random_state=0)\n",
    "\n"
   ]
  },
  {
   "cell_type": "markdown",
   "metadata": {},
   "source": [
    "### Обучим модель на train-выборке двумя способами:"
   ]
  },
  {
   "cell_type": "markdown",
   "metadata": {},
   "source": [
    "#### Логистической регрессией"
   ]
  },
  {
   "cell_type": "code",
   "execution_count": 14,
   "metadata": {},
   "outputs": [],
   "source": [
    "# зададим алгоритм для нашей модели\n",
    "model = LogisticRegression(solver='liblinear')\n",
    "\n",
    "# обучим модель\n",
    "model.fit(X_train, y_train)\n",
    "\n",
    "# воспользуемся уже обученной моделью, чтобы сделать прогнозы\n",
    "lr_probabilities = model.predict_proba(X_test)[:, 1]\n",
    "\n",
    "# бинарный прогноз\n",
    "lr_predictions = model.predict(X_test)"
   ]
  },
  {
   "cell_type": "markdown",
   "metadata": {},
   "source": [
    "#### Случайным лесом"
   ]
  },
  {
   "cell_type": "code",
   "execution_count": 15,
   "metadata": {},
   "outputs": [],
   "source": [
    "# зададим алгоритм для новой модели на основе алгоритма случайного леса\n",
    "rf_model = RandomForestClassifier(n_estimators=100, random_state=0) # Ваш код здесь\n",
    "# обучим модель случайного леса\n",
    "rf_model.fit(X_train, y_train)\n",
    "# воспользуемся уже обученной моделью, чтобы сделать прогнозы\n",
    "rf_predictions = rf_model.predict(X_test) # Ваш код здесь\n",
    "rf_probabilities = rf_model.predict_proba(X_test)[:, 1]# Ваш код здесь"
   ]
  },
  {
   "cell_type": "markdown",
   "metadata": {},
   "source": [
    "### Оценим метрики accuracy, precision и recall для обеих моделей на валидационной выборке. Сравним по ним модели. "
   ]
  },
  {
   "cell_type": "code",
   "execution_count": 16,
   "metadata": {},
   "outputs": [],
   "source": [
    "def print_all_metrics(y_true, y_pred, y_proba, title='Метрики классификации'):\n",
    "    print(title)\n",
    "    print('\\tAccuracy: {:.2f}'.format(accuracy_score(y_true, y_pred)))\n",
    "    print('\\tPrecision: {:.2f}'.format(precision_score(y_true, y_pred)))\n",
    "    print('\\tRecall: {:.2f}'.format(recall_score(y_true, y_pred)))\n",
    "    print('\\tF1: {:.2f}'.format(f1_score(y_true, y_pred)))\n",
    "    print('\\tROC_AUC: {:.2f}'.format(roc_auc_score(y_true, y_proba)))\n",
    "    "
   ]
  },
  {
   "cell_type": "code",
   "execution_count": 17,
   "metadata": {},
   "outputs": [
    {
     "name": "stdout",
     "output_type": "stream",
     "text": [
      "Метрики для модели логистической регрессии:\n",
      "\tAccuracy: 0.88\n",
      "\tPrecision: 0.76\n",
      "\tRecall: 0.77\n",
      "\tF1: 0.77\n",
      "\tROC_AUC: 0.95\n"
     ]
    }
   ],
   "source": [
    "print_all_metrics(\n",
    "    y_test,\n",
    "    lr_predictions,\n",
    "    lr_probabilities,\n",
    "    title='Метрики для модели логистической регрессии:',\n",
    ")"
   ]
  },
  {
   "cell_type": "code",
   "execution_count": 18,
   "metadata": {},
   "outputs": [
    {
     "name": "stdout",
     "output_type": "stream",
     "text": [
      "Метрики для модели случайного леса:\n",
      "\tAccuracy: 0.89\n",
      "\tPrecision: 0.78\n",
      "\tRecall: 0.77\n",
      "\tF1: 0.78\n",
      "\tROC_AUC: 0.94\n"
     ]
    }
   ],
   "source": [
    "print_all_metrics(\n",
    "    y_test,\n",
    "    rf_predictions,\n",
    "    rf_probabilities,\n",
    "    title='Метрики для модели случайного леса:'\n",
    ")"
   ]
  },
  {
   "cell_type": "markdown",
   "metadata": {},
   "source": [
    "Метрики обеих моделей показывают очень близкие значения. Можно сказать что обе модели показали себя хорошо без явного перевеса"
   ]
  },
  {
   "cell_type": "markdown",
   "metadata": {},
   "source": [
    "## Сделаем кластеризацию клиентов\n",
    "Отложим в сторону столбец с оттоком и проведите кластеризацию объектов (клиентов):"
   ]
  },
  {
   "cell_type": "markdown",
   "metadata": {},
   "source": [
    "### Стандартизируем данные."
   ]
  },
  {
   "cell_type": "code",
   "execution_count": 19,
   "metadata": {},
   "outputs": [],
   "source": [
    "sc = StandardScaler()\n",
    "X_sc = sc.fit_transform(X)"
   ]
  },
  {
   "cell_type": "markdown",
   "metadata": {},
   "source": [
    "### Построим матрицу расстояний на стандартизованной матрице признаков и нарисуем дендрограмму. "
   ]
  },
  {
   "cell_type": "code",
   "execution_count": 20,
   "metadata": {},
   "outputs": [
    {
     "data": {
      "image/png": "[encoded data removed]",
      "text/plain": [
       "<Figure size 1080x720 with 1 Axes>"
      ]
     },
     "metadata": {
      "needs_background": "light"
     },
     "output_type": "display_data"
    }
   ],
   "source": [
    "linked = linkage(X_sc, method = 'ward')\n",
    "plt.figure(figsize=(15, 10))  \n",
    "dendrogram(linked, orientation='top')\n",
    "plt.title('Hierarchial clustering for GYM')\n",
    "plt.show() "
   ]
  },
  {
   "cell_type": "markdown",
   "metadata": {},
   "source": [
    "На основании полученного графика можно предположить что существует пять кластеров"
   ]
  },
  {
   "cell_type": "markdown",
   "metadata": {},
   "source": [
    "### Обучим модель кластеризации на основании алгоритма K-Means и спрогнозируем кластеры клиентов. "
   ]
  },
  {
   "cell_type": "code",
   "execution_count": 21,
   "metadata": {},
   "outputs": [],
   "source": [
    "# Стандартизируем данные\n",
    "sc = StandardScaler()\n",
    "X_sc = sc.fit_transform(X)\n",
    "\n",
    "km = KMeans(n_clusters=5, random_state=0) # задаём число кластеров, равное 5, и фиксируем значение random_state для воспроизводимости результата\n",
    "labels = km.fit_predict(X_sc) # применяем алгоритм к данным и формируем вектор кластеров\n"
   ]
  },
  {
   "cell_type": "markdown",
   "metadata": {},
   "source": [
    "### Посмотрим на средние значения признаков для кластеров."
   ]
  },
  {
   "cell_type": "code",
   "execution_count": 22,
   "metadata": {},
   "outputs": [
    {
     "data": {
      "text/html": [
       "<div>\n",
       "<style scoped>\n",
       "    .dataframe tbody tr th:only-of-type {\n",
       "        vertical-align: middle;\n",
       "    }\n",
       "\n",
       "    .dataframe tbody tr th {\n",
       "        vertical-align: top;\n",
       "    }\n",
       "\n",
       "    .dataframe thead th {\n",
       "        text-align: right;\n",
       "    }\n",
       "</style>\n",
       "<table border=\"1\" class=\"dataframe\">\n",
       "  <thead>\n",
       "    <tr style=\"text-align: right;\">\n",
       "      <th>cluster</th>\n",
       "      <th>0</th>\n",
       "      <th>1</th>\n",
       "      <th>2</th>\n",
       "      <th>3</th>\n",
       "      <th>4</th>\n",
       "    </tr>\n",
       "  </thead>\n",
       "  <tbody>\n",
       "    <tr>\n",
       "      <th>gender</th>\n",
       "      <td>0.499109</td>\n",
       "      <td>0.488571</td>\n",
       "      <td>0.505300</td>\n",
       "      <td>0.544202</td>\n",
       "      <td>0.523316</td>\n",
       "    </tr>\n",
       "    <tr>\n",
       "      <th>near_location</th>\n",
       "      <td>0.000000</td>\n",
       "      <td>0.995238</td>\n",
       "      <td>1.000000</td>\n",
       "      <td>1.000000</td>\n",
       "      <td>0.862694</td>\n",
       "    </tr>\n",
       "    <tr>\n",
       "      <th>partner</th>\n",
       "      <td>0.488414</td>\n",
       "      <td>0.955238</td>\n",
       "      <td>0.238516</td>\n",
       "      <td>0.250287</td>\n",
       "      <td>0.471503</td>\n",
       "    </tr>\n",
       "    <tr>\n",
       "      <th>promo_friends</th>\n",
       "      <td>0.076649</td>\n",
       "      <td>0.892381</td>\n",
       "      <td>0.059187</td>\n",
       "      <td>0.079219</td>\n",
       "      <td>0.305699</td>\n",
       "    </tr>\n",
       "    <tr>\n",
       "      <th>phone</th>\n",
       "      <td>1.000000</td>\n",
       "      <td>1.000000</td>\n",
       "      <td>1.000000</td>\n",
       "      <td>1.000000</td>\n",
       "      <td>0.000000</td>\n",
       "    </tr>\n",
       "    <tr>\n",
       "      <th>contract_period</th>\n",
       "      <td>3.032086</td>\n",
       "      <td>7.660952</td>\n",
       "      <td>2.819788</td>\n",
       "      <td>4.528129</td>\n",
       "      <td>4.777202</td>\n",
       "    </tr>\n",
       "    <tr>\n",
       "      <th>group_visits</th>\n",
       "      <td>0.235294</td>\n",
       "      <td>0.458095</td>\n",
       "      <td>0.000000</td>\n",
       "      <td>1.000000</td>\n",
       "      <td>0.427461</td>\n",
       "    </tr>\n",
       "    <tr>\n",
       "      <th>age</th>\n",
       "      <td>28.721925</td>\n",
       "      <td>29.543810</td>\n",
       "      <td>28.770318</td>\n",
       "      <td>29.536165</td>\n",
       "      <td>29.297927</td>\n",
       "    </tr>\n",
       "    <tr>\n",
       "      <th>avg_additional_charges_total</th>\n",
       "      <td>137.540009</td>\n",
       "      <td>155.861428</td>\n",
       "      <td>143.383993</td>\n",
       "      <td>148.088897</td>\n",
       "      <td>144.208179</td>\n",
       "    </tr>\n",
       "    <tr>\n",
       "      <th>lifetime</th>\n",
       "      <td>3.060606</td>\n",
       "      <td>4.380952</td>\n",
       "      <td>3.343640</td>\n",
       "      <td>3.761194</td>\n",
       "      <td>3.940415</td>\n",
       "    </tr>\n",
       "    <tr>\n",
       "      <th>avg_class_frequency_total</th>\n",
       "      <td>1.770413</td>\n",
       "      <td>1.978963</td>\n",
       "      <td>1.800647</td>\n",
       "      <td>1.941342</td>\n",
       "      <td>1.854211</td>\n",
       "    </tr>\n",
       "    <tr>\n",
       "      <th>churn</th>\n",
       "      <td>0.399287</td>\n",
       "      <td>0.120952</td>\n",
       "      <td>0.381625</td>\n",
       "      <td>0.200918</td>\n",
       "      <td>0.266839</td>\n",
       "    </tr>\n",
       "  </tbody>\n",
       "</table>\n",
       "</div>"
      ],
      "text/plain": [
       "cluster                                0           1           2           3  \\\n",
       "gender                          0.499109    0.488571    0.505300    0.544202   \n",
       "near_location                   0.000000    0.995238    1.000000    1.000000   \n",
       "partner                         0.488414    0.955238    0.238516    0.250287   \n",
       "promo_friends                   0.076649    0.892381    0.059187    0.079219   \n",
       "phone                           1.000000    1.000000    1.000000    1.000000   \n",
       "contract_period                 3.032086    7.660952    2.819788    4.528129   \n",
       "group_visits                    0.235294    0.458095    0.000000    1.000000   \n",
       "age                            28.721925   29.543810   28.770318   29.536165   \n",
       "avg_additional_charges_total  137.540009  155.861428  143.383993  148.088897   \n",
       "lifetime                        3.060606    4.380952    3.343640    3.761194   \n",
       "avg_class_frequency_total       1.770413    1.978963    1.800647    1.941342   \n",
       "churn                           0.399287    0.120952    0.381625    0.200918   \n",
       "\n",
       "cluster                                4  \n",
       "gender                          0.523316  \n",
       "near_location                   0.862694  \n",
       "partner                         0.471503  \n",
       "promo_friends                   0.305699  \n",
       "phone                           0.000000  \n",
       "contract_period                 4.777202  \n",
       "group_visits                    0.427461  \n",
       "age                            29.297927  \n",
       "avg_additional_charges_total  144.208179  \n",
       "lifetime                        3.940415  \n",
       "avg_class_frequency_total       1.854211  \n",
       "churn                           0.266839  "
      ]
     },
     "execution_count": 22,
     "metadata": {},
     "output_type": "execute_result"
    }
   ],
   "source": [
    "gym_churn['cluster']=labels\n",
    "gym_churn.groupby('cluster').agg('mean').T"
   ]
  },
  {
   "cell_type": "markdown",
   "metadata": {},
   "source": [
    "Средние показатели оттока для двух кластеров(0 и 2) заметно выше других. И у них есть некоторые отличительные черты:\n",
    "- Поселители из кластера 0 живут и работают не возле фитнес-центра. В отличие от остальных\n",
    "- Длительность абонемента у 0 и 2 около трех месяцев, хотя для осталь превышает 4,5\n",
    "- Оба кластера реже других посещают групповые занятия\n",
    "- Чуть меньше тратят деньги на сопутствующие услуги\n",
    "- Это более \"новенькие\" посетители фитнес-центра, которые еще не успели втянуться\n",
    "- Средняя посещаемость ниже остальных"
   ]
  },
  {
   "cell_type": "markdown",
   "metadata": {},
   "source": [
    "### Построим распределения признаков для кластеров."
   ]
  },
  {
   "cell_type": "code",
   "execution_count": 23,
   "metadata": {
    "scrolled": true
   },
   "outputs": [
    {
     "data": {
      "image/png": "[encoded data removed]",
      "text/plain": [
       "<Figure size 432x288 with 1 Axes>"
      ]
     },
     "metadata": {
      "needs_background": "light"
     },
     "output_type": "display_data"
    },
    {
     "data": {
      "image/png": "[encoded data removed]",
      "text/plain": [
       "<Figure size 432x288 with 1 Axes>"
      ]
     },
     "metadata": {
      "needs_background": "light"
     },
     "output_type": "display_data"
    },
    {
     "data": {
      "image/png": "[encoded data removed]",
      "text/plain": [
       "<Figure size 432x288 with 1 Axes>"
      ]
     },
     "metadata": {
      "needs_background": "light"
     },
     "output_type": "display_data"
    },
    {
     "data": {
      "image/png": "[encoded data removed]",
      "text/plain": [
       "<Figure size 432x288 with 1 Axes>"
      ]
     },
     "metadata": {
      "needs_background": "light"
     },
     "output_type": "display_data"
    },
    {
     "data": {
      "image/png": "[encoded data removed]",
      "text/plain": [
       "<Figure size 432x288 with 1 Axes>"
      ]
     },
     "metadata": {
      "needs_background": "light"
     },
     "output_type": "display_data"
    },
    {
     "data": {
      "image/png": "[encoded data removed]",
      "text/plain": [
       "<Figure size 432x288 with 1 Axes>"
      ]
     },
     "metadata": {
      "needs_background": "light"
     },
     "output_type": "display_data"
    },
    {
     "data": {
      "image/png": "[encoded data removed]",
      "text/plain": [
       "<Figure size 432x288 with 1 Axes>"
      ]
     },
     "metadata": {
      "needs_background": "light"
     },
     "output_type": "display_data"
    },
    {
     "data": {
      "image/png": "[encoded data removed]",
      "text/plain": [
       "<Figure size 402.375x360 with 1 Axes>"
      ]
     },
     "metadata": {
      "needs_background": "light"
     },
     "output_type": "display_data"
    },
    {
     "data": {
      "image/png": "[encoded data removed]",
      "text/plain": [
       "<Figure size 402.375x360 with 1 Axes>"
      ]
     },
     "metadata": {
      "needs_background": "light"
     },
     "output_type": "display_data"
    },
    {
     "data": {
      "image/png": "[encoded data removed]",
      "text/plain": [
       "<Figure size 402.375x360 with 1 Axes>"
      ]
     },
     "metadata": {
      "needs_background": "light"
     },
     "output_type": "display_data"
    },
    {
     "data": {
      "image/png": "[encoded data removed]",
      "text/plain": [
       "<Figure size 402.375x360 with 1 Axes>"
      ]
     },
     "metadata": {
      "needs_background": "light"
     },
     "output_type": "display_data"
    },
    {
     "data": {
      "image/png": "[encoded data removed]",
      "text/plain": [
       "<Figure size 432x288 with 1 Axes>"
      ]
     },
     "metadata": {
      "needs_background": "light"
     },
     "output_type": "display_data"
    }
   ],
   "source": [
    "def feat_hist(x, group_col, key_cols):\n",
    "    x_new = x.copy()[key_cols]\n",
    "    x_new[key_cols] = x[key_cols]\n",
    "    for c in key_cols:\n",
    " \n",
    "        if c == group_col: continue\n",
    " \n",
    "        # бинарные колонки\n",
    "        if len(x_new[c].unique()) < 10:\n",
    "            report = x_new.reset_index().pivot_table(index = c, columns = group_col, values = 'index', aggfunc = 'count')\n",
    "            report.plot(kind = 'bar', stacked = True, alpha = 0.5)\n",
    "            plt.title('Распределение по признаку '  +c)\n",
    " \n",
    "        else:\n",
    "            sns.displot(data = x, x = c, kde=True, hue = 'cluster', palette='bright')\n",
    "            plt.title('Распределение по признаку '  +c, fontsize = 14,)\n",
    "            plt.xlabel(c)\n",
    "#            plt.title(c)\n",
    "#            plt.legend()\n",
    "            plt.show()\n",
    " \n",
    "feat_hist(gym_churn, 'cluster', gym_churn.columns)\n"
   ]
  },
  {
   "cell_type": "markdown",
   "metadata": {},
   "source": [
    "## Выводы"
   ]
  },
  {
   "cell_type": "markdown",
   "metadata": {},
   "source": [
    "Задачей нашего проекта было разарботать стратегию взаимодействия с клиентами для их удержания.\n",
    "<br>Для этого мы выделили пять кластеров клиентов посетителей, в коротых кластеры 1,3,4 мы определили как надежные, а кластеры 0 и 2 с высокой вероятностью оттока.\n",
    "<br>Кластеризация позволила нам описать типичные портреты клиенов.\n",
    "Для посетителей с высоким оттоком характерны:\n",
    "- живут и работают не возле фитнес-центра.\n",
    "- Длительность абонемента около трех месяцев\n",
    "- Реже других посещают групповые занятия\n",
    "- Меньше других тратят деньги на сопутствующие услуги\n",
    "- Это более \"новенькие\" посетители фитнес-центра\n",
    "- Средняя посещаемость ниже остальных"
   ]
  },
  {
   "cell_type": "markdown",
   "metadata": {},
   "source": [
    "По выявленным признакам можно сказать что к оттоку склонны посетители которые не успели втянуться в спортивный образ жизни.\n",
    "\n",
    "И стоит помочь им пройти рубеж трехмесячного посещения. Предложить дисконт на длительный абонемент и груповые занятия чтобы увлеч в фитнес-комьюнити"
   ]
  }
 ],
 "metadata": {
  "ExecuteTimeLog": [
   {
    "duration": 2482,
    "start_time": "2022-05-05T07:58:24.676Z"
   },
   {
    "duration": 61,
    "start_time": "2022-05-05T07:59:27.010Z"
   },
   {
    "duration": 41,
    "start_time": "2022-05-05T07:59:41.990Z"
   },
   {
    "duration": 18,
    "start_time": "2022-05-05T08:02:50.893Z"
   },
   {
    "duration": 160,
    "start_time": "2022-05-05T08:02:55.672Z"
   },
   {
    "duration": 15,
    "start_time": "2022-05-05T08:03:01.409Z"
   },
   {
    "duration": 58,
    "start_time": "2022-05-05T08:04:12.233Z"
   },
   {
    "duration": 6,
    "start_time": "2022-05-05T08:24:28.337Z"
   },
   {
    "duration": 5,
    "start_time": "2022-05-05T08:25:01.342Z"
   },
   {
    "duration": 8,
    "start_time": "2022-05-05T08:25:25.605Z"
   },
   {
    "duration": 12,
    "start_time": "2022-05-05T08:26:45.135Z"
   },
   {
    "duration": 57,
    "start_time": "2022-05-05T08:26:49.366Z"
   },
   {
    "duration": 23,
    "start_time": "2022-05-05T08:26:54.505Z"
   },
   {
    "duration": 6,
    "start_time": "2022-05-05T10:03:32.771Z"
   },
   {
    "duration": 19,
    "start_time": "2022-05-05T10:03:40.718Z"
   },
   {
    "duration": 241,
    "start_time": "2022-05-05T10:42:12.557Z"
   },
   {
    "duration": 3031,
    "start_time": "2022-05-05T10:42:21.113Z"
   },
   {
    "duration": 63,
    "start_time": "2022-05-05T10:42:24.148Z"
   },
   {
    "duration": 29,
    "start_time": "2022-05-05T10:42:24.214Z"
   },
   {
    "duration": 47,
    "start_time": "2022-05-05T10:42:24.246Z"
   },
   {
    "duration": 67,
    "start_time": "2022-05-05T10:42:24.297Z"
   },
   {
    "duration": 342,
    "start_time": "2022-05-05T10:42:24.366Z"
   },
   {
    "duration": 0,
    "start_time": "2022-05-05T10:42:24.711Z"
   },
   {
    "duration": 0,
    "start_time": "2022-05-05T10:42:24.713Z"
   },
   {
    "duration": 6,
    "start_time": "2022-05-05T10:43:07.974Z"
   },
   {
    "duration": 27,
    "start_time": "2022-05-05T10:43:12.295Z"
   },
   {
    "duration": 243,
    "start_time": "2022-05-05T10:43:32.686Z"
   },
   {
    "duration": 6,
    "start_time": "2022-05-05T10:44:19.103Z"
   },
   {
    "duration": 2075,
    "start_time": "2022-05-05T10:44:24.582Z"
   },
   {
    "duration": 42,
    "start_time": "2022-05-05T10:44:26.660Z"
   },
   {
    "duration": 18,
    "start_time": "2022-05-05T10:44:26.704Z"
   },
   {
    "duration": 17,
    "start_time": "2022-05-05T10:44:26.725Z"
   },
   {
    "duration": 83,
    "start_time": "2022-05-05T10:44:26.744Z"
   },
   {
    "duration": 6,
    "start_time": "2022-05-05T10:44:26.829Z"
   },
   {
    "duration": 25,
    "start_time": "2022-05-05T10:44:26.837Z"
   },
   {
    "duration": 402,
    "start_time": "2022-05-05T10:44:26.864Z"
   },
   {
    "duration": 3972,
    "start_time": "2022-05-05T10:45:48.740Z"
   },
   {
    "duration": 3669,
    "start_time": "2022-05-05T10:46:17.778Z"
   },
   {
    "duration": 7,
    "start_time": "2022-05-05T10:46:37.498Z"
   },
   {
    "duration": 219,
    "start_time": "2022-05-05T10:46:52.954Z"
   },
   {
    "duration": 7619,
    "start_time": "2022-05-05T10:47:18.191Z"
   },
   {
    "duration": 4592,
    "start_time": "2022-05-05T10:47:47.336Z"
   },
   {
    "duration": 4086,
    "start_time": "2022-05-05T10:47:53.054Z"
   },
   {
    "duration": 3777,
    "start_time": "2022-05-05T10:48:05.402Z"
   },
   {
    "duration": 231,
    "start_time": "2022-05-05T11:00:34.433Z"
   },
   {
    "duration": 222,
    "start_time": "2022-05-05T11:00:51.243Z"
   },
   {
    "duration": 225,
    "start_time": "2022-05-05T11:01:58.968Z"
   },
   {
    "duration": 3771,
    "start_time": "2022-05-05T11:04:54.034Z"
   },
   {
    "duration": 7,
    "start_time": "2022-05-05T11:05:08.441Z"
   },
   {
    "duration": 3436,
    "start_time": "2022-05-05T11:05:48.590Z"
   },
   {
    "duration": 4770,
    "start_time": "2022-05-05T11:06:34.051Z"
   },
   {
    "duration": 3650,
    "start_time": "2022-05-05T11:07:24.987Z"
   },
   {
    "duration": 3454,
    "start_time": "2022-05-05T11:31:43.593Z"
   },
   {
    "duration": 3995,
    "start_time": "2022-05-05T11:38:16.264Z"
   },
   {
    "duration": 3824,
    "start_time": "2022-05-05T11:46:48.429Z"
   },
   {
    "duration": 5,
    "start_time": "2022-05-05T11:52:32.301Z"
   },
   {
    "duration": 3155,
    "start_time": "2022-05-05T11:52:39.282Z"
   },
   {
    "duration": 114,
    "start_time": "2022-05-05T11:52:42.494Z"
   },
   {
    "duration": 19,
    "start_time": "2022-05-05T11:52:42.611Z"
   },
   {
    "duration": 73,
    "start_time": "2022-05-05T11:52:42.633Z"
   },
   {
    "duration": 118,
    "start_time": "2022-05-05T11:52:42.708Z"
   },
   {
    "duration": 6,
    "start_time": "2022-05-05T11:52:42.829Z"
   },
   {
    "duration": 64,
    "start_time": "2022-05-05T11:52:42.838Z"
   },
   {
    "duration": 91,
    "start_time": "2022-05-05T11:52:42.906Z"
   },
   {
    "duration": 4464,
    "start_time": "2022-05-05T11:52:43.000Z"
   },
   {
    "duration": 6,
    "start_time": "2022-05-05T11:58:10.840Z"
   },
   {
    "duration": 5533,
    "start_time": "2022-05-05T11:58:28.264Z"
   },
   {
    "duration": 207,
    "start_time": "2022-05-05T13:54:16.064Z"
   },
   {
    "duration": 170,
    "start_time": "2022-05-05T13:54:26.698Z"
   },
   {
    "duration": 5,
    "start_time": "2022-05-05T13:54:34.912Z"
   },
   {
    "duration": 3946,
    "start_time": "2022-05-05T13:56:24.506Z"
   },
   {
    "duration": 336,
    "start_time": "2022-05-05T14:08:22.248Z"
   },
   {
    "duration": 4229,
    "start_time": "2022-05-05T14:08:38.451Z"
   },
   {
    "duration": 4157,
    "start_time": "2022-05-05T14:09:06.311Z"
   },
   {
    "duration": 4268,
    "start_time": "2022-05-05T14:09:14.674Z"
   },
   {
    "duration": 13,
    "start_time": "2022-05-05T14:22:34.820Z"
   },
   {
    "duration": 61,
    "start_time": "2022-05-05T14:22:40.062Z"
   },
   {
    "duration": 17,
    "start_time": "2022-05-05T14:34:06.809Z"
   },
   {
    "duration": 267,
    "start_time": "2022-05-05T14:34:37.832Z"
   },
   {
    "duration": 2105,
    "start_time": "2022-05-05T14:36:21.342Z"
   },
   {
    "duration": 18,
    "start_time": "2022-05-05T14:39:21.100Z"
   },
   {
    "duration": 6,
    "start_time": "2022-05-05T14:40:45.524Z"
   },
   {
    "duration": 1877,
    "start_time": "2022-05-05T14:40:47.606Z"
   },
   {
    "duration": 1809,
    "start_time": "2022-05-05T14:41:16.003Z"
   },
   {
    "duration": 6,
    "start_time": "2022-05-05T15:15:02.591Z"
   },
   {
    "duration": 200,
    "start_time": "2022-05-05T15:15:44.920Z"
   },
   {
    "duration": 10,
    "start_time": "2022-05-05T15:15:52.824Z"
   },
   {
    "duration": 13,
    "start_time": "2022-05-05T15:16:31.754Z"
   },
   {
    "duration": 5,
    "start_time": "2022-05-05T15:17:05.310Z"
   },
   {
    "duration": 44,
    "start_time": "2022-05-05T15:17:09.200Z"
   },
   {
    "duration": 48,
    "start_time": "2022-05-05T15:17:46.122Z"
   },
   {
    "duration": 14,
    "start_time": "2022-05-05T15:27:17.550Z"
   },
   {
    "duration": 6,
    "start_time": "2022-05-05T15:27:50.453Z"
   },
   {
    "duration": 735,
    "start_time": "2022-05-05T15:27:57.242Z"
   },
   {
    "duration": 5,
    "start_time": "2022-05-05T15:29:06.613Z"
   },
   {
    "duration": 50,
    "start_time": "2022-05-05T15:30:33.972Z"
   },
   {
    "duration": 6,
    "start_time": "2022-05-05T15:30:36.196Z"
   },
   {
    "duration": 19,
    "start_time": "2022-05-05T15:30:38.297Z"
   },
   {
    "duration": 6,
    "start_time": "2022-05-05T15:31:31.235Z"
   },
   {
    "duration": 15,
    "start_time": "2022-05-05T15:31:36.341Z"
   },
   {
    "duration": 21,
    "start_time": "2022-05-05T15:31:38.291Z"
   },
   {
    "duration": 7,
    "start_time": "2022-05-05T15:36:49.829Z"
   },
   {
    "duration": 15,
    "start_time": "2022-05-05T15:37:22.471Z"
   },
   {
    "duration": 746,
    "start_time": "2022-05-05T15:37:58.997Z"
   },
   {
    "duration": 156234,
    "start_time": "2022-05-05T15:38:24.688Z"
   },
   {
    "duration": 29,
    "start_time": "2022-05-05T15:42:17.813Z"
   },
   {
    "duration": 1776,
    "start_time": "2022-05-05T15:42:25.123Z"
   },
   {
    "duration": 1734,
    "start_time": "2022-05-05T15:45:58.264Z"
   },
   {
    "duration": 6,
    "start_time": "2022-05-05T15:59:52.131Z"
   },
   {
    "duration": 17,
    "start_time": "2022-05-05T16:00:02.099Z"
   },
   {
    "duration": 6,
    "start_time": "2022-05-05T16:00:34.788Z"
   },
   {
    "duration": 6,
    "start_time": "2022-05-05T16:01:04.574Z"
   },
   {
    "duration": 25,
    "start_time": "2022-05-05T16:01:43.639Z"
   },
   {
    "duration": 47,
    "start_time": "2022-05-06T07:48:57.277Z"
   },
   {
    "duration": 1833,
    "start_time": "2022-05-06T07:49:23.894Z"
   },
   {
    "duration": 37,
    "start_time": "2022-05-06T07:49:25.729Z"
   },
   {
    "duration": 15,
    "start_time": "2022-05-06T07:49:25.768Z"
   },
   {
    "duration": 15,
    "start_time": "2022-05-06T07:49:25.785Z"
   },
   {
    "duration": 72,
    "start_time": "2022-05-06T07:49:25.802Z"
   },
   {
    "duration": 5,
    "start_time": "2022-05-06T07:49:25.875Z"
   },
   {
    "duration": 19,
    "start_time": "2022-05-06T07:49:25.882Z"
   },
   {
    "duration": 4,
    "start_time": "2022-05-06T07:49:25.903Z"
   },
   {
    "duration": 1940,
    "start_time": "2022-05-06T07:49:25.909Z"
   },
   {
    "duration": 0,
    "start_time": "2022-05-06T07:49:27.851Z"
   },
   {
    "duration": 0,
    "start_time": "2022-05-06T07:49:27.852Z"
   },
   {
    "duration": 0,
    "start_time": "2022-05-06T07:49:27.853Z"
   },
   {
    "duration": 0,
    "start_time": "2022-05-06T07:49:27.854Z"
   },
   {
    "duration": 0,
    "start_time": "2022-05-06T07:49:27.855Z"
   },
   {
    "duration": 0,
    "start_time": "2022-05-06T07:49:27.856Z"
   },
   {
    "duration": 0,
    "start_time": "2022-05-06T07:49:27.857Z"
   },
   {
    "duration": 0,
    "start_time": "2022-05-06T07:49:27.858Z"
   },
   {
    "duration": 0,
    "start_time": "2022-05-06T07:49:27.859Z"
   },
   {
    "duration": 0,
    "start_time": "2022-05-06T07:49:27.860Z"
   },
   {
    "duration": 0,
    "start_time": "2022-05-06T07:49:27.861Z"
   },
   {
    "duration": 0,
    "start_time": "2022-05-06T07:49:27.862Z"
   },
   {
    "duration": 0,
    "start_time": "2022-05-06T07:49:27.863Z"
   },
   {
    "duration": 0,
    "start_time": "2022-05-06T07:49:27.864Z"
   },
   {
    "duration": 0,
    "start_time": "2022-05-06T07:49:27.865Z"
   },
   {
    "duration": 307,
    "start_time": "2022-05-06T07:50:03.635Z"
   },
   {
    "duration": 1808,
    "start_time": "2022-05-06T07:50:41.860Z"
   },
   {
    "duration": 1396,
    "start_time": "2022-05-06T07:53:15.929Z"
   },
   {
    "duration": 26,
    "start_time": "2022-05-06T07:53:17.327Z"
   },
   {
    "duration": 11,
    "start_time": "2022-05-06T07:53:17.354Z"
   },
   {
    "duration": 11,
    "start_time": "2022-05-06T07:53:17.366Z"
   },
   {
    "duration": 40,
    "start_time": "2022-05-06T07:53:17.379Z"
   },
   {
    "duration": 4,
    "start_time": "2022-05-06T07:53:17.420Z"
   },
   {
    "duration": 14,
    "start_time": "2022-05-06T07:53:17.447Z"
   },
   {
    "duration": 3,
    "start_time": "2022-05-06T07:53:17.463Z"
   },
   {
    "duration": 11,
    "start_time": "2022-05-06T07:53:17.468Z"
   },
   {
    "duration": 1298,
    "start_time": "2022-05-06T07:53:17.482Z"
   },
   {
    "duration": 11,
    "start_time": "2022-05-06T07:53:18.782Z"
   },
   {
    "duration": 9,
    "start_time": "2022-05-06T07:53:18.795Z"
   },
   {
    "duration": 1089,
    "start_time": "2022-05-06T07:53:18.806Z"
   },
   {
    "duration": 6,
    "start_time": "2022-05-06T07:53:19.896Z"
   },
   {
    "duration": 26,
    "start_time": "2022-05-06T07:53:19.904Z"
   },
   {
    "duration": 345,
    "start_time": "2022-05-06T07:53:19.931Z"
   },
   {
    "duration": 4,
    "start_time": "2022-05-06T07:53:20.277Z"
   },
   {
    "duration": 14,
    "start_time": "2022-05-06T07:53:20.282Z"
   },
   {
    "duration": 8,
    "start_time": "2022-05-06T07:53:20.298Z"
   },
   {
    "duration": 6,
    "start_time": "2022-05-06T07:53:20.308Z"
   },
   {
    "duration": 91945,
    "start_time": "2022-05-06T07:53:20.316Z"
   },
   {
    "duration": 1289,
    "start_time": "2022-05-06T07:54:52.262Z"
   },
   {
    "duration": 10,
    "start_time": "2022-05-06T07:54:53.553Z"
   },
   {
    "duration": 16,
    "start_time": "2022-05-06T07:54:53.564Z"
   },
   {
    "duration": 202,
    "start_time": "2022-05-06T08:01:43.182Z"
   },
   {
    "duration": 106,
    "start_time": "2022-05-06T08:01:55.741Z"
   },
   {
    "duration": 2074,
    "start_time": "2022-05-06T08:04:20.472Z"
   },
   {
    "duration": 2112,
    "start_time": "2022-05-06T08:04:49.773Z"
   },
   {
    "duration": 2004,
    "start_time": "2022-05-06T08:04:55.645Z"
   },
   {
    "duration": 255,
    "start_time": "2022-05-06T08:26:03.592Z"
   },
   {
    "duration": 155,
    "start_time": "2022-05-06T09:19:11.774Z"
   },
   {
    "duration": 2230,
    "start_time": "2022-05-06T09:19:21.426Z"
   },
   {
    "duration": 156,
    "start_time": "2022-05-06T09:19:42.820Z"
   },
   {
    "duration": 8,
    "start_time": "2022-05-06T09:20:39.070Z"
   },
   {
    "duration": 118,
    "start_time": "2022-05-06T09:20:56.870Z"
   },
   {
    "duration": 281,
    "start_time": "2022-05-06T09:21:04.827Z"
   },
   {
    "duration": 211,
    "start_time": "2022-05-06T09:22:14.198Z"
   },
   {
    "duration": 11,
    "start_time": "2022-05-06T09:23:40.888Z"
   },
   {
    "duration": 126,
    "start_time": "2022-05-06T09:23:59.495Z"
   },
   {
    "duration": 241,
    "start_time": "2022-05-06T09:24:17.166Z"
   },
   {
    "duration": 287,
    "start_time": "2022-05-06T09:47:30.609Z"
   },
   {
    "duration": 265,
    "start_time": "2022-05-06T09:47:55.842Z"
   },
   {
    "duration": 143,
    "start_time": "2022-05-06T09:49:02.441Z"
   },
   {
    "duration": 294,
    "start_time": "2022-05-06T09:49:15.512Z"
   },
   {
    "duration": 284,
    "start_time": "2022-05-06T09:49:43.098Z"
   },
   {
    "duration": 125,
    "start_time": "2022-05-06T09:49:59.778Z"
   },
   {
    "duration": 221,
    "start_time": "2022-05-06T09:50:29.874Z"
   },
   {
    "duration": 6,
    "start_time": "2022-05-06T09:55:19.140Z"
   },
   {
    "duration": 10,
    "start_time": "2022-05-06T09:55:40.042Z"
   },
   {
    "duration": 6,
    "start_time": "2022-05-06T10:08:57.028Z"
   },
   {
    "duration": 12,
    "start_time": "2022-05-06T10:09:28.731Z"
   },
   {
    "duration": 7,
    "start_time": "2022-05-06T10:09:59.636Z"
   },
   {
    "duration": 272,
    "start_time": "2022-05-06T10:10:28.340Z"
   },
   {
    "duration": 9,
    "start_time": "2022-05-06T10:10:51.586Z"
   },
   {
    "duration": 10,
    "start_time": "2022-05-06T10:10:57.706Z"
   },
   {
    "duration": 252,
    "start_time": "2022-05-06T10:11:37.677Z"
   },
   {
    "duration": 252,
    "start_time": "2022-05-06T10:13:06.843Z"
   },
   {
    "duration": 291,
    "start_time": "2022-05-06T10:14:45.124Z"
   },
   {
    "duration": 4,
    "start_time": "2022-05-06T10:18:13.206Z"
   },
   {
    "duration": 120,
    "start_time": "2022-05-06T10:20:18.098Z"
   },
   {
    "duration": 9,
    "start_time": "2022-05-06T10:20:22.276Z"
   },
   {
    "duration": 5,
    "start_time": "2022-05-06T10:20:58.273Z"
   },
   {
    "duration": 1555,
    "start_time": "2022-05-06T10:21:13.931Z"
   },
   {
    "duration": 27,
    "start_time": "2022-05-06T10:21:15.489Z"
   },
   {
    "duration": 34,
    "start_time": "2022-05-06T10:21:15.518Z"
   },
   {
    "duration": 18,
    "start_time": "2022-05-06T10:21:15.556Z"
   },
   {
    "duration": 43,
    "start_time": "2022-05-06T10:21:15.576Z"
   },
   {
    "duration": 5,
    "start_time": "2022-05-06T10:21:15.620Z"
   },
   {
    "duration": 27,
    "start_time": "2022-05-06T10:21:15.626Z"
   },
   {
    "duration": 3,
    "start_time": "2022-05-06T10:21:15.664Z"
   },
   {
    "duration": 13,
    "start_time": "2022-05-06T10:21:15.672Z"
   },
   {
    "duration": 8,
    "start_time": "2022-05-06T10:21:15.687Z"
   },
   {
    "duration": 112,
    "start_time": "2022-05-06T10:21:15.696Z"
   },
   {
    "duration": 0,
    "start_time": "2022-05-06T10:21:15.809Z"
   },
   {
    "duration": 0,
    "start_time": "2022-05-06T10:21:15.811Z"
   },
   {
    "duration": 0,
    "start_time": "2022-05-06T10:21:15.812Z"
   },
   {
    "duration": 0,
    "start_time": "2022-05-06T10:21:15.813Z"
   },
   {
    "duration": 0,
    "start_time": "2022-05-06T10:21:15.814Z"
   },
   {
    "duration": 0,
    "start_time": "2022-05-06T10:21:15.815Z"
   },
   {
    "duration": 0,
    "start_time": "2022-05-06T10:21:15.816Z"
   },
   {
    "duration": 0,
    "start_time": "2022-05-06T10:21:15.817Z"
   },
   {
    "duration": 0,
    "start_time": "2022-05-06T10:21:15.818Z"
   },
   {
    "duration": 0,
    "start_time": "2022-05-06T10:21:15.819Z"
   },
   {
    "duration": 0,
    "start_time": "2022-05-06T10:21:15.820Z"
   },
   {
    "duration": 0,
    "start_time": "2022-05-06T10:21:15.821Z"
   },
   {
    "duration": 0,
    "start_time": "2022-05-06T10:21:15.822Z"
   },
   {
    "duration": 0,
    "start_time": "2022-05-06T10:21:15.823Z"
   },
   {
    "duration": 0,
    "start_time": "2022-05-06T10:21:15.824Z"
   },
   {
    "duration": 0,
    "start_time": "2022-05-06T10:21:15.824Z"
   },
   {
    "duration": 0,
    "start_time": "2022-05-06T10:21:15.825Z"
   },
   {
    "duration": 0,
    "start_time": "2022-05-06T10:21:15.826Z"
   },
   {
    "duration": 5,
    "start_time": "2022-05-06T10:21:40.521Z"
   },
   {
    "duration": 1480,
    "start_time": "2022-05-06T10:21:49.036Z"
   },
   {
    "duration": 26,
    "start_time": "2022-05-06T10:21:50.517Z"
   },
   {
    "duration": 19,
    "start_time": "2022-05-06T10:21:50.545Z"
   },
   {
    "duration": 30,
    "start_time": "2022-05-06T10:21:50.566Z"
   },
   {
    "duration": 38,
    "start_time": "2022-05-06T10:21:50.597Z"
   },
   {
    "duration": 4,
    "start_time": "2022-05-06T10:21:50.637Z"
   },
   {
    "duration": 18,
    "start_time": "2022-05-06T10:21:50.643Z"
   },
   {
    "duration": 18,
    "start_time": "2022-05-06T10:21:50.663Z"
   },
   {
    "duration": 10,
    "start_time": "2022-05-06T10:21:50.682Z"
   },
   {
    "duration": 8,
    "start_time": "2022-05-06T10:21:50.695Z"
   },
   {
    "duration": 5,
    "start_time": "2022-05-06T10:21:50.705Z"
   },
   {
    "duration": 11,
    "start_time": "2022-05-06T10:21:50.712Z"
   },
   {
    "duration": 392,
    "start_time": "2022-05-06T10:21:50.725Z"
   },
   {
    "duration": 248,
    "start_time": "2022-05-06T10:21:51.118Z"
   },
   {
    "duration": 2885,
    "start_time": "2022-05-06T10:21:51.368Z"
   },
   {
    "duration": 15,
    "start_time": "2022-05-06T10:21:54.259Z"
   },
   {
    "duration": 14,
    "start_time": "2022-05-06T10:21:54.276Z"
   },
   {
    "duration": 1134,
    "start_time": "2022-05-06T10:21:54.292Z"
   },
   {
    "duration": 23,
    "start_time": "2022-05-06T10:21:55.428Z"
   },
   {
    "duration": 35,
    "start_time": "2022-05-06T10:21:55.453Z"
   },
   {
    "duration": 360,
    "start_time": "2022-05-06T10:21:55.490Z"
   },
   {
    "duration": 6,
    "start_time": "2022-05-06T10:21:55.855Z"
   },
   {
    "duration": 32,
    "start_time": "2022-05-06T10:21:55.863Z"
   },
   {
    "duration": 10,
    "start_time": "2022-05-06T10:21:55.896Z"
   },
   {
    "duration": 8,
    "start_time": "2022-05-06T10:21:55.908Z"
   },
   {
    "duration": 99944,
    "start_time": "2022-05-06T10:21:55.918Z"
   },
   {
    "duration": 1009,
    "start_time": "2022-05-06T10:23:35.866Z"
   },
   {
    "duration": 18,
    "start_time": "2022-05-06T10:23:36.947Z"
   },
   {
    "duration": 22,
    "start_time": "2022-05-06T10:23:36.973Z"
   },
   {
    "duration": 234,
    "start_time": "2022-05-06T10:23:36.997Z"
   },
   {
    "duration": 255,
    "start_time": "2022-05-06T10:23:58.688Z"
   },
   {
    "duration": 245,
    "start_time": "2022-05-06T10:24:37.951Z"
   },
   {
    "duration": 7,
    "start_time": "2022-05-06T10:25:20.347Z"
   },
   {
    "duration": 134,
    "start_time": "2022-05-06T10:29:20.346Z"
   },
   {
    "duration": 103,
    "start_time": "2022-05-06T10:29:41.698Z"
   },
   {
    "duration": 123,
    "start_time": "2022-05-06T10:29:50.331Z"
   },
   {
    "duration": 1990,
    "start_time": "2022-05-06T10:30:22.303Z"
   },
   {
    "duration": 2008,
    "start_time": "2022-05-06T10:48:53.405Z"
   },
   {
    "duration": 354,
    "start_time": "2022-05-06T10:58:24.961Z"
   },
   {
    "duration": 1810,
    "start_time": "2022-05-06T10:58:42.961Z"
   },
   {
    "duration": 1824,
    "start_time": "2022-05-06T10:59:12.742Z"
   },
   {
    "duration": 25,
    "start_time": "2022-05-06T11:01:31.048Z"
   },
   {
    "duration": 1429,
    "start_time": "2022-05-06T11:01:51.678Z"
   },
   {
    "duration": 26,
    "start_time": "2022-05-06T11:01:53.109Z"
   },
   {
    "duration": 23,
    "start_time": "2022-05-06T11:01:53.139Z"
   },
   {
    "duration": 16,
    "start_time": "2022-05-06T11:01:53.164Z"
   },
   {
    "duration": 41,
    "start_time": "2022-05-06T11:01:53.182Z"
   },
   {
    "duration": 5,
    "start_time": "2022-05-06T11:01:53.224Z"
   },
   {
    "duration": 18,
    "start_time": "2022-05-06T11:01:53.251Z"
   },
   {
    "duration": 2,
    "start_time": "2022-05-06T11:01:53.271Z"
   },
   {
    "duration": 9,
    "start_time": "2022-05-06T11:01:53.277Z"
   },
   {
    "duration": 8,
    "start_time": "2022-05-06T11:01:53.287Z"
   },
   {
    "duration": 5,
    "start_time": "2022-05-06T11:01:53.297Z"
   },
   {
    "duration": 3147,
    "start_time": "2022-05-06T11:01:53.304Z"
   },
   {
    "duration": 0,
    "start_time": "2022-05-06T11:01:56.453Z"
   },
   {
    "duration": 0,
    "start_time": "2022-05-06T11:01:56.454Z"
   },
   {
    "duration": 0,
    "start_time": "2022-05-06T11:01:56.456Z"
   },
   {
    "duration": 0,
    "start_time": "2022-05-06T11:01:56.457Z"
   },
   {
    "duration": 0,
    "start_time": "2022-05-06T11:01:56.458Z"
   },
   {
    "duration": 0,
    "start_time": "2022-05-06T11:01:56.459Z"
   },
   {
    "duration": 0,
    "start_time": "2022-05-06T11:01:56.460Z"
   },
   {
    "duration": 0,
    "start_time": "2022-05-06T11:01:56.461Z"
   },
   {
    "duration": 0,
    "start_time": "2022-05-06T11:01:56.462Z"
   },
   {
    "duration": 0,
    "start_time": "2022-05-06T11:01:56.463Z"
   },
   {
    "duration": 0,
    "start_time": "2022-05-06T11:01:56.464Z"
   },
   {
    "duration": 0,
    "start_time": "2022-05-06T11:01:56.465Z"
   },
   {
    "duration": 0,
    "start_time": "2022-05-06T11:01:56.466Z"
   },
   {
    "duration": 0,
    "start_time": "2022-05-06T11:01:56.467Z"
   },
   {
    "duration": 0,
    "start_time": "2022-05-06T11:01:56.468Z"
   },
   {
    "duration": 0,
    "start_time": "2022-05-06T11:01:56.469Z"
   },
   {
    "duration": 0,
    "start_time": "2022-05-06T11:01:56.470Z"
   },
   {
    "duration": 0,
    "start_time": "2022-05-06T11:01:56.472Z"
   },
   {
    "duration": 12,
    "start_time": "2022-05-06T11:03:04.355Z"
   },
   {
    "duration": 1807,
    "start_time": "2022-05-06T12:41:36.077Z"
   },
   {
    "duration": 2320,
    "start_time": "2022-05-06T12:41:58.196Z"
   },
   {
    "duration": 261,
    "start_time": "2022-05-06T12:47:27.915Z"
   },
   {
    "duration": 248,
    "start_time": "2022-05-06T12:47:55.709Z"
   },
   {
    "duration": 347,
    "start_time": "2022-05-06T12:48:04.162Z"
   },
   {
    "duration": 1602,
    "start_time": "2022-05-06T12:51:13.395Z"
   },
   {
    "duration": 1748,
    "start_time": "2022-05-06T12:51:31.595Z"
   },
   {
    "duration": 2565,
    "start_time": "2022-05-06T12:51:41.773Z"
   },
   {
    "duration": 2085,
    "start_time": "2022-05-06T12:51:53.139Z"
   },
   {
    "duration": 1628,
    "start_time": "2022-05-06T12:52:07.257Z"
   },
   {
    "duration": 1654,
    "start_time": "2022-05-06T12:52:30.356Z"
   },
   {
    "duration": 9,
    "start_time": "2022-05-06T12:53:28.448Z"
   },
   {
    "duration": 5,
    "start_time": "2022-05-06T12:53:37.293Z"
   },
   {
    "duration": 122,
    "start_time": "2022-05-06T12:55:13.514Z"
   },
   {
    "duration": 97,
    "start_time": "2022-05-06T12:56:24.920Z"
   },
   {
    "duration": 111,
    "start_time": "2022-05-06T12:56:39.160Z"
   },
   {
    "duration": 106,
    "start_time": "2022-05-06T12:56:50.214Z"
   },
   {
    "duration": 2030,
    "start_time": "2022-05-06T13:27:49.188Z"
   },
   {
    "duration": 2132,
    "start_time": "2022-05-06T13:28:26.272Z"
   },
   {
    "duration": 121,
    "start_time": "2022-05-06T13:30:51.521Z"
   },
   {
    "duration": 5,
    "start_time": "2022-05-06T13:33:28.848Z"
   },
   {
    "duration": 10,
    "start_time": "2022-05-06T13:34:02.959Z"
   },
   {
    "duration": 10,
    "start_time": "2022-05-06T13:34:43.078Z"
   },
   {
    "duration": 5,
    "start_time": "2022-05-06T13:35:00.398Z"
   },
   {
    "duration": 3,
    "start_time": "2022-05-06T13:35:43.071Z"
   },
   {
    "duration": 9,
    "start_time": "2022-05-06T13:35:51.761Z"
   },
   {
    "duration": 3,
    "start_time": "2022-05-06T13:35:56.399Z"
   },
   {
    "duration": 3,
    "start_time": "2022-05-06T13:36:03.787Z"
   },
   {
    "duration": 3,
    "start_time": "2022-05-06T13:36:05.922Z"
   },
   {
    "duration": 4,
    "start_time": "2022-05-06T13:36:13.030Z"
   },
   {
    "duration": 4,
    "start_time": "2022-05-06T13:36:29.531Z"
   },
   {
    "duration": 150,
    "start_time": "2022-05-06T13:37:04.010Z"
   },
   {
    "duration": 2353,
    "start_time": "2022-05-06T13:37:19.313Z"
   },
   {
    "duration": 2364,
    "start_time": "2022-05-06T13:39:57.928Z"
   },
   {
    "duration": 2178,
    "start_time": "2022-05-06T13:48:56.019Z"
   },
   {
    "duration": 110,
    "start_time": "2022-05-06T13:49:17.344Z"
   },
   {
    "duration": 2586,
    "start_time": "2022-05-06T13:50:12.570Z"
   },
   {
    "duration": 2004,
    "start_time": "2022-05-06T13:50:21.125Z"
   },
   {
    "duration": 11,
    "start_time": "2022-05-06T13:50:43.255Z"
   },
   {
    "duration": 6,
    "start_time": "2022-05-06T13:52:18.107Z"
   },
   {
    "duration": 278,
    "start_time": "2022-05-06T13:53:02.569Z"
   },
   {
    "duration": 1978,
    "start_time": "2022-05-06T13:53:27.376Z"
   },
   {
    "duration": 1998,
    "start_time": "2022-05-06T13:57:05.098Z"
   },
   {
    "duration": 1839,
    "start_time": "2022-05-06T13:57:22.861Z"
   },
   {
    "duration": 3,
    "start_time": "2022-05-06T13:58:25.226Z"
   },
   {
    "duration": 13,
    "start_time": "2022-05-06T14:05:19.439Z"
   },
   {
    "duration": 2086,
    "start_time": "2022-05-06T14:07:21.974Z"
   },
   {
    "duration": 1568,
    "start_time": "2022-05-06T14:07:42.860Z"
   },
   {
    "duration": 1639,
    "start_time": "2022-05-06T14:08:27.334Z"
   },
   {
    "duration": 190,
    "start_time": "2022-05-06T14:17:10.017Z"
   },
   {
    "duration": 157,
    "start_time": "2022-05-06T14:17:22.187Z"
   },
   {
    "duration": 154,
    "start_time": "2022-05-06T14:17:35.968Z"
   },
   {
    "duration": 172,
    "start_time": "2022-05-06T14:19:48.650Z"
   },
   {
    "duration": 240,
    "start_time": "2022-05-06T14:20:10.531Z"
   },
   {
    "duration": 978,
    "start_time": "2022-05-06T14:24:36.401Z"
   },
   {
    "duration": 749,
    "start_time": "2022-05-06T14:25:22.877Z"
   },
   {
    "duration": 829,
    "start_time": "2022-05-06T14:44:17.661Z"
   },
   {
    "duration": 901,
    "start_time": "2022-05-06T14:45:01.989Z"
   },
   {
    "duration": 133,
    "start_time": "2022-05-06T15:10:48.850Z"
   },
   {
    "duration": 1406,
    "start_time": "2022-05-06T15:11:30.510Z"
   },
   {
    "duration": 27,
    "start_time": "2022-05-06T15:11:31.918Z"
   },
   {
    "duration": 11,
    "start_time": "2022-05-06T15:11:31.947Z"
   },
   {
    "duration": 11,
    "start_time": "2022-05-06T15:11:31.960Z"
   },
   {
    "duration": 37,
    "start_time": "2022-05-06T15:11:31.972Z"
   },
   {
    "duration": 37,
    "start_time": "2022-05-06T15:11:32.011Z"
   },
   {
    "duration": 2303,
    "start_time": "2022-05-06T15:11:32.050Z"
   },
   {
    "duration": 879,
    "start_time": "2022-05-06T15:11:34.354Z"
   },
   {
    "duration": 1305,
    "start_time": "2022-05-06T15:11:35.235Z"
   },
   {
    "duration": 11,
    "start_time": "2022-05-06T15:11:36.543Z"
   },
   {
    "duration": 5,
    "start_time": "2022-05-06T15:11:36.555Z"
   },
   {
    "duration": 1027,
    "start_time": "2022-05-06T15:11:36.561Z"
   },
   {
    "duration": 6,
    "start_time": "2022-05-06T15:11:37.590Z"
   },
   {
    "duration": 32,
    "start_time": "2022-05-06T15:11:37.598Z"
   },
   {
    "duration": 328,
    "start_time": "2022-05-06T15:11:37.632Z"
   },
   {
    "duration": 4,
    "start_time": "2022-05-06T15:11:37.962Z"
   },
   {
    "duration": 18,
    "start_time": "2022-05-06T15:11:37.967Z"
   },
   {
    "duration": 10,
    "start_time": "2022-05-06T15:11:37.986Z"
   },
   {
    "duration": 7,
    "start_time": "2022-05-06T15:11:37.997Z"
   },
   {
    "duration": 95195,
    "start_time": "2022-05-06T15:11:38.006Z"
   },
   {
    "duration": 1252,
    "start_time": "2022-05-06T15:13:13.202Z"
   },
   {
    "duration": 95,
    "start_time": "2022-05-06T15:13:14.456Z"
   },
   {
    "duration": 17,
    "start_time": "2022-05-06T15:13:14.553Z"
   },
   {
    "duration": 14,
    "start_time": "2022-05-06T15:28:34.411Z"
   },
   {
    "duration": 906,
    "start_time": "2022-05-06T15:30:03.980Z"
   },
   {
    "duration": 12,
    "start_time": "2022-05-06T15:30:11.346Z"
   },
   {
    "duration": 110,
    "start_time": "2022-05-06T15:33:03.701Z"
   },
   {
    "duration": 16,
    "start_time": "2022-05-06T15:33:18.354Z"
   },
   {
    "duration": 1354,
    "start_time": "2022-05-06T15:33:35.503Z"
   },
   {
    "duration": 16,
    "start_time": "2022-05-06T15:34:33.730Z"
   },
   {
    "duration": 1362,
    "start_time": "2022-05-06T15:34:45.792Z"
   },
   {
    "duration": 1135,
    "start_time": "2022-05-06T15:36:52.975Z"
   },
   {
    "duration": 1369,
    "start_time": "2022-05-06T15:37:19.207Z"
   },
   {
    "duration": 3,
    "start_time": "2022-05-06T15:37:57.978Z"
   },
   {
    "duration": 1590,
    "start_time": "2022-05-07T14:00:34.304Z"
   },
   {
    "duration": 185,
    "start_time": "2022-05-07T14:00:35.896Z"
   },
   {
    "duration": 11,
    "start_time": "2022-05-07T14:00:36.083Z"
   },
   {
    "duration": 13,
    "start_time": "2022-05-07T14:00:36.096Z"
   },
   {
    "duration": 36,
    "start_time": "2022-05-07T14:00:36.110Z"
   },
   {
    "duration": 12,
    "start_time": "2022-05-07T14:00:36.148Z"
   },
   {
    "duration": 1878,
    "start_time": "2022-05-07T14:00:36.162Z"
   },
   {
    "duration": 821,
    "start_time": "2022-05-07T14:00:38.041Z"
   },
   {
    "duration": 3,
    "start_time": "2022-05-07T14:00:38.864Z"
   },
   {
    "duration": 1268,
    "start_time": "2022-05-07T14:00:38.869Z"
   },
   {
    "duration": 4,
    "start_time": "2022-05-07T14:00:40.138Z"
   },
   {
    "duration": 970,
    "start_time": "2022-05-07T14:00:40.143Z"
   },
   {
    "duration": 6,
    "start_time": "2022-05-07T14:00:41.115Z"
   },
   {
    "duration": 27,
    "start_time": "2022-05-07T14:00:41.123Z"
   },
   {
    "duration": 334,
    "start_time": "2022-05-07T14:00:41.152Z"
   },
   {
    "duration": 4,
    "start_time": "2022-05-07T14:00:41.488Z"
   },
   {
    "duration": 13,
    "start_time": "2022-05-07T14:00:41.494Z"
   },
   {
    "duration": 9,
    "start_time": "2022-05-07T14:00:41.509Z"
   },
   {
    "duration": 7,
    "start_time": "2022-05-07T14:00:41.520Z"
   },
   {
    "duration": 92328,
    "start_time": "2022-05-07T14:00:41.529Z"
   },
   {
    "duration": 1345,
    "start_time": "2022-05-07T14:02:13.858Z"
   },
   {
    "duration": 10,
    "start_time": "2022-05-07T14:02:15.204Z"
   },
   {
    "duration": 15,
    "start_time": "2022-05-07T14:02:15.215Z"
   },
   {
    "duration": 9,
    "start_time": "2022-05-07T14:02:15.232Z"
   },
   {
    "duration": 1527,
    "start_time": "2022-05-07T14:02:15.242Z"
   },
   {
    "duration": 67,
    "start_time": "2022-05-09T12:47:15.740Z"
   },
   {
    "duration": 2272,
    "start_time": "2022-05-09T12:47:22.019Z"
   },
   {
    "duration": 21,
    "start_time": "2022-05-09T12:47:24.294Z"
   },
   {
    "duration": 27,
    "start_time": "2022-05-09T12:47:24.318Z"
   },
   {
    "duration": 35,
    "start_time": "2022-05-09T12:47:24.347Z"
   },
   {
    "duration": 64,
    "start_time": "2022-05-09T12:47:24.386Z"
   },
   {
    "duration": 43,
    "start_time": "2022-05-09T12:47:24.452Z"
   },
   {
    "duration": 3285,
    "start_time": "2022-05-09T12:47:24.497Z"
   },
   {
    "duration": 1654,
    "start_time": "2022-05-09T12:47:27.784Z"
   },
   {
    "duration": 4,
    "start_time": "2022-05-09T12:47:29.440Z"
   },
   {
    "duration": 2180,
    "start_time": "2022-05-09T12:47:29.446Z"
   },
   {
    "duration": 5,
    "start_time": "2022-05-09T12:47:31.629Z"
   },
   {
    "duration": 1689,
    "start_time": "2022-05-09T12:47:31.636Z"
   },
   {
    "duration": 10,
    "start_time": "2022-05-09T12:47:33.327Z"
   },
   {
    "duration": 73,
    "start_time": "2022-05-09T12:47:33.343Z"
   },
   {
    "duration": 633,
    "start_time": "2022-05-09T12:47:33.418Z"
   },
   {
    "duration": 5,
    "start_time": "2022-05-09T12:47:34.053Z"
   },
   {
    "duration": 31,
    "start_time": "2022-05-09T12:47:34.060Z"
   },
   {
    "duration": 15,
    "start_time": "2022-05-09T12:47:34.094Z"
   },
   {
    "duration": 12,
    "start_time": "2022-05-09T12:47:34.112Z"
   },
   {
    "duration": 163136,
    "start_time": "2022-05-09T12:47:34.127Z"
   },
   {
    "duration": 1820,
    "start_time": "2022-05-09T12:50:17.266Z"
   },
   {
    "duration": 16,
    "start_time": "2022-05-09T12:50:19.089Z"
   },
   {
    "duration": 26,
    "start_time": "2022-05-09T12:50:19.107Z"
   },
   {
    "duration": 49,
    "start_time": "2022-05-09T12:50:19.135Z"
   },
   {
    "duration": 2475,
    "start_time": "2022-05-09T12:50:19.186Z"
   },
   {
    "duration": 2506,
    "start_time": "2022-05-09T19:50:09.000Z"
   },
   {
    "duration": 39,
    "start_time": "2022-05-09T19:50:11.509Z"
   },
   {
    "duration": 20,
    "start_time": "2022-05-09T19:50:11.551Z"
   },
   {
    "duration": 15,
    "start_time": "2022-05-09T19:50:11.574Z"
   },
   {
    "duration": 78,
    "start_time": "2022-05-09T19:50:11.591Z"
   },
   {
    "duration": 24,
    "start_time": "2022-05-09T19:50:11.671Z"
   },
   {
    "duration": 3093,
    "start_time": "2022-05-09T19:50:11.697Z"
   },
   {
    "duration": 1137,
    "start_time": "2022-05-09T19:50:14.792Z"
   },
   {
    "duration": 4,
    "start_time": "2022-05-09T19:50:15.931Z"
   },
   {
    "duration": 1521,
    "start_time": "2022-05-09T19:50:15.938Z"
   },
   {
    "duration": 5,
    "start_time": "2022-05-09T19:50:17.461Z"
   },
   {
    "duration": 1840,
    "start_time": "2022-05-09T19:50:17.469Z"
   },
   {
    "duration": 16,
    "start_time": "2022-05-09T19:50:19.311Z"
   },
   {
    "duration": 45,
    "start_time": "2022-05-09T19:50:19.332Z"
   },
   {
    "duration": 609,
    "start_time": "2022-05-09T19:50:19.379Z"
   },
   {
    "duration": 6,
    "start_time": "2022-05-09T19:50:19.990Z"
   },
   {
    "duration": 33,
    "start_time": "2022-05-09T19:50:19.998Z"
   },
   {
    "duration": 13,
    "start_time": "2022-05-09T19:50:20.036Z"
   },
   {
    "duration": 11,
    "start_time": "2022-05-09T19:50:20.050Z"
   },
   {
    "duration": 136247,
    "start_time": "2022-05-09T19:50:20.064Z"
   },
   {
    "duration": 1613,
    "start_time": "2022-05-09T19:52:36.314Z"
   },
   {
    "duration": 20,
    "start_time": "2022-05-09T19:52:37.930Z"
   },
   {
    "duration": 16,
    "start_time": "2022-05-09T19:52:37.952Z"
   },
   {
    "duration": 20,
    "start_time": "2022-05-09T19:52:37.970Z"
   },
   {
    "duration": 2285,
    "start_time": "2022-05-09T19:52:37.992Z"
   },
   {
    "duration": 1781,
    "start_time": "2022-05-10T13:29:31.784Z"
   },
   {
    "duration": 33,
    "start_time": "2022-05-10T13:29:33.567Z"
   },
   {
    "duration": 18,
    "start_time": "2022-05-10T13:29:33.602Z"
   },
   {
    "duration": 19,
    "start_time": "2022-05-10T13:29:33.623Z"
   },
   {
    "duration": 61,
    "start_time": "2022-05-10T13:29:33.644Z"
   },
   {
    "duration": 43,
    "start_time": "2022-05-10T13:29:33.706Z"
   },
   {
    "duration": 2405,
    "start_time": "2022-05-10T13:29:33.751Z"
   },
   {
    "duration": 1177,
    "start_time": "2022-05-10T13:29:36.158Z"
   },
   {
    "duration": 3,
    "start_time": "2022-05-10T13:29:37.338Z"
   },
   {
    "duration": 1734,
    "start_time": "2022-05-10T13:29:37.344Z"
   },
   {
    "duration": 5,
    "start_time": "2022-05-10T13:29:39.080Z"
   },
   {
    "duration": 1467,
    "start_time": "2022-05-10T13:29:39.087Z"
   },
   {
    "duration": 7,
    "start_time": "2022-05-10T13:29:40.556Z"
   },
   {
    "duration": 33,
    "start_time": "2022-05-10T13:29:40.565Z"
   },
   {
    "duration": 434,
    "start_time": "2022-05-10T13:29:40.600Z"
   },
   {
    "duration": 5,
    "start_time": "2022-05-10T13:29:41.035Z"
   },
   {
    "duration": 16,
    "start_time": "2022-05-10T13:29:41.042Z"
   },
   {
    "duration": 11,
    "start_time": "2022-05-10T13:29:41.060Z"
   },
   {
    "duration": 9,
    "start_time": "2022-05-10T13:29:41.073Z"
   },
   {
    "duration": 127208,
    "start_time": "2022-05-10T13:29:41.084Z"
   },
   {
    "duration": 1649,
    "start_time": "2022-05-10T13:31:48.294Z"
   },
   {
    "duration": 14,
    "start_time": "2022-05-10T13:31:49.945Z"
   },
   {
    "duration": 20,
    "start_time": "2022-05-10T13:31:49.961Z"
   },
   {
    "duration": 14,
    "start_time": "2022-05-10T13:31:49.983Z"
   },
   {
    "duration": 1961,
    "start_time": "2022-05-10T13:31:50.033Z"
   },
   {
    "duration": 11,
    "start_time": "2022-05-10T14:27:44.608Z"
   },
   {
    "duration": 56,
    "start_time": "2022-05-10T14:28:20.359Z"
   },
   {
    "duration": 1633,
    "start_time": "2022-05-10T14:30:50.627Z"
   },
   {
    "duration": 32,
    "start_time": "2022-05-10T14:30:52.262Z"
   },
   {
    "duration": 17,
    "start_time": "2022-05-10T14:30:52.296Z"
   },
   {
    "duration": 13,
    "start_time": "2022-05-10T14:30:52.315Z"
   },
   {
    "duration": 48,
    "start_time": "2022-05-10T14:30:52.334Z"
   },
   {
    "duration": 20,
    "start_time": "2022-05-10T14:30:52.384Z"
   },
   {
    "duration": 2372,
    "start_time": "2022-05-10T14:30:52.406Z"
   },
   {
    "duration": 1119,
    "start_time": "2022-05-10T14:30:54.780Z"
   },
   {
    "duration": 2,
    "start_time": "2022-05-10T14:30:55.901Z"
   },
   {
    "duration": 1661,
    "start_time": "2022-05-10T14:30:55.905Z"
   },
   {
    "duration": 4,
    "start_time": "2022-05-10T14:30:57.568Z"
   },
   {
    "duration": 1303,
    "start_time": "2022-05-10T14:30:57.573Z"
   },
   {
    "duration": 7,
    "start_time": "2022-05-10T14:30:58.878Z"
   },
   {
    "duration": 46,
    "start_time": "2022-05-10T14:30:58.888Z"
   },
   {
    "duration": 402,
    "start_time": "2022-05-10T14:30:58.936Z"
   },
   {
    "duration": 5,
    "start_time": "2022-05-10T14:30:59.339Z"
   },
   {
    "duration": 24,
    "start_time": "2022-05-10T14:30:59.346Z"
   },
   {
    "duration": 12,
    "start_time": "2022-05-10T14:30:59.373Z"
   },
   {
    "duration": 10,
    "start_time": "2022-05-10T14:30:59.387Z"
   },
   {
    "duration": 123852,
    "start_time": "2022-05-10T14:30:59.399Z"
   },
   {
    "duration": 1682,
    "start_time": "2022-05-10T14:33:03.253Z"
   },
   {
    "duration": 12,
    "start_time": "2022-05-10T14:33:04.937Z"
   },
   {
    "duration": 28,
    "start_time": "2022-05-10T14:33:04.951Z"
   },
   {
    "duration": 12,
    "start_time": "2022-05-10T14:33:04.981Z"
   },
   {
    "duration": 1892,
    "start_time": "2022-05-10T14:33:04.995Z"
   },
   {
    "duration": 13,
    "start_time": "2022-05-10T14:42:55.606Z"
   },
   {
    "duration": 8,
    "start_time": "2022-05-10T15:04:52.872Z"
   },
   {
    "duration": 146,
    "start_time": "2022-05-10T15:11:42.262Z"
   },
   {
    "duration": 3422,
    "start_time": "2022-05-10T15:12:27.662Z"
   },
   {
    "duration": 1654,
    "start_time": "2022-05-10T15:12:44.240Z"
   },
   {
    "duration": 23,
    "start_time": "2022-05-10T15:12:45.898Z"
   },
   {
    "duration": 28,
    "start_time": "2022-05-10T15:12:45.922Z"
   },
   {
    "duration": 14,
    "start_time": "2022-05-10T15:12:45.953Z"
   },
   {
    "duration": 68,
    "start_time": "2022-05-10T15:12:45.969Z"
   },
   {
    "duration": 10,
    "start_time": "2022-05-10T15:12:46.040Z"
   },
   {
    "duration": 30,
    "start_time": "2022-05-10T15:12:46.052Z"
   },
   {
    "duration": 2726,
    "start_time": "2022-05-10T15:12:46.085Z"
   },
   {
    "duration": 1134,
    "start_time": "2022-05-10T15:12:48.812Z"
   },
   {
    "duration": 1700,
    "start_time": "2022-05-10T15:12:49.949Z"
   },
   {
    "duration": 4,
    "start_time": "2022-05-10T15:12:51.652Z"
   },
   {
    "duration": 1355,
    "start_time": "2022-05-10T15:12:51.658Z"
   },
   {
    "duration": 19,
    "start_time": "2022-05-10T15:12:53.016Z"
   },
   {
    "duration": 43,
    "start_time": "2022-05-10T15:12:53.038Z"
   },
   {
    "duration": 422,
    "start_time": "2022-05-10T15:12:53.083Z"
   },
   {
    "duration": 4,
    "start_time": "2022-05-10T15:12:53.507Z"
   },
   {
    "duration": 23,
    "start_time": "2022-05-10T15:12:53.513Z"
   },
   {
    "duration": 11,
    "start_time": "2022-05-10T15:12:53.538Z"
   },
   {
    "duration": 8,
    "start_time": "2022-05-10T15:12:53.551Z"
   },
   {
    "duration": 125229,
    "start_time": "2022-05-10T15:12:53.561Z"
   },
   {
    "duration": 1748,
    "start_time": "2022-05-10T15:14:58.792Z"
   },
   {
    "duration": 13,
    "start_time": "2022-05-10T15:15:00.542Z"
   },
   {
    "duration": 34,
    "start_time": "2022-05-10T15:15:00.557Z"
   },
   {
    "duration": 12,
    "start_time": "2022-05-10T15:15:00.593Z"
   },
   {
    "duration": 2043,
    "start_time": "2022-05-10T15:15:00.607Z"
   },
   {
    "duration": 139,
    "start_time": "2022-05-10T15:18:48.027Z"
   },
   {
    "duration": 3,
    "start_time": "2022-05-10T15:19:06.508Z"
   },
   {
    "duration": 1656,
    "start_time": "2022-05-10T15:19:12.616Z"
   },
   {
    "duration": 23,
    "start_time": "2022-05-10T15:19:14.274Z"
   },
   {
    "duration": 18,
    "start_time": "2022-05-10T15:19:14.299Z"
   },
   {
    "duration": 15,
    "start_time": "2022-05-10T15:19:14.319Z"
   },
   {
    "duration": 48,
    "start_time": "2022-05-10T15:19:14.336Z"
   },
   {
    "duration": 10,
    "start_time": "2022-05-10T15:19:14.386Z"
   },
   {
    "duration": 47,
    "start_time": "2022-05-10T15:19:14.398Z"
   },
   {
    "duration": 309,
    "start_time": "2022-05-10T15:19:14.448Z"
   },
   {
    "duration": 0,
    "start_time": "2022-05-10T15:19:14.760Z"
   },
   {
    "duration": 0,
    "start_time": "2022-05-10T15:19:14.761Z"
   },
   {
    "duration": 0,
    "start_time": "2022-05-10T15:19:14.762Z"
   },
   {
    "duration": 0,
    "start_time": "2022-05-10T15:19:14.764Z"
   },
   {
    "duration": 0,
    "start_time": "2022-05-10T15:19:14.765Z"
   },
   {
    "duration": 0,
    "start_time": "2022-05-10T15:19:14.767Z"
   },
   {
    "duration": 0,
    "start_time": "2022-05-10T15:19:14.768Z"
   },
   {
    "duration": 0,
    "start_time": "2022-05-10T15:19:14.770Z"
   },
   {
    "duration": 0,
    "start_time": "2022-05-10T15:19:14.771Z"
   },
   {
    "duration": 0,
    "start_time": "2022-05-10T15:19:14.773Z"
   },
   {
    "duration": 0,
    "start_time": "2022-05-10T15:19:14.774Z"
   },
   {
    "duration": 0,
    "start_time": "2022-05-10T15:19:14.775Z"
   },
   {
    "duration": 1,
    "start_time": "2022-05-10T15:19:14.775Z"
   },
   {
    "duration": 0,
    "start_time": "2022-05-10T15:19:14.776Z"
   },
   {
    "duration": 0,
    "start_time": "2022-05-10T15:19:14.777Z"
   },
   {
    "duration": 0,
    "start_time": "2022-05-10T15:19:14.779Z"
   },
   {
    "duration": 0,
    "start_time": "2022-05-10T15:19:14.779Z"
   },
   {
    "duration": 2459,
    "start_time": "2022-05-10T15:22:36.151Z"
   },
   {
    "duration": 2567,
    "start_time": "2022-05-10T15:23:49.677Z"
   },
   {
    "duration": 1126,
    "start_time": "2022-05-10T15:24:17.715Z"
   },
   {
    "duration": 1227,
    "start_time": "2022-05-10T15:25:26.186Z"
   },
   {
    "duration": 1154,
    "start_time": "2022-05-10T15:25:54.613Z"
   },
   {
    "duration": 984,
    "start_time": "2022-05-10T15:26:12.417Z"
   },
   {
    "duration": 1326,
    "start_time": "2022-05-10T15:26:38.762Z"
   },
   {
    "duration": 1720,
    "start_time": "2022-05-10T15:26:50.548Z"
   },
   {
    "duration": 23,
    "start_time": "2022-05-10T15:26:52.270Z"
   },
   {
    "duration": 19,
    "start_time": "2022-05-10T15:26:52.295Z"
   },
   {
    "duration": 18,
    "start_time": "2022-05-10T15:26:52.316Z"
   },
   {
    "duration": 66,
    "start_time": "2022-05-10T15:26:52.338Z"
   },
   {
    "duration": 7,
    "start_time": "2022-05-10T15:26:52.406Z"
   },
   {
    "duration": 38,
    "start_time": "2022-05-10T15:26:52.415Z"
   },
   {
    "duration": 2775,
    "start_time": "2022-05-10T15:26:52.455Z"
   },
   {
    "duration": 1369,
    "start_time": "2022-05-10T15:26:55.231Z"
   },
   {
    "duration": 1875,
    "start_time": "2022-05-10T15:26:56.602Z"
   },
   {
    "duration": 4,
    "start_time": "2022-05-10T15:26:58.479Z"
   },
   {
    "duration": 1529,
    "start_time": "2022-05-10T15:26:58.486Z"
   },
   {
    "duration": 20,
    "start_time": "2022-05-10T15:27:00.018Z"
   },
   {
    "duration": 62,
    "start_time": "2022-05-10T15:27:00.042Z"
   },
   {
    "duration": 517,
    "start_time": "2022-05-10T15:27:00.106Z"
   },
   {
    "duration": 5,
    "start_time": "2022-05-10T15:27:00.625Z"
   },
   {
    "duration": 47,
    "start_time": "2022-05-10T15:27:00.632Z"
   },
   {
    "duration": 15,
    "start_time": "2022-05-10T15:27:00.681Z"
   },
   {
    "duration": 11,
    "start_time": "2022-05-10T15:27:00.698Z"
   },
   {
    "duration": 7,
    "start_time": "2022-05-10T15:27:00.711Z"
   },
   {
    "duration": 1554,
    "start_time": "2022-05-10T15:27:00.720Z"
   },
   {
    "duration": 15,
    "start_time": "2022-05-10T15:27:02.276Z"
   },
   {
    "duration": 47,
    "start_time": "2022-05-10T15:27:02.293Z"
   },
   {
    "duration": 22,
    "start_time": "2022-05-10T15:27:02.342Z"
   },
   {
    "duration": 2118,
    "start_time": "2022-05-10T15:27:02.366Z"
   },
   {
    "duration": 132,
    "start_time": "2022-05-10T18:55:59.229Z"
   },
   {
    "duration": 21,
    "start_time": "2022-05-10T18:56:10.959Z"
   },
   {
    "duration": 27,
    "start_time": "2022-05-10T19:07:01.830Z"
   },
   {
    "duration": 1490,
    "start_time": "2022-05-10T19:07:11.864Z"
   },
   {
    "duration": 3026,
    "start_time": "2022-05-10T19:07:19.769Z"
   },
   {
    "duration": 9,
    "start_time": "2022-05-10T19:25:06.307Z"
   },
   {
    "duration": 3,
    "start_time": "2022-05-10T19:25:25.010Z"
   },
   {
    "duration": 4,
    "start_time": "2022-05-10T19:25:40.460Z"
   },
   {
    "duration": 168,
    "start_time": "2022-05-10T19:27:55.597Z"
   },
   {
    "duration": 5,
    "start_time": "2022-05-10T19:28:00.067Z"
   },
   {
    "duration": 296,
    "start_time": "2022-05-10T19:30:35.039Z"
   },
   {
    "duration": 3660,
    "start_time": "2022-05-10T19:32:07.186Z"
   },
   {
    "duration": 3685,
    "start_time": "2022-05-10T19:32:38.022Z"
   },
   {
    "duration": 3544,
    "start_time": "2022-05-10T19:36:11.897Z"
   },
   {
    "duration": 3360,
    "start_time": "2022-05-10T19:36:26.124Z"
   },
   {
    "duration": 2933,
    "start_time": "2022-05-10T19:36:38.676Z"
   },
   {
    "duration": 5884,
    "start_time": "2022-05-10T19:42:03.725Z"
   },
   {
    "duration": 6116,
    "start_time": "2022-05-10T19:42:40.590Z"
   },
   {
    "duration": 4701,
    "start_time": "2022-05-10T19:42:57.681Z"
   },
   {
    "duration": 4538,
    "start_time": "2022-05-10T19:43:35.771Z"
   },
   {
    "duration": 4770,
    "start_time": "2022-05-10T19:43:51.508Z"
   },
   {
    "duration": 4394,
    "start_time": "2022-05-10T19:44:13.018Z"
   },
   {
    "duration": 4671,
    "start_time": "2022-05-10T19:44:29.072Z"
   },
   {
    "duration": 4528,
    "start_time": "2022-05-10T19:44:45.513Z"
   },
   {
    "duration": 4676,
    "start_time": "2022-05-10T19:45:31.785Z"
   },
   {
    "duration": 4845,
    "start_time": "2022-05-10T19:46:41.277Z"
   },
   {
    "duration": 5349,
    "start_time": "2022-05-10T19:46:57.626Z"
   },
   {
    "duration": 164,
    "start_time": "2022-05-10T19:47:55.595Z"
   },
   {
    "duration": 5,
    "start_time": "2022-05-10T19:48:04.827Z"
   },
   {
    "duration": 12157,
    "start_time": "2022-05-10T19:48:15.502Z"
   },
   {
    "duration": 20,
    "start_time": "2022-05-10T19:59:45.533Z"
   },
   {
    "duration": 9100,
    "start_time": "2022-05-10T19:59:59.991Z"
   },
   {
    "duration": 1327,
    "start_time": "2022-05-10T20:01:55.961Z"
   },
   {
    "duration": 1431,
    "start_time": "2022-05-10T20:02:18.117Z"
   },
   {
    "duration": 1342,
    "start_time": "2022-05-10T20:02:51.174Z"
   },
   {
    "duration": 164,
    "start_time": "2022-05-10T20:14:14.181Z"
   },
   {
    "duration": 178,
    "start_time": "2022-05-10T20:14:19.383Z"
   },
   {
    "duration": 174,
    "start_time": "2022-05-10T20:14:24.108Z"
   },
   {
    "duration": 186,
    "start_time": "2022-05-10T20:14:57.304Z"
   },
   {
    "duration": 169,
    "start_time": "2022-05-10T20:17:54.242Z"
   },
   {
    "duration": 6401,
    "start_time": "2022-05-10T20:19:25.370Z"
   },
   {
    "duration": 6394,
    "start_time": "2022-05-10T20:31:45.422Z"
   },
   {
    "duration": 6155,
    "start_time": "2022-05-10T20:32:12.059Z"
   },
   {
    "duration": 5886,
    "start_time": "2022-05-10T20:33:51.843Z"
   },
   {
    "duration": 5981,
    "start_time": "2022-05-10T20:34:16.845Z"
   },
   {
    "duration": 6037,
    "start_time": "2022-05-10T20:38:20.344Z"
   },
   {
    "duration": 6317,
    "start_time": "2022-05-10T20:38:34.249Z"
   },
   {
    "duration": 6041,
    "start_time": "2022-05-10T20:39:32.526Z"
   },
   {
    "duration": 7137,
    "start_time": "2022-05-10T20:39:52.375Z"
   },
   {
    "duration": 17,
    "start_time": "2022-05-10T20:56:37.718Z"
   },
   {
    "duration": 3,
    "start_time": "2022-05-10T20:57:09.030Z"
   },
   {
    "duration": 16,
    "start_time": "2022-05-10T20:57:23.624Z"
   },
   {
    "duration": 10,
    "start_time": "2022-05-10T21:00:02.616Z"
   },
   {
    "duration": 10,
    "start_time": "2022-05-10T21:00:08.747Z"
   },
   {
    "duration": 19,
    "start_time": "2022-05-10T21:00:44.017Z"
   },
   {
    "duration": 15,
    "start_time": "2022-05-10T21:00:55.370Z"
   },
   {
    "duration": 21,
    "start_time": "2022-05-10T21:07:08.611Z"
   },
   {
    "duration": 25,
    "start_time": "2022-05-10T21:07:16.544Z"
   },
   {
    "duration": 2770,
    "start_time": "2022-05-10T21:33:28.719Z"
   },
   {
    "duration": 9,
    "start_time": "2022-05-10T21:33:49.179Z"
   },
   {
    "duration": 1601,
    "start_time": "2022-05-10T21:57:31.437Z"
   },
   {
    "duration": 24,
    "start_time": "2022-05-10T21:57:33.040Z"
   },
   {
    "duration": 18,
    "start_time": "2022-05-10T21:57:33.065Z"
   },
   {
    "duration": 14,
    "start_time": "2022-05-10T21:57:33.085Z"
   },
   {
    "duration": 61,
    "start_time": "2022-05-10T21:57:33.101Z"
   },
   {
    "duration": 8,
    "start_time": "2022-05-10T21:57:33.164Z"
   },
   {
    "duration": 17,
    "start_time": "2022-05-10T21:57:33.173Z"
   },
   {
    "duration": 2521,
    "start_time": "2022-05-10T21:57:33.192Z"
   },
   {
    "duration": 1213,
    "start_time": "2022-05-10T21:57:35.714Z"
   },
   {
    "duration": 1584,
    "start_time": "2022-05-10T21:57:36.934Z"
   },
   {
    "duration": 4,
    "start_time": "2022-05-10T21:57:38.519Z"
   },
   {
    "duration": 1299,
    "start_time": "2022-05-10T21:57:38.525Z"
   },
   {
    "duration": 144,
    "start_time": "2022-05-10T21:57:39.826Z"
   },
   {
    "duration": 0,
    "start_time": "2022-05-10T21:57:39.971Z"
   },
   {
    "duration": 0,
    "start_time": "2022-05-10T21:57:39.973Z"
   },
   {
    "duration": 0,
    "start_time": "2022-05-10T21:57:39.974Z"
   },
   {
    "duration": 0,
    "start_time": "2022-05-10T21:57:39.975Z"
   },
   {
    "duration": 0,
    "start_time": "2022-05-10T21:57:39.976Z"
   },
   {
    "duration": 0,
    "start_time": "2022-05-10T21:57:39.977Z"
   },
   {
    "duration": 0,
    "start_time": "2022-05-10T21:57:39.978Z"
   },
   {
    "duration": 0,
    "start_time": "2022-05-10T21:57:39.979Z"
   },
   {
    "duration": 0,
    "start_time": "2022-05-10T21:57:39.981Z"
   },
   {
    "duration": 0,
    "start_time": "2022-05-10T21:57:39.981Z"
   },
   {
    "duration": 1615,
    "start_time": "2022-05-10T21:58:34.619Z"
   },
   {
    "duration": 21,
    "start_time": "2022-05-10T21:58:36.237Z"
   },
   {
    "duration": 18,
    "start_time": "2022-05-10T21:58:36.260Z"
   },
   {
    "duration": 15,
    "start_time": "2022-05-10T21:58:36.280Z"
   },
   {
    "duration": 62,
    "start_time": "2022-05-10T21:58:36.296Z"
   },
   {
    "duration": 9,
    "start_time": "2022-05-10T21:58:36.359Z"
   },
   {
    "duration": 17,
    "start_time": "2022-05-10T21:58:36.370Z"
   },
   {
    "duration": 2505,
    "start_time": "2022-05-10T21:58:36.389Z"
   },
   {
    "duration": 1224,
    "start_time": "2022-05-10T21:58:38.896Z"
   },
   {
    "duration": 1614,
    "start_time": "2022-05-10T21:58:40.123Z"
   },
   {
    "duration": 4,
    "start_time": "2022-05-10T21:58:41.739Z"
   },
   {
    "duration": 1293,
    "start_time": "2022-05-10T21:58:41.745Z"
   },
   {
    "duration": 7,
    "start_time": "2022-05-10T21:58:43.040Z"
   },
   {
    "duration": 32,
    "start_time": "2022-05-10T21:58:43.048Z"
   },
   {
    "duration": 406,
    "start_time": "2022-05-10T21:58:43.082Z"
   },
   {
    "duration": 4,
    "start_time": "2022-05-10T21:58:43.490Z"
   },
   {
    "duration": 16,
    "start_time": "2022-05-10T21:58:43.495Z"
   },
   {
    "duration": 26,
    "start_time": "2022-05-10T21:58:43.513Z"
   },
   {
    "duration": 8,
    "start_time": "2022-05-10T21:58:43.540Z"
   },
   {
    "duration": 119224,
    "start_time": "2022-05-10T21:58:43.549Z"
   },
   {
    "duration": 1460,
    "start_time": "2022-05-10T22:00:42.774Z"
   },
   {
    "duration": 17,
    "start_time": "2022-05-10T22:00:44.235Z"
   },
   {
    "duration": 5801,
    "start_time": "2022-05-10T22:00:44.253Z"
   },
   {
    "duration": 153,
    "start_time": "2022-05-11T17:30:36.883Z"
   },
   {
    "duration": 194,
    "start_time": "2022-05-11T17:49:22.167Z"
   },
   {
    "duration": 157,
    "start_time": "2022-05-11T17:50:40.687Z"
   },
   {
    "duration": 164,
    "start_time": "2022-05-11T17:51:12.249Z"
   },
   {
    "duration": 157,
    "start_time": "2022-05-11T18:07:44.265Z"
   },
   {
    "duration": 2699,
    "start_time": "2022-05-11T18:07:52.847Z"
   },
   {
    "duration": 22,
    "start_time": "2022-05-11T18:07:55.549Z"
   },
   {
    "duration": 19,
    "start_time": "2022-05-11T18:07:55.573Z"
   },
   {
    "duration": 14,
    "start_time": "2022-05-11T18:07:55.594Z"
   },
   {
    "duration": 70,
    "start_time": "2022-05-11T18:07:55.611Z"
   },
   {
    "duration": 9,
    "start_time": "2022-05-11T18:07:55.683Z"
   },
   {
    "duration": 41,
    "start_time": "2022-05-11T18:07:55.694Z"
   },
   {
    "duration": 2725,
    "start_time": "2022-05-11T18:07:55.737Z"
   },
   {
    "duration": 1242,
    "start_time": "2022-05-11T18:07:58.465Z"
   },
   {
    "duration": 1707,
    "start_time": "2022-05-11T18:07:59.710Z"
   },
   {
    "duration": 14,
    "start_time": "2022-05-11T18:08:01.420Z"
   },
   {
    "duration": 1347,
    "start_time": "2022-05-11T18:08:01.437Z"
   },
   {
    "duration": 10,
    "start_time": "2022-05-11T18:08:02.786Z"
   },
   {
    "duration": 50,
    "start_time": "2022-05-11T18:08:02.800Z"
   },
   {
    "duration": 423,
    "start_time": "2022-05-11T18:08:02.852Z"
   },
   {
    "duration": 4,
    "start_time": "2022-05-11T18:08:03.277Z"
   },
   {
    "duration": 44,
    "start_time": "2022-05-11T18:08:03.283Z"
   },
   {
    "duration": 12,
    "start_time": "2022-05-11T18:08:03.329Z"
   },
   {
    "duration": 15,
    "start_time": "2022-05-11T18:08:03.343Z"
   },
   {
    "duration": 134002,
    "start_time": "2022-05-11T18:08:03.360Z"
   },
   {
    "duration": 1772,
    "start_time": "2022-05-11T18:10:17.365Z"
   },
   {
    "duration": 17,
    "start_time": "2022-05-11T18:10:19.138Z"
   },
   {
    "duration": 6754,
    "start_time": "2022-05-11T18:10:19.157Z"
   },
   {
    "duration": 98,
    "start_time": "2022-05-12T08:02:14.552Z"
   }
  ],
  "kernelspec": {
   "display_name": "Python 3",
   "language": "python",
   "name": "python3"
  },
  "language_info": {
   "codemirror_mode": {
    "name": "ipython",
    "version": 3
   },
   "file_extension": ".py",
   "mimetype": "text/x-python",
   "name": "python",
   "nbconvert_exporter": "python",
   "pygments_lexer": "ipython3",
   "version": "3.8.8"
  },
  "toc": {
   "base_numbering": 1,
   "nav_menu": {},
   "number_sections": true,
   "sideBar": true,
   "skip_h1_title": true,
   "title_cell": "Содержание",
   "title_sidebar": "Contents",
   "toc_cell": true,
   "toc_position": {},
   "toc_section_display": true,
   "toc_window_display": true
  }
 },
 "nbformat": 4,
 "nbformat_minor": 2
}
