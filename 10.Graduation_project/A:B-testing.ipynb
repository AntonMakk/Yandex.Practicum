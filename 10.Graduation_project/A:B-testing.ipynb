{
 "cells": [
  {
   "cell_type": "markdown",
   "metadata": {
    "toc": true
   },
   "source": [
    "<h1>Table of Contents<span class=\"tocSkip\"></span></h1>\n",
    "<div class=\"toc\"><ul class=\"toc-item\"><li><span><a href=\"#Загрузим-и-исследуем-данные\" data-toc-modified-id=\"Загрузим-и-исследуем-данные-1\"><span class=\"toc-item-num\">1&nbsp;&nbsp;</span>Загрузим и исследуем данные</a></span><ul class=\"toc-item\"><li><span><a href=\"#Требуется-ли-преобразование-типов?\" data-toc-modified-id=\"Требуется-ли-преобразование-типов?-1.1\"><span class=\"toc-item-num\">1.1&nbsp;&nbsp;</span>Требуется ли преобразование типов?</a></span></li><li><span><a href=\"#Найдем-дубликаты-и-пропущенные-значения\" data-toc-modified-id=\"Найдем-дубликаты-и-пропущенные-значения-1.2\"><span class=\"toc-item-num\">1.2&nbsp;&nbsp;</span>Найдем дубликаты и пропущенные значения</a></span></li></ul></li><li><span><a href=\"#Оценим-корректность-проведения-теста.\" data-toc-modified-id=\"Оценим-корректность-проведения-теста.-2\"><span class=\"toc-item-num\">2&nbsp;&nbsp;</span>Оценим корректность проведения теста.</a></span><ul class=\"toc-item\"><li><span><a href=\"#Проверим-соответствуют-ли-данные-требованиям-технического-задания.\" data-toc-modified-id=\"Проверим-соответствуют-ли-данные-требованиям-технического-задания.-2.1\"><span class=\"toc-item-num\">2.1&nbsp;&nbsp;</span>Проверим соответствуют ли данные требованиям технического задания.</a></span><ul class=\"toc-item\"><li><span><a href=\"#Название-теста:-recommender_system_test\" data-toc-modified-id=\"Название-теста:-recommender_system_test-2.1.1\"><span class=\"toc-item-num\">2.1.1&nbsp;&nbsp;</span>Название теста: recommender_system_test</a></span></li><li><span><a href=\"#Группы:-А-(контрольная),-B-(новая-платёжная-воронка)\" data-toc-modified-id=\"Группы:-А-(контрольная),-B-(новая-платёжная-воронка)-2.1.2\"><span class=\"toc-item-num\">2.1.2&nbsp;&nbsp;</span>Группы: А (контрольная), B (новая платёжная воронка)</a></span></li><li><span><a href=\"#Дата-запуска:-2020-12-07\" data-toc-modified-id=\"Дата-запуска:-2020-12-07-2.1.3\"><span class=\"toc-item-num\">2.1.3&nbsp;&nbsp;</span>Дата запуска: 2020-12-07</a></span></li><li><span><a href=\"#Дата-остановки-набора-новых-пользователей:-2020-12-21\" data-toc-modified-id=\"Дата-остановки-набора-новых-пользователей:-2020-12-21-2.1.4\"><span class=\"toc-item-num\">2.1.4&nbsp;&nbsp;</span>Дата остановки набора новых пользователей: 2020-12-21</a></span></li><li><span><a href=\"#Дата-остановки:-2021-01-04\" data-toc-modified-id=\"Дата-остановки:-2021-01-04-2.1.5\"><span class=\"toc-item-num\">2.1.5&nbsp;&nbsp;</span>Дата остановки: 2021-01-04</a></span></li><li><span><a href=\"#Аудитория:-15%-новых-пользователей-из-региона-EU\" data-toc-modified-id=\"Аудитория:-15%-новых-пользователей-из-региона-EU-2.1.6\"><span class=\"toc-item-num\">2.1.6&nbsp;&nbsp;</span>Аудитория: 15% новых пользователей из региона EU</a></span></li><li><span><a href=\"#Назначение-теста:-тестирование-изменений,-связанных-с-внедрением-улучшенной-рекомендательной-системы\" data-toc-modified-id=\"Назначение-теста:-тестирование-изменений,-связанных-с-внедрением-улучшенной-рекомендательной-системы-2.1.7\"><span class=\"toc-item-num\">2.1.7&nbsp;&nbsp;</span>Назначение теста: тестирование изменений, связанных с внедрением улучшенной рекомендательной системы</a></span></li><li><span><a href=\"#Ожидаемое-количество-участников-теста:-6000\" data-toc-modified-id=\"Ожидаемое-количество-участников-теста:-6000-2.1.8\"><span class=\"toc-item-num\">2.1.8&nbsp;&nbsp;</span>Ожидаемое количество участников теста: 6000</a></span></li><li><span><a href=\"#Ожидаемый-эффект:-за-14-дней-с-момента-регистрации-пользователи-покажут-улучшение-каждой-метрики-не-менее,-чем-на-10%:\" data-toc-modified-id=\"Ожидаемый-эффект:-за-14-дней-с-момента-регистрации-пользователи-покажут-улучшение-каждой-метрики-не-менее,-чем-на-10%:-2.1.9\"><span class=\"toc-item-num\">2.1.9&nbsp;&nbsp;</span>Ожидаемый эффект: за 14 дней с момента регистрации пользователи покажут улучшение каждой метрики не менее, чем на 10%:</a></span></li></ul></li><li><span><a href=\"#Проверим-время-проведения-теста.\" data-toc-modified-id=\"Проверим-время-проведения-теста.-2.2\"><span class=\"toc-item-num\">2.2&nbsp;&nbsp;</span>Проверим время проведения теста.</a></span></li><li><span><a href=\"#Проверим-аудиторию-теста.\" data-toc-modified-id=\"Проверим-аудиторию-теста.-2.3\"><span class=\"toc-item-num\">2.3&nbsp;&nbsp;</span>Проверим аудиторию теста.</a></span><ul class=\"toc-item\"><li><span><a href=\"#Удостоверимся,-что-нет-пересечений-с-конкурирующим-тестом-и-нет-пользователей,-участвующих-в-двух-группах-теста-одновременно.\" data-toc-modified-id=\"Удостоверимся,-что-нет-пересечений-с-конкурирующим-тестом-и-нет-пользователей,-участвующих-в-двух-группах-теста-одновременно.-2.3.1\"><span class=\"toc-item-num\">2.3.1&nbsp;&nbsp;</span>Удостоверимся, что нет пересечений с конкурирующим тестом и нет пользователей, участвующих в двух группах теста одновременно.</a></span></li><li><span><a href=\"#Проверим-равномерность-распределения-по-тестовым-группам-и-правильность-их-формирования.\" data-toc-modified-id=\"Проверим-равномерность-распределения-по-тестовым-группам-и-правильность-их-формирования.-2.3.2\"><span class=\"toc-item-num\">2.3.2&nbsp;&nbsp;</span>Проверим равномерность распределения по тестовым группам и правильность их формирования.</a></span></li></ul></li><li><span><a href=\"#Очистим-данные-несоответствующие-ТЗ-и-подготовим-данные\" data-toc-modified-id=\"Очистим-данные-несоответствующие-ТЗ-и-подготовим-данные-2.4\"><span class=\"toc-item-num\">2.4&nbsp;&nbsp;</span>Очистим данные несоответствующие ТЗ и подготовим данные</a></span><ul class=\"toc-item\"><li><span><a href=\"#Удалим-пользователей-которые-не-попали-во-временые-рамки\" data-toc-modified-id=\"Удалим-пользователей-которые-не-попали-во-временые-рамки-2.4.1\"><span class=\"toc-item-num\">2.4.1&nbsp;&nbsp;</span>Удалим пользователей которые не попали во временые рамки</a></span></li><li><span><a href=\"#Удалим-пользователей-которые-учавствовали-в-двух-тестах\" data-toc-modified-id=\"Удалим-пользователей-которые-учавствовали-в-двух-тестах-2.4.2\"><span class=\"toc-item-num\">2.4.2&nbsp;&nbsp;</span>Удалим пользователей которые учавствовали в двух тестах</a></span></li><li><span><a href=\"#Подготовим-данные\" data-toc-modified-id=\"Подготовим-данные-2.4.3\"><span class=\"toc-item-num\">2.4.3&nbsp;&nbsp;</span>Подготовим данные</a></span></li></ul></li></ul></li><li><span><a href=\"#Проведем-исследовательский-анализ-данных:\" data-toc-modified-id=\"Проведем-исследовательский-анализ-данных:-3\"><span class=\"toc-item-num\">3&nbsp;&nbsp;</span>Проведем исследовательский анализ данных:</a></span><ul class=\"toc-item\"><li><span><a href=\"#Количество-событий-на-пользователя-одинаково-распределены-в-выборках?\" data-toc-modified-id=\"Количество-событий-на-пользователя-одинаково-распределены-в-выборках?-3.1\"><span class=\"toc-item-num\">3.1&nbsp;&nbsp;</span>Количество событий на пользователя одинаково распределены в выборках?</a></span></li><li><span><a href=\"#Как-число-событий-в-выборках-распределено-по-дням?\" data-toc-modified-id=\"Как-число-событий-в-выборках-распределено-по-дням?-3.2\"><span class=\"toc-item-num\">3.2&nbsp;&nbsp;</span>Как число событий в выборках распределено по дням?</a></span></li><li><span><a href=\"#Как-меняется-конверсия-в-воронке-в-выборках-на-разных-этапах?\" data-toc-modified-id=\"Как-меняется-конверсия-в-воронке-в-выборках-на-разных-этапах?-3.3\"><span class=\"toc-item-num\">3.3&nbsp;&nbsp;</span>Как меняется конверсия в воронке в выборках на разных этапах?</a></span></li><li><span><a href=\"#Какие-особенности-данных-нужно-учесть,-прежде-чем-приступать-к-A/B-тестированию?\" data-toc-modified-id=\"Какие-особенности-данных-нужно-учесть,-прежде-чем-приступать-к-A/B-тестированию?-3.4\"><span class=\"toc-item-num\">3.4&nbsp;&nbsp;</span>Какие особенности данных нужно учесть, прежде чем приступать к A/B-тестированию?</a></span></li></ul></li><li><span><a href=\"#Оценим-результаты-A/B-тестирования\" data-toc-modified-id=\"Оценим-результаты-A/B-тестирования-4\"><span class=\"toc-item-num\">4&nbsp;&nbsp;</span>Оценим результаты A/B-тестирования</a></span><ul class=\"toc-item\"><li><span><a href=\"#Что-можно-сказать-про-результаты-A/В-тестирования?\" data-toc-modified-id=\"Что-можно-сказать-про-результаты-A/В-тестирования?-4.1\"><span class=\"toc-item-num\">4.1&nbsp;&nbsp;</span>Что можно сказать про результаты A/В-тестирования?</a></span></li><li><span><a href=\"#Проверим-статистическую-разницу-долей-z-критерием.\" data-toc-modified-id=\"Проверим-статистическую-разницу-долей-z-критерием.-4.2\"><span class=\"toc-item-num\">4.2&nbsp;&nbsp;</span>Проверим статистическую разницу долей z-критерием.</a></span><ul class=\"toc-item\"><li><span><a href=\"#Сформулируем-гипотезы:\" data-toc-modified-id=\"Сформулируем-гипотезы:-4.2.1\"><span class=\"toc-item-num\">4.2.1&nbsp;&nbsp;</span>Сформулируем гипотезы:</a></span></li></ul></li></ul></li><li><span><a href=\"#Выводы:\" data-toc-modified-id=\"Выводы:-5\"><span class=\"toc-item-num\">5&nbsp;&nbsp;</span>Выводы:</a></span></li></ul></div>"
   ]
  },
  {
   "cell_type": "markdown",
   "metadata": {},
   "source": [
    "# A/B-тестирование"
   ]
  },
  {
   "cell_type": "markdown",
   "metadata": {},
   "source": [
    "***Постановка задачи***"
   ]
  },
  {
   "cell_type": "markdown",
   "metadata": {},
   "source": [
    "Наша задача — провести оценку результатов A/B-теста. В нашем распоряжении есть датасет с действиями пользователей, техническое задание и несколько вспомогательных датасетов.\n",
    "Необходимо\n",
    "- Оценить корректность проведения теста\n",
    "- Проанализировать результаты теста\n",
    "\n",
    "Чтобы оценить корректность проведения теста, необходимо проверить:\n",
    "\n",
    "- пересечение тестовой аудитории с конкурирующим тестом,\n",
    "- совпадение теста и маркетинговых событий, другие проблемы временных границ теста."
   ]
  },
  {
   "cell_type": "markdown",
   "metadata": {},
   "source": [
    "***Техническое задание***"
   ]
  },
  {
   "cell_type": "markdown",
   "metadata": {},
   "source": [
    "- Название теста: `recommender_system_test`;\n",
    "- группы: А — контрольная, B — новая платёжная воронка;\n",
    "- дата запуска: 2020-12-07;\n",
    "- дата остановки набора новых пользователей: 2020-12-21;\n",
    "- дата остановки: 2021-01-04;\n",
    "- аудитория: 15% новых пользователей из региона EU;\n",
    "- назначение теста: тестирование изменений, связанных с внедрением улучшенной рекомендательной системы;\n",
    "- ожидаемое количество участников теста: 6000.\n",
    "- ожидаемый эффект: за 14 дней с момента регистрации пользователи покажут улучшение каждой метрики не менее, чем на 10%:\n",
    "    - конверсии в просмотр карточек товаров — событие `product_page`,\n",
    "    - просмотры корзины — `product_cart`,\n",
    "    - покупки — `purchase`."
   ]
  },
  {
   "cell_type": "markdown",
   "metadata": {},
   "source": [
    "***Описание данных***"
   ]
  },
  {
   "cell_type": "markdown",
   "metadata": {},
   "source": [
    "`ab_project_marketing_events.csv` — календарь маркетинговых событий на 2020 год.\n",
    "\n",
    "Структура файла:\n",
    "\n",
    "- `name` — название маркетингового события;\n",
    "- `regions` — регионы, в которых будет проводиться рекламная кампания;\n",
    "- `start_dt` — дата начала кампании;\n",
    "- `finish_dt` — дата завершения кампании.\n",
    "\n",
    "`final_ab_new_users.csv` — пользователи, зарегистрировавшиеся с 7 по 21 декабря 2020 года.\n",
    "\n",
    "Структура файла:\n",
    "\n",
    "- `user_id` — идентификатор пользователя;\n",
    "- `first_date` — дата регистрации;\n",
    "- `region` — регион пользователя;\n",
    "- `device` — устройство, с которого происходила регистрация.\n",
    "\n",
    "`final_ab_events.csv` — действия новых пользователей в период с 7 декабря 2020 по 4 января 2021 года.\n",
    "\n",
    "Структура файла:\n",
    "\n",
    "- `user_id` — идентификатор пользователя;\n",
    "- `event_dt` — дата и время покупки;\n",
    "- `event_name` — тип события;\n",
    "- `details` — дополнительные данные о событии. Например, для покупок, `purchase,` в этом поле хранится стоимость покупки в долларах.\n",
    "\n",
    "`final_ab_participants.csv` — таблица участников тестов.\n",
    "\n",
    "Структура файла:\n",
    "\n",
    "- `user_id` — идентификатор пользователя;\n",
    "- `ab_test` — название теста;\n",
    "- `group` — группа пользователя."
   ]
  },
  {
   "cell_type": "markdown",
   "metadata": {},
   "source": [
    "## Загрузим и исследуем данные"
   ]
  },
  {
   "cell_type": "code",
   "execution_count": 1,
   "metadata": {},
   "outputs": [],
   "source": [
    "#Загрузим библиотеки необходимые для работы\n",
    "import pandas as pd\n",
    "import matplotlib.pyplot as plt\n",
    "import seaborn as sns\n",
    "import plotly.express as px \n",
    "from plotly import graph_objects as go\n",
    "from scipy import stats as st\n",
    "import math as mth\n",
    "import warnings\n",
    "warnings.filterwarnings('ignore')\n",
    "import datetime as dt\n",
    "from datetime import datetime, date\n",
    "import numpy as np\n",
    "from scipy import stats as st\n",
    "import math as mth"
   ]
  },
  {
   "cell_type": "code",
   "execution_count": 2,
   "metadata": {},
   "outputs": [],
   "source": [
    "marketing_events = pd.read_csv('/datasets/ab_project_marketing_events.csv')\n",
    "events = pd.read_csv('/datasets/final_ab_events.csv') \n",
    "new_users = pd.read_csv('/datasets/final_ab_new_users.csv') \n",
    "participants = pd.read_csv('/datasets/final_ab_participants.csv') "
   ]
  },
  {
   "cell_type": "code",
   "execution_count": 3,
   "metadata": {},
   "outputs": [
    {
     "name": "stdout",
     "output_type": "stream",
     "text": [
      "<class 'pandas.core.frame.DataFrame'>\n",
      "RangeIndex: 14 entries, 0 to 13\n",
      "Data columns (total 4 columns):\n",
      " #   Column     Non-Null Count  Dtype \n",
      "---  ------     --------------  ----- \n",
      " 0   name       14 non-null     object\n",
      " 1   regions    14 non-null     object\n",
      " 2   start_dt   14 non-null     object\n",
      " 3   finish_dt  14 non-null     object\n",
      "dtypes: object(4)\n",
      "memory usage: 576.0+ bytes\n",
      "<class 'pandas.core.frame.DataFrame'>\n",
      "RangeIndex: 440317 entries, 0 to 440316\n",
      "Data columns (total 4 columns):\n",
      " #   Column      Non-Null Count   Dtype  \n",
      "---  ------      --------------   -----  \n",
      " 0   user_id     440317 non-null  object \n",
      " 1   event_dt    440317 non-null  object \n",
      " 2   event_name  440317 non-null  object \n",
      " 3   details     62740 non-null   float64\n",
      "dtypes: float64(1), object(3)\n",
      "memory usage: 13.4+ MB\n",
      "<class 'pandas.core.frame.DataFrame'>\n",
      "RangeIndex: 61733 entries, 0 to 61732\n",
      "Data columns (total 4 columns):\n",
      " #   Column      Non-Null Count  Dtype \n",
      "---  ------      --------------  ----- \n",
      " 0   user_id     61733 non-null  object\n",
      " 1   first_date  61733 non-null  object\n",
      " 2   region      61733 non-null  object\n",
      " 3   device      61733 non-null  object\n",
      "dtypes: object(4)\n",
      "memory usage: 1.9+ MB\n",
      "<class 'pandas.core.frame.DataFrame'>\n",
      "RangeIndex: 18268 entries, 0 to 18267\n",
      "Data columns (total 3 columns):\n",
      " #   Column   Non-Null Count  Dtype \n",
      "---  ------   --------------  ----- \n",
      " 0   user_id  18268 non-null  object\n",
      " 1   group    18268 non-null  object\n",
      " 2   ab_test  18268 non-null  object\n",
      "dtypes: object(3)\n",
      "memory usage: 428.3+ KB\n"
     ]
    },
    {
     "data": {
      "text/plain": [
       "(None, None, None, None)"
      ]
     },
     "execution_count": 3,
     "metadata": {},
     "output_type": "execute_result"
    }
   ],
   "source": [
    "(marketing_events.info(), \n",
    " events.info(), \n",
    " new_users.info(), \n",
    " participants.info())"
   ]
  },
  {
   "cell_type": "code",
   "execution_count": 4,
   "metadata": {},
   "outputs": [
    {
     "data": {
      "text/html": [
       "<div>\n",
       "<style scoped>\n",
       "    .dataframe tbody tr th:only-of-type {\n",
       "        vertical-align: middle;\n",
       "    }\n",
       "\n",
       "    .dataframe tbody tr th {\n",
       "        vertical-align: top;\n",
       "    }\n",
       "\n",
       "    .dataframe thead th {\n",
       "        text-align: right;\n",
       "    }\n",
       "</style>\n",
       "<table border=\"1\" class=\"dataframe\">\n",
       "  <thead>\n",
       "    <tr style=\"text-align: right;\">\n",
       "      <th></th>\n",
       "      <th>name</th>\n",
       "      <th>regions</th>\n",
       "      <th>start_dt</th>\n",
       "      <th>finish_dt</th>\n",
       "    </tr>\n",
       "  </thead>\n",
       "  <tbody>\n",
       "    <tr>\n",
       "      <th>0</th>\n",
       "      <td>Christmas&amp;New Year Promo</td>\n",
       "      <td>EU, N.America</td>\n",
       "      <td>2020-12-25</td>\n",
       "      <td>2021-01-03</td>\n",
       "    </tr>\n",
       "    <tr>\n",
       "      <th>1</th>\n",
       "      <td>St. Valentine's Day Giveaway</td>\n",
       "      <td>EU, CIS, APAC, N.America</td>\n",
       "      <td>2020-02-14</td>\n",
       "      <td>2020-02-16</td>\n",
       "    </tr>\n",
       "    <tr>\n",
       "      <th>2</th>\n",
       "      <td>St. Patric's Day Promo</td>\n",
       "      <td>EU, N.America</td>\n",
       "      <td>2020-03-17</td>\n",
       "      <td>2020-03-19</td>\n",
       "    </tr>\n",
       "    <tr>\n",
       "      <th>3</th>\n",
       "      <td>Easter Promo</td>\n",
       "      <td>EU, CIS, APAC, N.America</td>\n",
       "      <td>2020-04-12</td>\n",
       "      <td>2020-04-19</td>\n",
       "    </tr>\n",
       "    <tr>\n",
       "      <th>4</th>\n",
       "      <td>4th of July Promo</td>\n",
       "      <td>N.America</td>\n",
       "      <td>2020-07-04</td>\n",
       "      <td>2020-07-11</td>\n",
       "    </tr>\n",
       "  </tbody>\n",
       "</table>\n",
       "</div>"
      ],
      "text/plain": [
       "                           name                   regions    start_dt  \\\n",
       "0      Christmas&New Year Promo             EU, N.America  2020-12-25   \n",
       "1  St. Valentine's Day Giveaway  EU, CIS, APAC, N.America  2020-02-14   \n",
       "2        St. Patric's Day Promo             EU, N.America  2020-03-17   \n",
       "3                  Easter Promo  EU, CIS, APAC, N.America  2020-04-12   \n",
       "4             4th of July Promo                 N.America  2020-07-04   \n",
       "\n",
       "    finish_dt  \n",
       "0  2021-01-03  \n",
       "1  2020-02-16  \n",
       "2  2020-03-19  \n",
       "3  2020-04-19  \n",
       "4  2020-07-11  "
      ]
     },
     "execution_count": 4,
     "metadata": {},
     "output_type": "execute_result"
    }
   ],
   "source": [
    "marketing_events.head()\n",
    "#marketing_events.duplicated().sum()"
   ]
  },
  {
   "cell_type": "code",
   "execution_count": 5,
   "metadata": {},
   "outputs": [
    {
     "data": {
      "text/plain": [
       "0"
      ]
     },
     "execution_count": 5,
     "metadata": {},
     "output_type": "execute_result"
    }
   ],
   "source": [
    "events.head().duplicated().sum()"
   ]
  },
  {
   "cell_type": "code",
   "execution_count": 6,
   "metadata": {},
   "outputs": [
    {
     "data": {
      "text/html": [
       "<div>\n",
       "<style scoped>\n",
       "    .dataframe tbody tr th:only-of-type {\n",
       "        vertical-align: middle;\n",
       "    }\n",
       "\n",
       "    .dataframe tbody tr th {\n",
       "        vertical-align: top;\n",
       "    }\n",
       "\n",
       "    .dataframe thead th {\n",
       "        text-align: right;\n",
       "    }\n",
       "</style>\n",
       "<table border=\"1\" class=\"dataframe\">\n",
       "  <thead>\n",
       "    <tr style=\"text-align: right;\">\n",
       "      <th></th>\n",
       "      <th>user_id</th>\n",
       "      <th>first_date</th>\n",
       "      <th>region</th>\n",
       "      <th>device</th>\n",
       "    </tr>\n",
       "  </thead>\n",
       "  <tbody>\n",
       "    <tr>\n",
       "      <th>0</th>\n",
       "      <td>D72A72121175D8BE</td>\n",
       "      <td>2020-12-07</td>\n",
       "      <td>EU</td>\n",
       "      <td>PC</td>\n",
       "    </tr>\n",
       "    <tr>\n",
       "      <th>1</th>\n",
       "      <td>F1C668619DFE6E65</td>\n",
       "      <td>2020-12-07</td>\n",
       "      <td>N.America</td>\n",
       "      <td>Android</td>\n",
       "    </tr>\n",
       "    <tr>\n",
       "      <th>2</th>\n",
       "      <td>2E1BF1D4C37EA01F</td>\n",
       "      <td>2020-12-07</td>\n",
       "      <td>EU</td>\n",
       "      <td>PC</td>\n",
       "    </tr>\n",
       "    <tr>\n",
       "      <th>3</th>\n",
       "      <td>50734A22C0C63768</td>\n",
       "      <td>2020-12-07</td>\n",
       "      <td>EU</td>\n",
       "      <td>iPhone</td>\n",
       "    </tr>\n",
       "    <tr>\n",
       "      <th>4</th>\n",
       "      <td>E1BDDCE0DAFA2679</td>\n",
       "      <td>2020-12-07</td>\n",
       "      <td>N.America</td>\n",
       "      <td>iPhone</td>\n",
       "    </tr>\n",
       "  </tbody>\n",
       "</table>\n",
       "</div>"
      ],
      "text/plain": [
       "            user_id  first_date     region   device\n",
       "0  D72A72121175D8BE  2020-12-07         EU       PC\n",
       "1  F1C668619DFE6E65  2020-12-07  N.America  Android\n",
       "2  2E1BF1D4C37EA01F  2020-12-07         EU       PC\n",
       "3  50734A22C0C63768  2020-12-07         EU   iPhone\n",
       "4  E1BDDCE0DAFA2679  2020-12-07  N.America   iPhone"
      ]
     },
     "execution_count": 6,
     "metadata": {},
     "output_type": "execute_result"
    }
   ],
   "source": [
    "new_users.head()"
   ]
  },
  {
   "cell_type": "code",
   "execution_count": 7,
   "metadata": {},
   "outputs": [
    {
     "data": {
      "text/html": [
       "<div>\n",
       "<style scoped>\n",
       "    .dataframe tbody tr th:only-of-type {\n",
       "        vertical-align: middle;\n",
       "    }\n",
       "\n",
       "    .dataframe tbody tr th {\n",
       "        vertical-align: top;\n",
       "    }\n",
       "\n",
       "    .dataframe thead th {\n",
       "        text-align: right;\n",
       "    }\n",
       "</style>\n",
       "<table border=\"1\" class=\"dataframe\">\n",
       "  <thead>\n",
       "    <tr style=\"text-align: right;\">\n",
       "      <th></th>\n",
       "      <th>user_id</th>\n",
       "      <th>group</th>\n",
       "      <th>ab_test</th>\n",
       "    </tr>\n",
       "  </thead>\n",
       "  <tbody>\n",
       "    <tr>\n",
       "      <th>0</th>\n",
       "      <td>D1ABA3E2887B6A73</td>\n",
       "      <td>A</td>\n",
       "      <td>recommender_system_test</td>\n",
       "    </tr>\n",
       "    <tr>\n",
       "      <th>1</th>\n",
       "      <td>A7A3664BD6242119</td>\n",
       "      <td>A</td>\n",
       "      <td>recommender_system_test</td>\n",
       "    </tr>\n",
       "    <tr>\n",
       "      <th>2</th>\n",
       "      <td>DABC14FDDFADD29E</td>\n",
       "      <td>A</td>\n",
       "      <td>recommender_system_test</td>\n",
       "    </tr>\n",
       "    <tr>\n",
       "      <th>3</th>\n",
       "      <td>04988C5DF189632E</td>\n",
       "      <td>A</td>\n",
       "      <td>recommender_system_test</td>\n",
       "    </tr>\n",
       "    <tr>\n",
       "      <th>4</th>\n",
       "      <td>482F14783456D21B</td>\n",
       "      <td>B</td>\n",
       "      <td>recommender_system_test</td>\n",
       "    </tr>\n",
       "  </tbody>\n",
       "</table>\n",
       "</div>"
      ],
      "text/plain": [
       "            user_id group                  ab_test\n",
       "0  D1ABA3E2887B6A73     A  recommender_system_test\n",
       "1  A7A3664BD6242119     A  recommender_system_test\n",
       "2  DABC14FDDFADD29E     A  recommender_system_test\n",
       "3  04988C5DF189632E     A  recommender_system_test\n",
       "4  482F14783456D21B     B  recommender_system_test"
      ]
     },
     "execution_count": 7,
     "metadata": {},
     "output_type": "execute_result"
    }
   ],
   "source": [
    "participants.head()"
   ]
  },
  {
   "cell_type": "code",
   "execution_count": 8,
   "metadata": {},
   "outputs": [],
   "source": [
    "# participants.groupby('ab_test').count()"
   ]
  },
  {
   "cell_type": "markdown",
   "metadata": {},
   "source": [
    "### Требуется ли преобразование типов?"
   ]
  },
  {
   "cell_type": "code",
   "execution_count": 9,
   "metadata": {},
   "outputs": [
    {
     "name": "stdout",
     "output_type": "stream",
     "text": [
      "<class 'pandas.core.frame.DataFrame'>\n",
      "RangeIndex: 14 entries, 0 to 13\n",
      "Data columns (total 4 columns):\n",
      " #   Column     Non-Null Count  Dtype \n",
      "---  ------     --------------  ----- \n",
      " 0   name       14 non-null     object\n",
      " 1   regions    14 non-null     object\n",
      " 2   start_dt   14 non-null     object\n",
      " 3   finish_dt  14 non-null     object\n",
      "dtypes: object(4)\n",
      "memory usage: 576.0+ bytes\n",
      "<class 'pandas.core.frame.DataFrame'>\n",
      "RangeIndex: 440317 entries, 0 to 440316\n",
      "Data columns (total 4 columns):\n",
      " #   Column      Non-Null Count   Dtype  \n",
      "---  ------      --------------   -----  \n",
      " 0   user_id     440317 non-null  object \n",
      " 1   event_dt    440317 non-null  object \n",
      " 2   event_name  440317 non-null  object \n",
      " 3   details     62740 non-null   float64\n",
      "dtypes: float64(1), object(3)\n",
      "memory usage: 13.4+ MB\n",
      "<class 'pandas.core.frame.DataFrame'>\n",
      "RangeIndex: 61733 entries, 0 to 61732\n",
      "Data columns (total 4 columns):\n",
      " #   Column      Non-Null Count  Dtype \n",
      "---  ------      --------------  ----- \n",
      " 0   user_id     61733 non-null  object\n",
      " 1   first_date  61733 non-null  object\n",
      " 2   region      61733 non-null  object\n",
      " 3   device      61733 non-null  object\n",
      "dtypes: object(4)\n",
      "memory usage: 1.9+ MB\n",
      "<class 'pandas.core.frame.DataFrame'>\n",
      "RangeIndex: 18268 entries, 0 to 18267\n",
      "Data columns (total 3 columns):\n",
      " #   Column   Non-Null Count  Dtype \n",
      "---  ------   --------------  ----- \n",
      " 0   user_id  18268 non-null  object\n",
      " 1   group    18268 non-null  object\n",
      " 2   ab_test  18268 non-null  object\n",
      "dtypes: object(3)\n",
      "memory usage: 428.3+ KB\n"
     ]
    },
    {
     "data": {
      "text/plain": [
       "(None, None, None, None)"
      ]
     },
     "execution_count": 9,
     "metadata": {},
     "output_type": "execute_result"
    }
   ],
   "source": [
    "marketing_events.info(), events.info(), new_users.info(), participants.info()"
   ]
  },
  {
   "cell_type": "code",
   "execution_count": 10,
   "metadata": {},
   "outputs": [],
   "source": [
    "# Приведем даты к нужному типу\n",
    "marketing_events['start_dt'] = pd.to_datetime(marketing_events['start_dt']) \n",
    "marketing_events['finish_dt'] = pd.to_datetime(marketing_events['finish_dt']) \n",
    "events['event_dt'] = pd.to_datetime(events['event_dt']) \n",
    "new_users['first_date'] = pd.to_datetime(new_users['first_date']) "
   ]
  },
  {
   "cell_type": "markdown",
   "metadata": {},
   "source": [
    "### Найдем дубликаты и пропущенные значения"
   ]
  },
  {
   "cell_type": "code",
   "execution_count": 11,
   "metadata": {},
   "outputs": [
    {
     "data": {
      "text/plain": [
       "(0, 0, 0, 0)"
      ]
     },
     "execution_count": 11,
     "metadata": {},
     "output_type": "execute_result"
    }
   ],
   "source": [
    "(marketing_events.duplicated().sum(), \n",
    " events.duplicated().sum(), \n",
    " new_users.duplicated().sum(), \n",
    " participants.duplicated().sum())"
   ]
  },
  {
   "cell_type": "markdown",
   "metadata": {},
   "source": [
    "Дубликаты не обнаружили"
   ]
  },
  {
   "cell_type": "code",
   "execution_count": 12,
   "metadata": {},
   "outputs": [
    {
     "name": "stdout",
     "output_type": "stream",
     "text": [
      "<class 'pandas.core.frame.DataFrame'>\n",
      "RangeIndex: 440317 entries, 0 to 440316\n",
      "Data columns (total 4 columns):\n",
      " #   Column      Non-Null Count   Dtype         \n",
      "---  ------      --------------   -----         \n",
      " 0   user_id     440317 non-null  object        \n",
      " 1   event_dt    440317 non-null  datetime64[ns]\n",
      " 2   event_name  440317 non-null  object        \n",
      " 3   details     62740 non-null   float64       \n",
      "dtypes: datetime64[ns](1), float64(1), object(2)\n",
      "memory usage: 13.4+ MB\n"
     ]
    }
   ],
   "source": [
    "events.info()"
   ]
  },
  {
   "cell_type": "markdown",
   "metadata": {},
   "source": [
    "Пропущенные значения обнаружили только в столбце details датафрейма events. Но это связано только с тем что не для всех событий есть дополнительная информация"
   ]
  },
  {
   "cell_type": "markdown",
   "metadata": {},
   "source": [
    "## Оценим корректность проведения теста."
   ]
  },
  {
   "cell_type": "markdown",
   "metadata": {},
   "source": [
    "### Проверим соответствуют ли данные требованиям технического задания. \n",
    "Проверим корректность всех пунктов технического задания."
   ]
  },
  {
   "cell_type": "markdown",
   "metadata": {},
   "source": [
    "Пойдем по порядку:"
   ]
  },
  {
   "cell_type": "markdown",
   "metadata": {},
   "source": [
    "#### Название теста: recommender_system_test"
   ]
  },
  {
   "cell_type": "code",
   "execution_count": 13,
   "metadata": {},
   "outputs": [
    {
     "data": {
      "text/html": [
       "<div>\n",
       "<style scoped>\n",
       "    .dataframe tbody tr th:only-of-type {\n",
       "        vertical-align: middle;\n",
       "    }\n",
       "\n",
       "    .dataframe tbody tr th {\n",
       "        vertical-align: top;\n",
       "    }\n",
       "\n",
       "    .dataframe thead th {\n",
       "        text-align: right;\n",
       "    }\n",
       "</style>\n",
       "<table border=\"1\" class=\"dataframe\">\n",
       "  <thead>\n",
       "    <tr style=\"text-align: right;\">\n",
       "      <th></th>\n",
       "      <th>user_id</th>\n",
       "      <th>group</th>\n",
       "    </tr>\n",
       "    <tr>\n",
       "      <th>ab_test</th>\n",
       "      <th></th>\n",
       "      <th></th>\n",
       "    </tr>\n",
       "  </thead>\n",
       "  <tbody>\n",
       "    <tr>\n",
       "      <th>interface_eu_test</th>\n",
       "      <td>11567</td>\n",
       "      <td>11567</td>\n",
       "    </tr>\n",
       "    <tr>\n",
       "      <th>recommender_system_test</th>\n",
       "      <td>6701</td>\n",
       "      <td>6701</td>\n",
       "    </tr>\n",
       "  </tbody>\n",
       "</table>\n",
       "</div>"
      ],
      "text/plain": [
       "                         user_id  group\n",
       "ab_test                                \n",
       "interface_eu_test          11567  11567\n",
       "recommender_system_test     6701   6701"
      ]
     },
     "execution_count": 13,
     "metadata": {},
     "output_type": "execute_result"
    }
   ],
   "source": [
    "participants.groupby('ab_test').count()"
   ]
  },
  {
   "cell_type": "markdown",
   "metadata": {},
   "source": [
    "***Подтверждаем*** - есть даннные теста с таким названием"
   ]
  },
  {
   "cell_type": "markdown",
   "metadata": {},
   "source": [
    "#### Группы: А (контрольная), B (новая платёжная воронка)"
   ]
  },
  {
   "cell_type": "markdown",
   "metadata": {},
   "source": [
    "Проверим есть ли в группе A не новые пользователи. Т.е. не входящие в датафрейм (new_users) пользователей зарегистрировавшихся с 7 по 21 декабря 2020"
   ]
  },
  {
   "cell_type": "code",
   "execution_count": 14,
   "metadata": {},
   "outputs": [],
   "source": [
    "#Найдем user_id новых пользователей\n",
    "new = new_users['user_id']"
   ]
  },
  {
   "cell_type": "code",
   "execution_count": 15,
   "metadata": {},
   "outputs": [
    {
     "data": {
      "text/html": [
       "<div>\n",
       "<style scoped>\n",
       "    .dataframe tbody tr th:only-of-type {\n",
       "        vertical-align: middle;\n",
       "    }\n",
       "\n",
       "    .dataframe tbody tr th {\n",
       "        vertical-align: top;\n",
       "    }\n",
       "\n",
       "    .dataframe thead th {\n",
       "        text-align: right;\n",
       "    }\n",
       "</style>\n",
       "<table border=\"1\" class=\"dataframe\">\n",
       "  <thead>\n",
       "    <tr style=\"text-align: right;\">\n",
       "      <th></th>\n",
       "      <th>user_id</th>\n",
       "      <th>group</th>\n",
       "      <th>ab_test</th>\n",
       "    </tr>\n",
       "  </thead>\n",
       "  <tbody>\n",
       "  </tbody>\n",
       "</table>\n",
       "</div>"
      ],
      "text/plain": [
       "Empty DataFrame\n",
       "Columns: [user_id, group, ab_test]\n",
       "Index: []"
      ]
     },
     "execution_count": 15,
     "metadata": {},
     "output_type": "execute_result"
    }
   ],
   "source": [
    "participants.query('(ab_test == \"recommender_system_test\") and (group == \"A\") and (user_id not in @new)')"
   ]
  },
  {
   "cell_type": "markdown",
   "metadata": {},
   "source": [
    "***Подтверждаем*** - все пользователи группы A новые"
   ]
  },
  {
   "cell_type": "markdown",
   "metadata": {},
   "source": [
    "Проверим есть ли в контрольной группе B не новые пользователи"
   ]
  },
  {
   "cell_type": "code",
   "execution_count": 16,
   "metadata": {},
   "outputs": [
    {
     "data": {
      "text/html": [
       "<div>\n",
       "<style scoped>\n",
       "    .dataframe tbody tr th:only-of-type {\n",
       "        vertical-align: middle;\n",
       "    }\n",
       "\n",
       "    .dataframe tbody tr th {\n",
       "        vertical-align: top;\n",
       "    }\n",
       "\n",
       "    .dataframe thead th {\n",
       "        text-align: right;\n",
       "    }\n",
       "</style>\n",
       "<table border=\"1\" class=\"dataframe\">\n",
       "  <thead>\n",
       "    <tr style=\"text-align: right;\">\n",
       "      <th></th>\n",
       "      <th>user_id</th>\n",
       "      <th>group</th>\n",
       "      <th>ab_test</th>\n",
       "    </tr>\n",
       "  </thead>\n",
       "  <tbody>\n",
       "  </tbody>\n",
       "</table>\n",
       "</div>"
      ],
      "text/plain": [
       "Empty DataFrame\n",
       "Columns: [user_id, group, ab_test]\n",
       "Index: []"
      ]
     },
     "execution_count": 16,
     "metadata": {},
     "output_type": "execute_result"
    }
   ],
   "source": [
    "participants.query('(ab_test == \"recommender_system_test\") and (group == \"A\") and (user_id not in @new)')"
   ]
  },
  {
   "cell_type": "markdown",
   "metadata": {},
   "source": [
    "***Подтверждаем*** - все пользователи группы B новые"
   ]
  },
  {
   "cell_type": "markdown",
   "metadata": {},
   "source": [
    "#### Дата запуска: 2020-12-07"
   ]
  },
  {
   "cell_type": "code",
   "execution_count": 17,
   "metadata": {},
   "outputs": [
    {
     "data": {
      "text/plain": [
       "Timestamp('2020-12-07 00:00:33')"
      ]
     },
     "execution_count": 17,
     "metadata": {},
     "output_type": "execute_result"
    }
   ],
   "source": [
    "events['event_dt'].min()"
   ]
  },
  {
   "cell_type": "markdown",
   "metadata": {},
   "source": [
    "***Подтверждаем*** - дата запуска 2020-12-07"
   ]
  },
  {
   "cell_type": "markdown",
   "metadata": {},
   "source": [
    "#### Дата остановки набора новых пользователей: 2020-12-21"
   ]
  },
  {
   "cell_type": "code",
   "execution_count": 18,
   "metadata": {},
   "outputs": [
    {
     "data": {
      "text/plain": [
       "Timestamp('2020-12-23 00:00:00')"
      ]
     },
     "execution_count": 18,
     "metadata": {},
     "output_type": "execute_result"
    }
   ],
   "source": [
    "new_users['first_date'].max()"
   ]
  },
  {
   "cell_type": "markdown",
   "metadata": {},
   "source": [
    "***Не подтверждаем*** - фактическая дата остановки набора 2020-12-23. Потребуется корректировка"
   ]
  },
  {
   "cell_type": "markdown",
   "metadata": {},
   "source": [
    "#### Дата остановки: 2021-01-04"
   ]
  },
  {
   "cell_type": "code",
   "execution_count": 19,
   "metadata": {},
   "outputs": [
    {
     "data": {
      "text/plain": [
       "Timestamp('2020-12-30 23:36:33')"
      ]
     },
     "execution_count": 19,
     "metadata": {},
     "output_type": "execute_result"
    }
   ],
   "source": [
    "events['event_dt'].max()"
   ]
  },
  {
   "cell_type": "markdown",
   "metadata": {},
   "source": [
    "***Не подтверждаем*** - фактическая дата остановки 2020-12-30. "
   ]
  },
  {
   "cell_type": "markdown",
   "metadata": {},
   "source": [
    "#### Аудитория: 15% новых пользователей из региона EU"
   ]
  },
  {
   "cell_type": "code",
   "execution_count": 20,
   "metadata": {},
   "outputs": [],
   "source": [
    "eu_users = new_users.query('region == \"EU\"')['user_id']"
   ]
  },
  {
   "cell_type": "code",
   "execution_count": 21,
   "metadata": {},
   "outputs": [
    {
     "data": {
      "text/plain": [
       "0.13725956343202939"
      ]
     },
     "execution_count": 21,
     "metadata": {},
     "output_type": "execute_result"
    }
   ],
   "source": [
    "(participants.query('(user_id in @eu_users) and (ab_test == \"recommender_system_test\")')['user_id'].count() / \n",
    "eu_users.count())"
   ]
  },
  {
   "cell_type": "markdown",
   "metadata": {},
   "source": [
    "***Не подверждаем*** - фактическая доля пользователей из региона EU почти 14%. Это чуть меньше чем в ТЗ но приемлемый результат"
   ]
  },
  {
   "cell_type": "markdown",
   "metadata": {},
   "source": [
    "#### Назначение теста: тестирование изменений, связанных с внедрением улучшенной рекомендательной системы"
   ]
  },
  {
   "cell_type": "markdown",
   "metadata": {},
   "source": [
    "***Подтверждаем*** назначение теста"
   ]
  },
  {
   "cell_type": "markdown",
   "metadata": {},
   "source": [
    "#### Ожидаемое количество участников теста: 6000"
   ]
  },
  {
   "cell_type": "code",
   "execution_count": 22,
   "metadata": {},
   "outputs": [
    {
     "data": {
      "text/plain": [
       "6701"
      ]
     },
     "execution_count": 22,
     "metadata": {},
     "output_type": "execute_result"
    }
   ],
   "source": [
    "participants.query('ab_test == \"recommender_system_test\"')['user_id'].count()"
   ]
  },
  {
   "cell_type": "markdown",
   "metadata": {},
   "source": [
    "***Подтверждаем*** количество участников до очистки данных соответствует ожиданиям"
   ]
  },
  {
   "cell_type": "markdown",
   "metadata": {},
   "source": [
    "#### Ожидаемый эффект: за 14 дней с момента регистрации пользователи покажут улучшение каждой метрики не менее, чем на 10%:\n",
    "- конверсии в просмотр карточек товаров — событие `product_page`,\n",
    "- просмотры корзины — `product_cart`,\n",
    "- покупки — `purchase`."
   ]
  },
  {
   "cell_type": "markdown",
   "metadata": {},
   "source": [
    "***Не подтверждаем*** - нет возможности провести анализ за период 14 дней для всех пользователей, т.к.:\n",
    "дата остановки набора новых пользователей: 2020-12-21, а фактическая дата остановки теста 2020-12-30."
   ]
  },
  {
   "cell_type": "markdown",
   "metadata": {},
   "source": [
    "### Проверим время проведения теста. \n",
    "Убедимся, что оно не совпадает с маркетинговыми и другими активностями."
   ]
  },
  {
   "cell_type": "code",
   "execution_count": 23,
   "metadata": {},
   "outputs": [],
   "source": [
    "# marketing_events"
   ]
  },
  {
   "cell_type": "code",
   "execution_count": 24,
   "metadata": {
    "scrolled": true
   },
   "outputs": [
    {
     "data": {
      "text/html": [
       "<div>\n",
       "<style scoped>\n",
       "    .dataframe tbody tr th:only-of-type {\n",
       "        vertical-align: middle;\n",
       "    }\n",
       "\n",
       "    .dataframe tbody tr th {\n",
       "        vertical-align: top;\n",
       "    }\n",
       "\n",
       "    .dataframe thead th {\n",
       "        text-align: right;\n",
       "    }\n",
       "</style>\n",
       "<table border=\"1\" class=\"dataframe\">\n",
       "  <thead>\n",
       "    <tr style=\"text-align: right;\">\n",
       "      <th></th>\n",
       "      <th>name</th>\n",
       "      <th>regions</th>\n",
       "      <th>start_dt</th>\n",
       "      <th>finish_dt</th>\n",
       "    </tr>\n",
       "  </thead>\n",
       "  <tbody>\n",
       "    <tr>\n",
       "      <th>10</th>\n",
       "      <td>CIS New Year Gift Lottery</td>\n",
       "      <td>CIS</td>\n",
       "      <td>2020-12-30</td>\n",
       "      <td>2021-01-07</td>\n",
       "    </tr>\n",
       "  </tbody>\n",
       "</table>\n",
       "</div>"
      ],
      "text/plain": [
       "                         name regions   start_dt  finish_dt\n",
       "10  CIS New Year Gift Lottery     CIS 2020-12-30 2021-01-07"
      ]
     },
     "execution_count": 24,
     "metadata": {},
     "output_type": "execute_result"
    }
   ],
   "source": [
    "marketing_events.query('((start_dt < \"2020-12-07\") and (finish_dt > \"2020-12-07\")) or ((start_dt < \"2021-01-04\") and (finish_dt > \"2021-01-04\"))')\n"
   ]
  },
  {
   "cell_type": "markdown",
   "metadata": {},
   "source": [
    "***Обнаружили пересечение*** теста с маркетинговой активностью \"CIS New Year Gift Lottery\""
   ]
  },
  {
   "cell_type": "markdown",
   "metadata": {},
   "source": [
    "### Проверим аудиторию теста. "
   ]
  },
  {
   "cell_type": "markdown",
   "metadata": {},
   "source": [
    "#### Удостоверимся, что нет пересечений с конкурирующим тестом и нет пользователей, участвующих в двух группах теста одновременно."
   ]
  },
  {
   "cell_type": "markdown",
   "metadata": {},
   "source": [
    "Проверим есть ли в нашем тесте участники, принимавшие участие в конкурирующем тесте"
   ]
  },
  {
   "cell_type": "code",
   "execution_count": 25,
   "metadata": {},
   "outputs": [
    {
     "data": {
      "text/plain": [
       "1602"
      ]
     },
     "execution_count": 25,
     "metadata": {},
     "output_type": "execute_result"
    }
   ],
   "source": [
    "ieu_test_users = participants.query('ab_test == \"interface_eu_test\"')['user_id']\n",
    "\n",
    "participants.query('(ab_test == \"recommender_system_test\") and (user_id in @ieu_test_users)')['user_id'].count()"
   ]
  },
  {
   "cell_type": "markdown",
   "metadata": {},
   "source": [
    "***Обнаружили*** что 1602 участника recommender_system_test принимали учасите и в конкурирующем interface_eu_test"
   ]
  },
  {
   "cell_type": "markdown",
   "metadata": {},
   "source": [
    "Проверим что нет пользователей учавствующих в двух группах теста одновременно"
   ]
  },
  {
   "cell_type": "code",
   "execution_count": 26,
   "metadata": {},
   "outputs": [],
   "source": [
    "group_a  = participants.query('(ab_test == \"recommender_system_test\") and (group == \"A\")')['user_id']\n",
    "group_b = participants.query('(ab_test == \"recommender_system_test\") and (group == \"B\")')['user_id']"
   ]
  },
  {
   "cell_type": "code",
   "execution_count": 27,
   "metadata": {},
   "outputs": [
    {
     "data": {
      "text/html": [
       "<div>\n",
       "<style scoped>\n",
       "    .dataframe tbody tr th:only-of-type {\n",
       "        vertical-align: middle;\n",
       "    }\n",
       "\n",
       "    .dataframe tbody tr th {\n",
       "        vertical-align: top;\n",
       "    }\n",
       "\n",
       "    .dataframe thead th {\n",
       "        text-align: right;\n",
       "    }\n",
       "</style>\n",
       "<table border=\"1\" class=\"dataframe\">\n",
       "  <thead>\n",
       "    <tr style=\"text-align: right;\">\n",
       "      <th></th>\n",
       "      <th>user_id</th>\n",
       "      <th>group</th>\n",
       "      <th>ab_test</th>\n",
       "    </tr>\n",
       "  </thead>\n",
       "  <tbody>\n",
       "  </tbody>\n",
       "</table>\n",
       "</div>"
      ],
      "text/plain": [
       "Empty DataFrame\n",
       "Columns: [user_id, group, ab_test]\n",
       "Index: []"
      ]
     },
     "execution_count": 27,
     "metadata": {},
     "output_type": "execute_result"
    }
   ],
   "source": [
    "participants.query('(ab_test == \"recommender_system_test\") and (group == \"A\") and (user_id in @group_b)')"
   ]
  },
  {
   "cell_type": "code",
   "execution_count": 28,
   "metadata": {},
   "outputs": [
    {
     "data": {
      "text/html": [
       "<div>\n",
       "<style scoped>\n",
       "    .dataframe tbody tr th:only-of-type {\n",
       "        vertical-align: middle;\n",
       "    }\n",
       "\n",
       "    .dataframe tbody tr th {\n",
       "        vertical-align: top;\n",
       "    }\n",
       "\n",
       "    .dataframe thead th {\n",
       "        text-align: right;\n",
       "    }\n",
       "</style>\n",
       "<table border=\"1\" class=\"dataframe\">\n",
       "  <thead>\n",
       "    <tr style=\"text-align: right;\">\n",
       "      <th></th>\n",
       "      <th>user_id</th>\n",
       "      <th>group</th>\n",
       "      <th>ab_test</th>\n",
       "    </tr>\n",
       "  </thead>\n",
       "  <tbody>\n",
       "  </tbody>\n",
       "</table>\n",
       "</div>"
      ],
      "text/plain": [
       "Empty DataFrame\n",
       "Columns: [user_id, group, ab_test]\n",
       "Index: []"
      ]
     },
     "execution_count": 28,
     "metadata": {},
     "output_type": "execute_result"
    }
   ],
   "source": [
    "participants.query('(ab_test == \"recommender_system_test\") and (group == \"B\") and (user_id in @group_a)')"
   ]
  },
  {
   "cell_type": "markdown",
   "metadata": {},
   "source": [
    "***Не обнаружили*** пользователей учавствующих в двух группах теста одновременно"
   ]
  },
  {
   "cell_type": "markdown",
   "metadata": {},
   "source": [
    "#### Проверим равномерность распределения по тестовым группам и правильность их формирования."
   ]
  },
  {
   "cell_type": "code",
   "execution_count": 29,
   "metadata": {},
   "outputs": [
    {
     "data": {
      "text/html": [
       "<div>\n",
       "<style scoped>\n",
       "    .dataframe tbody tr th:only-of-type {\n",
       "        vertical-align: middle;\n",
       "    }\n",
       "\n",
       "    .dataframe tbody tr th {\n",
       "        vertical-align: top;\n",
       "    }\n",
       "\n",
       "    .dataframe thead th {\n",
       "        text-align: right;\n",
       "    }\n",
       "</style>\n",
       "<table border=\"1\" class=\"dataframe\">\n",
       "  <thead>\n",
       "    <tr style=\"text-align: right;\">\n",
       "      <th></th>\n",
       "      <th>user_id</th>\n",
       "    </tr>\n",
       "    <tr>\n",
       "      <th>group</th>\n",
       "      <th></th>\n",
       "    </tr>\n",
       "  </thead>\n",
       "  <tbody>\n",
       "    <tr>\n",
       "      <th>A</th>\n",
       "      <td>3824</td>\n",
       "    </tr>\n",
       "    <tr>\n",
       "      <th>B</th>\n",
       "      <td>2877</td>\n",
       "    </tr>\n",
       "  </tbody>\n",
       "</table>\n",
       "</div>"
      ],
      "text/plain": [
       "       user_id\n",
       "group         \n",
       "A         3824\n",
       "B         2877"
      ]
     },
     "execution_count": 29,
     "metadata": {},
     "output_type": "execute_result"
    }
   ],
   "source": [
    "participants.query('ab_test == \"recommender_system_test\"').groupby('group').agg({'user_id': 'nunique'})"
   ]
  },
  {
   "cell_type": "markdown",
   "metadata": {},
   "source": [
    "Обнаружили значительную разницу между группами (>30%)"
   ]
  },
  {
   "cell_type": "markdown",
   "metadata": {},
   "source": [
    "### Очистим данные несоответствующие ТЗ и подготовим данные"
   ]
  },
  {
   "cell_type": "markdown",
   "metadata": {},
   "source": [
    "Выделим датафрейм с участниками нашего теста recommender_system_test"
   ]
  },
  {
   "cell_type": "code",
   "execution_count": 30,
   "metadata": {},
   "outputs": [],
   "source": [
    "rst_participants = participants.query('ab_test == \"recommender_system_test\"')"
   ]
  },
  {
   "cell_type": "markdown",
   "metadata": {},
   "source": [
    "#### Удалим пользователей которые не попали во временые рамки\n",
    "- плановые рамки набора новых пользователей: до 2020-12-21. \n",
    "- тех для кого нет возможности провести анализ за период 14 дней\n",
    "- а также тех чьи 14 дней не совпали с маркетинговой активностью\n",
    "\n",
    "Фактическая дата остановки теста 2020-12-30, но 2020-12-30 начинается марткетинговая активность. Значит можно провести анализ для пользователей чьи 14 дней заканчиваются 2020-12-29, т.е. тех кто пришел 2020-12-15 и раньше."
   ]
  },
  {
   "cell_type": "code",
   "execution_count": 31,
   "metadata": {},
   "outputs": [],
   "source": [
    "ontime_users = new_users.query('first_date <= \"2020-12-15\"')['user_id']"
   ]
  },
  {
   "cell_type": "code",
   "execution_count": 32,
   "metadata": {},
   "outputs": [],
   "source": [
    "rst_participants = rst_participants.query('user_id in @ontime_users')\n",
    "#rst_participants"
   ]
  },
  {
   "cell_type": "markdown",
   "metadata": {},
   "source": [
    "#### Удалим пользователей которые учавствовали в двух тестах"
   ]
  },
  {
   "cell_type": "code",
   "execution_count": 33,
   "metadata": {},
   "outputs": [],
   "source": [
    "rst_participants = rst_participants.query('user_id not in @ieu_test_users')\n",
    "#rst_participants"
   ]
  },
  {
   "cell_type": "markdown",
   "metadata": {},
   "source": [
    "#### Подготовим данные\n",
    "Объеденим данные в один датафрейм и удалим события выходящие за рамки 14-ти дневного периода анализа"
   ]
  },
  {
   "cell_type": "code",
   "execution_count": 34,
   "metadata": {},
   "outputs": [
    {
     "data": {
      "text/html": [
       "<div>\n",
       "<style scoped>\n",
       "    .dataframe tbody tr th:only-of-type {\n",
       "        vertical-align: middle;\n",
       "    }\n",
       "\n",
       "    .dataframe tbody tr th {\n",
       "        vertical-align: top;\n",
       "    }\n",
       "\n",
       "    .dataframe thead th {\n",
       "        text-align: right;\n",
       "    }\n",
       "</style>\n",
       "<table border=\"1\" class=\"dataframe\">\n",
       "  <thead>\n",
       "    <tr style=\"text-align: right;\">\n",
       "      <th></th>\n",
       "      <th>user_id</th>\n",
       "      <th>group</th>\n",
       "      <th>first_date</th>\n",
       "      <th>region</th>\n",
       "      <th>device</th>\n",
       "      <th>event_dt</th>\n",
       "      <th>event_name</th>\n",
       "      <th>details</th>\n",
       "      <th>lifetime</th>\n",
       "    </tr>\n",
       "  </thead>\n",
       "  <tbody>\n",
       "    <tr>\n",
       "      <th>0</th>\n",
       "      <td>D1ABA3E2887B6A73</td>\n",
       "      <td>A</td>\n",
       "      <td>2020-12-07</td>\n",
       "      <td>EU</td>\n",
       "      <td>PC</td>\n",
       "      <td>2020-12-07 14:43:27</td>\n",
       "      <td>purchase</td>\n",
       "      <td>99.99</td>\n",
       "      <td>0 days</td>\n",
       "    </tr>\n",
       "    <tr>\n",
       "      <th>2</th>\n",
       "      <td>D1ABA3E2887B6A73</td>\n",
       "      <td>A</td>\n",
       "      <td>2020-12-07</td>\n",
       "      <td>EU</td>\n",
       "      <td>PC</td>\n",
       "      <td>2020-12-07 14:43:29</td>\n",
       "      <td>product_cart</td>\n",
       "      <td>NaN</td>\n",
       "      <td>0 days</td>\n",
       "    </tr>\n",
       "    <tr>\n",
       "      <th>4</th>\n",
       "      <td>D1ABA3E2887B6A73</td>\n",
       "      <td>A</td>\n",
       "      <td>2020-12-07</td>\n",
       "      <td>EU</td>\n",
       "      <td>PC</td>\n",
       "      <td>2020-12-07 14:43:27</td>\n",
       "      <td>product_page</td>\n",
       "      <td>NaN</td>\n",
       "      <td>0 days</td>\n",
       "    </tr>\n",
       "    <tr>\n",
       "      <th>6</th>\n",
       "      <td>D1ABA3E2887B6A73</td>\n",
       "      <td>A</td>\n",
       "      <td>2020-12-07</td>\n",
       "      <td>EU</td>\n",
       "      <td>PC</td>\n",
       "      <td>2020-12-07 14:43:27</td>\n",
       "      <td>login</td>\n",
       "      <td>NaN</td>\n",
       "      <td>0 days</td>\n",
       "    </tr>\n",
       "    <tr>\n",
       "      <th>9</th>\n",
       "      <td>92CB588012C10D3D</td>\n",
       "      <td>A</td>\n",
       "      <td>2020-12-09</td>\n",
       "      <td>EU</td>\n",
       "      <td>PC</td>\n",
       "      <td>2020-12-09 16:22:45</td>\n",
       "      <td>product_page</td>\n",
       "      <td>NaN</td>\n",
       "      <td>0 days</td>\n",
       "    </tr>\n",
       "    <tr>\n",
       "      <th>...</th>\n",
       "      <td>...</td>\n",
       "      <td>...</td>\n",
       "      <td>...</td>\n",
       "      <td>...</td>\n",
       "      <td>...</td>\n",
       "      <td>...</td>\n",
       "      <td>...</td>\n",
       "      <td>...</td>\n",
       "      <td>...</td>\n",
       "    </tr>\n",
       "    <tr>\n",
       "      <th>10694</th>\n",
       "      <td>6715343AFBA285AE</td>\n",
       "      <td>B</td>\n",
       "      <td>2020-12-07</td>\n",
       "      <td>CIS</td>\n",
       "      <td>Android</td>\n",
       "      <td>2020-12-07 10:12:15</td>\n",
       "      <td>login</td>\n",
       "      <td>NaN</td>\n",
       "      <td>0 days</td>\n",
       "    </tr>\n",
       "    <tr>\n",
       "      <th>10695</th>\n",
       "      <td>6715343AFBA285AE</td>\n",
       "      <td>B</td>\n",
       "      <td>2020-12-07</td>\n",
       "      <td>CIS</td>\n",
       "      <td>Android</td>\n",
       "      <td>2020-12-08 22:51:16</td>\n",
       "      <td>login</td>\n",
       "      <td>NaN</td>\n",
       "      <td>1 days</td>\n",
       "    </tr>\n",
       "    <tr>\n",
       "      <th>10696</th>\n",
       "      <td>6715343AFBA285AE</td>\n",
       "      <td>B</td>\n",
       "      <td>2020-12-07</td>\n",
       "      <td>CIS</td>\n",
       "      <td>Android</td>\n",
       "      <td>2020-12-09 02:28:03</td>\n",
       "      <td>login</td>\n",
       "      <td>NaN</td>\n",
       "      <td>2 days</td>\n",
       "    </tr>\n",
       "    <tr>\n",
       "      <th>10697</th>\n",
       "      <td>6715343AFBA285AE</td>\n",
       "      <td>B</td>\n",
       "      <td>2020-12-07</td>\n",
       "      <td>CIS</td>\n",
       "      <td>Android</td>\n",
       "      <td>2020-12-10 22:55:14</td>\n",
       "      <td>login</td>\n",
       "      <td>NaN</td>\n",
       "      <td>3 days</td>\n",
       "    </tr>\n",
       "    <tr>\n",
       "      <th>10698</th>\n",
       "      <td>6715343AFBA285AE</td>\n",
       "      <td>B</td>\n",
       "      <td>2020-12-07</td>\n",
       "      <td>CIS</td>\n",
       "      <td>Android</td>\n",
       "      <td>2020-12-14 12:40:41</td>\n",
       "      <td>login</td>\n",
       "      <td>NaN</td>\n",
       "      <td>7 days</td>\n",
       "    </tr>\n",
       "  </tbody>\n",
       "</table>\n",
       "<p>8497 rows × 9 columns</p>\n",
       "</div>"
      ],
      "text/plain": [
       "                user_id group first_date region   device            event_dt  \\\n",
       "0      D1ABA3E2887B6A73     A 2020-12-07     EU       PC 2020-12-07 14:43:27   \n",
       "2      D1ABA3E2887B6A73     A 2020-12-07     EU       PC 2020-12-07 14:43:29   \n",
       "4      D1ABA3E2887B6A73     A 2020-12-07     EU       PC 2020-12-07 14:43:27   \n",
       "6      D1ABA3E2887B6A73     A 2020-12-07     EU       PC 2020-12-07 14:43:27   \n",
       "9      92CB588012C10D3D     A 2020-12-09     EU       PC 2020-12-09 16:22:45   \n",
       "...                 ...   ...        ...    ...      ...                 ...   \n",
       "10694  6715343AFBA285AE     B 2020-12-07    CIS  Android 2020-12-07 10:12:15   \n",
       "10695  6715343AFBA285AE     B 2020-12-07    CIS  Android 2020-12-08 22:51:16   \n",
       "10696  6715343AFBA285AE     B 2020-12-07    CIS  Android 2020-12-09 02:28:03   \n",
       "10697  6715343AFBA285AE     B 2020-12-07    CIS  Android 2020-12-10 22:55:14   \n",
       "10698  6715343AFBA285AE     B 2020-12-07    CIS  Android 2020-12-14 12:40:41   \n",
       "\n",
       "         event_name  details lifetime  \n",
       "0          purchase    99.99   0 days  \n",
       "2      product_cart      NaN   0 days  \n",
       "4      product_page      NaN   0 days  \n",
       "6             login      NaN   0 days  \n",
       "9      product_page      NaN   0 days  \n",
       "...             ...      ...      ...  \n",
       "10694         login      NaN   0 days  \n",
       "10695         login      NaN   1 days  \n",
       "10696         login      NaN   2 days  \n",
       "10697         login      NaN   3 days  \n",
       "10698         login      NaN   7 days  \n",
       "\n",
       "[8497 rows x 9 columns]"
      ]
     },
     "execution_count": 34,
     "metadata": {},
     "output_type": "execute_result"
    }
   ],
   "source": [
    "data = (rst_participants.merge(new_users, how = 'left', left_on='user_id', right_on='user_id')\n",
    "        .merge(events, how = 'left', left_on='user_id', right_on='user_id'))\n",
    "# data['event_dt'] = pd.to_datetime(data['event_dt'].dt.date)\n",
    "# data['lifetime'] = data['event_dt'] - data['first_date']\n",
    "data['lifetime'] = pd.to_datetime(data['event_dt'].dt.date) - data['first_date']\n",
    "data = data.drop(columns=['ab_test'])\n",
    "data = data.query('lifetime <= \"14 days\"')\n",
    "data\n",
    "#.info()"
   ]
  },
  {
   "cell_type": "markdown",
   "metadata": {},
   "source": [
    "***Данные готовы к анализу***"
   ]
  },
  {
   "cell_type": "markdown",
   "metadata": {},
   "source": [
    "## Проведем исследовательский анализ данных:"
   ]
  },
  {
   "cell_type": "markdown",
   "metadata": {},
   "source": [
    "### Количество событий на пользователя одинаково распределены в выборках?"
   ]
  },
  {
   "cell_type": "code",
   "execution_count": 35,
   "metadata": {
    "scrolled": true
   },
   "outputs": [
    {
     "data": {
      "text/plain": [
       "<matplotlib.legend.Legend at 0x7f59fb34e5e0>"
      ]
     },
     "execution_count": 35,
     "metadata": {},
     "output_type": "execute_result"
    },
    {
     "data": {
      "image/png": "[encoded data removed]",
      "text/plain": [
       "<Figure size 432x288 with 1 Axes>"
      ]
     },
     "metadata": {
      "needs_background": "light"
     },
     "output_type": "display_data"
    }
   ],
   "source": [
    "plt.hist(data.query('group ==\"A\"').groupby('user_id').agg({'event_name': 'count'}), alpha=0.5, label='A')\n",
    "plt.hist(data.query('group ==\"B\"').groupby('user_id').agg({'event_name': 'count'}), alpha=0.5, label='B')\n",
    "plt.title('Количество событий на пользователя', fontsize=10)\n",
    "plt.xlabel('Количество пользователей', fontsize=10)\n",
    "plt.ylabel('Количество событий', fontsize=10)\n",
    "plt.legend(['group A', 'group B'])"
   ]
  },
  {
   "cell_type": "markdown",
   "metadata": {},
   "source": [
    "### Как число событий в выборках распределено по дням?"
   ]
  },
  {
   "cell_type": "code",
   "execution_count": 36,
   "metadata": {
    "scrolled": false
   },
   "outputs": [
    {
     "data": {
      "text/plain": [
       "<matplotlib.legend.Legend at 0x7f59fcc02ca0>"
      ]
     },
     "execution_count": 36,
     "metadata": {},
     "output_type": "execute_result"
    },
    {
     "data": {
      "image/png": "[encoded data removed]",
      "text/plain": [
       "<Figure size 720x360 with 1 Axes>"
      ]
     },
     "metadata": {
      "needs_background": "light"
     },
     "output_type": "display_data"
    }
   ],
   "source": [
    "plt.figure(figsize=(10, 5))\n",
    "plt.hist(data.query('group == \"A\"')\n",
    "         .groupby('event_dt')\n",
    "         .agg({'event_name': 'count'})\n",
    "         .reset_index()['event_dt'], alpha=0.5, label='A')\n",
    "plt.hist(data.query('group == \"B\"')\n",
    "         .groupby('event_dt')\n",
    "         .agg({'event_name': 'count'})\n",
    "         .reset_index()['event_dt'], alpha=0.5, label='B')\n",
    "plt.title('Распределение событий по времени', fontsize=10)\n",
    "plt.xlabel('Дата', fontsize=10)\n",
    "plt.ylabel('Количество событий', fontsize=10)\n",
    "plt.legend(['group A', 'group B'])"
   ]
  },
  {
   "cell_type": "markdown",
   "metadata": {},
   "source": [
    "### Как меняется конверсия в воронке в выборках на разных этапах?"
   ]
  },
  {
   "cell_type": "code",
   "execution_count": 37,
   "metadata": {},
   "outputs": [
    {
     "data": {
      "text/html": [
       "<div>\n",
       "<style scoped>\n",
       "    .dataframe tbody tr th:only-of-type {\n",
       "        vertical-align: middle;\n",
       "    }\n",
       "\n",
       "    .dataframe tbody tr th {\n",
       "        vertical-align: top;\n",
       "    }\n",
       "\n",
       "    .dataframe thead th {\n",
       "        text-align: right;\n",
       "    }\n",
       "</style>\n",
       "<table border=\"1\" class=\"dataframe\">\n",
       "  <thead>\n",
       "    <tr style=\"text-align: right;\">\n",
       "      <th></th>\n",
       "      <th>event_name</th>\n",
       "      <th>user_id</th>\n",
       "      <th>conv</th>\n",
       "      <th>step_conv</th>\n",
       "    </tr>\n",
       "  </thead>\n",
       "  <tbody>\n",
       "    <tr>\n",
       "      <th>0</th>\n",
       "      <td>login</td>\n",
       "      <td>907</td>\n",
       "      <td>100.0%</td>\n",
       "      <td>nan%</td>\n",
       "    </tr>\n",
       "    <tr>\n",
       "      <th>1</th>\n",
       "      <td>product_page</td>\n",
       "      <td>587</td>\n",
       "      <td>64.7%</td>\n",
       "      <td>64.7%</td>\n",
       "    </tr>\n",
       "    <tr>\n",
       "      <th>2</th>\n",
       "      <td>product_cart</td>\n",
       "      <td>273</td>\n",
       "      <td>30.1%</td>\n",
       "      <td>46.5%</td>\n",
       "    </tr>\n",
       "    <tr>\n",
       "      <th>3</th>\n",
       "      <td>purchase</td>\n",
       "      <td>259</td>\n",
       "      <td>28.6%</td>\n",
       "      <td>94.9%</td>\n",
       "    </tr>\n",
       "  </tbody>\n",
       "</table>\n",
       "</div>"
      ],
      "text/plain": [
       "     event_name  user_id    conv step_conv\n",
       "0         login      907  100.0%      nan%\n",
       "1  product_page      587   64.7%     64.7%\n",
       "2  product_cart      273   30.1%     46.5%\n",
       "3      purchase      259   28.6%     94.9%"
      ]
     },
     "execution_count": 37,
     "metadata": {},
     "output_type": "execute_result"
    }
   ],
   "source": [
    "events_a = (data.query('group == \"A\"')\n",
    "            .groupby('event_name')\n",
    "            .agg({'user_id':'nunique'})\n",
    "            .sort_values(by='user_id', ascending = False)\n",
    "            .reset_index())\n",
    "events_a['conv'] = (events_a['user_id'] / events_a['user_id'].values[0]).apply(lambda x: format(x, '.1%'))\n",
    "events_a['step_conv'] = (events_a['user_id'] / events_a['user_id'].shift()).apply(lambda x: format(x, '.1%')) # конверсия в следущий шаг\n",
    "events_a"
   ]
  },
  {
   "cell_type": "code",
   "execution_count": 38,
   "metadata": {},
   "outputs": [
    {
     "data": {
      "text/html": [
       "<div>\n",
       "<style scoped>\n",
       "    .dataframe tbody tr th:only-of-type {\n",
       "        vertical-align: middle;\n",
       "    }\n",
       "\n",
       "    .dataframe tbody tr th {\n",
       "        vertical-align: top;\n",
       "    }\n",
       "\n",
       "    .dataframe thead th {\n",
       "        text-align: right;\n",
       "    }\n",
       "</style>\n",
       "<table border=\"1\" class=\"dataframe\">\n",
       "  <thead>\n",
       "    <tr style=\"text-align: right;\">\n",
       "      <th></th>\n",
       "      <th>event_name</th>\n",
       "      <th>user_id</th>\n",
       "      <th>conv</th>\n",
       "      <th>step_conv</th>\n",
       "    </tr>\n",
       "  </thead>\n",
       "  <tbody>\n",
       "    <tr>\n",
       "      <th>0</th>\n",
       "      <td>login</td>\n",
       "      <td>406</td>\n",
       "      <td>100.0%</td>\n",
       "      <td>nan%</td>\n",
       "    </tr>\n",
       "    <tr>\n",
       "      <th>1</th>\n",
       "      <td>product_page</td>\n",
       "      <td>221</td>\n",
       "      <td>54.4%</td>\n",
       "      <td>54.4%</td>\n",
       "    </tr>\n",
       "    <tr>\n",
       "      <th>2</th>\n",
       "      <td>purchase</td>\n",
       "      <td>108</td>\n",
       "      <td>26.6%</td>\n",
       "      <td>48.9%</td>\n",
       "    </tr>\n",
       "    <tr>\n",
       "      <th>3</th>\n",
       "      <td>product_cart</td>\n",
       "      <td>103</td>\n",
       "      <td>25.4%</td>\n",
       "      <td>95.4%</td>\n",
       "    </tr>\n",
       "  </tbody>\n",
       "</table>\n",
       "</div>"
      ],
      "text/plain": [
       "     event_name  user_id    conv step_conv\n",
       "0         login      406  100.0%      nan%\n",
       "1  product_page      221   54.4%     54.4%\n",
       "2      purchase      108   26.6%     48.9%\n",
       "3  product_cart      103   25.4%     95.4%"
      ]
     },
     "execution_count": 38,
     "metadata": {},
     "output_type": "execute_result"
    }
   ],
   "source": [
    "events_b = (data.query('group == \"B\"')\n",
    "            .groupby('event_name')\n",
    "            .agg({'user_id':'nunique'})\n",
    "            .sort_values(by='user_id', ascending = False)\n",
    "            .reset_index())\n",
    "events_b['conv'] = (events_b['user_id'] / events_b['user_id'].values[0]).apply(lambda x: format(x, '.1%'))\n",
    "events_b['step_conv'] = (events_b['user_id'] / events_b['user_id'].shift()).apply(lambda x: format(x, '.1%')) # конверсия в следущий шаг\n",
    "events_b"
   ]
  },
  {
   "cell_type": "code",
   "execution_count": 39,
   "metadata": {},
   "outputs": [],
   "source": [
    "# # Визуализируем воронки\n",
    "# fig = go.Figure()\n",
    "\n",
    "# fig.add_trace(go.Funnel(\n",
    "#     name = 'Group A',\n",
    "#     y = [\"Login\", \"Product page\", \"Product card\", \"Purchase\"],\n",
    "#     x = events_a['user_id'],\n",
    "#     textinfo = \"value+percent initial\"))\n",
    "\n",
    "# fig.add_trace(go.Funnel(\n",
    "#     name = 'Group B',\n",
    "#     orientation = \"h\",\n",
    "#     y = [\"Login\", \"Product page\", \"Product card\", \"Purchase\"],\n",
    "#     x = events_b['user_id'],\n",
    "#     textposition = \"inside\",\n",
    "#     textinfo = \"value+percent previous\"))\n",
    "\n",
    "# fig.update_layout(title='Количество пользователей хотя бы раз посетивших страницу',\n",
    "#                   title_x = 0.55,\n",
    "#                   margin=dict(l=0, r=0, t=40, b=0)\n",
    "#                  )\n",
    "# fig.show()"
   ]
  },
  {
   "cell_type": "markdown",
   "metadata": {},
   "source": [
    "Конверсия группы B ниже на всех этапах"
   ]
  },
  {
   "cell_type": "markdown",
   "metadata": {},
   "source": [
    "### Какие особенности данных нужно учесть, прежде чем приступать к A/B-тестированию?"
   ]
  },
  {
   "cell_type": "markdown",
   "metadata": {},
   "source": [
    "Как мы видим в наших данных есть отклонения:\n",
    "- Группы разные по размеру участников\n",
    "- Количество участников ниже запланированных 6000\n",
    "- Аудитория новых пользователей из региона EU ниже 15%\n",
    "- Срок проведения теста короче запланированного"
   ]
  },
  {
   "cell_type": "markdown",
   "metadata": {},
   "source": [
    "## Оценим результаты A/B-тестирования"
   ]
  },
  {
   "cell_type": "markdown",
   "metadata": {},
   "source": [
    "### Что можно сказать про результаты A/В-тестирования?"
   ]
  },
  {
   "cell_type": "markdown",
   "metadata": {},
   "source": [
    "Не удалось достич ожидаемый эффект от улучшенной рекомендательной системы\n",
    "\n",
    "***Ожидание*** - за 14 дней с момента регистрации пользователи покажут улучшение каждой метрики не менее, чем на 10%:\n",
    "- конверсии в просмотр карточек товаров — событие `product_page`,\n",
    "- просмотры корзины — `product_cart`,\n",
    "- покупки — `purchase`.\n",
    "\n",
    "***Реальность:***\n",
    "- пользователи новой системы показали конверсию хуже на каждом из этапов"
   ]
  },
  {
   "cell_type": "markdown",
   "metadata": {},
   "source": [
    "### Проверим статистическую разницу долей z-критерием."
   ]
  },
  {
   "cell_type": "markdown",
   "metadata": {},
   "source": [
    "#### Сформулируем гипотезы:\n",
    "\n",
    "H0: В группах A и B доли пользователей совершивших каждое из действий воронки равны. \n",
    "\n",
    "H1: Контрольные группы отличаются. "
   ]
  },
  {
   "cell_type": "code",
   "execution_count": 40,
   "metadata": {},
   "outputs": [],
   "source": [
    "#обернем проверку в отдельную функцию\n",
    "def check_hypothesis(successes1,successes2, trials1, trials2):\n",
    "    p1 = successes1/trials1\n",
    "    p2 = successes2/trials2\n",
    "    p_combined = (successes1+successes2)/(trials1+trials2)\n",
    "    difference = p1 - p2 \n",
    "    z_value = difference / mth.sqrt(p_combined * (1 - p_combined) * (1/trials1 + 1/trials2))\n",
    "    distr = st.norm(0, 1)\n",
    "    p_value = (1 - distr.cdf(abs(z_value))) * 2\n",
    "    return p_value"
   ]
  },
  {
   "cell_type": "code",
   "execution_count": 41,
   "metadata": {},
   "outputs": [
    {
     "data": {
      "text/html": [
       "<div>\n",
       "<style scoped>\n",
       "    .dataframe tbody tr th:only-of-type {\n",
       "        vertical-align: middle;\n",
       "    }\n",
       "\n",
       "    .dataframe tbody tr th {\n",
       "        vertical-align: top;\n",
       "    }\n",
       "\n",
       "    .dataframe thead th {\n",
       "        text-align: right;\n",
       "    }\n",
       "</style>\n",
       "<table border=\"1\" class=\"dataframe\">\n",
       "  <thead>\n",
       "    <tr style=\"text-align: right;\">\n",
       "      <th></th>\n",
       "      <th>g_a</th>\n",
       "      <th>g_b</th>\n",
       "    </tr>\n",
       "    <tr>\n",
       "      <th>event_name</th>\n",
       "      <th></th>\n",
       "      <th></th>\n",
       "    </tr>\n",
       "  </thead>\n",
       "  <tbody>\n",
       "    <tr>\n",
       "      <th>login</th>\n",
       "      <td>907</td>\n",
       "      <td>406</td>\n",
       "    </tr>\n",
       "    <tr>\n",
       "      <th>product_page</th>\n",
       "      <td>587</td>\n",
       "      <td>221</td>\n",
       "    </tr>\n",
       "    <tr>\n",
       "      <th>product_cart</th>\n",
       "      <td>273</td>\n",
       "      <td>103</td>\n",
       "    </tr>\n",
       "    <tr>\n",
       "      <th>purchase</th>\n",
       "      <td>259</td>\n",
       "      <td>108</td>\n",
       "    </tr>\n",
       "  </tbody>\n",
       "</table>\n",
       "</div>"
      ],
      "text/plain": [
       "              g_a  g_b\n",
       "event_name            \n",
       "login         907  406\n",
       "product_page  587  221\n",
       "product_cart  273  103\n",
       "purchase      259  108"
      ]
     },
     "execution_count": 41,
     "metadata": {},
     "output_type": "execute_result"
    }
   ],
   "source": [
    "funnel = (events_a.merge(events_b, how = 'left', left_on='event_name', right_on='event_name')\n",
    "          .drop(columns=['conv_x', 'step_conv_x', 'conv_y', 'step_conv_y',])\n",
    "          .rename(columns = {'user_id_x' : 'g_a', 'user_id_y' : 'g_b'})\n",
    "          .set_index('event_name')\n",
    "         )\n",
    "funnel"
   ]
  },
  {
   "cell_type": "code",
   "execution_count": 42,
   "metadata": {},
   "outputs": [
    {
     "data": {
      "text/html": [
       "<div>\n",
       "<style scoped>\n",
       "    .dataframe tbody tr th:only-of-type {\n",
       "        vertical-align: middle;\n",
       "    }\n",
       "\n",
       "    .dataframe tbody tr th {\n",
       "        vertical-align: top;\n",
       "    }\n",
       "\n",
       "    .dataframe thead th {\n",
       "        text-align: right;\n",
       "    }\n",
       "</style>\n",
       "<table border=\"1\" class=\"dataframe\">\n",
       "  <thead>\n",
       "    <tr style=\"text-align: right;\">\n",
       "      <th></th>\n",
       "      <th>user_id</th>\n",
       "    </tr>\n",
       "    <tr>\n",
       "      <th>group</th>\n",
       "      <th></th>\n",
       "    </tr>\n",
       "  </thead>\n",
       "  <tbody>\n",
       "    <tr>\n",
       "      <th>A</th>\n",
       "      <td>1728</td>\n",
       "    </tr>\n",
       "    <tr>\n",
       "      <th>B</th>\n",
       "      <td>1313</td>\n",
       "    </tr>\n",
       "  </tbody>\n",
       "</table>\n",
       "</div>"
      ],
      "text/plain": [
       "       user_id\n",
       "group         \n",
       "A         1728\n",
       "B         1313"
      ]
     },
     "execution_count": 42,
     "metadata": {},
     "output_type": "execute_result"
    }
   ],
   "source": [
    "trials = rst_participants.groupby('group').agg({'user_id': 'nunique'})\n",
    "trials"
   ]
  },
  {
   "cell_type": "code",
   "execution_count": 43,
   "metadata": {},
   "outputs": [
    {
     "name": "stdout",
     "output_type": "stream",
     "text": [
      "p-значение для login : 0.0\n",
      "p-значение для product_page : 0.0\n",
      "p-значение для product_cart : 4.107159057298304e-11\n",
      "p-значение для purchase : 1.422081608026815e-08\n"
     ]
    }
   ],
   "source": [
    "for i in funnel.index:\n",
    "    print('p-значение для', i,':' , check_hypothesis(funnel.loc[i, 'g_a'], funnel.loc[i, 'g_b'], \n",
    "                 trials.loc['A'].values[0], trials.loc['B'].values[0]))"
   ]
  },
  {
   "cell_type": "markdown",
   "metadata": {},
   "source": [
    "При alpha = 0.05 можем сделать для всех событий аналогичный вывод:\n",
    "- Отвергаем нулевую гипотезу: между долями есть значимая разница"
   ]
  },
  {
   "cell_type": "markdown",
   "metadata": {},
   "source": [
    "## Выводы:\n",
    "1. Исследовательский анализ и оценка результатов теста показали что\n",
    "- Конверсия группы B ниже на всех этапах воронки\n",
    "- Проверка гипотезы о равенстве долей показала что ухудшение значительное\n",
    "\n",
    "2. Но в тоже время мы обноружили ряд расхождений с ТЗ которые могли повлиять на результат теста:\n",
    "- Группы разные по размеру участников\n",
    "- Количество участников ниже запланированных 6000\n",
    "- Аудитория новых пользователей из региона EU ниже 15%\n",
    "- Срок проведения теста короче запланированного\n",
    "- Пересечение с рекламной активностью"
   ]
  },
  {
   "cell_type": "markdown",
   "metadata": {},
   "source": [
    "На основе проделанного анализа мы не можем утверждать что результаты теста дали корректные результаты.\n",
    "<br>Рекомендуем провести повторный тест с учетом всех требований"
   ]
  }
 ],
 "metadata": {
  "ExecuteTimeLog": [
   {
    "duration": 1208,
    "start_time": "2022-06-02T10:01:00.468Z"
   },
   {
    "duration": 125,
    "start_time": "2022-06-02T10:01:01.677Z"
   },
   {
    "duration": 0,
    "start_time": "2022-06-02T10:01:01.804Z"
   },
   {
    "duration": 0,
    "start_time": "2022-06-02T10:01:01.817Z"
   },
   {
    "duration": 0,
    "start_time": "2022-06-02T10:01:01.818Z"
   },
   {
    "duration": 0,
    "start_time": "2022-06-02T10:01:01.820Z"
   },
   {
    "duration": 0,
    "start_time": "2022-06-02T10:01:01.829Z"
   },
   {
    "duration": 0,
    "start_time": "2022-06-02T10:01:01.830Z"
   },
   {
    "duration": 0,
    "start_time": "2022-06-02T10:01:01.832Z"
   },
   {
    "duration": 0,
    "start_time": "2022-06-02T10:01:01.832Z"
   },
   {
    "duration": 0,
    "start_time": "2022-06-02T10:01:01.834Z"
   },
   {
    "duration": 0,
    "start_time": "2022-06-02T10:01:01.836Z"
   },
   {
    "duration": 0,
    "start_time": "2022-06-02T10:01:01.837Z"
   },
   {
    "duration": 0,
    "start_time": "2022-06-02T10:01:01.838Z"
   },
   {
    "duration": 0,
    "start_time": "2022-06-02T10:01:01.839Z"
   },
   {
    "duration": 0,
    "start_time": "2022-06-02T10:01:01.841Z"
   },
   {
    "duration": 1151,
    "start_time": "2022-06-02T10:02:34.133Z"
   },
   {
    "duration": 1239,
    "start_time": "2022-06-02T10:02:40.562Z"
   },
   {
    "duration": 632,
    "start_time": "2022-06-02T10:02:41.803Z"
   },
   {
    "duration": 100,
    "start_time": "2022-06-02T10:02:42.437Z"
   },
   {
    "duration": 12,
    "start_time": "2022-06-02T10:02:42.540Z"
   },
   {
    "duration": 18,
    "start_time": "2022-06-02T10:02:42.554Z"
   },
   {
    "duration": 21,
    "start_time": "2022-06-02T10:02:42.574Z"
   },
   {
    "duration": 18,
    "start_time": "2022-06-02T10:02:42.597Z"
   },
   {
    "duration": 34,
    "start_time": "2022-06-02T10:02:42.617Z"
   },
   {
    "duration": 132,
    "start_time": "2022-06-02T10:02:42.654Z"
   },
   {
    "duration": 143,
    "start_time": "2022-06-02T10:02:42.789Z"
   },
   {
    "duration": 250,
    "start_time": "2022-06-02T10:02:42.934Z"
   },
   {
    "duration": 54,
    "start_time": "2022-06-02T10:02:43.186Z"
   },
   {
    "duration": 10,
    "start_time": "2022-06-02T10:02:43.242Z"
   },
   {
    "duration": 21,
    "start_time": "2022-06-02T10:02:43.254Z"
   },
   {
    "duration": 30,
    "start_time": "2022-06-02T10:02:43.278Z"
   },
   {
    "duration": 16,
    "start_time": "2022-06-02T10:02:43.310Z"
   },
   {
    "duration": 4,
    "start_time": "2022-06-02T10:06:37.236Z"
   },
   {
    "duration": 3,
    "start_time": "2022-06-02T10:06:43.865Z"
   },
   {
    "duration": 2,
    "start_time": "2022-06-02T10:06:48.851Z"
   },
   {
    "duration": 3,
    "start_time": "2022-06-02T10:09:17.428Z"
   },
   {
    "duration": 15,
    "start_time": "2022-06-02T10:09:46.258Z"
   },
   {
    "duration": 15,
    "start_time": "2022-06-02T10:11:54.658Z"
   },
   {
    "duration": 12,
    "start_time": "2022-06-02T10:15:44.622Z"
   },
   {
    "duration": 17,
    "start_time": "2022-06-02T10:16:27.188Z"
   },
   {
    "duration": 4,
    "start_time": "2022-06-02T10:16:48.470Z"
   },
   {
    "duration": 8,
    "start_time": "2022-06-02T10:16:52.907Z"
   },
   {
    "duration": 16,
    "start_time": "2022-06-02T10:17:29.575Z"
   },
   {
    "duration": 2,
    "start_time": "2022-06-02T10:18:24.054Z"
   },
   {
    "duration": 9,
    "start_time": "2022-06-02T10:21:25.022Z"
   },
   {
    "duration": 16,
    "start_time": "2022-06-02T10:25:04.647Z"
   },
   {
    "duration": 19,
    "start_time": "2022-06-02T10:41:49.069Z"
   },
   {
    "duration": 7,
    "start_time": "2022-06-02T10:42:50.478Z"
   },
   {
    "duration": 8,
    "start_time": "2022-06-02T10:43:04.891Z"
   },
   {
    "duration": 19,
    "start_time": "2022-06-02T10:43:23.312Z"
   },
   {
    "duration": 13,
    "start_time": "2022-06-02T10:46:09.270Z"
   },
   {
    "duration": 12,
    "start_time": "2022-06-02T10:49:03.834Z"
   },
   {
    "duration": 14,
    "start_time": "2022-06-02T10:50:02.218Z"
   },
   {
    "duration": 17,
    "start_time": "2022-06-02T12:02:15.491Z"
   },
   {
    "duration": 14,
    "start_time": "2022-06-02T12:03:38.182Z"
   },
   {
    "duration": 4,
    "start_time": "2022-06-02T12:04:37.464Z"
   },
   {
    "duration": 31,
    "start_time": "2022-06-02T12:05:14.177Z"
   },
   {
    "duration": 31,
    "start_time": "2022-06-02T12:05:19.736Z"
   },
   {
    "duration": 42,
    "start_time": "2022-06-02T12:12:18.018Z"
   },
   {
    "duration": 43,
    "start_time": "2022-06-02T12:13:23.124Z"
   },
   {
    "duration": 2,
    "start_time": "2022-06-02T12:17:00.448Z"
   },
   {
    "duration": 23,
    "start_time": "2022-06-02T12:17:01.673Z"
   },
   {
    "duration": 31,
    "start_time": "2022-06-02T12:17:05.945Z"
   },
   {
    "duration": 15,
    "start_time": "2022-06-02T12:19:01.686Z"
   },
   {
    "duration": 11,
    "start_time": "2022-06-02T12:19:18.722Z"
   },
   {
    "duration": 14,
    "start_time": "2022-06-02T12:20:43.524Z"
   },
   {
    "duration": 7,
    "start_time": "2022-06-02T12:21:06.802Z"
   },
   {
    "duration": 6,
    "start_time": "2022-06-02T12:24:04.869Z"
   },
   {
    "duration": 12,
    "start_time": "2022-06-02T12:27:39.199Z"
   },
   {
    "duration": 214,
    "start_time": "2022-06-02T12:29:00.881Z"
   },
   {
    "duration": 17,
    "start_time": "2022-06-02T12:29:14.085Z"
   },
   {
    "duration": 59,
    "start_time": "2022-06-02T12:29:22.339Z"
   },
   {
    "duration": 21,
    "start_time": "2022-06-02T12:29:41.085Z"
   },
   {
    "duration": 22,
    "start_time": "2022-06-02T12:30:24.182Z"
   },
   {
    "duration": 20,
    "start_time": "2022-06-02T12:42:11.105Z"
   },
   {
    "duration": 18,
    "start_time": "2022-06-02T12:45:02.041Z"
   },
   {
    "duration": 15,
    "start_time": "2022-06-02T12:46:14.593Z"
   },
   {
    "duration": 20,
    "start_time": "2022-06-02T13:18:37.412Z"
   },
   {
    "duration": 11,
    "start_time": "2022-06-02T13:18:41.307Z"
   },
   {
    "duration": 38,
    "start_time": "2022-06-02T13:19:12.699Z"
   },
   {
    "duration": 23,
    "start_time": "2022-06-02T13:20:28.495Z"
   },
   {
    "duration": 10,
    "start_time": "2022-06-02T13:22:55.061Z"
   },
   {
    "duration": 20,
    "start_time": "2022-06-02T13:24:00.719Z"
   },
   {
    "duration": 13,
    "start_time": "2022-06-02T13:24:44.156Z"
   },
   {
    "duration": 17,
    "start_time": "2022-06-02T13:26:09.820Z"
   },
   {
    "duration": 9,
    "start_time": "2022-06-02T13:26:16.181Z"
   },
   {
    "duration": 47,
    "start_time": "2022-06-02T13:28:51.409Z"
   },
   {
    "duration": 11,
    "start_time": "2022-06-02T13:29:19.597Z"
   },
   {
    "duration": 25,
    "start_time": "2022-06-02T13:30:11.482Z"
   },
   {
    "duration": 17,
    "start_time": "2022-06-02T13:30:30.873Z"
   },
   {
    "duration": 14,
    "start_time": "2022-06-02T13:37:44.886Z"
   },
   {
    "duration": 12,
    "start_time": "2022-06-02T13:38:12.042Z"
   },
   {
    "duration": 20,
    "start_time": "2022-06-02T14:06:30.291Z"
   },
   {
    "duration": 4,
    "start_time": "2022-06-02T14:13:57.385Z"
   },
   {
    "duration": 25,
    "start_time": "2022-06-02T14:13:59.050Z"
   },
   {
    "duration": 23,
    "start_time": "2022-06-02T14:15:03.524Z"
   },
   {
    "duration": 19,
    "start_time": "2022-06-02T14:15:28.100Z"
   },
   {
    "duration": 34,
    "start_time": "2022-06-02T14:15:42.818Z"
   },
   {
    "duration": 20,
    "start_time": "2022-06-02T14:15:53.990Z"
   },
   {
    "duration": 14,
    "start_time": "2022-06-02T14:18:48.149Z"
   },
   {
    "duration": 11,
    "start_time": "2022-06-02T14:20:13.970Z"
   },
   {
    "duration": 17,
    "start_time": "2022-06-02T14:21:49.759Z"
   },
   {
    "duration": 12,
    "start_time": "2022-06-02T14:21:51.782Z"
   },
   {
    "duration": 1344,
    "start_time": "2022-06-02T14:26:25.685Z"
   },
   {
    "duration": 668,
    "start_time": "2022-06-02T14:26:27.032Z"
   },
   {
    "duration": 106,
    "start_time": "2022-06-02T14:26:27.702Z"
   },
   {
    "duration": 17,
    "start_time": "2022-06-02T14:26:27.810Z"
   },
   {
    "duration": 11,
    "start_time": "2022-06-02T14:26:27.829Z"
   },
   {
    "duration": 20,
    "start_time": "2022-06-02T14:26:27.842Z"
   },
   {
    "duration": 29,
    "start_time": "2022-06-02T14:26:27.863Z"
   },
   {
    "duration": 16,
    "start_time": "2022-06-02T14:26:27.894Z"
   },
   {
    "duration": 121,
    "start_time": "2022-06-02T14:26:27.911Z"
   },
   {
    "duration": 143,
    "start_time": "2022-06-02T14:26:28.036Z"
   },
   {
    "duration": 259,
    "start_time": "2022-06-02T14:26:28.181Z"
   },
   {
    "duration": 48,
    "start_time": "2022-06-02T14:26:28.443Z"
   },
   {
    "duration": 12,
    "start_time": "2022-06-02T14:26:28.493Z"
   },
   {
    "duration": 4,
    "start_time": "2022-06-02T14:26:28.532Z"
   },
   {
    "duration": 34,
    "start_time": "2022-06-02T14:26:28.539Z"
   },
   {
    "duration": 18,
    "start_time": "2022-06-02T14:26:28.575Z"
   },
   {
    "duration": 6,
    "start_time": "2022-06-02T14:26:28.595Z"
   },
   {
    "duration": 25,
    "start_time": "2022-06-02T14:26:28.603Z"
   },
   {
    "duration": 35,
    "start_time": "2022-06-02T14:26:28.630Z"
   },
   {
    "duration": 14,
    "start_time": "2022-06-02T14:26:28.668Z"
   },
   {
    "duration": 26,
    "start_time": "2022-06-02T14:26:28.684Z"
   },
   {
    "duration": 14,
    "start_time": "2022-06-02T14:26:28.712Z"
   },
   {
    "duration": 29,
    "start_time": "2022-06-02T14:26:28.728Z"
   },
   {
    "duration": 23,
    "start_time": "2022-06-02T14:26:28.759Z"
   },
   {
    "duration": 42,
    "start_time": "2022-06-02T14:26:28.785Z"
   },
   {
    "duration": 15,
    "start_time": "2022-06-02T14:26:28.829Z"
   },
   {
    "duration": 25,
    "start_time": "2022-06-02T14:26:28.854Z"
   },
   {
    "duration": 25,
    "start_time": "2022-06-02T14:26:28.926Z"
   },
   {
    "duration": 375,
    "start_time": "2022-06-02T14:26:28.954Z"
   },
   {
    "duration": 20,
    "start_time": "2022-06-02T14:27:31.890Z"
   },
   {
    "duration": 21,
    "start_time": "2022-06-02T14:35:19.003Z"
   },
   {
    "duration": 68,
    "start_time": "2022-06-02T14:35:24.612Z"
   },
   {
    "duration": 15,
    "start_time": "2022-06-02T14:35:55.043Z"
   },
   {
    "duration": 12,
    "start_time": "2022-06-02T14:39:58.981Z"
   },
   {
    "duration": 8,
    "start_time": "2022-06-02T14:42:21.479Z"
   },
   {
    "duration": 12,
    "start_time": "2022-06-02T14:42:31.892Z"
   },
   {
    "duration": 37,
    "start_time": "2022-06-02T14:43:07.254Z"
   },
   {
    "duration": 13,
    "start_time": "2022-06-02T14:43:17.446Z"
   },
   {
    "duration": 14,
    "start_time": "2022-06-02T14:43:19.398Z"
   },
   {
    "duration": 29,
    "start_time": "2022-06-02T14:43:24.517Z"
   },
   {
    "duration": 12,
    "start_time": "2022-06-02T14:43:47.052Z"
   },
   {
    "duration": 26,
    "start_time": "2022-06-02T14:43:50.291Z"
   },
   {
    "duration": 14,
    "start_time": "2022-06-02T14:46:30.172Z"
   },
   {
    "duration": 9,
    "start_time": "2022-06-02T14:55:58.987Z"
   },
   {
    "duration": 24,
    "start_time": "2022-06-02T14:56:00.849Z"
   },
   {
    "duration": 14,
    "start_time": "2022-06-02T14:56:09.074Z"
   },
   {
    "duration": 18,
    "start_time": "2022-06-02T14:57:59.454Z"
   },
   {
    "duration": 11,
    "start_time": "2022-06-02T15:01:36.578Z"
   },
   {
    "duration": 14,
    "start_time": "2022-06-02T15:01:41.610Z"
   },
   {
    "duration": 11,
    "start_time": "2022-06-02T15:01:51.163Z"
   },
   {
    "duration": 13,
    "start_time": "2022-06-02T15:03:59.548Z"
   },
   {
    "duration": 15,
    "start_time": "2022-06-02T15:28:09.106Z"
   },
   {
    "duration": 9,
    "start_time": "2022-06-02T15:50:55.971Z"
   },
   {
    "duration": 12,
    "start_time": "2022-06-02T15:50:58.175Z"
   },
   {
    "duration": 23,
    "start_time": "2022-06-02T15:51:00.975Z"
   },
   {
    "duration": 8,
    "start_time": "2022-06-02T15:51:08.609Z"
   },
   {
    "duration": 8,
    "start_time": "2022-06-02T15:51:16.958Z"
   },
   {
    "duration": 13,
    "start_time": "2022-06-02T15:51:31.666Z"
   },
   {
    "duration": 10,
    "start_time": "2022-06-02T15:51:45.105Z"
   },
   {
    "duration": 7,
    "start_time": "2022-06-02T15:53:16.666Z"
   },
   {
    "duration": 13,
    "start_time": "2022-06-02T15:53:35.936Z"
   },
   {
    "duration": 14,
    "start_time": "2022-06-02T15:54:50.464Z"
   },
   {
    "duration": 1479,
    "start_time": "2022-06-02T15:55:14.891Z"
   },
   {
    "duration": 1977,
    "start_time": "2022-06-02T15:55:16.373Z"
   },
   {
    "duration": 299,
    "start_time": "2022-06-02T15:55:18.352Z"
   },
   {
    "duration": 14,
    "start_time": "2022-06-02T15:55:18.654Z"
   },
   {
    "duration": 8,
    "start_time": "2022-06-02T15:55:18.727Z"
   },
   {
    "duration": 16,
    "start_time": "2022-06-02T15:55:18.737Z"
   },
   {
    "duration": 17,
    "start_time": "2022-06-02T15:55:18.755Z"
   },
   {
    "duration": 57,
    "start_time": "2022-06-02T15:55:18.774Z"
   },
   {
    "duration": 183,
    "start_time": "2022-06-02T15:55:18.834Z"
   },
   {
    "duration": 198,
    "start_time": "2022-06-02T15:55:19.019Z"
   },
   {
    "duration": 283,
    "start_time": "2022-06-02T15:55:19.226Z"
   },
   {
    "duration": 55,
    "start_time": "2022-06-02T15:55:19.511Z"
   },
   {
    "duration": 18,
    "start_time": "2022-06-02T15:55:19.568Z"
   },
   {
    "duration": 3,
    "start_time": "2022-06-02T15:55:19.589Z"
   },
   {
    "duration": 45,
    "start_time": "2022-06-02T15:55:19.594Z"
   },
   {
    "duration": 22,
    "start_time": "2022-06-02T15:55:19.641Z"
   },
   {
    "duration": 10,
    "start_time": "2022-06-02T15:55:19.665Z"
   },
   {
    "duration": 5,
    "start_time": "2022-06-02T15:55:19.677Z"
   },
   {
    "duration": 13,
    "start_time": "2022-06-02T15:55:19.684Z"
   },
   {
    "duration": 33,
    "start_time": "2022-06-02T15:55:19.699Z"
   },
   {
    "duration": 22,
    "start_time": "2022-06-02T15:55:19.734Z"
   },
   {
    "duration": 9,
    "start_time": "2022-06-02T15:55:19.758Z"
   },
   {
    "duration": 4,
    "start_time": "2022-06-02T15:55:19.769Z"
   },
   {
    "duration": 19,
    "start_time": "2022-06-02T15:55:19.775Z"
   },
   {
    "duration": 45,
    "start_time": "2022-06-02T15:55:19.796Z"
   },
   {
    "duration": 10,
    "start_time": "2022-06-02T15:55:19.843Z"
   },
   {
    "duration": 16,
    "start_time": "2022-06-02T15:55:19.855Z"
   },
   {
    "duration": 15,
    "start_time": "2022-06-02T15:55:19.873Z"
   },
   {
    "duration": 46,
    "start_time": "2022-06-02T15:55:19.890Z"
   },
   {
    "duration": 19,
    "start_time": "2022-06-02T15:55:19.938Z"
   },
   {
    "duration": 6,
    "start_time": "2022-06-02T15:55:19.959Z"
   },
   {
    "duration": 12,
    "start_time": "2022-06-02T15:55:19.967Z"
   },
   {
    "duration": 16,
    "start_time": "2022-06-02T15:55:19.981Z"
   },
   {
    "duration": 34,
    "start_time": "2022-06-02T15:55:19.999Z"
   },
   {
    "duration": 32,
    "start_time": "2022-06-02T15:55:20.035Z"
   },
   {
    "duration": 36,
    "start_time": "2022-06-02T15:55:20.069Z"
   },
   {
    "duration": 21,
    "start_time": "2022-06-02T15:55:20.107Z"
   },
   {
    "duration": 11,
    "start_time": "2022-06-02T15:58:10.500Z"
   },
   {
    "duration": 25,
    "start_time": "2022-06-02T15:58:56.055Z"
   },
   {
    "duration": 26,
    "start_time": "2022-06-02T15:59:24.101Z"
   },
   {
    "duration": 18,
    "start_time": "2022-06-02T16:04:24.083Z"
   },
   {
    "duration": 16,
    "start_time": "2022-06-02T16:10:51.813Z"
   },
   {
    "duration": 29,
    "start_time": "2022-06-02T16:11:23.732Z"
   },
   {
    "duration": 16,
    "start_time": "2022-06-02T16:11:29.621Z"
   },
   {
    "duration": 18,
    "start_time": "2022-06-02T16:33:50.593Z"
   },
   {
    "duration": 44,
    "start_time": "2022-06-02T16:36:06.097Z"
   },
   {
    "duration": 60,
    "start_time": "2022-06-02T16:36:12.336Z"
   },
   {
    "duration": 20,
    "start_time": "2022-06-02T16:38:09.599Z"
   },
   {
    "duration": 260,
    "start_time": "2022-06-02T16:41:27.390Z"
   },
   {
    "duration": 248,
    "start_time": "2022-06-02T16:44:00.517Z"
   },
   {
    "duration": 259,
    "start_time": "2022-06-02T16:44:06.524Z"
   },
   {
    "duration": 404,
    "start_time": "2022-06-02T16:45:07.430Z"
   },
   {
    "duration": 226,
    "start_time": "2022-06-02T16:46:03.951Z"
   },
   {
    "duration": 263,
    "start_time": "2022-06-02T16:46:14.139Z"
   },
   {
    "duration": 233,
    "start_time": "2022-06-02T16:47:48.862Z"
   },
   {
    "duration": 231,
    "start_time": "2022-06-02T16:48:01.986Z"
   },
   {
    "duration": 263,
    "start_time": "2022-06-02T16:51:52.456Z"
   },
   {
    "duration": 273,
    "start_time": "2022-06-02T16:51:59.078Z"
   },
   {
    "duration": 13,
    "start_time": "2022-06-02T17:01:20.553Z"
   },
   {
    "duration": 258,
    "start_time": "2022-06-02T17:05:57.608Z"
   },
   {
    "duration": 314,
    "start_time": "2022-06-02T17:06:03.842Z"
   },
   {
    "duration": 1470,
    "start_time": "2022-06-03T08:15:44.181Z"
   },
   {
    "duration": 1006,
    "start_time": "2022-06-03T08:15:45.654Z"
   },
   {
    "duration": 84,
    "start_time": "2022-06-03T08:15:46.661Z"
   },
   {
    "duration": 9,
    "start_time": "2022-06-03T08:15:46.747Z"
   },
   {
    "duration": 7,
    "start_time": "2022-06-03T08:15:46.758Z"
   },
   {
    "duration": 19,
    "start_time": "2022-06-03T08:15:46.767Z"
   },
   {
    "duration": 15,
    "start_time": "2022-06-03T08:15:46.788Z"
   },
   {
    "duration": 16,
    "start_time": "2022-06-03T08:15:46.805Z"
   },
   {
    "duration": 89,
    "start_time": "2022-06-03T08:15:46.823Z"
   },
   {
    "duration": 129,
    "start_time": "2022-06-03T08:15:46.915Z"
   },
   {
    "duration": 247,
    "start_time": "2022-06-03T08:15:47.052Z"
   },
   {
    "duration": 57,
    "start_time": "2022-06-03T08:15:47.302Z"
   },
   {
    "duration": 11,
    "start_time": "2022-06-03T08:15:47.361Z"
   },
   {
    "duration": 4,
    "start_time": "2022-06-03T08:15:47.374Z"
   },
   {
    "duration": 42,
    "start_time": "2022-06-03T08:15:47.379Z"
   },
   {
    "duration": 31,
    "start_time": "2022-06-03T08:15:47.423Z"
   },
   {
    "duration": 6,
    "start_time": "2022-06-03T08:15:47.455Z"
   },
   {
    "duration": 14,
    "start_time": "2022-06-03T08:15:47.462Z"
   },
   {
    "duration": 11,
    "start_time": "2022-06-03T08:15:47.478Z"
   },
   {
    "duration": 13,
    "start_time": "2022-06-03T08:15:47.490Z"
   },
   {
    "duration": 17,
    "start_time": "2022-06-03T08:15:47.504Z"
   },
   {
    "duration": 33,
    "start_time": "2022-06-03T08:15:47.523Z"
   },
   {
    "duration": 2,
    "start_time": "2022-06-03T08:15:47.558Z"
   },
   {
    "duration": 15,
    "start_time": "2022-06-03T08:15:47.562Z"
   },
   {
    "duration": 16,
    "start_time": "2022-06-03T08:15:47.578Z"
   },
   {
    "duration": 9,
    "start_time": "2022-06-03T08:15:47.596Z"
   },
   {
    "duration": 22,
    "start_time": "2022-06-03T08:15:47.607Z"
   },
   {
    "duration": 12,
    "start_time": "2022-06-03T08:15:47.654Z"
   },
   {
    "duration": 19,
    "start_time": "2022-06-03T08:15:47.668Z"
   },
   {
    "duration": 6,
    "start_time": "2022-06-03T08:15:47.689Z"
   },
   {
    "duration": 7,
    "start_time": "2022-06-03T08:15:47.697Z"
   },
   {
    "duration": 8,
    "start_time": "2022-06-03T08:15:47.706Z"
   },
   {
    "duration": 7,
    "start_time": "2022-06-03T08:15:47.716Z"
   },
   {
    "duration": 207,
    "start_time": "2022-06-03T08:15:47.753Z"
   },
   {
    "duration": 10,
    "start_time": "2022-06-03T08:45:16.594Z"
   },
   {
    "duration": 9,
    "start_time": "2022-06-03T08:47:54.332Z"
   },
   {
    "duration": 116,
    "start_time": "2022-06-03T12:22:04.708Z"
   },
   {
    "duration": 936,
    "start_time": "2022-06-03T12:22:18.209Z"
   },
   {
    "duration": 261,
    "start_time": "2022-06-03T12:22:32.555Z"
   },
   {
    "duration": 508,
    "start_time": "2022-06-03T12:25:16.693Z"
   },
   {
    "duration": 563,
    "start_time": "2022-06-03T12:26:28.991Z"
   },
   {
    "duration": 189,
    "start_time": "2022-06-03T12:26:45.426Z"
   },
   {
    "duration": 173,
    "start_time": "2022-06-03T12:27:06.208Z"
   },
   {
    "duration": 442,
    "start_time": "2022-06-03T12:27:27.079Z"
   },
   {
    "duration": 197,
    "start_time": "2022-06-03T12:27:31.201Z"
   },
   {
    "duration": 14,
    "start_time": "2022-06-03T12:28:25.268Z"
   },
   {
    "duration": 22,
    "start_time": "2022-06-03T12:28:40.128Z"
   },
   {
    "duration": 4,
    "start_time": "2022-06-03T12:29:14.717Z"
   },
   {
    "duration": 15,
    "start_time": "2022-06-03T12:29:26.074Z"
   },
   {
    "duration": 12,
    "start_time": "2022-06-03T12:30:16.350Z"
   },
   {
    "duration": 58,
    "start_time": "2022-06-03T12:38:17.719Z"
   },
   {
    "duration": 193,
    "start_time": "2022-06-03T12:38:25.395Z"
   },
   {
    "duration": 14,
    "start_time": "2022-06-03T12:39:00.089Z"
   },
   {
    "duration": 508,
    "start_time": "2022-06-03T12:40:51.452Z"
   },
   {
    "duration": 360,
    "start_time": "2022-06-03T12:40:57.187Z"
   },
   {
    "duration": 176,
    "start_time": "2022-06-03T12:41:10.364Z"
   },
   {
    "duration": 261,
    "start_time": "2022-06-03T12:41:47.920Z"
   },
   {
    "duration": 10,
    "start_time": "2022-06-03T12:42:08.264Z"
   },
   {
    "duration": 9436,
    "start_time": "2022-06-03T12:42:12.796Z"
   },
   {
    "duration": 261,
    "start_time": "2022-06-03T12:42:40.630Z"
   },
   {
    "duration": 15,
    "start_time": "2022-06-03T12:43:07.137Z"
   },
   {
    "duration": 142,
    "start_time": "2022-06-03T12:43:25.852Z"
   },
   {
    "duration": 10,
    "start_time": "2022-06-03T13:29:29.307Z"
   },
   {
    "duration": 76,
    "start_time": "2022-06-03T13:30:38.555Z"
   },
   {
    "duration": 13,
    "start_time": "2022-06-03T13:30:43.343Z"
   },
   {
    "duration": 1277,
    "start_time": "2022-06-03T13:34:41.986Z"
   },
   {
    "duration": 581,
    "start_time": "2022-06-03T13:34:43.265Z"
   },
   {
    "duration": 90,
    "start_time": "2022-06-03T13:34:43.848Z"
   },
   {
    "duration": 12,
    "start_time": "2022-06-03T13:34:43.953Z"
   },
   {
    "duration": 13,
    "start_time": "2022-06-03T13:34:43.967Z"
   },
   {
    "duration": 12,
    "start_time": "2022-06-03T13:34:43.982Z"
   },
   {
    "duration": 15,
    "start_time": "2022-06-03T13:34:43.997Z"
   },
   {
    "duration": 11,
    "start_time": "2022-06-03T13:34:44.014Z"
   },
   {
    "duration": 146,
    "start_time": "2022-06-03T13:34:44.028Z"
   },
   {
    "duration": 138,
    "start_time": "2022-06-03T13:34:44.177Z"
   },
   {
    "duration": 217,
    "start_time": "2022-06-03T13:34:44.317Z"
   },
   {
    "duration": 44,
    "start_time": "2022-06-03T13:34:44.535Z"
   },
   {
    "duration": 10,
    "start_time": "2022-06-03T13:34:44.581Z"
   },
   {
    "duration": 3,
    "start_time": "2022-06-03T13:34:44.593Z"
   },
   {
    "duration": 44,
    "start_time": "2022-06-03T13:34:44.597Z"
   },
   {
    "duration": 25,
    "start_time": "2022-06-03T13:34:44.643Z"
   },
   {
    "duration": 11,
    "start_time": "2022-06-03T13:34:44.670Z"
   },
   {
    "duration": 8,
    "start_time": "2022-06-03T13:34:44.682Z"
   },
   {
    "duration": 16,
    "start_time": "2022-06-03T13:34:44.692Z"
   },
   {
    "duration": 29,
    "start_time": "2022-06-03T13:34:44.709Z"
   },
   {
    "duration": 19,
    "start_time": "2022-06-03T13:34:44.740Z"
   },
   {
    "duration": 9,
    "start_time": "2022-06-03T13:34:44.761Z"
   },
   {
    "duration": 5,
    "start_time": "2022-06-03T13:34:44.771Z"
   },
   {
    "duration": 18,
    "start_time": "2022-06-03T13:34:44.777Z"
   },
   {
    "duration": 14,
    "start_time": "2022-06-03T13:34:44.797Z"
   },
   {
    "duration": 9,
    "start_time": "2022-06-03T13:34:44.812Z"
   },
   {
    "duration": 14,
    "start_time": "2022-06-03T13:34:44.823Z"
   },
   {
    "duration": 10,
    "start_time": "2022-06-03T13:34:44.855Z"
   },
   {
    "duration": 19,
    "start_time": "2022-06-03T13:34:44.867Z"
   },
   {
    "duration": 6,
    "start_time": "2022-06-03T13:34:44.888Z"
   },
   {
    "duration": 8,
    "start_time": "2022-06-03T13:34:44.895Z"
   },
   {
    "duration": 10,
    "start_time": "2022-06-03T13:34:44.905Z"
   },
   {
    "duration": 8,
    "start_time": "2022-06-03T13:34:44.917Z"
   },
   {
    "duration": 267,
    "start_time": "2022-06-03T13:34:44.951Z"
   },
   {
    "duration": 0,
    "start_time": "2022-06-03T13:34:45.220Z"
   },
   {
    "duration": 0,
    "start_time": "2022-06-03T13:34:45.221Z"
   },
   {
    "duration": 0,
    "start_time": "2022-06-03T13:34:45.224Z"
   },
   {
    "duration": 0,
    "start_time": "2022-06-03T13:34:45.225Z"
   },
   {
    "duration": 0,
    "start_time": "2022-06-03T13:34:45.227Z"
   },
   {
    "duration": 8,
    "start_time": "2022-06-03T13:35:13.040Z"
   },
   {
    "duration": 165,
    "start_time": "2022-06-03T13:35:41.437Z"
   },
   {
    "duration": 1353,
    "start_time": "2022-06-03T13:35:51.999Z"
   },
   {
    "duration": 604,
    "start_time": "2022-06-03T13:35:53.355Z"
   },
   {
    "duration": 104,
    "start_time": "2022-06-03T13:35:53.961Z"
   },
   {
    "duration": 13,
    "start_time": "2022-06-03T13:35:54.067Z"
   },
   {
    "duration": 8,
    "start_time": "2022-06-03T13:35:54.083Z"
   },
   {
    "duration": 23,
    "start_time": "2022-06-03T13:35:54.093Z"
   },
   {
    "duration": 35,
    "start_time": "2022-06-03T13:35:54.119Z"
   },
   {
    "duration": 24,
    "start_time": "2022-06-03T13:35:54.156Z"
   },
   {
    "duration": 107,
    "start_time": "2022-06-03T13:35:54.182Z"
   },
   {
    "duration": 126,
    "start_time": "2022-06-03T13:35:54.292Z"
   },
   {
    "duration": 264,
    "start_time": "2022-06-03T13:35:54.420Z"
   },
   {
    "duration": 41,
    "start_time": "2022-06-03T13:35:54.686Z"
   },
   {
    "duration": 29,
    "start_time": "2022-06-03T13:35:54.728Z"
   },
   {
    "duration": 28,
    "start_time": "2022-06-03T13:35:54.759Z"
   },
   {
    "duration": 46,
    "start_time": "2022-06-03T13:35:54.789Z"
   },
   {
    "duration": 29,
    "start_time": "2022-06-03T13:35:54.837Z"
   },
   {
    "duration": 20,
    "start_time": "2022-06-03T13:35:54.868Z"
   },
   {
    "duration": 5,
    "start_time": "2022-06-03T13:35:54.890Z"
   },
   {
    "duration": 25,
    "start_time": "2022-06-03T13:35:54.897Z"
   },
   {
    "duration": 38,
    "start_time": "2022-06-03T13:35:54.924Z"
   },
   {
    "duration": 26,
    "start_time": "2022-06-03T13:35:54.964Z"
   },
   {
    "duration": 27,
    "start_time": "2022-06-03T13:35:54.992Z"
   },
   {
    "duration": 27,
    "start_time": "2022-06-03T13:35:55.021Z"
   },
   {
    "duration": 34,
    "start_time": "2022-06-03T13:35:55.049Z"
   },
   {
    "duration": 47,
    "start_time": "2022-06-03T13:35:55.085Z"
   },
   {
    "duration": 17,
    "start_time": "2022-06-03T13:35:55.134Z"
   },
   {
    "duration": 48,
    "start_time": "2022-06-03T13:35:55.153Z"
   },
   {
    "duration": 25,
    "start_time": "2022-06-03T13:35:55.207Z"
   },
   {
    "duration": 20,
    "start_time": "2022-06-03T13:35:55.235Z"
   },
   {
    "duration": 39,
    "start_time": "2022-06-03T13:35:55.257Z"
   },
   {
    "duration": 21,
    "start_time": "2022-06-03T13:35:55.298Z"
   },
   {
    "duration": 31,
    "start_time": "2022-06-03T13:35:55.322Z"
   },
   {
    "duration": 22,
    "start_time": "2022-06-03T13:35:55.356Z"
   },
   {
    "duration": 224,
    "start_time": "2022-06-03T13:35:55.380Z"
   },
   {
    "duration": 4,
    "start_time": "2022-06-03T13:35:55.606Z"
   },
   {
    "duration": 0,
    "start_time": "2022-06-03T13:35:55.612Z"
   },
   {
    "duration": 0,
    "start_time": "2022-06-03T13:35:55.613Z"
   },
   {
    "duration": 0,
    "start_time": "2022-06-03T13:35:55.614Z"
   },
   {
    "duration": 0,
    "start_time": "2022-06-03T13:35:55.615Z"
   },
   {
    "duration": 266,
    "start_time": "2022-06-03T13:36:35.757Z"
   },
   {
    "duration": 12,
    "start_time": "2022-06-03T13:36:41.551Z"
   },
   {
    "duration": 291,
    "start_time": "2022-06-03T13:37:01.212Z"
   },
   {
    "duration": 464,
    "start_time": "2022-06-03T13:37:35.365Z"
   },
   {
    "duration": 308,
    "start_time": "2022-06-03T13:38:11.264Z"
   },
   {
    "duration": 292,
    "start_time": "2022-06-03T13:39:41.912Z"
   },
   {
    "duration": 506,
    "start_time": "2022-06-03T13:39:50.721Z"
   },
   {
    "duration": 448,
    "start_time": "2022-06-03T13:39:56.177Z"
   },
   {
    "duration": 167,
    "start_time": "2022-06-03T13:45:14.791Z"
   },
   {
    "duration": 408,
    "start_time": "2022-06-03T13:45:21.710Z"
   },
   {
    "duration": 183,
    "start_time": "2022-06-03T13:45:29.929Z"
   },
   {
    "duration": 208,
    "start_time": "2022-06-03T13:46:03.358Z"
   },
   {
    "duration": 175,
    "start_time": "2022-06-03T13:46:19.229Z"
   },
   {
    "duration": 348,
    "start_time": "2022-06-03T13:46:43.661Z"
   },
   {
    "duration": 248,
    "start_time": "2022-06-03T13:47:00.827Z"
   },
   {
    "duration": 290,
    "start_time": "2022-06-03T13:47:14.734Z"
   },
   {
    "duration": 426,
    "start_time": "2022-06-03T13:47:24.441Z"
   },
   {
    "duration": 56,
    "start_time": "2022-06-03T13:47:46.130Z"
   },
   {
    "duration": 169,
    "start_time": "2022-06-03T13:47:52.569Z"
   },
   {
    "duration": 181,
    "start_time": "2022-06-03T13:48:19.240Z"
   },
   {
    "duration": 446,
    "start_time": "2022-06-03T13:48:21.958Z"
   },
   {
    "duration": 3,
    "start_time": "2022-06-03T13:52:01.490Z"
   },
   {
    "duration": 11,
    "start_time": "2022-06-03T13:58:12.446Z"
   },
   {
    "duration": 291,
    "start_time": "2022-06-03T13:58:21.375Z"
   },
   {
    "duration": 213,
    "start_time": "2022-06-03T13:58:44.394Z"
   },
   {
    "duration": 144,
    "start_time": "2022-06-03T13:58:52.723Z"
   },
   {
    "duration": 243,
    "start_time": "2022-06-03T13:59:01.027Z"
   },
   {
    "duration": 139,
    "start_time": "2022-06-03T13:59:09.399Z"
   },
   {
    "duration": 289,
    "start_time": "2022-06-03T13:59:42.779Z"
   },
   {
    "duration": 300,
    "start_time": "2022-06-03T13:59:57.643Z"
   },
   {
    "duration": 304,
    "start_time": "2022-06-03T14:05:36.974Z"
   },
   {
    "duration": 322,
    "start_time": "2022-06-03T14:06:08.894Z"
   },
   {
    "duration": 1043,
    "start_time": "2022-06-03T14:07:39.319Z"
   },
   {
    "duration": 366,
    "start_time": "2022-06-03T14:07:47.839Z"
   },
   {
    "duration": 367,
    "start_time": "2022-06-03T14:09:10.820Z"
   },
   {
    "duration": 349,
    "start_time": "2022-06-03T14:09:43.982Z"
   },
   {
    "duration": 341,
    "start_time": "2022-06-03T14:10:02.650Z"
   },
   {
    "duration": 257,
    "start_time": "2022-06-03T14:13:33.542Z"
   },
   {
    "duration": 137,
    "start_time": "2022-06-03T14:13:53.169Z"
   },
   {
    "duration": 142,
    "start_time": "2022-06-03T14:14:44.110Z"
   },
   {
    "duration": 11,
    "start_time": "2022-06-03T14:36:36.197Z"
   },
   {
    "duration": 134,
    "start_time": "2022-06-03T14:41:06.641Z"
   },
   {
    "duration": 197,
    "start_time": "2022-06-03T14:41:35.197Z"
   },
   {
    "duration": 204,
    "start_time": "2022-06-03T14:45:05.373Z"
   },
   {
    "duration": 418,
    "start_time": "2022-06-03T14:47:51.680Z"
   },
   {
    "duration": 685,
    "start_time": "2022-06-03T14:47:57.076Z"
   },
   {
    "duration": 14,
    "start_time": "2022-06-03T14:49:21.599Z"
   },
   {
    "duration": 54,
    "start_time": "2022-06-03T15:01:38.067Z"
   },
   {
    "duration": 17,
    "start_time": "2022-06-03T15:01:41.633Z"
   },
   {
    "duration": 17,
    "start_time": "2022-06-03T15:01:44.983Z"
   },
   {
    "duration": 16,
    "start_time": "2022-06-03T15:02:01.225Z"
   },
   {
    "duration": 421,
    "start_time": "2022-06-03T15:02:06.768Z"
   },
   {
    "duration": 13,
    "start_time": "2022-06-03T15:05:07.973Z"
   },
   {
    "duration": 17,
    "start_time": "2022-06-03T15:05:39.679Z"
   },
   {
    "duration": 14,
    "start_time": "2022-06-03T15:05:43.311Z"
   },
   {
    "duration": 420,
    "start_time": "2022-06-03T15:06:31.955Z"
   },
   {
    "duration": 1135,
    "start_time": "2022-06-03T15:09:03.323Z"
   },
   {
    "duration": 529,
    "start_time": "2022-06-03T15:09:31.917Z"
   },
   {
    "duration": 504,
    "start_time": "2022-06-03T15:09:39.564Z"
   },
   {
    "duration": 492,
    "start_time": "2022-06-03T15:09:49.963Z"
   },
   {
    "duration": 174,
    "start_time": "2022-06-03T15:12:53.441Z"
   },
   {
    "duration": 173,
    "start_time": "2022-06-03T15:13:39.339Z"
   },
   {
    "duration": 195,
    "start_time": "2022-06-03T15:13:57.827Z"
   },
   {
    "duration": 174,
    "start_time": "2022-06-03T15:15:43.956Z"
   },
   {
    "duration": 189,
    "start_time": "2022-06-03T15:15:58.655Z"
   },
   {
    "duration": 1123,
    "start_time": "2022-06-03T15:17:02.062Z"
   },
   {
    "duration": 178,
    "start_time": "2022-06-03T15:17:34.497Z"
   },
   {
    "duration": 265,
    "start_time": "2022-06-03T15:19:25.277Z"
   },
   {
    "duration": 26,
    "start_time": "2022-06-03T15:27:35.206Z"
   },
   {
    "duration": 9,
    "start_time": "2022-06-03T15:28:03.487Z"
   },
   {
    "duration": 13,
    "start_time": "2022-06-03T15:32:46.564Z"
   },
   {
    "duration": 19,
    "start_time": "2022-06-03T15:32:51.203Z"
   },
   {
    "duration": 19,
    "start_time": "2022-06-03T15:42:31.469Z"
   },
   {
    "duration": 14,
    "start_time": "2022-06-03T15:42:49.289Z"
   },
   {
    "duration": 12,
    "start_time": "2022-06-03T15:43:13.465Z"
   },
   {
    "duration": 20,
    "start_time": "2022-06-03T15:59:00.290Z"
   },
   {
    "duration": 22,
    "start_time": "2022-06-03T15:59:18.129Z"
   },
   {
    "duration": 1158,
    "start_time": "2022-06-03T16:02:26.700Z"
   },
   {
    "duration": 556,
    "start_time": "2022-06-03T16:02:27.860Z"
   },
   {
    "duration": 84,
    "start_time": "2022-06-03T16:02:28.418Z"
   },
   {
    "duration": 10,
    "start_time": "2022-06-03T16:02:28.504Z"
   },
   {
    "duration": 6,
    "start_time": "2022-06-03T16:02:28.516Z"
   },
   {
    "duration": 29,
    "start_time": "2022-06-03T16:02:28.524Z"
   },
   {
    "duration": 7,
    "start_time": "2022-06-03T16:02:28.554Z"
   },
   {
    "duration": 4,
    "start_time": "2022-06-03T16:02:28.562Z"
   },
   {
    "duration": 97,
    "start_time": "2022-06-03T16:02:28.567Z"
   },
   {
    "duration": 120,
    "start_time": "2022-06-03T16:02:28.667Z"
   },
   {
    "duration": 209,
    "start_time": "2022-06-03T16:02:28.788Z"
   },
   {
    "duration": 38,
    "start_time": "2022-06-03T16:02:28.999Z"
   },
   {
    "duration": 10,
    "start_time": "2022-06-03T16:02:29.051Z"
   },
   {
    "duration": 8,
    "start_time": "2022-06-03T16:02:29.063Z"
   },
   {
    "duration": 28,
    "start_time": "2022-06-03T16:02:29.072Z"
   },
   {
    "duration": 18,
    "start_time": "2022-06-03T16:02:29.102Z"
   },
   {
    "duration": 5,
    "start_time": "2022-06-03T16:02:29.122Z"
   },
   {
    "duration": 7,
    "start_time": "2022-06-03T16:02:29.129Z"
   },
   {
    "duration": 9,
    "start_time": "2022-06-03T16:02:29.152Z"
   },
   {
    "duration": 11,
    "start_time": "2022-06-03T16:02:29.162Z"
   },
   {
    "duration": 20,
    "start_time": "2022-06-03T16:02:29.174Z"
   },
   {
    "duration": 10,
    "start_time": "2022-06-03T16:02:29.196Z"
   },
   {
    "duration": 10,
    "start_time": "2022-06-03T16:02:29.208Z"
   },
   {
    "duration": 18,
    "start_time": "2022-06-03T16:02:29.220Z"
   },
   {
    "duration": 22,
    "start_time": "2022-06-03T16:02:29.240Z"
   },
   {
    "duration": 9,
    "start_time": "2022-06-03T16:02:29.263Z"
   },
   {
    "duration": 11,
    "start_time": "2022-06-03T16:02:29.274Z"
   },
   {
    "duration": 9,
    "start_time": "2022-06-03T16:02:29.288Z"
   },
   {
    "duration": 17,
    "start_time": "2022-06-03T16:02:29.299Z"
   },
   {
    "duration": 8,
    "start_time": "2022-06-03T16:02:29.317Z"
   },
   {
    "duration": 26,
    "start_time": "2022-06-03T16:02:29.326Z"
   },
   {
    "duration": 9,
    "start_time": "2022-06-03T16:02:29.354Z"
   },
   {
    "duration": 9,
    "start_time": "2022-06-03T16:02:29.364Z"
   },
   {
    "duration": 174,
    "start_time": "2022-06-03T16:02:29.374Z"
   },
   {
    "duration": 276,
    "start_time": "2022-06-03T16:02:29.552Z"
   },
   {
    "duration": 24,
    "start_time": "2022-06-03T16:02:29.829Z"
   },
   {
    "duration": 326,
    "start_time": "2022-06-03T16:02:29.855Z"
   },
   {
    "duration": 21,
    "start_time": "2022-06-03T16:02:30.182Z"
   },
   {
    "duration": 125,
    "start_time": "2022-06-03T16:02:30.204Z"
   },
   {
    "duration": 12,
    "start_time": "2022-06-03T16:02:53.568Z"
   },
   {
    "duration": 11,
    "start_time": "2022-06-03T16:02:57.356Z"
   },
   {
    "duration": 13,
    "start_time": "2022-06-03T16:03:33.565Z"
   },
   {
    "duration": 3,
    "start_time": "2022-06-03T16:10:28.076Z"
   },
   {
    "duration": 2,
    "start_time": "2022-06-03T16:10:29.269Z"
   },
   {
    "duration": 16,
    "start_time": "2022-06-03T16:15:47.181Z"
   },
   {
    "duration": 15,
    "start_time": "2022-06-03T16:18:00.126Z"
   },
   {
    "duration": 5,
    "start_time": "2022-06-03T16:19:21.442Z"
   },
   {
    "duration": 5,
    "start_time": "2022-06-03T16:19:36.532Z"
   },
   {
    "duration": 12,
    "start_time": "2022-06-03T16:19:41.588Z"
   },
   {
    "duration": 117,
    "start_time": "2022-06-03T16:24:22.958Z"
   },
   {
    "duration": 11,
    "start_time": "2022-06-03T16:24:33.824Z"
   },
   {
    "duration": 13,
    "start_time": "2022-06-03T16:24:45.028Z"
   },
   {
    "duration": 12,
    "start_time": "2022-06-03T16:24:58.477Z"
   },
   {
    "duration": 13,
    "start_time": "2022-06-03T16:25:28.207Z"
   },
   {
    "duration": 12,
    "start_time": "2022-06-03T16:25:33.044Z"
   },
   {
    "duration": 9,
    "start_time": "2022-06-03T16:25:47.466Z"
   },
   {
    "duration": 13,
    "start_time": "2022-06-03T16:26:13.399Z"
   },
   {
    "duration": 9,
    "start_time": "2022-06-03T16:26:16.295Z"
   },
   {
    "duration": 9,
    "start_time": "2022-06-03T16:26:54.720Z"
   },
   {
    "duration": 13,
    "start_time": "2022-06-03T16:27:26.112Z"
   },
   {
    "duration": 9,
    "start_time": "2022-06-03T16:27:31.094Z"
   },
   {
    "duration": 15,
    "start_time": "2022-06-03T16:28:41.895Z"
   },
   {
    "duration": 12,
    "start_time": "2022-06-03T16:29:31.714Z"
   },
   {
    "duration": 11,
    "start_time": "2022-06-03T16:29:36.821Z"
   },
   {
    "duration": 12,
    "start_time": "2022-06-03T16:29:43.501Z"
   },
   {
    "duration": 12,
    "start_time": "2022-06-03T16:29:44.814Z"
   },
   {
    "duration": 15,
    "start_time": "2022-06-03T16:29:45.639Z"
   },
   {
    "duration": 12,
    "start_time": "2022-06-03T16:29:46.258Z"
   },
   {
    "duration": 18,
    "start_time": "2022-06-03T16:30:45.091Z"
   },
   {
    "duration": 2,
    "start_time": "2022-06-03T16:31:08.823Z"
   },
   {
    "duration": 12,
    "start_time": "2022-06-03T16:31:41.205Z"
   },
   {
    "duration": 19,
    "start_time": "2022-06-03T16:32:02.075Z"
   },
   {
    "duration": 11,
    "start_time": "2022-06-03T16:32:09.083Z"
   },
   {
    "duration": 12,
    "start_time": "2022-06-03T16:32:20.920Z"
   },
   {
    "duration": 19,
    "start_time": "2022-06-03T16:34:45.119Z"
   },
   {
    "duration": 13,
    "start_time": "2022-06-03T16:34:48.613Z"
   },
   {
    "duration": 19,
    "start_time": "2022-06-03T16:40:10.578Z"
   },
   {
    "duration": 26,
    "start_time": "2022-06-03T16:40:15.589Z"
   },
   {
    "duration": 35,
    "start_time": "2022-06-03T16:40:53.163Z"
   },
   {
    "duration": 34,
    "start_time": "2022-06-03T16:41:01.001Z"
   },
   {
    "duration": 23,
    "start_time": "2022-06-03T16:41:13.754Z"
   },
   {
    "duration": 26,
    "start_time": "2022-06-03T16:41:25.574Z"
   },
   {
    "duration": 30,
    "start_time": "2022-06-03T16:41:45.547Z"
   },
   {
    "duration": 19,
    "start_time": "2022-06-03T16:41:59.617Z"
   },
   {
    "duration": 25,
    "start_time": "2022-06-03T16:42:05.374Z"
   },
   {
    "duration": 23,
    "start_time": "2022-06-03T16:42:16.519Z"
   },
   {
    "duration": 27,
    "start_time": "2022-06-03T16:42:33.478Z"
   },
   {
    "duration": 40,
    "start_time": "2022-06-03T16:42:59.376Z"
   },
   {
    "duration": 1532,
    "start_time": "2022-06-03T16:46:06.757Z"
   },
   {
    "duration": 1030,
    "start_time": "2022-06-03T16:46:08.291Z"
   },
   {
    "duration": 82,
    "start_time": "2022-06-03T16:46:09.322Z"
   },
   {
    "duration": 9,
    "start_time": "2022-06-03T16:46:09.406Z"
   },
   {
    "duration": 6,
    "start_time": "2022-06-03T16:46:09.416Z"
   },
   {
    "duration": 11,
    "start_time": "2022-06-03T16:46:09.423Z"
   },
   {
    "duration": 7,
    "start_time": "2022-06-03T16:46:09.452Z"
   },
   {
    "duration": 5,
    "start_time": "2022-06-03T16:46:09.460Z"
   },
   {
    "duration": 92,
    "start_time": "2022-06-03T16:46:09.466Z"
   },
   {
    "duration": 118,
    "start_time": "2022-06-03T16:46:09.561Z"
   },
   {
    "duration": 221,
    "start_time": "2022-06-03T16:46:09.681Z"
   },
   {
    "duration": 48,
    "start_time": "2022-06-03T16:46:09.904Z"
   },
   {
    "duration": 11,
    "start_time": "2022-06-03T16:46:09.954Z"
   },
   {
    "duration": 6,
    "start_time": "2022-06-03T16:46:09.966Z"
   },
   {
    "duration": 36,
    "start_time": "2022-06-03T16:46:09.973Z"
   },
   {
    "duration": 19,
    "start_time": "2022-06-03T16:46:10.011Z"
   },
   {
    "duration": 21,
    "start_time": "2022-06-03T16:46:10.032Z"
   },
   {
    "duration": 4,
    "start_time": "2022-06-03T16:46:10.054Z"
   },
   {
    "duration": 8,
    "start_time": "2022-06-03T16:46:10.060Z"
   },
   {
    "duration": 8,
    "start_time": "2022-06-03T16:46:10.069Z"
   },
   {
    "duration": 15,
    "start_time": "2022-06-03T16:46:10.079Z"
   },
   {
    "duration": 7,
    "start_time": "2022-06-03T16:46:10.095Z"
   },
   {
    "duration": 3,
    "start_time": "2022-06-03T16:46:10.103Z"
   },
   {
    "duration": 46,
    "start_time": "2022-06-03T16:46:10.107Z"
   },
   {
    "duration": 15,
    "start_time": "2022-06-03T16:46:10.155Z"
   },
   {
    "duration": 12,
    "start_time": "2022-06-03T16:46:10.172Z"
   },
   {
    "duration": 11,
    "start_time": "2022-06-03T16:46:10.186Z"
   },
   {
    "duration": 10,
    "start_time": "2022-06-03T16:46:10.201Z"
   },
   {
    "duration": 42,
    "start_time": "2022-06-03T16:46:10.213Z"
   },
   {
    "duration": 5,
    "start_time": "2022-06-03T16:46:10.257Z"
   },
   {
    "duration": 9,
    "start_time": "2022-06-03T16:46:10.264Z"
   },
   {
    "duration": 7,
    "start_time": "2022-06-03T16:46:10.274Z"
   },
   {
    "duration": 9,
    "start_time": "2022-06-03T16:46:10.283Z"
   },
   {
    "duration": 179,
    "start_time": "2022-06-03T16:46:10.294Z"
   },
   {
    "duration": 278,
    "start_time": "2022-06-03T16:46:10.474Z"
   },
   {
    "duration": 14,
    "start_time": "2022-06-03T16:46:10.753Z"
   },
   {
    "duration": 330,
    "start_time": "2022-06-03T16:46:10.768Z"
   },
   {
    "duration": 18,
    "start_time": "2022-06-03T16:46:11.100Z"
   },
   {
    "duration": 133,
    "start_time": "2022-06-03T16:46:11.120Z"
   },
   {
    "duration": 15,
    "start_time": "2022-06-03T16:46:11.255Z"
   },
   {
    "duration": 19,
    "start_time": "2022-06-03T16:46:11.271Z"
   },
   {
    "duration": 2,
    "start_time": "2022-06-03T16:46:11.292Z"
   },
   {
    "duration": 58,
    "start_time": "2022-06-03T16:46:11.295Z"
   },
   {
    "duration": 11,
    "start_time": "2022-06-03T17:16:02.703Z"
   },
   {
    "duration": 18,
    "start_time": "2022-06-03T17:17:12.810Z"
   },
   {
    "duration": 11,
    "start_time": "2022-06-03T17:20:34.781Z"
   },
   {
    "duration": 11,
    "start_time": "2022-06-03T17:21:19.970Z"
   },
   {
    "duration": 804,
    "start_time": "2022-06-03T17:21:44.902Z"
   },
   {
    "duration": 332,
    "start_time": "2022-06-03T17:22:21.496Z"
   },
   {
    "duration": 11,
    "start_time": "2022-06-03T17:22:26.078Z"
   },
   {
    "duration": 13,
    "start_time": "2022-06-03T17:28:24.788Z"
   },
   {
    "duration": 465,
    "start_time": "2022-06-03T17:30:15.063Z"
   },
   {
    "duration": 13,
    "start_time": "2022-06-03T17:30:19.224Z"
   },
   {
    "duration": 18,
    "start_time": "2022-06-03T17:30:39.820Z"
   },
   {
    "duration": 18,
    "start_time": "2022-06-03T17:30:51.236Z"
   },
   {
    "duration": 3,
    "start_time": "2022-06-03T17:31:56.906Z"
   },
   {
    "duration": 16,
    "start_time": "2022-06-03T19:06:39.430Z"
   },
   {
    "duration": 16,
    "start_time": "2022-06-03T19:06:52.776Z"
   },
   {
    "duration": 4,
    "start_time": "2022-06-03T19:44:04.279Z"
   },
   {
    "duration": 8,
    "start_time": "2022-06-03T19:47:45.014Z"
   },
   {
    "duration": 7,
    "start_time": "2022-06-03T19:47:57.086Z"
   },
   {
    "duration": 14,
    "start_time": "2022-06-03T19:48:00.946Z"
   },
   {
    "duration": 8,
    "start_time": "2022-06-03T19:49:40.176Z"
   },
   {
    "duration": 12,
    "start_time": "2022-06-03T19:50:04.412Z"
   },
   {
    "duration": 8,
    "start_time": "2022-06-03T19:51:45.749Z"
   },
   {
    "duration": 8,
    "start_time": "2022-06-03T19:51:52.182Z"
   },
   {
    "duration": 11,
    "start_time": "2022-06-03T19:51:56.133Z"
   },
   {
    "duration": 14,
    "start_time": "2022-06-03T19:52:11.346Z"
   },
   {
    "duration": 15,
    "start_time": "2022-06-03T19:52:20.160Z"
   },
   {
    "duration": 10,
    "start_time": "2022-06-03T19:54:30.046Z"
   },
   {
    "duration": 11,
    "start_time": "2022-06-03T19:56:58.222Z"
   },
   {
    "duration": 10,
    "start_time": "2022-06-03T19:57:05.733Z"
   },
   {
    "duration": 7,
    "start_time": "2022-06-03T19:57:10.002Z"
   },
   {
    "duration": 15,
    "start_time": "2022-06-03T19:57:18.149Z"
   },
   {
    "duration": 12,
    "start_time": "2022-06-03T19:58:37.811Z"
   },
   {
    "duration": 10,
    "start_time": "2022-06-03T19:58:46.741Z"
   },
   {
    "duration": 4,
    "start_time": "2022-06-03T19:59:14.658Z"
   },
   {
    "duration": 12,
    "start_time": "2022-06-03T20:00:35.719Z"
   },
   {
    "duration": 7,
    "start_time": "2022-06-03T20:00:49.747Z"
   },
   {
    "duration": 13,
    "start_time": "2022-06-03T20:01:01.152Z"
   },
   {
    "duration": 5,
    "start_time": "2022-06-03T20:01:06.354Z"
   },
   {
    "duration": 15,
    "start_time": "2022-06-03T20:01:08.596Z"
   },
   {
    "duration": 5,
    "start_time": "2022-06-03T20:01:39.783Z"
   },
   {
    "duration": 3,
    "start_time": "2022-06-03T20:02:20.967Z"
   },
   {
    "duration": 5,
    "start_time": "2022-06-03T20:02:35.403Z"
   },
   {
    "duration": 4,
    "start_time": "2022-06-03T20:03:50.484Z"
   },
   {
    "duration": 16,
    "start_time": "2022-06-03T20:03:58.319Z"
   },
   {
    "duration": 15,
    "start_time": "2022-06-03T20:05:23.873Z"
   },
   {
    "duration": 10,
    "start_time": "2022-06-03T20:05:31.343Z"
   },
   {
    "duration": 14,
    "start_time": "2022-06-03T20:05:35.017Z"
   },
   {
    "duration": 270,
    "start_time": "2022-06-03T20:06:44.755Z"
   },
   {
    "duration": 9,
    "start_time": "2022-06-03T20:06:50.496Z"
   },
   {
    "duration": 4,
    "start_time": "2022-06-03T20:06:58.414Z"
   },
   {
    "duration": 14,
    "start_time": "2022-06-03T20:07:04.022Z"
   },
   {
    "duration": 7,
    "start_time": "2022-06-03T20:07:14.560Z"
   },
   {
    "duration": 13,
    "start_time": "2022-06-03T20:07:16.948Z"
   },
   {
    "duration": 16,
    "start_time": "2022-06-03T20:07:21.025Z"
   },
   {
    "duration": 4,
    "start_time": "2022-06-03T20:08:10.780Z"
   },
   {
    "duration": 19,
    "start_time": "2022-06-03T20:08:20.133Z"
   },
   {
    "duration": 1158,
    "start_time": "2022-06-03T20:08:27.305Z"
   },
   {
    "duration": 551,
    "start_time": "2022-06-03T20:08:28.465Z"
   },
   {
    "duration": 100,
    "start_time": "2022-06-03T20:08:29.019Z"
   },
   {
    "duration": 9,
    "start_time": "2022-06-03T20:08:29.121Z"
   },
   {
    "duration": 5,
    "start_time": "2022-06-03T20:08:29.133Z"
   },
   {
    "duration": 21,
    "start_time": "2022-06-03T20:08:29.139Z"
   },
   {
    "duration": 11,
    "start_time": "2022-06-03T20:08:29.161Z"
   },
   {
    "duration": 9,
    "start_time": "2022-06-03T20:08:29.174Z"
   },
   {
    "duration": 90,
    "start_time": "2022-06-03T20:08:29.184Z"
   },
   {
    "duration": 125,
    "start_time": "2022-06-03T20:08:29.276Z"
   },
   {
    "duration": 245,
    "start_time": "2022-06-03T20:08:29.403Z"
   },
   {
    "duration": 39,
    "start_time": "2022-06-03T20:08:29.652Z"
   },
   {
    "duration": 10,
    "start_time": "2022-06-03T20:08:29.692Z"
   },
   {
    "duration": 2,
    "start_time": "2022-06-03T20:08:29.705Z"
   },
   {
    "duration": 52,
    "start_time": "2022-06-03T20:08:29.708Z"
   },
   {
    "duration": 27,
    "start_time": "2022-06-03T20:08:29.762Z"
   },
   {
    "duration": 13,
    "start_time": "2022-06-03T20:08:29.791Z"
   },
   {
    "duration": 5,
    "start_time": "2022-06-03T20:08:29.805Z"
   },
   {
    "duration": 43,
    "start_time": "2022-06-03T20:08:29.812Z"
   },
   {
    "duration": 21,
    "start_time": "2022-06-03T20:08:29.857Z"
   },
   {
    "duration": 17,
    "start_time": "2022-06-03T20:08:29.879Z"
   },
   {
    "duration": 9,
    "start_time": "2022-06-03T20:08:29.898Z"
   },
   {
    "duration": 7,
    "start_time": "2022-06-03T20:08:29.908Z"
   },
   {
    "duration": 23,
    "start_time": "2022-06-03T20:08:29.917Z"
   },
   {
    "duration": 21,
    "start_time": "2022-06-03T20:08:29.942Z"
   },
   {
    "duration": 11,
    "start_time": "2022-06-03T20:08:29.964Z"
   },
   {
    "duration": 11,
    "start_time": "2022-06-03T20:08:29.979Z"
   },
   {
    "duration": 12,
    "start_time": "2022-06-03T20:08:29.992Z"
   },
   {
    "duration": 26,
    "start_time": "2022-06-03T20:08:30.006Z"
   },
   {
    "duration": 22,
    "start_time": "2022-06-03T20:08:30.033Z"
   },
   {
    "duration": 7,
    "start_time": "2022-06-03T20:08:30.057Z"
   },
   {
    "duration": 16,
    "start_time": "2022-06-03T20:08:30.066Z"
   },
   {
    "duration": 20,
    "start_time": "2022-06-03T20:08:30.084Z"
   },
   {
    "duration": 204,
    "start_time": "2022-06-03T20:08:30.106Z"
   },
   {
    "duration": 279,
    "start_time": "2022-06-03T20:08:30.312Z"
   },
   {
    "duration": 327,
    "start_time": "2022-06-03T20:08:30.592Z"
   },
   {
    "duration": 18,
    "start_time": "2022-06-03T20:08:30.921Z"
   },
   {
    "duration": 43,
    "start_time": "2022-06-03T20:08:30.941Z"
   },
   {
    "duration": 31,
    "start_time": "2022-06-03T20:08:30.985Z"
   },
   {
    "duration": 23,
    "start_time": "2022-06-03T20:08:31.017Z"
   },
   {
    "duration": 25,
    "start_time": "2022-06-03T20:08:31.044Z"
   },
   {
    "duration": 26,
    "start_time": "2022-06-03T20:08:31.070Z"
   },
   {
    "duration": 20,
    "start_time": "2022-06-03T20:08:31.098Z"
   },
   {
    "duration": 21,
    "start_time": "2022-06-03T20:08:31.119Z"
   },
   {
    "duration": 153,
    "start_time": "2022-06-03T20:08:31.141Z"
   },
   {
    "duration": 0,
    "start_time": "2022-06-03T20:08:31.295Z"
   },
   {
    "duration": 0,
    "start_time": "2022-06-03T20:08:31.297Z"
   },
   {
    "duration": 30,
    "start_time": "2022-06-03T20:08:57.010Z"
   },
   {
    "duration": 11,
    "start_time": "2022-06-03T20:09:00.418Z"
   },
   {
    "duration": 116,
    "start_time": "2022-06-03T20:20:34.680Z"
   },
   {
    "duration": 5,
    "start_time": "2022-06-03T20:20:47.106Z"
   },
   {
    "duration": 5,
    "start_time": "2022-06-03T20:22:06.137Z"
   },
   {
    "duration": 4,
    "start_time": "2022-06-03T20:22:16.939Z"
   },
   {
    "duration": 7,
    "start_time": "2022-06-03T20:22:24.870Z"
   },
   {
    "duration": 4,
    "start_time": "2022-06-03T20:22:32.380Z"
   },
   {
    "duration": 5,
    "start_time": "2022-06-03T20:22:41.828Z"
   },
   {
    "duration": 4,
    "start_time": "2022-06-03T20:22:54.707Z"
   },
   {
    "duration": 11,
    "start_time": "2022-06-03T20:38:20.891Z"
   },
   {
    "duration": 14,
    "start_time": "2022-06-03T20:38:46.908Z"
   },
   {
    "duration": 12,
    "start_time": "2022-06-03T20:39:18.935Z"
   },
   {
    "duration": 7,
    "start_time": "2022-06-03T20:39:56.070Z"
   },
   {
    "duration": 7,
    "start_time": "2022-06-03T20:40:09.159Z"
   },
   {
    "duration": 45,
    "start_time": "2022-06-03T21:26:54.768Z"
   },
   {
    "duration": 151,
    "start_time": "2022-06-03T21:27:12.751Z"
   },
   {
    "duration": 2,
    "start_time": "2022-06-03T21:28:00.906Z"
   },
   {
    "duration": 1178,
    "start_time": "2022-06-03T21:28:07.375Z"
   },
   {
    "duration": 573,
    "start_time": "2022-06-03T21:28:08.554Z"
   },
   {
    "duration": 83,
    "start_time": "2022-06-03T21:28:09.129Z"
   },
   {
    "duration": 10,
    "start_time": "2022-06-03T21:28:09.215Z"
   },
   {
    "duration": 11,
    "start_time": "2022-06-03T21:28:09.226Z"
   },
   {
    "duration": 15,
    "start_time": "2022-06-03T21:28:09.238Z"
   },
   {
    "duration": 9,
    "start_time": "2022-06-03T21:28:09.254Z"
   },
   {
    "duration": 8,
    "start_time": "2022-06-03T21:28:09.265Z"
   },
   {
    "duration": 84,
    "start_time": "2022-06-03T21:28:09.275Z"
   },
   {
    "duration": 116,
    "start_time": "2022-06-03T21:28:09.361Z"
   },
   {
    "duration": 200,
    "start_time": "2022-06-03T21:28:09.478Z"
   },
   {
    "duration": 38,
    "start_time": "2022-06-03T21:28:09.680Z"
   },
   {
    "duration": 9,
    "start_time": "2022-06-03T21:28:09.719Z"
   },
   {
    "duration": 23,
    "start_time": "2022-06-03T21:28:09.730Z"
   },
   {
    "duration": 35,
    "start_time": "2022-06-03T21:28:09.755Z"
   },
   {
    "duration": 21,
    "start_time": "2022-06-03T21:28:09.791Z"
   },
   {
    "duration": 10,
    "start_time": "2022-06-03T21:28:09.813Z"
   },
   {
    "duration": 8,
    "start_time": "2022-06-03T21:28:09.824Z"
   },
   {
    "duration": 10,
    "start_time": "2022-06-03T21:28:09.833Z"
   },
   {
    "duration": 9,
    "start_time": "2022-06-03T21:28:09.853Z"
   },
   {
    "duration": 24,
    "start_time": "2022-06-03T21:28:09.864Z"
   },
   {
    "duration": 13,
    "start_time": "2022-06-03T21:28:09.889Z"
   },
   {
    "duration": 6,
    "start_time": "2022-06-03T21:28:09.903Z"
   },
   {
    "duration": 17,
    "start_time": "2022-06-03T21:28:09.910Z"
   },
   {
    "duration": 31,
    "start_time": "2022-06-03T21:28:09.928Z"
   },
   {
    "duration": 17,
    "start_time": "2022-06-03T21:28:09.961Z"
   },
   {
    "duration": 15,
    "start_time": "2022-06-03T21:28:09.979Z"
   },
   {
    "duration": 12,
    "start_time": "2022-06-03T21:28:09.997Z"
   },
   {
    "duration": 12,
    "start_time": "2022-06-03T21:28:10.011Z"
   },
   {
    "duration": 8,
    "start_time": "2022-06-03T21:28:10.025Z"
   },
   {
    "duration": 21,
    "start_time": "2022-06-03T21:28:10.034Z"
   },
   {
    "duration": 15,
    "start_time": "2022-06-03T21:28:10.057Z"
   },
   {
    "duration": 21,
    "start_time": "2022-06-03T21:28:10.073Z"
   },
   {
    "duration": 187,
    "start_time": "2022-06-03T21:28:10.095Z"
   },
   {
    "duration": 270,
    "start_time": "2022-06-03T21:28:10.284Z"
   },
   {
    "duration": 337,
    "start_time": "2022-06-03T21:28:10.556Z"
   },
   {
    "duration": 18,
    "start_time": "2022-06-03T21:28:10.895Z"
   },
   {
    "duration": 16,
    "start_time": "2022-06-03T21:28:10.915Z"
   },
   {
    "duration": 19,
    "start_time": "2022-06-03T21:28:10.933Z"
   },
   {
    "duration": 5,
    "start_time": "2022-06-03T21:28:10.954Z"
   },
   {
    "duration": 24,
    "start_time": "2022-06-03T21:28:10.960Z"
   },
   {
    "duration": 10,
    "start_time": "2022-06-03T21:28:10.985Z"
   },
   {
    "duration": 13,
    "start_time": "2022-06-03T21:28:10.996Z"
   },
   {
    "duration": 1552,
    "start_time": "2022-06-04T16:57:28.215Z"
   },
   {
    "duration": 2309,
    "start_time": "2022-06-04T16:57:29.769Z"
   },
   {
    "duration": 130,
    "start_time": "2022-06-04T16:57:32.080Z"
   },
   {
    "duration": 13,
    "start_time": "2022-06-04T16:57:32.212Z"
   },
   {
    "duration": 9,
    "start_time": "2022-06-04T16:57:32.227Z"
   },
   {
    "duration": 13,
    "start_time": "2022-06-04T16:57:32.237Z"
   },
   {
    "duration": 16,
    "start_time": "2022-06-04T16:57:32.252Z"
   },
   {
    "duration": 13,
    "start_time": "2022-06-04T16:57:32.270Z"
   },
   {
    "duration": 137,
    "start_time": "2022-06-04T16:57:32.285Z"
   },
   {
    "duration": 136,
    "start_time": "2022-06-04T16:57:32.423Z"
   },
   {
    "duration": 254,
    "start_time": "2022-06-04T16:57:32.561Z"
   },
   {
    "duration": 49,
    "start_time": "2022-06-04T16:57:32.819Z"
   },
   {
    "duration": 30,
    "start_time": "2022-06-04T16:57:32.870Z"
   },
   {
    "duration": 7,
    "start_time": "2022-06-04T16:57:32.904Z"
   },
   {
    "duration": 25,
    "start_time": "2022-06-04T16:57:32.916Z"
   },
   {
    "duration": 19,
    "start_time": "2022-06-04T16:57:32.943Z"
   },
   {
    "duration": 8,
    "start_time": "2022-06-04T16:57:32.964Z"
   },
   {
    "duration": 18,
    "start_time": "2022-06-04T16:57:32.973Z"
   },
   {
    "duration": 6,
    "start_time": "2022-06-04T16:57:32.998Z"
   },
   {
    "duration": 15,
    "start_time": "2022-06-04T16:57:33.015Z"
   },
   {
    "duration": 16,
    "start_time": "2022-06-04T16:57:33.031Z"
   },
   {
    "duration": 8,
    "start_time": "2022-06-04T16:57:33.048Z"
   },
   {
    "duration": 5,
    "start_time": "2022-06-04T16:57:33.057Z"
   },
   {
    "duration": 15,
    "start_time": "2022-06-04T16:57:33.063Z"
   },
   {
    "duration": 37,
    "start_time": "2022-06-04T16:57:33.090Z"
   },
   {
    "duration": 10,
    "start_time": "2022-06-04T16:57:33.128Z"
   },
   {
    "duration": 11,
    "start_time": "2022-06-04T16:57:33.140Z"
   },
   {
    "duration": 13,
    "start_time": "2022-06-04T16:57:33.153Z"
   },
   {
    "duration": 40,
    "start_time": "2022-06-04T16:57:33.168Z"
   },
   {
    "duration": 9,
    "start_time": "2022-06-04T16:57:33.211Z"
   },
   {
    "duration": 9,
    "start_time": "2022-06-04T16:57:33.222Z"
   },
   {
    "duration": 7,
    "start_time": "2022-06-04T16:57:33.233Z"
   },
   {
    "duration": 10,
    "start_time": "2022-06-04T16:57:33.242Z"
   },
   {
    "duration": 191,
    "start_time": "2022-06-04T16:57:33.254Z"
   },
   {
    "duration": 355,
    "start_time": "2022-06-04T16:57:33.446Z"
   },
   {
    "duration": 416,
    "start_time": "2022-06-04T16:57:33.806Z"
   },
   {
    "duration": 20,
    "start_time": "2022-06-04T16:57:34.224Z"
   },
   {
    "duration": 19,
    "start_time": "2022-06-04T16:57:34.246Z"
   },
   {
    "duration": 32,
    "start_time": "2022-06-04T16:57:34.267Z"
   },
   {
    "duration": 18,
    "start_time": "2022-06-04T16:57:34.307Z"
   },
   {
    "duration": 15,
    "start_time": "2022-06-04T16:57:34.329Z"
   },
   {
    "duration": 10,
    "start_time": "2022-06-04T16:57:34.345Z"
   },
   {
    "duration": 13,
    "start_time": "2022-06-04T16:57:34.357Z"
   }
  ],
  "kernelspec": {
   "display_name": "Python 3",
   "language": "python",
   "name": "python3"
  },
  "language_info": {
   "codemirror_mode": {
    "name": "ipython",
    "version": 3
   },
   "file_extension": ".py",
   "mimetype": "text/x-python",
   "name": "python",
   "nbconvert_exporter": "python",
   "pygments_lexer": "ipython3",
   "version": "3.8.8"
  },
  "toc": {
   "base_numbering": 1,
   "nav_menu": {},
   "number_sections": true,
   "sideBar": true,
   "skip_h1_title": true,
   "title_cell": "Table of Contents",
   "title_sidebar": "Contents",
   "toc_cell": true,
   "toc_position": {},
   "toc_section_display": true,
   "toc_window_display": true
  }
 },
 "nbformat": 4,
 "nbformat_minor": 2
}
