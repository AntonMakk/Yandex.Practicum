{
 "cells": [
  {
   "cell_type": "markdown",
   "metadata": {},
   "source": [
    "# Исследование надёжности заёмщиков\n",
    "\n",
    "Заказчик — кредитный отдел банка. Нужно разобраться, влияет ли семейное положение и количество детей клиента на факт погашения кредита в срок. Входные данные от банка — статистика о платёжеспособности клиентов переданы в виде csv-файла.\n",
    "Данные представлены в виде таблищы столбцы которое содержат следующую информацию:\n",
    "- `children` — количество детей в семье\n",
    "- `days_employed` — общий трудовой стаж в днях\n",
    "- `dob_years` — возраст клиента в годах\n",
    "- `education` — уровень образования клиента\n",
    "- `education_id` — идентификатор уровня образования\n",
    "- `family_status` — семейное положение\n",
    "- `family_status_id` — идентификатор семейного положения\n",
    "- `gender` — пол клиента\n",
    "- `income_type` — тип занятости\n",
    "- `debt` — имел ли задолженность по возврату кредитов\n",
    "- `total_income` — ежемесячный доход\n",
    "- `purpose` — цель получения кредита\n",
    "\n",
    "Результаты исследования будут учтены при построении модели **кредитного скоринга** — специальной системы, которая оценивает способность потенциального заёмщика вернуть кредит банку.\n",
    "Нам предстоит ответить на следующие вопросы:\n",
    "- Есть ли зависимость между наличием детей и возвратом кредита в срок?\n",
    "- Есть ли зависимость между семейным положением и возвратом кредита в срок?\n",
    "- Есть ли зависимость между уровнем дохода и возвратом кредита в срок?\n",
    "- Как разные цели кредита влияют на его возврат в срок?\n"
   ]
  },
  {
   "cell_type": "markdown",
   "metadata": {},
   "source": [
    "План исследования:\n",
    "1. [Шаг 1.Откроем файл с данными и изучим общую информацию](#start)\n",
    "2. [Шаг 2. Предобработка данных](#preprocessing)\n",
    "* [Обработка пропусков](#null)\n",
    "* [Замена типа данных](#replacing_type)\n",
    "* [Обработка дубликатов](#duplicates)\n",
    "* [Лемматизация](#lemmatization)\n",
    "* [Категоризация данных](#categorization)\n",
    "3. [Шаг 3. Ответим на вопросы](#questions)\n",
    "4. [Шаг 4. Общий вывод](#conclusion)\n"
   ]
  },
  {
   "cell_type": "markdown",
   "metadata": {},
   "source": [
    "<a id=\"start\"></a>\n",
    "##  Шаг 1. Откроем файл с данными и изучим общую информацию"
   ]
  },
  {
   "cell_type": "code",
   "execution_count": 1,
   "metadata": {},
   "outputs": [
    {
     "data": {
      "text/html": [
       "<div>\n",
       "<style scoped>\n",
       "    .dataframe tbody tr th:only-of-type {\n",
       "        vertical-align: middle;\n",
       "    }\n",
       "\n",
       "    .dataframe tbody tr th {\n",
       "        vertical-align: top;\n",
       "    }\n",
       "\n",
       "    .dataframe thead th {\n",
       "        text-align: right;\n",
       "    }\n",
       "</style>\n",
       "<table border=\"1\" class=\"dataframe\">\n",
       "  <thead>\n",
       "    <tr style=\"text-align: right;\">\n",
       "      <th></th>\n",
       "      <th>children</th>\n",
       "      <th>days_employed</th>\n",
       "      <th>dob_years</th>\n",
       "      <th>education</th>\n",
       "      <th>education_id</th>\n",
       "      <th>family_status</th>\n",
       "      <th>family_status_id</th>\n",
       "      <th>gender</th>\n",
       "      <th>income_type</th>\n",
       "      <th>debt</th>\n",
       "      <th>total_income</th>\n",
       "      <th>purpose</th>\n",
       "    </tr>\n",
       "  </thead>\n",
       "  <tbody>\n",
       "    <tr>\n",
       "      <th>0</th>\n",
       "      <td>1</td>\n",
       "      <td>-8437.673028</td>\n",
       "      <td>42</td>\n",
       "      <td>высшее</td>\n",
       "      <td>0</td>\n",
       "      <td>женат / замужем</td>\n",
       "      <td>0</td>\n",
       "      <td>F</td>\n",
       "      <td>сотрудник</td>\n",
       "      <td>0</td>\n",
       "      <td>253875.639453</td>\n",
       "      <td>покупка жилья</td>\n",
       "    </tr>\n",
       "    <tr>\n",
       "      <th>1</th>\n",
       "      <td>1</td>\n",
       "      <td>-4024.803754</td>\n",
       "      <td>36</td>\n",
       "      <td>среднее</td>\n",
       "      <td>1</td>\n",
       "      <td>женат / замужем</td>\n",
       "      <td>0</td>\n",
       "      <td>F</td>\n",
       "      <td>сотрудник</td>\n",
       "      <td>0</td>\n",
       "      <td>112080.014102</td>\n",
       "      <td>приобретение автомобиля</td>\n",
       "    </tr>\n",
       "    <tr>\n",
       "      <th>2</th>\n",
       "      <td>0</td>\n",
       "      <td>-5623.422610</td>\n",
       "      <td>33</td>\n",
       "      <td>Среднее</td>\n",
       "      <td>1</td>\n",
       "      <td>женат / замужем</td>\n",
       "      <td>0</td>\n",
       "      <td>M</td>\n",
       "      <td>сотрудник</td>\n",
       "      <td>0</td>\n",
       "      <td>145885.952297</td>\n",
       "      <td>покупка жилья</td>\n",
       "    </tr>\n",
       "    <tr>\n",
       "      <th>3</th>\n",
       "      <td>3</td>\n",
       "      <td>-4124.747207</td>\n",
       "      <td>32</td>\n",
       "      <td>среднее</td>\n",
       "      <td>1</td>\n",
       "      <td>женат / замужем</td>\n",
       "      <td>0</td>\n",
       "      <td>M</td>\n",
       "      <td>сотрудник</td>\n",
       "      <td>0</td>\n",
       "      <td>267628.550329</td>\n",
       "      <td>дополнительное образование</td>\n",
       "    </tr>\n",
       "    <tr>\n",
       "      <th>4</th>\n",
       "      <td>0</td>\n",
       "      <td>340266.072047</td>\n",
       "      <td>53</td>\n",
       "      <td>среднее</td>\n",
       "      <td>1</td>\n",
       "      <td>гражданский брак</td>\n",
       "      <td>1</td>\n",
       "      <td>F</td>\n",
       "      <td>пенсионер</td>\n",
       "      <td>0</td>\n",
       "      <td>158616.077870</td>\n",
       "      <td>сыграть свадьбу</td>\n",
       "    </tr>\n",
       "    <tr>\n",
       "      <th>5</th>\n",
       "      <td>0</td>\n",
       "      <td>-926.185831</td>\n",
       "      <td>27</td>\n",
       "      <td>высшее</td>\n",
       "      <td>0</td>\n",
       "      <td>гражданский брак</td>\n",
       "      <td>1</td>\n",
       "      <td>M</td>\n",
       "      <td>компаньон</td>\n",
       "      <td>0</td>\n",
       "      <td>255763.565419</td>\n",
       "      <td>покупка жилья</td>\n",
       "    </tr>\n",
       "    <tr>\n",
       "      <th>6</th>\n",
       "      <td>0</td>\n",
       "      <td>-2879.202052</td>\n",
       "      <td>43</td>\n",
       "      <td>высшее</td>\n",
       "      <td>0</td>\n",
       "      <td>женат / замужем</td>\n",
       "      <td>0</td>\n",
       "      <td>F</td>\n",
       "      <td>компаньон</td>\n",
       "      <td>0</td>\n",
       "      <td>240525.971920</td>\n",
       "      <td>операции с жильем</td>\n",
       "    </tr>\n",
       "    <tr>\n",
       "      <th>7</th>\n",
       "      <td>0</td>\n",
       "      <td>-152.779569</td>\n",
       "      <td>50</td>\n",
       "      <td>СРЕДНЕЕ</td>\n",
       "      <td>1</td>\n",
       "      <td>женат / замужем</td>\n",
       "      <td>0</td>\n",
       "      <td>M</td>\n",
       "      <td>сотрудник</td>\n",
       "      <td>0</td>\n",
       "      <td>135823.934197</td>\n",
       "      <td>образование</td>\n",
       "    </tr>\n",
       "    <tr>\n",
       "      <th>8</th>\n",
       "      <td>2</td>\n",
       "      <td>-6929.865299</td>\n",
       "      <td>35</td>\n",
       "      <td>ВЫСШЕЕ</td>\n",
       "      <td>0</td>\n",
       "      <td>гражданский брак</td>\n",
       "      <td>1</td>\n",
       "      <td>F</td>\n",
       "      <td>сотрудник</td>\n",
       "      <td>0</td>\n",
       "      <td>95856.832424</td>\n",
       "      <td>на проведение свадьбы</td>\n",
       "    </tr>\n",
       "    <tr>\n",
       "      <th>9</th>\n",
       "      <td>0</td>\n",
       "      <td>-2188.756445</td>\n",
       "      <td>41</td>\n",
       "      <td>среднее</td>\n",
       "      <td>1</td>\n",
       "      <td>женат / замужем</td>\n",
       "      <td>0</td>\n",
       "      <td>M</td>\n",
       "      <td>сотрудник</td>\n",
       "      <td>0</td>\n",
       "      <td>144425.938277</td>\n",
       "      <td>покупка жилья для семьи</td>\n",
       "    </tr>\n",
       "  </tbody>\n",
       "</table>\n",
       "</div>"
      ],
      "text/plain": [
       "   children  days_employed  dob_years education  education_id  \\\n",
       "0         1   -8437.673028         42    высшее             0   \n",
       "1         1   -4024.803754         36   среднее             1   \n",
       "2         0   -5623.422610         33   Среднее             1   \n",
       "3         3   -4124.747207         32   среднее             1   \n",
       "4         0  340266.072047         53   среднее             1   \n",
       "5         0    -926.185831         27    высшее             0   \n",
       "6         0   -2879.202052         43    высшее             0   \n",
       "7         0    -152.779569         50   СРЕДНЕЕ             1   \n",
       "8         2   -6929.865299         35    ВЫСШЕЕ             0   \n",
       "9         0   -2188.756445         41   среднее             1   \n",
       "\n",
       "      family_status  family_status_id gender income_type  debt   total_income  \\\n",
       "0   женат / замужем                 0      F   сотрудник     0  253875.639453   \n",
       "1   женат / замужем                 0      F   сотрудник     0  112080.014102   \n",
       "2   женат / замужем                 0      M   сотрудник     0  145885.952297   \n",
       "3   женат / замужем                 0      M   сотрудник     0  267628.550329   \n",
       "4  гражданский брак                 1      F   пенсионер     0  158616.077870   \n",
       "5  гражданский брак                 1      M   компаньон     0  255763.565419   \n",
       "6   женат / замужем                 0      F   компаньон     0  240525.971920   \n",
       "7   женат / замужем                 0      M   сотрудник     0  135823.934197   \n",
       "8  гражданский брак                 1      F   сотрудник     0   95856.832424   \n",
       "9   женат / замужем                 0      M   сотрудник     0  144425.938277   \n",
       "\n",
       "                      purpose  \n",
       "0               покупка жилья  \n",
       "1     приобретение автомобиля  \n",
       "2               покупка жилья  \n",
       "3  дополнительное образование  \n",
       "4             сыграть свадьбу  \n",
       "5               покупка жилья  \n",
       "6           операции с жильем  \n",
       "7                 образование  \n",
       "8       на проведение свадьбы  \n",
       "9     покупка жилья для семьи  "
      ]
     },
     "metadata": {},
     "output_type": "display_data"
    },
    {
     "name": "stdout",
     "output_type": "stream",
     "text": [
      "<class 'pandas.core.frame.DataFrame'>\n",
      "RangeIndex: 21525 entries, 0 to 21524\n",
      "Data columns (total 12 columns):\n",
      " #   Column            Non-Null Count  Dtype  \n",
      "---  ------            --------------  -----  \n",
      " 0   children          21525 non-null  int64  \n",
      " 1   days_employed     19351 non-null  float64\n",
      " 2   dob_years         21525 non-null  int64  \n",
      " 3   education         21525 non-null  object \n",
      " 4   education_id      21525 non-null  int64  \n",
      " 5   family_status     21525 non-null  object \n",
      " 6   family_status_id  21525 non-null  int64  \n",
      " 7   gender            21525 non-null  object \n",
      " 8   income_type       21525 non-null  object \n",
      " 9   debt              21525 non-null  int64  \n",
      " 10  total_income      19351 non-null  float64\n",
      " 11  purpose           21525 non-null  object \n",
      "dtypes: float64(2), int64(5), object(5)\n",
      "memory usage: 2.0+ MB\n"
     ]
    }
   ],
   "source": [
    "#Импортируем библиотеки необходимые для исследования\n",
    "import pandas as pd\n",
    "data = pd.read_csv('data.csv')\n",
    "from pymystem3 import Mystem \n",
    "m = Mystem() \n",
    "from collections import Counter \n",
    "\n",
    "display(data.head(10))\n",
    "data.info()"
   ]
  },
  {
   "cell_type": "markdown",
   "metadata": {},
   "source": [
    "**Вывод**"
   ]
  },
  {
   "cell_type": "markdown",
   "metadata": {},
   "source": [
    "Датасет содержит 12 столбцов и 21525 строк\n",
    "1. Названия столбцов - ок\n",
    "2. Типы данных в 1/10 столцов тип данных не соответствует содержанию заявленному в названии столбца:\n",
    "- Общий трудовой стаж (days_employed)- тип данных вещественные числа(float) нужно заменить на целые числа(int)\n",
    "3. В 2 из 12 столбцов содержатся нулевые значения:\n",
    "- days_employed и total_income содержат нулевые значения и потребуется обработка пропусков. Оба параметра количественные.\n",
    "\n",
    "4. Столбец 'family_status' можно удалить, т.к. он дублирует информацию в 'family_status_id' и хранит информцию в сложном виде.\n",
    "\n",
    "5. Столбец 'days_employed'(трудовой стаж в днях) содержит экстремально большие значения. Можно предположить, что часть данных указана в часах а не в днях\n",
    "6. В столбце 'education' значения записаны в разном регистре, стоит изменить написание всех значений на строчные буквы."
   ]
  },
  {
   "cell_type": "markdown",
   "metadata": {},
   "source": [
    "<a id=\"preprocessing\"></a>\n",
    "## Шаг 2. Предобработка данных "
   ]
  },
  {
   "cell_type": "markdown",
   "metadata": {},
   "source": [
    "<a id=\"null\"></a>\n",
    "### Обработка пропусков и аномальных значений"
   ]
  },
  {
   "cell_type": "code",
   "execution_count": 2,
   "metadata": {},
   "outputs": [
    {
     "name": "stdout",
     "output_type": "stream",
     "text": [
      "0\n",
      "0\n",
      "101\n"
     ]
    }
   ],
   "source": [
    "# Найдем нулевые значения количественных переменных\n",
    "print(data[data['days_employed'] == 0]['days_employed'].count())\n",
    "print(data[data['total_income'] == 0]['total_income'].count())\n",
    "print(data[data['dob_years'] == 0]['dob_years'].count()) \n"
   ]
  },
  {
   "cell_type": "markdown",
   "metadata": {},
   "source": [
    "Количество строк с нулевым значением меньше одного процента. Их можно удалить без значительного внияния на результаты анализа"
   ]
  },
  {
   "cell_type": "code",
   "execution_count": 3,
   "metadata": {},
   "outputs": [],
   "source": [
    "data = data[data['dob_years'] != 0]"
   ]
  },
  {
   "cell_type": "markdown",
   "metadata": {},
   "source": [
    "В столбце мы обрнаружили аномальные значения \"20\", где верояно пропущена точка (2.0) и \"-1\" с ошибочным знаком."
   ]
  },
  {
   "cell_type": "code",
   "execution_count": 4,
   "metadata": {
    "scrolled": true
   },
   "outputs": [
    {
     "name": "stdout",
     "output_type": "stream",
     "text": [
      "<class 'pandas.core.frame.DataFrame'>\n",
      "Int64Index: 21423 entries, 0 to 21524\n",
      "Data columns (total 12 columns):\n",
      " #   Column            Non-Null Count  Dtype  \n",
      "---  ------            --------------  -----  \n",
      " 0   children          21423 non-null  int64  \n",
      " 1   days_employed     21423 non-null  float64\n",
      " 2   dob_years         21423 non-null  int64  \n",
      " 3   education         21423 non-null  object \n",
      " 4   education_id      21423 non-null  int64  \n",
      " 5   family_status     21423 non-null  object \n",
      " 6   family_status_id  21423 non-null  int64  \n",
      " 7   gender            21423 non-null  object \n",
      " 8   income_type       21423 non-null  object \n",
      " 9   debt              21423 non-null  int64  \n",
      " 10  total_income      21423 non-null  float64\n",
      " 11  purpose           21423 non-null  object \n",
      "dtypes: float64(2), int64(5), object(5)\n",
      "memory usage: 2.1+ MB\n"
     ]
    }
   ],
   "source": [
    "#print(data['children'].unique()) # В столбце мы обрнаружили аномальные значения \"20\", где верояно пропущена точка (2.0) и \"-1\" с ошибочным знаком.\n",
    "# Устарним некорректные значения в этом столбще\n",
    "data.loc[data['children'] == -1, 'children'] = 1\n",
    "data.loc[data['children'] == 20, 'children'] = 2\n",
    "\n",
    "#print(data['gender'].unique()) # В столбще обнаружено некорректное значение пола - \"XNA\"\n",
    "#print(data.loc[data['gender'] == 'XNA', 'gender'].count()) # Встречается единожды. \n",
    "data = data.loc[data['gender'] != 'XNA'] #Стоку можно удалить без значительного внияния на результаты анализа\n",
    "\n",
    "# В столбце 'days_employed' мы обраружили отрицательные и аномально большие значения.Аномально большие данные видимо указаны в часах и поступили из другой системы.\n",
    "# Для приведения к единому стилю, разделим эти значения на 24 и прведем к положительным значениям. Средний трудовой стаж в РФ при выходе на пенсию составляет 35 лет(или 12 775 дней)\n",
    "#Будем считать это верхней границей, т.е. допустим что все значения больше 12 775 указаны в часах и должны быть пересчитаны в  дни\n",
    "data['days_employed'] = data['days_employed'].apply(abs)\n",
    "data.loc[data['days_employed'] > 12775, 'days_employed'] = data.loc[data['days_employed'] > 12775, 'days_employed'] / 24\n",
    "\n",
    "# Найдем пропущеные значения \n",
    "#print(data.isna().sum())\n",
    "\n",
    "# Допустим что трудовой стаж и ежемесячный доход напрямую зависит от возраста, поэтому заполним пропущеные значения медианным значением с группировакой по переменной возраст. \n",
    "for year in data['dob_years'].unique():\n",
    "    median_days_employed = data.loc[data['dob_years'] == year, 'days_employed'].median()\n",
    "    median_total_income = data.loc[data['dob_years'] == year, 'total_income'].median()\n",
    "    data.loc[(data['days_employed'].isna()) & (data['dob_years'] == year), 'days_employed'] = median_days_employed\n",
    "    data.loc[(data['total_income'].isna()) & (data['dob_years'] == year), 'total_income'] = median_total_income\n",
    "\n",
    "#data.head(20)\n",
    "#data.isna().sum() \n",
    "data.info()"
   ]
  },
  {
   "cell_type": "markdown",
   "metadata": {},
   "source": [
    "**Вывод**"
   ]
  },
  {
   "cell_type": "markdown",
   "metadata": {},
   "source": [
    "Мы обнаружили:\n",
    "1. Нулевые значения в столбце 'dob_years' (возраст клиента). Значений было меньше одного процента, что значительно не повлияет на результаты. Принято решение удалить строки полностью. \n",
    "2. В столбце 'children' обрнаружили аномальные значения \"20\", где верояно пропущена точка (2.0) и \"-1\" с ошибочным знаком. Заменили.\n",
    "3. В столбще 'gender' обнаружено некорректное значение пола - \"XNA\". \n",
    "4. В столбце 'days_employed' браружили отрицательные и аномально большие значения.Аномально большие данные видимо указаны в часах и поступили из другой системы. В качестве верхней границы стажа приняли средний трудовой стаж в РФ при выходе на пенсию. Данные выше этой границы пересчитали в дни. В отрицательных значениях заменили знак. \n",
    "5. В столбцах 'days_employed' и 'total_income' обнаружили пропущенные значения. Значений достаточно много (окололо 10%), возможно проблема с выгрузкой данных и стоило бы пообщаться с разработчиками. Удалить такое количество строк без ущерба результату мы не можем. Принято решение заполнить пропуски медианным значением. Принято допущение, что трудовой стаж и ежемесячный доход напрямую зависят от возраста, поэтому пропущеные значения заполнены медианным значением с группировакой по переменной возраст.\n",
    "\n",
    "Пропуски обработаны.\n"
   ]
  },
  {
   "cell_type": "markdown",
   "metadata": {},
   "source": [
    "<a id=\"replacing_type\"></a> \n",
    "### Замена типа данных"
   ]
  },
  {
   "cell_type": "code",
   "execution_count": 5,
   "metadata": {
    "scrolled": false
   },
   "outputs": [
    {
     "name": "stdout",
     "output_type": "stream",
     "text": [
      "<class 'pandas.core.frame.DataFrame'>\n",
      "Int64Index: 21423 entries, 0 to 21524\n",
      "Data columns (total 12 columns):\n",
      " #   Column            Non-Null Count  Dtype \n",
      "---  ------            --------------  ----- \n",
      " 0   children          21423 non-null  int64 \n",
      " 1   days_employed     21423 non-null  int64 \n",
      " 2   dob_years         21423 non-null  int64 \n",
      " 3   education         21423 non-null  object\n",
      " 4   education_id      21423 non-null  int64 \n",
      " 5   family_status     21423 non-null  object\n",
      " 6   family_status_id  21423 non-null  int64 \n",
      " 7   gender            21423 non-null  object\n",
      " 8   income_type       21423 non-null  object\n",
      " 9   debt              21423 non-null  int64 \n",
      " 10  total_income      21423 non-null  int64 \n",
      " 11  purpose           21423 non-null  object\n",
      "dtypes: int64(7), object(5)\n",
      "memory usage: 2.1+ MB\n"
     ]
    }
   ],
   "source": [
    "# В столбцах 'days_employed' и 'total_income' значения имют вещественный тип данных. Изменим тип данных на целочисленный универсальным методом astype(). \n",
    "data['days_employed']=data['days_employed'].astype('int')\n",
    "data['total_income']=data['total_income'].astype('int')\n",
    "data.info()\n"
   ]
  },
  {
   "cell_type": "markdown",
   "metadata": {},
   "source": [
    "**Вывод**"
   ]
  },
  {
   "cell_type": "markdown",
   "metadata": {},
   "source": [
    "В столбцах 'days_employed' и 'total_income' изменили тип данных с вещественного на целочисленный универсальным методом astype()\n"
   ]
  },
  {
   "cell_type": "markdown",
   "metadata": {},
   "source": [
    "<a id=\"duplicates\"></a>\n",
    "### Обработка дубликатов"
   ]
  },
  {
   "cell_type": "code",
   "execution_count": 6,
   "metadata": {},
   "outputs": [
    {
     "name": "stdout",
     "output_type": "stream",
     "text": [
      "0\n"
     ]
    }
   ],
   "source": [
    "#print(data['education'].unique()) # В столбще нашли одинаковые значения с разным написанием\n",
    "data['education'] = data['education'].str.lower() # Приведем значения к единому виду  \n",
    "\n",
    "\n",
    "#print(data.duplicated().sum()) # Дубликатами будем считать строки с одинаковыми занчениями во всех столбцах\n",
    "data = data.drop_duplicates().reset_index(drop = True) # Удалим дубликаты\n",
    "print(data.duplicated().sum()) # Дубликатов не осталось"
   ]
  },
  {
   "cell_type": "markdown",
   "metadata": {},
   "source": [
    "**Вывод**"
   ]
  },
  {
   "cell_type": "markdown",
   "metadata": {},
   "source": [
    "1. Привели одинаковые значения записанные в разном регистре к единому стилю\n",
    "2. В датасете у нас нет имен, id или других идентификаторов клиентов, поэтому счидаем дублями строки с полным совпадением значений всех столбцов. Находим дубли применяя .duplicated() ко всему датафрейму. Вероятно данные поступили из нескольких учетных систем и часть данные некоторых клиентов хранились сразу в нескольких системах. Дубли удалили методом drop_duplicates() и перезаписали индексы. "
   ]
  },
  {
   "cell_type": "markdown",
   "metadata": {},
   "source": [
    "<a id=\"lemmatization\"></a>\n",
    "### Лемматизация"
   ]
  },
  {
   "cell_type": "code",
   "execution_count": 7,
   "metadata": {},
   "outputs": [
    {
     "data": {
      "text/plain": [
       "недвижимость    10763\n",
       "автомобиль       4284\n",
       "образование      3995\n",
       "свадьба          2310\n",
       "Name: purpose_lemmas, dtype: int64"
      ]
     },
     "execution_count": 7,
     "metadata": {},
     "output_type": "execute_result"
    }
   ],
   "source": [
    "# В столбце 'purpose' одни и теже категории целей кредита описаны разными словами. Цель этого этапа обобщить категории\n",
    "\n",
    "\n",
    "text = ','.join(data['purpose'].unique()) # Найдем уникальные значения столбца 'purpose', соберем в одну строку методом join() для лемматизации\n",
    "lemmas = m.lemmatize(text) # Лемматизируем полученную строку\n",
    "\n",
    "Counter(lemmas) # Посчитаем частоту упоминания каждого существительного, это и будут основные категории.\n",
    "# Самые часто упоминаемые: недвижимость(жилье), автомобиль, образование, свадьба\n",
    "\n",
    "# Напишем функцию для лемматизации значей столбца 'purpose' и определения категории\n",
    "# В категорию 'недвижимость' мы должны определить все значение где упоминаются существительные 'недвижимость' или 'жилье'\n",
    "# В категорию 'автомобиль' где употребляется'автомобиль' и в раздел'образование' - 'образование' соответственно.\n",
    "# Для всех остальных вернем 'цель неопределена'\n",
    "def lemmas_purpose(row):\n",
    "    purpose = row['purpose']\n",
    "    purpose_lemmas = m.lemmatize(purpose)\n",
    " \n",
    "    if ('недвижимость' in purpose_lemmas or 'жилье' in purpose_lemmas):\n",
    "        return 'недвижимость'\n",
    "    elif 'автомобиль'in purpose_lemmas:\n",
    "        return 'автомобиль'\n",
    "    elif 'образование' in purpose_lemmas:\n",
    "        return 'образование'\n",
    "    elif 'свадьба' in purpose_lemmas:\n",
    "        return 'свадьба'\n",
    "    else:\n",
    "        return 'цель не определена'\n",
    "    \n",
    "# Создадим новый столбец и сохнарим в него лемматизированные значения столбца 'purpose'\n",
    "data['purpose_lemmas'] = data.apply(lemmas_purpose, axis=1)    \n",
    "data['purpose_lemmas'].value_counts()\n"
   ]
  },
  {
   "cell_type": "markdown",
   "metadata": {},
   "source": [
    "**Вывод**"
   ]
  },
  {
   "cell_type": "markdown",
   "metadata": {},
   "source": [
    "1. Определили категории кредитов. \n",
    "Для этого: \n",
    "- нашли и объединили в одну строку уникальные значения столбца 'purpose', \n",
    "- лемматизировали строку и определили самые популярные значения, которые и являются категориями кредитов\n",
    "2. Написали функцию для лемматизации значей столбца 'purpose' и определения категории кредита для каждого клиента"
   ]
  },
  {
   "cell_type": "markdown",
   "metadata": {},
   "source": [
    "<a id=\"categorization\"></a>\n",
    "### Категоризация данных"
   ]
  },
  {
   "cell_type": "code",
   "execution_count": 8,
   "metadata": {},
   "outputs": [
    {
     "data": {
      "text/html": [
       "<div>\n",
       "<style scoped>\n",
       "    .dataframe tbody tr th:only-of-type {\n",
       "        vertical-align: middle;\n",
       "    }\n",
       "\n",
       "    .dataframe tbody tr th {\n",
       "        vertical-align: top;\n",
       "    }\n",
       "\n",
       "    .dataframe thead th {\n",
       "        text-align: right;\n",
       "    }\n",
       "</style>\n",
       "<table border=\"1\" class=\"dataframe\">\n",
       "  <thead>\n",
       "    <tr style=\"text-align: right;\">\n",
       "      <th></th>\n",
       "      <th>education</th>\n",
       "    </tr>\n",
       "    <tr>\n",
       "      <th>education_id</th>\n",
       "      <th></th>\n",
       "    </tr>\n",
       "  </thead>\n",
       "  <tbody>\n",
       "    <tr>\n",
       "      <th>0</th>\n",
       "      <td>высшее</td>\n",
       "    </tr>\n",
       "    <tr>\n",
       "      <th>1</th>\n",
       "      <td>среднее</td>\n",
       "    </tr>\n",
       "    <tr>\n",
       "      <th>2</th>\n",
       "      <td>неоконченное высшее</td>\n",
       "    </tr>\n",
       "    <tr>\n",
       "      <th>3</th>\n",
       "      <td>начальное</td>\n",
       "    </tr>\n",
       "    <tr>\n",
       "      <th>4</th>\n",
       "      <td>ученая степень</td>\n",
       "    </tr>\n",
       "  </tbody>\n",
       "</table>\n",
       "</div>"
      ],
      "text/plain": [
       "                        education\n",
       "education_id                     \n",
       "0                          высшее\n",
       "1                         среднее\n",
       "2             неоконченное высшее\n",
       "3                       начальное\n",
       "4                  ученая степень"
      ]
     },
     "metadata": {},
     "output_type": "display_data"
    },
    {
     "data": {
      "text/html": [
       "<div>\n",
       "<style scoped>\n",
       "    .dataframe tbody tr th:only-of-type {\n",
       "        vertical-align: middle;\n",
       "    }\n",
       "\n",
       "    .dataframe tbody tr th {\n",
       "        vertical-align: top;\n",
       "    }\n",
       "\n",
       "    .dataframe thead th {\n",
       "        text-align: right;\n",
       "    }\n",
       "</style>\n",
       "<table border=\"1\" class=\"dataframe\">\n",
       "  <thead>\n",
       "    <tr style=\"text-align: right;\">\n",
       "      <th></th>\n",
       "      <th>family_status</th>\n",
       "    </tr>\n",
       "    <tr>\n",
       "      <th>family_status_id</th>\n",
       "      <th></th>\n",
       "    </tr>\n",
       "  </thead>\n",
       "  <tbody>\n",
       "    <tr>\n",
       "      <th>0</th>\n",
       "      <td>женат / замужем</td>\n",
       "    </tr>\n",
       "    <tr>\n",
       "      <th>1</th>\n",
       "      <td>гражданский брак</td>\n",
       "    </tr>\n",
       "    <tr>\n",
       "      <th>2</th>\n",
       "      <td>вдовец / вдова</td>\n",
       "    </tr>\n",
       "    <tr>\n",
       "      <th>3</th>\n",
       "      <td>в разводе</td>\n",
       "    </tr>\n",
       "    <tr>\n",
       "      <th>4</th>\n",
       "      <td>Не женат / не замужем</td>\n",
       "    </tr>\n",
       "  </tbody>\n",
       "</table>\n",
       "</div>"
      ],
      "text/plain": [
       "                          family_status\n",
       "family_status_id                       \n",
       "0                       женат / замужем\n",
       "1                      гражданский брак\n",
       "2                        вдовец / вдова\n",
       "3                             в разводе\n",
       "4                 Не женат / не замужем"
      ]
     },
     "metadata": {},
     "output_type": "display_data"
    }
   ],
   "source": [
    "# Определим категории(уникальные значения) для каждого столбца  \n",
    "\n",
    "#print(data['children'].value_counts()) # Категоризация по количеству детей\n",
    "\n",
    "# Категоризация по стажу. Столбец содержит большое количесвто уникальных значений\n",
    "# Следует разделить выделить категории стажа: до 1825 \"маленький стаж\", от 1825 до 7300 \"средний стаж\", от 7300 \"большой стаж\" \n",
    "# Напишем функцию для категоризации стажа\n",
    "def seniority(days_employed):\n",
    "    if days_employed <= 1825:\n",
    "        return 'маленький стаж'\n",
    "    if  days_employed > 1825 and days_employed < 7300:\n",
    "        return 'средний стаж'\n",
    "    return 'большой стаж'\n",
    "data['seniority'] = data['days_employed'].apply(seniority)\n",
    "#print(data['seniority'].value_counts()) # Категоризация по стажу.\n",
    "\n",
    "\n",
    "# Категоризация по возрасту. Столбец также содержит большое количесвто уникальных значений\n",
    "# Следует разделить выделить категории возраста до 30 лет - \"молодежь\" , от 30 до 60 \"среднего возраста\", больше 60 \"пожилые\"\n",
    "def age(dob_years):\n",
    "    if dob_years <= 30:\n",
    "        return 'молодежь'\n",
    "    if  dob_years > 30 and dob_years < 60:\n",
    "        return 'среднего возраста'\n",
    "    return 'пожилые'\n",
    "data['age'] = data['dob_years'].apply(age)\n",
    "#print(data['age'].value_counts()) # Категоризация по возрасту.\n",
    "\n",
    "# Категоризация по образованию. \n",
    "#Для этого можно использовать значению одного из столбцов 'education' или 'education_id'\n",
    "#print(data['education'].value_counts()) \n",
    "#print(data['education_id'].value_counts())\n",
    "display(data[['education', 'education_id']].drop_duplicates().set_index('education_id')) # Или оба сразу\n",
    "\n",
    "# Категоризация по семейному положению\n",
    "# Может быть выполнена аналогично категоризации по образованию\n",
    "#print(data['family_status'].value_counts())\n",
    "#print(data['family_status_id'].value_counts())\n",
    "display(data[['family_status', 'family_status_id']].drop_duplicates().set_index('family_status_id'))\n",
    "\n",
    "#print(data['gender'].value_counts()) # Категоризация по половому признаку.\n",
    "\n",
    "#print(data['income_type'].value_counts()) # Категоризация по типу занятости.\n",
    "\n",
    "#print(data['debt'].value_counts()) # Категоризация по наличию/отсутствию задолженности в прошлом.\n",
    "\n",
    "# Категоризация по уровню дохода. Столбец содержит большое количесвто уникальных значений.\n",
    "# Мы не можем проводить исследования и делать выводы для каждого уникального значения, для этого мы должны классифицировать данные по схожим признакам. \n",
    "# Выделим категории по размеру дохода: до 75'000 \"низкий доход\", от 75'000 до 150'000 - \"средний доход\", свыше 150'000 - \"высокий доход\"\n",
    "#print(data['total_income'].value_counts())\n",
    "def income(total_income):\n",
    "    if total_income <= 75000:\n",
    "        return 'низкий доход'\n",
    "    if  total_income > 75000 and total_income < 150000:\n",
    "        return 'средний доход'\n",
    "    return 'высокий доход'\n",
    "data['income'] = data['total_income'].apply(income)\n",
    "#print(data['income'].value_counts())\n",
    "\n",
    "#print(data['purpose_lemmas'].value_counts()) # Категоризация по назначению кредита\n"
   ]
  },
  {
   "cell_type": "code",
   "execution_count": 9,
   "metadata": {},
   "outputs": [
    {
     "data": {
      "text/plain": [
       "высокий доход    10020\n",
       "средний доход     9476\n",
       "низкий доход      1856\n",
       "Name: income, dtype: int64"
      ]
     },
     "execution_count": 9,
     "metadata": {},
     "output_type": "execute_result"
    }
   ],
   "source": [
    "data['income'].value_counts()"
   ]
  },
  {
   "cell_type": "markdown",
   "metadata": {},
   "source": [
    "**Вывод**"
   ]
  },
  {
   "cell_type": "markdown",
   "metadata": {},
   "source": [
    "Для категоризации мы должны были определить уникальные значения, каждого столбца данных.\n",
    "Для данных о стаже, возрасте и доходах мы ввели дополнительные параметры уровня (низкого, среднего и высокого) и произвели категоризацию по этим параметрам. \n",
    "<p>Во всех остальных случаях мы использовали методы .value_counts() или .drop_duplicates()\n"
   ]
  },
  {
   "cell_type": "markdown",
   "metadata": {},
   "source": [
    "<a id=\"questions\"></a>\n",
    "## Шаг 3. Ответим на вопросы"
   ]
  },
  {
   "cell_type": "markdown",
   "metadata": {},
   "source": [
    "- Есть ли зависимость между наличием детей и возвратом кредита в срок?"
   ]
  },
  {
   "cell_type": "code",
   "execution_count": 10,
   "metadata": {},
   "outputs": [
    {
     "data": {
      "text/html": [
       "<div>\n",
       "<style scoped>\n",
       "    .dataframe tbody tr th:only-of-type {\n",
       "        vertical-align: middle;\n",
       "    }\n",
       "\n",
       "    .dataframe tbody tr th {\n",
       "        vertical-align: top;\n",
       "    }\n",
       "\n",
       "    .dataframe thead th {\n",
       "        text-align: right;\n",
       "    }\n",
       "</style>\n",
       "<table border=\"1\" class=\"dataframe\">\n",
       "  <thead>\n",
       "    <tr style=\"text-align: right;\">\n",
       "      <th></th>\n",
       "      <th>debt</th>\n",
       "      <th>total</th>\n",
       "      <th>%</th>\n",
       "    </tr>\n",
       "    <tr>\n",
       "      <th>children</th>\n",
       "      <th></th>\n",
       "      <th></th>\n",
       "      <th></th>\n",
       "    </tr>\n",
       "  </thead>\n",
       "  <tbody>\n",
       "    <tr>\n",
       "      <th>4</th>\n",
       "      <td>4</td>\n",
       "      <td>41</td>\n",
       "      <td>9.76</td>\n",
       "    </tr>\n",
       "    <tr>\n",
       "      <th>2</th>\n",
       "      <td>202</td>\n",
       "      <td>2114</td>\n",
       "      <td>9.56</td>\n",
       "    </tr>\n",
       "    <tr>\n",
       "      <th>1</th>\n",
       "      <td>442</td>\n",
       "      <td>4839</td>\n",
       "      <td>9.13</td>\n",
       "    </tr>\n",
       "    <tr>\n",
       "      <th>3</th>\n",
       "      <td>27</td>\n",
       "      <td>328</td>\n",
       "      <td>8.23</td>\n",
       "    </tr>\n",
       "    <tr>\n",
       "      <th>0</th>\n",
       "      <td>1058</td>\n",
       "      <td>14021</td>\n",
       "      <td>7.55</td>\n",
       "    </tr>\n",
       "    <tr>\n",
       "      <th>5</th>\n",
       "      <td>0</td>\n",
       "      <td>9</td>\n",
       "      <td>0.00</td>\n",
       "    </tr>\n",
       "  </tbody>\n",
       "</table>\n",
       "</div>"
      ],
      "text/plain": [
       "          debt  total     %\n",
       "children                   \n",
       "4            4     41  9.76\n",
       "2          202   2114  9.56\n",
       "1          442   4839  9.13\n",
       "3           27    328  8.23\n",
       "0         1058  14021  7.55\n",
       "5            0      9  0.00"
      ]
     },
     "execution_count": 10,
     "metadata": {},
     "output_type": "execute_result"
    }
   ],
   "source": [
    "report_children = data.pivot_table(index = ['children'], values = 'debt', aggfunc = ['sum', 'count', 'mean'])\n",
    "report_children['mean'] = (report_children['mean'] * 100).round(2) \n",
    "report_children.columns = ['debt', 'total', '%']\n",
    "report_children = report_children.sort_values(by = '%', ascending = False)\n",
    "report_children"
   ]
  },
  {
   "cell_type": "markdown",
   "metadata": {},
   "source": [
    "**Вывод**"
   ]
  },
  {
   "cell_type": "markdown",
   "metadata": {},
   "source": [
    "Определенно наличие детей сказывается на возможность возврата кредита. \n",
    "<p>У бездетных самый низкий показатель задолженности (случаев с 5-ю детьми очень мало, нерепрезентативная выборка)"
   ]
  },
  {
   "cell_type": "markdown",
   "metadata": {},
   "source": [
    "- Есть ли зависимость между семейным положением и возвратом кредита в срок?"
   ]
  },
  {
   "cell_type": "code",
   "execution_count": 11,
   "metadata": {},
   "outputs": [
    {
     "data": {
      "text/html": [
       "<div>\n",
       "<style scoped>\n",
       "    .dataframe tbody tr th:only-of-type {\n",
       "        vertical-align: middle;\n",
       "    }\n",
       "\n",
       "    .dataframe tbody tr th {\n",
       "        vertical-align: top;\n",
       "    }\n",
       "\n",
       "    .dataframe thead th {\n",
       "        text-align: right;\n",
       "    }\n",
       "</style>\n",
       "<table border=\"1\" class=\"dataframe\">\n",
       "  <thead>\n",
       "    <tr style=\"text-align: right;\">\n",
       "      <th></th>\n",
       "      <th>debt</th>\n",
       "      <th>total</th>\n",
       "      <th>%</th>\n",
       "    </tr>\n",
       "    <tr>\n",
       "      <th>family_status</th>\n",
       "      <th></th>\n",
       "      <th></th>\n",
       "      <th></th>\n",
       "    </tr>\n",
       "  </thead>\n",
       "  <tbody>\n",
       "    <tr>\n",
       "      <th>Не женат / не замужем</th>\n",
       "      <td>273</td>\n",
       "      <td>2794</td>\n",
       "      <td>9.77</td>\n",
       "    </tr>\n",
       "    <tr>\n",
       "      <th>гражданский брак</th>\n",
       "      <td>386</td>\n",
       "      <td>4129</td>\n",
       "      <td>9.35</td>\n",
       "    </tr>\n",
       "    <tr>\n",
       "      <th>женат / замужем</th>\n",
       "      <td>927</td>\n",
       "      <td>12290</td>\n",
       "      <td>7.54</td>\n",
       "    </tr>\n",
       "    <tr>\n",
       "      <th>в разводе</th>\n",
       "      <td>85</td>\n",
       "      <td>1185</td>\n",
       "      <td>7.17</td>\n",
       "    </tr>\n",
       "    <tr>\n",
       "      <th>вдовец / вдова</th>\n",
       "      <td>62</td>\n",
       "      <td>954</td>\n",
       "      <td>6.50</td>\n",
       "    </tr>\n",
       "  </tbody>\n",
       "</table>\n",
       "</div>"
      ],
      "text/plain": [
       "                       debt  total     %\n",
       "family_status                           \n",
       "Не женат / не замужем   273   2794  9.77\n",
       "гражданский брак        386   4129  9.35\n",
       "женат / замужем         927  12290  7.54\n",
       "в разводе                85   1185  7.17\n",
       "вдовец / вдова           62    954  6.50"
      ]
     },
     "execution_count": 11,
     "metadata": {},
     "output_type": "execute_result"
    }
   ],
   "source": [
    "report_family_status = data.pivot_table(index = ['family_status'], values = 'debt', aggfunc = ['sum', 'count', 'mean'])\n",
    "report_family_status['mean'] = (report_family_status['mean'] * 100).round(2) \n",
    "report_family_status.columns = ['debt', 'total', '%']\n",
    "report_family_status = report_family_status.sort_values(by = '%', ascending = False)\n",
    "report_family_status"
   ]
  },
  {
   "cell_type": "markdown",
   "metadata": {},
   "source": [
    "**Вывод**"
   ]
  },
  {
   "cell_type": "markdown",
   "metadata": {},
   "source": [
    "Зависимость семейного положения также прослеживается. К женатым доверия зачительно больше чем к неженатым. И даже у пар в гражданском браке показатели значительно хуже женатых."
   ]
  },
  {
   "cell_type": "markdown",
   "metadata": {},
   "source": [
    "- Есть ли зависимость между уровнем дохода и возвратом кредита в срок?"
   ]
  },
  {
   "cell_type": "code",
   "execution_count": 12,
   "metadata": {},
   "outputs": [
    {
     "data": {
      "text/html": [
       "<div>\n",
       "<style scoped>\n",
       "    .dataframe tbody tr th:only-of-type {\n",
       "        vertical-align: middle;\n",
       "    }\n",
       "\n",
       "    .dataframe tbody tr th {\n",
       "        vertical-align: top;\n",
       "    }\n",
       "\n",
       "    .dataframe thead th {\n",
       "        text-align: right;\n",
       "    }\n",
       "</style>\n",
       "<table border=\"1\" class=\"dataframe\">\n",
       "  <thead>\n",
       "    <tr style=\"text-align: right;\">\n",
       "      <th></th>\n",
       "      <th>debt</th>\n",
       "      <th>total</th>\n",
       "      <th>%</th>\n",
       "    </tr>\n",
       "    <tr>\n",
       "      <th>income</th>\n",
       "      <th></th>\n",
       "      <th></th>\n",
       "      <th></th>\n",
       "    </tr>\n",
       "  </thead>\n",
       "  <tbody>\n",
       "    <tr>\n",
       "      <th>средний доход</th>\n",
       "      <td>801</td>\n",
       "      <td>9476</td>\n",
       "      <td>8.45</td>\n",
       "    </tr>\n",
       "    <tr>\n",
       "      <th>высокий доход</th>\n",
       "      <td>796</td>\n",
       "      <td>10020</td>\n",
       "      <td>7.94</td>\n",
       "    </tr>\n",
       "    <tr>\n",
       "      <th>низкий доход</th>\n",
       "      <td>136</td>\n",
       "      <td>1856</td>\n",
       "      <td>7.33</td>\n",
       "    </tr>\n",
       "  </tbody>\n",
       "</table>\n",
       "</div>"
      ],
      "text/plain": [
       "               debt  total     %\n",
       "income                          \n",
       "средний доход   801   9476  8.45\n",
       "высокий доход   796  10020  7.94\n",
       "низкий доход    136   1856  7.33"
      ]
     },
     "execution_count": 12,
     "metadata": {},
     "output_type": "execute_result"
    }
   ],
   "source": [
    "#report_dob = data.pivot_table(index = ['age'], values = 'debt', aggfunc = ['sum', 'count', 'mean'])\n",
    "#report_dob['mean'] = (report_dob['mean'] * 100).round(2) \n",
    "#report_dob.columns = ['debt', 'total', '%']\n",
    "#report_dob = report_dob.sort_values(by = '%', ascending = False)\n",
    "#report_dob\n",
    "report_income = data.pivot_table(index = ['income'], values = 'debt', aggfunc = ['sum', 'count', 'mean'])\n",
    "report_income['mean'] = (report_income['mean'] * 100).round(2) \n",
    "report_income.columns = ['debt', 'total', '%']\n",
    "report_income = report_income.sort_values(by = '%', ascending = False)\n",
    "report_income"
   ]
  },
  {
   "cell_type": "markdown",
   "metadata": {},
   "source": [
    "**Вывод**"
   ]
  },
  {
   "cell_type": "markdown",
   "metadata": {},
   "source": [
    "Результат неожиданый - лучшие показатели у клиентов с низким доходом, вероятно такие люди ответственнее в распределении доходов.\n",
    "<p>Промежуточный резульат у клиентов с высоким доходом, что ожидаемо. \n",
    "<p>Больше всего просроченных кредитов у клиентов со средним доходом. Вероятно такой доход провацирует худший учет финансов. "
   ]
  },
  {
   "cell_type": "markdown",
   "metadata": {},
   "source": [
    "- Как разные цели кредита влияют на его возврат в срок?"
   ]
  },
  {
   "cell_type": "code",
   "execution_count": 13,
   "metadata": {},
   "outputs": [
    {
     "data": {
      "text/html": [
       "<div>\n",
       "<style scoped>\n",
       "    .dataframe tbody tr th:only-of-type {\n",
       "        vertical-align: middle;\n",
       "    }\n",
       "\n",
       "    .dataframe tbody tr th {\n",
       "        vertical-align: top;\n",
       "    }\n",
       "\n",
       "    .dataframe thead th {\n",
       "        text-align: right;\n",
       "    }\n",
       "</style>\n",
       "<table border=\"1\" class=\"dataframe\">\n",
       "  <thead>\n",
       "    <tr style=\"text-align: right;\">\n",
       "      <th></th>\n",
       "      <th>debt</th>\n",
       "      <th>total</th>\n",
       "      <th>%</th>\n",
       "    </tr>\n",
       "    <tr>\n",
       "      <th>purpose_lemmas</th>\n",
       "      <th></th>\n",
       "      <th></th>\n",
       "      <th></th>\n",
       "    </tr>\n",
       "  </thead>\n",
       "  <tbody>\n",
       "    <tr>\n",
       "      <th>автомобиль</th>\n",
       "      <td>400</td>\n",
       "      <td>4284</td>\n",
       "      <td>9.34</td>\n",
       "    </tr>\n",
       "    <tr>\n",
       "      <th>образование</th>\n",
       "      <td>370</td>\n",
       "      <td>3995</td>\n",
       "      <td>9.26</td>\n",
       "    </tr>\n",
       "    <tr>\n",
       "      <th>свадьба</th>\n",
       "      <td>184</td>\n",
       "      <td>2310</td>\n",
       "      <td>7.97</td>\n",
       "    </tr>\n",
       "    <tr>\n",
       "      <th>недвижимость</th>\n",
       "      <td>779</td>\n",
       "      <td>10763</td>\n",
       "      <td>7.24</td>\n",
       "    </tr>\n",
       "  </tbody>\n",
       "</table>\n",
       "</div>"
      ],
      "text/plain": [
       "                debt  total     %\n",
       "purpose_lemmas                   \n",
       "автомобиль       400   4284  9.34\n",
       "образование      370   3995  9.26\n",
       "свадьба          184   2310  7.97\n",
       "недвижимость     779  10763  7.24"
      ]
     },
     "execution_count": 13,
     "metadata": {},
     "output_type": "execute_result"
    }
   ],
   "source": [
    "report_purpose = data.pivot_table(index = ['purpose_lemmas'], values = 'debt', aggfunc = ['sum', 'count', 'mean'])\n",
    "report_purpose['mean'] = (report_purpose['mean'] * 100).round(2) \n",
    "report_purpose.columns = ['debt', 'total', '%']\n",
    "report_purpose = report_purpose.sort_values(by = '%', ascending = False)\n",
    "report_purpose"
   ]
  },
  {
   "cell_type": "markdown",
   "metadata": {},
   "source": [
    "**Вывод**"
   ]
  },
  {
   "cell_type": "markdown",
   "metadata": {},
   "source": [
    "Кредиты на свадьбу и недвижимость выплачивают стабильнее чем на автомобили и образование"
   ]
  },
  {
   "cell_type": "markdown",
   "metadata": {},
   "source": [
    "<a id=\"conclusion\"></a>\n",
    "## Шаг 4. Общий вывод"
   ]
  },
  {
   "cell_type": "markdown",
   "metadata": {},
   "source": [
    "В этом проекте мы должны были обработать входные данные от банка (статистика о платёжеспособности клиентов) и предоставить данные для построении модели кредитного скоринга — специальной системы, которая оценивает способность потенциального заёмщика вернуть кредит банку.\n",
    "Для этого нам потребовалось ***подготовить данные для исследования***: \n",
    "1. Обработать пропуски в даннах\n",
    "- Найдены нулевые значения в столбце 'dob_years' (возраст клиента). Значений было меньше одного процента, что значительно не повлияет на результаты. Принято решение удалить строки полностью.\n",
    "- В столбце 'children'(количество детей) обрнаружили аномальные значения \"20\", где верояно пропущена точка (2.0) и \"-1\" с ошибочным знаком. Заменили.\n",
    "- В столбще 'gender' обнаружено некорректное значение пола - \"XNA\". Встречается единожды, что не критично для исследования и принято решение удалить всю строку полностью.\n",
    "- В столбце 'days_employed' браружили отрицательные и аномально большие значения.Аномально большие данные видимо указаны в часах и поступили из другой системы. В качестве верхней границы стажа приняли средний трудовой стаж в РФ при выходе на пенсию. Данные выше этой границы пересчитали в дни. В отрицательных значениях заменили знак.\n",
    "- В столбцах 'days_employed' и 'total_income' обнаружили пропущенные значения. Значений достаточно много (окололо 10%), возможно проблема с выгрузкой данных и стоило бы пообщаться с разработчиками. Удалить такое количество строк без ущерба результату мы не можем. Принято решение заполнить пропуски медианным значением. Принято допущение, что трудовой стаж и ежемесячный доход напрямую зависят от возраста, поэтому пропущеные значения заполнены медианным значением с группировакой по переменной возраст.\n",
    "2. Изменить некорректные типы данных\n",
    "- В столбцах 'days_employed' и 'total_income' изменили тип данных с вещественного на целочисленный \n",
    "3. Обработать дубликаты\n",
    "- Привели одинаковые значения записанные в разном регистре к единому стилю\n",
    "- В датасете у нас нет имен, id или других идентификаторов клиентов, поэтому мы считли дублями строки с полным совпадением значений всех столбцов. Вероятно данные поступили из нескольких учетных систем и часть данные некоторых клиентов хранились сразу в нескольких системах. Дубли удалили.\n",
    "4. Провести лемматизацию для обобщения категорий кредитов, т.к. в столбце 'purpose' одни и теже категории целей кредита описаны разными словами. Выделили четыре категории: недвижимость, автомобиль, образование, свадьба    \n",
    "5. Провести категоризацию данных. Для исследования нас интересуют категории в данных о наличии детей, семейном положении, уровне дохода и возраст.Категоризация по уровню дохода потребовала провести дополнительную классификацию. Столбец содержит большое количесвто уникальных значений. Мы не можем проводить исследования и делать выводы для каждого уникального значения, для этого мы должны были классифицировать данные по схожим признакам. Выделили категории по размеру дохода: до 75 000 \"низкий доход\", от 75 000 до 150 000 - \"средний доход\", свыше 150 000 - \"высокий доход\"\n",
    "\n",
    "\n",
    "\n",
    "***И ответить на вопросы:***\n",
    "- Есть ли зависимость между наличием детей и возвратом кредита в срок?\n",
    "- Есть ли зависимость между семейным положением и возвратом кредита в срок?\n",
    "- Есть ли зависимость между уровнем дохода и возвратом кредита в срок?\n",
    "- Как разные цели кредита влияют на его возврат в срок?\n",
    "\n",
    "***Зависимости мы рассчитали в процентах, как отношение количества просроченных кредитов к общему числу выданных кредитов в каждой категории. Результаты исследования представили в таблицах***"
   ]
  },
  {
   "cell_type": "markdown",
   "metadata": {},
   "source": [
    "Зависимость между ***наличием детей*** и возвратом кредита в срок"
   ]
  },
  {
   "cell_type": "code",
   "execution_count": 14,
   "metadata": {},
   "outputs": [
    {
     "data": {
      "text/html": [
       "<div>\n",
       "<style scoped>\n",
       "    .dataframe tbody tr th:only-of-type {\n",
       "        vertical-align: middle;\n",
       "    }\n",
       "\n",
       "    .dataframe tbody tr th {\n",
       "        vertical-align: top;\n",
       "    }\n",
       "\n",
       "    .dataframe thead th {\n",
       "        text-align: right;\n",
       "    }\n",
       "</style>\n",
       "<table border=\"1\" class=\"dataframe\">\n",
       "  <thead>\n",
       "    <tr style=\"text-align: right;\">\n",
       "      <th></th>\n",
       "      <th>debt</th>\n",
       "      <th>total</th>\n",
       "      <th>%</th>\n",
       "    </tr>\n",
       "    <tr>\n",
       "      <th>children</th>\n",
       "      <th></th>\n",
       "      <th></th>\n",
       "      <th></th>\n",
       "    </tr>\n",
       "  </thead>\n",
       "  <tbody>\n",
       "    <tr>\n",
       "      <th>4</th>\n",
       "      <td>4</td>\n",
       "      <td>41</td>\n",
       "      <td>9.76</td>\n",
       "    </tr>\n",
       "    <tr>\n",
       "      <th>2</th>\n",
       "      <td>202</td>\n",
       "      <td>2114</td>\n",
       "      <td>9.56</td>\n",
       "    </tr>\n",
       "    <tr>\n",
       "      <th>1</th>\n",
       "      <td>442</td>\n",
       "      <td>4839</td>\n",
       "      <td>9.13</td>\n",
       "    </tr>\n",
       "    <tr>\n",
       "      <th>3</th>\n",
       "      <td>27</td>\n",
       "      <td>328</td>\n",
       "      <td>8.23</td>\n",
       "    </tr>\n",
       "    <tr>\n",
       "      <th>0</th>\n",
       "      <td>1058</td>\n",
       "      <td>14021</td>\n",
       "      <td>7.55</td>\n",
       "    </tr>\n",
       "    <tr>\n",
       "      <th>5</th>\n",
       "      <td>0</td>\n",
       "      <td>9</td>\n",
       "      <td>0.00</td>\n",
       "    </tr>\n",
       "  </tbody>\n",
       "</table>\n",
       "</div>"
      ],
      "text/plain": [
       "          debt  total     %\n",
       "children                   \n",
       "4            4     41  9.76\n",
       "2          202   2114  9.56\n",
       "1          442   4839  9.13\n",
       "3           27    328  8.23\n",
       "0         1058  14021  7.55\n",
       "5            0      9  0.00"
      ]
     },
     "execution_count": 14,
     "metadata": {},
     "output_type": "execute_result"
    }
   ],
   "source": [
    "report_children"
   ]
  },
  {
   "cell_type": "markdown",
   "metadata": {},
   "source": [
    "Зависимость между ***семейным положением*** и возвратом кредита в срок"
   ]
  },
  {
   "cell_type": "code",
   "execution_count": 15,
   "metadata": {},
   "outputs": [
    {
     "data": {
      "text/html": [
       "<div>\n",
       "<style scoped>\n",
       "    .dataframe tbody tr th:only-of-type {\n",
       "        vertical-align: middle;\n",
       "    }\n",
       "\n",
       "    .dataframe tbody tr th {\n",
       "        vertical-align: top;\n",
       "    }\n",
       "\n",
       "    .dataframe thead th {\n",
       "        text-align: right;\n",
       "    }\n",
       "</style>\n",
       "<table border=\"1\" class=\"dataframe\">\n",
       "  <thead>\n",
       "    <tr style=\"text-align: right;\">\n",
       "      <th></th>\n",
       "      <th>debt</th>\n",
       "      <th>total</th>\n",
       "      <th>%</th>\n",
       "    </tr>\n",
       "    <tr>\n",
       "      <th>family_status</th>\n",
       "      <th></th>\n",
       "      <th></th>\n",
       "      <th></th>\n",
       "    </tr>\n",
       "  </thead>\n",
       "  <tbody>\n",
       "    <tr>\n",
       "      <th>Не женат / не замужем</th>\n",
       "      <td>273</td>\n",
       "      <td>2794</td>\n",
       "      <td>9.77</td>\n",
       "    </tr>\n",
       "    <tr>\n",
       "      <th>гражданский брак</th>\n",
       "      <td>386</td>\n",
       "      <td>4129</td>\n",
       "      <td>9.35</td>\n",
       "    </tr>\n",
       "    <tr>\n",
       "      <th>женат / замужем</th>\n",
       "      <td>927</td>\n",
       "      <td>12290</td>\n",
       "      <td>7.54</td>\n",
       "    </tr>\n",
       "    <tr>\n",
       "      <th>в разводе</th>\n",
       "      <td>85</td>\n",
       "      <td>1185</td>\n",
       "      <td>7.17</td>\n",
       "    </tr>\n",
       "    <tr>\n",
       "      <th>вдовец / вдова</th>\n",
       "      <td>62</td>\n",
       "      <td>954</td>\n",
       "      <td>6.50</td>\n",
       "    </tr>\n",
       "  </tbody>\n",
       "</table>\n",
       "</div>"
      ],
      "text/plain": [
       "                       debt  total     %\n",
       "family_status                           \n",
       "Не женат / не замужем   273   2794  9.77\n",
       "гражданский брак        386   4129  9.35\n",
       "женат / замужем         927  12290  7.54\n",
       "в разводе                85   1185  7.17\n",
       "вдовец / вдова           62    954  6.50"
      ]
     },
     "execution_count": 15,
     "metadata": {},
     "output_type": "execute_result"
    }
   ],
   "source": [
    "report_family_status"
   ]
  },
  {
   "cell_type": "markdown",
   "metadata": {},
   "source": [
    "Зависимость между ***уровнем дохода*** и возвратом кредита в срок"
   ]
  },
  {
   "cell_type": "code",
   "execution_count": 16,
   "metadata": {},
   "outputs": [
    {
     "data": {
      "text/html": [
       "<div>\n",
       "<style scoped>\n",
       "    .dataframe tbody tr th:only-of-type {\n",
       "        vertical-align: middle;\n",
       "    }\n",
       "\n",
       "    .dataframe tbody tr th {\n",
       "        vertical-align: top;\n",
       "    }\n",
       "\n",
       "    .dataframe thead th {\n",
       "        text-align: right;\n",
       "    }\n",
       "</style>\n",
       "<table border=\"1\" class=\"dataframe\">\n",
       "  <thead>\n",
       "    <tr style=\"text-align: right;\">\n",
       "      <th></th>\n",
       "      <th>debt</th>\n",
       "      <th>total</th>\n",
       "      <th>%</th>\n",
       "    </tr>\n",
       "    <tr>\n",
       "      <th>income</th>\n",
       "      <th></th>\n",
       "      <th></th>\n",
       "      <th></th>\n",
       "    </tr>\n",
       "  </thead>\n",
       "  <tbody>\n",
       "    <tr>\n",
       "      <th>средний доход</th>\n",
       "      <td>801</td>\n",
       "      <td>9476</td>\n",
       "      <td>8.45</td>\n",
       "    </tr>\n",
       "    <tr>\n",
       "      <th>высокий доход</th>\n",
       "      <td>796</td>\n",
       "      <td>10020</td>\n",
       "      <td>7.94</td>\n",
       "    </tr>\n",
       "    <tr>\n",
       "      <th>низкий доход</th>\n",
       "      <td>136</td>\n",
       "      <td>1856</td>\n",
       "      <td>7.33</td>\n",
       "    </tr>\n",
       "  </tbody>\n",
       "</table>\n",
       "</div>"
      ],
      "text/plain": [
       "               debt  total     %\n",
       "income                          \n",
       "средний доход   801   9476  8.45\n",
       "высокий доход   796  10020  7.94\n",
       "низкий доход    136   1856  7.33"
      ]
     },
     "execution_count": 16,
     "metadata": {},
     "output_type": "execute_result"
    }
   ],
   "source": [
    "report_income"
   ]
  },
  {
   "cell_type": "markdown",
   "metadata": {},
   "source": [
    "Зависимость между ***целью кредита*** и возвратом его в срок"
   ]
  },
  {
   "cell_type": "code",
   "execution_count": 17,
   "metadata": {},
   "outputs": [
    {
     "data": {
      "text/html": [
       "<div>\n",
       "<style scoped>\n",
       "    .dataframe tbody tr th:only-of-type {\n",
       "        vertical-align: middle;\n",
       "    }\n",
       "\n",
       "    .dataframe tbody tr th {\n",
       "        vertical-align: top;\n",
       "    }\n",
       "\n",
       "    .dataframe thead th {\n",
       "        text-align: right;\n",
       "    }\n",
       "</style>\n",
       "<table border=\"1\" class=\"dataframe\">\n",
       "  <thead>\n",
       "    <tr style=\"text-align: right;\">\n",
       "      <th></th>\n",
       "      <th>debt</th>\n",
       "      <th>total</th>\n",
       "      <th>%</th>\n",
       "    </tr>\n",
       "    <tr>\n",
       "      <th>purpose_lemmas</th>\n",
       "      <th></th>\n",
       "      <th></th>\n",
       "      <th></th>\n",
       "    </tr>\n",
       "  </thead>\n",
       "  <tbody>\n",
       "    <tr>\n",
       "      <th>автомобиль</th>\n",
       "      <td>400</td>\n",
       "      <td>4284</td>\n",
       "      <td>9.34</td>\n",
       "    </tr>\n",
       "    <tr>\n",
       "      <th>образование</th>\n",
       "      <td>370</td>\n",
       "      <td>3995</td>\n",
       "      <td>9.26</td>\n",
       "    </tr>\n",
       "    <tr>\n",
       "      <th>свадьба</th>\n",
       "      <td>184</td>\n",
       "      <td>2310</td>\n",
       "      <td>7.97</td>\n",
       "    </tr>\n",
       "    <tr>\n",
       "      <th>недвижимость</th>\n",
       "      <td>779</td>\n",
       "      <td>10763</td>\n",
       "      <td>7.24</td>\n",
       "    </tr>\n",
       "  </tbody>\n",
       "</table>\n",
       "</div>"
      ],
      "text/plain": [
       "                debt  total     %\n",
       "purpose_lemmas                   \n",
       "автомобиль       400   4284  9.34\n",
       "образование      370   3995  9.26\n",
       "свадьба          184   2310  7.97\n",
       "недвижимость     779  10763  7.24"
      ]
     },
     "execution_count": 17,
     "metadata": {},
     "output_type": "execute_result"
    }
   ],
   "source": [
    "report_purpose"
   ]
  }
 ],
 "metadata": {
  "ExecuteTimeLog": [
   {
    "duration": 666,
    "start_time": "2021-12-06T07:30:44.676Z"
   },
   {
    "duration": 70,
    "start_time": "2021-12-06T07:30:55.054Z"
   },
   {
    "duration": 58,
    "start_time": "2021-12-06T08:01:27.402Z"
   },
   {
    "duration": 368,
    "start_time": "2021-12-06T10:56:14.034Z"
   },
   {
    "duration": 318,
    "start_time": "2021-12-06T10:56:28.658Z"
   },
   {
    "duration": 56,
    "start_time": "2021-12-06T10:56:37.157Z"
   },
   {
    "duration": 65,
    "start_time": "2021-12-06T10:57:04.201Z"
   },
   {
    "duration": 56,
    "start_time": "2021-12-06T10:58:18.210Z"
   },
   {
    "duration": 66,
    "start_time": "2021-12-06T11:05:37.155Z"
   },
   {
    "duration": 68,
    "start_time": "2021-12-06T11:05:54.695Z"
   },
   {
    "duration": 664,
    "start_time": "2021-12-06T11:06:34.944Z"
   },
   {
    "duration": 62,
    "start_time": "2021-12-06T11:08:49.908Z"
   },
   {
    "duration": 10,
    "start_time": "2021-12-06T11:12:09.287Z"
   },
   {
    "duration": 5,
    "start_time": "2021-12-06T11:15:45.979Z"
   },
   {
    "duration": 451,
    "start_time": "2021-12-06T11:28:12.807Z"
   },
   {
    "duration": 5,
    "start_time": "2021-12-06T11:28:16.372Z"
   },
   {
    "duration": 6722,
    "start_time": "2021-12-06T11:28:45.611Z"
   },
   {
    "duration": 5,
    "start_time": "2021-12-06T11:29:28.818Z"
   },
   {
    "duration": 4,
    "start_time": "2021-12-06T11:30:08.844Z"
   },
   {
    "duration": 9,
    "start_time": "2021-12-06T14:53:49.127Z"
   },
   {
    "duration": 5,
    "start_time": "2021-12-06T15:03:30.276Z"
   },
   {
    "duration": 9,
    "start_time": "2021-12-06T15:03:47.797Z"
   },
   {
    "duration": 5,
    "start_time": "2021-12-06T15:04:00.982Z"
   },
   {
    "duration": 5,
    "start_time": "2021-12-06T15:04:08.959Z"
   },
   {
    "duration": 278,
    "start_time": "2021-12-06T15:05:03.272Z"
   },
   {
    "duration": 272,
    "start_time": "2021-12-06T15:05:16.949Z"
   },
   {
    "duration": 284,
    "start_time": "2021-12-06T15:05:26.688Z"
   },
   {
    "duration": 6,
    "start_time": "2021-12-06T15:05:44.402Z"
   },
   {
    "duration": 7407,
    "start_time": "2021-12-06T15:05:51.846Z"
   },
   {
    "duration": 3,
    "start_time": "2021-12-06T15:06:08.184Z"
   },
   {
    "duration": 4,
    "start_time": "2021-12-06T15:06:11.472Z"
   },
   {
    "duration": 11,
    "start_time": "2021-12-06T15:06:55.431Z"
   },
   {
    "duration": 69,
    "start_time": "2021-12-06T15:08:04.528Z"
   },
   {
    "duration": 58,
    "start_time": "2021-12-06T15:11:30.149Z"
   },
   {
    "duration": 11,
    "start_time": "2021-12-06T15:13:46.495Z"
   },
   {
    "duration": 10,
    "start_time": "2021-12-06T15:13:51.707Z"
   },
   {
    "duration": 750,
    "start_time": "2021-12-07T13:33:43.755Z"
   },
   {
    "duration": 64,
    "start_time": "2021-12-07T13:35:48.013Z"
   },
   {
    "duration": 65,
    "start_time": "2021-12-07T13:36:20.157Z"
   },
   {
    "duration": 73,
    "start_time": "2021-12-07T13:36:49.061Z"
   },
   {
    "duration": 77,
    "start_time": "2021-12-07T14:23:53.960Z"
   },
   {
    "duration": 6,
    "start_time": "2021-12-07T17:04:54.499Z"
   },
   {
    "duration": 1152,
    "start_time": "2021-12-07T18:50:18.749Z"
   },
   {
    "duration": 109,
    "start_time": "2021-12-07T18:50:35.180Z"
   },
   {
    "duration": 88,
    "start_time": "2021-12-07T18:51:11.585Z"
   },
   {
    "duration": 94,
    "start_time": "2021-12-07T18:51:26.213Z"
   },
   {
    "duration": 92,
    "start_time": "2021-12-07T18:51:31.114Z"
   },
   {
    "duration": 81,
    "start_time": "2021-12-07T18:51:41.716Z"
   },
   {
    "duration": 91,
    "start_time": "2021-12-07T18:51:47.210Z"
   },
   {
    "duration": 86,
    "start_time": "2021-12-07T18:51:55.633Z"
   },
   {
    "duration": 97,
    "start_time": "2021-12-07T18:55:47.749Z"
   },
   {
    "duration": 12,
    "start_time": "2021-12-07T18:56:54.485Z"
   },
   {
    "duration": 7209,
    "start_time": "2021-12-07T18:59:30.864Z"
   },
   {
    "duration": 7419,
    "start_time": "2021-12-07T19:00:17.141Z"
   },
   {
    "duration": 13,
    "start_time": "2021-12-07T19:03:17.244Z"
   },
   {
    "duration": 85,
    "start_time": "2021-12-07T19:04:53.376Z"
   },
   {
    "duration": 6,
    "start_time": "2021-12-07T19:08:05.890Z"
   },
   {
    "duration": 6,
    "start_time": "2021-12-07T19:09:18.926Z"
   },
   {
    "duration": 127,
    "start_time": "2021-12-07T19:15:51.018Z"
   },
   {
    "duration": 295,
    "start_time": "2021-12-07T19:17:01.295Z"
   },
   {
    "duration": 398,
    "start_time": "2021-12-07T19:17:25.926Z"
   },
   {
    "duration": 5,
    "start_time": "2021-12-07T19:17:30.529Z"
   },
   {
    "duration": 414,
    "start_time": "2021-12-07T19:17:44.729Z"
   },
   {
    "duration": 300,
    "start_time": "2021-12-07T19:17:56.201Z"
   },
   {
    "duration": 6,
    "start_time": "2021-12-07T19:18:08.954Z"
   },
   {
    "duration": 457,
    "start_time": "2021-12-07T19:18:37.781Z"
   },
   {
    "duration": 8,
    "start_time": "2021-12-07T19:19:02.730Z"
   },
   {
    "duration": 8,
    "start_time": "2021-12-07T19:22:14.238Z"
   },
   {
    "duration": 8,
    "start_time": "2021-12-07T19:22:25.171Z"
   },
   {
    "duration": 8,
    "start_time": "2021-12-07T19:22:26.948Z"
   },
   {
    "duration": 8,
    "start_time": "2021-12-07T19:23:27.093Z"
   },
   {
    "duration": 7,
    "start_time": "2021-12-07T19:24:17.289Z"
   },
   {
    "duration": 8,
    "start_time": "2021-12-07T19:24:23.117Z"
   },
   {
    "duration": 9,
    "start_time": "2021-12-07T19:25:22.060Z"
   },
   {
    "duration": 9,
    "start_time": "2021-12-07T19:25:31.997Z"
   },
   {
    "duration": 101,
    "start_time": "2021-12-07T19:32:27.503Z"
   },
   {
    "duration": 6,
    "start_time": "2021-12-07T19:42:39.952Z"
   },
   {
    "duration": 93,
    "start_time": "2021-12-07T20:03:32.425Z"
   },
   {
    "duration": 104,
    "start_time": "2021-12-07T20:09:00.891Z"
   },
   {
    "duration": 8,
    "start_time": "2021-12-07T20:09:17.305Z"
   },
   {
    "duration": 318,
    "start_time": "2021-12-08T07:33:47.756Z"
   },
   {
    "duration": 739,
    "start_time": "2021-12-08T07:34:00.379Z"
   },
   {
    "duration": 301,
    "start_time": "2021-12-08T07:34:05.717Z"
   },
   {
    "duration": 5,
    "start_time": "2021-12-08T07:34:45.465Z"
   },
   {
    "duration": 8,
    "start_time": "2021-12-08T07:36:13.045Z"
   },
   {
    "duration": 8,
    "start_time": "2021-12-08T07:36:42.604Z"
   },
   {
    "duration": 10,
    "start_time": "2021-12-08T07:52:34.741Z"
   },
   {
    "duration": 7,
    "start_time": "2021-12-08T07:53:48.309Z"
   },
   {
    "duration": 8,
    "start_time": "2021-12-08T07:59:16.317Z"
   },
   {
    "duration": 6,
    "start_time": "2021-12-08T07:59:22.420Z"
   },
   {
    "duration": 6,
    "start_time": "2021-12-08T08:00:07.277Z"
   },
   {
    "duration": 7,
    "start_time": "2021-12-08T08:00:13.252Z"
   },
   {
    "duration": 10,
    "start_time": "2021-12-08T11:18:14.554Z"
   },
   {
    "duration": 16,
    "start_time": "2021-12-08T11:23:43.934Z"
   },
   {
    "duration": 24,
    "start_time": "2021-12-08T11:27:53.931Z"
   },
   {
    "duration": 15,
    "start_time": "2021-12-08T11:48:59.279Z"
   },
   {
    "duration": 17,
    "start_time": "2021-12-08T11:49:09.729Z"
   },
   {
    "duration": 18,
    "start_time": "2021-12-08T11:52:15.752Z"
   },
   {
    "duration": 20,
    "start_time": "2021-12-08T11:57:42.486Z"
   },
   {
    "duration": 22,
    "start_time": "2021-12-08T12:07:21.409Z"
   },
   {
    "duration": 22,
    "start_time": "2021-12-08T12:07:47.083Z"
   },
   {
    "duration": 21,
    "start_time": "2021-12-08T12:09:04.951Z"
   },
   {
    "duration": 22,
    "start_time": "2021-12-08T12:09:13.080Z"
   },
   {
    "duration": 21,
    "start_time": "2021-12-08T12:11:11.443Z"
   },
   {
    "duration": 720,
    "start_time": "2021-12-08T12:12:49.580Z"
   },
   {
    "duration": 23,
    "start_time": "2021-12-08T12:13:13.382Z"
   },
   {
    "duration": 19,
    "start_time": "2021-12-08T12:21:01.977Z"
   },
   {
    "duration": 24,
    "start_time": "2021-12-08T12:21:51.061Z"
   },
   {
    "duration": 20,
    "start_time": "2021-12-08T12:33:51.755Z"
   },
   {
    "duration": 120,
    "start_time": "2021-12-08T12:36:56.621Z"
   },
   {
    "duration": 291,
    "start_time": "2021-12-08T12:37:03.987Z"
   },
   {
    "duration": 309,
    "start_time": "2021-12-08T12:37:24.916Z"
   },
   {
    "duration": 19,
    "start_time": "2021-12-08T12:38:25.976Z"
   },
   {
    "duration": 22,
    "start_time": "2021-12-08T13:47:51.601Z"
   },
   {
    "duration": 48,
    "start_time": "2021-12-08T13:49:16.095Z"
   },
   {
    "duration": 112,
    "start_time": "2021-12-08T13:50:24.497Z"
   },
   {
    "duration": 76,
    "start_time": "2021-12-08T13:51:22.227Z"
   },
   {
    "duration": 5,
    "start_time": "2021-12-08T13:52:29.471Z"
   },
   {
    "duration": 277,
    "start_time": "2021-12-08T13:52:44.340Z"
   },
   {
    "duration": 368,
    "start_time": "2021-12-08T13:53:31.359Z"
   },
   {
    "duration": 15,
    "start_time": "2021-12-08T13:54:45.188Z"
   },
   {
    "duration": 266,
    "start_time": "2021-12-08T13:55:30.225Z"
   },
   {
    "duration": 6,
    "start_time": "2021-12-08T14:02:33.957Z"
   },
   {
    "duration": 109,
    "start_time": "2021-12-09T14:26:05.109Z"
   },
   {
    "duration": 365,
    "start_time": "2021-12-09T14:26:11.786Z"
   },
   {
    "duration": 860,
    "start_time": "2021-12-09T14:26:22.398Z"
   },
   {
    "duration": 406,
    "start_time": "2021-12-09T14:26:27.079Z"
   },
   {
    "duration": 5586,
    "start_time": "2021-12-09T14:27:52.818Z"
   },
   {
    "duration": 111,
    "start_time": "2021-12-09T14:29:42.819Z"
   },
   {
    "duration": 102,
    "start_time": "2021-12-09T14:30:32.118Z"
   },
   {
    "duration": 110,
    "start_time": "2021-12-09T14:50:09.195Z"
   },
   {
    "duration": 109,
    "start_time": "2021-12-09T14:51:07.311Z"
   },
   {
    "duration": 400,
    "start_time": "2021-12-09T18:54:23.578Z"
   },
   {
    "duration": 624,
    "start_time": "2021-12-09T18:54:40.479Z"
   },
   {
    "duration": 62,
    "start_time": "2021-12-09T18:54:48.162Z"
   },
   {
    "duration": 55,
    "start_time": "2021-12-09T18:55:20.402Z"
   },
   {
    "duration": 31,
    "start_time": "2021-12-09T18:56:21.380Z"
   },
   {
    "duration": 31,
    "start_time": "2021-12-09T19:08:32.909Z"
   },
   {
    "duration": 69,
    "start_time": "2021-12-09T19:09:18.832Z"
   },
   {
    "duration": 34,
    "start_time": "2021-12-09T19:09:22.288Z"
   },
   {
    "duration": 35,
    "start_time": "2021-12-09T19:09:40.842Z"
   },
   {
    "duration": 272,
    "start_time": "2021-12-09T19:20:28.479Z"
   },
   {
    "duration": 37,
    "start_time": "2021-12-09T19:20:44.656Z"
   },
   {
    "duration": 35,
    "start_time": "2021-12-09T19:21:12.690Z"
   },
   {
    "duration": 34,
    "start_time": "2021-12-09T19:21:27.354Z"
   },
   {
    "duration": 33,
    "start_time": "2021-12-09T19:21:30.167Z"
   },
   {
    "duration": 33,
    "start_time": "2021-12-09T19:21:44.487Z"
   },
   {
    "duration": 34,
    "start_time": "2021-12-09T19:21:58.327Z"
   },
   {
    "duration": 35,
    "start_time": "2021-12-09T19:22:31.647Z"
   },
   {
    "duration": 36,
    "start_time": "2021-12-09T19:24:15.989Z"
   },
   {
    "duration": 34,
    "start_time": "2021-12-09T19:24:47.733Z"
   },
   {
    "duration": 34,
    "start_time": "2021-12-09T19:25:08.195Z"
   },
   {
    "duration": 69,
    "start_time": "2021-12-09T19:25:22.104Z"
   },
   {
    "duration": 38,
    "start_time": "2021-12-09T19:25:26.023Z"
   },
   {
    "duration": 33,
    "start_time": "2021-12-09T19:25:30.154Z"
   },
   {
    "duration": 35,
    "start_time": "2021-12-09T19:25:45.369Z"
   },
   {
    "duration": 33,
    "start_time": "2021-12-09T19:25:52.538Z"
   },
   {
    "duration": 34,
    "start_time": "2021-12-09T19:26:03.472Z"
   },
   {
    "duration": 263,
    "start_time": "2021-12-09T19:26:16.438Z"
   },
   {
    "duration": 1283,
    "start_time": "2021-12-09T19:26:20.979Z"
   },
   {
    "duration": 42,
    "start_time": "2021-12-09T19:26:26.308Z"
   },
   {
    "duration": 38,
    "start_time": "2021-12-09T19:26:43.288Z"
   },
   {
    "duration": 62,
    "start_time": "2021-12-09T19:26:52.971Z"
   },
   {
    "duration": 46,
    "start_time": "2021-12-09T19:27:07.256Z"
   },
   {
    "duration": 70,
    "start_time": "2021-12-09T19:27:12.555Z"
   },
   {
    "duration": 37,
    "start_time": "2021-12-09T19:27:15.596Z"
   },
   {
    "duration": 881,
    "start_time": "2021-12-11T14:49:46.787Z"
   },
   {
    "duration": 67,
    "start_time": "2021-12-11T14:49:51.217Z"
   },
   {
    "duration": 9,
    "start_time": "2021-12-11T14:49:56.868Z"
   },
   {
    "duration": 100,
    "start_time": "2021-12-11T15:02:04.254Z"
   },
   {
    "duration": 855,
    "start_time": "2021-12-11T15:17:27.317Z"
   },
   {
    "duration": 13,
    "start_time": "2021-12-11T15:26:05.615Z"
   },
   {
    "duration": 14,
    "start_time": "2021-12-11T15:29:58.639Z"
   },
   {
    "duration": 17,
    "start_time": "2021-12-11T15:30:14.900Z"
   },
   {
    "duration": 17,
    "start_time": "2021-12-11T15:30:30.846Z"
   },
   {
    "duration": 22,
    "start_time": "2021-12-11T15:30:47.187Z"
   },
   {
    "duration": 38,
    "start_time": "2021-12-11T15:48:21.766Z"
   },
   {
    "duration": 47,
    "start_time": "2021-12-11T15:48:44.039Z"
   },
   {
    "duration": 54,
    "start_time": "2021-12-11T15:49:12.878Z"
   },
   {
    "duration": 50,
    "start_time": "2021-12-11T16:07:07.361Z"
   },
   {
    "duration": 50,
    "start_time": "2021-12-11T16:07:45.489Z"
   },
   {
    "duration": 36,
    "start_time": "2021-12-11T16:07:57.845Z"
   },
   {
    "duration": 52,
    "start_time": "2021-12-11T16:08:10.035Z"
   },
   {
    "duration": 36,
    "start_time": "2021-12-11T16:08:49.096Z"
   },
   {
    "duration": 34,
    "start_time": "2021-12-11T16:09:58.879Z"
   },
   {
    "duration": 893,
    "start_time": "2021-12-11T16:25:54.227Z"
   },
   {
    "duration": 823,
    "start_time": "2021-12-11T16:27:16.058Z"
   },
   {
    "duration": 293,
    "start_time": "2021-12-11T16:33:28.225Z"
   },
   {
    "duration": 101,
    "start_time": "2021-12-11T16:33:28.521Z"
   },
   {
    "duration": 519,
    "start_time": "2021-12-11T16:34:02.259Z"
   },
   {
    "duration": 88,
    "start_time": "2021-12-11T16:34:08.894Z"
   },
   {
    "duration": 608,
    "start_time": "2021-12-11T16:34:15.711Z"
   },
   {
    "duration": 645,
    "start_time": "2021-12-11T16:34:29.635Z"
   },
   {
    "duration": 516,
    "start_time": "2021-12-11T16:34:43.057Z"
   },
   {
    "duration": 499,
    "start_time": "2021-12-11T16:35:34.599Z"
   },
   {
    "duration": 500,
    "start_time": "2021-12-11T16:36:04.046Z"
   },
   {
    "duration": 510,
    "start_time": "2021-12-11T16:36:24.479Z"
   },
   {
    "duration": 499,
    "start_time": "2021-12-11T16:40:35.769Z"
   },
   {
    "duration": 507,
    "start_time": "2021-12-11T16:41:52.592Z"
   },
   {
    "duration": 513,
    "start_time": "2021-12-11T16:42:11.424Z"
   },
   {
    "duration": 512,
    "start_time": "2021-12-11T16:43:00.005Z"
   },
   {
    "duration": 498,
    "start_time": "2021-12-11T16:43:44.843Z"
   },
   {
    "duration": 501,
    "start_time": "2021-12-11T16:50:19.674Z"
   },
   {
    "duration": 543,
    "start_time": "2021-12-11T16:50:39.039Z"
   },
   {
    "duration": 526,
    "start_time": "2021-12-11T16:56:36.135Z"
   },
   {
    "duration": 512,
    "start_time": "2021-12-11T16:57:57.557Z"
   },
   {
    "duration": 507,
    "start_time": "2021-12-11T16:58:32.544Z"
   },
   {
    "duration": 505,
    "start_time": "2021-12-11T16:58:42.151Z"
   },
   {
    "duration": 518,
    "start_time": "2021-12-11T17:01:54.735Z"
   },
   {
    "duration": 517,
    "start_time": "2021-12-11T17:02:30.395Z"
   },
   {
    "duration": 525,
    "start_time": "2021-12-11T17:02:51.307Z"
   },
   {
    "duration": 528,
    "start_time": "2021-12-11T17:03:26.710Z"
   },
   {
    "duration": 505,
    "start_time": "2021-12-11T17:04:04.044Z"
   },
   {
    "duration": 512,
    "start_time": "2021-12-11T17:04:24.752Z"
   },
   {
    "duration": 516,
    "start_time": "2021-12-11T17:05:14.368Z"
   },
   {
    "duration": 521,
    "start_time": "2021-12-11T17:08:14.078Z"
   },
   {
    "duration": 536,
    "start_time": "2021-12-11T17:10:04.032Z"
   },
   {
    "duration": 511,
    "start_time": "2021-12-11T17:10:13.443Z"
   },
   {
    "duration": 543,
    "start_time": "2021-12-11T17:11:04.458Z"
   },
   {
    "duration": 543,
    "start_time": "2021-12-11T17:11:06.620Z"
   },
   {
    "duration": 584,
    "start_time": "2021-12-12T10:11:10.686Z"
   },
   {
    "duration": 976,
    "start_time": "2021-12-12T10:11:17.896Z"
   },
   {
    "duration": 930,
    "start_time": "2021-12-12T10:11:22.389Z"
   },
   {
    "duration": 857,
    "start_time": "2021-12-12T10:11:33.084Z"
   },
   {
    "duration": 835,
    "start_time": "2021-12-12T10:12:15.560Z"
   },
   {
    "duration": 876,
    "start_time": "2021-12-12T10:12:32.569Z"
   },
   {
    "duration": 883,
    "start_time": "2021-12-12T10:12:36.990Z"
   },
   {
    "duration": 650,
    "start_time": "2021-12-12T10:12:47.953Z"
   },
   {
    "duration": 510,
    "start_time": "2021-12-12T10:53:42.008Z"
   },
   {
    "duration": 495,
    "start_time": "2021-12-12T10:55:26.314Z"
   },
   {
    "duration": 472,
    "start_time": "2021-12-12T10:55:56.269Z"
   },
   {
    "duration": 528,
    "start_time": "2021-12-12T10:56:11.395Z"
   },
   {
    "duration": 493,
    "start_time": "2021-12-12T10:59:08.630Z"
   },
   {
    "duration": 482,
    "start_time": "2021-12-12T10:59:17.507Z"
   },
   {
    "duration": 3,
    "start_time": "2021-12-12T11:01:58.280Z"
   },
   {
    "duration": 6,
    "start_time": "2021-12-12T11:17:14.764Z"
   },
   {
    "duration": 25,
    "start_time": "2021-12-12T11:17:37.395Z"
   },
   {
    "duration": 18,
    "start_time": "2021-12-12T11:21:33.353Z"
   },
   {
    "duration": 6,
    "start_time": "2021-12-12T11:24:54.021Z"
   },
   {
    "duration": 39,
    "start_time": "2021-12-12T11:36:19.111Z"
   },
   {
    "duration": 37,
    "start_time": "2021-12-12T11:36:20.327Z"
   },
   {
    "duration": 38,
    "start_time": "2021-12-12T11:36:21.124Z"
   },
   {
    "duration": 43,
    "start_time": "2021-12-12T11:36:34.342Z"
   },
   {
    "duration": 21,
    "start_time": "2021-12-12T11:46:39.095Z"
   },
   {
    "duration": 19,
    "start_time": "2021-12-12T11:46:59.423Z"
   },
   {
    "duration": 15,
    "start_time": "2021-12-12T11:47:10.527Z"
   },
   {
    "duration": 393,
    "start_time": "2021-12-12T11:48:58.659Z"
   },
   {
    "duration": 22,
    "start_time": "2021-12-12T11:49:08.552Z"
   },
   {
    "duration": 21,
    "start_time": "2021-12-12T12:07:37.418Z"
   },
   {
    "duration": 21,
    "start_time": "2021-12-12T12:08:54.631Z"
   },
   {
    "duration": 703,
    "start_time": "2021-12-12T12:18:58.452Z"
   },
   {
    "duration": 317,
    "start_time": "2021-12-12T12:19:09.049Z"
   },
   {
    "duration": 22,
    "start_time": "2021-12-12T12:19:22.928Z"
   },
   {
    "duration": 294,
    "start_time": "2021-12-12T12:19:46.017Z"
   },
   {
    "duration": 33,
    "start_time": "2021-12-12T12:20:19.289Z"
   },
   {
    "duration": 66,
    "start_time": "2021-12-12T12:21:16.612Z"
   },
   {
    "duration": 71,
    "start_time": "2021-12-12T12:24:27.447Z"
   },
   {
    "duration": 75,
    "start_time": "2021-12-12T12:24:38.620Z"
   },
   {
    "duration": 75,
    "start_time": "2021-12-12T12:24:40.129Z"
   },
   {
    "duration": 52,
    "start_time": "2021-12-12T12:26:18.280Z"
   },
   {
    "duration": 278,
    "start_time": "2021-12-12T13:09:11.198Z"
   },
   {
    "duration": 295,
    "start_time": "2021-12-12T13:19:47.600Z"
   },
   {
    "duration": 437,
    "start_time": "2021-12-12T13:20:01.936Z"
   },
   {
    "duration": 263,
    "start_time": "2021-12-12T13:21:44.039Z"
   },
   {
    "duration": 273,
    "start_time": "2021-12-12T13:22:23.503Z"
   },
   {
    "duration": 319,
    "start_time": "2021-12-12T13:26:50.210Z"
   },
   {
    "duration": 7,
    "start_time": "2021-12-12T13:31:58.614Z"
   },
   {
    "duration": 9,
    "start_time": "2021-12-12T13:32:07.058Z"
   },
   {
    "duration": 301,
    "start_time": "2021-12-12T13:39:09.059Z"
   },
   {
    "duration": 10,
    "start_time": "2021-12-12T13:41:37.157Z"
   },
   {
    "duration": 9,
    "start_time": "2021-12-12T13:49:12.145Z"
   },
   {
    "duration": 282,
    "start_time": "2021-12-12T13:49:15.153Z"
   },
   {
    "duration": 9,
    "start_time": "2021-12-12T13:49:23.201Z"
   },
   {
    "duration": 6,
    "start_time": "2021-12-12T13:50:00.336Z"
   },
   {
    "duration": 10,
    "start_time": "2021-12-12T13:50:08.377Z"
   },
   {
    "duration": 9,
    "start_time": "2021-12-12T13:51:39.584Z"
   },
   {
    "duration": 874,
    "start_time": "2021-12-12T13:52:22.356Z"
   },
   {
    "duration": 890,
    "start_time": "2021-12-12T13:52:27.635Z"
   },
   {
    "duration": 884,
    "start_time": "2021-12-12T13:53:02.960Z"
   },
   {
    "duration": 2240,
    "start_time": "2021-12-12T13:58:58.213Z"
   },
   {
    "duration": 2186,
    "start_time": "2021-12-12T14:39:30.712Z"
   },
   {
    "duration": 6231,
    "start_time": "2021-12-12T14:39:55.862Z"
   },
   {
    "duration": 6056,
    "start_time": "2021-12-12T14:40:50.198Z"
   },
   {
    "duration": 5998,
    "start_time": "2021-12-12T14:41:46.562Z"
   },
   {
    "duration": 6622,
    "start_time": "2021-12-12T14:43:27.778Z"
   },
   {
    "duration": 6717,
    "start_time": "2021-12-12T15:07:07.011Z"
   },
   {
    "duration": 11,
    "start_time": "2021-12-12T15:42:06.297Z"
   },
   {
    "duration": 321,
    "start_time": "2021-12-12T15:53:44.321Z"
   },
   {
    "duration": 14,
    "start_time": "2021-12-12T15:53:53.831Z"
   },
   {
    "duration": 21,
    "start_time": "2021-12-12T15:56:07.977Z"
   },
   {
    "duration": 22,
    "start_time": "2021-12-12T15:56:36.942Z"
   },
   {
    "duration": 8,
    "start_time": "2021-12-12T16:05:42.971Z"
   },
   {
    "duration": 7,
    "start_time": "2021-12-12T16:05:52.793Z"
   },
   {
    "duration": 11,
    "start_time": "2021-12-12T16:09:41.788Z"
   },
   {
    "duration": 7,
    "start_time": "2021-12-12T16:09:58.931Z"
   },
   {
    "duration": 8,
    "start_time": "2021-12-12T16:10:11.326Z"
   },
   {
    "duration": 8,
    "start_time": "2021-12-12T16:10:24.511Z"
   },
   {
    "duration": 9,
    "start_time": "2021-12-12T16:10:37.806Z"
   },
   {
    "duration": 7,
    "start_time": "2021-12-12T16:11:12.605Z"
   },
   {
    "duration": 9,
    "start_time": "2021-12-12T16:11:28.854Z"
   },
   {
    "duration": 7,
    "start_time": "2021-12-12T16:19:05.409Z"
   },
   {
    "duration": 10,
    "start_time": "2021-12-12T16:19:14.418Z"
   },
   {
    "duration": 8,
    "start_time": "2021-12-12T16:19:27.936Z"
   },
   {
    "duration": 7,
    "start_time": "2021-12-12T16:19:39.821Z"
   },
   {
    "duration": 11,
    "start_time": "2021-12-12T16:21:07.598Z"
   },
   {
    "duration": 11,
    "start_time": "2021-12-12T16:46:54.551Z"
   },
   {
    "duration": 11,
    "start_time": "2021-12-12T16:47:14.760Z"
   },
   {
    "duration": 10,
    "start_time": "2021-12-12T16:47:27.073Z"
   },
   {
    "duration": 8,
    "start_time": "2021-12-12T16:49:48.713Z"
   },
   {
    "duration": 8,
    "start_time": "2021-12-12T18:11:26.475Z"
   },
   {
    "duration": 430,
    "start_time": "2021-12-12T18:12:34.630Z"
   },
   {
    "duration": 10,
    "start_time": "2021-12-12T18:12:40.689Z"
   },
   {
    "duration": 1346,
    "start_time": "2021-12-12T18:22:23.797Z"
   },
   {
    "duration": 1475,
    "start_time": "2021-12-12T18:25:48.121Z"
   },
   {
    "duration": 8,
    "start_time": "2021-12-12T18:27:48.738Z"
   },
   {
    "duration": 1567,
    "start_time": "2021-12-12T18:27:58.865Z"
   },
   {
    "duration": 24,
    "start_time": "2021-12-12T18:29:15.297Z"
   },
   {
    "duration": 24,
    "start_time": "2021-12-12T18:29:22.843Z"
   },
   {
    "duration": 23,
    "start_time": "2021-12-12T18:29:55.542Z"
   },
   {
    "duration": 34,
    "start_time": "2021-12-12T18:32:23.060Z"
   },
   {
    "duration": 33,
    "start_time": "2021-12-12T18:32:44.136Z"
   },
   {
    "duration": 42,
    "start_time": "2021-12-12T18:33:00.596Z"
   },
   {
    "duration": 46,
    "start_time": "2021-12-12T18:33:29.111Z"
   },
   {
    "duration": 37,
    "start_time": "2021-12-12T18:40:20.593Z"
   },
   {
    "duration": 36,
    "start_time": "2021-12-12T18:40:42.129Z"
   },
   {
    "duration": 37,
    "start_time": "2021-12-12T18:42:41.841Z"
   },
   {
    "duration": 37,
    "start_time": "2021-12-12T18:43:43.253Z"
   },
   {
    "duration": 38,
    "start_time": "2021-12-12T18:44:15.757Z"
   },
   {
    "duration": 87,
    "start_time": "2021-12-12T18:50:25.749Z"
   },
   {
    "duration": 36,
    "start_time": "2021-12-12T18:50:36.943Z"
   },
   {
    "duration": 42,
    "start_time": "2021-12-12T18:50:58.184Z"
   },
   {
    "duration": 85,
    "start_time": "2021-12-12T18:51:06.863Z"
   },
   {
    "duration": 481,
    "start_time": "2021-12-12T18:51:12.642Z"
   },
   {
    "duration": 17,
    "start_time": "2021-12-12T18:51:18.558Z"
   },
   {
    "duration": 55,
    "start_time": "2021-12-12T18:51:22.293Z"
   },
   {
    "duration": 6291,
    "start_time": "2021-12-12T18:51:24.552Z"
   },
   {
    "duration": 31,
    "start_time": "2021-12-12T18:51:36.007Z"
   },
   {
    "duration": 36,
    "start_time": "2021-12-12T18:52:14.655Z"
   },
   {
    "duration": 36,
    "start_time": "2021-12-12T18:52:32.180Z"
   },
   {
    "duration": 31,
    "start_time": "2021-12-12T18:52:54.437Z"
   },
   {
    "duration": 366,
    "start_time": "2021-12-12T19:15:46.839Z"
   },
   {
    "duration": 46,
    "start_time": "2021-12-12T19:15:58.059Z"
   },
   {
    "duration": 40,
    "start_time": "2021-12-12T19:16:54.389Z"
   },
   {
    "duration": 37,
    "start_time": "2021-12-12T19:17:58.792Z"
   },
   {
    "duration": 45,
    "start_time": "2021-12-12T19:19:22.260Z"
   },
   {
    "duration": 92,
    "start_time": "2021-12-12T19:26:43.839Z"
   },
   {
    "duration": 11,
    "start_time": "2021-12-12T19:27:02.334Z"
   },
   {
    "duration": 17,
    "start_time": "2021-12-12T19:27:13.294Z"
   },
   {
    "duration": 16,
    "start_time": "2021-12-12T19:28:04.019Z"
   },
   {
    "duration": 41,
    "start_time": "2021-12-12T19:30:19.921Z"
   },
   {
    "duration": 48,
    "start_time": "2021-12-12T19:30:45.206Z"
   },
   {
    "duration": 20,
    "start_time": "2021-12-12T19:34:07.581Z"
   },
   {
    "duration": 18,
    "start_time": "2021-12-12T19:34:28.901Z"
   },
   {
    "duration": 17,
    "start_time": "2021-12-12T19:35:18.493Z"
   },
   {
    "duration": 18,
    "start_time": "2021-12-12T19:35:32.979Z"
   },
   {
    "duration": 66,
    "start_time": "2021-12-12T19:45:50.466Z"
   },
   {
    "duration": 50,
    "start_time": "2021-12-12T19:47:13.164Z"
   },
   {
    "duration": 53,
    "start_time": "2021-12-12T19:48:13.655Z"
   },
   {
    "duration": 46,
    "start_time": "2021-12-12T19:48:56.641Z"
   },
   {
    "duration": 88,
    "start_time": "2021-12-12T20:16:47.082Z"
   },
   {
    "duration": 820,
    "start_time": "2021-12-12T20:17:00.837Z"
   },
   {
    "duration": 511,
    "start_time": "2021-12-12T20:17:05.645Z"
   },
   {
    "duration": 18,
    "start_time": "2021-12-12T20:17:18.485Z"
   },
   {
    "duration": 54,
    "start_time": "2021-12-12T20:17:26.357Z"
   },
   {
    "duration": 5937,
    "start_time": "2021-12-12T20:17:33.262Z"
   },
   {
    "duration": 33,
    "start_time": "2021-12-12T20:17:54.144Z"
   },
   {
    "duration": 50,
    "start_time": "2021-12-12T20:18:14.928Z"
   },
   {
    "duration": 49,
    "start_time": "2021-12-12T20:18:17.848Z"
   },
   {
    "duration": 50,
    "start_time": "2021-12-12T20:18:20.687Z"
   },
   {
    "duration": 49,
    "start_time": "2021-12-12T20:18:23.657Z"
   },
   {
    "duration": 1021,
    "start_time": "2021-12-13T16:16:07.836Z"
   },
   {
    "duration": 505,
    "start_time": "2021-12-13T16:16:08.859Z"
   },
   {
    "duration": 22,
    "start_time": "2021-12-13T16:16:09.366Z"
   },
   {
    "duration": 40,
    "start_time": "2021-12-13T16:16:09.391Z"
   },
   {
    "duration": 5102,
    "start_time": "2021-12-13T16:16:09.433Z"
   },
   {
    "duration": 19,
    "start_time": "2021-12-13T16:16:14.538Z"
   },
   {
    "duration": 46,
    "start_time": "2021-12-13T16:16:14.559Z"
   },
   {
    "duration": 30,
    "start_time": "2021-12-13T16:16:14.608Z"
   },
   {
    "duration": 51,
    "start_time": "2021-12-13T16:16:14.640Z"
   },
   {
    "duration": 31,
    "start_time": "2021-12-13T16:16:14.693Z"
   },
   {
    "duration": 31,
    "start_time": "2021-12-13T16:16:30.361Z"
   },
   {
    "duration": 8,
    "start_time": "2021-12-13T16:26:10.186Z"
   },
   {
    "duration": 85,
    "start_time": "2021-12-14T13:18:01.450Z"
   },
   {
    "duration": 4,
    "start_time": "2021-12-14T13:21:11.077Z"
   },
   {
    "duration": 944,
    "start_time": "2021-12-14T13:50:40.131Z"
   },
   {
    "duration": 84,
    "start_time": "2021-12-14T13:50:45.694Z"
   },
   {
    "duration": 47,
    "start_time": "2021-12-14T14:26:13.489Z"
   },
   {
    "duration": 30,
    "start_time": "2021-12-14T14:26:31.946Z"
   },
   {
    "duration": 10,
    "start_time": "2021-12-14T14:27:02.754Z"
   },
   {
    "duration": 30,
    "start_time": "2021-12-14T14:27:06.378Z"
   },
   {
    "duration": 97,
    "start_time": "2021-12-14T18:26:03.540Z"
   },
   {
    "duration": 981,
    "start_time": "2021-12-14T18:52:10.304Z"
   },
   {
    "duration": 68,
    "start_time": "2021-12-14T18:52:26.406Z"
   },
   {
    "duration": 83,
    "start_time": "2021-12-14T18:52:54.328Z"
   },
   {
    "duration": 7279,
    "start_time": "2021-12-14T18:55:23.661Z"
   },
   {
    "duration": 85,
    "start_time": "2021-12-14T18:55:49.018Z"
   },
   {
    "duration": 75,
    "start_time": "2021-12-14T18:55:52.091Z"
   },
   {
    "duration": 87,
    "start_time": "2021-12-14T18:56:29.368Z"
   },
   {
    "duration": 82,
    "start_time": "2021-12-14T18:57:10.777Z"
   },
   {
    "duration": 409,
    "start_time": "2021-12-14T18:58:05.242Z"
   },
   {
    "duration": 363,
    "start_time": "2021-12-14T18:58:19.372Z"
   },
   {
    "duration": 4579,
    "start_time": "2021-12-14T19:05:35.550Z"
   },
   {
    "duration": 382,
    "start_time": "2021-12-14T19:06:38.080Z"
   },
   {
    "duration": 316,
    "start_time": "2021-12-14T19:06:43.297Z"
   },
   {
    "duration": 14,
    "start_time": "2021-12-14T19:06:48.015Z"
   },
   {
    "duration": 44,
    "start_time": "2021-12-14T19:06:51.980Z"
   },
   {
    "duration": 4215,
    "start_time": "2021-12-14T19:06:56.549Z"
   },
   {
    "duration": 4116,
    "start_time": "2021-12-14T19:11:51.339Z"
   },
   {
    "duration": 3596,
    "start_time": "2021-12-14T19:13:44.670Z"
   },
   {
    "duration": 3578,
    "start_time": "2021-12-14T19:14:33.597Z"
   },
   {
    "duration": 3725,
    "start_time": "2021-12-14T19:42:18.394Z"
   },
   {
    "duration": 3818,
    "start_time": "2021-12-14T19:42:32.737Z"
   },
   {
    "duration": 398,
    "start_time": "2021-12-14T19:49:37.468Z"
   },
   {
    "duration": 83,
    "start_time": "2021-12-14T19:50:30.492Z"
   },
   {
    "duration": 308,
    "start_time": "2021-12-14T19:50:34.292Z"
   },
   {
    "duration": 14,
    "start_time": "2021-12-14T19:50:44.883Z"
   },
   {
    "duration": 39,
    "start_time": "2021-12-14T19:50:48.138Z"
   },
   {
    "duration": 4384,
    "start_time": "2021-12-14T19:50:50.833Z"
   },
   {
    "duration": 22,
    "start_time": "2021-12-14T19:50:59.035Z"
   },
   {
    "duration": 33,
    "start_time": "2021-12-14T19:51:05.314Z"
   },
   {
    "duration": 35,
    "start_time": "2021-12-14T19:51:10.363Z"
   },
   {
    "duration": 34,
    "start_time": "2021-12-14T19:51:13.014Z"
   },
   {
    "duration": 90,
    "start_time": "2021-12-14T20:04:11.353Z"
   },
   {
    "duration": 355,
    "start_time": "2021-12-15T12:03:09.422Z"
   },
   {
    "duration": 850,
    "start_time": "2021-12-15T12:03:26.207Z"
   },
   {
    "duration": 472,
    "start_time": "2021-12-15T12:03:32.627Z"
   },
   {
    "duration": 17,
    "start_time": "2021-12-15T12:03:41.798Z"
   },
   {
    "duration": 55,
    "start_time": "2021-12-15T12:03:45.364Z"
   },
   {
    "duration": 6109,
    "start_time": "2021-12-15T12:03:48.994Z"
   },
   {
    "duration": 57,
    "start_time": "2021-12-15T12:03:59.647Z"
   },
   {
    "duration": 11,
    "start_time": "2021-12-15T12:04:25.255Z"
   },
   {
    "duration": 50,
    "start_time": "2021-12-15T12:04:32.601Z"
   },
   {
    "duration": 49,
    "start_time": "2021-12-15T12:04:35.774Z"
   },
   {
    "duration": 50,
    "start_time": "2021-12-15T12:04:40.205Z"
   },
   {
    "duration": 45,
    "start_time": "2021-12-15T12:04:43.574Z"
   },
   {
    "duration": 415,
    "start_time": "2021-12-15T12:50:01.379Z"
   },
   {
    "duration": 50,
    "start_time": "2021-12-15T12:50:07.771Z"
   },
   {
    "duration": 55,
    "start_time": "2021-12-15T12:52:01.908Z"
   },
   {
    "duration": 89,
    "start_time": "2021-12-15T13:56:32.633Z"
   },
   {
    "duration": 287,
    "start_time": "2021-12-16T09:56:32.255Z"
   },
   {
    "duration": 766,
    "start_time": "2021-12-16T10:01:36.184Z"
   },
   {
    "duration": 473,
    "start_time": "2021-12-16T10:01:57.215Z"
   },
   {
    "duration": 13,
    "start_time": "2021-12-16T10:02:08.393Z"
   },
   {
    "duration": 40,
    "start_time": "2021-12-16T10:02:11.521Z"
   },
   {
    "duration": 4718,
    "start_time": "2021-12-16T10:02:14.458Z"
   },
   {
    "duration": 40,
    "start_time": "2021-12-16T10:02:21.940Z"
   },
   {
    "duration": 10,
    "start_time": "2021-12-16T10:02:27.368Z"
   },
   {
    "duration": 46,
    "start_time": "2021-12-16T10:02:32.579Z"
   },
   {
    "duration": 47,
    "start_time": "2021-12-16T10:02:36.722Z"
   },
   {
    "duration": 41,
    "start_time": "2021-12-16T10:02:44.417Z"
   },
   {
    "duration": 30,
    "start_time": "2021-12-16T10:02:50.140Z"
   },
   {
    "duration": 6,
    "start_time": "2021-12-16T10:04:06.902Z"
   },
   {
    "duration": 7,
    "start_time": "2021-12-16T10:04:12.133Z"
   },
   {
    "duration": 7,
    "start_time": "2021-12-16T10:04:15.519Z"
   },
   {
    "duration": 8,
    "start_time": "2021-12-16T10:04:18.578Z"
   }
  ],
  "kernelspec": {
   "display_name": "Python 3",
   "language": "python",
   "name": "python3"
  },
  "language_info": {
   "codemirror_mode": {
    "name": "ipython",
    "version": 3
   },
   "file_extension": ".py",
   "mimetype": "text/x-python",
   "name": "python",
   "nbconvert_exporter": "python",
   "pygments_lexer": "ipython3",
   "version": "3.8.8"
  },
  "toc": {
   "base_numbering": 1,
   "nav_menu": {},
   "number_sections": true,
   "sideBar": true,
   "skip_h1_title": true,
   "title_cell": "Table of Contents",
   "title_sidebar": "Contents",
   "toc_cell": false,
   "toc_position": {},
   "toc_section_display": true,
   "toc_window_display": true
  }
 },
 "nbformat": 4,
 "nbformat_minor": 2
}
