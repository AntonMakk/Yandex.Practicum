{
 "cells": [
  {
   "cell_type": "markdown",
   "metadata": {
    "toc": true
   },
   "source": [
    "<h1>Содержание<span class=\"tocSkip\"></span></h1>\n",
    "<div class=\"toc\"><ul class=\"toc-item\"><li><span><a href=\"#Откроем-файл-с-данными-и-изучим-общую-информацию\" data-toc-modified-id=\"Откроем-файл-с-данными-и-изучим-общую-информацию-1\"><span class=\"toc-item-num\">1&nbsp;&nbsp;</span>Откроем файл с данными и изучим общую информацию</a></span></li><li><span><a href=\"#Подготовим-данные\" data-toc-modified-id=\"Подготовим-данные-2\"><span class=\"toc-item-num\">2&nbsp;&nbsp;</span>Подготовим данные</a></span><ul class=\"toc-item\"><li><span><a href=\"#Заменим-названия-столбцов-(приведем-к-нижнему-регистру)\" data-toc-modified-id=\"Заменим-названия-столбцов-(приведем-к-нижнему-регистру)-2.1\"><span class=\"toc-item-num\">2.1&nbsp;&nbsp;</span>Заменим названия столбцов (приведем к нижнему регистру)</a></span></li><li><span><a href=\"#Преобразуем-данные-в-нужные-типы\" data-toc-modified-id=\"Преобразуем-данные-в-нужные-типы-2.2\"><span class=\"toc-item-num\">2.2&nbsp;&nbsp;</span>Преобразуем данные в нужные типы</a></span></li><li><span><a href=\"#Обработаем-пропуски\" data-toc-modified-id=\"Обработаем-пропуски-2.3\"><span class=\"toc-item-num\">2.3&nbsp;&nbsp;</span>Обработаем пропуски</a></span></li><li><span><a href=\"#Посчитаем-суммарные-продажи-во-всех-регионах-и-запишем-их-в-отдельный-столбец.\" data-toc-modified-id=\"Посчитаем-суммарные-продажи-во-всех-регионах-и-запишем-их-в-отдельный-столбец.-2.4\"><span class=\"toc-item-num\">2.4&nbsp;&nbsp;</span>Посчитаем суммарные продажи во всех регионах и запишем их в отдельный столбец.</a></span></li><li><span><a href=\"#Вывод\" data-toc-modified-id=\"Вывод-2.5\"><span class=\"toc-item-num\">2.5&nbsp;&nbsp;</span>Вывод</a></span></li></ul></li><li><span><a href=\"#Проведем-исследовательский-анализ-данных\" data-toc-modified-id=\"Проведем-исследовательский-анализ-данных-3\"><span class=\"toc-item-num\">3&nbsp;&nbsp;</span>Проведем исследовательский анализ данных</a></span><ul class=\"toc-item\"><li><span><a href=\"#Посмотрим,-сколько-игр-выпускалось-в-разные-годы.\" data-toc-modified-id=\"Посмотрим,-сколько-игр-выпускалось-в-разные-годы.-3.1\"><span class=\"toc-item-num\">3.1&nbsp;&nbsp;</span>Посмотрим, сколько игр выпускалось в разные годы.</a></span></li><li><span><a href=\"#Посмотрим,-как-менялись-продажи-по-платформам.-Выберем-платформы-с-наибольшими-суммарными-продажами-и-построим-распределение-по-годам.-Рассмотрим-за-какой-характерный-срок-появляются-новые-и-исчезают-старые-платформы\" data-toc-modified-id=\"Посмотрим,-как-менялись-продажи-по-платформам.-Выберем-платформы-с-наибольшими-суммарными-продажами-и-построим-распределение-по-годам.-Рассмотрим-за-какой-характерный-срок-появляются-новые-и-исчезают-старые-платформы-3.2\"><span class=\"toc-item-num\">3.2&nbsp;&nbsp;</span>Посмотрим, как менялись продажи по платформам. Выберем платформы с наибольшими суммарными продажами и построим распределение по годам. Рассмотрим за какой характерный срок появляются новые и исчезают старые платформы</a></span><ul class=\"toc-item\"><li><span><a href=\"#Выберем-10-платформ-с-наибольшими-суммарными-продажами\" data-toc-modified-id=\"Выберем-10-платформ-с-наибольшими-суммарными-продажами-3.2.1\"><span class=\"toc-item-num\">3.2.1&nbsp;&nbsp;</span>Выберем 10 платформ с наибольшими суммарными продажами</a></span></li><li><span><a href=\"#Построим-график-распределение-по-годам\" data-toc-modified-id=\"Построим-график-распределение-по-годам-3.2.2\"><span class=\"toc-item-num\">3.2.2&nbsp;&nbsp;</span>Построим график распределение по годам</a></span></li><li><span><a href=\"#Определим-период-жизненного-цикла-платформы\" data-toc-modified-id=\"Определим-период-жизненного-цикла-платформы-3.2.3\"><span class=\"toc-item-num\">3.2.3&nbsp;&nbsp;</span>Определим период жизненного цикла платформы</a></span></li></ul></li><li><span><a href=\"#Возьмем-данные-за-соответствующий-актуальный-период.\" data-toc-modified-id=\"Возьмем-данные-за-соответствующий-актуальный-период.-3.3\"><span class=\"toc-item-num\">3.3&nbsp;&nbsp;</span>Возьмем данные за соответствующий актуальный период.</a></span></li><li><span><a href=\"#Определим-какие-платформы-лидируют-по-продажам,-определим-растут-они-или-падают.-Выберем-несколько-потенциально-прибыльных-платформ.\" data-toc-modified-id=\"Определим-какие-платформы-лидируют-по-продажам,-определим-растут-они-или-падают.-Выберем-несколько-потенциально-прибыльных-платформ.-3.4\"><span class=\"toc-item-num\">3.4&nbsp;&nbsp;</span>Определим какие платформы лидируют по продажам, определим растут они или падают. Выберем несколько потенциально прибыльных платформ.</a></span><ul class=\"toc-item\"><li><span><a href=\"#Определим-платформы-лидирующие-по-продажам-в-актуальный-длянас-период\" data-toc-modified-id=\"Определим-платформы-лидирующие-по-продажам-в-актуальный-длянас-период-3.4.1\"><span class=\"toc-item-num\">3.4.1&nbsp;&nbsp;</span>Определим платформы лидирующие по продажам в актуальный длянас период</a></span></li><li><span><a href=\"#Опредлим-рост/падение-продаж-на-разных-платформах.-Для-этого-построим-график\" data-toc-modified-id=\"Опредлим-рост/падение-продаж-на-разных-платформах.-Для-этого-построим-график-3.4.2\"><span class=\"toc-item-num\">3.4.2&nbsp;&nbsp;</span>Опредлим рост/падение продаж на разных платформах. Для этого построим график</a></span></li></ul></li><li><span><a href=\"#Построим-график-«ящик-с-усами»-по-глобальным-продажам-игр-в-разбивке-по-платформам.\" data-toc-modified-id=\"Построим-график-«ящик-с-усами»-по-глобальным-продажам-игр-в-разбивке-по-платформам.-3.5\"><span class=\"toc-item-num\">3.5&nbsp;&nbsp;</span>Построим график «ящик с усами» по глобальным продажам игр в разбивке по платформам.</a></span></li><li><span><a href=\"#Посмотрим,-как-влияют-на-продажи-внутри-одной-популярной-платформы-отзывы-пользователей-и-критиков.-Построим-диаграмму-рассеяния-и-посчитаем-корреляцию-между-отзывами-и-продажами.\" data-toc-modified-id=\"Посмотрим,-как-влияют-на-продажи-внутри-одной-популярной-платформы-отзывы-пользователей-и-критиков.-Построим-диаграмму-рассеяния-и-посчитаем-корреляцию-между-отзывами-и-продажами.-3.6\"><span class=\"toc-item-num\">3.6&nbsp;&nbsp;</span>Посмотрим, как влияют на продажи внутри одной популярной платформы отзывы пользователей и критиков. Построим диаграмму рассеяния и посчитаем корреляцию между отзывами и продажами.</a></span><ul class=\"toc-item\"><li><span><a href=\"#Рассмотрим-влияние-озывов-критиков-на-продажи--у-PS4\" data-toc-modified-id=\"Рассмотрим-влияние-озывов-критиков-на-продажи--у-PS4-3.6.1\"><span class=\"toc-item-num\">3.6.1&nbsp;&nbsp;</span>Рассмотрим влияние озывов критиков на продажи  у PS4</a></span></li><li><span><a href=\"#Рассмотрим-влияние-озывов-пользователей-на-продажи-у-PS4\" data-toc-modified-id=\"Рассмотрим-влияние-озывов-пользователей-на-продажи-у-PS4-3.6.2\"><span class=\"toc-item-num\">3.6.2&nbsp;&nbsp;</span>Рассмотрим влияние озывов пользователей на продажи у PS4</a></span></li></ul></li><li><span><a href=\"#Соотнесем-выводы-с-продажами-игр-на-других-платформах\" data-toc-modified-id=\"Соотнесем-выводы-с-продажами-игр-на-других-платформах-3.7\"><span class=\"toc-item-num\">3.7&nbsp;&nbsp;</span>Соотнесем выводы с продажами игр на других платформах</a></span><ul class=\"toc-item\"><li><span><a href=\"#Рассмотрим-влияние-озывов-критиков-на-продажи-у-других-платформ\" data-toc-modified-id=\"Рассмотрим-влияние-озывов-критиков-на-продажи-у-других-платформ-3.7.1\"><span class=\"toc-item-num\">3.7.1&nbsp;&nbsp;</span>Рассмотрим влияние озывов критиков на продажи у других платформ</a></span></li><li><span><a href=\"#Рассмотрим-влияние-озывов-пользователей-на-продажи-у-других-платформ\" data-toc-modified-id=\"Рассмотрим-влияние-озывов-пользователей-на-продажи-у-других-платформ-3.7.2\"><span class=\"toc-item-num\">3.7.2&nbsp;&nbsp;</span>Рассмотрим влияние озывов пользователей на продажи у других платформ</a></span></li></ul></li><li><span><a href=\"#Посмотрим-на-общее-распределение-игр-по-жанрам.--Определим-самые-прибыльные-жанры.\" data-toc-modified-id=\"Посмотрим-на-общее-распределение-игр-по-жанрам.--Определим-самые-прибыльные-жанры.-3.8\"><span class=\"toc-item-num\">3.8&nbsp;&nbsp;</span>Посмотрим на общее распределение игр по жанрам.  Определим самые прибыльные жанры.</a></span></li></ul></li><li><span><a href=\"#Составим-портрет-пользователя-каждого-региона-(NA,-EU,-JP)\" data-toc-modified-id=\"Составим-портрет-пользователя-каждого-региона-(NA,-EU,-JP)-4\"><span class=\"toc-item-num\">4&nbsp;&nbsp;</span>Составим портрет пользователя каждого региона (NA, EU, JP)</a></span><ul class=\"toc-item\"><li><span><a href=\"#Самые-популярные-платформы-(топ-5).\" data-toc-modified-id=\"Самые-популярные-платформы-(топ-5).-4.1\"><span class=\"toc-item-num\">4.1&nbsp;&nbsp;</span>Самые популярные платформы (топ-5).</a></span><ul class=\"toc-item\"><li><span><a href=\"#Северная-Америка-(NA).-Лучшие-пратформы\" data-toc-modified-id=\"Северная-Америка-(NA).-Лучшие-пратформы-4.1.1\"><span class=\"toc-item-num\">4.1.1&nbsp;&nbsp;</span>Северная Америка (NA). Лучшие пратформы</a></span></li><li><span><a href=\"#Европа-(EU).-Лучшие-пратформы\" data-toc-modified-id=\"Европа-(EU).-Лучшие-пратформы-4.1.2\"><span class=\"toc-item-num\">4.1.2&nbsp;&nbsp;</span>Европа (EU). Лучшие пратформы</a></span></li><li><span><a href=\"#Япония-(JP).-Лучшие-пратформы\" data-toc-modified-id=\"Япония-(JP).-Лучшие-пратформы-4.1.3\"><span class=\"toc-item-num\">4.1.3&nbsp;&nbsp;</span>Япония (JP). Лучшие пратформы</a></span></li></ul></li><li><span><a href=\"#Самые-популярные-жанры-(топ-5).\" data-toc-modified-id=\"Самые-популярные-жанры-(топ-5).-4.2\"><span class=\"toc-item-num\">4.2&nbsp;&nbsp;</span>Самые популярные жанры (топ-5).</a></span><ul class=\"toc-item\"><li><span><a href=\"#Северная-Америка-(NA).-Самые-популярные-жанры\" data-toc-modified-id=\"Северная-Америка-(NA).-Самые-популярные-жанры-4.2.1\"><span class=\"toc-item-num\">4.2.1&nbsp;&nbsp;</span>Северная Америка (NA). Самые популярные жанры</a></span></li><li><span><a href=\"#Европа-(EU).-Самые-популярные-жанры\" data-toc-modified-id=\"Европа-(EU).-Самые-популярные-жанры-4.2.2\"><span class=\"toc-item-num\">4.2.2&nbsp;&nbsp;</span>Европа (EU). Самые популярные жанры</a></span></li><li><span><a href=\"#Япония-(JP).-Самые-популярные-жанры\" data-toc-modified-id=\"Япония-(JP).-Самые-популярные-жанры-4.2.3\"><span class=\"toc-item-num\">4.2.3&nbsp;&nbsp;</span>Япония (JP). Самые популярные жанры</a></span></li></ul></li><li><span><a href=\"#Определим-влияет-ли-рейтинг-ESRB-на-продажи-в-отдельном-регионе\" data-toc-modified-id=\"Определим-влияет-ли-рейтинг-ESRB-на-продажи-в-отдельном-регионе-4.3\"><span class=\"toc-item-num\">4.3&nbsp;&nbsp;</span>Определим влияет ли рейтинг ESRB на продажи в отдельном регионе</a></span><ul class=\"toc-item\"><li><span><a href=\"#Северная-Америка-(NA).-Влияние-рейтинга-ESRB-на-продажи.\" data-toc-modified-id=\"Северная-Америка-(NA).-Влияние-рейтинга-ESRB-на-продажи.-4.3.1\"><span class=\"toc-item-num\">4.3.1&nbsp;&nbsp;</span>Северная Америка (NA). Влияние рейтинга ESRB на продажи.</a></span></li><li><span><a href=\"#Европа-(EU).--Влияние-рейтинга-ESRB-на-продажи.\" data-toc-modified-id=\"Европа-(EU).--Влияние-рейтинга-ESRB-на-продажи.-4.3.2\"><span class=\"toc-item-num\">4.3.2&nbsp;&nbsp;</span>Европа (EU).  Влияние рейтинга ESRB на продажи.</a></span></li><li><span><a href=\"#Япония-(JP).-Влияние-рейтинга-ESRB-на-продажи.\" data-toc-modified-id=\"Япония-(JP).-Влияние-рейтинга-ESRB-на-продажи.-4.3.3\"><span class=\"toc-item-num\">4.3.3&nbsp;&nbsp;</span>Япония (JP). Влияние рейтинга ESRB на продажи.</a></span></li></ul></li></ul></li><li><span><a href=\"#Проверим-гипотезы\" data-toc-modified-id=\"Проверим-гипотезы-5\"><span class=\"toc-item-num\">5&nbsp;&nbsp;</span>Проверим гипотезы</a></span><ul class=\"toc-item\"><li><span><a href=\"#Средние-пользовательские-рейтинги-платформ-Xbox-One-и-PC-одинаковые.\" data-toc-modified-id=\"Средние-пользовательские-рейтинги-платформ-Xbox-One-и-PC-одинаковые.-5.1\"><span class=\"toc-item-num\">5.1&nbsp;&nbsp;</span>Средние пользовательские рейтинги платформ Xbox One и PC одинаковые.</a></span></li><li><span><a href=\"#Средние-пользовательские-рейтинги-жанров-Action-(англ.-«действие»,-экшен-игры)-и-Sports-(англ.-«спортивные-соревнования»)-разные.\" data-toc-modified-id=\"Средние-пользовательские-рейтинги-жанров-Action-(англ.-«действие»,-экшен-игры)-и-Sports-(англ.-«спортивные-соревнования»)-разные.-5.2\"><span class=\"toc-item-num\">5.2&nbsp;&nbsp;</span>Средние пользовательские рейтинги жанров Action (англ. «действие», экшен-игры) и Sports (англ. «спортивные соревнования») разные.</a></span></li></ul></li><li><span><a href=\"#Общий-вывод\" data-toc-modified-id=\"Общий-вывод-6\"><span class=\"toc-item-num\">6&nbsp;&nbsp;</span>Общий вывод</a></span></li></ul></div>"
   ]
  },
  {
   "cell_type": "markdown",
   "metadata": {},
   "source": [
    "# Сборный проект"
   ]
  },
  {
   "cell_type": "markdown",
   "metadata": {},
   "source": [
    "***Описание проекта***\n",
    "\n",
    "Мы проводим анализ от лица работника интернет-магазина «Стримчик», который продаёт по всему миру компьютерные игры. \n",
    "<br>Из открытых источников доступны исторические данные о продажах игр, оценки пользователей и экспертов, жанры и платформы (например, Xbox или PlayStation). \n",
    "<br>Нам нужно выявить определяющие успешность игры закономерности. \n",
    "<br>Это позволит сделать ставку на потенциально популярный продукт и спланировать рекламные кампании.\n",
    "<br>Перед нами данные до 2016 года. Сейчас декабрь 2016 г., и мы планируем кампанию на 2017-й. \n",
    "<br>Нужно отработать принцип работы с данными. Неважно, прогнозируем ли мы продажи на 2017 год по данным 2016-го или же 2027-й — по данным 2026 года.\n",
    "<br>В наборе данных попадается аббревиатура ESRB (Entertainment Software Rating Board) — это ассоциация, определяющая возрастной рейтинг компьютерных игр. \n",
    "<br>ESRB оценивает игровой контент и присваивает ему подходящую возрастную категорию, например, «Для взрослых», «Для детей младшего возраста» или «Для подростков»."
   ]
  },
  {
   "cell_type": "markdown",
   "metadata": {},
   "source": [
    "***Импортируем библиотеки кторые потребуются нам для работы***"
   ]
  },
  {
   "cell_type": "code",
   "execution_count": 1,
   "metadata": {},
   "outputs": [],
   "source": [
    "import pandas as pd\n",
    "import numpy as np\n",
    "import matplotlib.pyplot as plt\n",
    "import seaborn as sns\n",
    "from scipy import stats as st\n",
    "import warnings\n",
    "warnings.filterwarnings('ignore')"
   ]
  },
  {
   "cell_type": "markdown",
   "metadata": {},
   "source": [
    "## Откроем файл с данными и изучим общую информацию"
   ]
  },
  {
   "cell_type": "code",
   "execution_count": 2,
   "metadata": {},
   "outputs": [],
   "source": [
    "games = pd.read_csv('/datasets/games.csv')"
   ]
  },
  {
   "cell_type": "code",
   "execution_count": 3,
   "metadata": {},
   "outputs": [
    {
     "name": "stdout",
     "output_type": "stream",
     "text": [
      "<class 'pandas.core.frame.DataFrame'>\n",
      "RangeIndex: 16715 entries, 0 to 16714\n",
      "Data columns (total 11 columns):\n",
      "Name               16713 non-null object\n",
      "Platform           16715 non-null object\n",
      "Year_of_Release    16446 non-null float64\n",
      "Genre              16713 non-null object\n",
      "NA_sales           16715 non-null float64\n",
      "EU_sales           16715 non-null float64\n",
      "JP_sales           16715 non-null float64\n",
      "Other_sales        16715 non-null float64\n",
      "Critic_Score       8137 non-null float64\n",
      "User_Score         10014 non-null object\n",
      "Rating             9949 non-null object\n",
      "dtypes: float64(6), object(5)\n",
      "memory usage: 1.4+ MB\n"
     ]
    },
    {
     "data": {
      "text/html": [
       "<div>\n",
       "<style scoped>\n",
       "    .dataframe tbody tr th:only-of-type {\n",
       "        vertical-align: middle;\n",
       "    }\n",
       "\n",
       "    .dataframe tbody tr th {\n",
       "        vertical-align: top;\n",
       "    }\n",
       "\n",
       "    .dataframe thead th {\n",
       "        text-align: right;\n",
       "    }\n",
       "</style>\n",
       "<table border=\"1\" class=\"dataframe\">\n",
       "  <thead>\n",
       "    <tr style=\"text-align: right;\">\n",
       "      <th></th>\n",
       "      <th>Name</th>\n",
       "      <th>Platform</th>\n",
       "      <th>Year_of_Release</th>\n",
       "      <th>Genre</th>\n",
       "      <th>NA_sales</th>\n",
       "      <th>EU_sales</th>\n",
       "      <th>JP_sales</th>\n",
       "      <th>Other_sales</th>\n",
       "      <th>Critic_Score</th>\n",
       "      <th>User_Score</th>\n",
       "      <th>Rating</th>\n",
       "    </tr>\n",
       "  </thead>\n",
       "  <tbody>\n",
       "    <tr>\n",
       "      <td>0</td>\n",
       "      <td>Wii Sports</td>\n",
       "      <td>Wii</td>\n",
       "      <td>2006.0</td>\n",
       "      <td>Sports</td>\n",
       "      <td>41.36</td>\n",
       "      <td>28.96</td>\n",
       "      <td>3.77</td>\n",
       "      <td>8.45</td>\n",
       "      <td>76.0</td>\n",
       "      <td>8</td>\n",
       "      <td>E</td>\n",
       "    </tr>\n",
       "    <tr>\n",
       "      <td>1</td>\n",
       "      <td>Super Mario Bros.</td>\n",
       "      <td>NES</td>\n",
       "      <td>1985.0</td>\n",
       "      <td>Platform</td>\n",
       "      <td>29.08</td>\n",
       "      <td>3.58</td>\n",
       "      <td>6.81</td>\n",
       "      <td>0.77</td>\n",
       "      <td>NaN</td>\n",
       "      <td>NaN</td>\n",
       "      <td>NaN</td>\n",
       "    </tr>\n",
       "    <tr>\n",
       "      <td>2</td>\n",
       "      <td>Mario Kart Wii</td>\n",
       "      <td>Wii</td>\n",
       "      <td>2008.0</td>\n",
       "      <td>Racing</td>\n",
       "      <td>15.68</td>\n",
       "      <td>12.76</td>\n",
       "      <td>3.79</td>\n",
       "      <td>3.29</td>\n",
       "      <td>82.0</td>\n",
       "      <td>8.3</td>\n",
       "      <td>E</td>\n",
       "    </tr>\n",
       "    <tr>\n",
       "      <td>3</td>\n",
       "      <td>Wii Sports Resort</td>\n",
       "      <td>Wii</td>\n",
       "      <td>2009.0</td>\n",
       "      <td>Sports</td>\n",
       "      <td>15.61</td>\n",
       "      <td>10.93</td>\n",
       "      <td>3.28</td>\n",
       "      <td>2.95</td>\n",
       "      <td>80.0</td>\n",
       "      <td>8</td>\n",
       "      <td>E</td>\n",
       "    </tr>\n",
       "    <tr>\n",
       "      <td>4</td>\n",
       "      <td>Pokemon Red/Pokemon Blue</td>\n",
       "      <td>GB</td>\n",
       "      <td>1996.0</td>\n",
       "      <td>Role-Playing</td>\n",
       "      <td>11.27</td>\n",
       "      <td>8.89</td>\n",
       "      <td>10.22</td>\n",
       "      <td>1.00</td>\n",
       "      <td>NaN</td>\n",
       "      <td>NaN</td>\n",
       "      <td>NaN</td>\n",
       "    </tr>\n",
       "    <tr>\n",
       "      <td>5</td>\n",
       "      <td>Tetris</td>\n",
       "      <td>GB</td>\n",
       "      <td>1989.0</td>\n",
       "      <td>Puzzle</td>\n",
       "      <td>23.20</td>\n",
       "      <td>2.26</td>\n",
       "      <td>4.22</td>\n",
       "      <td>0.58</td>\n",
       "      <td>NaN</td>\n",
       "      <td>NaN</td>\n",
       "      <td>NaN</td>\n",
       "    </tr>\n",
       "    <tr>\n",
       "      <td>6</td>\n",
       "      <td>New Super Mario Bros.</td>\n",
       "      <td>DS</td>\n",
       "      <td>2006.0</td>\n",
       "      <td>Platform</td>\n",
       "      <td>11.28</td>\n",
       "      <td>9.14</td>\n",
       "      <td>6.50</td>\n",
       "      <td>2.88</td>\n",
       "      <td>89.0</td>\n",
       "      <td>8.5</td>\n",
       "      <td>E</td>\n",
       "    </tr>\n",
       "    <tr>\n",
       "      <td>7</td>\n",
       "      <td>Wii Play</td>\n",
       "      <td>Wii</td>\n",
       "      <td>2006.0</td>\n",
       "      <td>Misc</td>\n",
       "      <td>13.96</td>\n",
       "      <td>9.18</td>\n",
       "      <td>2.93</td>\n",
       "      <td>2.84</td>\n",
       "      <td>58.0</td>\n",
       "      <td>6.6</td>\n",
       "      <td>E</td>\n",
       "    </tr>\n",
       "    <tr>\n",
       "      <td>8</td>\n",
       "      <td>New Super Mario Bros. Wii</td>\n",
       "      <td>Wii</td>\n",
       "      <td>2009.0</td>\n",
       "      <td>Platform</td>\n",
       "      <td>14.44</td>\n",
       "      <td>6.94</td>\n",
       "      <td>4.70</td>\n",
       "      <td>2.24</td>\n",
       "      <td>87.0</td>\n",
       "      <td>8.4</td>\n",
       "      <td>E</td>\n",
       "    </tr>\n",
       "    <tr>\n",
       "      <td>9</td>\n",
       "      <td>Duck Hunt</td>\n",
       "      <td>NES</td>\n",
       "      <td>1984.0</td>\n",
       "      <td>Shooter</td>\n",
       "      <td>26.93</td>\n",
       "      <td>0.63</td>\n",
       "      <td>0.28</td>\n",
       "      <td>0.47</td>\n",
       "      <td>NaN</td>\n",
       "      <td>NaN</td>\n",
       "      <td>NaN</td>\n",
       "    </tr>\n",
       "  </tbody>\n",
       "</table>\n",
       "</div>"
      ],
      "text/plain": [
       "                        Name Platform  Year_of_Release         Genre  \\\n",
       "0                 Wii Sports      Wii           2006.0        Sports   \n",
       "1          Super Mario Bros.      NES           1985.0      Platform   \n",
       "2             Mario Kart Wii      Wii           2008.0        Racing   \n",
       "3          Wii Sports Resort      Wii           2009.0        Sports   \n",
       "4   Pokemon Red/Pokemon Blue       GB           1996.0  Role-Playing   \n",
       "5                     Tetris       GB           1989.0        Puzzle   \n",
       "6      New Super Mario Bros.       DS           2006.0      Platform   \n",
       "7                   Wii Play      Wii           2006.0          Misc   \n",
       "8  New Super Mario Bros. Wii      Wii           2009.0      Platform   \n",
       "9                  Duck Hunt      NES           1984.0       Shooter   \n",
       "\n",
       "   NA_sales  EU_sales  JP_sales  Other_sales  Critic_Score User_Score Rating  \n",
       "0     41.36     28.96      3.77         8.45          76.0          8      E  \n",
       "1     29.08      3.58      6.81         0.77           NaN        NaN    NaN  \n",
       "2     15.68     12.76      3.79         3.29          82.0        8.3      E  \n",
       "3     15.61     10.93      3.28         2.95          80.0          8      E  \n",
       "4     11.27      8.89     10.22         1.00           NaN        NaN    NaN  \n",
       "5     23.20      2.26      4.22         0.58           NaN        NaN    NaN  \n",
       "6     11.28      9.14      6.50         2.88          89.0        8.5      E  \n",
       "7     13.96      9.18      2.93         2.84          58.0        6.6      E  \n",
       "8     14.44      6.94      4.70         2.24          87.0        8.4      E  \n",
       "9     26.93      0.63      0.28         0.47           NaN        NaN    NaN  "
      ]
     },
     "execution_count": 3,
     "metadata": {},
     "output_type": "execute_result"
    }
   ],
   "source": [
    "games.info()\n",
    "games.describe()\n",
    "games.head(10)"
   ]
  },
  {
   "cell_type": "markdown",
   "metadata": {},
   "source": [
    "***Вывод***"
   ]
  },
  {
   "cell_type": "markdown",
   "metadata": {},
   "source": [
    "Датасет содержит 11 столбцов и 16715 строк\n",
    "1. Название стобцов содержат буквы в верхнем регистре\n",
    "2. 6 столбцов содержать пропущеные значения\n",
    "- name\n",
    "- year_of_release\n",
    "- genre\n",
    "- critic_score\n",
    "- user_score\n",
    "- rating\n",
    "3. Не подходящий тип данных в столбцах \"указан(правильный)\": \n",
    "- year_of_release - float(int)\n",
    "- user_score - object(int)"
   ]
  },
  {
   "cell_type": "markdown",
   "metadata": {},
   "source": [
    "## Подготовим данные"
   ]
  },
  {
   "cell_type": "markdown",
   "metadata": {},
   "source": [
    "### Заменим названия столбцов (приведем к нижнему регистру)"
   ]
  },
  {
   "cell_type": "code",
   "execution_count": 4,
   "metadata": {},
   "outputs": [],
   "source": [
    "#games = games.rename(columns={'Name': 'name', \n",
    "#                            'Platform': 'platform', \n",
    "#                            'Year_of_Release': 'year_of_release', \n",
    "#                            'Genre': 'genre',\n",
    "#                            'NA_sales': 'na_sales',\n",
    "#                            'EU_sales': 'eu_sales',\n",
    "#                            'JP_sales': 'jp_sales',\n",
    "#                            'Other_sales': 'other_sales',\n",
    "#                            'Critic_Score': 'critic_score',\n",
    "#                            'User_Score': 'user_score',\n",
    "#                            'Rating': 'rating'})\n",
    "#games.head()"
   ]
  },
  {
   "cell_type": "code",
   "execution_count": 5,
   "metadata": {},
   "outputs": [
    {
     "data": {
      "text/html": [
       "<div>\n",
       "<style scoped>\n",
       "    .dataframe tbody tr th:only-of-type {\n",
       "        vertical-align: middle;\n",
       "    }\n",
       "\n",
       "    .dataframe tbody tr th {\n",
       "        vertical-align: top;\n",
       "    }\n",
       "\n",
       "    .dataframe thead th {\n",
       "        text-align: right;\n",
       "    }\n",
       "</style>\n",
       "<table border=\"1\" class=\"dataframe\">\n",
       "  <thead>\n",
       "    <tr style=\"text-align: right;\">\n",
       "      <th></th>\n",
       "      <th>name</th>\n",
       "      <th>platform</th>\n",
       "      <th>year_of_release</th>\n",
       "      <th>genre</th>\n",
       "      <th>na_sales</th>\n",
       "      <th>eu_sales</th>\n",
       "      <th>jp_sales</th>\n",
       "      <th>other_sales</th>\n",
       "      <th>critic_score</th>\n",
       "      <th>user_score</th>\n",
       "      <th>rating</th>\n",
       "    </tr>\n",
       "  </thead>\n",
       "  <tbody>\n",
       "    <tr>\n",
       "      <td>0</td>\n",
       "      <td>Wii Sports</td>\n",
       "      <td>Wii</td>\n",
       "      <td>2006.0</td>\n",
       "      <td>Sports</td>\n",
       "      <td>41.36</td>\n",
       "      <td>28.96</td>\n",
       "      <td>3.77</td>\n",
       "      <td>8.45</td>\n",
       "      <td>76.0</td>\n",
       "      <td>8</td>\n",
       "      <td>E</td>\n",
       "    </tr>\n",
       "    <tr>\n",
       "      <td>1</td>\n",
       "      <td>Super Mario Bros.</td>\n",
       "      <td>NES</td>\n",
       "      <td>1985.0</td>\n",
       "      <td>Platform</td>\n",
       "      <td>29.08</td>\n",
       "      <td>3.58</td>\n",
       "      <td>6.81</td>\n",
       "      <td>0.77</td>\n",
       "      <td>NaN</td>\n",
       "      <td>NaN</td>\n",
       "      <td>NaN</td>\n",
       "    </tr>\n",
       "    <tr>\n",
       "      <td>2</td>\n",
       "      <td>Mario Kart Wii</td>\n",
       "      <td>Wii</td>\n",
       "      <td>2008.0</td>\n",
       "      <td>Racing</td>\n",
       "      <td>15.68</td>\n",
       "      <td>12.76</td>\n",
       "      <td>3.79</td>\n",
       "      <td>3.29</td>\n",
       "      <td>82.0</td>\n",
       "      <td>8.3</td>\n",
       "      <td>E</td>\n",
       "    </tr>\n",
       "    <tr>\n",
       "      <td>3</td>\n",
       "      <td>Wii Sports Resort</td>\n",
       "      <td>Wii</td>\n",
       "      <td>2009.0</td>\n",
       "      <td>Sports</td>\n",
       "      <td>15.61</td>\n",
       "      <td>10.93</td>\n",
       "      <td>3.28</td>\n",
       "      <td>2.95</td>\n",
       "      <td>80.0</td>\n",
       "      <td>8</td>\n",
       "      <td>E</td>\n",
       "    </tr>\n",
       "    <tr>\n",
       "      <td>4</td>\n",
       "      <td>Pokemon Red/Pokemon Blue</td>\n",
       "      <td>GB</td>\n",
       "      <td>1996.0</td>\n",
       "      <td>Role-Playing</td>\n",
       "      <td>11.27</td>\n",
       "      <td>8.89</td>\n",
       "      <td>10.22</td>\n",
       "      <td>1.00</td>\n",
       "      <td>NaN</td>\n",
       "      <td>NaN</td>\n",
       "      <td>NaN</td>\n",
       "    </tr>\n",
       "  </tbody>\n",
       "</table>\n",
       "</div>"
      ],
      "text/plain": [
       "                       name platform  year_of_release         genre  na_sales  \\\n",
       "0                Wii Sports      Wii           2006.0        Sports     41.36   \n",
       "1         Super Mario Bros.      NES           1985.0      Platform     29.08   \n",
       "2            Mario Kart Wii      Wii           2008.0        Racing     15.68   \n",
       "3         Wii Sports Resort      Wii           2009.0        Sports     15.61   \n",
       "4  Pokemon Red/Pokemon Blue       GB           1996.0  Role-Playing     11.27   \n",
       "\n",
       "   eu_sales  jp_sales  other_sales  critic_score user_score rating  \n",
       "0     28.96      3.77         8.45          76.0          8      E  \n",
       "1      3.58      6.81         0.77           NaN        NaN    NaN  \n",
       "2     12.76      3.79         3.29          82.0        8.3      E  \n",
       "3     10.93      3.28         2.95          80.0          8      E  \n",
       "4      8.89     10.22         1.00           NaN        NaN    NaN  "
      ]
     },
     "execution_count": 5,
     "metadata": {},
     "output_type": "execute_result"
    }
   ],
   "source": [
    "games.columns = games.columns.str.lower()\n",
    "games.head()"
   ]
  },
  {
   "cell_type": "markdown",
   "metadata": {},
   "source": [
    "### Преобразуем данные в нужные типы"
   ]
  },
  {
   "cell_type": "markdown",
   "metadata": {},
   "source": [
    "Как мы упоминали выше в нескольких столбцах указан не подходящий тип данных в столбцах \"указан(правильный)\": \n",
    "- year_of_release - float(int)\n",
    "- user_score - object(float)\n",
    "\n",
    "Для того чтобы мы могли использовать числовые значения в расчетах и иследованиях изменить тип object на тип float. \n",
    "<br>А в тех значениях, которые не могут дробными, изменить object на int"
   ]
  },
  {
   "cell_type": "code",
   "execution_count": 6,
   "metadata": {},
   "outputs": [
    {
     "name": "stdout",
     "output_type": "stream",
     "text": [
      "<class 'pandas.core.frame.DataFrame'>\n",
      "Int64Index: 16446 entries, 0 to 16714\n",
      "Data columns (total 11 columns):\n",
      "name               16444 non-null object\n",
      "platform           16446 non-null object\n",
      "year_of_release    16446 non-null int64\n",
      "genre              16444 non-null object\n",
      "na_sales           16446 non-null float64\n",
      "eu_sales           16446 non-null float64\n",
      "jp_sales           16446 non-null float64\n",
      "other_sales        16446 non-null float64\n",
      "critic_score       7983 non-null float64\n",
      "user_score         7463 non-null float64\n",
      "rating             9768 non-null object\n",
      "dtypes: float64(6), int64(1), object(4)\n",
      "memory usage: 1.5+ MB\n"
     ]
    }
   ],
   "source": [
    "games = games[~games['year_of_release'].isna()]\n",
    "games['year_of_release'] = games['year_of_release'].astype(int)\n",
    "\n",
    "# Для того чтобы изменить тип данных на float изменим значения \"tbd\" (to be determined - англ. «предстоит определить») на nan\n",
    "games.loc[games['user_score'] == 'tbd', 'user_score'] = float('nan')\n",
    "games['user_score'] = games['user_score'].astype(float)\n",
    "games.info()"
   ]
  },
  {
   "cell_type": "markdown",
   "metadata": {},
   "source": [
    "### Обработаем пропуски\n",
    "\n",
    "Наш датасет содержит пропуски в шести столбцах: name, genre, year_of_release, critic_score, user_score, rating:\n",
    "- Пропусков в столбцах name, genre, year_of_release немного, около 1%. Заполнить актуальными данными их невозможно. Удаление строк с пропусками не повличет значительного искажения в дальнейшем анализе. Удалим эти строки.\n",
    "- Пропусков в столбцах critic_score и user_score, rating достаточно много, около 50%. Удалить эти строки без потери точности в анализе мы не можем.\n",
    "- Заполнить пропуски в critic_score, user_score средними или медианными значениями мы также не можем - это исказит резульаты анализа. Однако пропуски сами по себе также не скажутся на результатах, поэтому оставим данные как есть.\n",
    "- Пропуски со значением \"tbd\" (to be determined - предстоит определить) заменили на nan выше. Это было нужно для изменения типа данных на float и для удобства дальнейшей работы с данными"
   ]
  },
  {
   "cell_type": "code",
   "execution_count": 7,
   "metadata": {},
   "outputs": [],
   "source": [
    "games.loc[games['rating'].isna(), 'rating'] = 'Undefined'"
   ]
  },
  {
   "cell_type": "code",
   "execution_count": 8,
   "metadata": {},
   "outputs": [],
   "source": [
    "#games = games[~games['name'].isna()]\n",
    "#games.info()"
   ]
  },
  {
   "cell_type": "code",
   "execution_count": 9,
   "metadata": {},
   "outputs": [
    {
     "name": "stdout",
     "output_type": "stream",
     "text": [
      "<class 'pandas.core.frame.DataFrame'>\n",
      "Int64Index: 16444 entries, 0 to 16714\n",
      "Data columns (total 11 columns):\n",
      "name               16444 non-null object\n",
      "platform           16444 non-null object\n",
      "year_of_release    16444 non-null int64\n",
      "genre              16444 non-null object\n",
      "na_sales           16444 non-null float64\n",
      "eu_sales           16444 non-null float64\n",
      "jp_sales           16444 non-null float64\n",
      "other_sales        16444 non-null float64\n",
      "critic_score       7983 non-null float64\n",
      "user_score         7463 non-null float64\n",
      "rating             16444 non-null object\n",
      "dtypes: float64(6), int64(1), object(4)\n",
      "memory usage: 1.5+ MB\n"
     ]
    }
   ],
   "source": [
    "games = games.dropna(subset=['name'])\n",
    "games.info()"
   ]
  },
  {
   "cell_type": "markdown",
   "metadata": {},
   "source": [
    "### Посчитаем суммарные продажи во всех регионах и запишем их в отдельный столбец."
   ]
  },
  {
   "cell_type": "code",
   "execution_count": 10,
   "metadata": {
    "scrolled": true
   },
   "outputs": [
    {
     "data": {
      "text/html": [
       "<div>\n",
       "<style scoped>\n",
       "    .dataframe tbody tr th:only-of-type {\n",
       "        vertical-align: middle;\n",
       "    }\n",
       "\n",
       "    .dataframe tbody tr th {\n",
       "        vertical-align: top;\n",
       "    }\n",
       "\n",
       "    .dataframe thead th {\n",
       "        text-align: right;\n",
       "    }\n",
       "</style>\n",
       "<table border=\"1\" class=\"dataframe\">\n",
       "  <thead>\n",
       "    <tr style=\"text-align: right;\">\n",
       "      <th></th>\n",
       "      <th>name</th>\n",
       "      <th>platform</th>\n",
       "      <th>year_of_release</th>\n",
       "      <th>genre</th>\n",
       "      <th>na_sales</th>\n",
       "      <th>eu_sales</th>\n",
       "      <th>jp_sales</th>\n",
       "      <th>other_sales</th>\n",
       "      <th>critic_score</th>\n",
       "      <th>user_score</th>\n",
       "      <th>rating</th>\n",
       "      <th>total_sales</th>\n",
       "    </tr>\n",
       "  </thead>\n",
       "  <tbody>\n",
       "    <tr>\n",
       "      <td>0</td>\n",
       "      <td>Wii Sports</td>\n",
       "      <td>Wii</td>\n",
       "      <td>2006</td>\n",
       "      <td>Sports</td>\n",
       "      <td>41.36</td>\n",
       "      <td>28.96</td>\n",
       "      <td>3.77</td>\n",
       "      <td>8.45</td>\n",
       "      <td>76.0</td>\n",
       "      <td>8.0</td>\n",
       "      <td>E</td>\n",
       "      <td>82.54</td>\n",
       "    </tr>\n",
       "    <tr>\n",
       "      <td>1</td>\n",
       "      <td>Super Mario Bros.</td>\n",
       "      <td>NES</td>\n",
       "      <td>1985</td>\n",
       "      <td>Platform</td>\n",
       "      <td>29.08</td>\n",
       "      <td>3.58</td>\n",
       "      <td>6.81</td>\n",
       "      <td>0.77</td>\n",
       "      <td>NaN</td>\n",
       "      <td>NaN</td>\n",
       "      <td>Undefined</td>\n",
       "      <td>40.24</td>\n",
       "    </tr>\n",
       "    <tr>\n",
       "      <td>2</td>\n",
       "      <td>Mario Kart Wii</td>\n",
       "      <td>Wii</td>\n",
       "      <td>2008</td>\n",
       "      <td>Racing</td>\n",
       "      <td>15.68</td>\n",
       "      <td>12.76</td>\n",
       "      <td>3.79</td>\n",
       "      <td>3.29</td>\n",
       "      <td>82.0</td>\n",
       "      <td>8.3</td>\n",
       "      <td>E</td>\n",
       "      <td>35.52</td>\n",
       "    </tr>\n",
       "    <tr>\n",
       "      <td>3</td>\n",
       "      <td>Wii Sports Resort</td>\n",
       "      <td>Wii</td>\n",
       "      <td>2009</td>\n",
       "      <td>Sports</td>\n",
       "      <td>15.61</td>\n",
       "      <td>10.93</td>\n",
       "      <td>3.28</td>\n",
       "      <td>2.95</td>\n",
       "      <td>80.0</td>\n",
       "      <td>8.0</td>\n",
       "      <td>E</td>\n",
       "      <td>32.77</td>\n",
       "    </tr>\n",
       "    <tr>\n",
       "      <td>4</td>\n",
       "      <td>Pokemon Red/Pokemon Blue</td>\n",
       "      <td>GB</td>\n",
       "      <td>1996</td>\n",
       "      <td>Role-Playing</td>\n",
       "      <td>11.27</td>\n",
       "      <td>8.89</td>\n",
       "      <td>10.22</td>\n",
       "      <td>1.00</td>\n",
       "      <td>NaN</td>\n",
       "      <td>NaN</td>\n",
       "      <td>Undefined</td>\n",
       "      <td>31.38</td>\n",
       "    </tr>\n",
       "  </tbody>\n",
       "</table>\n",
       "</div>"
      ],
      "text/plain": [
       "                       name platform  year_of_release         genre  na_sales  \\\n",
       "0                Wii Sports      Wii             2006        Sports     41.36   \n",
       "1         Super Mario Bros.      NES             1985      Platform     29.08   \n",
       "2            Mario Kart Wii      Wii             2008        Racing     15.68   \n",
       "3         Wii Sports Resort      Wii             2009        Sports     15.61   \n",
       "4  Pokemon Red/Pokemon Blue       GB             1996  Role-Playing     11.27   \n",
       "\n",
       "   eu_sales  jp_sales  other_sales  critic_score  user_score     rating  \\\n",
       "0     28.96      3.77         8.45          76.0         8.0          E   \n",
       "1      3.58      6.81         0.77           NaN         NaN  Undefined   \n",
       "2     12.76      3.79         3.29          82.0         8.3          E   \n",
       "3     10.93      3.28         2.95          80.0         8.0          E   \n",
       "4      8.89     10.22         1.00           NaN         NaN  Undefined   \n",
       "\n",
       "   total_sales  \n",
       "0        82.54  \n",
       "1        40.24  \n",
       "2        35.52  \n",
       "3        32.77  \n",
       "4        31.38  "
      ]
     },
     "execution_count": 10,
     "metadata": {},
     "output_type": "execute_result"
    }
   ],
   "source": [
    "games['total_sales'] = games['na_sales'] + games['eu_sales'] + games['jp_sales'] + games['other_sales']\n",
    "games.head()"
   ]
  },
  {
   "cell_type": "markdown",
   "metadata": {},
   "source": [
    "### Вывод\n",
    "\n",
    "Мы подготовили данные к дальнейшим расчетам:\n",
    "- Привели названия столбцов к нижнему регистру\n",
    "- Преобразовали данные к нужному типу\n",
    "- Удалили пропуски в данных, там где это было возможно без потерь для дальнейших расчетов\n",
    "- Посчитали суммарные продажи во всех регионах и записали их в отдельный столбец."
   ]
  },
  {
   "cell_type": "markdown",
   "metadata": {},
   "source": [
    "## Проведем исследовательский анализ данных"
   ]
  },
  {
   "cell_type": "markdown",
   "metadata": {},
   "source": [
    "### Посмотрим, сколько игр выпускалось в разные годы. "
   ]
  },
  {
   "cell_type": "code",
   "execution_count": 11,
   "metadata": {},
   "outputs": [
    {
     "data": {
      "text/html": [
       "<div>\n",
       "<style scoped>\n",
       "    .dataframe tbody tr th:only-of-type {\n",
       "        vertical-align: middle;\n",
       "    }\n",
       "\n",
       "    .dataframe tbody tr th {\n",
       "        vertical-align: top;\n",
       "    }\n",
       "\n",
       "    .dataframe thead th {\n",
       "        text-align: right;\n",
       "    }\n",
       "</style>\n",
       "<table border=\"1\" class=\"dataframe\">\n",
       "  <thead>\n",
       "    <tr style=\"text-align: right;\">\n",
       "      <th></th>\n",
       "      <th>name</th>\n",
       "    </tr>\n",
       "  </thead>\n",
       "  <tbody>\n",
       "    <tr>\n",
       "      <td>count</td>\n",
       "      <td>37.000000</td>\n",
       "    </tr>\n",
       "    <tr>\n",
       "      <td>mean</td>\n",
       "      <td>444.432432</td>\n",
       "    </tr>\n",
       "    <tr>\n",
       "      <td>std</td>\n",
       "      <td>451.604334</td>\n",
       "    </tr>\n",
       "    <tr>\n",
       "      <td>min</td>\n",
       "      <td>9.000000</td>\n",
       "    </tr>\n",
       "    <tr>\n",
       "      <td>25%</td>\n",
       "      <td>36.000000</td>\n",
       "    </tr>\n",
       "    <tr>\n",
       "      <td>50%</td>\n",
       "      <td>338.000000</td>\n",
       "    </tr>\n",
       "    <tr>\n",
       "      <td>75%</td>\n",
       "      <td>762.000000</td>\n",
       "    </tr>\n",
       "    <tr>\n",
       "      <td>max</td>\n",
       "      <td>1427.000000</td>\n",
       "    </tr>\n",
       "  </tbody>\n",
       "</table>\n",
       "</div>"
      ],
      "text/plain": [
       "              name\n",
       "count    37.000000\n",
       "mean    444.432432\n",
       "std     451.604334\n",
       "min       9.000000\n",
       "25%      36.000000\n",
       "50%     338.000000\n",
       "75%     762.000000\n",
       "max    1427.000000"
      ]
     },
     "execution_count": 11,
     "metadata": {},
     "output_type": "execute_result"
    },
    {
     "data": {
      "image/png": "[encoded data removed]",
      "text/plain": [
       "<Figure size 432x288 with 1 Axes>"
      ]
     },
     "metadata": {
      "needs_background": "light"
     },
     "output_type": "display_data"
    }
   ],
   "source": [
    "games_by_years = pd.pivot_table(games,\n",
    "               index='year_of_release',\n",
    "               values='name',\n",
    "               aggfunc='count')\n",
    "\n",
    "games_by_years.plot(grid=True, figsize=(6, 4))\n",
    "games_by_years.describe()"
   ]
  },
  {
   "cell_type": "markdown",
   "metadata": {},
   "source": [
    "***Глобальные выводы делать пока рано, но к уровню выпуска игр до 2000 года мы скорее всего не вернемся. \n",
    "<br>Для дальнейших рассчетов будем использовать данные о играх выпусченных начиная с 2000 года***"
   ]
  },
  {
   "cell_type": "code",
   "execution_count": 12,
   "metadata": {},
   "outputs": [],
   "source": [
    "games_new = games.query('year_of_release >= 2000')\n",
    "#games['year_of_release'].describe()"
   ]
  },
  {
   "cell_type": "markdown",
   "metadata": {},
   "source": [
    "### Посмотрим, как менялись продажи по платформам. Выберем платформы с наибольшими суммарными продажами и построим распределение по годам. Рассмотрим за какой характерный срок появляются новые и исчезают старые платформы"
   ]
  },
  {
   "cell_type": "markdown",
   "metadata": {},
   "source": [
    "#### Выберем 10 платформ с наибольшими суммарными продажами"
   ]
  },
  {
   "cell_type": "code",
   "execution_count": 13,
   "metadata": {},
   "outputs": [
    {
     "data": {
      "text/plain": [
       "0     PS2\n",
       "1    X360\n",
       "2     PS3\n",
       "3     Wii\n",
       "4      DS\n",
       "5     PS4\n",
       "6     GBA\n",
       "7     PSP\n",
       "8     3DS\n",
       "9      XB\n",
       "Name: platform, dtype: object"
      ]
     },
     "execution_count": 13,
     "metadata": {},
     "output_type": "execute_result"
    }
   ],
   "source": [
    "top_ten_platform = games_new.groupby('platform')['total_sales'].sum().sort_values(ascending=False).head(10).reset_index()\n",
    "top_ten_platform = top_ten_platform['platform']\n",
    "top_ten_platform"
   ]
  },
  {
   "cell_type": "markdown",
   "metadata": {},
   "source": [
    "#### Построим график распределение по годам"
   ]
  },
  {
   "cell_type": "code",
   "execution_count": 14,
   "metadata": {},
   "outputs": [
    {
     "data": {
      "text/plain": [
       "<matplotlib.axes._subplots.AxesSubplot at 0x7f72dcebed90>"
      ]
     },
     "execution_count": 14,
     "metadata": {},
     "output_type": "execute_result"
    },
    {
     "data": {
      "image/png": "[encoded data removed]",
      "text/plain": [
       "<Figure size 864x360 with 1 Axes>"
      ]
     },
     "metadata": {
      "needs_background": "light"
     },
     "output_type": "display_data"
    }
   ],
   "source": [
    "games_new.query('platform in @top_ten_platform').pivot_table(index='year_of_release', columns = 'platform', values='total_sales', aggfunc='sum').plot(grid=True, figsize=(12, 5))\n"
   ]
  },
  {
   "cell_type": "markdown",
   "metadata": {},
   "source": [
    "На графике хорошо видно, что каждая платформа имеет свой жизненный цикл. Выделяются рост продаж, пики и спады."
   ]
  },
  {
   "cell_type": "markdown",
   "metadata": {},
   "source": [
    "#### Определим период жизненного цикла платформы"
   ]
  },
  {
   "cell_type": "code",
   "execution_count": 15,
   "metadata": {},
   "outputs": [
    {
     "data": {
      "text/plain": [
       "year_of_release    7.0\n",
       "dtype: float64"
      ]
     },
     "execution_count": 15,
     "metadata": {},
     "output_type": "execute_result"
    }
   ],
   "source": [
    "# определим минимальное значение продаж в млн, выше которого будем считать, что платформа появилась, ниже - пропала\n",
    "min_sales = 5\n",
    "\n",
    "# суммарные продажи в год выше порога\n",
    "report = games.groupby(['platform', 'year_of_release']).agg({'total_sales': 'sum'}).query('total_sales > @min_sales')\n",
    "\n",
    "# жизненный цикл платформы в годах\n",
    "platform_lifetime = report.reset_index().groupby('platform').agg({'year_of_release': 'nunique'}).mean().round()\n",
    "platform_lifetime"
   ]
  },
  {
   "cell_type": "markdown",
   "metadata": {},
   "source": [
    "Жизненный цикл платформы составил семь лет"
   ]
  },
  {
   "cell_type": "markdown",
   "metadata": {},
   "source": [
    "### Возьмем данные за соответствующий актуальный период. "
   ]
  },
  {
   "cell_type": "markdown",
   "metadata": {},
   "source": [
    "Для анализа нам подойдут платформы чей жизненный цикл(7лет) не зовершиться до 2017 года. \n",
    "<br>То есть выпущенные не раньше 2010 года (2017 - platform_lifetime). \n",
    "<br>Но с учетом того что рынок достаточно динамичный и, судя по графикам, основные свои продажи платформы показывают в первой половине жизненного цикла, поэтому имеет смысл взять для расчетов период в половину жизненного цикал. \n",
    "<br>В нашем случае это будут платформы запущенные в 2013 году и позже."
   ]
  },
  {
   "cell_type": "code",
   "execution_count": 16,
   "metadata": {},
   "outputs": [
    {
     "name": "stdout",
     "output_type": "stream",
     "text": [
      "<class 'pandas.core.frame.DataFrame'>\n",
      "RangeIndex: 2233 entries, 0 to 2232\n",
      "Data columns (total 13 columns):\n",
      "index              2233 non-null int64\n",
      "name               2233 non-null object\n",
      "platform           2233 non-null object\n",
      "year_of_release    2233 non-null int64\n",
      "genre              2233 non-null object\n",
      "na_sales           2233 non-null float64\n",
      "eu_sales           2233 non-null float64\n",
      "jp_sales           2233 non-null float64\n",
      "other_sales        2233 non-null float64\n",
      "critic_score       991 non-null float64\n",
      "user_score         1192 non-null float64\n",
      "rating             2233 non-null object\n",
      "total_sales        2233 non-null float64\n",
      "dtypes: float64(7), int64(2), object(4)\n",
      "memory usage: 226.9+ KB\n"
     ]
    }
   ],
   "source": [
    "promising_platforms = games.query('year_of_release >= 2013').reset_index()\n",
    "promising_platforms.info()"
   ]
  },
  {
   "cell_type": "markdown",
   "metadata": {},
   "source": [
    "### Определим какие платформы лидируют по продажам, определим растут они или падают. Выберем несколько потенциально прибыльных платформ."
   ]
  },
  {
   "cell_type": "markdown",
   "metadata": {},
   "source": [
    "#### Определим платформы лидирующие по продажам в актуальный длянас период"
   ]
  },
  {
   "cell_type": "code",
   "execution_count": 17,
   "metadata": {},
   "outputs": [
    {
     "data": {
      "text/html": [
       "<div>\n",
       "<style scoped>\n",
       "    .dataframe tbody tr th:only-of-type {\n",
       "        vertical-align: middle;\n",
       "    }\n",
       "\n",
       "    .dataframe tbody tr th {\n",
       "        vertical-align: top;\n",
       "    }\n",
       "\n",
       "    .dataframe thead th {\n",
       "        text-align: right;\n",
       "    }\n",
       "</style>\n",
       "<table border=\"1\" class=\"dataframe\">\n",
       "  <thead>\n",
       "    <tr style=\"text-align: right;\">\n",
       "      <th></th>\n",
       "      <th>platform</th>\n",
       "      <th>total_sales</th>\n",
       "    </tr>\n",
       "  </thead>\n",
       "  <tbody>\n",
       "    <tr>\n",
       "      <td>0</td>\n",
       "      <td>PS4</td>\n",
       "      <td>314.14</td>\n",
       "    </tr>\n",
       "    <tr>\n",
       "      <td>1</td>\n",
       "      <td>PS3</td>\n",
       "      <td>181.43</td>\n",
       "    </tr>\n",
       "    <tr>\n",
       "      <td>2</td>\n",
       "      <td>XOne</td>\n",
       "      <td>159.32</td>\n",
       "    </tr>\n",
       "    <tr>\n",
       "      <td>3</td>\n",
       "      <td>3DS</td>\n",
       "      <td>143.25</td>\n",
       "    </tr>\n",
       "    <tr>\n",
       "      <td>4</td>\n",
       "      <td>X360</td>\n",
       "      <td>136.80</td>\n",
       "    </tr>\n",
       "    <tr>\n",
       "      <td>5</td>\n",
       "      <td>WiiU</td>\n",
       "      <td>64.63</td>\n",
       "    </tr>\n",
       "    <tr>\n",
       "      <td>6</td>\n",
       "      <td>PC</td>\n",
       "      <td>39.43</td>\n",
       "    </tr>\n",
       "    <tr>\n",
       "      <td>7</td>\n",
       "      <td>PSV</td>\n",
       "      <td>32.99</td>\n",
       "    </tr>\n",
       "    <tr>\n",
       "      <td>8</td>\n",
       "      <td>Wii</td>\n",
       "      <td>13.66</td>\n",
       "    </tr>\n",
       "    <tr>\n",
       "      <td>9</td>\n",
       "      <td>PSP</td>\n",
       "      <td>3.50</td>\n",
       "    </tr>\n",
       "  </tbody>\n",
       "</table>\n",
       "</div>"
      ],
      "text/plain": [
       "  platform  total_sales\n",
       "0      PS4       314.14\n",
       "1      PS3       181.43\n",
       "2     XOne       159.32\n",
       "3      3DS       143.25\n",
       "4     X360       136.80\n",
       "5     WiiU        64.63\n",
       "6       PC        39.43\n",
       "7      PSV        32.99\n",
       "8      Wii        13.66\n",
       "9      PSP         3.50"
      ]
     },
     "execution_count": 17,
     "metadata": {},
     "output_type": "execute_result"
    }
   ],
   "source": [
    "promising_platforms.groupby('platform')['total_sales'].sum().sort_values(ascending=False).head(10).reset_index()"
   ]
  },
  {
   "cell_type": "markdown",
   "metadata": {},
   "source": [
    "<br>Выделяются продажи первой пятерки: \n",
    "- PS4\n",
    "- PS3\n",
    "- XOne\n",
    "- 3DS\n",
    "- X360"
   ]
  },
  {
   "cell_type": "markdown",
   "metadata": {},
   "source": [
    "#### Опредлим рост/падение продаж на разных платформах. Для этого построим график"
   ]
  },
  {
   "cell_type": "code",
   "execution_count": 18,
   "metadata": {},
   "outputs": [
    {
     "data": {
      "text/plain": [
       "<matplotlib.axes._subplots.AxesSubplot at 0x7f72dcdc45d0>"
      ]
     },
     "execution_count": 18,
     "metadata": {},
     "output_type": "execute_result"
    },
    {
     "data": {
      "image/png": "[encoded data removed]",
      "text/plain": [
       "<Figure size 864x360 with 1 Axes>"
      ]
     },
     "metadata": {
      "needs_background": "light"
     },
     "output_type": "display_data"
    }
   ],
   "source": [
    "promising_platforms.pivot_table(index='year_of_release', columns = 'platform', values='total_sales', aggfunc='sum').plot(grid=True, figsize=(12, 5))\n"
   ]
  },
  {
   "cell_type": "markdown",
   "metadata": {},
   "source": [
    "***Вывод***\n",
    "<br>Падение продаж наблюдается у всех платформ\n",
    "<br>Не смотря на хорошие показатели средней выручки платформ PS3, 3DS, X360, тренд на снижение однозначен\n",
    "<br>Две платформы, котрые сохранили показатели лучше остальных, это ***PS4*** и ***XOne***."
   ]
  },
  {
   "cell_type": "markdown",
   "metadata": {},
   "source": [
    "### Построим график «ящик с усами» по глобальным продажам игр в разбивке по платформам. "
   ]
  },
  {
   "cell_type": "code",
   "execution_count": 19,
   "metadata": {},
   "outputs": [
    {
     "data": {
      "text/plain": [
       "<matplotlib.axes._subplots.AxesSubplot at 0x7f72dce2b3d0>"
      ]
     },
     "execution_count": 19,
     "metadata": {},
     "output_type": "execute_result"
    },
    {
     "data": {
      "image/png": "[encoded data removed]",
      "text/plain": [
       "<Figure size 864x720 with 1 Axes>"
      ]
     },
     "metadata": {
      "needs_background": "light"
     },
     "output_type": "display_data"
    }
   ],
   "source": [
    "promising_platforms.boxplot(column = 'total_sales', by = 'platform', figsize=(12, 10))"
   ]
  },
  {
   "cell_type": "markdown",
   "metadata": {},
   "source": [
    "***Вывод***\n",
    "<br>Несмотря на относительно близкие показатели нормального распределения для всех платформ, потенциал к высоким показателям продаж есть только у 5-6 платформ. Таких как - 3DS, PS3, PS4, X360, XOne"
   ]
  },
  {
   "cell_type": "markdown",
   "metadata": {},
   "source": [
    "### Посмотрим, как влияют на продажи внутри одной популярной платформы отзывы пользователей и критиков. Построим диаграмму рассеяния и посчитаем корреляцию между отзывами и продажами.\n",
    "Влияние оценим на основе данных платформы PS4."
   ]
  },
  {
   "cell_type": "markdown",
   "metadata": {},
   "source": [
    "#### Рассмотрим влияние озывов критиков на продажи  у PS4"
   ]
  },
  {
   "cell_type": "code",
   "execution_count": 20,
   "metadata": {},
   "outputs": [
    {
     "data": {
      "text/plain": [
       "<matplotlib.axes._subplots.AxesSubplot at 0x7f72dc3c5c90>"
      ]
     },
     "execution_count": 20,
     "metadata": {},
     "output_type": "execute_result"
    },
    {
     "data": {
      "image/png": "[encoded data removed]",
      "text/plain": [
       "<Figure size 432x288 with 2 Axes>"
      ]
     },
     "metadata": {
      "needs_background": "light"
     },
     "output_type": "display_data"
    }
   ],
   "source": [
    "promising_platforms.query('platform == \"PS4\"').plot(x='total_sales', y='critic_score', kind='hexbin', gridsize=10, figsize=(6, 4), sharex=False, grid=True)\n"
   ]
  },
  {
   "cell_type": "code",
   "execution_count": 21,
   "metadata": {},
   "outputs": [
    {
     "data": {
      "text/plain": [
       "platform             \n",
       "PS4       total_sales    0.406568\n",
       "Name: critic_score, dtype: float64"
      ]
     },
     "execution_count": 21,
     "metadata": {},
     "output_type": "execute_result"
    }
   ],
   "source": [
    "promising_platforms.query('platform == \"PS4\"').groupby('platform')[['total_sales', 'critic_score']].corr().iloc[0::2,-1]\n"
   ]
  },
  {
   "cell_type": "markdown",
   "metadata": {},
   "source": [
    "***Вывод***\n",
    "<br>Исходя из диаграммы и небольшого значения корреляции Пирсона(0.41), можно сказать что зависимость продаж от оценки критиков слабая"
   ]
  },
  {
   "cell_type": "markdown",
   "metadata": {},
   "source": [
    "#### Рассмотрим влияние озывов пользователей на продажи у PS4"
   ]
  },
  {
   "cell_type": "code",
   "execution_count": 22,
   "metadata": {},
   "outputs": [
    {
     "data": {
      "text/plain": [
       "<matplotlib.axes._subplots.AxesSubplot at 0x7f72dc517090>"
      ]
     },
     "execution_count": 22,
     "metadata": {},
     "output_type": "execute_result"
    },
    {
     "data": {
      "image/png": "[encoded data removed]",
      "text/plain": [
       "<Figure size 432x288 with 2 Axes>"
      ]
     },
     "metadata": {
      "needs_background": "light"
     },
     "output_type": "display_data"
    }
   ],
   "source": [
    "promising_platforms.query('platform == \"PS4\"').plot(x='total_sales', y='user_score', kind='hexbin', gridsize=10, figsize=(6, 4), sharex=False, grid=True)\n"
   ]
  },
  {
   "cell_type": "code",
   "execution_count": 23,
   "metadata": {},
   "outputs": [
    {
     "data": {
      "text/plain": [
       "platform             \n",
       "PS4       total_sales   -0.031957\n",
       "Name: user_score, dtype: float64"
      ]
     },
     "execution_count": 23,
     "metadata": {},
     "output_type": "execute_result"
    }
   ],
   "source": [
    "promising_platforms.query('platform == \"PS4\"').groupby('platform')[['total_sales', 'user_score']].corr().iloc[0::2,-1]"
   ]
  },
  {
   "cell_type": "markdown",
   "metadata": {},
   "source": [
    "***Вывод***\n",
    "<br>Коэффициент корреляции Пирсона: -0.03. Значение близкое к нулю, это говорит о том, что продажи от оценки пользователей практически не зависят."
   ]
  },
  {
   "cell_type": "markdown",
   "metadata": {},
   "source": [
    "### Соотнесем выводы с продажами игр на других платформах"
   ]
  },
  {
   "cell_type": "markdown",
   "metadata": {},
   "source": [
    "#### Рассмотрим влияние озывов критиков на продажи у других платформ"
   ]
  },
  {
   "cell_type": "code",
   "execution_count": 24,
   "metadata": {},
   "outputs": [
    {
     "data": {
      "text/plain": [
       "<matplotlib.axes._subplots.AxesSubplot at 0x7f72dc25f990>"
      ]
     },
     "execution_count": 24,
     "metadata": {},
     "output_type": "execute_result"
    },
    {
     "data": {
      "image/png": "[encoded data removed]",
      "text/plain": [
       "<Figure size 432x288 with 2 Axes>"
      ]
     },
     "metadata": {
      "needs_background": "light"
     },
     "output_type": "display_data"
    }
   ],
   "source": [
    "promising_platforms.query('platform != \"PS4\"').plot(x='total_sales', y='critic_score', kind='hexbin', gridsize=10, figsize=(6, 4), sharex=False, grid=True)"
   ]
  },
  {
   "cell_type": "code",
   "execution_count": 25,
   "metadata": {
    "scrolled": true
   },
   "outputs": [
    {
     "data": {
      "text/plain": [
       "platform             \n",
       "3DS       total_sales    0.357057\n",
       "DS        total_sales         NaN\n",
       "PC        total_sales    0.196030\n",
       "PS3       total_sales    0.334285\n",
       "PSP       total_sales         NaN\n",
       "PSV       total_sales    0.254742\n",
       "Wii       total_sales         NaN\n",
       "WiiU      total_sales    0.376415\n",
       "X360      total_sales    0.350345\n",
       "XOne      total_sales    0.416998\n",
       "Name: critic_score, dtype: float64"
      ]
     },
     "execution_count": 25,
     "metadata": {},
     "output_type": "execute_result"
    }
   ],
   "source": [
    "promising_platforms.query('platform != \"PS4\"').groupby('platform')[['total_sales', 'critic_score']].corr().iloc[0::2,-1]"
   ]
  },
  {
   "cell_type": "markdown",
   "metadata": {},
   "source": [
    "***Вывод***\n",
    "<br>Коэффициенты корреляции у других платформ близки по значению к PS4. Значения также небольшие, зависимость продаж от оценки критиков слабая"
   ]
  },
  {
   "cell_type": "markdown",
   "metadata": {},
   "source": [
    "#### Рассмотрим влияние озывов пользователей на продажи у других платформ"
   ]
  },
  {
   "cell_type": "code",
   "execution_count": 26,
   "metadata": {},
   "outputs": [
    {
     "data": {
      "text/plain": [
       "<matplotlib.axes._subplots.AxesSubplot at 0x7f72dc1c3290>"
      ]
     },
     "execution_count": 26,
     "metadata": {},
     "output_type": "execute_result"
    },
    {
     "data": {
      "image/png": "[encoded data removed]",
      "text/plain": [
       "<Figure size 432x288 with 2 Axes>"
      ]
     },
     "metadata": {
      "needs_background": "light"
     },
     "output_type": "display_data"
    }
   ],
   "source": [
    "promising_platforms.query('platform != \"PS4\"').plot(x='total_sales', y='user_score', kind='hexbin', gridsize=10, figsize=(6, 4), sharex=False, grid=True)\n"
   ]
  },
  {
   "cell_type": "code",
   "execution_count": 27,
   "metadata": {},
   "outputs": [
    {
     "data": {
      "text/plain": [
       "platform             \n",
       "3DS       total_sales    0.241504\n",
       "DS        total_sales         NaN\n",
       "PC        total_sales   -0.093842\n",
       "PS3       total_sales    0.002394\n",
       "PSP       total_sales   -1.000000\n",
       "PSV       total_sales    0.000942\n",
       "Wii       total_sales    0.682942\n",
       "WiiU      total_sales    0.419330\n",
       "X360      total_sales   -0.011742\n",
       "XOne      total_sales   -0.068925\n",
       "Name: user_score, dtype: float64"
      ]
     },
     "execution_count": 27,
     "metadata": {},
     "output_type": "execute_result"
    }
   ],
   "source": [
    "promising_platforms.query('platform != \"PS4\"').groupby('platform')[['total_sales', 'user_score']].corr().iloc[0::2,-1]"
   ]
  },
  {
   "cell_type": "code",
   "execution_count": 28,
   "metadata": {},
   "outputs": [
    {
     "data": {
      "text/plain": [
       "platform             \n",
       "3DS       total_sales    0.241504\n",
       "DS        total_sales         NaN\n",
       "PC        total_sales   -0.093842\n",
       "PS3       total_sales    0.002394\n",
       "PSP       total_sales   -1.000000\n",
       "PSV       total_sales    0.000942\n",
       "Wii       total_sales    0.682942\n",
       "WiiU      total_sales    0.419330\n",
       "X360      total_sales   -0.011742\n",
       "XOne      total_sales   -0.068925\n",
       "Name: user_score, dtype: float64"
      ]
     },
     "execution_count": 28,
     "metadata": {},
     "output_type": "execute_result"
    }
   ],
   "source": [
    "promising_platforms.dropna(subset=['user_score']).query('platform != \"PS4\"').groupby('platform')[['total_sales', 'user_score']].corr().iloc[0::2,-1]\n"
   ]
  },
  {
   "cell_type": "markdown",
   "metadata": {},
   "source": [
    "***Вывод***\n",
    "<br>Коэффициент корреляции у большинства других платформ, также как и у PS4, близок к нулю. Продажи от оценки пользователей практически не зависят.\n",
    "<br> Исключение составляют Wii и WiiU, где продажи растут при хороших отзывах и PSP где зависимость обратная. Но продажи этих платформ падают, что может давать искажение"
   ]
  },
  {
   "cell_type": "code",
   "execution_count": 29,
   "metadata": {},
   "outputs": [
    {
     "data": {
      "text/html": [
       "<div>\n",
       "<style scoped>\n",
       "    .dataframe tbody tr th:only-of-type {\n",
       "        vertical-align: middle;\n",
       "    }\n",
       "\n",
       "    .dataframe tbody tr th {\n",
       "        vertical-align: top;\n",
       "    }\n",
       "\n",
       "    .dataframe thead th {\n",
       "        text-align: right;\n",
       "    }\n",
       "</style>\n",
       "<table border=\"1\" class=\"dataframe\">\n",
       "  <thead>\n",
       "    <tr style=\"text-align: right;\">\n",
       "      <th></th>\n",
       "      <th></th>\n",
       "      <th>name</th>\n",
       "      <th>total_sales</th>\n",
       "    </tr>\n",
       "    <tr>\n",
       "      <th>platform</th>\n",
       "      <th>user_score</th>\n",
       "      <th></th>\n",
       "      <th></th>\n",
       "    </tr>\n",
       "  </thead>\n",
       "  <tbody>\n",
       "    <tr>\n",
       "      <td rowspan=\"11\" valign=\"top\">PS3</td>\n",
       "      <td>-100.0</td>\n",
       "      <td>159</td>\n",
       "      <td>29.28</td>\n",
       "    </tr>\n",
       "    <tr>\n",
       "      <td>0.0</td>\n",
       "      <td>1</td>\n",
       "      <td>0.11</td>\n",
       "    </tr>\n",
       "    <tr>\n",
       "      <td>1.0</td>\n",
       "      <td>1</td>\n",
       "      <td>0.04</td>\n",
       "    </tr>\n",
       "    <tr>\n",
       "      <td>2.0</td>\n",
       "      <td>2</td>\n",
       "      <td>0.48</td>\n",
       "    </tr>\n",
       "    <tr>\n",
       "      <td>3.0</td>\n",
       "      <td>12</td>\n",
       "      <td>16.78</td>\n",
       "    </tr>\n",
       "    <tr>\n",
       "      <td>4.0</td>\n",
       "      <td>20</td>\n",
       "      <td>20.55</td>\n",
       "    </tr>\n",
       "    <tr>\n",
       "      <td>5.0</td>\n",
       "      <td>16</td>\n",
       "      <td>13.95</td>\n",
       "    </tr>\n",
       "    <tr>\n",
       "      <td>6.0</td>\n",
       "      <td>30</td>\n",
       "      <td>17.94</td>\n",
       "    </tr>\n",
       "    <tr>\n",
       "      <td>7.0</td>\n",
       "      <td>41</td>\n",
       "      <td>13.89</td>\n",
       "    </tr>\n",
       "    <tr>\n",
       "      <td>8.0</td>\n",
       "      <td>58</td>\n",
       "      <td>61.15</td>\n",
       "    </tr>\n",
       "    <tr>\n",
       "      <td>9.0</td>\n",
       "      <td>5</td>\n",
       "      <td>7.26</td>\n",
       "    </tr>\n",
       "    <tr>\n",
       "      <td rowspan=\"3\" valign=\"top\">PSP</td>\n",
       "      <td>-100.0</td>\n",
       "      <td>65</td>\n",
       "      <td>3.16</td>\n",
       "    </tr>\n",
       "    <tr>\n",
       "      <td>3.0</td>\n",
       "      <td>1</td>\n",
       "      <td>0.19</td>\n",
       "    </tr>\n",
       "    <tr>\n",
       "      <td>8.0</td>\n",
       "      <td>1</td>\n",
       "      <td>0.15</td>\n",
       "    </tr>\n",
       "  </tbody>\n",
       "</table>\n",
       "</div>"
      ],
      "text/plain": [
       "                     name  total_sales\n",
       "platform user_score                   \n",
       "PS3      -100.0       159        29.28\n",
       "          0.0           1         0.11\n",
       "          1.0           1         0.04\n",
       "          2.0           2         0.48\n",
       "          3.0          12        16.78\n",
       "          4.0          20        20.55\n",
       "          5.0          16        13.95\n",
       "          6.0          30        17.94\n",
       "          7.0          41        13.89\n",
       "          8.0          58        61.15\n",
       "          9.0           5         7.26\n",
       "PSP      -100.0        65         3.16\n",
       "          3.0           1         0.19\n",
       "          8.0           1         0.15"
      ]
     },
     "execution_count": 29,
     "metadata": {},
     "output_type": "execute_result"
    }
   ],
   "source": [
    "# код ревьюера\n",
    "test = promising_platforms[(promising_platforms['platform'] == 'PSP')\n",
    "                          | (promising_platforms['platform'] == 'PS3')].copy()\n",
    "test['user_score'] = round(test['user_score']).fillna(-100)\n",
    "test.groupby(['platform','user_score']).agg({'name' : 'count', 'total_sales' : 'sum'})"
   ]
  },
  {
   "cell_type": "markdown",
   "metadata": {},
   "source": [
    "### Посмотрим на общее распределение игр по жанрам.  Определим самые прибыльные жанры."
   ]
  },
  {
   "cell_type": "code",
   "execution_count": 30,
   "metadata": {},
   "outputs": [
    {
     "data": {
      "text/html": [
       "<div>\n",
       "<style scoped>\n",
       "    .dataframe tbody tr th:only-of-type {\n",
       "        vertical-align: middle;\n",
       "    }\n",
       "\n",
       "    .dataframe tbody tr th {\n",
       "        vertical-align: top;\n",
       "    }\n",
       "\n",
       "    .dataframe thead th {\n",
       "        text-align: right;\n",
       "    }\n",
       "</style>\n",
       "<table border=\"1\" class=\"dataframe\">\n",
       "  <thead>\n",
       "    <tr style=\"text-align: right;\">\n",
       "      <th></th>\n",
       "      <th>total_sales</th>\n",
       "    </tr>\n",
       "    <tr>\n",
       "      <th>genre</th>\n",
       "      <th></th>\n",
       "    </tr>\n",
       "  </thead>\n",
       "  <tbody>\n",
       "    <tr>\n",
       "      <td>Action</td>\n",
       "      <td>321.87</td>\n",
       "    </tr>\n",
       "    <tr>\n",
       "      <td>Adventure</td>\n",
       "      <td>23.64</td>\n",
       "    </tr>\n",
       "    <tr>\n",
       "      <td>Fighting</td>\n",
       "      <td>35.31</td>\n",
       "    </tr>\n",
       "    <tr>\n",
       "      <td>Misc</td>\n",
       "      <td>62.82</td>\n",
       "    </tr>\n",
       "    <tr>\n",
       "      <td>Platform</td>\n",
       "      <td>42.63</td>\n",
       "    </tr>\n",
       "    <tr>\n",
       "      <td>Puzzle</td>\n",
       "      <td>3.17</td>\n",
       "    </tr>\n",
       "    <tr>\n",
       "      <td>Racing</td>\n",
       "      <td>39.89</td>\n",
       "    </tr>\n",
       "    <tr>\n",
       "      <td>Role-Playing</td>\n",
       "      <td>145.89</td>\n",
       "    </tr>\n",
       "    <tr>\n",
       "      <td>Shooter</td>\n",
       "      <td>232.98</td>\n",
       "    </tr>\n",
       "    <tr>\n",
       "      <td>Simulation</td>\n",
       "      <td>21.76</td>\n",
       "    </tr>\n",
       "    <tr>\n",
       "      <td>Sports</td>\n",
       "      <td>150.65</td>\n",
       "    </tr>\n",
       "    <tr>\n",
       "      <td>Strategy</td>\n",
       "      <td>10.08</td>\n",
       "    </tr>\n",
       "  </tbody>\n",
       "</table>\n",
       "</div>"
      ],
      "text/plain": [
       "              total_sales\n",
       "genre                    \n",
       "Action             321.87\n",
       "Adventure           23.64\n",
       "Fighting            35.31\n",
       "Misc                62.82\n",
       "Platform            42.63\n",
       "Puzzle               3.17\n",
       "Racing              39.89\n",
       "Role-Playing       145.89\n",
       "Shooter            232.98\n",
       "Simulation          21.76\n",
       "Sports             150.65\n",
       "Strategy            10.08"
      ]
     },
     "execution_count": 30,
     "metadata": {},
     "output_type": "execute_result"
    },
    {
     "data": {
      "image/png": "[encoded data removed]",
      "text/plain": [
       "<Figure size 864x360 with 1 Axes>"
      ]
     },
     "metadata": {
      "needs_background": "light"
     },
     "output_type": "display_data"
    }
   ],
   "source": [
    "promising_platforms.pivot_table(index='genre', values='total_sales', aggfunc='sum').plot(grid=True, figsize=(12, 5))\n",
    "promising_platforms.pivot_table(index='genre', values='total_sales', aggfunc='sum')"
   ]
  },
  {
   "cell_type": "markdown",
   "metadata": {},
   "source": [
    "***Вывод***\n",
    "<br>Выделяются четыре жанра с хорошими продажами в актуальном для нас периоде:\n",
    "- Action\n",
    "- Shooter\n",
    "- Role-Playing\n",
    "- Sports"
   ]
  },
  {
   "cell_type": "markdown",
   "metadata": {},
   "source": [
    "## Составим портрет пользователя каждого региона (NA, EU, JP)"
   ]
  },
  {
   "cell_type": "markdown",
   "metadata": {},
   "source": [
    "### Самые популярные платформы (топ-5). "
   ]
  },
  {
   "cell_type": "markdown",
   "metadata": {},
   "source": [
    "#### Северная Америка (NA). Лучшие пратформы"
   ]
  },
  {
   "cell_type": "code",
   "execution_count": 31,
   "metadata": {},
   "outputs": [
    {
     "data": {
      "image/png": "[encoded data removed]",
      "text/plain": [
       "<Figure size 432x288 with 1 Axes>"
      ]
     },
     "metadata": {},
     "output_type": "display_data"
    },
    {
     "data": {
      "text/html": [
       "<div>\n",
       "<style scoped>\n",
       "    .dataframe tbody tr th:only-of-type {\n",
       "        vertical-align: middle;\n",
       "    }\n",
       "\n",
       "    .dataframe tbody tr th {\n",
       "        vertical-align: top;\n",
       "    }\n",
       "\n",
       "    .dataframe thead th {\n",
       "        text-align: right;\n",
       "    }\n",
       "</style>\n",
       "<table border=\"1\" class=\"dataframe\">\n",
       "  <thead>\n",
       "    <tr style=\"text-align: right;\">\n",
       "      <th></th>\n",
       "      <th>platform</th>\n",
       "      <th>na_sales</th>\n",
       "    </tr>\n",
       "  </thead>\n",
       "  <tbody>\n",
       "    <tr>\n",
       "      <td>4</td>\n",
       "      <td>PS4</td>\n",
       "      <td>108.74</td>\n",
       "    </tr>\n",
       "    <tr>\n",
       "      <td>10</td>\n",
       "      <td>XOne</td>\n",
       "      <td>93.12</td>\n",
       "    </tr>\n",
       "    <tr>\n",
       "      <td>9</td>\n",
       "      <td>X360</td>\n",
       "      <td>81.66</td>\n",
       "    </tr>\n",
       "    <tr>\n",
       "      <td>3</td>\n",
       "      <td>PS3</td>\n",
       "      <td>63.50</td>\n",
       "    </tr>\n",
       "    <tr>\n",
       "      <td>0</td>\n",
       "      <td>3DS</td>\n",
       "      <td>38.20</td>\n",
       "    </tr>\n",
       "  </tbody>\n",
       "</table>\n",
       "</div>"
      ],
      "text/plain": [
       "   platform  na_sales\n",
       "4       PS4    108.74\n",
       "10     XOne     93.12\n",
       "9      X360     81.66\n",
       "3       PS3     63.50\n",
       "0       3DS     38.20"
      ]
     },
     "metadata": {},
     "output_type": "display_data"
    }
   ],
   "source": [
    "na_platform = promising_platforms.pivot_table(index = 'platform', values = 'na_sales', aggfunc = 'sum')\n",
    "na_platform = na_platform.reset_index()\n",
    "plt.suptitle(\"Распределение продаж по платформам в Северной Америке\", y=1.35)\n",
    "plt.pie(na_platform['na_sales'], labels=na_platform['platform'], autopct=\"%1.1f%%\", radius = 2.5, center =(0, 2))\n",
    "plt. show()\n",
    "display(na_platform.sort_values(by= 'na_sales', ascending = False).head())"
   ]
  },
  {
   "cell_type": "markdown",
   "metadata": {},
   "source": [
    "#### Европа (EU). Лучшие пратформы"
   ]
  },
  {
   "cell_type": "code",
   "execution_count": 32,
   "metadata": {},
   "outputs": [
    {
     "data": {
      "image/png": "[encoded data removed]",
      "text/plain": [
       "<Figure size 432x288 with 1 Axes>"
      ]
     },
     "metadata": {},
     "output_type": "display_data"
    },
    {
     "data": {
      "text/html": [
       "<div>\n",
       "<style scoped>\n",
       "    .dataframe tbody tr th:only-of-type {\n",
       "        vertical-align: middle;\n",
       "    }\n",
       "\n",
       "    .dataframe tbody tr th {\n",
       "        vertical-align: top;\n",
       "    }\n",
       "\n",
       "    .dataframe thead th {\n",
       "        text-align: right;\n",
       "    }\n",
       "</style>\n",
       "<table border=\"1\" class=\"dataframe\">\n",
       "  <thead>\n",
       "    <tr style=\"text-align: right;\">\n",
       "      <th></th>\n",
       "      <th>platform</th>\n",
       "      <th>eu_sales</th>\n",
       "    </tr>\n",
       "  </thead>\n",
       "  <tbody>\n",
       "    <tr>\n",
       "      <td>4</td>\n",
       "      <td>PS4</td>\n",
       "      <td>141.09</td>\n",
       "    </tr>\n",
       "    <tr>\n",
       "      <td>3</td>\n",
       "      <td>PS3</td>\n",
       "      <td>67.81</td>\n",
       "    </tr>\n",
       "    <tr>\n",
       "      <td>10</td>\n",
       "      <td>XOne</td>\n",
       "      <td>51.59</td>\n",
       "    </tr>\n",
       "    <tr>\n",
       "      <td>9</td>\n",
       "      <td>X360</td>\n",
       "      <td>42.52</td>\n",
       "    </tr>\n",
       "    <tr>\n",
       "      <td>0</td>\n",
       "      <td>3DS</td>\n",
       "      <td>30.96</td>\n",
       "    </tr>\n",
       "  </tbody>\n",
       "</table>\n",
       "</div>"
      ],
      "text/plain": [
       "   platform  eu_sales\n",
       "4       PS4    141.09\n",
       "3       PS3     67.81\n",
       "10     XOne     51.59\n",
       "9      X360     42.52\n",
       "0       3DS     30.96"
      ]
     },
     "metadata": {},
     "output_type": "display_data"
    }
   ],
   "source": [
    "eu_platform = promising_platforms.pivot_table(index = 'platform', values = 'eu_sales', aggfunc = 'sum')\n",
    "eu_platform = eu_platform.reset_index()\n",
    "plt.suptitle(\"Распределение продаж по платформам в Европе\", y=1.4)\n",
    "plt.pie(eu_platform['eu_sales'], labels=eu_platform['platform'], autopct=\"%1.1f%%\", radius = 2.5, center =(0, 2))\n",
    "plt. show()\n",
    "display(eu_platform.sort_values(by= 'eu_sales', ascending = False).head())"
   ]
  },
  {
   "cell_type": "markdown",
   "metadata": {},
   "source": [
    "#### Япония (JP). Лучшие пратформы"
   ]
  },
  {
   "cell_type": "code",
   "execution_count": 33,
   "metadata": {},
   "outputs": [
    {
     "data": {
      "image/png": "[encoded data removed]",
      "text/plain": [
       "<Figure size 432x288 with 1 Axes>"
      ]
     },
     "metadata": {},
     "output_type": "display_data"
    },
    {
     "data": {
      "text/html": [
       "<div>\n",
       "<style scoped>\n",
       "    .dataframe tbody tr th:only-of-type {\n",
       "        vertical-align: middle;\n",
       "    }\n",
       "\n",
       "    .dataframe tbody tr th {\n",
       "        vertical-align: top;\n",
       "    }\n",
       "\n",
       "    .dataframe thead th {\n",
       "        text-align: right;\n",
       "    }\n",
       "</style>\n",
       "<table border=\"1\" class=\"dataframe\">\n",
       "  <thead>\n",
       "    <tr style=\"text-align: right;\">\n",
       "      <th></th>\n",
       "      <th>platform</th>\n",
       "      <th>jp_sales</th>\n",
       "    </tr>\n",
       "  </thead>\n",
       "  <tbody>\n",
       "    <tr>\n",
       "      <td>0</td>\n",
       "      <td>3DS</td>\n",
       "      <td>67.81</td>\n",
       "    </tr>\n",
       "    <tr>\n",
       "      <td>3</td>\n",
       "      <td>PS3</td>\n",
       "      <td>23.35</td>\n",
       "    </tr>\n",
       "    <tr>\n",
       "      <td>6</td>\n",
       "      <td>PSV</td>\n",
       "      <td>18.59</td>\n",
       "    </tr>\n",
       "    <tr>\n",
       "      <td>4</td>\n",
       "      <td>PS4</td>\n",
       "      <td>15.96</td>\n",
       "    </tr>\n",
       "    <tr>\n",
       "      <td>8</td>\n",
       "      <td>WiiU</td>\n",
       "      <td>10.88</td>\n",
       "    </tr>\n",
       "  </tbody>\n",
       "</table>\n",
       "</div>"
      ],
      "text/plain": [
       "  platform  jp_sales\n",
       "0      3DS     67.81\n",
       "3      PS3     23.35\n",
       "6      PSV     18.59\n",
       "4      PS4     15.96\n",
       "8     WiiU     10.88"
      ]
     },
     "metadata": {},
     "output_type": "display_data"
    }
   ],
   "source": [
    "jp_platform = promising_platforms.pivot_table(index = 'platform', values = 'jp_sales', aggfunc = 'sum')\n",
    "jp_platform = jp_platform.reset_index()\n",
    "plt.suptitle(\"Распределение продаж по платформам в Японии\", y=1.4)\n",
    "plt.pie(jp_platform['jp_sales'], labels=na_platform['platform'], autopct=\"%1.1f%%\", radius = 2.5, center =(0, 2))\n",
    "plt. show()\n",
    "display(jp_platform.sort_values(by= 'jp_sales', ascending = False).head())"
   ]
  },
  {
   "cell_type": "markdown",
   "metadata": {},
   "source": [
    "### Самые популярные жанры (топ-5). "
   ]
  },
  {
   "cell_type": "markdown",
   "metadata": {},
   "source": [
    "#### Северная Америка (NA). Самые популярные жанры"
   ]
  },
  {
   "cell_type": "code",
   "execution_count": 34,
   "metadata": {},
   "outputs": [
    {
     "data": {
      "image/png": "[encoded data removed]",
      "text/plain": [
       "<Figure size 432x288 with 1 Axes>"
      ]
     },
     "metadata": {},
     "output_type": "display_data"
    },
    {
     "data": {
      "text/html": [
       "<div>\n",
       "<style scoped>\n",
       "    .dataframe tbody tr th:only-of-type {\n",
       "        vertical-align: middle;\n",
       "    }\n",
       "\n",
       "    .dataframe tbody tr th {\n",
       "        vertical-align: top;\n",
       "    }\n",
       "\n",
       "    .dataframe thead th {\n",
       "        text-align: right;\n",
       "    }\n",
       "</style>\n",
       "<table border=\"1\" class=\"dataframe\">\n",
       "  <thead>\n",
       "    <tr style=\"text-align: right;\">\n",
       "      <th></th>\n",
       "      <th>genre</th>\n",
       "      <th>na_sales</th>\n",
       "    </tr>\n",
       "  </thead>\n",
       "  <tbody>\n",
       "    <tr>\n",
       "      <td>0</td>\n",
       "      <td>Action</td>\n",
       "      <td>126.05</td>\n",
       "    </tr>\n",
       "    <tr>\n",
       "      <td>8</td>\n",
       "      <td>Shooter</td>\n",
       "      <td>109.74</td>\n",
       "    </tr>\n",
       "    <tr>\n",
       "      <td>10</td>\n",
       "      <td>Sports</td>\n",
       "      <td>65.27</td>\n",
       "    </tr>\n",
       "    <tr>\n",
       "      <td>7</td>\n",
       "      <td>Role-Playing</td>\n",
       "      <td>46.40</td>\n",
       "    </tr>\n",
       "    <tr>\n",
       "      <td>3</td>\n",
       "      <td>Misc</td>\n",
       "      <td>27.49</td>\n",
       "    </tr>\n",
       "  </tbody>\n",
       "</table>\n",
       "</div>"
      ],
      "text/plain": [
       "           genre  na_sales\n",
       "0         Action    126.05\n",
       "8        Shooter    109.74\n",
       "10        Sports     65.27\n",
       "7   Role-Playing     46.40\n",
       "3           Misc     27.49"
      ]
     },
     "metadata": {},
     "output_type": "display_data"
    }
   ],
   "source": [
    "na_genre = promising_platforms.pivot_table(index = 'genre', values = 'na_sales', aggfunc = 'sum')\n",
    "na_genre = na_genre.reset_index()\n",
    "plt.suptitle(\"Распределение продаж по жанрам в Северной Америке\", y=1.4)\n",
    "plt.pie(na_genre['na_sales'], labels=na_genre['genre'], autopct=\"%1.1f%%\", radius = 2.5, center =(0, 2))\n",
    "plt. show()\n",
    "display(na_genre.sort_values(by= 'na_sales', ascending = False).head())"
   ]
  },
  {
   "cell_type": "markdown",
   "metadata": {},
   "source": [
    "#### Европа (EU). Самые популярные жанры"
   ]
  },
  {
   "cell_type": "code",
   "execution_count": 35,
   "metadata": {},
   "outputs": [
    {
     "data": {
      "image/png": "[encoded data removed]",
      "text/plain": [
       "<Figure size 432x288 with 1 Axes>"
      ]
     },
     "metadata": {},
     "output_type": "display_data"
    },
    {
     "data": {
      "text/html": [
       "<div>\n",
       "<style scoped>\n",
       "    .dataframe tbody tr th:only-of-type {\n",
       "        vertical-align: middle;\n",
       "    }\n",
       "\n",
       "    .dataframe tbody tr th {\n",
       "        vertical-align: top;\n",
       "    }\n",
       "\n",
       "    .dataframe thead th {\n",
       "        text-align: right;\n",
       "    }\n",
       "</style>\n",
       "<table border=\"1\" class=\"dataframe\">\n",
       "  <thead>\n",
       "    <tr style=\"text-align: right;\">\n",
       "      <th></th>\n",
       "      <th>genre</th>\n",
       "      <th>eu_sales</th>\n",
       "    </tr>\n",
       "  </thead>\n",
       "  <tbody>\n",
       "    <tr>\n",
       "      <td>0</td>\n",
       "      <td>Action</td>\n",
       "      <td>118.13</td>\n",
       "    </tr>\n",
       "    <tr>\n",
       "      <td>8</td>\n",
       "      <td>Shooter</td>\n",
       "      <td>87.86</td>\n",
       "    </tr>\n",
       "    <tr>\n",
       "      <td>10</td>\n",
       "      <td>Sports</td>\n",
       "      <td>60.52</td>\n",
       "    </tr>\n",
       "    <tr>\n",
       "      <td>7</td>\n",
       "      <td>Role-Playing</td>\n",
       "      <td>36.97</td>\n",
       "    </tr>\n",
       "    <tr>\n",
       "      <td>6</td>\n",
       "      <td>Racing</td>\n",
       "      <td>20.19</td>\n",
       "    </tr>\n",
       "  </tbody>\n",
       "</table>\n",
       "</div>"
      ],
      "text/plain": [
       "           genre  eu_sales\n",
       "0         Action    118.13\n",
       "8        Shooter     87.86\n",
       "10        Sports     60.52\n",
       "7   Role-Playing     36.97\n",
       "6         Racing     20.19"
      ]
     },
     "metadata": {},
     "output_type": "display_data"
    }
   ],
   "source": [
    "eu_genre = promising_platforms.pivot_table(index = 'genre', values = 'eu_sales', aggfunc = 'sum')\n",
    "eu_genre = eu_genre.reset_index()\n",
    "plt.suptitle(\"Распределение продаж по жанрам в Европе\", y=1.4)\n",
    "plt.pie(eu_genre['eu_sales'], labels=eu_genre['genre'], autopct=\"%1.1f%%\", radius = 2.5, center =(0, 2))\n",
    "plt. show()\n",
    "display(eu_genre.sort_values(by= 'eu_sales', ascending = False).head())"
   ]
  },
  {
   "cell_type": "markdown",
   "metadata": {},
   "source": [
    "#### Япония (JP). Самые популярные жанры"
   ]
  },
  {
   "cell_type": "code",
   "execution_count": 36,
   "metadata": {},
   "outputs": [
    {
     "data": {
      "image/png": "[encoded data removed]",
      "text/plain": [
       "<Figure size 432x288 with 1 Axes>"
      ]
     },
     "metadata": {},
     "output_type": "display_data"
    },
    {
     "data": {
      "text/html": [
       "<div>\n",
       "<style scoped>\n",
       "    .dataframe tbody tr th:only-of-type {\n",
       "        vertical-align: middle;\n",
       "    }\n",
       "\n",
       "    .dataframe tbody tr th {\n",
       "        vertical-align: top;\n",
       "    }\n",
       "\n",
       "    .dataframe thead th {\n",
       "        text-align: right;\n",
       "    }\n",
       "</style>\n",
       "<table border=\"1\" class=\"dataframe\">\n",
       "  <thead>\n",
       "    <tr style=\"text-align: right;\">\n",
       "      <th></th>\n",
       "      <th>genre</th>\n",
       "      <th>jp_sales</th>\n",
       "    </tr>\n",
       "  </thead>\n",
       "  <tbody>\n",
       "    <tr>\n",
       "      <td>7</td>\n",
       "      <td>Role-Playing</td>\n",
       "      <td>51.04</td>\n",
       "    </tr>\n",
       "    <tr>\n",
       "      <td>0</td>\n",
       "      <td>Action</td>\n",
       "      <td>40.49</td>\n",
       "    </tr>\n",
       "    <tr>\n",
       "      <td>3</td>\n",
       "      <td>Misc</td>\n",
       "      <td>9.20</td>\n",
       "    </tr>\n",
       "    <tr>\n",
       "      <td>2</td>\n",
       "      <td>Fighting</td>\n",
       "      <td>7.65</td>\n",
       "    </tr>\n",
       "    <tr>\n",
       "      <td>8</td>\n",
       "      <td>Shooter</td>\n",
       "      <td>6.61</td>\n",
       "    </tr>\n",
       "  </tbody>\n",
       "</table>\n",
       "</div>"
      ],
      "text/plain": [
       "          genre  jp_sales\n",
       "7  Role-Playing     51.04\n",
       "0        Action     40.49\n",
       "3          Misc      9.20\n",
       "2      Fighting      7.65\n",
       "8       Shooter      6.61"
      ]
     },
     "metadata": {},
     "output_type": "display_data"
    }
   ],
   "source": [
    "jp_genre = promising_platforms.pivot_table(index = 'genre', values = 'jp_sales', aggfunc = 'sum')\n",
    "jp_genre = jp_genre.reset_index()\n",
    "plt.suptitle(\"Распределение продаж по жанрам в Японии\", y=1.4)\n",
    "plt.pie(jp_genre['jp_sales'], labels=jp_genre['genre'], autopct=\"%1.1f%%\", radius = 2.5, center =(0, 2))\n",
    "plt. show()\n",
    "display(jp_genre.sort_values(by= 'jp_sales', ascending = False).head())"
   ]
  },
  {
   "cell_type": "markdown",
   "metadata": {},
   "source": [
    "### Определим влияет ли рейтинг ESRB на продажи в отдельном регионе"
   ]
  },
  {
   "cell_type": "markdown",
   "metadata": {},
   "source": [
    "#### Северная Америка (NA). Влияние рейтинга ESRB на продажи."
   ]
  },
  {
   "cell_type": "code",
   "execution_count": 37,
   "metadata": {},
   "outputs": [
    {
     "data": {
      "image/png": "[encoded data removed]",
      "text/plain": [
       "<Figure size 432x288 with 1 Axes>"
      ]
     },
     "metadata": {},
     "output_type": "display_data"
    },
    {
     "data": {
      "text/html": [
       "<div>\n",
       "<style scoped>\n",
       "    .dataframe tbody tr th:only-of-type {\n",
       "        vertical-align: middle;\n",
       "    }\n",
       "\n",
       "    .dataframe tbody tr th {\n",
       "        vertical-align: top;\n",
       "    }\n",
       "\n",
       "    .dataframe thead th {\n",
       "        text-align: right;\n",
       "    }\n",
       "</style>\n",
       "<table border=\"1\" class=\"dataframe\">\n",
       "  <thead>\n",
       "    <tr style=\"text-align: right;\">\n",
       "      <th></th>\n",
       "      <th>rating</th>\n",
       "      <th>na_sales</th>\n",
       "    </tr>\n",
       "  </thead>\n",
       "  <tbody>\n",
       "    <tr>\n",
       "      <td>2</td>\n",
       "      <td>M</td>\n",
       "      <td>165.21</td>\n",
       "    </tr>\n",
       "    <tr>\n",
       "      <td>4</td>\n",
       "      <td>Undefined</td>\n",
       "      <td>89.42</td>\n",
       "    </tr>\n",
       "    <tr>\n",
       "      <td>0</td>\n",
       "      <td>E</td>\n",
       "      <td>79.05</td>\n",
       "    </tr>\n",
       "    <tr>\n",
       "      <td>1</td>\n",
       "      <td>E10+</td>\n",
       "      <td>54.24</td>\n",
       "    </tr>\n",
       "    <tr>\n",
       "      <td>3</td>\n",
       "      <td>T</td>\n",
       "      <td>49.79</td>\n",
       "    </tr>\n",
       "  </tbody>\n",
       "</table>\n",
       "</div>"
      ],
      "text/plain": [
       "      rating  na_sales\n",
       "2          M    165.21\n",
       "4  Undefined     89.42\n",
       "0          E     79.05\n",
       "1       E10+     54.24\n",
       "3          T     49.79"
      ]
     },
     "metadata": {},
     "output_type": "display_data"
    }
   ],
   "source": [
    "na_rating = promising_platforms.pivot_table(index = 'rating', values = 'na_sales', aggfunc = 'sum')\n",
    "na_rating = na_rating.reset_index()\n",
    "plt.suptitle(\"Распределение продаж по рейтингу ESRB в Северной Америке\", y=1.4)\n",
    "plt.pie(na_rating['na_sales'], labels=na_rating['rating'], autopct=\"%1.1f%%\", radius = 2.5, center =(0, 2))\n",
    "plt. show()\n",
    "display(na_rating.sort_values(by= 'na_sales', ascending = False).head())"
   ]
  },
  {
   "cell_type": "markdown",
   "metadata": {},
   "source": [
    "#### Европа (EU).  Влияние рейтинга ESRB на продажи."
   ]
  },
  {
   "cell_type": "code",
   "execution_count": 38,
   "metadata": {},
   "outputs": [
    {
     "data": {
      "image/png": "[encoded data removed]",
      "text/plain": [
       "<Figure size 432x288 with 1 Axes>"
      ]
     },
     "metadata": {},
     "output_type": "display_data"
    },
    {
     "data": {
      "text/html": [
       "<div>\n",
       "<style scoped>\n",
       "    .dataframe tbody tr th:only-of-type {\n",
       "        vertical-align: middle;\n",
       "    }\n",
       "\n",
       "    .dataframe tbody tr th {\n",
       "        vertical-align: top;\n",
       "    }\n",
       "\n",
       "    .dataframe thead th {\n",
       "        text-align: right;\n",
       "    }\n",
       "</style>\n",
       "<table border=\"1\" class=\"dataframe\">\n",
       "  <thead>\n",
       "    <tr style=\"text-align: right;\">\n",
       "      <th></th>\n",
       "      <th>rating</th>\n",
       "      <th>eu_sales</th>\n",
       "    </tr>\n",
       "  </thead>\n",
       "  <tbody>\n",
       "    <tr>\n",
       "      <td>2</td>\n",
       "      <td>M</td>\n",
       "      <td>145.32</td>\n",
       "    </tr>\n",
       "    <tr>\n",
       "      <td>0</td>\n",
       "      <td>E</td>\n",
       "      <td>83.36</td>\n",
       "    </tr>\n",
       "    <tr>\n",
       "      <td>4</td>\n",
       "      <td>Undefined</td>\n",
       "      <td>78.91</td>\n",
       "    </tr>\n",
       "    <tr>\n",
       "      <td>1</td>\n",
       "      <td>E10+</td>\n",
       "      <td>42.69</td>\n",
       "    </tr>\n",
       "    <tr>\n",
       "      <td>3</td>\n",
       "      <td>T</td>\n",
       "      <td>41.95</td>\n",
       "    </tr>\n",
       "  </tbody>\n",
       "</table>\n",
       "</div>"
      ],
      "text/plain": [
       "      rating  eu_sales\n",
       "2          M    145.32\n",
       "0          E     83.36\n",
       "4  Undefined     78.91\n",
       "1       E10+     42.69\n",
       "3          T     41.95"
      ]
     },
     "metadata": {},
     "output_type": "display_data"
    }
   ],
   "source": [
    "eu_rating = promising_platforms.pivot_table(index = 'rating', values = 'eu_sales', aggfunc = 'sum')\n",
    "eu_rating = eu_rating.reset_index()\n",
    "plt.suptitle(\"Распределение продаж по рейтингу ESRB в Европе\", y=1.4)\n",
    "plt.pie(eu_rating['eu_sales'], labels=eu_rating['rating'], autopct=\"%1.1f%%\", radius = 2.5, center =(0, 2))\n",
    "plt. show()\n",
    "display(eu_rating.sort_values(by= 'eu_sales', ascending = False).head())"
   ]
  },
  {
   "cell_type": "markdown",
   "metadata": {},
   "source": [
    "#### Япония (JP). Влияние рейтинга ESRB на продажи."
   ]
  },
  {
   "cell_type": "code",
   "execution_count": 39,
   "metadata": {},
   "outputs": [
    {
     "data": {
      "image/png": "[encoded data removed]",
      "text/plain": [
       "<Figure size 432x288 with 1 Axes>"
      ]
     },
     "metadata": {},
     "output_type": "display_data"
    },
    {
     "data": {
      "text/html": [
       "<div>\n",
       "<style scoped>\n",
       "    .dataframe tbody tr th:only-of-type {\n",
       "        vertical-align: middle;\n",
       "    }\n",
       "\n",
       "    .dataframe tbody tr th {\n",
       "        vertical-align: top;\n",
       "    }\n",
       "\n",
       "    .dataframe thead th {\n",
       "        text-align: right;\n",
       "    }\n",
       "</style>\n",
       "<table border=\"1\" class=\"dataframe\">\n",
       "  <thead>\n",
       "    <tr style=\"text-align: right;\">\n",
       "      <th></th>\n",
       "      <th>rating</th>\n",
       "      <th>jp_sales</th>\n",
       "    </tr>\n",
       "  </thead>\n",
       "  <tbody>\n",
       "    <tr>\n",
       "      <td>4</td>\n",
       "      <td>Undefined</td>\n",
       "      <td>85.05</td>\n",
       "    </tr>\n",
       "    <tr>\n",
       "      <td>3</td>\n",
       "      <td>T</td>\n",
       "      <td>20.59</td>\n",
       "    </tr>\n",
       "    <tr>\n",
       "      <td>0</td>\n",
       "      <td>E</td>\n",
       "      <td>15.14</td>\n",
       "    </tr>\n",
       "    <tr>\n",
       "      <td>2</td>\n",
       "      <td>M</td>\n",
       "      <td>14.11</td>\n",
       "    </tr>\n",
       "    <tr>\n",
       "      <td>1</td>\n",
       "      <td>E10+</td>\n",
       "      <td>5.89</td>\n",
       "    </tr>\n",
       "  </tbody>\n",
       "</table>\n",
       "</div>"
      ],
      "text/plain": [
       "      rating  jp_sales\n",
       "4  Undefined     85.05\n",
       "3          T     20.59\n",
       "0          E     15.14\n",
       "2          M     14.11\n",
       "1       E10+      5.89"
      ]
     },
     "metadata": {},
     "output_type": "display_data"
    }
   ],
   "source": [
    "jp_rating = promising_platforms.pivot_table(index = 'rating', values = 'jp_sales', aggfunc = 'sum')\n",
    "jp_rating = jp_rating.reset_index()\n",
    "plt.suptitle(\"Распределение продаж по рейтингу ESRB в Японии\", y=1.4)\n",
    "plt.pie(jp_rating['jp_sales'], labels=jp_rating['rating'], autopct=\"%1.1f%%\", radius = 2.5, center =(0, 2))\n",
    "plt. show()\n",
    "display(jp_rating.sort_values(by= 'jp_sales', ascending = False).head())"
   ]
  },
  {
   "cell_type": "markdown",
   "metadata": {},
   "source": [
    "## Проверим гипотезы"
   ]
  },
  {
   "cell_type": "markdown",
   "metadata": {},
   "source": [
    "### Средние пользовательские рейтинги платформ Xbox One и PC одинаковые."
   ]
  },
  {
   "cell_type": "markdown",
   "metadata": {},
   "source": [
    "Мы должны проверить гипотезу о  том что средние пользовательские рейтинги платформ Xbox One и PC одинаковые. \n",
    "<br>Для этого сформулируем нулевую (H₀) и альтернативную (H₁) гипотезы:\n",
    "- H₀: средние пользовательские рейтинги платформ Xbox One и PC одинаковые\n",
    "- H₁: средние пользовательские рейтинги платформ Xbox One и PC различны\n",
    "\n",
    "Для проверки гипотезы проведем t-test "
   ]
  },
  {
   "cell_type": "markdown",
   "metadata": {},
   "source": [
    "***Подготовим данные для проверки гипотезы***"
   ]
  },
  {
   "cell_type": "code",
   "execution_count": 43,
   "metadata": {},
   "outputs": [],
   "source": [
    "#Выделим и сохраним в переменную данные для платформы Xbox One\n",
    "xone = promising_platforms.query('platform == \"XOne\"')\n",
    "# Для анализа рейтинга мы должны удалить нулевые значения\n",
    "xone = xone[~xone['user_score'].isna()]\n",
    "\n",
    "#Выделим и сохраним в переменную данные для платформы PC\n",
    "pc = promising_platforms.query('platform == \"PC\"')\n",
    "#Удалим нулевые значения рейтинга\n",
    "pc = pc[~pc['user_score'].isna()]"
   ]
  },
  {
   "cell_type": "markdown",
   "metadata": {},
   "source": [
    "***Проверим гипотезу***"
   ]
  },
  {
   "cell_type": "code",
   "execution_count": 45,
   "metadata": {},
   "outputs": [
    {
     "name": "stdout",
     "output_type": "stream",
     "text": [
      "p-значение:  0.14759594013430463\n",
      "Не получилось отвергнуть нулевую гипотезу\n",
      "Средний пользовательский рейтинг для платформы Xbox One: 6.521428571428572\n",
      "Средний пользовательский рейтинг для платформы PC: 6.2696774193548395\n"
     ]
    }
   ],
   "source": [
    "# зададим критический уровень статистической значимости\n",
    "alpha = .05 \n",
    "# если p-value окажется больше него - отвегнем гипотезу\n",
    "\n",
    "results = st.ttest_ind(xone['user_score'],\n",
    "                       pc['user_score'],\n",
    "                       equal_var = False)\n",
    "\n",
    "print('p-значение: ', results.pvalue)\n",
    "\n",
    "if results.pvalue < alpha:\n",
    "    print(\"Отвергаем нулевую гипотезу\")\n",
    "else:\n",
    "    print(\"Не получилось отвергнуть нулевую гипотезу\") \n",
    "\n",
    "print('Средний пользовательский рейтинг для платформы Xbox One:', xone['user_score'].mean())\n",
    "print('Средний пользовательский рейтинг для платформы PC:', pc['user_score'].mean())"
   ]
  },
  {
   "cell_type": "markdown",
   "metadata": {},
   "source": [
    "***Вывод***\n",
    "<br>p-значение выше порогового значения alpha, что говорит нам о том что отвергнуть нулевую гипотезу не получилось. Соответственно мы должны остаться в рамках нулевой гипотезы о том, что средние пользовательские рейтинги платформ Xbox One и PC одинаковые.\n"
   ]
  },
  {
   "cell_type": "markdown",
   "metadata": {},
   "source": [
    "### Средние пользовательские рейтинги жанров Action (англ. «действие», экшен-игры) и Sports (англ. «спортивные соревнования») разные."
   ]
  },
  {
   "cell_type": "markdown",
   "metadata": {},
   "source": [
    "Мы должны проверить гипотезу о  том что средние пользовательские рейтинги Action и Sports разные. \n",
    "<br>Для этого сформулируем нулевую (H₀) и альтернативную (H₁) гипотезы:\n",
    "- H₀: средние пользовательские рейтинги жанров Action и Sports одинаковые\n",
    "- H₁: средние пользовательские рейтинги жанров Action и Sports различны\n",
    "\n",
    "Для проверки гипотезы проведем t-test "
   ]
  },
  {
   "cell_type": "markdown",
   "metadata": {},
   "source": [
    "***Подготовим данные для проверки гипотезы***"
   ]
  },
  {
   "cell_type": "code",
   "execution_count": 47,
   "metadata": {},
   "outputs": [],
   "source": [
    "#Выделим и сохраним в переменную данные для жанра Action\n",
    "action = promising_platforms.query('genre == \"Action\"')\n",
    "# Для анализа рейтинга мы должны удалить нулевые значения\n",
    "action = action[~action['user_score'].isna()]\n",
    "\n",
    "#Выделим и сохраним в переменную данные для жанра Sports\n",
    "sports = promising_platforms.query('genre == \"Sports\"')\n",
    "#Удалим нулевые значения рейтинга\n",
    "sports = sports[~sports['user_score'].isna()]"
   ]
  },
  {
   "cell_type": "markdown",
   "metadata": {},
   "source": [
    "***Проверим гипотезу***"
   ]
  },
  {
   "cell_type": "code",
   "execution_count": 48,
   "metadata": {},
   "outputs": [
    {
     "name": "stdout",
     "output_type": "stream",
     "text": [
      "p-значение:  1.4460039700704315e-20\n",
      "Отвергаем нулевую гипотезу\n",
      "Средний пользовательский рейтинг для жанра Action: 6.837532133676092\n",
      "Средний пользовательский рейтинг для жанра Sports: 5.238124999999999\n"
     ]
    }
   ],
   "source": [
    "# зададим критический уровень статистической значимости\n",
    "alpha = .05 \n",
    "# если p-value окажется меньше него - отвегнем гипотезу\n",
    "\n",
    "results = st.ttest_ind(action['user_score'],\n",
    "                       sports['user_score'],\n",
    "                       equal_var = False)\n",
    "\n",
    "print('p-значение: ', results.pvalue)\n",
    "\n",
    "if results.pvalue < alpha:\n",
    "    print(\"Отвергаем нулевую гипотезу\")\n",
    "else:\n",
    "    print(\"Не получилось отвергнуть нулевую гипотезу\") \n",
    "\n",
    "print('Средний пользовательский рейтинг для жанра Action:', action['user_score'].mean())\n",
    "print('Средний пользовательский рейтинг для жанра Sports:', sports['user_score'].mean())"
   ]
  },
  {
   "cell_type": "markdown",
   "metadata": {},
   "source": [
    "***Вывод***\n",
    "<br>p-значение ниже порогового значения alpha, что говорит нам о том, что мы должны отвергнуть нулевую гипотезу. А соответственно принять, что пользовательские рейтинги жанров Action и Sports разные."
   ]
  },
  {
   "cell_type": "markdown",
   "metadata": {},
   "source": [
    "## Общий вывод"
   ]
  },
  {
   "cell_type": "markdown",
   "metadata": {},
   "source": [
    "В нашем исследовании должны были выполнить анализ от лица работника интернет-магазина «Стримчик», который продаёт по всему миру компьютерные игры.\n",
    "<br>Из открытых источников доступны исторические данные о продажах игр, оценки пользователей и экспертов, жанры и платформы (например, Xbox или PlayStation).\n",
    "<br>Нам нужно было выявить определяющие успешность игры закономерности, что позволит сделать ставку на потенциально популярный продукт и спланировать рекламные кампании.\n",
    "<br>Перед нами были данные до 2016 года. Сейчас декабрь 2016 г., и мы должны были спланировать кампанию на 2017-й.\n",
    "<br>Также нужно было отработать принцип работы с данными. Неважно, прогнозируем ли мы продажи на 2017 год по данным 2016-го или же 2027-й — по данным 2026 года.\n",
    "\n",
    "<br>Для этого мы:\n",
    "\n",
    "***1. Изучили данные из файлов***\n",
    "<br>Импортировали библиотеки котрые нам потребуются в проекте.\n",
    "<br>Открыли файлы с данными и сохранили их содержимое в переменных\n",
    "\n",
    "<br>Датасет содержит 11 столбцов и 16715 строк:\n",
    "\n",
    "1.1. Название стобцов содержат буквы в верхнем регистре\n",
    "\n",
    "1.2. 6 столбцов содержать пропущеные значения\n",
    "- name\n",
    "- year_of_release\n",
    "- genre\n",
    "- critic_score\n",
    "- user_score\n",
    "- rating\n",
    "\n",
    "1.3. Не подходящий тип данных в столбцах \"указан(правильный)\": \n",
    "- year_of_release - float(int)\n",
    "- user_score - object(int)\n",
    "\n",
    "***2. Подготовили данные к дальнейшим расчетам:***\n",
    "- Привели названия столбцов к нижнему регистру\n",
    "- Преобразовали данные к нужному типу\n",
    "- Удалили пропуски в данных, там где это было возможно без потерь для дальнейших расчетов\n",
    "- Посчитали суммарные продажи во всех регионах и записали их в отдельный столбец.\n",
    "\n",
    "***3. Провели исследовательский анализ данных***\n",
    "\n",
    "3.1. Посмотрели, сколько игр выпускалось в разные годы.¶\n",
    "До 2000 года выпускалось очень маленькое количество игр в сравнении с последующим периодом. Поэтому для последующих рассчетов мы использовали данные о играх выпусченных начиная с 2000 года\n",
    "\n",
    "3.2. Рассмотрели, как менялись продажи по платформам:\n",
    "\n",
    "3.2.1. Выбрали 10 платформ с наибольшими суммарными продажами.\n",
    "Это: \n",
    "- PS2\n",
    "- X360\n",
    "- PS3\n",
    "- Wii\n",
    "- DS\n",
    "- PS4\n",
    "- GBA\n",
    "- PSP\n",
    "- 3DS\n",
    "- XB\n",
    "\n",
    "3.2.2. Построили график распределение продаж по годам для этих платформ\n",
    "На графике хорошо видно, что каждая платформа имеет свой жизненный цикл. Выделяются рост продаж, пики и спады.\n",
    "\n",
    "3.2.3. Определили период жизненного цикла платформы, он составил семь лет.\n",
    "\n",
    "3.3. Для дальнейшего анализа определили актуальный период:\n",
    "<br>Для анализа нам подходили платформы чей жизненный цикл(7лет) не зовершиться до 2017 года. \n",
    "<br>То есть выпущенные не раньше 2010 года (2017 - 7 лет жизненного цикла). \n",
    "<br>Но с учетом того что рынок достаточно динамичный и, судя по графикам, основные свои продажи платформы показывают в первой половине жизненного цикла, поэтому имело смысл взять для расчетов период в половину жизненного цикал. \n",
    "<br>В нашем случае это были платформы запущенные в 2013 году и позже.\n",
    "\n",
    "3.4. Определили какие платформы лидируют по продажам, растут они или падают. Выбрали несколько потенциально прибыльных платформ.\n",
    "\n",
    "3.4.1. Определили платформы лидирующие по продажам в актуальный длянас период.\n",
    "Выделяются с некоторым отрывом продажи первой пятерки:\n",
    "- PS4\n",
    "- PS3\n",
    "- XOne\n",
    "- 3DS\n",
    "- X360\n",
    "\n",
    "3.4.2. Определили рост/падение продаж на разных платформах. Для этого построили график\n",
    "<br>Падение продаж наблюдается у всех платформ\n",
    "<br>Не смотря на хорошие показатели средней выручки платформ PS3, 3DS, X360, тренд на снижение однозначен\n",
    "<br>Две платформы, котрые сохранили показатели лучше остальных, это ***PS4*** и ***XOne***.\n",
    "\n",
    "3.5. Построили график «ящик с усами» по глобальным продажам игр в разбивке по платформам.\n",
    "<br>Несмотря на относительно близкие показатели нормального распределения для всех платформ, потенциал к высоким показателям продаж есть только у 5-6 платформ. Таких как - 3DS, PS3, PS4, X360, XOne\n",
    "\n",
    "3.6. Рассмотрели, как влияют на продажи внутри одной популярной платформы отзывы пользователей и критиков. Построили диаграммы рассеяния и посчитали корреляцию между отзывами и продажами. Влияние оценивали на основе данных платформы PS4.\n",
    "\n",
    "3.6.1. Влияние озывов критиков на продажи у PS4\n",
    "<br>Исходя из диаграммы и небольшого значения корреляции Пирсона(0.41), сделали вывод, что зависимость продаж от оценки критиков слабая.\n",
    "\n",
    "3.6.2. Рассмотрели влияние озывов пользователей на продажи у PS4\n",
    "<br>Исходя из диаграммы и с учетом того что значение корреляции Пирсона стремиться к нулю(0.41), сделали вывод, что продажи от оценки пользователей практически не зависят.\n",
    "\n",
    "3.7. Соотнесли выводы с продажами игр на других платформах\n",
    "\n",
    "3.7.1. Рассмотрели влияние озывов критиков на продажи у других платформ:\n",
    "<br>Коэффициенты корреляции у других платформ близки по значению к PS4. Значения также небольшие, зависимость продаж от оценки критиков слабая\n",
    "\n",
    "3.7.2. Рассмотрели влияние озывов пользователей на продажи у других платформ:\n",
    "<br>Коэффициент корреляции у большинства других платформ, также как и у PS4, близок к нулю. Продажи от оценки пользователей практически не зависят.\n",
    "<br> Исключение составляют Wii и WiiU, где продажи растут при хороших отзывах и PSP где зависимость обратная. Но продажи этих платформ падают, что может давать искажение\n",
    "\n",
    "3.8. Исследовали общее распределение игр по жанрам. Определили самые прибыльные жанры.\n",
    "<br>Выделяются четыре жанра с хорошими продажами в актуальном для нас периоде:\n",
    "- Action\n",
    "- Shooter\n",
    "- Role-Playing\n",
    "- Sports\n",
    "\n",
    "***4. Составим портрет пользователя каждого региона (NA, EU, JP)***\n",
    "<br>4.1.  Самые популярные платформы (топ-5).\n",
    "<br>4.1.1.  Северная Америка (NA). Лучшие пратформы\n",
    "- PS4 -\t108.74 (24.8%)\n",
    "- XOne - 93.12 (21.3%)\n",
    "- X360 - 81.66(18.7%)\n",
    "- PS3 - 63.50(14.5%)\n",
    "- 3DS - 38.20(8.7%)\n",
    "\n",
    "4.1.2.  Европа (EU). Лучшие пратформы\n",
    "- PS4 - 141.09(36.0%)\n",
    "- PS3 - 67.81(17.3%)\n",
    "- XOne - 51.59(13.2%)\n",
    "- X360 - 42.52(10.8%)\n",
    "- 3DS - 30.96(7.9%)\n",
    "\n",
    "4.1.3  Япония (JP). Лучшие пратформы\n",
    "- 3DS - 67.81(48.2%)\n",
    "- PS3 - 23.35(16.6%)\n",
    "- PSV - 18.59(13.2%)\n",
    "- PS4 - 15.96(11.3%)\n",
    "- WiiU - 10.88(7.7%)\n",
    "\n",
    "4.2  Самые популярные жанры (топ-5).\n",
    "<br>4.2.1  Северная Америка (NA). Самые популярные жанры\n",
    "- Action - 126.05(28.8%)\n",
    "- Shooter - 109.74(25.1%)\n",
    "- Sports - 65.27(14.9%)\n",
    "- Role-Playing - 46.40(10.6%)\n",
    "- Misc - 27.49(6.3%)\n",
    "\n",
    "4.2.2  Европа (EU). Самые популярные жанры\n",
    "- Action - 118.13(30.1%)\n",
    "- Shooter - 87.86(22.4%)\n",
    "- Sports - 60.52(15.4%)\n",
    "- Role-Playing - 36.97(9.4%)\n",
    "- Racing - 20.19(5.1%)\n",
    "\n",
    "4.2.3  Япония (JP). Самые популярные жанры\n",
    "- Role-Playing - 51.04(36.3%)\n",
    "- Action - 40.49(28.8%)\n",
    "- Misc - 9.20(6.5%)\n",
    "- Fighting - 7.65(5.4%)\n",
    "- Shooter - 6.61(4.7%)\n",
    "\n",
    "4.3  Определили как влияет рейтинг ESRB на продажи в отдельном регионе\n",
    "<br>4.3.1  Северная Америка (NA). Влияние рейтинга ESRB на продажи.\n",
    "- M - 165.21(47.4%)\n",
    "- E - 79.05(22.7%)\n",
    "- E10+ - 54.24(15.6%)\n",
    "- T - 49.79(14.3%)\n",
    "\n",
    "4.3.2  Европа (EU). Влияние рейтинга ESRB на продажи.\n",
    "- M - 145.32(46.4%)\n",
    "- E - 83.36(26.6%)\n",
    "- E10+ - 42.69(13.6%)\n",
    "- T - 41.95(13.4%)\n",
    "\n",
    "4.3.3  Япония (JP). Влияние рейтинга ESRB на продажи.\n",
    "- T - 20.59(36.9%)\n",
    "- E - 15.14(27.2%)\n",
    "- M - 14.11(25.3%)\n",
    "- E10+ - 5.89(10.6%)\n",
    "\n",
    "***5. Проверили гипотезы***\n",
    "5.1.  Средние пользовательские рейтинги платформ Xbox One и PC одинаковые.\n",
    "<br>Мы должны были проверить гипотезу о  том что средние пользовательские рейтинги платформ Xbox One и PC одинаковые. \n",
    "<br>Для этого сформулировали нулевую (H₀) и альтернативную (H₁) гипотезы:\n",
    "- H₀: средние пользовательские рейтинги платформ Xbox One и PC одинаковые\n",
    "- H₁: средние пользовательские рейтинги платформ Xbox One и PC различны\n",
    "<br>В результате t-теста оказось:\n",
    "<br>p-значение выше порогового значения alpha, что говорит нам о том что отвергнуть нулевую гипотезу не получилось. Соответственно мы должны остаться в рамках нулевой гипотезы о том, что средние пользовательские рейтинги платформ Xbox One и PC одинаковые.\n",
    "\n",
    "5.2  Средние пользовательские рейтинги жанров Action (англ. «действие», экшен-игры) и Sports (англ. «спортивные соревнования») разные.\n",
    "<br>Мы должны были проверить гипотезу о  том что средние пользовательские рейтинги Action и Sports разные. \n",
    "<br>Для этого сформулировали нулевую (H₀) и альтернативную (H₁) гипотезы:\n",
    "- H₀: средние пользовательские рейтинги жанров Action и Sports одинаковые\n",
    "- H₁: средние пользовательские рейтинги жанров Action и Sports различны\n",
    "<br>В результате t-теста оказось:\n",
    "<br>p-значение ниже порогового значения alpha, что говорит нам о том, что мы должны отвергнуть нулевую гипотезу. А соответственно принять, что пользовательские рейтинги жанров Action и Sports разные.\n"
   ]
  }
 ],
 "metadata": {
  "ExecuteTimeLog": [
   {
    "duration": 1165,
    "start_time": "2022-01-31T18:18:35.631Z"
   },
   {
    "duration": 37,
    "start_time": "2022-01-31T18:18:36.798Z"
   },
   {
    "duration": 40,
    "start_time": "2022-01-31T18:18:36.837Z"
   },
   {
    "duration": 5667,
    "start_time": "2022-01-31T18:18:36.879Z"
   },
   {
    "duration": -52,
    "start_time": "2022-01-31T18:18:42.601Z"
   },
   {
    "duration": -71,
    "start_time": "2022-01-31T18:18:42.622Z"
   },
   {
    "duration": -74,
    "start_time": "2022-01-31T18:18:42.626Z"
   },
   {
    "duration": -77,
    "start_time": "2022-01-31T18:18:42.630Z"
   },
   {
    "duration": -79,
    "start_time": "2022-01-31T18:18:42.634Z"
   },
   {
    "duration": -83,
    "start_time": "2022-01-31T18:18:42.639Z"
   },
   {
    "duration": -92,
    "start_time": "2022-01-31T18:18:42.649Z"
   },
   {
    "duration": -95,
    "start_time": "2022-01-31T18:18:42.654Z"
   },
   {
    "duration": -101,
    "start_time": "2022-01-31T18:18:42.661Z"
   },
   {
    "duration": -105,
    "start_time": "2022-01-31T18:18:42.666Z"
   },
   {
    "duration": -109,
    "start_time": "2022-01-31T18:18:42.671Z"
   },
   {
    "duration": -111,
    "start_time": "2022-01-31T18:18:42.675Z"
   },
   {
    "duration": -113,
    "start_time": "2022-01-31T18:18:42.678Z"
   },
   {
    "duration": -116,
    "start_time": "2022-01-31T18:18:42.682Z"
   },
   {
    "duration": -117,
    "start_time": "2022-01-31T18:18:42.685Z"
   },
   {
    "duration": -120,
    "start_time": "2022-01-31T18:18:42.689Z"
   },
   {
    "duration": -122,
    "start_time": "2022-01-31T18:18:42.692Z"
   },
   {
    "duration": -124,
    "start_time": "2022-01-31T18:18:42.695Z"
   },
   {
    "duration": -127,
    "start_time": "2022-01-31T18:18:42.699Z"
   },
   {
    "duration": -129,
    "start_time": "2022-01-31T18:18:42.702Z"
   },
   {
    "duration": -131,
    "start_time": "2022-01-31T18:18:42.705Z"
   },
   {
    "duration": -132,
    "start_time": "2022-01-31T18:18:42.708Z"
   },
   {
    "duration": -135,
    "start_time": "2022-01-31T18:18:42.712Z"
   },
   {
    "duration": -137,
    "start_time": "2022-01-31T18:18:42.715Z"
   },
   {
    "duration": -139,
    "start_time": "2022-01-31T18:18:42.718Z"
   },
   {
    "duration": -141,
    "start_time": "2022-01-31T18:18:42.721Z"
   },
   {
    "duration": -144,
    "start_time": "2022-01-31T18:18:42.724Z"
   },
   {
    "duration": -146,
    "start_time": "2022-01-31T18:18:42.727Z"
   },
   {
    "duration": -148,
    "start_time": "2022-01-31T18:18:42.730Z"
   },
   {
    "duration": -150,
    "start_time": "2022-01-31T18:18:42.734Z"
   },
   {
    "duration": -153,
    "start_time": "2022-01-31T18:18:42.737Z"
   },
   {
    "duration": -155,
    "start_time": "2022-01-31T18:18:42.740Z"
   },
   {
    "duration": 17,
    "start_time": "2022-01-31T18:19:50.279Z"
   },
   {
    "duration": 1081,
    "start_time": "2022-01-31T18:19:55.824Z"
   },
   {
    "duration": 40,
    "start_time": "2022-01-31T18:19:56.907Z"
   },
   {
    "duration": 45,
    "start_time": "2022-01-31T18:19:56.949Z"
   },
   {
    "duration": 18,
    "start_time": "2022-01-31T18:19:56.996Z"
   },
   {
    "duration": 18,
    "start_time": "2022-01-31T18:19:57.016Z"
   },
   {
    "duration": 26,
    "start_time": "2022-01-31T18:19:57.036Z"
   },
   {
    "duration": 12,
    "start_time": "2022-01-31T18:19:57.065Z"
   },
   {
    "duration": 15,
    "start_time": "2022-01-31T18:19:57.081Z"
   },
   {
    "duration": 2,
    "start_time": "2022-01-31T18:19:57.098Z"
   },
   {
    "duration": 242,
    "start_time": "2022-01-31T18:19:57.101Z"
   },
   {
    "duration": 14,
    "start_time": "2022-01-31T18:19:57.345Z"
   },
   {
    "duration": 8,
    "start_time": "2022-01-31T18:19:57.360Z"
   },
   {
    "duration": 329,
    "start_time": "2022-01-31T18:19:57.370Z"
   },
   {
    "duration": 16,
    "start_time": "2022-01-31T18:19:57.701Z"
   },
   {
    "duration": 9,
    "start_time": "2022-01-31T18:19:57.719Z"
   },
   {
    "duration": 34,
    "start_time": "2022-01-31T18:19:57.730Z"
   },
   {
    "duration": 318,
    "start_time": "2022-01-31T18:19:57.765Z"
   },
   {
    "duration": 424,
    "start_time": "2022-01-31T18:19:58.085Z"
   },
   {
    "duration": 3,
    "start_time": "2022-01-31T18:19:58.511Z"
   },
   {
    "duration": 272,
    "start_time": "2022-01-31T18:19:58.516Z"
   },
   {
    "duration": 13,
    "start_time": "2022-01-31T18:19:58.790Z"
   },
   {
    "duration": 267,
    "start_time": "2022-01-31T18:19:58.805Z"
   },
   {
    "duration": 13,
    "start_time": "2022-01-31T18:19:59.075Z"
   },
   {
    "duration": 316,
    "start_time": "2022-01-31T18:19:59.090Z"
   },
   {
    "duration": 18,
    "start_time": "2022-01-31T18:19:59.408Z"
   },
   {
    "duration": 240,
    "start_time": "2022-01-31T18:19:59.427Z"
   },
   {
    "duration": 18,
    "start_time": "2022-01-31T18:19:59.670Z"
   },
   {
    "duration": 239,
    "start_time": "2022-01-31T18:19:59.690Z"
   },
   {
    "duration": 163,
    "start_time": "2022-01-31T18:19:59.930Z"
   },
   {
    "duration": 167,
    "start_time": "2022-01-31T18:20:00.095Z"
   },
   {
    "duration": 158,
    "start_time": "2022-01-31T18:20:00.264Z"
   },
   {
    "duration": 170,
    "start_time": "2022-01-31T18:20:00.424Z"
   },
   {
    "duration": 165,
    "start_time": "2022-01-31T18:20:00.596Z"
   },
   {
    "duration": 169,
    "start_time": "2022-01-31T18:20:00.762Z"
   },
   {
    "duration": 126,
    "start_time": "2022-01-31T18:20:00.932Z"
   },
   {
    "duration": 114,
    "start_time": "2022-01-31T18:20:01.060Z"
   },
   {
    "duration": 218,
    "start_time": "2022-01-31T18:20:01.176Z"
   },
   {
    "duration": 269,
    "start_time": "2022-01-31T18:35:34.813Z"
   },
   {
    "duration": 8,
    "start_time": "2022-01-31T18:36:02.744Z"
   },
   {
    "duration": 11,
    "start_time": "2022-01-31T18:41:25.101Z"
   },
   {
    "duration": 13,
    "start_time": "2022-01-31T18:41:52.137Z"
   },
   {
    "duration": 18,
    "start_time": "2022-01-31T18:42:07.808Z"
   },
   {
    "duration": 186,
    "start_time": "2022-01-31T18:42:09.640Z"
   },
   {
    "duration": 168,
    "start_time": "2022-01-31T18:42:31.509Z"
   },
   {
    "duration": 2,
    "start_time": "2022-01-31T18:43:45.330Z"
   },
   {
    "duration": 6,
    "start_time": "2022-01-31T18:43:49.963Z"
   },
   {
    "duration": 6,
    "start_time": "2022-01-31T18:44:30.355Z"
   },
   {
    "duration": 7,
    "start_time": "2022-01-31T18:44:49.005Z"
   },
   {
    "duration": 20,
    "start_time": "2022-01-31T18:45:50.901Z"
   },
   {
    "duration": 13,
    "start_time": "2022-01-31T18:57:49.479Z"
   },
   {
    "duration": 20,
    "start_time": "2022-01-31T18:57:54.187Z"
   },
   {
    "duration": 6,
    "start_time": "2022-01-31T18:58:03.904Z"
   },
   {
    "duration": 10,
    "start_time": "2022-01-31T18:59:50.810Z"
   },
   {
    "duration": 18,
    "start_time": "2022-01-31T19:00:05.210Z"
   },
   {
    "duration": 21,
    "start_time": "2022-01-31T19:00:08.490Z"
   },
   {
    "duration": 7,
    "start_time": "2022-01-31T19:00:12.925Z"
   },
   {
    "duration": 7,
    "start_time": "2022-01-31T19:13:05.029Z"
   },
   {
    "duration": 7,
    "start_time": "2022-01-31T19:13:15.277Z"
   },
   {
    "duration": 1050,
    "start_time": "2022-01-31T19:13:46.352Z"
   },
   {
    "duration": 36,
    "start_time": "2022-01-31T19:13:47.404Z"
   },
   {
    "duration": 40,
    "start_time": "2022-01-31T19:13:47.442Z"
   },
   {
    "duration": 14,
    "start_time": "2022-01-31T19:13:47.484Z"
   },
   {
    "duration": 19,
    "start_time": "2022-01-31T19:13:47.500Z"
   },
   {
    "duration": 5,
    "start_time": "2022-01-31T19:13:47.521Z"
   },
   {
    "duration": 36,
    "start_time": "2022-01-31T19:13:47.528Z"
   },
   {
    "duration": 16,
    "start_time": "2022-01-31T19:13:47.567Z"
   },
   {
    "duration": 2,
    "start_time": "2022-01-31T19:13:47.585Z"
   },
   {
    "duration": 232,
    "start_time": "2022-01-31T19:13:47.589Z"
   },
   {
    "duration": 6,
    "start_time": "2022-01-31T19:13:47.823Z"
   },
   {
    "duration": 16,
    "start_time": "2022-01-31T19:13:47.831Z"
   },
   {
    "duration": 314,
    "start_time": "2022-01-31T19:13:47.849Z"
   },
   {
    "duration": 16,
    "start_time": "2022-01-31T19:13:48.165Z"
   },
   {
    "duration": 10,
    "start_time": "2022-01-31T19:13:48.182Z"
   },
   {
    "duration": 10,
    "start_time": "2022-01-31T19:13:48.194Z"
   },
   {
    "duration": 332,
    "start_time": "2022-01-31T19:13:48.205Z"
   },
   {
    "duration": 446,
    "start_time": "2022-01-31T19:13:48.539Z"
   },
   {
    "duration": 2,
    "start_time": "2022-01-31T19:13:48.987Z"
   },
   {
    "duration": 278,
    "start_time": "2022-01-31T19:13:48.991Z"
   },
   {
    "duration": 16,
    "start_time": "2022-01-31T19:13:49.271Z"
   },
   {
    "duration": 278,
    "start_time": "2022-01-31T19:13:49.289Z"
   },
   {
    "duration": 15,
    "start_time": "2022-01-31T19:13:49.571Z"
   },
   {
    "duration": 339,
    "start_time": "2022-01-31T19:13:49.588Z"
   },
   {
    "duration": 31,
    "start_time": "2022-01-31T19:13:49.929Z"
   },
   {
    "duration": 244,
    "start_time": "2022-01-31T19:13:49.961Z"
   },
   {
    "duration": 16,
    "start_time": "2022-01-31T19:13:50.207Z"
   },
   {
    "duration": 221,
    "start_time": "2022-01-31T19:13:50.225Z"
   },
   {
    "duration": 151,
    "start_time": "2022-01-31T19:13:50.448Z"
   },
   {
    "duration": 159,
    "start_time": "2022-01-31T19:13:50.601Z"
   },
   {
    "duration": 138,
    "start_time": "2022-01-31T19:13:50.761Z"
   },
   {
    "duration": 166,
    "start_time": "2022-01-31T19:13:50.901Z"
   },
   {
    "duration": 174,
    "start_time": "2022-01-31T19:13:51.069Z"
   },
   {
    "duration": 164,
    "start_time": "2022-01-31T19:13:51.245Z"
   },
   {
    "duration": 109,
    "start_time": "2022-01-31T19:13:51.411Z"
   },
   {
    "duration": 113,
    "start_time": "2022-01-31T19:13:51.521Z"
   },
   {
    "duration": 206,
    "start_time": "2022-01-31T19:13:51.636Z"
   },
   {
    "duration": 18,
    "start_time": "2022-01-31T19:13:51.843Z"
   },
   {
    "duration": 18,
    "start_time": "2022-01-31T19:13:51.862Z"
   },
   {
    "duration": 7,
    "start_time": "2022-01-31T19:13:51.882Z"
   },
   {
    "duration": 11,
    "start_time": "2022-01-31T19:23:54.804Z"
   },
   {
    "duration": 25,
    "start_time": "2022-01-31T19:24:02.029Z"
   },
   {
    "duration": 12,
    "start_time": "2022-01-31T19:24:13.780Z"
   },
   {
    "duration": 6,
    "start_time": "2022-01-31T19:24:26.310Z"
   },
   {
    "duration": 10,
    "start_time": "2022-01-31T19:27:40.695Z"
   },
   {
    "duration": 4803,
    "start_time": "2022-01-31T19:27:41.883Z"
   },
   {
    "duration": 6,
    "start_time": "2022-01-31T19:28:16.368Z"
   },
   {
    "duration": 3,
    "start_time": "2022-01-31T20:32:14.276Z"
   },
   {
    "duration": 1113,
    "start_time": "2022-01-31T20:32:19.637Z"
   },
   {
    "duration": 39,
    "start_time": "2022-01-31T20:32:20.752Z"
   },
   {
    "duration": 41,
    "start_time": "2022-01-31T20:32:20.793Z"
   },
   {
    "duration": 25,
    "start_time": "2022-01-31T20:32:20.835Z"
   },
   {
    "duration": 20,
    "start_time": "2022-01-31T20:32:20.861Z"
   },
   {
    "duration": 6,
    "start_time": "2022-01-31T20:32:20.882Z"
   },
   {
    "duration": 12,
    "start_time": "2022-01-31T20:32:20.889Z"
   },
   {
    "duration": 16,
    "start_time": "2022-01-31T20:32:20.904Z"
   },
   {
    "duration": 2,
    "start_time": "2022-01-31T20:32:20.922Z"
   },
   {
    "duration": 249,
    "start_time": "2022-01-31T20:32:20.926Z"
   },
   {
    "duration": 7,
    "start_time": "2022-01-31T20:32:21.177Z"
   },
   {
    "duration": 12,
    "start_time": "2022-01-31T20:32:21.185Z"
   },
   {
    "duration": 341,
    "start_time": "2022-01-31T20:32:21.198Z"
   },
   {
    "duration": 26,
    "start_time": "2022-01-31T20:32:21.541Z"
   },
   {
    "duration": 9,
    "start_time": "2022-01-31T20:32:21.569Z"
   },
   {
    "duration": 10,
    "start_time": "2022-01-31T20:32:21.579Z"
   },
   {
    "duration": 344,
    "start_time": "2022-01-31T20:32:21.590Z"
   },
   {
    "duration": 429,
    "start_time": "2022-01-31T20:32:21.936Z"
   },
   {
    "duration": 3,
    "start_time": "2022-01-31T20:32:22.366Z"
   },
   {
    "duration": 284,
    "start_time": "2022-01-31T20:32:22.370Z"
   },
   {
    "duration": 14,
    "start_time": "2022-01-31T20:32:22.656Z"
   },
   {
    "duration": 287,
    "start_time": "2022-01-31T20:32:22.672Z"
   },
   {
    "duration": 14,
    "start_time": "2022-01-31T20:32:22.962Z"
   },
   {
    "duration": 357,
    "start_time": "2022-01-31T20:32:22.978Z"
   },
   {
    "duration": 25,
    "start_time": "2022-01-31T20:32:23.337Z"
   },
   {
    "duration": 259,
    "start_time": "2022-01-31T20:32:23.364Z"
   },
   {
    "duration": 19,
    "start_time": "2022-01-31T20:32:23.625Z"
   },
   {
    "duration": 316,
    "start_time": "2022-01-31T20:32:23.646Z"
   },
   {
    "duration": 306,
    "start_time": "2022-01-31T20:32:23.964Z"
   },
   {
    "duration": 155,
    "start_time": "2022-01-31T20:32:24.272Z"
   },
   {
    "duration": 157,
    "start_time": "2022-01-31T20:32:24.429Z"
   },
   {
    "duration": 176,
    "start_time": "2022-01-31T20:32:24.588Z"
   },
   {
    "duration": 171,
    "start_time": "2022-01-31T20:32:24.766Z"
   },
   {
    "duration": 175,
    "start_time": "2022-01-31T20:32:24.939Z"
   },
   {
    "duration": 118,
    "start_time": "2022-01-31T20:32:25.116Z"
   },
   {
    "duration": 124,
    "start_time": "2022-01-31T20:32:25.236Z"
   },
   {
    "duration": 224,
    "start_time": "2022-01-31T20:32:25.362Z"
   },
   {
    "duration": 10,
    "start_time": "2022-01-31T20:32:25.588Z"
   },
   {
    "duration": 21,
    "start_time": "2022-01-31T20:32:25.600Z"
   },
   {
    "duration": 6,
    "start_time": "2022-01-31T20:32:25.623Z"
   },
   {
    "duration": 32,
    "start_time": "2022-01-31T20:32:25.631Z"
   },
   {
    "duration": 6,
    "start_time": "2022-01-31T20:32:25.665Z"
   },
   {
    "duration": 369,
    "start_time": "2022-02-01T11:15:53.134Z"
   },
   {
    "duration": 1515,
    "start_time": "2022-02-01T11:16:05.810Z"
   },
   {
    "duration": 48,
    "start_time": "2022-02-01T11:16:07.328Z"
   },
   {
    "duration": 73,
    "start_time": "2022-02-01T11:16:07.379Z"
   },
   {
    "duration": 23,
    "start_time": "2022-02-01T11:16:07.454Z"
   },
   {
    "duration": 25,
    "start_time": "2022-02-01T11:16:07.479Z"
   },
   {
    "duration": 51,
    "start_time": "2022-02-01T11:16:07.506Z"
   },
   {
    "duration": 27,
    "start_time": "2022-02-01T11:16:07.560Z"
   },
   {
    "duration": 3,
    "start_time": "2022-02-01T11:16:07.590Z"
   },
   {
    "duration": 367,
    "start_time": "2022-02-01T11:16:07.596Z"
   },
   {
    "duration": 11,
    "start_time": "2022-02-01T11:16:07.966Z"
   },
   {
    "duration": 15,
    "start_time": "2022-02-01T11:16:07.980Z"
   },
   {
    "duration": 527,
    "start_time": "2022-02-01T11:16:07.997Z"
   },
   {
    "duration": 38,
    "start_time": "2022-02-01T11:16:08.527Z"
   },
   {
    "duration": 14,
    "start_time": "2022-02-01T11:16:08.568Z"
   },
   {
    "duration": 15,
    "start_time": "2022-02-01T11:16:08.584Z"
   },
   {
    "duration": 888,
    "start_time": "2022-02-01T11:16:08.601Z"
   },
   {
    "duration": 687,
    "start_time": "2022-02-01T11:16:09.492Z"
   },
   {
    "duration": 4,
    "start_time": "2022-02-01T11:16:10.182Z"
   },
   {
    "duration": 441,
    "start_time": "2022-02-01T11:16:10.189Z"
   },
   {
    "duration": 30,
    "start_time": "2022-02-01T11:16:10.633Z"
   },
   {
    "duration": 436,
    "start_time": "2022-02-01T11:16:10.666Z"
   },
   {
    "duration": 21,
    "start_time": "2022-02-01T11:16:11.104Z"
   },
   {
    "duration": 495,
    "start_time": "2022-02-01T11:16:11.129Z"
   },
   {
    "duration": 36,
    "start_time": "2022-02-01T11:16:11.627Z"
   },
   {
    "duration": 393,
    "start_time": "2022-02-01T11:16:11.665Z"
   },
   {
    "duration": 27,
    "start_time": "2022-02-01T11:16:12.061Z"
   },
   {
    "duration": 378,
    "start_time": "2022-02-01T11:16:12.091Z"
   },
   {
    "duration": 240,
    "start_time": "2022-02-01T11:16:12.471Z"
   },
   {
    "duration": 244,
    "start_time": "2022-02-01T11:16:12.714Z"
   },
   {
    "duration": 254,
    "start_time": "2022-02-01T11:16:12.960Z"
   },
   {
    "duration": 265,
    "start_time": "2022-02-01T11:16:13.216Z"
   },
   {
    "duration": 266,
    "start_time": "2022-02-01T11:16:13.484Z"
   },
   {
    "duration": 250,
    "start_time": "2022-02-01T11:16:13.753Z"
   },
   {
    "duration": 184,
    "start_time": "2022-02-01T11:16:14.006Z"
   },
   {
    "duration": 187,
    "start_time": "2022-02-01T11:16:14.192Z"
   },
   {
    "duration": 270,
    "start_time": "2022-02-01T11:16:14.382Z"
   },
   {
    "duration": 14,
    "start_time": "2022-02-01T11:16:14.654Z"
   },
   {
    "duration": 43,
    "start_time": "2022-02-01T11:16:14.670Z"
   },
   {
    "duration": 11,
    "start_time": "2022-02-01T11:16:14.715Z"
   },
   {
    "duration": 35,
    "start_time": "2022-02-01T11:16:14.728Z"
   },
   {
    "duration": 9,
    "start_time": "2022-02-01T11:16:14.766Z"
   },
   {
    "duration": 1463,
    "start_time": "2022-02-01T11:18:22.087Z"
   },
   {
    "duration": 51,
    "start_time": "2022-02-01T11:18:23.553Z"
   },
   {
    "duration": 80,
    "start_time": "2022-02-01T11:18:23.608Z"
   },
   {
    "duration": 26,
    "start_time": "2022-02-01T11:18:23.692Z"
   },
   {
    "duration": 540,
    "start_time": "2022-02-01T11:18:23.721Z"
   },
   {
    "duration": 17,
    "start_time": "2022-02-01T11:18:24.248Z"
   },
   {
    "duration": 13,
    "start_time": "2022-02-01T11:18:24.254Z"
   },
   {
    "duration": 10,
    "start_time": "2022-02-01T11:18:24.259Z"
   },
   {
    "duration": 8,
    "start_time": "2022-02-01T11:18:24.262Z"
   },
   {
    "duration": 4,
    "start_time": "2022-02-01T11:18:24.268Z"
   },
   {
    "duration": 1,
    "start_time": "2022-02-01T11:18:24.272Z"
   },
   {
    "duration": -1,
    "start_time": "2022-02-01T11:18:24.276Z"
   },
   {
    "duration": -4,
    "start_time": "2022-02-01T11:18:24.280Z"
   },
   {
    "duration": -8,
    "start_time": "2022-02-01T11:18:24.285Z"
   },
   {
    "duration": -12,
    "start_time": "2022-02-01T11:18:24.290Z"
   },
   {
    "duration": -14,
    "start_time": "2022-02-01T11:18:24.294Z"
   },
   {
    "duration": -18,
    "start_time": "2022-02-01T11:18:24.299Z"
   },
   {
    "duration": -18,
    "start_time": "2022-02-01T11:18:24.302Z"
   },
   {
    "duration": -22,
    "start_time": "2022-02-01T11:18:24.307Z"
   },
   {
    "duration": -25,
    "start_time": "2022-02-01T11:18:24.311Z"
   },
   {
    "duration": -29,
    "start_time": "2022-02-01T11:18:24.316Z"
   },
   {
    "duration": -40,
    "start_time": "2022-02-01T11:18:24.329Z"
   },
   {
    "duration": -43,
    "start_time": "2022-02-01T11:18:24.333Z"
   },
   {
    "duration": -47,
    "start_time": "2022-02-01T11:18:24.338Z"
   },
   {
    "duration": -50,
    "start_time": "2022-02-01T11:18:24.343Z"
   },
   {
    "duration": -55,
    "start_time": "2022-02-01T11:18:24.349Z"
   },
   {
    "duration": -58,
    "start_time": "2022-02-01T11:18:24.353Z"
   },
   {
    "duration": -62,
    "start_time": "2022-02-01T11:18:24.358Z"
   },
   {
    "duration": -64,
    "start_time": "2022-02-01T11:18:24.362Z"
   },
   {
    "duration": -17,
    "start_time": "2022-02-01T11:18:24.367Z"
   },
   {
    "duration": -19,
    "start_time": "2022-02-01T11:18:24.370Z"
   },
   {
    "duration": -22,
    "start_time": "2022-02-01T11:18:24.375Z"
   },
   {
    "duration": -25,
    "start_time": "2022-02-01T11:18:24.379Z"
   },
   {
    "duration": -27,
    "start_time": "2022-02-01T11:18:24.383Z"
   },
   {
    "duration": -30,
    "start_time": "2022-02-01T11:18:24.387Z"
   },
   {
    "duration": -33,
    "start_time": "2022-02-01T11:18:24.392Z"
   },
   {
    "duration": -36,
    "start_time": "2022-02-01T11:18:24.396Z"
   },
   {
    "duration": -38,
    "start_time": "2022-02-01T11:18:24.399Z"
   },
   {
    "duration": -40,
    "start_time": "2022-02-01T11:18:24.403Z"
   },
   {
    "duration": -43,
    "start_time": "2022-02-01T11:18:24.407Z"
   },
   {
    "duration": -45,
    "start_time": "2022-02-01T11:18:24.411Z"
   },
   {
    "duration": 1871,
    "start_time": "2022-02-01T11:28:08.997Z"
   },
   {
    "duration": 50,
    "start_time": "2022-02-01T11:28:10.871Z"
   },
   {
    "duration": 78,
    "start_time": "2022-02-01T11:28:10.924Z"
   },
   {
    "duration": 24,
    "start_time": "2022-02-01T11:28:11.004Z"
   },
   {
    "duration": 49,
    "start_time": "2022-02-01T11:28:11.030Z"
   },
   {
    "duration": 16,
    "start_time": "2022-02-01T11:28:11.082Z"
   },
   {
    "duration": 56,
    "start_time": "2022-02-01T11:28:11.101Z"
   },
   {
    "duration": 10,
    "start_time": "2022-02-01T11:28:11.166Z"
   },
   {
    "duration": 406,
    "start_time": "2022-02-01T11:28:11.180Z"
   },
   {
    "duration": 10,
    "start_time": "2022-02-01T11:28:11.589Z"
   },
   {
    "duration": 22,
    "start_time": "2022-02-01T11:28:11.649Z"
   },
   {
    "duration": 987,
    "start_time": "2022-02-01T11:28:11.674Z"
   },
   {
    "duration": 26,
    "start_time": "2022-02-01T11:28:12.664Z"
   },
   {
    "duration": 15,
    "start_time": "2022-02-01T11:28:12.692Z"
   },
   {
    "duration": 50,
    "start_time": "2022-02-01T11:28:12.709Z"
   },
   {
    "duration": 527,
    "start_time": "2022-02-01T11:28:12.762Z"
   },
   {
    "duration": 708,
    "start_time": "2022-02-01T11:28:13.292Z"
   },
   {
    "duration": 3,
    "start_time": "2022-02-01T11:28:14.003Z"
   },
   {
    "duration": 478,
    "start_time": "2022-02-01T11:28:14.009Z"
   },
   {
    "duration": 21,
    "start_time": "2022-02-01T11:28:14.489Z"
   },
   {
    "duration": 500,
    "start_time": "2022-02-01T11:28:14.512Z"
   },
   {
    "duration": 39,
    "start_time": "2022-02-01T11:28:15.015Z"
   },
   {
    "duration": 536,
    "start_time": "2022-02-01T11:28:15.060Z"
   },
   {
    "duration": 28,
    "start_time": "2022-02-01T11:28:15.600Z"
   },
   {
    "duration": 454,
    "start_time": "2022-02-01T11:28:15.630Z"
   },
   {
    "duration": 29,
    "start_time": "2022-02-01T11:28:16.087Z"
   },
   {
    "duration": 405,
    "start_time": "2022-02-01T11:28:16.119Z"
   },
   {
    "duration": 271,
    "start_time": "2022-02-01T11:28:16.527Z"
   },
   {
    "duration": 289,
    "start_time": "2022-02-01T11:28:16.800Z"
   },
   {
    "duration": 294,
    "start_time": "2022-02-01T11:28:17.091Z"
   },
   {
    "duration": 295,
    "start_time": "2022-02-01T11:28:17.387Z"
   },
   {
    "duration": 273,
    "start_time": "2022-02-01T11:28:17.685Z"
   },
   {
    "duration": 266,
    "start_time": "2022-02-01T11:28:17.961Z"
   },
   {
    "duration": 195,
    "start_time": "2022-02-01T11:28:18.230Z"
   },
   {
    "duration": 195,
    "start_time": "2022-02-01T11:28:18.427Z"
   },
   {
    "duration": 303,
    "start_time": "2022-02-01T11:28:18.625Z"
   },
   {
    "duration": 37,
    "start_time": "2022-02-01T11:28:18.931Z"
   },
   {
    "duration": 52,
    "start_time": "2022-02-01T11:28:18.971Z"
   },
   {
    "duration": 13,
    "start_time": "2022-02-01T11:28:19.026Z"
   },
   {
    "duration": 20,
    "start_time": "2022-02-01T11:28:19.050Z"
   },
   {
    "duration": 18,
    "start_time": "2022-02-01T11:28:19.073Z"
   },
   {
    "duration": 26,
    "start_time": "2022-02-01T13:12:34.833Z"
   },
   {
    "duration": 249,
    "start_time": "2022-02-01T15:01:56.744Z"
   },
   {
    "duration": 243,
    "start_time": "2022-02-01T15:02:22.466Z"
   },
   {
    "duration": 236,
    "start_time": "2022-02-01T15:02:28.829Z"
   },
   {
    "duration": 1103,
    "start_time": "2022-02-01T16:25:50.617Z"
   },
   {
    "duration": 38,
    "start_time": "2022-02-01T16:25:51.722Z"
   },
   {
    "duration": 44,
    "start_time": "2022-02-01T16:25:51.762Z"
   },
   {
    "duration": 13,
    "start_time": "2022-02-01T16:25:51.808Z"
   },
   {
    "duration": 16,
    "start_time": "2022-02-01T16:25:51.823Z"
   },
   {
    "duration": 10,
    "start_time": "2022-02-01T16:25:51.841Z"
   },
   {
    "duration": 39,
    "start_time": "2022-02-01T16:25:51.852Z"
   },
   {
    "duration": 218,
    "start_time": "2022-02-01T16:25:51.893Z"
   },
   {
    "duration": 5,
    "start_time": "2022-02-01T16:25:52.113Z"
   },
   {
    "duration": 7,
    "start_time": "2022-02-01T16:25:52.120Z"
   },
   {
    "duration": 308,
    "start_time": "2022-02-01T16:25:52.129Z"
   },
   {
    "duration": 13,
    "start_time": "2022-02-01T16:25:52.439Z"
   },
   {
    "duration": 30,
    "start_time": "2022-02-01T16:25:52.453Z"
   },
   {
    "duration": 12,
    "start_time": "2022-02-01T16:25:52.487Z"
   },
   {
    "duration": 306,
    "start_time": "2022-02-01T16:25:52.501Z"
   },
   {
    "duration": 397,
    "start_time": "2022-02-01T16:25:52.809Z"
   },
   {
    "duration": 259,
    "start_time": "2022-02-01T16:25:53.208Z"
   },
   {
    "duration": 14,
    "start_time": "2022-02-01T16:25:53.471Z"
   },
   {
    "duration": 254,
    "start_time": "2022-02-01T16:25:53.487Z"
   },
   {
    "duration": 14,
    "start_time": "2022-02-01T16:25:53.743Z"
   },
   {
    "duration": 305,
    "start_time": "2022-02-01T16:25:53.771Z"
   },
   {
    "duration": 18,
    "start_time": "2022-02-01T16:25:54.078Z"
   },
   {
    "duration": 239,
    "start_time": "2022-02-01T16:25:54.099Z"
   },
   {
    "duration": 18,
    "start_time": "2022-02-01T16:25:54.339Z"
   },
   {
    "duration": 245,
    "start_time": "2022-02-01T16:25:54.358Z"
   },
   {
    "duration": 149,
    "start_time": "2022-02-01T16:25:54.604Z"
   },
   {
    "duration": 155,
    "start_time": "2022-02-01T16:25:54.755Z"
   },
   {
    "duration": 139,
    "start_time": "2022-02-01T16:25:54.912Z"
   },
   {
    "duration": 169,
    "start_time": "2022-02-01T16:25:55.052Z"
   },
   {
    "duration": 162,
    "start_time": "2022-02-01T16:25:55.222Z"
   },
   {
    "duration": 161,
    "start_time": "2022-02-01T16:25:55.386Z"
   },
   {
    "duration": 110,
    "start_time": "2022-02-01T16:25:55.549Z"
   },
   {
    "duration": 117,
    "start_time": "2022-02-01T16:25:55.661Z"
   },
   {
    "duration": 209,
    "start_time": "2022-02-01T16:25:55.781Z"
   },
   {
    "duration": 13,
    "start_time": "2022-02-01T16:25:55.992Z"
   },
   {
    "duration": 7,
    "start_time": "2022-02-01T16:25:56.007Z"
   },
   {
    "duration": 70,
    "start_time": "2022-02-01T16:25:56.016Z"
   },
   {
    "duration": 7,
    "start_time": "2022-02-01T16:25:56.088Z"
   },
   {
    "duration": 1150,
    "start_time": "2022-02-11T06:51:57.406Z"
   },
   {
    "duration": 32,
    "start_time": "2022-02-11T06:51:58.557Z"
   },
   {
    "duration": 45,
    "start_time": "2022-02-11T06:51:58.591Z"
   },
   {
    "duration": 15,
    "start_time": "2022-02-11T06:51:58.637Z"
   },
   {
    "duration": 19,
    "start_time": "2022-02-11T06:51:58.653Z"
   },
   {
    "duration": 11,
    "start_time": "2022-02-11T06:51:58.674Z"
   },
   {
    "duration": 39,
    "start_time": "2022-02-11T06:51:58.686Z"
   },
   {
    "duration": 220,
    "start_time": "2022-02-11T06:51:58.726Z"
   },
   {
    "duration": 6,
    "start_time": "2022-02-11T06:51:58.948Z"
   },
   {
    "duration": 10,
    "start_time": "2022-02-11T06:51:58.956Z"
   },
   {
    "duration": 337,
    "start_time": "2022-02-11T06:51:58.968Z"
   },
   {
    "duration": 15,
    "start_time": "2022-02-11T06:51:59.307Z"
   },
   {
    "duration": 9,
    "start_time": "2022-02-11T06:51:59.324Z"
   },
   {
    "duration": 9,
    "start_time": "2022-02-11T06:51:59.334Z"
   },
   {
    "duration": 332,
    "start_time": "2022-02-11T06:51:59.345Z"
   },
   {
    "duration": 418,
    "start_time": "2022-02-11T06:51:59.678Z"
   },
   {
    "duration": 275,
    "start_time": "2022-02-11T06:52:00.098Z"
   },
   {
    "duration": 14,
    "start_time": "2022-02-11T06:52:00.375Z"
   },
   {
    "duration": 288,
    "start_time": "2022-02-11T06:52:00.390Z"
   },
   {
    "duration": 13,
    "start_time": "2022-02-11T06:52:00.680Z"
   },
   {
    "duration": 321,
    "start_time": "2022-02-11T06:52:00.695Z"
   },
   {
    "duration": 17,
    "start_time": "2022-02-11T06:52:01.018Z"
   },
   {
    "duration": 270,
    "start_time": "2022-02-11T06:52:01.037Z"
   },
   {
    "duration": 20,
    "start_time": "2022-02-11T06:52:01.309Z"
   },
   {
    "duration": 238,
    "start_time": "2022-02-11T06:52:01.331Z"
   },
   {
    "duration": 160,
    "start_time": "2022-02-11T06:52:01.571Z"
   },
   {
    "duration": 170,
    "start_time": "2022-02-11T06:52:01.736Z"
   },
   {
    "duration": 161,
    "start_time": "2022-02-11T06:52:01.912Z"
   },
   {
    "duration": 179,
    "start_time": "2022-02-11T06:52:02.075Z"
   },
   {
    "duration": 173,
    "start_time": "2022-02-11T06:52:02.256Z"
   },
   {
    "duration": 181,
    "start_time": "2022-02-11T06:52:02.431Z"
   },
   {
    "duration": 126,
    "start_time": "2022-02-11T06:52:02.613Z"
   },
   {
    "duration": 118,
    "start_time": "2022-02-11T06:52:02.741Z"
   },
   {
    "duration": 203,
    "start_time": "2022-02-11T06:52:02.861Z"
   },
   {
    "duration": 10,
    "start_time": "2022-02-11T06:52:03.066Z"
   },
   {
    "duration": 30,
    "start_time": "2022-02-11T06:52:03.077Z"
   },
   {
    "duration": 15,
    "start_time": "2022-02-11T06:52:03.109Z"
   },
   {
    "duration": 6,
    "start_time": "2022-02-11T06:52:03.126Z"
   },
   {
    "duration": 22,
    "start_time": "2022-02-11T08:01:36.654Z"
   },
   {
    "duration": 345,
    "start_time": "2022-02-11T08:01:47.177Z"
   },
   {
    "duration": 6,
    "start_time": "2022-02-11T08:01:55.220Z"
   },
   {
    "duration": 7,
    "start_time": "2022-02-11T08:02:26.548Z"
   },
   {
    "duration": 13,
    "start_time": "2022-02-11T08:05:12.690Z"
   },
   {
    "duration": 13,
    "start_time": "2022-02-11T08:06:31.854Z"
   },
   {
    "duration": 12,
    "start_time": "2022-02-11T08:08:37.973Z"
   },
   {
    "duration": 13,
    "start_time": "2022-02-11T08:14:23.580Z"
   },
   {
    "duration": 12,
    "start_time": "2022-02-11T08:14:44.720Z"
   },
   {
    "duration": 21,
    "start_time": "2022-02-11T08:14:57.775Z"
   },
   {
    "duration": 16,
    "start_time": "2022-02-11T08:15:29.338Z"
   },
   {
    "duration": 18,
    "start_time": "2022-02-11T08:18:20.654Z"
   },
   {
    "duration": 818,
    "start_time": "2022-02-13T13:58:35.531Z"
   },
   {
    "duration": 1500,
    "start_time": "2022-02-13T13:58:43.727Z"
   },
   {
    "duration": 46,
    "start_time": "2022-02-13T13:58:45.229Z"
   },
   {
    "duration": 60,
    "start_time": "2022-02-13T13:58:45.278Z"
   },
   {
    "duration": 3,
    "start_time": "2022-02-13T13:58:45.340Z"
   },
   {
    "duration": 18,
    "start_time": "2022-02-13T13:58:45.360Z"
   },
   {
    "duration": 26,
    "start_time": "2022-02-13T13:58:45.381Z"
   },
   {
    "duration": 15,
    "start_time": "2022-02-13T13:58:45.409Z"
   },
   {
    "duration": 22,
    "start_time": "2022-02-13T13:58:45.461Z"
   },
   {
    "duration": 349,
    "start_time": "2022-02-13T13:58:45.487Z"
   },
   {
    "duration": 9,
    "start_time": "2022-02-13T13:58:45.838Z"
   },
   {
    "duration": 11,
    "start_time": "2022-02-13T13:58:45.860Z"
   },
   {
    "duration": 515,
    "start_time": "2022-02-13T13:58:45.873Z"
   },
   {
    "duration": 22,
    "start_time": "2022-02-13T13:58:46.390Z"
   },
   {
    "duration": 15,
    "start_time": "2022-02-13T13:58:46.414Z"
   },
   {
    "duration": 16,
    "start_time": "2022-02-13T13:58:46.460Z"
   },
   {
    "duration": 1189,
    "start_time": "2022-02-13T13:58:46.478Z"
   },
   {
    "duration": 681,
    "start_time": "2022-02-13T13:58:47.670Z"
   },
   {
    "duration": 444,
    "start_time": "2022-02-13T13:58:48.354Z"
   },
   {
    "duration": 22,
    "start_time": "2022-02-13T13:58:48.800Z"
   },
   {
    "duration": 478,
    "start_time": "2022-02-13T13:58:48.825Z"
   },
   {
    "duration": 20,
    "start_time": "2022-02-13T13:58:49.306Z"
   },
   {
    "duration": 475,
    "start_time": "2022-02-13T13:58:49.328Z"
   },
   {
    "duration": 28,
    "start_time": "2022-02-13T13:58:49.807Z"
   },
   {
    "duration": 403,
    "start_time": "2022-02-13T13:58:49.838Z"
   },
   {
    "duration": 38,
    "start_time": "2022-02-13T13:58:50.243Z"
   },
   {
    "duration": 22,
    "start_time": "2022-02-13T13:58:50.284Z"
   },
   {
    "duration": 373,
    "start_time": "2022-02-13T13:58:50.308Z"
   },
   {
    "duration": 259,
    "start_time": "2022-02-13T13:58:50.684Z"
   },
   {
    "duration": 262,
    "start_time": "2022-02-13T13:58:50.946Z"
   },
   {
    "duration": 249,
    "start_time": "2022-02-13T13:58:51.211Z"
   },
   {
    "duration": 264,
    "start_time": "2022-02-13T13:58:51.462Z"
   },
   {
    "duration": 284,
    "start_time": "2022-02-13T13:58:51.728Z"
   },
   {
    "duration": 283,
    "start_time": "2022-02-13T13:58:52.014Z"
   },
   {
    "duration": 198,
    "start_time": "2022-02-13T13:58:52.299Z"
   },
   {
    "duration": 200,
    "start_time": "2022-02-13T13:58:52.500Z"
   },
   {
    "duration": 278,
    "start_time": "2022-02-13T13:58:52.704Z"
   },
   {
    "duration": 15,
    "start_time": "2022-02-13T13:58:52.984Z"
   },
   {
    "duration": 19,
    "start_time": "2022-02-13T13:58:53.002Z"
   },
   {
    "duration": 43,
    "start_time": "2022-02-13T13:58:53.023Z"
   },
   {
    "duration": 9,
    "start_time": "2022-02-13T13:58:53.068Z"
   },
   {
    "duration": 597,
    "start_time": "2022-02-13T14:11:45.716Z"
   },
   {
    "duration": 20,
    "start_time": "2022-02-13T14:15:49.856Z"
   },
   {
    "duration": 1544,
    "start_time": "2022-02-13T14:16:09.968Z"
   },
   {
    "duration": 50,
    "start_time": "2022-02-13T14:16:11.515Z"
   },
   {
    "duration": 62,
    "start_time": "2022-02-13T14:16:11.568Z"
   },
   {
    "duration": 3,
    "start_time": "2022-02-13T14:16:11.633Z"
   },
   {
    "duration": 36,
    "start_time": "2022-02-13T14:16:11.639Z"
   },
   {
    "duration": 27,
    "start_time": "2022-02-13T14:16:11.677Z"
   },
   {
    "duration": 11,
    "start_time": "2022-02-13T14:16:11.706Z"
   },
   {
    "duration": 52,
    "start_time": "2022-02-13T14:16:11.719Z"
   },
   {
    "duration": 27,
    "start_time": "2022-02-13T14:16:11.776Z"
   },
   {
    "duration": 355,
    "start_time": "2022-02-13T14:16:11.807Z"
   },
   {
    "duration": 10,
    "start_time": "2022-02-13T14:16:12.165Z"
   },
   {
    "duration": 15,
    "start_time": "2022-02-13T14:16:12.178Z"
   },
   {
    "duration": 535,
    "start_time": "2022-02-13T14:16:12.196Z"
   },
   {
    "duration": 29,
    "start_time": "2022-02-13T14:16:12.733Z"
   },
   {
    "duration": 15,
    "start_time": "2022-02-13T14:16:12.765Z"
   },
   {
    "duration": 16,
    "start_time": "2022-02-13T14:16:12.783Z"
   },
   {
    "duration": 558,
    "start_time": "2022-02-13T14:16:12.801Z"
   },
   {
    "duration": 1032,
    "start_time": "2022-02-13T14:16:13.361Z"
   },
   {
    "duration": 441,
    "start_time": "2022-02-13T14:16:14.396Z"
   },
   {
    "duration": 32,
    "start_time": "2022-02-13T14:16:14.839Z"
   },
   {
    "duration": 517,
    "start_time": "2022-02-13T14:16:14.873Z"
   },
   {
    "duration": 21,
    "start_time": "2022-02-13T14:16:15.392Z"
   },
   {
    "duration": 485,
    "start_time": "2022-02-13T14:16:15.415Z"
   },
   {
    "duration": 30,
    "start_time": "2022-02-13T14:16:15.903Z"
   },
   {
    "duration": 428,
    "start_time": "2022-02-13T14:16:15.936Z"
   },
   {
    "duration": 30,
    "start_time": "2022-02-13T14:16:16.367Z"
   },
   {
    "duration": 57,
    "start_time": "2022-02-13T14:16:16.402Z"
   },
   {
    "duration": 340,
    "start_time": "2022-02-13T14:16:16.462Z"
   },
   {
    "duration": 243,
    "start_time": "2022-02-13T14:16:16.805Z"
   },
   {
    "duration": 249,
    "start_time": "2022-02-13T14:16:17.051Z"
   },
   {
    "duration": 236,
    "start_time": "2022-02-13T14:16:17.302Z"
   },
   {
    "duration": 264,
    "start_time": "2022-02-13T14:16:17.540Z"
   },
   {
    "duration": 260,
    "start_time": "2022-02-13T14:16:17.806Z"
   },
   {
    "duration": 252,
    "start_time": "2022-02-13T14:16:18.068Z"
   },
   {
    "duration": 189,
    "start_time": "2022-02-13T14:16:18.322Z"
   },
   {
    "duration": 193,
    "start_time": "2022-02-13T14:16:18.514Z"
   },
   {
    "duration": 284,
    "start_time": "2022-02-13T14:16:18.710Z"
   },
   {
    "duration": 15,
    "start_time": "2022-02-13T14:16:18.996Z"
   },
   {
    "duration": 22,
    "start_time": "2022-02-13T14:16:19.013Z"
   },
   {
    "duration": 30,
    "start_time": "2022-02-13T14:16:19.037Z"
   },
   {
    "duration": 10,
    "start_time": "2022-02-13T14:16:19.069Z"
   },
   {
    "duration": 474,
    "start_time": "2022-02-13T14:16:33.914Z"
   },
   {
    "duration": 19,
    "start_time": "2022-02-13T14:16:46.383Z"
   },
   {
    "duration": 18,
    "start_time": "2022-02-13T14:30:53.829Z"
   },
   {
    "duration": 25,
    "start_time": "2022-02-13T14:31:24.915Z"
   },
   {
    "duration": 3,
    "start_time": "2022-02-13T14:52:34.198Z"
   },
   {
    "duration": 30,
    "start_time": "2022-02-13T14:53:41.451Z"
   },
   {
    "duration": 1536,
    "start_time": "2022-02-13T14:53:50.796Z"
   },
   {
    "duration": 59,
    "start_time": "2022-02-13T14:53:52.335Z"
   },
   {
    "duration": 77,
    "start_time": "2022-02-13T14:53:52.398Z"
   },
   {
    "duration": 4,
    "start_time": "2022-02-13T14:53:52.479Z"
   },
   {
    "duration": 28,
    "start_time": "2022-02-13T14:53:52.485Z"
   },
   {
    "duration": 62,
    "start_time": "2022-02-13T14:53:52.516Z"
   },
   {
    "duration": 17,
    "start_time": "2022-02-13T14:53:52.581Z"
   },
   {
    "duration": 66,
    "start_time": "2022-02-13T14:53:52.603Z"
   },
   {
    "duration": 49,
    "start_time": "2022-02-13T14:53:52.673Z"
   },
   {
    "duration": 52,
    "start_time": "2022-02-13T14:53:52.725Z"
   },
   {
    "duration": 381,
    "start_time": "2022-02-13T14:53:52.780Z"
   },
   {
    "duration": 1560,
    "start_time": "2022-02-13T14:53:53.163Z"
   },
   {
    "duration": -12,
    "start_time": "2022-02-13T14:53:54.739Z"
   },
   {
    "duration": -17,
    "start_time": "2022-02-13T14:53:54.746Z"
   },
   {
    "duration": -20,
    "start_time": "2022-02-13T14:53:54.750Z"
   },
   {
    "duration": -22,
    "start_time": "2022-02-13T14:53:54.754Z"
   },
   {
    "duration": -28,
    "start_time": "2022-02-13T14:53:54.762Z"
   },
   {
    "duration": -31,
    "start_time": "2022-02-13T14:53:54.766Z"
   },
   {
    "duration": -34,
    "start_time": "2022-02-13T14:53:54.771Z"
   },
   {
    "duration": -37,
    "start_time": "2022-02-13T14:53:54.776Z"
   },
   {
    "duration": -71,
    "start_time": "2022-02-13T14:53:54.811Z"
   },
   {
    "duration": -74,
    "start_time": "2022-02-13T14:53:54.816Z"
   },
   {
    "duration": -80,
    "start_time": "2022-02-13T14:53:54.823Z"
   },
   {
    "duration": -86,
    "start_time": "2022-02-13T14:53:54.830Z"
   },
   {
    "duration": -98,
    "start_time": "2022-02-13T14:53:54.844Z"
   },
   {
    "duration": -102,
    "start_time": "2022-02-13T14:53:54.849Z"
   },
   {
    "duration": -119,
    "start_time": "2022-02-13T14:53:54.867Z"
   },
   {
    "duration": -124,
    "start_time": "2022-02-13T14:53:54.873Z"
   },
   {
    "duration": -133,
    "start_time": "2022-02-13T14:53:54.883Z"
   },
   {
    "duration": -137,
    "start_time": "2022-02-13T14:53:54.889Z"
   },
   {
    "duration": -144,
    "start_time": "2022-02-13T14:53:54.897Z"
   },
   {
    "duration": -160,
    "start_time": "2022-02-13T14:53:54.914Z"
   },
   {
    "duration": -163,
    "start_time": "2022-02-13T14:53:54.919Z"
   },
   {
    "duration": -166,
    "start_time": "2022-02-13T14:53:54.923Z"
   },
   {
    "duration": -170,
    "start_time": "2022-02-13T14:53:54.929Z"
   },
   {
    "duration": -182,
    "start_time": "2022-02-13T14:53:54.942Z"
   },
   {
    "duration": -193,
    "start_time": "2022-02-13T14:53:54.954Z"
   },
   {
    "duration": -195,
    "start_time": "2022-02-13T14:53:54.958Z"
   },
   {
    "duration": -206,
    "start_time": "2022-02-13T14:53:54.970Z"
   },
   {
    "duration": -208,
    "start_time": "2022-02-13T14:53:54.973Z"
   },
   {
    "duration": -212,
    "start_time": "2022-02-13T14:53:54.979Z"
   },
   {
    "duration": -224,
    "start_time": "2022-02-13T14:53:54.992Z"
   },
   {
    "duration": 51,
    "start_time": "2022-02-13T14:54:27.278Z"
   },
   {
    "duration": 13,
    "start_time": "2022-02-13T14:55:17.243Z"
   },
   {
    "duration": 52,
    "start_time": "2022-02-13T14:55:21.444Z"
   },
   {
    "duration": 1800,
    "start_time": "2022-02-13T14:55:27.414Z"
   },
   {
    "duration": 47,
    "start_time": "2022-02-13T14:55:29.217Z"
   },
   {
    "duration": 63,
    "start_time": "2022-02-13T14:55:29.267Z"
   },
   {
    "duration": 4,
    "start_time": "2022-02-13T14:55:29.333Z"
   },
   {
    "duration": 40,
    "start_time": "2022-02-13T14:55:29.339Z"
   },
   {
    "duration": 29,
    "start_time": "2022-02-13T14:55:29.381Z"
   },
   {
    "duration": 12,
    "start_time": "2022-02-13T14:55:29.413Z"
   },
   {
    "duration": 37,
    "start_time": "2022-02-13T14:55:29.429Z"
   },
   {
    "duration": 53,
    "start_time": "2022-02-13T14:55:29.469Z"
   },
   {
    "duration": 59,
    "start_time": "2022-02-13T14:55:29.525Z"
   },
   {
    "duration": 356,
    "start_time": "2022-02-13T14:55:29.587Z"
   },
   {
    "duration": 19,
    "start_time": "2022-02-13T14:55:29.946Z"
   },
   {
    "duration": 13,
    "start_time": "2022-02-13T14:55:29.967Z"
   },
   {
    "duration": 1178,
    "start_time": "2022-02-13T14:55:29.982Z"
   },
   {
    "duration": 26,
    "start_time": "2022-02-13T14:55:31.163Z"
   },
   {
    "duration": 17,
    "start_time": "2022-02-13T14:55:31.192Z"
   },
   {
    "duration": 62,
    "start_time": "2022-02-13T14:55:31.212Z"
   },
   {
    "duration": 536,
    "start_time": "2022-02-13T14:55:31.276Z"
   },
   {
    "duration": 1029,
    "start_time": "2022-02-13T14:55:31.814Z"
   },
   {
    "duration": 452,
    "start_time": "2022-02-13T14:55:32.846Z"
   },
   {
    "duration": 24,
    "start_time": "2022-02-13T14:55:33.302Z"
   },
   {
    "duration": 442,
    "start_time": "2022-02-13T14:55:33.329Z"
   },
   {
    "duration": 22,
    "start_time": "2022-02-13T14:55:33.778Z"
   },
   {
    "duration": 495,
    "start_time": "2022-02-13T14:55:33.802Z"
   },
   {
    "duration": 26,
    "start_time": "2022-02-13T14:55:34.300Z"
   },
   {
    "duration": 417,
    "start_time": "2022-02-13T14:55:34.329Z"
   },
   {
    "duration": 31,
    "start_time": "2022-02-13T14:55:34.749Z"
   },
   {
    "duration": 29,
    "start_time": "2022-02-13T14:55:34.784Z"
   },
   {
    "duration": 379,
    "start_time": "2022-02-13T14:55:34.816Z"
   },
   {
    "duration": 279,
    "start_time": "2022-02-13T14:55:35.198Z"
   },
   {
    "duration": 263,
    "start_time": "2022-02-13T14:55:35.480Z"
   },
   {
    "duration": 305,
    "start_time": "2022-02-13T14:55:35.746Z"
   },
   {
    "duration": 328,
    "start_time": "2022-02-13T14:55:36.054Z"
   },
   {
    "duration": 373,
    "start_time": "2022-02-13T14:55:36.386Z"
   },
   {
    "duration": 369,
    "start_time": "2022-02-13T14:55:36.763Z"
   },
   {
    "duration": 282,
    "start_time": "2022-02-13T14:55:37.135Z"
   },
   {
    "duration": 360,
    "start_time": "2022-02-13T14:55:37.420Z"
   },
   {
    "duration": 313,
    "start_time": "2022-02-13T14:55:37.783Z"
   },
   {
    "duration": 18,
    "start_time": "2022-02-13T14:55:38.099Z"
   },
   {
    "duration": 43,
    "start_time": "2022-02-13T14:55:38.121Z"
   },
   {
    "duration": 24,
    "start_time": "2022-02-13T14:55:38.167Z"
   },
   {
    "duration": 13,
    "start_time": "2022-02-13T14:55:38.195Z"
   },
   {
    "duration": 15,
    "start_time": "2022-02-13T14:59:33.706Z"
   },
   {
    "duration": 4,
    "start_time": "2022-02-13T14:59:40.204Z"
   },
   {
    "duration": 20,
    "start_time": "2022-02-13T15:02:03.027Z"
   },
   {
    "duration": 1412,
    "start_time": "2022-02-13T15:02:10.809Z"
   },
   {
    "duration": 47,
    "start_time": "2022-02-13T15:02:12.224Z"
   },
   {
    "duration": 92,
    "start_time": "2022-02-13T15:02:12.274Z"
   },
   {
    "duration": 3,
    "start_time": "2022-02-13T15:02:12.369Z"
   },
   {
    "duration": 20,
    "start_time": "2022-02-13T15:02:12.375Z"
   },
   {
    "duration": 84,
    "start_time": "2022-02-13T15:02:12.397Z"
   },
   {
    "duration": 9,
    "start_time": "2022-02-13T15:02:12.484Z"
   },
   {
    "duration": 9,
    "start_time": "2022-02-13T15:02:12.497Z"
   },
   {
    "duration": 20,
    "start_time": "2022-02-13T15:02:12.560Z"
   },
   {
    "duration": 79,
    "start_time": "2022-02-13T15:02:12.582Z"
   },
   {
    "duration": 699,
    "start_time": "2022-02-13T15:02:12.663Z"
   },
   {
    "duration": 8,
    "start_time": "2022-02-13T15:02:13.365Z"
   },
   {
    "duration": 13,
    "start_time": "2022-02-13T15:02:13.376Z"
   },
   {
    "duration": 674,
    "start_time": "2022-02-13T15:02:13.391Z"
   },
   {
    "duration": 37,
    "start_time": "2022-02-13T15:02:14.068Z"
   },
   {
    "duration": 59,
    "start_time": "2022-02-13T15:02:14.109Z"
   },
   {
    "duration": 29,
    "start_time": "2022-02-13T15:02:14.171Z"
   },
   {
    "duration": 821,
    "start_time": "2022-02-13T15:02:14.203Z"
   },
   {
    "duration": 704,
    "start_time": "2022-02-13T15:02:15.028Z"
   },
   {
    "duration": 447,
    "start_time": "2022-02-13T15:02:15.736Z"
   },
   {
    "duration": 22,
    "start_time": "2022-02-13T15:02:16.185Z"
   },
   {
    "duration": 450,
    "start_time": "2022-02-13T15:02:16.209Z"
   },
   {
    "duration": 31,
    "start_time": "2022-02-13T15:02:16.668Z"
   },
   {
    "duration": 490,
    "start_time": "2022-02-13T15:02:16.703Z"
   },
   {
    "duration": 30,
    "start_time": "2022-02-13T15:02:17.195Z"
   },
   {
    "duration": 399,
    "start_time": "2022-02-13T15:02:17.227Z"
   },
   {
    "duration": 45,
    "start_time": "2022-02-13T15:02:17.628Z"
   },
   {
    "duration": 22,
    "start_time": "2022-02-13T15:02:17.675Z"
   },
   {
    "duration": 352,
    "start_time": "2022-02-13T15:02:17.700Z"
   },
   {
    "duration": 258,
    "start_time": "2022-02-13T15:02:18.059Z"
   },
   {
    "duration": 248,
    "start_time": "2022-02-13T15:02:18.319Z"
   },
   {
    "duration": 251,
    "start_time": "2022-02-13T15:02:18.570Z"
   },
   {
    "duration": 291,
    "start_time": "2022-02-13T15:02:18.825Z"
   },
   {
    "duration": 276,
    "start_time": "2022-02-13T15:02:19.120Z"
   },
   {
    "duration": 278,
    "start_time": "2022-02-13T15:02:19.398Z"
   },
   {
    "duration": 216,
    "start_time": "2022-02-13T15:02:19.679Z"
   },
   {
    "duration": 218,
    "start_time": "2022-02-13T15:02:19.898Z"
   },
   {
    "duration": 272,
    "start_time": "2022-02-13T15:02:20.119Z"
   },
   {
    "duration": 15,
    "start_time": "2022-02-13T15:02:20.394Z"
   },
   {
    "duration": 15,
    "start_time": "2022-02-13T15:02:20.411Z"
   },
   {
    "duration": 40,
    "start_time": "2022-02-13T15:02:20.428Z"
   },
   {
    "duration": 13,
    "start_time": "2022-02-13T15:02:20.472Z"
   },
   {
    "duration": 17,
    "start_time": "2022-02-13T15:21:52.485Z"
   },
   {
    "duration": 22,
    "start_time": "2022-02-13T15:22:05.581Z"
   },
   {
    "duration": 1493,
    "start_time": "2022-02-14T06:50:37.591Z"
   },
   {
    "duration": 47,
    "start_time": "2022-02-14T06:50:39.086Z"
   },
   {
    "duration": 62,
    "start_time": "2022-02-14T06:50:39.136Z"
   },
   {
    "duration": 3,
    "start_time": "2022-02-14T06:50:39.201Z"
   },
   {
    "duration": 38,
    "start_time": "2022-02-14T06:50:39.207Z"
   },
   {
    "duration": 27,
    "start_time": "2022-02-14T06:50:39.248Z"
   },
   {
    "duration": 7,
    "start_time": "2022-02-14T06:50:39.277Z"
   },
   {
    "duration": 9,
    "start_time": "2022-02-14T06:50:39.288Z"
   },
   {
    "duration": 48,
    "start_time": "2022-02-14T06:50:39.300Z"
   },
   {
    "duration": 25,
    "start_time": "2022-02-14T06:50:39.350Z"
   },
   {
    "duration": 366,
    "start_time": "2022-02-14T06:50:39.378Z"
   },
   {
    "duration": 10,
    "start_time": "2022-02-14T06:50:39.746Z"
   },
   {
    "duration": 34,
    "start_time": "2022-02-14T06:50:39.758Z"
   },
   {
    "duration": 573,
    "start_time": "2022-02-14T06:50:39.794Z"
   },
   {
    "duration": 22,
    "start_time": "2022-02-14T06:50:40.371Z"
   },
   {
    "duration": 39,
    "start_time": "2022-02-14T06:50:40.396Z"
   },
   {
    "duration": 16,
    "start_time": "2022-02-14T06:50:40.437Z"
   },
   {
    "duration": 532,
    "start_time": "2022-02-14T06:50:40.455Z"
   },
   {
    "duration": 690,
    "start_time": "2022-02-14T06:50:40.989Z"
   },
   {
    "duration": 445,
    "start_time": "2022-02-14T06:50:41.681Z"
   },
   {
    "duration": 20,
    "start_time": "2022-02-14T06:50:42.133Z"
   },
   {
    "duration": 507,
    "start_time": "2022-02-14T06:50:42.156Z"
   },
   {
    "duration": 22,
    "start_time": "2022-02-14T06:50:42.668Z"
   },
   {
    "duration": 486,
    "start_time": "2022-02-14T06:50:42.693Z"
   },
   {
    "duration": 28,
    "start_time": "2022-02-14T06:50:43.181Z"
   },
   {
    "duration": 409,
    "start_time": "2022-02-14T06:50:43.211Z"
   },
   {
    "duration": 32,
    "start_time": "2022-02-14T06:50:43.623Z"
   },
   {
    "duration": 24,
    "start_time": "2022-02-14T06:50:43.657Z"
   },
   {
    "duration": 370,
    "start_time": "2022-02-14T06:50:43.683Z"
   },
   {
    "duration": 256,
    "start_time": "2022-02-14T06:50:44.056Z"
   },
   {
    "duration": 243,
    "start_time": "2022-02-14T06:50:44.314Z"
   },
   {
    "duration": 235,
    "start_time": "2022-02-14T06:50:44.559Z"
   },
   {
    "duration": 267,
    "start_time": "2022-02-14T06:50:44.796Z"
   },
   {
    "duration": 271,
    "start_time": "2022-02-14T06:50:45.065Z"
   },
   {
    "duration": 277,
    "start_time": "2022-02-14T06:50:45.339Z"
   },
   {
    "duration": 205,
    "start_time": "2022-02-14T06:50:45.619Z"
   },
   {
    "duration": 207,
    "start_time": "2022-02-14T06:50:45.827Z"
   },
   {
    "duration": 281,
    "start_time": "2022-02-14T06:50:46.036Z"
   },
   {
    "duration": 23,
    "start_time": "2022-02-14T06:50:46.319Z"
   },
   {
    "duration": 10,
    "start_time": "2022-02-14T06:50:46.345Z"
   },
   {
    "duration": 16,
    "start_time": "2022-02-14T06:50:46.358Z"
   },
   {
    "duration": 9,
    "start_time": "2022-02-14T06:50:46.377Z"
   },
   {
    "duration": 387,
    "start_time": "2022-02-14T11:24:01.493Z"
   },
   {
    "duration": 9,
    "start_time": "2022-02-14T11:24:21.910Z"
   },
   {
    "duration": 7,
    "start_time": "2022-02-14T11:24:57.986Z"
   },
   {
    "duration": 1399,
    "start_time": "2022-02-14T11:25:12.387Z"
   },
   {
    "duration": 49,
    "start_time": "2022-02-14T11:25:13.789Z"
   },
   {
    "duration": 58,
    "start_time": "2022-02-14T11:25:13.841Z"
   },
   {
    "duration": 3,
    "start_time": "2022-02-14T11:25:13.901Z"
   },
   {
    "duration": 36,
    "start_time": "2022-02-14T11:25:13.906Z"
   },
   {
    "duration": 13,
    "start_time": "2022-02-14T11:25:13.944Z"
   },
   {
    "duration": 28,
    "start_time": "2022-02-14T11:25:13.960Z"
   },
   {
    "duration": 41,
    "start_time": "2022-02-14T11:25:13.993Z"
   },
   {
    "duration": 7,
    "start_time": "2022-02-14T11:25:14.037Z"
   },
   {
    "duration": 26,
    "start_time": "2022-02-14T11:25:14.047Z"
   },
   {
    "duration": 25,
    "start_time": "2022-02-14T11:25:14.076Z"
   },
   {
    "duration": 360,
    "start_time": "2022-02-14T11:25:14.103Z"
   },
   {
    "duration": 10,
    "start_time": "2022-02-14T11:25:14.465Z"
   },
   {
    "duration": 20,
    "start_time": "2022-02-14T11:25:14.478Z"
   },
   {
    "duration": 537,
    "start_time": "2022-02-14T11:25:14.501Z"
   },
   {
    "duration": 22,
    "start_time": "2022-02-14T11:25:15.040Z"
   },
   {
    "duration": 16,
    "start_time": "2022-02-14T11:25:15.065Z"
   },
   {
    "duration": 50,
    "start_time": "2022-02-14T11:25:15.083Z"
   },
   {
    "duration": 509,
    "start_time": "2022-02-14T11:25:15.136Z"
   },
   {
    "duration": 1043,
    "start_time": "2022-02-14T11:25:15.648Z"
   },
   {
    "duration": 437,
    "start_time": "2022-02-14T11:25:16.694Z"
   },
   {
    "duration": 24,
    "start_time": "2022-02-14T11:25:17.134Z"
   },
   {
    "duration": 435,
    "start_time": "2022-02-14T11:25:17.164Z"
   },
   {
    "duration": 31,
    "start_time": "2022-02-14T11:25:17.603Z"
   },
   {
    "duration": 802,
    "start_time": "2022-02-14T11:25:17.637Z"
   },
   {
    "duration": 27,
    "start_time": "2022-02-14T11:25:18.442Z"
   },
   {
    "duration": 436,
    "start_time": "2022-02-14T11:25:18.471Z"
   },
   {
    "duration": 38,
    "start_time": "2022-02-14T11:25:18.909Z"
   },
   {
    "duration": 24,
    "start_time": "2022-02-14T11:25:18.950Z"
   },
   {
    "duration": 388,
    "start_time": "2022-02-14T11:25:18.978Z"
   },
   {
    "duration": 284,
    "start_time": "2022-02-14T11:25:19.369Z"
   },
   {
    "duration": 265,
    "start_time": "2022-02-14T11:25:19.657Z"
   },
   {
    "duration": 252,
    "start_time": "2022-02-14T11:25:19.932Z"
   },
   {
    "duration": 273,
    "start_time": "2022-02-14T11:25:20.187Z"
   },
   {
    "duration": 272,
    "start_time": "2022-02-14T11:25:20.463Z"
   },
   {
    "duration": 270,
    "start_time": "2022-02-14T11:25:20.738Z"
   },
   {
    "duration": 199,
    "start_time": "2022-02-14T11:25:21.010Z"
   },
   {
    "duration": 215,
    "start_time": "2022-02-14T11:25:21.211Z"
   },
   {
    "duration": 290,
    "start_time": "2022-02-14T11:25:21.428Z"
   },
   {
    "duration": 19,
    "start_time": "2022-02-14T11:25:21.721Z"
   },
   {
    "duration": 10,
    "start_time": "2022-02-14T11:25:21.743Z"
   },
   {
    "duration": 24,
    "start_time": "2022-02-14T11:25:21.755Z"
   },
   {
    "duration": 9,
    "start_time": "2022-02-14T11:25:21.782Z"
   },
   {
    "duration": 86,
    "start_time": "2022-02-14T13:27:59.940Z"
   },
   {
    "duration": 82,
    "start_time": "2022-02-14T13:28:18.217Z"
   },
   {
    "duration": 432,
    "start_time": "2022-02-14T13:28:48.742Z"
   },
   {
    "duration": 31,
    "start_time": "2022-02-14T13:29:45.686Z"
   },
   {
    "duration": 27,
    "start_time": "2022-02-14T13:36:40.408Z"
   },
   {
    "duration": 402,
    "start_time": "2022-02-14T13:37:33.534Z"
   },
   {
    "duration": 33,
    "start_time": "2022-02-14T13:38:38.300Z"
   },
   {
    "duration": 1515,
    "start_time": "2022-02-14T13:39:14.945Z"
   },
   {
    "duration": 47,
    "start_time": "2022-02-14T13:39:16.464Z"
   },
   {
    "duration": 72,
    "start_time": "2022-02-14T13:39:16.519Z"
   },
   {
    "duration": 4,
    "start_time": "2022-02-14T13:39:16.594Z"
   },
   {
    "duration": 56,
    "start_time": "2022-02-14T13:39:16.601Z"
   },
   {
    "duration": 16,
    "start_time": "2022-02-14T13:39:16.660Z"
   },
   {
    "duration": 27,
    "start_time": "2022-02-14T13:39:16.682Z"
   },
   {
    "duration": 9,
    "start_time": "2022-02-14T13:39:16.734Z"
   },
   {
    "duration": 8,
    "start_time": "2022-02-14T13:39:16.745Z"
   },
   {
    "duration": 25,
    "start_time": "2022-02-14T13:39:16.756Z"
   },
   {
    "duration": 65,
    "start_time": "2022-02-14T13:39:16.784Z"
   },
   {
    "duration": 425,
    "start_time": "2022-02-14T13:39:16.852Z"
   },
   {
    "duration": 64,
    "start_time": "2022-02-14T13:39:17.280Z"
   },
   {
    "duration": 21,
    "start_time": "2022-02-14T13:39:17.347Z"
   },
   {
    "duration": 942,
    "start_time": "2022-02-14T13:39:17.371Z"
   },
   {
    "duration": 37,
    "start_time": "2022-02-14T13:39:18.315Z"
   },
   {
    "duration": 23,
    "start_time": "2022-02-14T13:39:18.354Z"
   },
   {
    "duration": 15,
    "start_time": "2022-02-14T13:39:18.380Z"
   },
   {
    "duration": 543,
    "start_time": "2022-02-14T13:39:18.397Z"
   },
   {
    "duration": 730,
    "start_time": "2022-02-14T13:39:18.943Z"
   },
   {
    "duration": 471,
    "start_time": "2022-02-14T13:39:19.676Z"
   },
   {
    "duration": 23,
    "start_time": "2022-02-14T13:39:20.154Z"
   },
   {
    "duration": 464,
    "start_time": "2022-02-14T13:39:20.181Z"
   },
   {
    "duration": 30,
    "start_time": "2022-02-14T13:39:20.648Z"
   },
   {
    "duration": 64,
    "start_time": "2022-02-14T13:39:20.681Z"
   },
   {
    "duration": 595,
    "start_time": "2022-02-14T13:39:20.748Z"
   },
   {
    "duration": 28,
    "start_time": "2022-02-14T13:39:21.345Z"
   },
   {
    "duration": 462,
    "start_time": "2022-02-14T13:39:21.375Z"
   },
   {
    "duration": 33,
    "start_time": "2022-02-14T13:39:21.839Z"
   },
   {
    "duration": 426,
    "start_time": "2022-02-14T13:39:21.874Z"
   },
   {
    "duration": 465,
    "start_time": "2022-02-14T13:39:22.303Z"
   },
   {
    "duration": 30,
    "start_time": "2022-02-14T13:39:22.771Z"
   },
   {
    "duration": 59,
    "start_time": "2022-02-14T13:39:22.804Z"
   },
   {
    "duration": 22,
    "start_time": "2022-02-14T13:39:22.865Z"
   },
   {
    "duration": 387,
    "start_time": "2022-02-14T13:39:22.889Z"
   },
   {
    "duration": 271,
    "start_time": "2022-02-14T13:39:23.278Z"
   },
   {
    "duration": 261,
    "start_time": "2022-02-14T13:39:23.552Z"
   },
   {
    "duration": 258,
    "start_time": "2022-02-14T13:39:23.816Z"
   },
   {
    "duration": 279,
    "start_time": "2022-02-14T13:39:24.077Z"
   },
   {
    "duration": 278,
    "start_time": "2022-02-14T13:39:24.358Z"
   },
   {
    "duration": 266,
    "start_time": "2022-02-14T13:39:24.640Z"
   },
   {
    "duration": 306,
    "start_time": "2022-02-14T13:39:24.908Z"
   },
   {
    "duration": 201,
    "start_time": "2022-02-14T13:39:25.217Z"
   },
   {
    "duration": 205,
    "start_time": "2022-02-14T13:39:25.420Z"
   },
   {
    "duration": 15,
    "start_time": "2022-02-14T13:39:25.628Z"
   },
   {
    "duration": 16,
    "start_time": "2022-02-14T13:39:25.646Z"
   },
   {
    "duration": 20,
    "start_time": "2022-02-14T13:39:25.665Z"
   },
   {
    "duration": 9,
    "start_time": "2022-02-14T13:39:25.687Z"
   },
   {
    "duration": 8,
    "start_time": "2022-02-14T13:40:10.032Z"
   },
   {
    "duration": 4,
    "start_time": "2022-02-14T13:40:11.545Z"
   },
   {
    "duration": 1505,
    "start_time": "2022-02-14T13:40:19.606Z"
   },
   {
    "duration": 50,
    "start_time": "2022-02-14T13:40:21.114Z"
   },
   {
    "duration": 82,
    "start_time": "2022-02-14T13:40:21.168Z"
   },
   {
    "duration": 3,
    "start_time": "2022-02-14T13:40:21.253Z"
   },
   {
    "duration": 29,
    "start_time": "2022-02-14T13:40:21.259Z"
   },
   {
    "duration": 44,
    "start_time": "2022-02-14T13:40:21.290Z"
   },
   {
    "duration": 31,
    "start_time": "2022-02-14T13:40:21.337Z"
   },
   {
    "duration": 64,
    "start_time": "2022-02-14T13:40:21.372Z"
   },
   {
    "duration": 10,
    "start_time": "2022-02-14T13:40:21.440Z"
   },
   {
    "duration": 21,
    "start_time": "2022-02-14T13:40:21.453Z"
   },
   {
    "duration": 84,
    "start_time": "2022-02-14T13:40:21.476Z"
   },
   {
    "duration": 717,
    "start_time": "2022-02-14T13:40:21.562Z"
   },
   {
    "duration": 60,
    "start_time": "2022-02-14T13:40:22.281Z"
   },
   {
    "duration": 16,
    "start_time": "2022-02-14T13:40:22.344Z"
   },
   {
    "duration": 560,
    "start_time": "2022-02-14T13:40:22.362Z"
   },
   {
    "duration": 32,
    "start_time": "2022-02-14T13:40:22.925Z"
   },
   {
    "duration": 19,
    "start_time": "2022-02-14T13:40:22.959Z"
   },
   {
    "duration": 17,
    "start_time": "2022-02-14T13:40:22.981Z"
   },
   {
    "duration": 662,
    "start_time": "2022-02-14T13:40:23.033Z"
   },
   {
    "duration": 843,
    "start_time": "2022-02-14T13:40:23.697Z"
   },
   {
    "duration": 658,
    "start_time": "2022-02-14T13:40:24.543Z"
   },
   {
    "duration": 35,
    "start_time": "2022-02-14T13:40:25.203Z"
   },
   {
    "duration": 445,
    "start_time": "2022-02-14T13:40:25.255Z"
   },
   {
    "duration": 34,
    "start_time": "2022-02-14T13:40:25.703Z"
   },
   {
    "duration": 30,
    "start_time": "2022-02-14T13:40:25.740Z"
   },
   {
    "duration": 517,
    "start_time": "2022-02-14T13:40:25.772Z"
   },
   {
    "duration": 47,
    "start_time": "2022-02-14T13:40:26.291Z"
   },
   {
    "duration": 4,
    "start_time": "2022-02-14T13:40:26.340Z"
   },
   {
    "duration": 11,
    "start_time": "2022-02-14T13:40:26.346Z"
   },
   {
    "duration": 415,
    "start_time": "2022-02-14T13:40:26.360Z"
   },
   {
    "duration": 29,
    "start_time": "2022-02-14T13:40:26.777Z"
   },
   {
    "duration": 55,
    "start_time": "2022-02-14T13:40:26.808Z"
   },
   {
    "duration": 24,
    "start_time": "2022-02-14T13:40:26.865Z"
   },
   {
    "duration": 403,
    "start_time": "2022-02-14T13:40:26.892Z"
   },
   {
    "duration": 275,
    "start_time": "2022-02-14T13:40:27.298Z"
   },
   {
    "duration": 284,
    "start_time": "2022-02-14T13:40:27.576Z"
   },
   {
    "duration": 265,
    "start_time": "2022-02-14T13:40:27.862Z"
   },
   {
    "duration": 288,
    "start_time": "2022-02-14T13:40:28.133Z"
   },
   {
    "duration": 279,
    "start_time": "2022-02-14T13:40:28.424Z"
   },
   {
    "duration": 282,
    "start_time": "2022-02-14T13:40:28.705Z"
   },
   {
    "duration": 223,
    "start_time": "2022-02-14T13:40:28.989Z"
   },
   {
    "duration": 214,
    "start_time": "2022-02-14T13:40:29.214Z"
   },
   {
    "duration": 301,
    "start_time": "2022-02-14T13:40:29.433Z"
   },
   {
    "duration": 16,
    "start_time": "2022-02-14T13:40:29.738Z"
   },
   {
    "duration": 10,
    "start_time": "2022-02-14T13:40:29.756Z"
   },
   {
    "duration": 17,
    "start_time": "2022-02-14T13:40:29.769Z"
   },
   {
    "duration": 53,
    "start_time": "2022-02-14T13:40:29.788Z"
   },
   {
    "duration": 14,
    "start_time": "2022-02-14T13:41:43.802Z"
   },
   {
    "duration": 10,
    "start_time": "2022-02-14T13:42:06.067Z"
   },
   {
    "duration": 31,
    "start_time": "2022-02-14T14:05:39.488Z"
   },
   {
    "duration": 1434,
    "start_time": "2022-02-14T14:05:47.752Z"
   },
   {
    "duration": 48,
    "start_time": "2022-02-14T14:05:49.189Z"
   },
   {
    "duration": 63,
    "start_time": "2022-02-14T14:05:49.243Z"
   },
   {
    "duration": 3,
    "start_time": "2022-02-14T14:05:49.308Z"
   },
   {
    "duration": 37,
    "start_time": "2022-02-14T14:05:49.313Z"
   },
   {
    "duration": 14,
    "start_time": "2022-02-14T14:05:49.353Z"
   },
   {
    "duration": 36,
    "start_time": "2022-02-14T14:05:49.371Z"
   },
   {
    "duration": 9,
    "start_time": "2022-02-14T14:05:49.434Z"
   },
   {
    "duration": 8,
    "start_time": "2022-02-14T14:05:49.445Z"
   },
   {
    "duration": 27,
    "start_time": "2022-02-14T14:05:49.455Z"
   },
   {
    "duration": 33,
    "start_time": "2022-02-14T14:05:49.484Z"
   },
   {
    "duration": 353,
    "start_time": "2022-02-14T14:05:49.532Z"
   },
   {
    "duration": 8,
    "start_time": "2022-02-14T14:05:49.888Z"
   },
   {
    "duration": 36,
    "start_time": "2022-02-14T14:05:49.898Z"
   },
   {
    "duration": 502,
    "start_time": "2022-02-14T14:05:49.936Z"
   },
   {
    "duration": 21,
    "start_time": "2022-02-14T14:05:50.440Z"
   },
   {
    "duration": 15,
    "start_time": "2022-02-14T14:05:50.464Z"
   },
   {
    "duration": 52,
    "start_time": "2022-02-14T14:05:50.482Z"
   },
   {
    "duration": 511,
    "start_time": "2022-02-14T14:05:50.537Z"
   },
   {
    "duration": 771,
    "start_time": "2022-02-14T14:05:51.050Z"
   },
   {
    "duration": 436,
    "start_time": "2022-02-14T14:05:51.824Z"
   },
   {
    "duration": 22,
    "start_time": "2022-02-14T14:05:52.267Z"
   },
   {
    "duration": 443,
    "start_time": "2022-02-14T14:05:52.292Z"
   },
   {
    "duration": 20,
    "start_time": "2022-02-14T14:05:52.738Z"
   },
   {
    "duration": 26,
    "start_time": "2022-02-14T14:05:52.760Z"
   },
   {
    "duration": 505,
    "start_time": "2022-02-14T14:05:52.788Z"
   },
   {
    "duration": 39,
    "start_time": "2022-02-14T14:05:53.295Z"
   },
   {
    "duration": 3,
    "start_time": "2022-02-14T14:05:53.336Z"
   },
   {
    "duration": 9,
    "start_time": "2022-02-14T14:05:53.341Z"
   },
   {
    "duration": 401,
    "start_time": "2022-02-14T14:05:53.353Z"
   },
   {
    "duration": 26,
    "start_time": "2022-02-14T14:05:53.757Z"
   },
   {
    "duration": 56,
    "start_time": "2022-02-14T14:05:53.785Z"
   },
   {
    "duration": 26,
    "start_time": "2022-02-14T14:05:53.844Z"
   },
   {
    "duration": 366,
    "start_time": "2022-02-14T14:05:53.873Z"
   },
   {
    "duration": 242,
    "start_time": "2022-02-14T14:05:54.241Z"
   },
   {
    "duration": 257,
    "start_time": "2022-02-14T14:05:54.486Z"
   },
   {
    "duration": 403,
    "start_time": "2022-02-14T14:05:54.745Z"
   },
   {
    "duration": 448,
    "start_time": "2022-02-14T14:05:55.150Z"
   },
   {
    "duration": 277,
    "start_time": "2022-02-14T14:05:55.601Z"
   },
   {
    "duration": 269,
    "start_time": "2022-02-14T14:05:55.881Z"
   },
   {
    "duration": 208,
    "start_time": "2022-02-14T14:05:56.153Z"
   },
   {
    "duration": 208,
    "start_time": "2022-02-14T14:05:56.363Z"
   },
   {
    "duration": 278,
    "start_time": "2022-02-14T14:05:56.574Z"
   },
   {
    "duration": 14,
    "start_time": "2022-02-14T14:05:56.854Z"
   },
   {
    "duration": 12,
    "start_time": "2022-02-14T14:05:56.870Z"
   },
   {
    "duration": 14,
    "start_time": "2022-02-14T14:05:56.884Z"
   },
   {
    "duration": 38,
    "start_time": "2022-02-14T14:05:56.901Z"
   },
   {
    "duration": 31,
    "start_time": "2022-02-14T14:18:20.750Z"
   },
   {
    "duration": 31,
    "start_time": "2022-02-14T14:22:58.308Z"
   },
   {
    "duration": 410,
    "start_time": "2022-02-14T14:49:30.605Z"
   },
   {
    "duration": 31,
    "start_time": "2022-02-14T14:49:46.389Z"
   },
   {
    "duration": 277,
    "start_time": "2022-02-14T14:50:38.545Z"
   },
   {
    "duration": 33,
    "start_time": "2022-02-14T14:51:08.569Z"
   },
   {
    "duration": 1407,
    "start_time": "2022-02-14T14:51:32.680Z"
   },
   {
    "duration": 48,
    "start_time": "2022-02-14T14:51:34.090Z"
   },
   {
    "duration": 63,
    "start_time": "2022-02-14T14:51:34.141Z"
   },
   {
    "duration": 2,
    "start_time": "2022-02-14T14:51:34.207Z"
   },
   {
    "duration": 37,
    "start_time": "2022-02-14T14:51:34.212Z"
   },
   {
    "duration": 9,
    "start_time": "2022-02-14T14:51:34.251Z"
   },
   {
    "duration": 25,
    "start_time": "2022-02-14T14:51:34.262Z"
   },
   {
    "duration": 41,
    "start_time": "2022-02-14T14:51:34.291Z"
   },
   {
    "duration": 3,
    "start_time": "2022-02-14T14:51:34.335Z"
   },
   {
    "duration": 21,
    "start_time": "2022-02-14T14:51:34.340Z"
   },
   {
    "duration": 27,
    "start_time": "2022-02-14T14:51:34.363Z"
   },
   {
    "duration": 372,
    "start_time": "2022-02-14T14:51:34.393Z"
   },
   {
    "duration": 9,
    "start_time": "2022-02-14T14:51:34.768Z"
   },
   {
    "duration": 13,
    "start_time": "2022-02-14T14:51:34.780Z"
   },
   {
    "duration": 539,
    "start_time": "2022-02-14T14:51:34.795Z"
   },
   {
    "duration": 21,
    "start_time": "2022-02-14T14:51:35.337Z"
   },
   {
    "duration": 15,
    "start_time": "2022-02-14T14:51:35.361Z"
   },
   {
    "duration": 15,
    "start_time": "2022-02-14T14:51:35.378Z"
   },
   {
    "duration": 512,
    "start_time": "2022-02-14T14:51:35.433Z"
   },
   {
    "duration": 700,
    "start_time": "2022-02-14T14:51:35.947Z"
   },
   {
    "duration": 440,
    "start_time": "2022-02-14T14:51:36.649Z"
   },
   {
    "duration": 44,
    "start_time": "2022-02-14T14:51:37.092Z"
   },
   {
    "duration": 433,
    "start_time": "2022-02-14T14:51:37.141Z"
   },
   {
    "duration": 21,
    "start_time": "2022-02-14T14:51:37.577Z"
   },
   {
    "duration": 494,
    "start_time": "2022-02-14T14:51:37.601Z"
   },
   {
    "duration": 42,
    "start_time": "2022-02-14T14:51:38.098Z"
   },
   {
    "duration": 398,
    "start_time": "2022-02-14T14:51:38.142Z"
   },
   {
    "duration": 33,
    "start_time": "2022-02-14T14:51:38.542Z"
   },
   {
    "duration": 56,
    "start_time": "2022-02-14T14:51:38.578Z"
   },
   {
    "duration": 23,
    "start_time": "2022-02-14T14:51:38.636Z"
   },
   {
    "duration": 371,
    "start_time": "2022-02-14T14:51:38.662Z"
   },
   {
    "duration": 249,
    "start_time": "2022-02-14T14:51:39.036Z"
   },
   {
    "duration": 257,
    "start_time": "2022-02-14T14:51:39.287Z"
   },
   {
    "duration": 238,
    "start_time": "2022-02-14T14:51:39.547Z"
   },
   {
    "duration": 266,
    "start_time": "2022-02-14T14:51:39.787Z"
   },
   {
    "duration": 263,
    "start_time": "2022-02-14T14:51:40.056Z"
   },
   {
    "duration": 262,
    "start_time": "2022-02-14T14:51:40.332Z"
   },
   {
    "duration": 196,
    "start_time": "2022-02-14T14:51:40.596Z"
   },
   {
    "duration": 201,
    "start_time": "2022-02-14T14:51:40.794Z"
   },
   {
    "duration": 284,
    "start_time": "2022-02-14T14:51:40.997Z"
   },
   {
    "duration": 14,
    "start_time": "2022-02-14T14:51:41.283Z"
   },
   {
    "duration": 36,
    "start_time": "2022-02-14T14:51:41.299Z"
   },
   {
    "duration": 17,
    "start_time": "2022-02-14T14:51:41.337Z"
   },
   {
    "duration": 9,
    "start_time": "2022-02-14T14:51:41.357Z"
   },
   {
    "duration": 27,
    "start_time": "2022-02-14T14:52:59.002Z"
   },
   {
    "duration": 1515,
    "start_time": "2022-02-14T18:24:28.776Z"
   },
   {
    "duration": 49,
    "start_time": "2022-02-14T18:24:30.293Z"
   },
   {
    "duration": 65,
    "start_time": "2022-02-14T18:24:30.345Z"
   },
   {
    "duration": 20,
    "start_time": "2022-02-14T18:24:30.412Z"
   },
   {
    "duration": 34,
    "start_time": "2022-02-14T18:24:30.434Z"
   },
   {
    "duration": 26,
    "start_time": "2022-02-14T18:24:30.470Z"
   },
   {
    "duration": 34,
    "start_time": "2022-02-14T18:24:30.499Z"
   },
   {
    "duration": 9,
    "start_time": "2022-02-14T18:24:30.537Z"
   },
   {
    "duration": 14,
    "start_time": "2022-02-14T18:24:30.549Z"
   },
   {
    "duration": 42,
    "start_time": "2022-02-14T18:24:30.565Z"
   },
   {
    "duration": 28,
    "start_time": "2022-02-14T18:24:30.609Z"
   },
   {
    "duration": 361,
    "start_time": "2022-02-14T18:24:30.639Z"
   },
   {
    "duration": 9,
    "start_time": "2022-02-14T18:24:31.003Z"
   },
   {
    "duration": 40,
    "start_time": "2022-02-14T18:24:31.015Z"
   },
   {
    "duration": 513,
    "start_time": "2022-02-14T18:24:31.058Z"
   },
   {
    "duration": 21,
    "start_time": "2022-02-14T18:24:31.574Z"
   },
   {
    "duration": 37,
    "start_time": "2022-02-14T18:24:31.597Z"
   },
   {
    "duration": 27,
    "start_time": "2022-02-14T18:24:31.657Z"
   },
   {
    "duration": 582,
    "start_time": "2022-02-14T18:24:31.687Z"
   },
   {
    "duration": 781,
    "start_time": "2022-02-14T18:24:32.273Z"
   },
   {
    "duration": 476,
    "start_time": "2022-02-14T18:24:33.057Z"
   },
   {
    "duration": 27,
    "start_time": "2022-02-14T18:24:33.535Z"
   },
   {
    "duration": 499,
    "start_time": "2022-02-14T18:24:33.572Z"
   },
   {
    "duration": 23,
    "start_time": "2022-02-14T18:24:34.075Z"
   },
   {
    "duration": 514,
    "start_time": "2022-02-14T18:24:34.100Z"
   },
   {
    "duration": 51,
    "start_time": "2022-02-14T18:24:34.619Z"
   },
   {
    "duration": 420,
    "start_time": "2022-02-14T18:24:34.673Z"
   },
   {
    "duration": 55,
    "start_time": "2022-02-14T18:24:35.096Z"
   },
   {
    "duration": 48,
    "start_time": "2022-02-14T18:24:35.154Z"
   },
   {
    "duration": 62,
    "start_time": "2022-02-14T18:24:35.205Z"
   },
   {
    "duration": 550,
    "start_time": "2022-02-14T18:24:35.271Z"
   },
   {
    "duration": 265,
    "start_time": "2022-02-14T18:24:35.825Z"
   },
   {
    "duration": 264,
    "start_time": "2022-02-14T18:24:36.092Z"
   },
   {
    "duration": 363,
    "start_time": "2022-02-14T18:24:36.359Z"
   },
   {
    "duration": 401,
    "start_time": "2022-02-14T18:24:36.733Z"
   },
   {
    "duration": 398,
    "start_time": "2022-02-14T18:24:37.137Z"
   },
   {
    "duration": 286,
    "start_time": "2022-02-14T18:24:37.538Z"
   },
   {
    "duration": 293,
    "start_time": "2022-02-14T18:24:37.828Z"
   },
   {
    "duration": 213,
    "start_time": "2022-02-14T18:24:38.124Z"
   },
   {
    "duration": 298,
    "start_time": "2022-02-14T18:24:38.339Z"
   },
   {
    "duration": 20,
    "start_time": "2022-02-14T18:24:38.640Z"
   },
   {
    "duration": 12,
    "start_time": "2022-02-14T18:24:38.663Z"
   },
   {
    "duration": 16,
    "start_time": "2022-02-14T18:24:38.679Z"
   },
   {
    "duration": 46,
    "start_time": "2022-02-14T18:24:38.698Z"
   },
   {
    "duration": 3,
    "start_time": "2022-02-14T19:33:04.037Z"
   },
   {
    "duration": 3,
    "start_time": "2022-02-14T19:43:21.235Z"
   },
   {
    "duration": 10,
    "start_time": "2022-02-14T19:43:39.841Z"
   },
   {
    "duration": 1119,
    "start_time": "2022-02-15T09:18:55.773Z"
   },
   {
    "duration": 51,
    "start_time": "2022-02-15T09:18:56.894Z"
   },
   {
    "duration": 43,
    "start_time": "2022-02-15T09:18:56.946Z"
   },
   {
    "duration": 2,
    "start_time": "2022-02-15T09:18:56.991Z"
   },
   {
    "duration": 13,
    "start_time": "2022-02-15T09:18:56.995Z"
   },
   {
    "duration": 34,
    "start_time": "2022-02-15T09:18:57.009Z"
   },
   {
    "duration": 5,
    "start_time": "2022-02-15T09:18:57.044Z"
   },
   {
    "duration": 13,
    "start_time": "2022-02-15T09:18:57.050Z"
   },
   {
    "duration": 18,
    "start_time": "2022-02-15T09:18:57.065Z"
   },
   {
    "duration": 14,
    "start_time": "2022-02-15T09:18:57.084Z"
   },
   {
    "duration": 192,
    "start_time": "2022-02-15T09:18:57.099Z"
   },
   {
    "duration": 6,
    "start_time": "2022-02-15T09:18:57.293Z"
   },
   {
    "duration": 8,
    "start_time": "2022-02-15T09:18:57.301Z"
   },
   {
    "duration": 296,
    "start_time": "2022-02-15T09:18:57.310Z"
   },
   {
    "duration": 26,
    "start_time": "2022-02-15T09:18:57.608Z"
   },
   {
    "duration": 11,
    "start_time": "2022-02-15T09:18:57.635Z"
   },
   {
    "duration": 11,
    "start_time": "2022-02-15T09:18:57.648Z"
   },
   {
    "duration": 299,
    "start_time": "2022-02-15T09:18:57.660Z"
   },
   {
    "duration": 376,
    "start_time": "2022-02-15T09:18:57.960Z"
   },
   {
    "duration": 238,
    "start_time": "2022-02-15T09:18:58.337Z"
   },
   {
    "duration": 13,
    "start_time": "2022-02-15T09:18:58.576Z"
   },
   {
    "duration": 243,
    "start_time": "2022-02-15T09:18:58.591Z"
   },
   {
    "duration": 12,
    "start_time": "2022-02-15T09:18:58.836Z"
   },
   {
    "duration": 485,
    "start_time": "2022-02-15T09:18:58.850Z"
   },
   {
    "duration": 17,
    "start_time": "2022-02-15T09:18:59.337Z"
   },
   {
    "duration": 227,
    "start_time": "2022-02-15T09:18:59.355Z"
   },
   {
    "duration": 15,
    "start_time": "2022-02-15T09:18:59.586Z"
   },
   {
    "duration": 29,
    "start_time": "2022-02-15T09:18:59.603Z"
   },
   {
    "duration": 14,
    "start_time": "2022-02-15T09:18:59.634Z"
   },
   {
    "duration": 210,
    "start_time": "2022-02-15T09:18:59.650Z"
   },
   {
    "duration": 141,
    "start_time": "2022-02-15T09:18:59.861Z"
   },
   {
    "duration": 145,
    "start_time": "2022-02-15T09:19:00.004Z"
   },
   {
    "duration": 144,
    "start_time": "2022-02-15T09:19:00.150Z"
   },
   {
    "duration": 156,
    "start_time": "2022-02-15T09:19:00.296Z"
   },
   {
    "duration": 149,
    "start_time": "2022-02-15T09:19:00.453Z"
   },
   {
    "duration": 158,
    "start_time": "2022-02-15T09:19:00.604Z"
   },
   {
    "duration": 123,
    "start_time": "2022-02-15T09:19:00.764Z"
   },
   {
    "duration": 116,
    "start_time": "2022-02-15T09:19:00.888Z"
   },
   {
    "duration": 190,
    "start_time": "2022-02-15T09:19:01.005Z"
   },
   {
    "duration": 2,
    "start_time": "2022-02-15T09:19:01.196Z"
   },
   {
    "duration": 23,
    "start_time": "2022-02-15T09:19:01.199Z"
   },
   {
    "duration": 9,
    "start_time": "2022-02-15T09:19:01.224Z"
   },
   {
    "duration": 10,
    "start_time": "2022-02-15T09:19:01.234Z"
   },
   {
    "duration": 25,
    "start_time": "2022-02-15T09:19:01.245Z"
   },
   {
    "duration": 20,
    "start_time": "2022-02-15T09:19:01.271Z"
   },
   {
    "duration": 8,
    "start_time": "2022-02-15T10:01:58.928Z"
   },
   {
    "duration": 7,
    "start_time": "2022-02-15T10:02:02.309Z"
   },
   {
    "duration": 9,
    "start_time": "2022-02-15T10:02:41.009Z"
   },
   {
    "duration": 1060,
    "start_time": "2022-02-15T10:02:51.472Z"
   },
   {
    "duration": 45,
    "start_time": "2022-02-15T10:02:52.534Z"
   },
   {
    "duration": 36,
    "start_time": "2022-02-15T10:02:52.581Z"
   },
   {
    "duration": 2,
    "start_time": "2022-02-15T10:02:52.619Z"
   },
   {
    "duration": 33,
    "start_time": "2022-02-15T10:02:52.622Z"
   },
   {
    "duration": 24,
    "start_time": "2022-02-15T10:02:52.656Z"
   },
   {
    "duration": 8,
    "start_time": "2022-02-15T10:02:52.682Z"
   },
   {
    "duration": 7,
    "start_time": "2022-02-15T10:02:52.691Z"
   },
   {
    "duration": 29,
    "start_time": "2022-02-15T10:02:52.700Z"
   },
   {
    "duration": 20,
    "start_time": "2022-02-15T10:02:52.731Z"
   },
   {
    "duration": 188,
    "start_time": "2022-02-15T10:02:52.752Z"
   },
   {
    "duration": 5,
    "start_time": "2022-02-15T10:02:52.942Z"
   },
   {
    "duration": 12,
    "start_time": "2022-02-15T10:02:52.949Z"
   },
   {
    "duration": 289,
    "start_time": "2022-02-15T10:02:52.962Z"
   },
   {
    "duration": 13,
    "start_time": "2022-02-15T10:02:53.253Z"
   },
   {
    "duration": 9,
    "start_time": "2022-02-15T10:02:53.267Z"
   },
   {
    "duration": 8,
    "start_time": "2022-02-15T10:02:53.278Z"
   },
   {
    "duration": 294,
    "start_time": "2022-02-15T10:02:53.288Z"
   },
   {
    "duration": 376,
    "start_time": "2022-02-15T10:02:53.583Z"
   },
   {
    "duration": 238,
    "start_time": "2022-02-15T10:02:53.961Z"
   },
   {
    "duration": 14,
    "start_time": "2022-02-15T10:02:54.201Z"
   },
   {
    "duration": 248,
    "start_time": "2022-02-15T10:02:54.216Z"
   },
   {
    "duration": 13,
    "start_time": "2022-02-15T10:02:54.465Z"
   },
   {
    "duration": 289,
    "start_time": "2022-02-15T10:02:54.479Z"
   },
   {
    "duration": 16,
    "start_time": "2022-02-15T10:02:54.770Z"
   },
   {
    "duration": 221,
    "start_time": "2022-02-15T10:02:54.788Z"
   },
   {
    "duration": 20,
    "start_time": "2022-02-15T10:02:55.012Z"
   },
   {
    "duration": 16,
    "start_time": "2022-02-15T10:02:55.034Z"
   },
   {
    "duration": 13,
    "start_time": "2022-02-15T10:02:55.052Z"
   },
   {
    "duration": 209,
    "start_time": "2022-02-15T10:02:55.067Z"
   },
   {
    "duration": 135,
    "start_time": "2022-02-15T10:02:55.278Z"
   },
   {
    "duration": 143,
    "start_time": "2022-02-15T10:02:55.414Z"
   },
   {
    "duration": 144,
    "start_time": "2022-02-15T10:02:55.558Z"
   },
   {
    "duration": 148,
    "start_time": "2022-02-15T10:02:55.703Z"
   },
   {
    "duration": 152,
    "start_time": "2022-02-15T10:02:55.853Z"
   },
   {
    "duration": 155,
    "start_time": "2022-02-15T10:02:56.007Z"
   },
   {
    "duration": 113,
    "start_time": "2022-02-15T10:02:56.163Z"
   },
   {
    "duration": 111,
    "start_time": "2022-02-15T10:02:56.277Z"
   },
   {
    "duration": 182,
    "start_time": "2022-02-15T10:02:56.389Z"
   },
   {
    "duration": 3,
    "start_time": "2022-02-15T10:02:56.572Z"
   },
   {
    "duration": 9,
    "start_time": "2022-02-15T10:02:56.576Z"
   },
   {
    "duration": 2,
    "start_time": "2022-02-15T10:02:56.587Z"
   },
   {
    "duration": 7,
    "start_time": "2022-02-15T10:02:56.590Z"
   },
   {
    "duration": 34,
    "start_time": "2022-02-15T10:02:56.598Z"
   },
   {
    "duration": 5,
    "start_time": "2022-02-15T10:02:56.633Z"
   },
   {
    "duration": 1149,
    "start_time": "2022-02-15T10:52:06.109Z"
   },
   {
    "duration": 31,
    "start_time": "2022-02-15T10:52:07.260Z"
   },
   {
    "duration": 48,
    "start_time": "2022-02-15T10:52:07.293Z"
   },
   {
    "duration": 2,
    "start_time": "2022-02-15T10:52:07.343Z"
   },
   {
    "duration": 15,
    "start_time": "2022-02-15T10:52:07.346Z"
   },
   {
    "duration": 19,
    "start_time": "2022-02-15T10:52:07.362Z"
   },
   {
    "duration": 6,
    "start_time": "2022-02-15T10:52:07.383Z"
   },
   {
    "duration": 3,
    "start_time": "2022-02-15T10:52:07.411Z"
   },
   {
    "duration": 14,
    "start_time": "2022-02-15T10:52:07.416Z"
   },
   {
    "duration": 15,
    "start_time": "2022-02-15T10:52:07.431Z"
   },
   {
    "duration": 261,
    "start_time": "2022-02-15T10:52:07.448Z"
   },
   {
    "duration": 7,
    "start_time": "2022-02-15T10:52:07.712Z"
   },
   {
    "duration": 10,
    "start_time": "2022-02-15T10:52:07.721Z"
   },
   {
    "duration": 351,
    "start_time": "2022-02-15T10:52:07.732Z"
   },
   {
    "duration": 28,
    "start_time": "2022-02-15T10:52:08.085Z"
   },
   {
    "duration": 11,
    "start_time": "2022-02-15T10:52:08.115Z"
   },
   {
    "duration": 11,
    "start_time": "2022-02-15T10:52:08.128Z"
   },
   {
    "duration": 338,
    "start_time": "2022-02-15T10:52:08.140Z"
   },
   {
    "duration": 427,
    "start_time": "2022-02-15T10:52:08.480Z"
   },
   {
    "duration": 279,
    "start_time": "2022-02-15T10:52:08.912Z"
   },
   {
    "duration": 20,
    "start_time": "2022-02-15T10:52:09.193Z"
   },
   {
    "duration": 257,
    "start_time": "2022-02-15T10:52:09.214Z"
   },
   {
    "duration": 12,
    "start_time": "2022-02-15T10:52:09.475Z"
   },
   {
    "duration": 313,
    "start_time": "2022-02-15T10:52:09.489Z"
   },
   {
    "duration": 21,
    "start_time": "2022-02-15T10:52:09.804Z"
   },
   {
    "duration": 254,
    "start_time": "2022-02-15T10:52:09.827Z"
   },
   {
    "duration": 15,
    "start_time": "2022-02-15T10:52:10.083Z"
   },
   {
    "duration": 28,
    "start_time": "2022-02-15T10:52:10.100Z"
   },
   {
    "duration": 14,
    "start_time": "2022-02-15T10:52:10.130Z"
   },
   {
    "duration": 245,
    "start_time": "2022-02-15T10:52:10.146Z"
   },
   {
    "duration": 147,
    "start_time": "2022-02-15T10:52:10.393Z"
   },
   {
    "duration": 178,
    "start_time": "2022-02-15T10:52:10.542Z"
   },
   {
    "duration": 154,
    "start_time": "2022-02-15T10:52:10.722Z"
   },
   {
    "duration": 174,
    "start_time": "2022-02-15T10:52:10.878Z"
   },
   {
    "duration": 170,
    "start_time": "2022-02-15T10:52:11.053Z"
   },
   {
    "duration": 169,
    "start_time": "2022-02-15T10:52:11.225Z"
   },
   {
    "duration": 124,
    "start_time": "2022-02-15T10:52:11.396Z"
   },
   {
    "duration": 129,
    "start_time": "2022-02-15T10:52:11.522Z"
   },
   {
    "duration": 186,
    "start_time": "2022-02-15T10:52:11.652Z"
   },
   {
    "duration": 2,
    "start_time": "2022-02-15T10:52:11.840Z"
   },
   {
    "duration": 6,
    "start_time": "2022-02-15T10:52:11.843Z"
   },
   {
    "duration": 10,
    "start_time": "2022-02-15T10:52:11.851Z"
   },
   {
    "duration": 2,
    "start_time": "2022-02-15T10:52:11.863Z"
   },
   {
    "duration": 10,
    "start_time": "2022-02-15T10:52:11.867Z"
   },
   {
    "duration": 13,
    "start_time": "2022-02-15T10:52:11.878Z"
   },
   {
    "duration": 23,
    "start_time": "2022-02-15T10:52:11.892Z"
   },
   {
    "duration": 7,
    "start_time": "2022-02-15T10:52:42.443Z"
   },
   {
    "duration": 6,
    "start_time": "2022-02-15T10:52:45.277Z"
   },
   {
    "duration": 10,
    "start_time": "2022-02-15T10:53:32.292Z"
   },
   {
    "duration": 6,
    "start_time": "2022-02-15T10:53:34.757Z"
   },
   {
    "duration": 9,
    "start_time": "2022-02-15T10:54:08.733Z"
   },
   {
    "duration": 6,
    "start_time": "2022-02-15T10:54:12.628Z"
   },
   {
    "duration": 11,
    "start_time": "2022-02-15T10:54:29.915Z"
   },
   {
    "duration": 6,
    "start_time": "2022-02-15T10:54:32.490Z"
   },
   {
    "duration": 8,
    "start_time": "2022-02-15T11:26:29.405Z"
   },
   {
    "duration": 6,
    "start_time": "2022-02-15T11:26:48.760Z"
   },
   {
    "duration": 10,
    "start_time": "2022-02-15T12:02:00.481Z"
   },
   {
    "duration": 8,
    "start_time": "2022-02-15T12:02:02.113Z"
   },
   {
    "duration": 3,
    "start_time": "2022-02-15T12:06:59.127Z"
   },
   {
    "duration": 1203,
    "start_time": "2022-02-15T17:16:35.644Z"
   },
   {
    "duration": 49,
    "start_time": "2022-02-15T17:16:36.849Z"
   },
   {
    "duration": 43,
    "start_time": "2022-02-15T17:16:36.900Z"
   },
   {
    "duration": 3,
    "start_time": "2022-02-15T17:16:36.944Z"
   },
   {
    "duration": 27,
    "start_time": "2022-02-15T17:16:36.948Z"
   },
   {
    "duration": 19,
    "start_time": "2022-02-15T17:16:36.976Z"
   },
   {
    "duration": 6,
    "start_time": "2022-02-15T17:16:36.997Z"
   },
   {
    "duration": 10,
    "start_time": "2022-02-15T17:16:37.004Z"
   },
   {
    "duration": 18,
    "start_time": "2022-02-15T17:16:37.016Z"
   },
   {
    "duration": 40,
    "start_time": "2022-02-15T17:16:37.036Z"
   },
   {
    "duration": 249,
    "start_time": "2022-02-15T17:16:37.078Z"
   },
   {
    "duration": 6,
    "start_time": "2022-02-15T17:16:37.329Z"
   },
   {
    "duration": 9,
    "start_time": "2022-02-15T17:16:37.337Z"
   },
   {
    "duration": 365,
    "start_time": "2022-02-15T17:16:37.348Z"
   },
   {
    "duration": 14,
    "start_time": "2022-02-15T17:16:37.715Z"
   },
   {
    "duration": 10,
    "start_time": "2022-02-15T17:16:37.730Z"
   },
   {
    "duration": 29,
    "start_time": "2022-02-15T17:16:37.741Z"
   },
   {
    "duration": 345,
    "start_time": "2022-02-15T17:16:37.772Z"
   },
   {
    "duration": 474,
    "start_time": "2022-02-15T17:16:38.118Z"
   },
   {
    "duration": 304,
    "start_time": "2022-02-15T17:16:38.594Z"
   },
   {
    "duration": 14,
    "start_time": "2022-02-15T17:16:38.900Z"
   },
   {
    "duration": 339,
    "start_time": "2022-02-15T17:16:38.916Z"
   },
   {
    "duration": 19,
    "start_time": "2022-02-15T17:16:39.256Z"
   },
   {
    "duration": 347,
    "start_time": "2022-02-15T17:16:39.277Z"
   },
   {
    "duration": 18,
    "start_time": "2022-02-15T17:16:39.626Z"
   },
   {
    "duration": 289,
    "start_time": "2022-02-15T17:16:39.646Z"
   },
   {
    "duration": 18,
    "start_time": "2022-02-15T17:16:39.938Z"
   },
   {
    "duration": 28,
    "start_time": "2022-02-15T17:16:39.958Z"
   },
   {
    "duration": 15,
    "start_time": "2022-02-15T17:16:39.988Z"
   },
   {
    "duration": 267,
    "start_time": "2022-02-15T17:16:40.004Z"
   },
   {
    "duration": 177,
    "start_time": "2022-02-15T17:16:40.273Z"
   },
   {
    "duration": 179,
    "start_time": "2022-02-15T17:16:40.452Z"
   },
   {
    "duration": 166,
    "start_time": "2022-02-15T17:16:40.633Z"
   },
   {
    "duration": 190,
    "start_time": "2022-02-15T17:16:40.801Z"
   },
   {
    "duration": 192,
    "start_time": "2022-02-15T17:16:40.993Z"
   },
   {
    "duration": 197,
    "start_time": "2022-02-15T17:16:41.187Z"
   },
   {
    "duration": 142,
    "start_time": "2022-02-15T17:16:41.386Z"
   },
   {
    "duration": 140,
    "start_time": "2022-02-15T17:16:41.530Z"
   },
   {
    "duration": 214,
    "start_time": "2022-02-15T17:16:41.672Z"
   },
   {
    "duration": 2,
    "start_time": "2022-02-15T17:16:41.888Z"
   },
   {
    "duration": 9,
    "start_time": "2022-02-15T17:16:41.892Z"
   },
   {
    "duration": 5,
    "start_time": "2022-02-15T17:16:41.902Z"
   },
   {
    "duration": 10,
    "start_time": "2022-02-15T17:16:41.908Z"
   },
   {
    "duration": 3,
    "start_time": "2022-02-15T17:16:41.920Z"
   },
   {
    "duration": 10,
    "start_time": "2022-02-15T17:16:41.925Z"
   },
   {
    "duration": 5,
    "start_time": "2022-02-15T17:16:41.937Z"
   },
   {
    "duration": 28,
    "start_time": "2022-02-15T17:16:41.944Z"
   },
   {
    "duration": 11,
    "start_time": "2022-02-15T17:16:41.974Z"
   }
  ],
  "kernelspec": {
   "display_name": "Python 3",
   "language": "python",
   "name": "python3"
  },
  "language_info": {
   "codemirror_mode": {
    "name": "ipython",
    "version": 3
   },
   "file_extension": ".py",
   "mimetype": "text/x-python",
   "name": "python",
   "nbconvert_exporter": "python",
   "pygments_lexer": "ipython3",
   "version": "3.8.8"
  },
  "toc": {
   "base_numbering": 1,
   "nav_menu": {},
   "number_sections": true,
   "sideBar": true,
   "skip_h1_title": true,
   "title_cell": "Содержание",
   "title_sidebar": "Contents",
   "toc_cell": true,
   "toc_position": {
    "height": "calc(100% - 180px)",
    "left": "10px",
    "top": "150px",
    "width": "290.879px"
   },
   "toc_section_display": true,
   "toc_window_display": true
  }
 },
 "nbformat": 4,
 "nbformat_minor": 2
}
