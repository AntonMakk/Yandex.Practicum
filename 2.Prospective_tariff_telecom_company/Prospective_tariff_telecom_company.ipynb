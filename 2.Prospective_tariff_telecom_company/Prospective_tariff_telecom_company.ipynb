{
 "cells": [
  {
   "cell_type": "markdown",
   "metadata": {
    "toc": true
   },
   "source": [
    "<h1>Содержание<span class=\"tocSkip\"></span></h1>\n",
    "<div class=\"toc\"><ul class=\"toc-item\"><li><span><a href=\"#Изучение-данных-из-файлов\" data-toc-modified-id=\"Изучение-данных-из-файлов-1\"><span class=\"toc-item-num\">1&nbsp;&nbsp;</span>Изучение данных из файлов</a></span><ul class=\"toc-item\"><li><span><a href=\"#calls\" data-toc-modified-id=\"calls-1.1\"><span class=\"toc-item-num\">1.1&nbsp;&nbsp;</span>calls</a></span></li><li><span><a href=\"#internet\" data-toc-modified-id=\"internet-1.2\"><span class=\"toc-item-num\">1.2&nbsp;&nbsp;</span>internet</a></span></li><li><span><a href=\"#messages\" data-toc-modified-id=\"messages-1.3\"><span class=\"toc-item-num\">1.3&nbsp;&nbsp;</span>messages</a></span></li><li><span><a href=\"#tariffs\" data-toc-modified-id=\"tariffs-1.4\"><span class=\"toc-item-num\">1.4&nbsp;&nbsp;</span>tariffs</a></span></li><li><span><a href=\"#users\" data-toc-modified-id=\"users-1.5\"><span class=\"toc-item-num\">1.5&nbsp;&nbsp;</span>users</a></span></li><li><span><a href=\"#Вывод\" data-toc-modified-id=\"Вывод-1.6\"><span class=\"toc-item-num\">1.6&nbsp;&nbsp;</span>Вывод</a></span></li></ul></li><li><span><a href=\"#Подготовка-данных\" data-toc-modified-id=\"Подготовка-данных-2\"><span class=\"toc-item-num\">2&nbsp;&nbsp;</span>Подготовка данных</a></span><ul class=\"toc-item\"><li><span><a href=\"#Приведем-данные-к-нужным-типам-и-исправим-ошибки-в-данных\" data-toc-modified-id=\"Приведем-данные-к-нужным-типам-и-исправим-ошибки-в-данных-2.1\"><span class=\"toc-item-num\">2.1&nbsp;&nbsp;</span>Приведем данные к нужным типам и исправим ошибки в данных</a></span></li><li><span><a href=\"#Подготовим-данные-анализу\" data-toc-modified-id=\"Подготовим-данные-анализу-2.2\"><span class=\"toc-item-num\">2.2&nbsp;&nbsp;</span>Подготовим данные анализу</a></span></li><li><span><a href=\"#Вывод\" data-toc-modified-id=\"Вывод-2.3\"><span class=\"toc-item-num\">2.3&nbsp;&nbsp;</span>Вывод</a></span></li></ul></li><li><span><a href=\"#Проанализируем-данные\" data-toc-modified-id=\"Проанализируем-данные-3\"><span class=\"toc-item-num\">3&nbsp;&nbsp;</span>Проанализируем данные</a></span><ul class=\"toc-item\"><li><span><a href=\"#Количество-минут-разговора-в-месяц\" data-toc-modified-id=\"Количество-минут-разговора-в-месяц-3.1\"><span class=\"toc-item-num\">3.1&nbsp;&nbsp;</span>Количество минут разговора в месяц</a></span><ul class=\"toc-item\"><li><span><a href=\"#Smart.-Количество-минут-разговора-в-месяц\" data-toc-modified-id=\"Smart.-Количество-минут-разговора-в-месяц-3.1.1\"><span class=\"toc-item-num\">3.1.1&nbsp;&nbsp;</span>Smart. Количество минут разговора в месяц</a></span></li><li><span><a href=\"#Ultra.-Количество-минут-разговора-в-месяц\" data-toc-modified-id=\"Ultra.-Количество-минут-разговора-в-месяц-3.1.2\"><span class=\"toc-item-num\">3.1.2&nbsp;&nbsp;</span>Ultra. Количество минут разговора в месяц</a></span></li><li><span><a href=\"#Построим-гистограммы\" data-toc-modified-id=\"Построим-гистограммы-3.1.3\"><span class=\"toc-item-num\">3.1.3&nbsp;&nbsp;</span>Построим гистограммы</a></span></li></ul></li><li><span><a href=\"#Количество-сообщений-в-месяц\" data-toc-modified-id=\"Количество-сообщений-в-месяц-3.2\"><span class=\"toc-item-num\">3.2&nbsp;&nbsp;</span>Количество сообщений в месяц</a></span><ul class=\"toc-item\"><li><span><a href=\"#Smart.-Количество-сообщений-в-месяц\" data-toc-modified-id=\"Smart.-Количество-сообщений-в-месяц-3.2.1\"><span class=\"toc-item-num\">3.2.1&nbsp;&nbsp;</span>Smart. Количество сообщений в месяц</a></span></li><li><span><a href=\"#Ultra.-Количество-сообщений-в-месяц\" data-toc-modified-id=\"Ultra.-Количество-сообщений-в-месяц-3.2.2\"><span class=\"toc-item-num\">3.2.2&nbsp;&nbsp;</span>Ultra. Количество сообщений в месяц</a></span></li><li><span><a href=\"#Построим-гистограммы\" data-toc-modified-id=\"Построим-гистограммы-3.2.3\"><span class=\"toc-item-num\">3.2.3&nbsp;&nbsp;</span>Построим гистограммы</a></span></li></ul></li><li><span><a href=\"#Объём-интернет-трафика-в-месяц\" data-toc-modified-id=\"Объём-интернет-трафика-в-месяц-3.3\"><span class=\"toc-item-num\">3.3&nbsp;&nbsp;</span>Объём интернет-трафика в месяц</a></span><ul class=\"toc-item\"><li><span><a href=\"#Smart.-Объём-интернет-трафика-в-месяц\" data-toc-modified-id=\"Smart.-Объём-интернет-трафика-в-месяц-3.3.1\"><span class=\"toc-item-num\">3.3.1&nbsp;&nbsp;</span>Smart. Объём интернет-трафика в месяц</a></span></li><li><span><a href=\"#Ultra.-Объём-интернет-трафика-в-месяц\" data-toc-modified-id=\"Ultra.-Объём-интернет-трафика-в-месяц-3.3.2\"><span class=\"toc-item-num\">3.3.2&nbsp;&nbsp;</span>Ultra. Объём интернет-трафика в месяц</a></span></li><li><span><a href=\"#Построим-гистограмму\" data-toc-modified-id=\"Построим-гистограмму-3.3.3\"><span class=\"toc-item-num\">3.3.3&nbsp;&nbsp;</span>Построим гистограмму</a></span></li></ul></li><li><span><a href=\"#Вывод\" data-toc-modified-id=\"Вывод-3.4\"><span class=\"toc-item-num\">3.4&nbsp;&nbsp;</span>Вывод</a></span></li></ul></li><li><span><a href=\"#Проверим-гипотезы\" data-toc-modified-id=\"Проверим-гипотезы-4\"><span class=\"toc-item-num\">4&nbsp;&nbsp;</span>Проверим гипотезы</a></span><ul class=\"toc-item\"><li><span><a href=\"#Средняя-выручка-пользователей-тарифов-«Ультра»-и-«Смарт»-различаются\" data-toc-modified-id=\"Средняя-выручка-пользователей-тарифов-«Ультра»-и-«Смарт»-различаются-4.1\"><span class=\"toc-item-num\">4.1&nbsp;&nbsp;</span>Средняя выручка пользователей тарифов «Ультра» и «Смарт» различаются</a></span></li><li><span><a href=\"#Средняя-выручка-пользователей-из-Москвы-отличается-от-выручки-пользователей-из-других-регионов\" data-toc-modified-id=\"Средняя-выручка-пользователей-из-Москвы-отличается-от-выручки-пользователей-из-других-регионов-4.2\"><span class=\"toc-item-num\">4.2&nbsp;&nbsp;</span>Средняя выручка пользователей из Москвы отличается от выручки пользователей из других регионов</a></span></li></ul></li><li><span><a href=\"#Общий-вывод\" data-toc-modified-id=\"Общий-вывод-5\"><span class=\"toc-item-num\">5&nbsp;&nbsp;</span>Общий вывод</a></span></li></ul></div>"
   ]
  },
  {
   "cell_type": "markdown",
   "metadata": {},
   "source": [
    "# Определение перспективного тарифа для телеком-компании"
   ]
  },
  {
   "cell_type": "markdown",
   "metadata": {},
   "source": [
    "***Описание проекта***\n",
    "\n",
    "Федеральноый оператор сотовой связи «Мегалайн» предлагает клиентам два тарифных плана: «Смарт» и «Ультра». Чтобы скорректировать рекламный бюджет, коммерческий департамент хочет понять, какой тариф приносит больше денег.\n",
    "Нам предстоит сделать предварительный анализ тарифов на небольшой выборке клиентов. В нашем распоряжении данные 500 пользователей «Мегалайна»: кто они, откуда, каким тарифом пользуются, сколько звонков и сообщений каждый отправил за 2018 год. Нужно проанализировать поведение клиентов и сделать вывод — какой тариф лучше."
   ]
  },
  {
   "cell_type": "markdown",
   "metadata": {},
   "source": [
    "**Описание тарифов***\n",
    "\n",
    "***Тариф «Смарт»***\n",
    "1. Ежемесячная плата: 550 рублей\n",
    "2. Включено 500 минут разговора, 50 сообщений и 15 Гб интернет-трафика\n",
    "3. Стоимость услуг сверх тарифного пакета: 1. минута разговора: 3 рубля («Мегалайн» всегда округляет вверх значения минут и мегабайтов. Если пользователь проговорил всего 1 секунду, в тарифе засчитывается целая минута); 2. сообщение: 3 рубля; 3. 1 Гб интернет-трафика: 200 рублей.\n",
    "***Тариф «Ультра»***\n",
    "1. Ежемесячная плата: 1950 рублей\n",
    "2. Включено 3000 минут разговора, 1000 сообщений и 30 Гб интернет-трафика\n",
    "3. Стоимость услуг сверх тарифного пакета: 1. минута разговора: 1 рубль; 2. сообщение: 1 рубль; 3. 1 Гб интернет-трафика: 150 рублей."
   ]
  },
  {
   "cell_type": "markdown",
   "metadata": {},
   "source": [
    "***Примечание:***\n",
    "<br>«Мегалайн» всегда округляет секунды до минут, а мегабайты — до гигабайт. Каждый звонок округляется отдельно: даже если он длился всего 1 секунду, будет засчитан как 1 минута.\n",
    "\n",
    "Для веб-трафика отдельные сессии не считаются. Вместо этого общая сумма за месяц округляется в бо́льшую сторону. Если абонент использует 1025 мегабайт в этом месяце, с него возьмут плату за 2 гигабайта."
   ]
  },
  {
   "cell_type": "markdown",
   "metadata": {},
   "source": [
    "## Изучение данных из файлов"
   ]
  },
  {
   "cell_type": "markdown",
   "metadata": {},
   "source": [
    "Откроем файлы с данными и изучим общую информацию"
   ]
  },
  {
   "cell_type": "code",
   "execution_count": 1,
   "metadata": {},
   "outputs": [],
   "source": [
    "#Импортируем библиотеки котрые нам потребуются в проекте\n",
    "import pandas as pd\n",
    "import numpy as np\n",
    "import matplotlib.pyplot as plt\n",
    "import seaborn as sns\n",
    "from scipy import stats as st"
   ]
  },
  {
   "cell_type": "code",
   "execution_count": 2,
   "metadata": {},
   "outputs": [],
   "source": [
    "#Откроем файлы с данными и сохраним их содержимое в переменные\n",
    "calls = pd.read_csv('/datasets/calls.csv') \n",
    "internet = pd.read_csv('/datasets/internet.csv') \n",
    "messages = pd.read_csv('/datasets/messages.csv') \n",
    "tariffs = pd.read_csv('/datasets/tariffs.csv') \n",
    "users = pd.read_csv('/datasets/users.csv') "
   ]
  },
  {
   "cell_type": "markdown",
   "metadata": {},
   "source": [
    "### calls"
   ]
  },
  {
   "cell_type": "code",
   "execution_count": 3,
   "metadata": {
    "scrolled": true
   },
   "outputs": [
    {
     "name": "stdout",
     "output_type": "stream",
     "text": [
      "<class 'pandas.core.frame.DataFrame'>\n",
      "RangeIndex: 202607 entries, 0 to 202606\n",
      "Data columns (total 4 columns):\n",
      " #   Column     Non-Null Count   Dtype  \n",
      "---  ------     --------------   -----  \n",
      " 0   id         202607 non-null  object \n",
      " 1   call_date  202607 non-null  object \n",
      " 2   duration   202607 non-null  float64\n",
      " 3   user_id    202607 non-null  int64  \n",
      "dtypes: float64(1), int64(1), object(2)\n",
      "memory usage: 6.2+ MB\n"
     ]
    },
    {
     "data": {
      "text/html": [
       "<div>\n",
       "<style scoped>\n",
       "    .dataframe tbody tr th:only-of-type {\n",
       "        vertical-align: middle;\n",
       "    }\n",
       "\n",
       "    .dataframe tbody tr th {\n",
       "        vertical-align: top;\n",
       "    }\n",
       "\n",
       "    .dataframe thead th {\n",
       "        text-align: right;\n",
       "    }\n",
       "</style>\n",
       "<table border=\"1\" class=\"dataframe\">\n",
       "  <thead>\n",
       "    <tr style=\"text-align: right;\">\n",
       "      <th></th>\n",
       "      <th>id</th>\n",
       "      <th>call_date</th>\n",
       "      <th>duration</th>\n",
       "      <th>user_id</th>\n",
       "    </tr>\n",
       "  </thead>\n",
       "  <tbody>\n",
       "    <tr>\n",
       "      <th>0</th>\n",
       "      <td>1000_0</td>\n",
       "      <td>2018-07-25</td>\n",
       "      <td>0.00</td>\n",
       "      <td>1000</td>\n",
       "    </tr>\n",
       "    <tr>\n",
       "      <th>1</th>\n",
       "      <td>1000_1</td>\n",
       "      <td>2018-08-17</td>\n",
       "      <td>0.00</td>\n",
       "      <td>1000</td>\n",
       "    </tr>\n",
       "    <tr>\n",
       "      <th>2</th>\n",
       "      <td>1000_2</td>\n",
       "      <td>2018-06-11</td>\n",
       "      <td>2.85</td>\n",
       "      <td>1000</td>\n",
       "    </tr>\n",
       "    <tr>\n",
       "      <th>3</th>\n",
       "      <td>1000_3</td>\n",
       "      <td>2018-09-21</td>\n",
       "      <td>13.80</td>\n",
       "      <td>1000</td>\n",
       "    </tr>\n",
       "    <tr>\n",
       "      <th>4</th>\n",
       "      <td>1000_4</td>\n",
       "      <td>2018-12-15</td>\n",
       "      <td>5.18</td>\n",
       "      <td>1000</td>\n",
       "    </tr>\n",
       "  </tbody>\n",
       "</table>\n",
       "</div>"
      ],
      "text/plain": [
       "       id   call_date  duration  user_id\n",
       "0  1000_0  2018-07-25      0.00     1000\n",
       "1  1000_1  2018-08-17      0.00     1000\n",
       "2  1000_2  2018-06-11      2.85     1000\n",
       "3  1000_3  2018-09-21     13.80     1000\n",
       "4  1000_4  2018-12-15      5.18     1000"
      ]
     },
     "metadata": {},
     "output_type": "display_data"
    },
    {
     "data": {
      "text/html": [
       "<div>\n",
       "<style scoped>\n",
       "    .dataframe tbody tr th:only-of-type {\n",
       "        vertical-align: middle;\n",
       "    }\n",
       "\n",
       "    .dataframe tbody tr th {\n",
       "        vertical-align: top;\n",
       "    }\n",
       "\n",
       "    .dataframe thead th {\n",
       "        text-align: right;\n",
       "    }\n",
       "</style>\n",
       "<table border=\"1\" class=\"dataframe\">\n",
       "  <thead>\n",
       "    <tr style=\"text-align: right;\">\n",
       "      <th></th>\n",
       "      <th>count</th>\n",
       "      <th>mean</th>\n",
       "      <th>std</th>\n",
       "      <th>min</th>\n",
       "      <th>25%</th>\n",
       "      <th>50%</th>\n",
       "      <th>75%</th>\n",
       "      <th>max</th>\n",
       "    </tr>\n",
       "  </thead>\n",
       "  <tbody>\n",
       "    <tr>\n",
       "      <th>duration</th>\n",
       "      <td>202607.0</td>\n",
       "      <td>6.755887</td>\n",
       "      <td>5.843365</td>\n",
       "      <td>0.0</td>\n",
       "      <td>1.3</td>\n",
       "      <td>6.0</td>\n",
       "      <td>10.7</td>\n",
       "      <td>38.0</td>\n",
       "    </tr>\n",
       "    <tr>\n",
       "      <th>user_id</th>\n",
       "      <td>202607.0</td>\n",
       "      <td>1253.940619</td>\n",
       "      <td>144.722751</td>\n",
       "      <td>1000.0</td>\n",
       "      <td>1126.0</td>\n",
       "      <td>1260.0</td>\n",
       "      <td>1379.0</td>\n",
       "      <td>1499.0</td>\n",
       "    </tr>\n",
       "  </tbody>\n",
       "</table>\n",
       "</div>"
      ],
      "text/plain": [
       "             count         mean         std     min     25%     50%     75%  \\\n",
       "duration  202607.0     6.755887    5.843365     0.0     1.3     6.0    10.7   \n",
       "user_id   202607.0  1253.940619  144.722751  1000.0  1126.0  1260.0  1379.0   \n",
       "\n",
       "             max  \n",
       "duration    38.0  \n",
       "user_id   1499.0  "
      ]
     },
     "execution_count": 3,
     "metadata": {},
     "output_type": "execute_result"
    }
   ],
   "source": [
    "calls.info()\n",
    "display(calls.head())\n",
    "calls.describe().T\n",
    "#calls.duplicated().sum()"
   ]
  },
  {
   "cell_type": "markdown",
   "metadata": {},
   "source": [
    "Датасет ***calls*** содержит 4 столбца и 202607 строк\n",
    "<br>Пропущеных значений не обнаружили\n",
    "<br>Явных дубликатов не обноружили\n",
    "<br>Максимальные и минимальные значения, а также визуальное представление датасета не указывают на ошибки в данных\n",
    "<br>Не подходящий тип данных в столбцах \"указан(корректный)\":\n",
    "- call_date - object(datetime)"
   ]
  },
  {
   "cell_type": "markdown",
   "metadata": {},
   "source": [
    "### internet"
   ]
  },
  {
   "cell_type": "code",
   "execution_count": 4,
   "metadata": {
    "scrolled": true
   },
   "outputs": [
    {
     "name": "stdout",
     "output_type": "stream",
     "text": [
      "<class 'pandas.core.frame.DataFrame'>\n",
      "RangeIndex: 149396 entries, 0 to 149395\n",
      "Data columns (total 5 columns):\n",
      " #   Column        Non-Null Count   Dtype  \n",
      "---  ------        --------------   -----  \n",
      " 0   Unnamed: 0    149396 non-null  int64  \n",
      " 1   id            149396 non-null  object \n",
      " 2   mb_used       149396 non-null  float64\n",
      " 3   session_date  149396 non-null  object \n",
      " 4   user_id       149396 non-null  int64  \n",
      "dtypes: float64(1), int64(2), object(2)\n",
      "memory usage: 5.7+ MB\n"
     ]
    },
    {
     "data": {
      "text/html": [
       "<div>\n",
       "<style scoped>\n",
       "    .dataframe tbody tr th:only-of-type {\n",
       "        vertical-align: middle;\n",
       "    }\n",
       "\n",
       "    .dataframe tbody tr th {\n",
       "        vertical-align: top;\n",
       "    }\n",
       "\n",
       "    .dataframe thead th {\n",
       "        text-align: right;\n",
       "    }\n",
       "</style>\n",
       "<table border=\"1\" class=\"dataframe\">\n",
       "  <thead>\n",
       "    <tr style=\"text-align: right;\">\n",
       "      <th></th>\n",
       "      <th>Unnamed: 0</th>\n",
       "      <th>id</th>\n",
       "      <th>mb_used</th>\n",
       "      <th>session_date</th>\n",
       "      <th>user_id</th>\n",
       "    </tr>\n",
       "  </thead>\n",
       "  <tbody>\n",
       "    <tr>\n",
       "      <th>0</th>\n",
       "      <td>0</td>\n",
       "      <td>1000_0</td>\n",
       "      <td>112.95</td>\n",
       "      <td>2018-11-25</td>\n",
       "      <td>1000</td>\n",
       "    </tr>\n",
       "    <tr>\n",
       "      <th>1</th>\n",
       "      <td>1</td>\n",
       "      <td>1000_1</td>\n",
       "      <td>1052.81</td>\n",
       "      <td>2018-09-07</td>\n",
       "      <td>1000</td>\n",
       "    </tr>\n",
       "    <tr>\n",
       "      <th>2</th>\n",
       "      <td>2</td>\n",
       "      <td>1000_2</td>\n",
       "      <td>1197.26</td>\n",
       "      <td>2018-06-25</td>\n",
       "      <td>1000</td>\n",
       "    </tr>\n",
       "    <tr>\n",
       "      <th>3</th>\n",
       "      <td>3</td>\n",
       "      <td>1000_3</td>\n",
       "      <td>550.27</td>\n",
       "      <td>2018-08-22</td>\n",
       "      <td>1000</td>\n",
       "    </tr>\n",
       "    <tr>\n",
       "      <th>4</th>\n",
       "      <td>4</td>\n",
       "      <td>1000_4</td>\n",
       "      <td>302.56</td>\n",
       "      <td>2018-09-24</td>\n",
       "      <td>1000</td>\n",
       "    </tr>\n",
       "  </tbody>\n",
       "</table>\n",
       "</div>"
      ],
      "text/plain": [
       "   Unnamed: 0      id  mb_used session_date  user_id\n",
       "0           0  1000_0   112.95   2018-11-25     1000\n",
       "1           1  1000_1  1052.81   2018-09-07     1000\n",
       "2           2  1000_2  1197.26   2018-06-25     1000\n",
       "3           3  1000_3   550.27   2018-08-22     1000\n",
       "4           4  1000_4   302.56   2018-09-24     1000"
      ]
     },
     "metadata": {},
     "output_type": "display_data"
    },
    {
     "data": {
      "text/html": [
       "<div>\n",
       "<style scoped>\n",
       "    .dataframe tbody tr th:only-of-type {\n",
       "        vertical-align: middle;\n",
       "    }\n",
       "\n",
       "    .dataframe tbody tr th {\n",
       "        vertical-align: top;\n",
       "    }\n",
       "\n",
       "    .dataframe thead th {\n",
       "        text-align: right;\n",
       "    }\n",
       "</style>\n",
       "<table border=\"1\" class=\"dataframe\">\n",
       "  <thead>\n",
       "    <tr style=\"text-align: right;\">\n",
       "      <th></th>\n",
       "      <th>count</th>\n",
       "      <th>mean</th>\n",
       "      <th>std</th>\n",
       "      <th>min</th>\n",
       "      <th>25%</th>\n",
       "      <th>50%</th>\n",
       "      <th>75%</th>\n",
       "      <th>max</th>\n",
       "    </tr>\n",
       "  </thead>\n",
       "  <tbody>\n",
       "    <tr>\n",
       "      <th>Unnamed: 0</th>\n",
       "      <td>149396.0</td>\n",
       "      <td>74697.500000</td>\n",
       "      <td>43127.054745</td>\n",
       "      <td>0.0</td>\n",
       "      <td>37348.7500</td>\n",
       "      <td>74697.500</td>\n",
       "      <td>112046.2500</td>\n",
       "      <td>149395.00</td>\n",
       "    </tr>\n",
       "    <tr>\n",
       "      <th>mb_used</th>\n",
       "      <td>149396.0</td>\n",
       "      <td>370.192426</td>\n",
       "      <td>278.300951</td>\n",
       "      <td>0.0</td>\n",
       "      <td>138.1875</td>\n",
       "      <td>348.015</td>\n",
       "      <td>559.5525</td>\n",
       "      <td>1724.83</td>\n",
       "    </tr>\n",
       "    <tr>\n",
       "      <th>user_id</th>\n",
       "      <td>149396.0</td>\n",
       "      <td>1252.099842</td>\n",
       "      <td>144.050823</td>\n",
       "      <td>1000.0</td>\n",
       "      <td>1130.0000</td>\n",
       "      <td>1251.000</td>\n",
       "      <td>1380.0000</td>\n",
       "      <td>1499.00</td>\n",
       "    </tr>\n",
       "  </tbody>\n",
       "</table>\n",
       "</div>"
      ],
      "text/plain": [
       "               count          mean           std     min         25%  \\\n",
       "Unnamed: 0  149396.0  74697.500000  43127.054745     0.0  37348.7500   \n",
       "mb_used     149396.0    370.192426    278.300951     0.0    138.1875   \n",
       "user_id     149396.0   1252.099842    144.050823  1000.0   1130.0000   \n",
       "\n",
       "                  50%          75%        max  \n",
       "Unnamed: 0  74697.500  112046.2500  149395.00  \n",
       "mb_used       348.015     559.5525    1724.83  \n",
       "user_id      1251.000    1380.0000    1499.00  "
      ]
     },
     "execution_count": 4,
     "metadata": {},
     "output_type": "execute_result"
    }
   ],
   "source": [
    "internet.info()\n",
    "display(internet.head())\n",
    "internet.describe().T\n",
    "#internet.duplicated().sum()"
   ]
  },
  {
   "cell_type": "markdown",
   "metadata": {},
   "source": [
    "Датасет ***internet*** содержит 5 столбцов и 149396 строк\n",
    "<br>Пропущеных значений не обнаружили\n",
    "<br>Явных дубликатов не обноружили\n",
    "<br>Столбец 'Unnamed: 0' дублирует индекс, не содержит полезной информации и может быть удален\n",
    "<br>Максимальные и минимальные значения, а также визуальное представление датасета не указывают на ошибки в данных\n",
    "<br>Не подходящий тип данных в столбцах \"указан(корректный)\":\n",
    "- session_date - object(datetime)"
   ]
  },
  {
   "cell_type": "markdown",
   "metadata": {},
   "source": [
    "### messages"
   ]
  },
  {
   "cell_type": "code",
   "execution_count": 5,
   "metadata": {
    "scrolled": true
   },
   "outputs": [
    {
     "name": "stdout",
     "output_type": "stream",
     "text": [
      "<class 'pandas.core.frame.DataFrame'>\n",
      "RangeIndex: 123036 entries, 0 to 123035\n",
      "Data columns (total 3 columns):\n",
      " #   Column        Non-Null Count   Dtype \n",
      "---  ------        --------------   ----- \n",
      " 0   id            123036 non-null  object\n",
      " 1   message_date  123036 non-null  object\n",
      " 2   user_id       123036 non-null  int64 \n",
      "dtypes: int64(1), object(2)\n",
      "memory usage: 2.8+ MB\n"
     ]
    },
    {
     "data": {
      "text/html": [
       "<div>\n",
       "<style scoped>\n",
       "    .dataframe tbody tr th:only-of-type {\n",
       "        vertical-align: middle;\n",
       "    }\n",
       "\n",
       "    .dataframe tbody tr th {\n",
       "        vertical-align: top;\n",
       "    }\n",
       "\n",
       "    .dataframe thead th {\n",
       "        text-align: right;\n",
       "    }\n",
       "</style>\n",
       "<table border=\"1\" class=\"dataframe\">\n",
       "  <thead>\n",
       "    <tr style=\"text-align: right;\">\n",
       "      <th></th>\n",
       "      <th>id</th>\n",
       "      <th>message_date</th>\n",
       "      <th>user_id</th>\n",
       "    </tr>\n",
       "  </thead>\n",
       "  <tbody>\n",
       "    <tr>\n",
       "      <th>0</th>\n",
       "      <td>1000_0</td>\n",
       "      <td>2018-06-27</td>\n",
       "      <td>1000</td>\n",
       "    </tr>\n",
       "    <tr>\n",
       "      <th>1</th>\n",
       "      <td>1000_1</td>\n",
       "      <td>2018-10-08</td>\n",
       "      <td>1000</td>\n",
       "    </tr>\n",
       "    <tr>\n",
       "      <th>2</th>\n",
       "      <td>1000_2</td>\n",
       "      <td>2018-08-04</td>\n",
       "      <td>1000</td>\n",
       "    </tr>\n",
       "    <tr>\n",
       "      <th>3</th>\n",
       "      <td>1000_3</td>\n",
       "      <td>2018-06-16</td>\n",
       "      <td>1000</td>\n",
       "    </tr>\n",
       "    <tr>\n",
       "      <th>4</th>\n",
       "      <td>1000_4</td>\n",
       "      <td>2018-12-05</td>\n",
       "      <td>1000</td>\n",
       "    </tr>\n",
       "  </tbody>\n",
       "</table>\n",
       "</div>"
      ],
      "text/plain": [
       "       id message_date  user_id\n",
       "0  1000_0   2018-06-27     1000\n",
       "1  1000_1   2018-10-08     1000\n",
       "2  1000_2   2018-08-04     1000\n",
       "3  1000_3   2018-06-16     1000\n",
       "4  1000_4   2018-12-05     1000"
      ]
     },
     "metadata": {},
     "output_type": "display_data"
    },
    {
     "data": {
      "text/html": [
       "<div>\n",
       "<style scoped>\n",
       "    .dataframe tbody tr th:only-of-type {\n",
       "        vertical-align: middle;\n",
       "    }\n",
       "\n",
       "    .dataframe tbody tr th {\n",
       "        vertical-align: top;\n",
       "    }\n",
       "\n",
       "    .dataframe thead th {\n",
       "        text-align: right;\n",
       "    }\n",
       "</style>\n",
       "<table border=\"1\" class=\"dataframe\">\n",
       "  <thead>\n",
       "    <tr style=\"text-align: right;\">\n",
       "      <th></th>\n",
       "      <th>count</th>\n",
       "      <th>mean</th>\n",
       "      <th>std</th>\n",
       "      <th>min</th>\n",
       "      <th>25%</th>\n",
       "      <th>50%</th>\n",
       "      <th>75%</th>\n",
       "      <th>max</th>\n",
       "    </tr>\n",
       "  </thead>\n",
       "  <tbody>\n",
       "    <tr>\n",
       "      <th>user_id</th>\n",
       "      <td>123036.0</td>\n",
       "      <td>1256.98941</td>\n",
       "      <td>143.523967</td>\n",
       "      <td>1000.0</td>\n",
       "      <td>1134.0</td>\n",
       "      <td>1271.0</td>\n",
       "      <td>1381.0</td>\n",
       "      <td>1499.0</td>\n",
       "    </tr>\n",
       "  </tbody>\n",
       "</table>\n",
       "</div>"
      ],
      "text/plain": [
       "            count        mean         std     min     25%     50%     75%  \\\n",
       "user_id  123036.0  1256.98941  143.523967  1000.0  1134.0  1271.0  1381.0   \n",
       "\n",
       "            max  \n",
       "user_id  1499.0  "
      ]
     },
     "execution_count": 5,
     "metadata": {},
     "output_type": "execute_result"
    }
   ],
   "source": [
    "messages.info()\n",
    "display(messages.head())\n",
    "messages.describe().T\n",
    "#messages.duplicated().sum()"
   ]
  },
  {
   "cell_type": "markdown",
   "metadata": {},
   "source": [
    "Датасет ***messages*** содержит 3 столбцов и 123036 строк\n",
    "<br>Пропущеных значений не обнаружили\n",
    "<br>Явных дубликатов не обноружили\n",
    "<br>Максимальные и минимальные значения, а также визуальное представление датасета не указывают на ошибки в данных\n",
    "<br>Не подходящий тип данных в столбцах \"указан(корректный)\":\n",
    "- message_date - object(datetime)"
   ]
  },
  {
   "cell_type": "markdown",
   "metadata": {},
   "source": [
    "### tariffs"
   ]
  },
  {
   "cell_type": "code",
   "execution_count": 6,
   "metadata": {
    "scrolled": true
   },
   "outputs": [
    {
     "name": "stdout",
     "output_type": "stream",
     "text": [
      "<class 'pandas.core.frame.DataFrame'>\n",
      "RangeIndex: 2 entries, 0 to 1\n",
      "Data columns (total 8 columns):\n",
      " #   Column                 Non-Null Count  Dtype \n",
      "---  ------                 --------------  ----- \n",
      " 0   messages_included      2 non-null      int64 \n",
      " 1   mb_per_month_included  2 non-null      int64 \n",
      " 2   minutes_included       2 non-null      int64 \n",
      " 3   rub_monthly_fee        2 non-null      int64 \n",
      " 4   rub_per_gb             2 non-null      int64 \n",
      " 5   rub_per_message        2 non-null      int64 \n",
      " 6   rub_per_minute         2 non-null      int64 \n",
      " 7   tariff_name            2 non-null      object\n",
      "dtypes: int64(7), object(1)\n",
      "memory usage: 256.0+ bytes\n"
     ]
    },
    {
     "data": {
      "text/html": [
       "<div>\n",
       "<style scoped>\n",
       "    .dataframe tbody tr th:only-of-type {\n",
       "        vertical-align: middle;\n",
       "    }\n",
       "\n",
       "    .dataframe tbody tr th {\n",
       "        vertical-align: top;\n",
       "    }\n",
       "\n",
       "    .dataframe thead th {\n",
       "        text-align: right;\n",
       "    }\n",
       "</style>\n",
       "<table border=\"1\" class=\"dataframe\">\n",
       "  <thead>\n",
       "    <tr style=\"text-align: right;\">\n",
       "      <th></th>\n",
       "      <th>messages_included</th>\n",
       "      <th>mb_per_month_included</th>\n",
       "      <th>minutes_included</th>\n",
       "      <th>rub_monthly_fee</th>\n",
       "      <th>rub_per_gb</th>\n",
       "      <th>rub_per_message</th>\n",
       "      <th>rub_per_minute</th>\n",
       "      <th>tariff_name</th>\n",
       "    </tr>\n",
       "  </thead>\n",
       "  <tbody>\n",
       "    <tr>\n",
       "      <th>0</th>\n",
       "      <td>50</td>\n",
       "      <td>15360</td>\n",
       "      <td>500</td>\n",
       "      <td>550</td>\n",
       "      <td>200</td>\n",
       "      <td>3</td>\n",
       "      <td>3</td>\n",
       "      <td>smart</td>\n",
       "    </tr>\n",
       "    <tr>\n",
       "      <th>1</th>\n",
       "      <td>1000</td>\n",
       "      <td>30720</td>\n",
       "      <td>3000</td>\n",
       "      <td>1950</td>\n",
       "      <td>150</td>\n",
       "      <td>1</td>\n",
       "      <td>1</td>\n",
       "      <td>ultra</td>\n",
       "    </tr>\n",
       "  </tbody>\n",
       "</table>\n",
       "</div>"
      ],
      "text/plain": [
       "   messages_included  mb_per_month_included  minutes_included  \\\n",
       "0                 50                  15360               500   \n",
       "1               1000                  30720              3000   \n",
       "\n",
       "   rub_monthly_fee  rub_per_gb  rub_per_message  rub_per_minute tariff_name  \n",
       "0              550         200                3               3       smart  \n",
       "1             1950         150                1               1       ultra  "
      ]
     },
     "metadata": {},
     "output_type": "display_data"
    },
    {
     "data": {
      "text/html": [
       "<div>\n",
       "<style scoped>\n",
       "    .dataframe tbody tr th:only-of-type {\n",
       "        vertical-align: middle;\n",
       "    }\n",
       "\n",
       "    .dataframe tbody tr th {\n",
       "        vertical-align: top;\n",
       "    }\n",
       "\n",
       "    .dataframe thead th {\n",
       "        text-align: right;\n",
       "    }\n",
       "</style>\n",
       "<table border=\"1\" class=\"dataframe\">\n",
       "  <thead>\n",
       "    <tr style=\"text-align: right;\">\n",
       "      <th></th>\n",
       "      <th>count</th>\n",
       "      <th>mean</th>\n",
       "      <th>std</th>\n",
       "      <th>min</th>\n",
       "      <th>25%</th>\n",
       "      <th>50%</th>\n",
       "      <th>75%</th>\n",
       "      <th>max</th>\n",
       "    </tr>\n",
       "  </thead>\n",
       "  <tbody>\n",
       "    <tr>\n",
       "      <th>messages_included</th>\n",
       "      <td>2.0</td>\n",
       "      <td>525.0</td>\n",
       "      <td>671.751442</td>\n",
       "      <td>50.0</td>\n",
       "      <td>287.5</td>\n",
       "      <td>525.0</td>\n",
       "      <td>762.5</td>\n",
       "      <td>1000.0</td>\n",
       "    </tr>\n",
       "    <tr>\n",
       "      <th>mb_per_month_included</th>\n",
       "      <td>2.0</td>\n",
       "      <td>23040.0</td>\n",
       "      <td>10861.160159</td>\n",
       "      <td>15360.0</td>\n",
       "      <td>19200.0</td>\n",
       "      <td>23040.0</td>\n",
       "      <td>26880.0</td>\n",
       "      <td>30720.0</td>\n",
       "    </tr>\n",
       "    <tr>\n",
       "      <th>minutes_included</th>\n",
       "      <td>2.0</td>\n",
       "      <td>1750.0</td>\n",
       "      <td>1767.766953</td>\n",
       "      <td>500.0</td>\n",
       "      <td>1125.0</td>\n",
       "      <td>1750.0</td>\n",
       "      <td>2375.0</td>\n",
       "      <td>3000.0</td>\n",
       "    </tr>\n",
       "    <tr>\n",
       "      <th>rub_monthly_fee</th>\n",
       "      <td>2.0</td>\n",
       "      <td>1250.0</td>\n",
       "      <td>989.949494</td>\n",
       "      <td>550.0</td>\n",
       "      <td>900.0</td>\n",
       "      <td>1250.0</td>\n",
       "      <td>1600.0</td>\n",
       "      <td>1950.0</td>\n",
       "    </tr>\n",
       "    <tr>\n",
       "      <th>rub_per_gb</th>\n",
       "      <td>2.0</td>\n",
       "      <td>175.0</td>\n",
       "      <td>35.355339</td>\n",
       "      <td>150.0</td>\n",
       "      <td>162.5</td>\n",
       "      <td>175.0</td>\n",
       "      <td>187.5</td>\n",
       "      <td>200.0</td>\n",
       "    </tr>\n",
       "    <tr>\n",
       "      <th>rub_per_message</th>\n",
       "      <td>2.0</td>\n",
       "      <td>2.0</td>\n",
       "      <td>1.414214</td>\n",
       "      <td>1.0</td>\n",
       "      <td>1.5</td>\n",
       "      <td>2.0</td>\n",
       "      <td>2.5</td>\n",
       "      <td>3.0</td>\n",
       "    </tr>\n",
       "    <tr>\n",
       "      <th>rub_per_minute</th>\n",
       "      <td>2.0</td>\n",
       "      <td>2.0</td>\n",
       "      <td>1.414214</td>\n",
       "      <td>1.0</td>\n",
       "      <td>1.5</td>\n",
       "      <td>2.0</td>\n",
       "      <td>2.5</td>\n",
       "      <td>3.0</td>\n",
       "    </tr>\n",
       "  </tbody>\n",
       "</table>\n",
       "</div>"
      ],
      "text/plain": [
       "                       count     mean           std      min      25%  \\\n",
       "messages_included        2.0    525.0    671.751442     50.0    287.5   \n",
       "mb_per_month_included    2.0  23040.0  10861.160159  15360.0  19200.0   \n",
       "minutes_included         2.0   1750.0   1767.766953    500.0   1125.0   \n",
       "rub_monthly_fee          2.0   1250.0    989.949494    550.0    900.0   \n",
       "rub_per_gb               2.0    175.0     35.355339    150.0    162.5   \n",
       "rub_per_message          2.0      2.0      1.414214      1.0      1.5   \n",
       "rub_per_minute           2.0      2.0      1.414214      1.0      1.5   \n",
       "\n",
       "                           50%      75%      max  \n",
       "messages_included        525.0    762.5   1000.0  \n",
       "mb_per_month_included  23040.0  26880.0  30720.0  \n",
       "minutes_included        1750.0   2375.0   3000.0  \n",
       "rub_monthly_fee         1250.0   1600.0   1950.0  \n",
       "rub_per_gb               175.0    187.5    200.0  \n",
       "rub_per_message            2.0      2.5      3.0  \n",
       "rub_per_minute             2.0      2.5      3.0  "
      ]
     },
     "execution_count": 6,
     "metadata": {},
     "output_type": "execute_result"
    }
   ],
   "source": [
    "tariffs.info()\n",
    "display(tariffs.head())\n",
    "tariffs.describe().T"
   ]
  },
  {
   "cell_type": "markdown",
   "metadata": {},
   "source": [
    "Датасет ***tariffs*** содержит 8 столбцов и 2 строки\n",
    "<br>Пропущеных значений не обнаружили\n",
    "<br>Явных дубликатов не обноружили\n",
    "<br>Визуальное представление датасета не указывают на ошибки в данных\n",
    "<br>Тип данных в столбцах корректный"
   ]
  },
  {
   "cell_type": "markdown",
   "metadata": {},
   "source": [
    "### users"
   ]
  },
  {
   "cell_type": "code",
   "execution_count": 7,
   "metadata": {
    "scrolled": true
   },
   "outputs": [
    {
     "name": "stdout",
     "output_type": "stream",
     "text": [
      "<class 'pandas.core.frame.DataFrame'>\n",
      "RangeIndex: 500 entries, 0 to 499\n",
      "Data columns (total 8 columns):\n",
      " #   Column      Non-Null Count  Dtype \n",
      "---  ------      --------------  ----- \n",
      " 0   user_id     500 non-null    int64 \n",
      " 1   age         500 non-null    int64 \n",
      " 2   churn_date  38 non-null     object\n",
      " 3   city        500 non-null    object\n",
      " 4   first_name  500 non-null    object\n",
      " 5   last_name   500 non-null    object\n",
      " 6   reg_date    500 non-null    object\n",
      " 7   tariff      500 non-null    object\n",
      "dtypes: int64(2), object(6)\n",
      "memory usage: 31.4+ KB\n"
     ]
    },
    {
     "data": {
      "text/html": [
       "<div>\n",
       "<style scoped>\n",
       "    .dataframe tbody tr th:only-of-type {\n",
       "        vertical-align: middle;\n",
       "    }\n",
       "\n",
       "    .dataframe tbody tr th {\n",
       "        vertical-align: top;\n",
       "    }\n",
       "\n",
       "    .dataframe thead th {\n",
       "        text-align: right;\n",
       "    }\n",
       "</style>\n",
       "<table border=\"1\" class=\"dataframe\">\n",
       "  <thead>\n",
       "    <tr style=\"text-align: right;\">\n",
       "      <th></th>\n",
       "      <th>user_id</th>\n",
       "      <th>age</th>\n",
       "      <th>churn_date</th>\n",
       "      <th>city</th>\n",
       "      <th>first_name</th>\n",
       "      <th>last_name</th>\n",
       "      <th>reg_date</th>\n",
       "      <th>tariff</th>\n",
       "    </tr>\n",
       "  </thead>\n",
       "  <tbody>\n",
       "    <tr>\n",
       "      <th>0</th>\n",
       "      <td>1000</td>\n",
       "      <td>52</td>\n",
       "      <td>NaN</td>\n",
       "      <td>Краснодар</td>\n",
       "      <td>Рафаил</td>\n",
       "      <td>Верещагин</td>\n",
       "      <td>2018-05-25</td>\n",
       "      <td>ultra</td>\n",
       "    </tr>\n",
       "    <tr>\n",
       "      <th>1</th>\n",
       "      <td>1001</td>\n",
       "      <td>41</td>\n",
       "      <td>NaN</td>\n",
       "      <td>Москва</td>\n",
       "      <td>Иван</td>\n",
       "      <td>Ежов</td>\n",
       "      <td>2018-11-01</td>\n",
       "      <td>smart</td>\n",
       "    </tr>\n",
       "    <tr>\n",
       "      <th>2</th>\n",
       "      <td>1002</td>\n",
       "      <td>59</td>\n",
       "      <td>NaN</td>\n",
       "      <td>Стерлитамак</td>\n",
       "      <td>Евгений</td>\n",
       "      <td>Абрамович</td>\n",
       "      <td>2018-06-17</td>\n",
       "      <td>smart</td>\n",
       "    </tr>\n",
       "    <tr>\n",
       "      <th>3</th>\n",
       "      <td>1003</td>\n",
       "      <td>23</td>\n",
       "      <td>NaN</td>\n",
       "      <td>Москва</td>\n",
       "      <td>Белла</td>\n",
       "      <td>Белякова</td>\n",
       "      <td>2018-08-17</td>\n",
       "      <td>ultra</td>\n",
       "    </tr>\n",
       "    <tr>\n",
       "      <th>4</th>\n",
       "      <td>1004</td>\n",
       "      <td>68</td>\n",
       "      <td>NaN</td>\n",
       "      <td>Новокузнецк</td>\n",
       "      <td>Татьяна</td>\n",
       "      <td>Авдеенко</td>\n",
       "      <td>2018-05-14</td>\n",
       "      <td>ultra</td>\n",
       "    </tr>\n",
       "  </tbody>\n",
       "</table>\n",
       "</div>"
      ],
      "text/plain": [
       "   user_id  age churn_date         city first_name  last_name    reg_date  \\\n",
       "0     1000   52        NaN    Краснодар     Рафаил  Верещагин  2018-05-25   \n",
       "1     1001   41        NaN       Москва       Иван       Ежов  2018-11-01   \n",
       "2     1002   59        NaN  Стерлитамак    Евгений  Абрамович  2018-06-17   \n",
       "3     1003   23        NaN       Москва      Белла   Белякова  2018-08-17   \n",
       "4     1004   68        NaN  Новокузнецк    Татьяна   Авдеенко  2018-05-14   \n",
       "\n",
       "  tariff  \n",
       "0  ultra  \n",
       "1  smart  \n",
       "2  smart  \n",
       "3  ultra  \n",
       "4  ultra  "
      ]
     },
     "metadata": {},
     "output_type": "display_data"
    },
    {
     "data": {
      "text/html": [
       "<div>\n",
       "<style scoped>\n",
       "    .dataframe tbody tr th:only-of-type {\n",
       "        vertical-align: middle;\n",
       "    }\n",
       "\n",
       "    .dataframe tbody tr th {\n",
       "        vertical-align: top;\n",
       "    }\n",
       "\n",
       "    .dataframe thead th {\n",
       "        text-align: right;\n",
       "    }\n",
       "</style>\n",
       "<table border=\"1\" class=\"dataframe\">\n",
       "  <thead>\n",
       "    <tr style=\"text-align: right;\">\n",
       "      <th></th>\n",
       "      <th>count</th>\n",
       "      <th>mean</th>\n",
       "      <th>std</th>\n",
       "      <th>min</th>\n",
       "      <th>25%</th>\n",
       "      <th>50%</th>\n",
       "      <th>75%</th>\n",
       "      <th>max</th>\n",
       "    </tr>\n",
       "  </thead>\n",
       "  <tbody>\n",
       "    <tr>\n",
       "      <th>user_id</th>\n",
       "      <td>500.0</td>\n",
       "      <td>1249.500</td>\n",
       "      <td>144.481833</td>\n",
       "      <td>1000.0</td>\n",
       "      <td>1124.75</td>\n",
       "      <td>1249.5</td>\n",
       "      <td>1374.25</td>\n",
       "      <td>1499.0</td>\n",
       "    </tr>\n",
       "    <tr>\n",
       "      <th>age</th>\n",
       "      <td>500.0</td>\n",
       "      <td>46.588</td>\n",
       "      <td>16.667630</td>\n",
       "      <td>18.0</td>\n",
       "      <td>32.00</td>\n",
       "      <td>46.0</td>\n",
       "      <td>62.00</td>\n",
       "      <td>75.0</td>\n",
       "    </tr>\n",
       "  </tbody>\n",
       "</table>\n",
       "</div>"
      ],
      "text/plain": [
       "         count      mean         std     min      25%     50%      75%     max\n",
       "user_id  500.0  1249.500  144.481833  1000.0  1124.75  1249.5  1374.25  1499.0\n",
       "age      500.0    46.588   16.667630    18.0    32.00    46.0    62.00    75.0"
      ]
     },
     "execution_count": 7,
     "metadata": {},
     "output_type": "execute_result"
    }
   ],
   "source": [
    "users.info()\n",
    "display(users.head())\n",
    "users.describe().T\n",
    "#users.duplicated().sum()"
   ]
  },
  {
   "cell_type": "markdown",
   "metadata": {},
   "source": [
    "Датасет ***users*** содержит 8 столбцов и 500 строк\n",
    "<br>Столбец churn_date содержит NaN значения, но это означает что пользователь действующий. \n",
    "<br>Явных дубликатов не обноружили\n",
    "<br>Максимальные и минимальные значения, а также визуальное представление датасета не указывают на ошибки в данных\n",
    "<br>Не подходящий тип данных в столбцах \"указан(корректный)\":\n",
    "- churn_date - object(datetime)\n",
    "- reg_date - object(datetime)"
   ]
  },
  {
   "cell_type": "markdown",
   "metadata": {},
   "source": [
    "### Вывод"
   ]
  },
  {
   "cell_type": "markdown",
   "metadata": {},
   "source": [
    "Мы импортировали библиотеки котрые нам потребуются в проекте.\n",
    "<br>Открыли файлы с данными и сохранили их содержимое в переменных\n",
    "\n",
    "1. Датасет ***calls*** содержит 4 столбца и 202607 строк\n",
    "<br>Пропущеных значений не обнаружили\n",
    "<br>Явных дубликатов не обноружили\n",
    "<br>Максимальные и минимальные значения, а также визуальное представление датасета не указывают на ошибки в данных\n",
    "<br>Не подходящий тип данных в столбцах \"указан(корректный)\":\n",
    "- call_date - object(datetime)\n",
    "\n",
    "2. Датасет ***internet*** содержит 5 столбцов и 149396 строк\n",
    "<br>Пропущеных значений не обнаружили\n",
    "<br>Явных дубликатов не обноружили\n",
    "<br>Столбец 'Unnamed: 0' дублирует индекс, не содержит полезной информации и может быть удален\n",
    "<br>Максимальные и минимальные значения, а также визуальное представление датасета не указывают на ошибки в данных\n",
    "<br>Не подходящий тип данных в столбцах \"указан(корректный)\":\n",
    "- session_date - object(datetime)\n",
    "\n",
    "3. Датасет ***messages*** содержит 3 столбцов и 123036 строк\n",
    "<br>Пропущеных значений не обнаружили\n",
    "<br>Явных дубликатов не обноружили\n",
    "<br>Максимальные и минимальные значения, а также визуальное представление датасета не указывают на ошибки в данных\n",
    "<br>Не подходящий тип данных в столбцах \"указан(корректный)\":\n",
    "- message_date - object(datetime)\n",
    "\n",
    "4. Датасет ***tariffs*** содержит 8 столбцов и 2 строки\n",
    "<br>Пропущеных значений не обнаружили\n",
    "<br>Явных дубликатов не обноружили\n",
    "<br>Визуальное представление датасета не указывают на ошибки в данных\n",
    "<br>Тип данных в столбцах корректный\n",
    "\n",
    "5. Датасет ***users*** содержит 8 столбцов и 500 строк\n",
    "<br>Столбец churn_date содержит NaN значения, но это означает что пользователь действующий. \n",
    "<br>Явных дубликатов не обноружили\n",
    "<br>Максимальные и минимальные значения, а также визуальное представление датасета не указывают на ошибки в данных\n",
    "<br>Не подходящий тип данных в столбцах \"указан(корректный)\":\n",
    "- churn_date - object(datetime)\n",
    "- reg_date - object(datetime)"
   ]
  },
  {
   "cell_type": "markdown",
   "metadata": {},
   "source": [
    "## Подготовка данных"
   ]
  },
  {
   "cell_type": "markdown",
   "metadata": {},
   "source": [
    "### Приведем данные к нужным типам и исправим ошибки в данных"
   ]
  },
  {
   "cell_type": "code",
   "execution_count": 8,
   "metadata": {
    "scrolled": true
   },
   "outputs": [],
   "source": [
    "#calls\n",
    "calls['duration'] = calls['duration'].apply(np.ceil) #округлим значения до целых значений как это делают операторы\n",
    "calls['call_date'] = pd.to_datetime(calls['call_date'], format='%Y-%m-%d') # Приведем тип данных к datetime\n",
    "calls['month'] = calls['call_date'].dt.month # создадим столбец с месяцем события для дальнейших расчетов\n",
    "\n",
    "#internet\n",
    "#internet['mb_used'] = internet['mb_used'].apply(np.ceil) #округлим значения до целых значений как это делают операторы\n",
    "internet['session_date'] = pd.to_datetime(internet['session_date'], format='%Y-%m-%d') # Приведем тип данных к datetime\n",
    "internet['month'] = internet['session_date'].dt.month# создадим столбец с месяцем события для дальнейших расчетов\n",
    "# Удалим столбец 'Unnamed: 0' дублирует индексы и не содержащий полезной информации\n",
    "internet = internet[['id', 'mb_used', 'session_date', 'user_id', 'month']]\n",
    "\n",
    "#messages\n",
    "messages['message_date'] = pd.to_datetime(messages['message_date'], format='%Y-%m-%d') #округлим значения до целых значений как это делают операторы\n",
    "messages['month'] = messages['message_date'].dt.month # создадим столбец с месяцем события для дальнейших расчетов\n",
    "\n",
    "#users\n",
    "users['reg_date'] = pd.to_datetime(users['reg_date'], format='%Y-%m-%d') # Приведем тип данных к datetime\n",
    "users['churn_date'] = pd.to_datetime(users['churn_date'], format='%Y-%m-%d')# Приведем тип данных к datetime\n",
    "\n",
    "#calls.info()\n",
    "#calls.head()"
   ]
  },
  {
   "cell_type": "markdown",
   "metadata": {},
   "source": [
    "### Подготовим данные анализу"
   ]
  },
  {
   "cell_type": "markdown",
   "metadata": {},
   "source": [
    "***Посчитаем для каждого пользователя:***\n",
    "- количество сделанных звонков и израсходованных минут разговора по месяцам;\n",
    "- количество отправленных сообщений по месяцам;\n",
    "- объем израсходованного интернет-трафика по месяцам;"
   ]
  },
  {
   "cell_type": "code",
   "execution_count": 9,
   "metadata": {
    "scrolled": true
   },
   "outputs": [],
   "source": [
    "calls_by_users = calls.pivot_table(index=['user_id', 'month'], values='duration', aggfunc='count')\n",
    "duration_by_users = calls.pivot_table(index=['user_id', 'month'], values='duration', aggfunc='sum')\n",
    "internet_by_users = internet.pivot_table(index=['user_id', 'month'], values='mb_used', aggfunc='sum')\n",
    "messages_by_users = messages.pivot_table(index=['user_id', 'month'], values='message_date', aggfunc='count')\n"
   ]
  },
  {
   "cell_type": "markdown",
   "metadata": {},
   "source": [
    "***Для удобства дальнейшей работы объединим данные в один датафрейм***"
   ]
  },
  {
   "cell_type": "code",
   "execution_count": 11,
   "metadata": {},
   "outputs": [],
   "source": [
    "stat_by_users = calls_by_users.merge(duration_by_users, on=['user_id', 'month'], how = 'outer')\n",
    "stat_by_users = stat_by_users.merge(internet_by_users, on=['user_id', 'month'], how = 'outer')\n",
    "stat_by_users = stat_by_users.merge(messages_by_users, on=['user_id', 'month'], how = 'outer')\n",
    "data = (stat_by_users\n",
    "        .reset_index()\n",
    "        .merge(users[['city', 'user_id', 'tariff']], on='user_id', how='outer')\n",
    "        .merge(tariffs, left_on = 'tariff', right_on = 'tariff_name', how = 'left'))\n",
    "# для дальнейших рассчетов добавим столбец для данных о выручке, израсходованным и включенным в тариф трафиком в гигабайтах\n",
    "stat_by_users['revenue'] = None \n",
    "data['gb_used'] = (data['mb_used'] / 1024).apply(np.ceil) \n",
    "data['gb_included'] = (data['mb_per_month_included'] / 1024).apply(np.ceil)\n",
    "\n",
    "# для удобаства работы переименуем названия столбцов в соответствии с их содежанием\n",
    "data.rename(columns = {'message_date' : 'messages', 'duration_x' : 'calls', 'duration_y' : 'duration'}, inplace = True)\n",
    "data['messages'] = data['messages'].fillna(0)\n",
    "data['duration'] = data['duration'].fillna(0)\n",
    "data['mb_used'] = data['mb_used'].fillna(0)\n",
    "data['gb_used'] = data['gb_used'].fillna(0)"
   ]
  },
  {
   "cell_type": "markdown",
   "metadata": {},
   "source": [
    "***Посчитаем помесячную выручку с каждого пользователя***"
   ]
  },
  {
   "cell_type": "code",
   "execution_count": 12,
   "metadata": {
    "scrolled": true
   },
   "outputs": [
    {
     "data": {
      "text/html": [
       "<div>\n",
       "<style scoped>\n",
       "    .dataframe tbody tr th:only-of-type {\n",
       "        vertical-align: middle;\n",
       "    }\n",
       "\n",
       "    .dataframe tbody tr th {\n",
       "        vertical-align: top;\n",
       "    }\n",
       "\n",
       "    .dataframe thead th {\n",
       "        text-align: right;\n",
       "    }\n",
       "</style>\n",
       "<table border=\"1\" class=\"dataframe\">\n",
       "  <thead>\n",
       "    <tr style=\"text-align: right;\">\n",
       "      <th></th>\n",
       "      <th>user_id</th>\n",
       "      <th>month</th>\n",
       "      <th>calls</th>\n",
       "      <th>duration</th>\n",
       "      <th>mb_used</th>\n",
       "      <th>messages</th>\n",
       "      <th>city</th>\n",
       "      <th>tariff</th>\n",
       "      <th>messages_included</th>\n",
       "      <th>mb_per_month_included</th>\n",
       "      <th>minutes_included</th>\n",
       "      <th>rub_monthly_fee</th>\n",
       "      <th>rub_per_gb</th>\n",
       "      <th>rub_per_message</th>\n",
       "      <th>rub_per_minute</th>\n",
       "      <th>tariff_name</th>\n",
       "      <th>gb_used</th>\n",
       "      <th>gb_included</th>\n",
       "      <th>revenue</th>\n",
       "    </tr>\n",
       "  </thead>\n",
       "  <tbody>\n",
       "    <tr>\n",
       "      <th>0</th>\n",
       "      <td>1000</td>\n",
       "      <td>5.0</td>\n",
       "      <td>22.0</td>\n",
       "      <td>159.0</td>\n",
       "      <td>2253.49</td>\n",
       "      <td>22.0</td>\n",
       "      <td>Краснодар</td>\n",
       "      <td>ultra</td>\n",
       "      <td>1000</td>\n",
       "      <td>30720</td>\n",
       "      <td>3000</td>\n",
       "      <td>1950</td>\n",
       "      <td>150</td>\n",
       "      <td>1</td>\n",
       "      <td>1</td>\n",
       "      <td>ultra</td>\n",
       "      <td>3.0</td>\n",
       "      <td>30.0</td>\n",
       "      <td>1950.0</td>\n",
       "    </tr>\n",
       "    <tr>\n",
       "      <th>1</th>\n",
       "      <td>1000</td>\n",
       "      <td>6.0</td>\n",
       "      <td>43.0</td>\n",
       "      <td>172.0</td>\n",
       "      <td>23233.77</td>\n",
       "      <td>60.0</td>\n",
       "      <td>Краснодар</td>\n",
       "      <td>ultra</td>\n",
       "      <td>1000</td>\n",
       "      <td>30720</td>\n",
       "      <td>3000</td>\n",
       "      <td>1950</td>\n",
       "      <td>150</td>\n",
       "      <td>1</td>\n",
       "      <td>1</td>\n",
       "      <td>ultra</td>\n",
       "      <td>23.0</td>\n",
       "      <td>30.0</td>\n",
       "      <td>1950.0</td>\n",
       "    </tr>\n",
       "    <tr>\n",
       "      <th>2</th>\n",
       "      <td>1000</td>\n",
       "      <td>7.0</td>\n",
       "      <td>47.0</td>\n",
       "      <td>340.0</td>\n",
       "      <td>14003.64</td>\n",
       "      <td>75.0</td>\n",
       "      <td>Краснодар</td>\n",
       "      <td>ultra</td>\n",
       "      <td>1000</td>\n",
       "      <td>30720</td>\n",
       "      <td>3000</td>\n",
       "      <td>1950</td>\n",
       "      <td>150</td>\n",
       "      <td>1</td>\n",
       "      <td>1</td>\n",
       "      <td>ultra</td>\n",
       "      <td>14.0</td>\n",
       "      <td>30.0</td>\n",
       "      <td>1950.0</td>\n",
       "    </tr>\n",
       "    <tr>\n",
       "      <th>3</th>\n",
       "      <td>1000</td>\n",
       "      <td>8.0</td>\n",
       "      <td>52.0</td>\n",
       "      <td>408.0</td>\n",
       "      <td>14055.93</td>\n",
       "      <td>81.0</td>\n",
       "      <td>Краснодар</td>\n",
       "      <td>ultra</td>\n",
       "      <td>1000</td>\n",
       "      <td>30720</td>\n",
       "      <td>3000</td>\n",
       "      <td>1950</td>\n",
       "      <td>150</td>\n",
       "      <td>1</td>\n",
       "      <td>1</td>\n",
       "      <td>ultra</td>\n",
       "      <td>14.0</td>\n",
       "      <td>30.0</td>\n",
       "      <td>1950.0</td>\n",
       "    </tr>\n",
       "    <tr>\n",
       "      <th>4</th>\n",
       "      <td>1000</td>\n",
       "      <td>9.0</td>\n",
       "      <td>58.0</td>\n",
       "      <td>466.0</td>\n",
       "      <td>14568.91</td>\n",
       "      <td>57.0</td>\n",
       "      <td>Краснодар</td>\n",
       "      <td>ultra</td>\n",
       "      <td>1000</td>\n",
       "      <td>30720</td>\n",
       "      <td>3000</td>\n",
       "      <td>1950</td>\n",
       "      <td>150</td>\n",
       "      <td>1</td>\n",
       "      <td>1</td>\n",
       "      <td>ultra</td>\n",
       "      <td>15.0</td>\n",
       "      <td>30.0</td>\n",
       "      <td>1950.0</td>\n",
       "    </tr>\n",
       "    <tr>\n",
       "      <th>5</th>\n",
       "      <td>1000</td>\n",
       "      <td>10.0</td>\n",
       "      <td>57.0</td>\n",
       "      <td>350.0</td>\n",
       "      <td>14702.49</td>\n",
       "      <td>73.0</td>\n",
       "      <td>Краснодар</td>\n",
       "      <td>ultra</td>\n",
       "      <td>1000</td>\n",
       "      <td>30720</td>\n",
       "      <td>3000</td>\n",
       "      <td>1950</td>\n",
       "      <td>150</td>\n",
       "      <td>1</td>\n",
       "      <td>1</td>\n",
       "      <td>ultra</td>\n",
       "      <td>15.0</td>\n",
       "      <td>30.0</td>\n",
       "      <td>1950.0</td>\n",
       "    </tr>\n",
       "    <tr>\n",
       "      <th>6</th>\n",
       "      <td>1000</td>\n",
       "      <td>11.0</td>\n",
       "      <td>43.0</td>\n",
       "      <td>338.0</td>\n",
       "      <td>14756.47</td>\n",
       "      <td>58.0</td>\n",
       "      <td>Краснодар</td>\n",
       "      <td>ultra</td>\n",
       "      <td>1000</td>\n",
       "      <td>30720</td>\n",
       "      <td>3000</td>\n",
       "      <td>1950</td>\n",
       "      <td>150</td>\n",
       "      <td>1</td>\n",
       "      <td>1</td>\n",
       "      <td>ultra</td>\n",
       "      <td>15.0</td>\n",
       "      <td>30.0</td>\n",
       "      <td>1950.0</td>\n",
       "    </tr>\n",
       "    <tr>\n",
       "      <th>7</th>\n",
       "      <td>1000</td>\n",
       "      <td>12.0</td>\n",
       "      <td>46.0</td>\n",
       "      <td>333.0</td>\n",
       "      <td>9817.61</td>\n",
       "      <td>70.0</td>\n",
       "      <td>Краснодар</td>\n",
       "      <td>ultra</td>\n",
       "      <td>1000</td>\n",
       "      <td>30720</td>\n",
       "      <td>3000</td>\n",
       "      <td>1950</td>\n",
       "      <td>150</td>\n",
       "      <td>1</td>\n",
       "      <td>1</td>\n",
       "      <td>ultra</td>\n",
       "      <td>10.0</td>\n",
       "      <td>30.0</td>\n",
       "      <td>1950.0</td>\n",
       "    </tr>\n",
       "    <tr>\n",
       "      <th>8</th>\n",
       "      <td>1001</td>\n",
       "      <td>11.0</td>\n",
       "      <td>59.0</td>\n",
       "      <td>430.0</td>\n",
       "      <td>18429.34</td>\n",
       "      <td>0.0</td>\n",
       "      <td>Москва</td>\n",
       "      <td>smart</td>\n",
       "      <td>50</td>\n",
       "      <td>15360</td>\n",
       "      <td>500</td>\n",
       "      <td>550</td>\n",
       "      <td>200</td>\n",
       "      <td>3</td>\n",
       "      <td>3</td>\n",
       "      <td>smart</td>\n",
       "      <td>18.0</td>\n",
       "      <td>15.0</td>\n",
       "      <td>1150.0</td>\n",
       "    </tr>\n",
       "    <tr>\n",
       "      <th>9</th>\n",
       "      <td>1001</td>\n",
       "      <td>12.0</td>\n",
       "      <td>63.0</td>\n",
       "      <td>414.0</td>\n",
       "      <td>14036.66</td>\n",
       "      <td>0.0</td>\n",
       "      <td>Москва</td>\n",
       "      <td>smart</td>\n",
       "      <td>50</td>\n",
       "      <td>15360</td>\n",
       "      <td>500</td>\n",
       "      <td>550</td>\n",
       "      <td>200</td>\n",
       "      <td>3</td>\n",
       "      <td>3</td>\n",
       "      <td>smart</td>\n",
       "      <td>14.0</td>\n",
       "      <td>15.0</td>\n",
       "      <td>550.0</td>\n",
       "    </tr>\n",
       "    <tr>\n",
       "      <th>10</th>\n",
       "      <td>1002</td>\n",
       "      <td>6.0</td>\n",
       "      <td>15.0</td>\n",
       "      <td>117.0</td>\n",
       "      <td>10856.82</td>\n",
       "      <td>4.0</td>\n",
       "      <td>Стерлитамак</td>\n",
       "      <td>smart</td>\n",
       "      <td>50</td>\n",
       "      <td>15360</td>\n",
       "      <td>500</td>\n",
       "      <td>550</td>\n",
       "      <td>200</td>\n",
       "      <td>3</td>\n",
       "      <td>3</td>\n",
       "      <td>smart</td>\n",
       "      <td>11.0</td>\n",
       "      <td>15.0</td>\n",
       "      <td>550.0</td>\n",
       "    </tr>\n",
       "    <tr>\n",
       "      <th>11</th>\n",
       "      <td>1002</td>\n",
       "      <td>7.0</td>\n",
       "      <td>26.0</td>\n",
       "      <td>214.0</td>\n",
       "      <td>17580.10</td>\n",
       "      <td>11.0</td>\n",
       "      <td>Стерлитамак</td>\n",
       "      <td>smart</td>\n",
       "      <td>50</td>\n",
       "      <td>15360</td>\n",
       "      <td>500</td>\n",
       "      <td>550</td>\n",
       "      <td>200</td>\n",
       "      <td>3</td>\n",
       "      <td>3</td>\n",
       "      <td>smart</td>\n",
       "      <td>18.0</td>\n",
       "      <td>15.0</td>\n",
       "      <td>1150.0</td>\n",
       "    </tr>\n",
       "    <tr>\n",
       "      <th>12</th>\n",
       "      <td>1002</td>\n",
       "      <td>8.0</td>\n",
       "      <td>42.0</td>\n",
       "      <td>289.0</td>\n",
       "      <td>20319.26</td>\n",
       "      <td>13.0</td>\n",
       "      <td>Стерлитамак</td>\n",
       "      <td>smart</td>\n",
       "      <td>50</td>\n",
       "      <td>15360</td>\n",
       "      <td>500</td>\n",
       "      <td>550</td>\n",
       "      <td>200</td>\n",
       "      <td>3</td>\n",
       "      <td>3</td>\n",
       "      <td>smart</td>\n",
       "      <td>20.0</td>\n",
       "      <td>15.0</td>\n",
       "      <td>1550.0</td>\n",
       "    </tr>\n",
       "    <tr>\n",
       "      <th>13</th>\n",
       "      <td>1002</td>\n",
       "      <td>9.0</td>\n",
       "      <td>36.0</td>\n",
       "      <td>206.0</td>\n",
       "      <td>16691.08</td>\n",
       "      <td>4.0</td>\n",
       "      <td>Стерлитамак</td>\n",
       "      <td>smart</td>\n",
       "      <td>50</td>\n",
       "      <td>15360</td>\n",
       "      <td>500</td>\n",
       "      <td>550</td>\n",
       "      <td>200</td>\n",
       "      <td>3</td>\n",
       "      <td>3</td>\n",
       "      <td>smart</td>\n",
       "      <td>17.0</td>\n",
       "      <td>15.0</td>\n",
       "      <td>950.0</td>\n",
       "    </tr>\n",
       "    <tr>\n",
       "      <th>14</th>\n",
       "      <td>1002</td>\n",
       "      <td>10.0</td>\n",
       "      <td>33.0</td>\n",
       "      <td>212.0</td>\n",
       "      <td>13888.25</td>\n",
       "      <td>10.0</td>\n",
       "      <td>Стерлитамак</td>\n",
       "      <td>smart</td>\n",
       "      <td>50</td>\n",
       "      <td>15360</td>\n",
       "      <td>500</td>\n",
       "      <td>550</td>\n",
       "      <td>200</td>\n",
       "      <td>3</td>\n",
       "      <td>3</td>\n",
       "      <td>smart</td>\n",
       "      <td>14.0</td>\n",
       "      <td>15.0</td>\n",
       "      <td>550.0</td>\n",
       "    </tr>\n",
       "    <tr>\n",
       "      <th>15</th>\n",
       "      <td>1002</td>\n",
       "      <td>11.0</td>\n",
       "      <td>32.0</td>\n",
       "      <td>243.0</td>\n",
       "      <td>18587.28</td>\n",
       "      <td>16.0</td>\n",
       "      <td>Стерлитамак</td>\n",
       "      <td>smart</td>\n",
       "      <td>50</td>\n",
       "      <td>15360</td>\n",
       "      <td>500</td>\n",
       "      <td>550</td>\n",
       "      <td>200</td>\n",
       "      <td>3</td>\n",
       "      <td>3</td>\n",
       "      <td>smart</td>\n",
       "      <td>19.0</td>\n",
       "      <td>15.0</td>\n",
       "      <td>1350.0</td>\n",
       "    </tr>\n",
       "    <tr>\n",
       "      <th>16</th>\n",
       "      <td>1002</td>\n",
       "      <td>12.0</td>\n",
       "      <td>33.0</td>\n",
       "      <td>236.0</td>\n",
       "      <td>18113.73</td>\n",
       "      <td>12.0</td>\n",
       "      <td>Стерлитамак</td>\n",
       "      <td>smart</td>\n",
       "      <td>50</td>\n",
       "      <td>15360</td>\n",
       "      <td>500</td>\n",
       "      <td>550</td>\n",
       "      <td>200</td>\n",
       "      <td>3</td>\n",
       "      <td>3</td>\n",
       "      <td>smart</td>\n",
       "      <td>18.0</td>\n",
       "      <td>15.0</td>\n",
       "      <td>1150.0</td>\n",
       "    </tr>\n",
       "    <tr>\n",
       "      <th>17</th>\n",
       "      <td>1003</td>\n",
       "      <td>8.0</td>\n",
       "      <td>55.0</td>\n",
       "      <td>380.0</td>\n",
       "      <td>8565.21</td>\n",
       "      <td>37.0</td>\n",
       "      <td>Москва</td>\n",
       "      <td>ultra</td>\n",
       "      <td>1000</td>\n",
       "      <td>30720</td>\n",
       "      <td>3000</td>\n",
       "      <td>1950</td>\n",
       "      <td>150</td>\n",
       "      <td>1</td>\n",
       "      <td>1</td>\n",
       "      <td>ultra</td>\n",
       "      <td>9.0</td>\n",
       "      <td>30.0</td>\n",
       "      <td>1950.0</td>\n",
       "    </tr>\n",
       "    <tr>\n",
       "      <th>18</th>\n",
       "      <td>1003</td>\n",
       "      <td>9.0</td>\n",
       "      <td>134.0</td>\n",
       "      <td>961.0</td>\n",
       "      <td>12468.87</td>\n",
       "      <td>91.0</td>\n",
       "      <td>Москва</td>\n",
       "      <td>ultra</td>\n",
       "      <td>1000</td>\n",
       "      <td>30720</td>\n",
       "      <td>3000</td>\n",
       "      <td>1950</td>\n",
       "      <td>150</td>\n",
       "      <td>1</td>\n",
       "      <td>1</td>\n",
       "      <td>ultra</td>\n",
       "      <td>13.0</td>\n",
       "      <td>30.0</td>\n",
       "      <td>1950.0</td>\n",
       "    </tr>\n",
       "    <tr>\n",
       "      <th>19</th>\n",
       "      <td>1003</td>\n",
       "      <td>10.0</td>\n",
       "      <td>108.0</td>\n",
       "      <td>855.0</td>\n",
       "      <td>14768.14</td>\n",
       "      <td>83.0</td>\n",
       "      <td>Москва</td>\n",
       "      <td>ultra</td>\n",
       "      <td>1000</td>\n",
       "      <td>30720</td>\n",
       "      <td>3000</td>\n",
       "      <td>1950</td>\n",
       "      <td>150</td>\n",
       "      <td>1</td>\n",
       "      <td>1</td>\n",
       "      <td>ultra</td>\n",
       "      <td>15.0</td>\n",
       "      <td>30.0</td>\n",
       "      <td>1950.0</td>\n",
       "    </tr>\n",
       "  </tbody>\n",
       "</table>\n",
       "</div>"
      ],
      "text/plain": [
       "    user_id  month  calls  duration   mb_used  messages         city tariff  \\\n",
       "0      1000    5.0   22.0     159.0   2253.49      22.0    Краснодар  ultra   \n",
       "1      1000    6.0   43.0     172.0  23233.77      60.0    Краснодар  ultra   \n",
       "2      1000    7.0   47.0     340.0  14003.64      75.0    Краснодар  ultra   \n",
       "3      1000    8.0   52.0     408.0  14055.93      81.0    Краснодар  ultra   \n",
       "4      1000    9.0   58.0     466.0  14568.91      57.0    Краснодар  ultra   \n",
       "5      1000   10.0   57.0     350.0  14702.49      73.0    Краснодар  ultra   \n",
       "6      1000   11.0   43.0     338.0  14756.47      58.0    Краснодар  ultra   \n",
       "7      1000   12.0   46.0     333.0   9817.61      70.0    Краснодар  ultra   \n",
       "8      1001   11.0   59.0     430.0  18429.34       0.0       Москва  smart   \n",
       "9      1001   12.0   63.0     414.0  14036.66       0.0       Москва  smart   \n",
       "10     1002    6.0   15.0     117.0  10856.82       4.0  Стерлитамак  smart   \n",
       "11     1002    7.0   26.0     214.0  17580.10      11.0  Стерлитамак  smart   \n",
       "12     1002    8.0   42.0     289.0  20319.26      13.0  Стерлитамак  smart   \n",
       "13     1002    9.0   36.0     206.0  16691.08       4.0  Стерлитамак  smart   \n",
       "14     1002   10.0   33.0     212.0  13888.25      10.0  Стерлитамак  smart   \n",
       "15     1002   11.0   32.0     243.0  18587.28      16.0  Стерлитамак  smart   \n",
       "16     1002   12.0   33.0     236.0  18113.73      12.0  Стерлитамак  smart   \n",
       "17     1003    8.0   55.0     380.0   8565.21      37.0       Москва  ultra   \n",
       "18     1003    9.0  134.0     961.0  12468.87      91.0       Москва  ultra   \n",
       "19     1003   10.0  108.0     855.0  14768.14      83.0       Москва  ultra   \n",
       "\n",
       "    messages_included  mb_per_month_included  minutes_included  \\\n",
       "0                1000                  30720              3000   \n",
       "1                1000                  30720              3000   \n",
       "2                1000                  30720              3000   \n",
       "3                1000                  30720              3000   \n",
       "4                1000                  30720              3000   \n",
       "5                1000                  30720              3000   \n",
       "6                1000                  30720              3000   \n",
       "7                1000                  30720              3000   \n",
       "8                  50                  15360               500   \n",
       "9                  50                  15360               500   \n",
       "10                 50                  15360               500   \n",
       "11                 50                  15360               500   \n",
       "12                 50                  15360               500   \n",
       "13                 50                  15360               500   \n",
       "14                 50                  15360               500   \n",
       "15                 50                  15360               500   \n",
       "16                 50                  15360               500   \n",
       "17               1000                  30720              3000   \n",
       "18               1000                  30720              3000   \n",
       "19               1000                  30720              3000   \n",
       "\n",
       "    rub_monthly_fee  rub_per_gb  rub_per_message  rub_per_minute tariff_name  \\\n",
       "0              1950         150                1               1       ultra   \n",
       "1              1950         150                1               1       ultra   \n",
       "2              1950         150                1               1       ultra   \n",
       "3              1950         150                1               1       ultra   \n",
       "4              1950         150                1               1       ultra   \n",
       "5              1950         150                1               1       ultra   \n",
       "6              1950         150                1               1       ultra   \n",
       "7              1950         150                1               1       ultra   \n",
       "8               550         200                3               3       smart   \n",
       "9               550         200                3               3       smart   \n",
       "10              550         200                3               3       smart   \n",
       "11              550         200                3               3       smart   \n",
       "12              550         200                3               3       smart   \n",
       "13              550         200                3               3       smart   \n",
       "14              550         200                3               3       smart   \n",
       "15              550         200                3               3       smart   \n",
       "16              550         200                3               3       smart   \n",
       "17             1950         150                1               1       ultra   \n",
       "18             1950         150                1               1       ultra   \n",
       "19             1950         150                1               1       ultra   \n",
       "\n",
       "    gb_used  gb_included  revenue  \n",
       "0       3.0         30.0   1950.0  \n",
       "1      23.0         30.0   1950.0  \n",
       "2      14.0         30.0   1950.0  \n",
       "3      14.0         30.0   1950.0  \n",
       "4      15.0         30.0   1950.0  \n",
       "5      15.0         30.0   1950.0  \n",
       "6      15.0         30.0   1950.0  \n",
       "7      10.0         30.0   1950.0  \n",
       "8      18.0         15.0   1150.0  \n",
       "9      14.0         15.0    550.0  \n",
       "10     11.0         15.0    550.0  \n",
       "11     18.0         15.0   1150.0  \n",
       "12     20.0         15.0   1550.0  \n",
       "13     17.0         15.0    950.0  \n",
       "14     14.0         15.0    550.0  \n",
       "15     19.0         15.0   1350.0  \n",
       "16     18.0         15.0   1150.0  \n",
       "17      9.0         30.0   1950.0  \n",
       "18     13.0         30.0   1950.0  \n",
       "19     15.0         30.0   1950.0  "
      ]
     },
     "execution_count": 12,
     "metadata": {},
     "output_type": "execute_result"
    }
   ],
   "source": [
    "def get_revenue(row):\n",
    "    \n",
    "    # считаем овердрафты\n",
    "    minutes_over = (row['duration'] - row['minutes_included']) *  row['rub_per_minute']\n",
    "    messages_over = (row['messages'] - row['messages_included']) *  row['rub_per_message']\n",
    "    gb_over = (row['gb_used'] - row['gb_included']) *  row['rub_per_gb']\n",
    "\n",
    "    # убираем отрицательные овердрафты\n",
    "    if minutes_over < 0: minutes_over = 0\n",
    "    if messages_over < 0: messages_over = 0\n",
    "    if gb_over < 0: gb_over = 0\n",
    "\n",
    "    # считаем выручку\n",
    "    return (minutes_over + messages_over + gb_over + row['rub_monthly_fee'])\n",
    "\n",
    "data['revenue'] = data.apply(get_revenue, axis = 1)\n",
    "\n",
    "#data.info()\n",
    "data['revenue'].describe()\n",
    "data.head(20)"
   ]
  },
  {
   "cell_type": "markdown",
   "metadata": {},
   "source": [
    "***Оптимизируем размер данных***"
   ]
  },
  {
   "cell_type": "code",
   "execution_count": 13,
   "metadata": {
    "scrolled": true
   },
   "outputs": [
    {
     "name": "stdout",
     "output_type": "stream",
     "text": [
      "<class 'pandas.core.frame.DataFrame'>\n",
      "Int64Index: 3216 entries, 0 to 3215\n",
      "Data columns (total 19 columns):\n",
      " #   Column                 Non-Null Count  Dtype  \n",
      "---  ------                 --------------  -----  \n",
      " 0   user_id                3216 non-null   uint16 \n",
      " 1   month                  3216 non-null   uint8  \n",
      " 2   calls                  3216 non-null   uint8  \n",
      " 3   duration               3216 non-null   float32\n",
      " 4   mb_used                3216 non-null   float32\n",
      " 5   messages               3216 non-null   uint8  \n",
      " 6   city                   3216 non-null   object \n",
      " 7   tariff                 3216 non-null   object \n",
      " 8   messages_included      3216 non-null   uint16 \n",
      " 9   mb_per_month_included  3216 non-null   uint16 \n",
      " 10  minutes_included       3216 non-null   uint16 \n",
      " 11  rub_monthly_fee        3216 non-null   uint16 \n",
      " 12  rub_per_gb             3216 non-null   uint8  \n",
      " 13  rub_per_message        3216 non-null   uint8  \n",
      " 14  rub_per_minute         3216 non-null   uint8  \n",
      " 15  tariff_name            3216 non-null   object \n",
      " 16  gb_used                3216 non-null   uint8  \n",
      " 17  gb_included            3216 non-null   uint8  \n",
      " 18  revenue                3216 non-null   float32\n",
      "dtypes: float32(3), object(3), uint16(5), uint8(8)\n",
      "memory usage: 194.7+ KB\n"
     ]
    }
   ],
   "source": [
    "#оптимизируем размер данных\n",
    "data.loc[:, ['user_id']] = data.loc[:, ['user_id']].apply(np.uint16)\n",
    "data.loc[:, ['month']] = data.loc[:, ['month']].apply(np.uint8)\n",
    "data.loc[:, ['calls']] = data.loc[:, ['calls']].apply(np.uint8)\n",
    "data.loc[:, ['duration']] = data.loc[:, ['duration']].apply(np.float32)\n",
    "data.loc[:, ['mb_used']] = data.loc[:, ['mb_used']].apply(np.float32)\n",
    "data.loc[:, ['messages']] = data.loc[:, ['messages']].apply(np.uint8)\n",
    "data.loc[:, ['messages_included']] = data.loc[:, ['messages_included']].apply(np.uint16)\n",
    "data.loc[:, ['mb_per_month_included']] = data.loc[:, ['mb_per_month_included']].apply(np.uint16)\n",
    "data.loc[:, ['minutes_included']] = data.loc[:, ['minutes_included']].apply(np.uint16)\n",
    "data.loc[:, ['rub_monthly_fee']] = data.loc[:, ['rub_monthly_fee']].apply(np.uint16)\n",
    "data.loc[:, ['rub_per_gb']] = data.loc[:, ['rub_per_gb']].apply(np.uint8)\n",
    "data.loc[:, ['rub_per_message']] = data.loc[:, ['rub_per_message']].apply(np.uint8)\n",
    "data.loc[:, ['rub_per_minute']] = data.loc[:, ['rub_per_minute']].apply(np.uint8)\n",
    "data.loc[:, ['gb_used']] = data.loc[:, ['gb_used']].apply(np.uint8)\n",
    "data.loc[:, ['gb_included']] = data.loc[:, ['gb_included']].apply(np.uint8)\n",
    "data.loc[:, ['revenue']] = data.loc[:, ['revenue']].apply(np.float32)\n",
    "\n",
    "data.info()"
   ]
  },
  {
   "cell_type": "markdown",
   "metadata": {},
   "source": [
    "### Вывод"
   ]
  },
  {
   "cell_type": "markdown",
   "metadata": {},
   "source": [
    "1. Мы привели данные к нужным типам и исправили ошибки в данных;\n",
    "2. Посчитали для каждого пользователя:\n",
    "- количество сделанных звонков и израсходованных минут разговора по месяцам;\n",
    "- количество отправленных сообщений по месяцам;\n",
    "- объем израсходованного интернет-трафика по месяцам;\n",
    "- помесячную выручку с каждого пользователя\n",
    "3. Для удобства дальнейшей работы объединили данные в один датафрейм\n",
    "4. Оптимизировали размер данных"
   ]
  },
  {
   "cell_type": "markdown",
   "metadata": {},
   "source": [
    "## Проанализируем данные"
   ]
  },
  {
   "cell_type": "markdown",
   "metadata": {},
   "source": [
    "Опишием поведение клиентов оператора, исходя из выборки. Сколько минут разговора, сколько сообщений и какой объём интернет-трафика требуется пользователям каждого тарифа в месяц? Посчитаем среднее количество, дисперсию и стандартное отклонение. Построем гистограммы. "
   ]
  },
  {
   "cell_type": "markdown",
   "metadata": {},
   "source": [
    "***Выделим данные о клиентах в отдельные датафреймы для каждого тарифа***"
   ]
  },
  {
   "cell_type": "code",
   "execution_count": 14,
   "metadata": {},
   "outputs": [],
   "source": [
    "data_smart = data.query('tariff == \"smart\"')\n",
    "data_ultra = data.query('tariff == \"ultra\"')"
   ]
  },
  {
   "cell_type": "markdown",
   "metadata": {},
   "source": [
    "### Количество минут разговора в месяц"
   ]
  },
  {
   "cell_type": "markdown",
   "metadata": {},
   "source": [
    "#### Smart. Количество минут разговора в месяц"
   ]
  },
  {
   "cell_type": "code",
   "execution_count": 15,
   "metadata": {},
   "outputs": [
    {
     "name": "stdout",
     "output_type": "stream",
     "text": [
      "Среднее количество минут разговора: 417.74753\n",
      "Стандартное отклонение продолжительноси разговора: 190.47676\n",
      "Дисперсия длительности разговора: 36281.395\n"
     ]
    },
    {
     "data": {
      "text/plain": [
       "count    2230.000000\n",
       "mean      417.747528\n",
       "std       190.476761\n",
       "min         0.000000\n",
       "25%       282.000000\n",
       "50%       421.500000\n",
       "75%       545.000000\n",
       "max      1435.000000\n",
       "Name: duration, dtype: float64"
      ]
     },
     "execution_count": 15,
     "metadata": {},
     "output_type": "execute_result"
    }
   ],
   "source": [
    "print('Среднее количество минут разговора:', data_smart['duration'].mean())\n",
    "print('Стандартное отклонение продолжительноси разговора:', data_smart['duration'].std())\n",
    "print('Дисперсия длительности разговора:', data_smart['duration'].var())\n",
    "data_smart['duration'].describe()"
   ]
  },
  {
   "cell_type": "markdown",
   "metadata": {},
   "source": [
    "#### Ultra. Количество минут разговора в месяц"
   ]
  },
  {
   "cell_type": "code",
   "execution_count": 16,
   "metadata": {},
   "outputs": [
    {
     "name": "stdout",
     "output_type": "stream",
     "text": [
      "Среднее количество минут разговора: 526.08923\n",
      "Стандартное отклонение продолжительноси разговора: 317.88754\n",
      "Дисперсия длительности разговора: 101052.49\n"
     ]
    },
    {
     "data": {
      "text/plain": [
       "count     986.000000\n",
       "mean      526.089233\n",
       "std       317.887543\n",
       "min         0.000000\n",
       "25%       282.500000\n",
       "50%       518.000000\n",
       "75%       751.750000\n",
       "max      1673.000000\n",
       "Name: duration, dtype: float64"
      ]
     },
     "execution_count": 16,
     "metadata": {},
     "output_type": "execute_result"
    }
   ],
   "source": [
    "print('Среднее количество минут разговора:', data_ultra['duration'].mean())\n",
    "print('Стандартное отклонение продолжительноси разговора:', data_ultra['duration'].std())\n",
    "print('Дисперсия длительности разговора:', data_ultra['duration'].var())\n",
    "data_ultra['duration'].describe()"
   ]
  },
  {
   "cell_type": "markdown",
   "metadata": {},
   "source": [
    "#### Построим гистограммы"
   ]
  },
  {
   "cell_type": "code",
   "execution_count": 17,
   "metadata": {},
   "outputs": [
    {
     "data": {
      "text/plain": [
       "<matplotlib.legend.Legend at 0x7f1a20827130>"
      ]
     },
     "execution_count": 17,
     "metadata": {},
     "output_type": "execute_result"
    },
    {
     "data": {
      "image/png": "[encoded data removed]",
      "text/plain": [
       "<Figure size 432x288 with 1 Axes>"
      ]
     },
     "metadata": {
      "needs_background": "light"
     },
     "output_type": "display_data"
    }
   ],
   "source": [
    "data_smart['duration'].plot(kind='hist', bins = 167, density=True)\n",
    "data_ultra['duration'].plot(kind='hist', bins = 167, density=True, alpha = 0.5)\n",
    "plt.title('Количество минут разговора в месяц, 2018г.', fontsize=10)\n",
    "plt.xlabel('Количество минут', fontsize=10)\n",
    "plt.ylabel('Частота', fontsize=10)\n",
    "plt.legend(['duration_smart', 'duration_ultra'])"
   ]
  },
  {
   "cell_type": "markdown",
   "metadata": {},
   "source": [
    "### Количество сообщений в месяц"
   ]
  },
  {
   "cell_type": "markdown",
   "metadata": {},
   "source": [
    "#### Smart. Количество сообщений в месяц"
   ]
  },
  {
   "cell_type": "code",
   "execution_count": 18,
   "metadata": {},
   "outputs": [
    {
     "name": "stdout",
     "output_type": "stream",
     "text": [
      "Среднее количество сообщений: 33.36905829596412\n",
      "Стандартное отклонение количества сообщений: 28.230395954185852\n",
      "Дисперсия длительности количества сообщений: 796.9552557301129\n"
     ]
    },
    {
     "data": {
      "text/plain": [
       "count    2230.000000\n",
       "mean       33.369058\n",
       "std        28.230396\n",
       "min         0.000000\n",
       "25%        10.000000\n",
       "50%        28.000000\n",
       "75%        51.000000\n",
       "max       143.000000\n",
       "Name: messages, dtype: float64"
      ]
     },
     "execution_count": 18,
     "metadata": {},
     "output_type": "execute_result"
    }
   ],
   "source": [
    "print('Среднее количество сообщений:', data_smart['messages'].mean())\n",
    "print('Стандартное отклонение количества сообщений:', data_smart['messages'].std())\n",
    "print('Дисперсия длительности количества сообщений:', data_smart['messages'].var())\n",
    "data_smart['messages'].describe()"
   ]
  },
  {
   "cell_type": "markdown",
   "metadata": {},
   "source": [
    "#### Ultra. Количество сообщений в месяц"
   ]
  },
  {
   "cell_type": "code",
   "execution_count": 19,
   "metadata": {},
   "outputs": [
    {
     "name": "stdout",
     "output_type": "stream",
     "text": [
      "Среднее количество сообщений: 49.31338742393509\n",
      "Стандартное отклонение количества сообщений: 47.80603962530092\n",
      "Дисперсия длительности количества сообщений: 2285.4174246558414\n"
     ]
    },
    {
     "data": {
      "text/plain": [
       "count    986.000000\n",
       "mean      49.313387\n",
       "std       47.806040\n",
       "min        0.000000\n",
       "25%        6.000000\n",
       "50%       38.000000\n",
       "75%       78.750000\n",
       "max      224.000000\n",
       "Name: messages, dtype: float64"
      ]
     },
     "execution_count": 19,
     "metadata": {},
     "output_type": "execute_result"
    }
   ],
   "source": [
    "print('Среднее количество сообщений:', data_ultra['messages'].mean())\n",
    "print('Стандартное отклонение количества сообщений:', data_ultra['messages'].std())\n",
    "print('Дисперсия длительности количества сообщений:', data_ultra['messages'].var())\n",
    "data_ultra['messages'].describe()"
   ]
  },
  {
   "cell_type": "markdown",
   "metadata": {},
   "source": [
    "#### Построим гистограммы"
   ]
  },
  {
   "cell_type": "code",
   "execution_count": 33,
   "metadata": {},
   "outputs": [
    {
     "data": {
      "text/plain": [
       "<matplotlib.legend.Legend at 0x7f1a2063d340>"
      ]
     },
     "execution_count": 33,
     "metadata": {},
     "output_type": "execute_result"
    },
    {
     "data": {
      "image/png": "[encoded data removed]",
      "text/plain": [
       "<Figure size 432x288 with 1 Axes>"
      ]
     },
     "metadata": {
      "needs_background": "light"
     },
     "output_type": "display_data"
    }
   ],
   "source": [
    "data_smart['messages'].plot(kind='hist', bins = 112, density=True)\n",
    "data_ultra['messages'].plot(kind='hist', bins = 112, density=True, alpha = 0.5)\n",
    "plt.title('Smart. Количество сообщений в месяц, 2018г.', fontsize=10)\n",
    "plt.xlabel('Количество сообщений', fontsize=10)\n",
    "plt.ylabel('Частота', fontsize=10)\n",
    "plt.legend(['messages_smart', 'messages_ultra'])"
   ]
  },
  {
   "cell_type": "markdown",
   "metadata": {},
   "source": [
    "### Объём интернет-трафика в месяц"
   ]
  },
  {
   "cell_type": "markdown",
   "metadata": {},
   "source": [
    "#### Smart. Объём интернет-трафика в месяц"
   ]
  },
  {
   "cell_type": "code",
   "execution_count": 21,
   "metadata": {},
   "outputs": [
    {
     "name": "stdout",
     "output_type": "stream",
     "text": [
      "Среднее количество гигабайт трафика: 16.32152466367713\n",
      "Стандартное отклонение объема трафика: 5.7561665225657155\n",
      "Дисперсия объема трафика: 33.133453035506285\n"
     ]
    },
    {
     "data": {
      "text/plain": [
       "count    2230.000000\n",
       "mean       16.321525\n",
       "std         5.756167\n",
       "min         0.000000\n",
       "25%        13.000000\n",
       "50%        17.000000\n",
       "75%        20.000000\n",
       "max        38.000000\n",
       "Name: gb_used, dtype: float64"
      ]
     },
     "execution_count": 21,
     "metadata": {},
     "output_type": "execute_result"
    }
   ],
   "source": [
    "print('Среднее количество гигабайт трафика:', data_smart['gb_used'].mean())\n",
    "print('Стандартное отклонение объема трафика:', data_smart['gb_used'].std())\n",
    "print('Дисперсия объема трафика:', data_smart['gb_used'].var())\n",
    "data_smart['gb_used'].describe()"
   ]
  },
  {
   "cell_type": "markdown",
   "metadata": {},
   "source": [
    "#### Ultra. Объём интернет-трафика в месяц"
   ]
  },
  {
   "cell_type": "code",
   "execution_count": 22,
   "metadata": {},
   "outputs": [
    {
     "name": "stdout",
     "output_type": "stream",
     "text": [
      "Среднее количество гигабайт трафика: 19.474645030425965\n",
      "Стандартное отклонение объема трафика: 9.868056763624352\n",
      "Дисперсия объема трафика: 97.37854429011234\n"
     ]
    },
    {
     "data": {
      "text/plain": [
       "count    986.000000\n",
       "mean      19.474645\n",
       "std        9.868057\n",
       "min        0.000000\n",
       "25%       12.000000\n",
       "50%       19.000000\n",
       "75%       27.000000\n",
       "max       49.000000\n",
       "Name: gb_used, dtype: float64"
      ]
     },
     "execution_count": 22,
     "metadata": {},
     "output_type": "execute_result"
    }
   ],
   "source": [
    "print('Среднее количество гигабайт трафика:', data_ultra['gb_used'].mean())\n",
    "print('Стандартное отклонение объема трафика:', data_ultra['gb_used'].std())\n",
    "print('Дисперсия объема трафика:', data_ultra['gb_used'].var())\n",
    "data_ultra['gb_used'].describe()"
   ]
  },
  {
   "cell_type": "markdown",
   "metadata": {},
   "source": [
    "#### Построим гистограмму"
   ]
  },
  {
   "cell_type": "code",
   "execution_count": 23,
   "metadata": {},
   "outputs": [
    {
     "data": {
      "text/plain": [
       "<matplotlib.legend.Legend at 0x7f1a2070e040>"
      ]
     },
     "execution_count": 23,
     "metadata": {},
     "output_type": "execute_result"
    },
    {
     "data": {
      "image/png": "[encoded data removed]",
      "text/plain": [
       "<Figure size 432x288 with 1 Axes>"
      ]
     },
     "metadata": {
      "needs_background": "light"
     },
     "output_type": "display_data"
    }
   ],
   "source": [
    "data_smart['gb_used'].plot(kind='hist', bins = 49, density=True)\n",
    "data_ultra['gb_used'].plot(kind='hist', bins = 49, density=True, alpha = 0.5)\n",
    "plt.title('Smart. Объём интернет-трафика в месяц, 2018г.', fontsize=10)\n",
    "plt.xlabel('Объем трафика', fontsize=10)\n",
    "plt.ylabel('Частота', fontsize=10)\n",
    "plt.legend(['gb_used_smart', 'gb_used_ultra'])"
   ]
  },
  {
   "cell_type": "markdown",
   "metadata": {},
   "source": [
    "### Вывод"
   ]
  },
  {
   "cell_type": "markdown",
   "metadata": {},
   "source": [
    "Дисперсия и стандартное отклонение указывают нам на то, что ***длительность разговора***, ***количество сообщений*** и ***объем интернет трафика*** у тарифа ultra распределяется шире чем у тарифа smart.\n",
    "На это указывают и более \"длинные хвосты\" на гистограммах."
   ]
  },
  {
   "cell_type": "markdown",
   "metadata": {},
   "source": [
    "## Проверим гипотезы"
   ]
  },
  {
   "cell_type": "markdown",
   "metadata": {},
   "source": [
    "### Средняя выручка пользователей тарифов «Ультра» и «Смарт» различаются"
   ]
  },
  {
   "cell_type": "markdown",
   "metadata": {},
   "source": [
    "Мы должны подтвердить гипотезу (H₁) от том что средняя выручка пользователей тарифов «Ультра» и «Смарт» различаются, для этого мы должны отвергнуть нулевую гипотезу (H₀) о равенстве средней выручки пользователей этих тарифов"
   ]
  },
  {
   "cell_type": "code",
   "execution_count": 24,
   "metadata": {},
   "outputs": [],
   "source": [
    "# Найдем среднюю выручка пользователей для каждого из тарифов\n",
    "smart_mean_revenues = data_smart.groupby(['user_id']).agg({'revenue': 'mean'}).reset_index()\n",
    "ultra_mean_revenues = data_ultra.groupby(['user_id']).agg({'revenue': 'mean'}).reset_index()\n",
    "\n",
    "#print(smart_mean_revenues['revenue'].describe())\n",
    "#print(ultra_mean_revenues['revenue'].describe())"
   ]
  },
  {
   "cell_type": "code",
   "execution_count": 26,
   "metadata": {},
   "outputs": [
    {
     "name": "stdout",
     "output_type": "stream",
     "text": [
      "p-значение:  1.9269276877080856e-250\n",
      "Отвергаем нулевую гипотезу\n"
     ]
    }
   ],
   "source": [
    "# зададим критический уровень статистической значимости\n",
    "alpha = .05 \n",
    "# если p-value окажется меньше него - отвегнем гипотезу\n",
    "\n",
    "results = st.ttest_ind(\n",
    "    data_smart['revenue'],\n",
    "    data_ultra['revenue'],\n",
    "    equal_var = False)\n",
    "\n",
    "print('p-значение: ', results.pvalue)\n",
    "\n",
    "if results.pvalue < alpha:\n",
    "    print(\"Отвергаем нулевую гипотезу\")\n",
    "else:\n",
    "    print(\"Не получилось отвергнуть нулевую гипотезу\") \n"
   ]
  },
  {
   "cell_type": "markdown",
   "metadata": {},
   "source": [
    "***Для наглядности построим общую диаграмму***"
   ]
  },
  {
   "cell_type": "code",
   "execution_count": 28,
   "metadata": {},
   "outputs": [
    {
     "data": {
      "text/plain": [
       "<matplotlib.legend.Legend at 0x7f1a21be88b0>"
      ]
     },
     "execution_count": 28,
     "metadata": {},
     "output_type": "execute_result"
    },
    {
     "data": {
      "image/png": "[encoded data removed]",
      "text/plain": [
       "<Figure size 432x288 with 1 Axes>"
      ]
     },
     "metadata": {
      "needs_background": "light"
     },
     "output_type": "display_data"
    }
   ],
   "source": [
    "data_smart['revenue'].plot(kind='hist', bins = 30, density=True)\n",
    "data_ultra['revenue'].plot(kind='hist', bins = 30, density=True, alpha=0.5)\n",
    "plt.title('Smart. Средняя выручка в месяц, 2018г.', fontsize=10)\n",
    "plt.xlabel('Выручка, руб', fontsize=10)\n",
    "plt.ylabel('Частота', fontsize=10)\n",
    "plt.legend(['revenue_smart', 'revenue_ultra'])"
   ]
  },
  {
   "cell_type": "markdown",
   "metadata": {},
   "source": [
    "***Вывод***\n",
    "<br>p-значение очень близко к нулю, что говорит нам о том что мы отвергаем нулевую гипотезу и можем утверждать, что средняя выручка пользователей тарифов «Ультра» и «Смарт» различаются.\n",
    "<br>Что также подтверждается и графически"
   ]
  },
  {
   "cell_type": "markdown",
   "metadata": {},
   "source": [
    "### Средняя выручка пользователей из Москвы отличается от выручки пользователей из других регионов"
   ]
  },
  {
   "cell_type": "markdown",
   "metadata": {},
   "source": [
    "Мы должны подтвердить гипотезу (H₁) от том что средняя выручка пользователей из Москвы отличается от выручки пользователей из других регионов, для этого мы должны отвергнуть нулевую гипотезу (H₀) о равенстве средней выручки пользователей из Москвы и других регионов"
   ]
  },
  {
   "cell_type": "code",
   "execution_count": 29,
   "metadata": {},
   "outputs": [],
   "source": [
    "moskow_users = data.query('city == \"Москва\"').groupby(['user_id']).agg({'revenue': 'mean'}).reset_index()\n",
    "non_moscow_users = data.query('city != \"Москва\"').groupby(['user_id']).agg({'revenue': 'mean'}).reset_index()\n",
    "#print(moskow_users['revenue'].describe())\n",
    "#print(non_moscow_users['revenue'].describe())"
   ]
  },
  {
   "cell_type": "code",
   "execution_count": 30,
   "metadata": {},
   "outputs": [
    {
     "name": "stdout",
     "output_type": "stream",
     "text": [
      "p-значение:  0.3557944270632638\n",
      "Не получилось отвергнуть нулевую гипотезу\n"
     ]
    }
   ],
   "source": [
    "alpha = .05 # критический уровень статистической значимости\n",
    "# если p-value окажется меньше него - отвегнем гипотезу\n",
    "\n",
    "results = st.ttest_ind(\n",
    "    moskow_users['revenue'], \n",
    "    non_moscow_users['revenue'],\n",
    "    equal_var = False)\n",
    "\n",
    "print('p-значение: ', results.pvalue)\n",
    "\n",
    "if results.pvalue < alpha:\n",
    "    print(\"Отвергаем нулевую гипотезу\")\n",
    "else:\n",
    "    print(\"Не получилось отвергнуть нулевую гипотезу\") "
   ]
  },
  {
   "cell_type": "markdown",
   "metadata": {},
   "source": [
    "***Для наглядности построим общую диаграмму***"
   ]
  },
  {
   "cell_type": "code",
   "execution_count": 31,
   "metadata": {
    "scrolled": true
   },
   "outputs": [
    {
     "data": {
      "text/plain": [
       "<matplotlib.legend.Legend at 0x7f1a205f3760>"
      ]
     },
     "execution_count": 31,
     "metadata": {},
     "output_type": "execute_result"
    },
    {
     "data": {
      "image/png": "[encoded data removed]",
      "text/plain": [
       "<Figure size 432x288 with 1 Axes>"
      ]
     },
     "metadata": {
      "needs_background": "light"
     },
     "output_type": "display_data"
    }
   ],
   "source": [
    "moskow_users['revenue'].plot(kind='hist', bins = 67, density=True)\n",
    "non_moscow_users['revenue'].plot(kind='hist', bins = 67, density=True, alpha = 0.5)\n",
    "plt.title('Smart. Средняя выручка в месяц, 2018г.', fontsize=10)\n",
    "plt.xlabel('Выручка, руб', fontsize=10)\n",
    "plt.ylabel('Частота', fontsize=10)\n",
    "plt.legend(['revenue_moskow_users', 'revenue_non_moscow_users'])"
   ]
  },
  {
   "cell_type": "markdown",
   "metadata": {},
   "source": [
    "***Вывод***\n",
    "<br>p-значение очень большое (почти 37%), что говорит нам о том что мы не можем отвергнуть нулевую гипотезу и не можем утверждать, что средняя выручка пользователей Москвы и регионов отличается\n",
    "<br>Что опять же подтверждается графически"
   ]
  },
  {
   "cell_type": "markdown",
   "metadata": {},
   "source": [
    "## Общий вывод"
   ]
  },
  {
   "cell_type": "markdown",
   "metadata": {},
   "source": [
    "В нашем исследовании должны были выполнить предварительный анализ тарифов(«Смарт» и «Ультра») федерального оператора сотовой связи «Мегалайн» на небольшой выборке клиентов. Нужно было проанализировать поведение клиентов, сделать вывод какой тариф лучше и передать эти данные коммерческому департаменту для корректировки рекламмного бюджета.\n",
    "<br>Для этого мы:\n",
    "1. ***Изучили данные из файлов***\n",
    "<br>Импортировали библиотеки котрые нам потребуются в проекте.\n",
    "<br>Открыли файлы с данными и сохранили их содержимое в переменных\n",
    "\n",
    "1.1. Датасет ***calls*** содержит 4 столбца и 202607 строк\n",
    "<br>Пропущеных значений не обнаружили\n",
    "<br>Явных дубликатов не обноружили\n",
    "<br>Максимальные и минимальные значения, а также визуальное представление датасета не указывают на ошибки в данных\n",
    "<br>Не подходящий тип данных в столбцах \"указан(корректный)\":\n",
    "- call_date - object(datetime)\n",
    "\n",
    "1.2. Датасет ***internet*** содержит 5 столбцов и 149396 строк\n",
    "<br>Пропущеных значений не обнаружили\n",
    "<br>Явных дубликатов не обноружили\n",
    "<br>Столбец 'Unnamed: 0' дублирует индекс, не содержит полезной информации и может быть удален\n",
    "<br>Максимальные и минимальные значения, а также визуальное представление датасета не указывают на ошибки в данных\n",
    "<br>Не подходящий тип данных в столбцах \"указан(корректный)\":\n",
    "- session_date - object(datetime)\n",
    "\n",
    "1.3. Датасет ***messages*** содержит 3 столбцов и 123036 строк\n",
    "<br>Пропущеных значений не обнаружили\n",
    "<br>Явных дубликатов не обноружили\n",
    "<br>Максимальные и минимальные значения, а также визуальное представление датасета не указывают на ошибки в данных\n",
    "<br>Не подходящий тип данных в столбцах \"указан(корректный)\":\n",
    "- message_date - object(datetime)\n",
    "\n",
    "1.4. Датасет ***tariffs*** содержит 8 столбцов и 2 строки\n",
    "<br>Пропущеных значений не обнаружили\n",
    "<br>Явных дубликатов не обноружили\n",
    "<br>Визуальное представление датасета не указывают на ошибки в данных\n",
    "<br>Тип данных в столбцах корректный\n",
    "\n",
    "1.5. Датасет ***users*** содержит 8 столбцов и 500 строк\n",
    "<br>Столбец churn_date содержит NaN значения, но это означает что пользователь действующий. \n",
    "<br>Явных дубликатов не обноружили\n",
    "<br>Максимальные и минимальные значения, а также визуальное представление датасета не указывают на ошибки в данных\n",
    "<br>Не подходящий тип данных в столбцах \"указан(корректный)\":\n",
    "- churn_date - object(datetime)\n",
    "- reg_date - object(datetime)\n",
    "\n",
    "2. ***Провели подготовку данных***\n",
    "2.1. Привели данные к нужным типам и исправили ошибки в данных;\n",
    "2.2. Посчитали для каждого пользователя:\n",
    "- количество сделанных звонков и израсходованных минут разговора по месяцам;\n",
    "- количество отправленных сообщений по месяцам;\n",
    "- объем израсходованного интернет-трафика по месяцам;\n",
    "- помесячную выручку с каждого пользователя\n",
    "2.3. Для удобства дальнейшей работы объединили данные в один датафрейм\n",
    "2.4. Оптимизировали размер данных\n",
    "\n",
    "3. ***Проанализировали данные***\n",
    "Дисперсия и стандартное отклонение указывают нам на то, что ***количество сообщений***, ***количество сообщений*** и ***объем интернет трафика*** у тарифа ultra распределяется шире чем у тарифа smart.\n",
    "На это указывают и более \"длинные хвосты\" на гистограммах.\n",
    "\n",
    "4. ***Выполнили проверку гипотез***\n",
    "4.1. Подтвердили гипотезу о том что средняя выручка пользователей тарифов «Ультра» и «Смарт» различаются\n",
    "<br> Средняя выручка тарифа «Ультра» выше чем у тарифа «Смарт» и стоит учитывать это при распределении рекламмного бюджета\n",
    "\n",
    "4.2. Опровергли гипотезу о том, что средняя выручка пользователей из Москвы отличается от выручки пользователей из других регионов.\n",
    "<br>Различия незначительны рекламмный бюджет может распределяться равносильно"
   ]
  }
 ],
 "metadata": {
  "ExecuteTimeLog": [
   {
    "duration": 58,
    "start_time": "2022-01-17T19:11:49.764Z"
   },
   {
    "duration": 234,
    "start_time": "2022-01-17T19:15:01.660Z"
   },
   {
    "duration": 1086,
    "start_time": "2022-01-17T19:15:09.479Z"
   },
   {
    "duration": 169,
    "start_time": "2022-01-17T19:15:14.544Z"
   },
   {
    "duration": 182,
    "start_time": "2022-01-17T19:15:25.684Z"
   },
   {
    "duration": 155,
    "start_time": "2022-01-17T19:15:43.646Z"
   },
   {
    "duration": 384,
    "start_time": "2022-01-17T19:17:32.795Z"
   },
   {
    "duration": 55,
    "start_time": "2022-01-17T19:27:13.069Z"
   },
   {
    "duration": 47,
    "start_time": "2022-01-17T19:48:42.080Z"
   },
   {
    "duration": 53,
    "start_time": "2022-01-17T19:49:14.780Z"
   },
   {
    "duration": 34,
    "start_time": "2022-01-17T19:50:10.072Z"
   },
   {
    "duration": 52,
    "start_time": "2022-01-17T19:50:11.539Z"
   },
   {
    "duration": 38,
    "start_time": "2022-01-17T19:50:45.384Z"
   },
   {
    "duration": 28,
    "start_time": "2022-01-17T19:50:50.781Z"
   },
   {
    "duration": 1587,
    "start_time": "2022-01-18T16:11:45.515Z"
   },
   {
    "duration": 579,
    "start_time": "2022-01-18T16:11:47.104Z"
   },
   {
    "duration": 84,
    "start_time": "2022-01-18T16:11:47.688Z"
   },
   {
    "duration": 95,
    "start_time": "2022-01-18T16:11:47.776Z"
   },
   {
    "duration": 51,
    "start_time": "2022-01-18T16:11:47.875Z"
   },
   {
    "duration": 88,
    "start_time": "2022-01-18T16:11:47.929Z"
   },
   {
    "duration": 76,
    "start_time": "2022-01-18T16:11:48.019Z"
   },
   {
    "duration": 411,
    "start_time": "2022-01-18T16:30:39.049Z"
   },
   {
    "duration": 1673,
    "start_time": "2022-01-18T16:31:28.951Z"
   },
   {
    "duration": 725,
    "start_time": "2022-01-18T16:31:30.627Z"
   },
   {
    "duration": 97,
    "start_time": "2022-01-18T16:31:31.355Z"
   },
   {
    "duration": 150,
    "start_time": "2022-01-18T16:31:31.454Z"
   },
   {
    "duration": 97,
    "start_time": "2022-01-18T16:31:31.607Z"
   },
   {
    "duration": 78,
    "start_time": "2022-01-18T16:31:31.707Z"
   },
   {
    "duration": 51,
    "start_time": "2022-01-18T16:31:31.788Z"
   },
   {
    "duration": 1625,
    "start_time": "2022-01-18T16:32:19.033Z"
   },
   {
    "duration": 578,
    "start_time": "2022-01-18T16:32:20.660Z"
   },
   {
    "duration": 155,
    "start_time": "2022-01-18T16:32:21.241Z"
   },
   {
    "duration": 189,
    "start_time": "2022-01-18T16:32:21.399Z"
   },
   {
    "duration": 112,
    "start_time": "2022-01-18T16:32:21.590Z"
   },
   {
    "duration": 113,
    "start_time": "2022-01-18T16:32:21.705Z"
   },
   {
    "duration": 105,
    "start_time": "2022-01-18T16:32:21.869Z"
   },
   {
    "duration": 344,
    "start_time": "2022-01-18T16:39:37.688Z"
   },
   {
    "duration": 269,
    "start_time": "2022-01-18T16:39:57.702Z"
   },
   {
    "duration": 3,
    "start_time": "2022-01-18T16:51:45.592Z"
   },
   {
    "duration": 578,
    "start_time": "2022-01-18T16:52:45.187Z"
   },
   {
    "duration": 313,
    "start_time": "2022-01-18T16:54:20.712Z"
   },
   {
    "duration": 1517,
    "start_time": "2022-01-18T16:54:36.283Z"
   },
   {
    "duration": 541,
    "start_time": "2022-01-18T16:54:37.803Z"
   },
   {
    "duration": 89,
    "start_time": "2022-01-18T16:54:38.348Z"
   },
   {
    "duration": 101,
    "start_time": "2022-01-18T16:54:38.441Z"
   },
   {
    "duration": 63,
    "start_time": "2022-01-18T16:54:38.545Z"
   },
   {
    "duration": 98,
    "start_time": "2022-01-18T16:54:38.610Z"
   },
   {
    "duration": 59,
    "start_time": "2022-01-18T16:54:38.710Z"
   },
   {
    "duration": 466,
    "start_time": "2022-01-18T16:54:38.773Z"
   },
   {
    "duration": 1660,
    "start_time": "2022-01-18T18:26:30.947Z"
   },
   {
    "duration": 600,
    "start_time": "2022-01-18T18:26:32.610Z"
   },
   {
    "duration": 90,
    "start_time": "2022-01-18T18:26:33.213Z"
   },
   {
    "duration": 96,
    "start_time": "2022-01-18T18:26:33.307Z"
   },
   {
    "duration": 87,
    "start_time": "2022-01-18T18:26:33.406Z"
   },
   {
    "duration": 105,
    "start_time": "2022-01-18T18:26:33.496Z"
   },
   {
    "duration": 81,
    "start_time": "2022-01-18T18:26:33.604Z"
   },
   {
    "duration": 584,
    "start_time": "2022-01-18T18:26:33.690Z"
   },
   {
    "duration": 373,
    "start_time": "2022-01-18T18:33:46.112Z"
   },
   {
    "duration": 1570,
    "start_time": "2022-01-18T18:34:04.992Z"
   },
   {
    "duration": 542,
    "start_time": "2022-01-18T18:34:06.565Z"
   },
   {
    "duration": 86,
    "start_time": "2022-01-18T18:34:07.116Z"
   },
   {
    "duration": 90,
    "start_time": "2022-01-18T18:34:07.204Z"
   },
   {
    "duration": 45,
    "start_time": "2022-01-18T18:34:07.297Z"
   },
   {
    "duration": 86,
    "start_time": "2022-01-18T18:34:07.345Z"
   },
   {
    "duration": 67,
    "start_time": "2022-01-18T18:34:07.434Z"
   },
   {
    "duration": 432,
    "start_time": "2022-01-18T18:34:07.505Z"
   },
   {
    "duration": 1694,
    "start_time": "2022-01-18T18:36:40.748Z"
   },
   {
    "duration": 571,
    "start_time": "2022-01-18T18:36:42.444Z"
   },
   {
    "duration": 93,
    "start_time": "2022-01-18T18:36:43.018Z"
   },
   {
    "duration": 91,
    "start_time": "2022-01-18T18:36:43.113Z"
   },
   {
    "duration": 65,
    "start_time": "2022-01-18T18:36:43.206Z"
   },
   {
    "duration": 64,
    "start_time": "2022-01-18T18:36:43.273Z"
   },
   {
    "duration": 55,
    "start_time": "2022-01-18T18:36:43.370Z"
   },
   {
    "duration": 428,
    "start_time": "2022-01-18T18:36:43.429Z"
   },
   {
    "duration": 3,
    "start_time": "2022-01-18T18:45:19.905Z"
   },
   {
    "duration": 78,
    "start_time": "2022-01-18T19:11:24.961Z"
   },
   {
    "duration": 46,
    "start_time": "2022-01-18T19:11:36.354Z"
   },
   {
    "duration": 53,
    "start_time": "2022-01-18T19:12:49.116Z"
   },
   {
    "duration": 38,
    "start_time": "2022-01-18T19:12:58.436Z"
   },
   {
    "duration": 34,
    "start_time": "2022-01-18T19:13:07.142Z"
   },
   {
    "duration": 45,
    "start_time": "2022-01-18T19:13:17.296Z"
   },
   {
    "duration": 7152,
    "start_time": "2022-01-18T19:14:06.184Z"
   },
   {
    "duration": 47,
    "start_time": "2022-01-18T19:14:19.278Z"
   },
   {
    "duration": 247,
    "start_time": "2022-01-18T19:17:11.159Z"
   },
   {
    "duration": 435,
    "start_time": "2022-01-18T19:17:27.635Z"
   },
   {
    "duration": 100,
    "start_time": "2022-01-18T19:17:59.911Z"
   },
   {
    "duration": 113,
    "start_time": "2022-01-18T19:18:34.636Z"
   },
   {
    "duration": 119,
    "start_time": "2022-01-18T19:18:53.578Z"
   },
   {
    "duration": 165,
    "start_time": "2022-01-18T19:19:13.388Z"
   },
   {
    "duration": 1497,
    "start_time": "2022-01-18T19:20:34.258Z"
   },
   {
    "duration": 548,
    "start_time": "2022-01-18T19:20:35.758Z"
   },
   {
    "duration": 85,
    "start_time": "2022-01-18T19:20:36.309Z"
   },
   {
    "duration": 89,
    "start_time": "2022-01-18T19:20:36.398Z"
   },
   {
    "duration": 96,
    "start_time": "2022-01-18T19:20:36.490Z"
   },
   {
    "duration": 57,
    "start_time": "2022-01-18T19:20:36.589Z"
   },
   {
    "duration": 67,
    "start_time": "2022-01-18T19:20:36.649Z"
   },
   {
    "duration": 81,
    "start_time": "2022-01-18T19:20:36.721Z"
   },
   {
    "duration": 86,
    "start_time": "2022-01-18T19:20:36.805Z"
   },
   {
    "duration": 42,
    "start_time": "2022-01-18T19:20:36.893Z"
   },
   {
    "duration": 237,
    "start_time": "2022-01-18T19:20:36.937Z"
   },
   {
    "duration": 145,
    "start_time": "2022-01-18T19:27:33.504Z"
   },
   {
    "duration": 661,
    "start_time": "2022-01-18T19:27:46.403Z"
   },
   {
    "duration": 131,
    "start_time": "2022-01-18T19:27:50.056Z"
   },
   {
    "duration": 145,
    "start_time": "2022-01-18T19:29:28.769Z"
   },
   {
    "duration": 774,
    "start_time": "2022-01-18T19:30:00.966Z"
   },
   {
    "duration": 385,
    "start_time": "2022-01-18T19:30:12.335Z"
   },
   {
    "duration": 1619,
    "start_time": "2022-01-18T19:30:30.541Z"
   },
   {
    "duration": 530,
    "start_time": "2022-01-18T19:30:32.163Z"
   },
   {
    "duration": 84,
    "start_time": "2022-01-18T19:30:32.696Z"
   },
   {
    "duration": 88,
    "start_time": "2022-01-18T19:30:32.783Z"
   },
   {
    "duration": 78,
    "start_time": "2022-01-18T19:30:32.873Z"
   },
   {
    "duration": 57,
    "start_time": "2022-01-18T19:30:32.970Z"
   },
   {
    "duration": 64,
    "start_time": "2022-01-18T19:30:33.029Z"
   },
   {
    "duration": 46,
    "start_time": "2022-01-18T19:30:33.096Z"
   },
   {
    "duration": 55,
    "start_time": "2022-01-18T19:30:33.169Z"
   },
   {
    "duration": 63,
    "start_time": "2022-01-18T19:30:33.226Z"
   },
   {
    "duration": 166,
    "start_time": "2022-01-18T19:30:33.292Z"
   },
   {
    "duration": 150,
    "start_time": "2022-01-18T19:31:00.814Z"
   },
   {
    "duration": 320,
    "start_time": "2022-01-19T18:34:28.743Z"
   },
   {
    "duration": 1470,
    "start_time": "2022-01-19T18:34:35.742Z"
   },
   {
    "duration": 525,
    "start_time": "2022-01-19T18:34:37.215Z"
   },
   {
    "duration": 97,
    "start_time": "2022-01-19T18:34:37.744Z"
   },
   {
    "duration": 95,
    "start_time": "2022-01-19T18:34:37.845Z"
   },
   {
    "duration": 68,
    "start_time": "2022-01-19T18:34:37.943Z"
   },
   {
    "duration": 81,
    "start_time": "2022-01-19T18:34:38.014Z"
   },
   {
    "duration": 71,
    "start_time": "2022-01-19T18:34:38.097Z"
   },
   {
    "duration": 86,
    "start_time": "2022-01-19T18:34:38.172Z"
   },
   {
    "duration": 85,
    "start_time": "2022-01-19T18:34:38.261Z"
   },
   {
    "duration": 46,
    "start_time": "2022-01-19T18:34:38.349Z"
   },
   {
    "duration": 190,
    "start_time": "2022-01-19T18:34:38.398Z"
   },
   {
    "duration": 166,
    "start_time": "2022-01-19T18:34:51.624Z"
   },
   {
    "duration": 69,
    "start_time": "2022-01-19T18:40:03.342Z"
   },
   {
    "duration": 73,
    "start_time": "2022-01-19T18:40:13.646Z"
   },
   {
    "duration": 1660,
    "start_time": "2022-01-19T18:40:43.472Z"
   },
   {
    "duration": 807,
    "start_time": "2022-01-19T18:40:45.135Z"
   },
   {
    "duration": 145,
    "start_time": "2022-01-19T18:40:45.947Z"
   },
   {
    "duration": 138,
    "start_time": "2022-01-19T18:40:46.096Z"
   },
   {
    "duration": 152,
    "start_time": "2022-01-19T18:40:46.237Z"
   },
   {
    "duration": 98,
    "start_time": "2022-01-19T18:40:46.393Z"
   },
   {
    "duration": 91,
    "start_time": "2022-01-19T18:40:46.494Z"
   },
   {
    "duration": 92,
    "start_time": "2022-01-19T18:40:46.590Z"
   },
   {
    "duration": 114,
    "start_time": "2022-01-19T18:40:46.686Z"
   },
   {
    "duration": 91,
    "start_time": "2022-01-19T18:40:46.803Z"
   },
   {
    "duration": 280,
    "start_time": "2022-01-19T18:40:46.897Z"
   },
   {
    "duration": 41,
    "start_time": "2022-01-19T18:48:47.891Z"
   },
   {
    "duration": 46,
    "start_time": "2022-01-19T18:48:54.349Z"
   },
   {
    "duration": 58,
    "start_time": "2022-01-19T18:49:42.099Z"
   },
   {
    "duration": 46,
    "start_time": "2022-01-19T18:52:01.521Z"
   },
   {
    "duration": 13,
    "start_time": "2022-01-19T18:55:46.963Z"
   },
   {
    "duration": 55,
    "start_time": "2022-01-19T18:55:58.499Z"
   },
   {
    "duration": 23,
    "start_time": "2022-01-19T18:56:10.954Z"
   },
   {
    "duration": 69,
    "start_time": "2022-01-19T19:00:08.349Z"
   },
   {
    "duration": 474,
    "start_time": "2022-01-19T19:24:14.035Z"
   },
   {
    "duration": 1475,
    "start_time": "2022-01-19T19:29:09.174Z"
   },
   {
    "duration": 537,
    "start_time": "2022-01-19T19:29:10.652Z"
   },
   {
    "duration": 84,
    "start_time": "2022-01-19T19:29:11.193Z"
   },
   {
    "duration": 535,
    "start_time": "2022-01-19T19:29:11.281Z"
   },
   {
    "duration": -12,
    "start_time": "2022-01-19T19:29:11.831Z"
   },
   {
    "duration": -14,
    "start_time": "2022-01-19T19:29:11.835Z"
   },
   {
    "duration": -17,
    "start_time": "2022-01-19T19:29:11.839Z"
   },
   {
    "duration": -19,
    "start_time": "2022-01-19T19:29:11.843Z"
   },
   {
    "duration": -23,
    "start_time": "2022-01-19T19:29:11.848Z"
   },
   {
    "duration": -26,
    "start_time": "2022-01-19T19:29:11.853Z"
   },
   {
    "duration": -28,
    "start_time": "2022-01-19T19:29:11.856Z"
   },
   {
    "duration": -32,
    "start_time": "2022-01-19T19:29:11.862Z"
   },
   {
    "duration": 68,
    "start_time": "2022-01-19T19:31:51.240Z"
   },
   {
    "duration": 1492,
    "start_time": "2022-01-19T19:32:06.316Z"
   },
   {
    "duration": 569,
    "start_time": "2022-01-19T19:32:07.811Z"
   },
   {
    "duration": 128,
    "start_time": "2022-01-19T19:32:08.384Z"
   },
   {
    "duration": 184,
    "start_time": "2022-01-19T19:32:08.516Z"
   },
   {
    "duration": 101,
    "start_time": "2022-01-19T19:32:08.703Z"
   },
   {
    "duration": 80,
    "start_time": "2022-01-19T19:32:08.807Z"
   },
   {
    "duration": 68,
    "start_time": "2022-01-19T19:32:08.890Z"
   },
   {
    "duration": 76,
    "start_time": "2022-01-19T19:32:08.961Z"
   },
   {
    "duration": 106,
    "start_time": "2022-01-19T19:32:09.041Z"
   },
   {
    "duration": 47,
    "start_time": "2022-01-19T19:32:09.150Z"
   },
   {
    "duration": 46,
    "start_time": "2022-01-19T19:32:09.199Z"
   },
   {
    "duration": 176,
    "start_time": "2022-01-19T19:32:09.248Z"
   },
   {
    "duration": 377,
    "start_time": "2022-01-20T14:07:06.278Z"
   },
   {
    "duration": 335,
    "start_time": "2022-01-20T14:10:09.267Z"
   },
   {
    "duration": 1200,
    "start_time": "2022-01-20T14:10:15.842Z"
   },
   {
    "duration": 424,
    "start_time": "2022-01-20T14:10:17.043Z"
   },
   {
    "duration": 157,
    "start_time": "2022-01-20T14:10:17.469Z"
   },
   {
    "duration": 64,
    "start_time": "2022-01-20T14:10:17.628Z"
   },
   {
    "duration": 47,
    "start_time": "2022-01-20T14:10:17.695Z"
   },
   {
    "duration": 52,
    "start_time": "2022-01-20T14:10:17.744Z"
   },
   {
    "duration": 40,
    "start_time": "2022-01-20T14:10:17.798Z"
   },
   {
    "duration": 65,
    "start_time": "2022-01-20T14:10:17.840Z"
   },
   {
    "duration": 24,
    "start_time": "2022-01-20T14:10:17.906Z"
   },
   {
    "duration": 9,
    "start_time": "2022-01-20T14:10:17.931Z"
   },
   {
    "duration": 96,
    "start_time": "2022-01-20T14:10:17.941Z"
   },
   {
    "duration": 117,
    "start_time": "2022-01-20T14:10:18.039Z"
   },
   {
    "duration": 56,
    "start_time": "2022-01-20T14:12:04.724Z"
   },
   {
    "duration": 87,
    "start_time": "2022-01-20T14:17:47.883Z"
   },
   {
    "duration": 66,
    "start_time": "2022-01-20T14:18:06.002Z"
   },
   {
    "duration": 38,
    "start_time": "2022-01-20T14:24:11.020Z"
   },
   {
    "duration": 1214,
    "start_time": "2022-01-20T14:28:24.674Z"
   },
   {
    "duration": 406,
    "start_time": "2022-01-20T14:28:25.890Z"
   },
   {
    "duration": 57,
    "start_time": "2022-01-20T14:28:26.298Z"
   },
   {
    "duration": 49,
    "start_time": "2022-01-20T14:28:26.357Z"
   },
   {
    "duration": 30,
    "start_time": "2022-01-20T14:28:26.408Z"
   },
   {
    "duration": 55,
    "start_time": "2022-01-20T14:28:26.439Z"
   },
   {
    "duration": 34,
    "start_time": "2022-01-20T14:28:26.496Z"
   },
   {
    "duration": 47,
    "start_time": "2022-01-20T14:28:26.532Z"
   },
   {
    "duration": 9,
    "start_time": "2022-01-20T14:28:26.580Z"
   },
   {
    "duration": 87,
    "start_time": "2022-01-20T14:28:26.591Z"
   },
   {
    "duration": 40,
    "start_time": "2022-01-20T14:28:26.680Z"
   },
   {
    "duration": 107,
    "start_time": "2022-01-20T14:28:26.722Z"
   },
   {
    "duration": 65,
    "start_time": "2022-01-20T14:56:29.606Z"
   },
   {
    "duration": 32,
    "start_time": "2022-01-20T14:56:38.510Z"
   },
   {
    "duration": 36,
    "start_time": "2022-01-20T16:25:05.857Z"
   },
   {
    "duration": 26,
    "start_time": "2022-01-20T16:25:12.287Z"
   },
   {
    "duration": 8,
    "start_time": "2022-01-20T16:31:41.511Z"
   },
   {
    "duration": 62,
    "start_time": "2022-01-20T16:57:27.028Z"
   },
   {
    "duration": 53,
    "start_time": "2022-01-20T16:58:47.542Z"
   },
   {
    "duration": 35,
    "start_time": "2022-01-20T16:59:12.093Z"
   },
   {
    "duration": 8473,
    "start_time": "2022-01-20T17:00:43.821Z"
   },
   {
    "duration": 41,
    "start_time": "2022-01-20T17:01:20.136Z"
   },
   {
    "duration": 1165,
    "start_time": "2022-01-20T18:22:11.956Z"
   },
   {
    "duration": 385,
    "start_time": "2022-01-20T18:22:13.123Z"
   },
   {
    "duration": 54,
    "start_time": "2022-01-20T18:22:13.511Z"
   },
   {
    "duration": 45,
    "start_time": "2022-01-20T18:22:13.567Z"
   },
   {
    "duration": 29,
    "start_time": "2022-01-20T18:22:13.613Z"
   },
   {
    "duration": 54,
    "start_time": "2022-01-20T18:22:13.643Z"
   },
   {
    "duration": 28,
    "start_time": "2022-01-20T18:22:13.699Z"
   },
   {
    "duration": 170,
    "start_time": "2022-01-20T18:22:13.729Z"
   },
   {
    "duration": 176,
    "start_time": "2022-01-20T18:22:13.900Z"
   },
   {
    "duration": 35,
    "start_time": "2022-01-20T18:22:14.077Z"
   },
   {
    "duration": 61,
    "start_time": "2022-01-20T18:22:14.114Z"
   },
   {
    "duration": 138,
    "start_time": "2022-01-20T18:22:14.177Z"
   },
   {
    "duration": 1119,
    "start_time": "2022-01-20T18:23:02.530Z"
   },
   {
    "duration": 383,
    "start_time": "2022-01-20T18:23:03.651Z"
   },
   {
    "duration": 58,
    "start_time": "2022-01-20T18:23:04.036Z"
   },
   {
    "duration": 50,
    "start_time": "2022-01-20T18:23:04.096Z"
   },
   {
    "duration": 44,
    "start_time": "2022-01-20T18:23:04.147Z"
   },
   {
    "duration": 33,
    "start_time": "2022-01-20T18:23:04.192Z"
   },
   {
    "duration": 51,
    "start_time": "2022-01-20T18:23:04.227Z"
   },
   {
    "duration": 97,
    "start_time": "2022-01-20T18:23:04.280Z"
   },
   {
    "duration": 56,
    "start_time": "2022-01-20T18:23:04.379Z"
   },
   {
    "duration": 50,
    "start_time": "2022-01-20T18:23:04.436Z"
   },
   {
    "duration": 9,
    "start_time": "2022-01-20T18:23:04.487Z"
   },
   {
    "duration": 127,
    "start_time": "2022-01-20T18:23:04.497Z"
   },
   {
    "duration": 59,
    "start_time": "2022-01-20T18:23:27.805Z"
   },
   {
    "duration": 1143,
    "start_time": "2022-01-20T18:23:40.661Z"
   },
   {
    "duration": 369,
    "start_time": "2022-01-20T18:23:41.806Z"
   },
   {
    "duration": 57,
    "start_time": "2022-01-20T18:23:42.179Z"
   },
   {
    "duration": 66,
    "start_time": "2022-01-20T18:23:42.238Z"
   },
   {
    "duration": 29,
    "start_time": "2022-01-20T18:23:42.307Z"
   },
   {
    "duration": 55,
    "start_time": "2022-01-20T18:23:42.338Z"
   },
   {
    "duration": 24,
    "start_time": "2022-01-20T18:23:42.395Z"
   },
   {
    "duration": 112,
    "start_time": "2022-01-20T18:23:42.420Z"
   },
   {
    "duration": 83,
    "start_time": "2022-01-20T18:23:42.533Z"
   },
   {
    "duration": 34,
    "start_time": "2022-01-20T18:23:42.618Z"
   },
   {
    "duration": 25,
    "start_time": "2022-01-20T18:23:42.654Z"
   },
   {
    "duration": 114,
    "start_time": "2022-01-20T18:23:42.680Z"
   },
   {
    "duration": 29,
    "start_time": "2022-01-20T18:32:42.102Z"
   },
   {
    "duration": 40,
    "start_time": "2022-01-20T18:35:00.297Z"
   },
   {
    "duration": 15,
    "start_time": "2022-01-20T18:37:38.628Z"
   },
   {
    "duration": 1101,
    "start_time": "2022-01-20T18:50:06.003Z"
   },
   {
    "duration": 369,
    "start_time": "2022-01-20T18:50:07.106Z"
   },
   {
    "duration": 57,
    "start_time": "2022-01-20T18:50:07.479Z"
   },
   {
    "duration": 66,
    "start_time": "2022-01-20T18:50:07.537Z"
   },
   {
    "duration": 31,
    "start_time": "2022-01-20T18:50:07.605Z"
   },
   {
    "duration": 61,
    "start_time": "2022-01-20T18:50:07.638Z"
   },
   {
    "duration": 26,
    "start_time": "2022-01-20T18:50:07.702Z"
   },
   {
    "duration": 115,
    "start_time": "2022-01-20T18:50:07.729Z"
   },
   {
    "duration": 83,
    "start_time": "2022-01-20T18:50:07.846Z"
   },
   {
    "duration": 61,
    "start_time": "2022-01-20T18:50:07.931Z"
   },
   {
    "duration": 15,
    "start_time": "2022-01-20T18:50:07.994Z"
   },
   {
    "duration": 116,
    "start_time": "2022-01-20T18:50:08.010Z"
   },
   {
    "duration": 547,
    "start_time": "2022-01-20T18:52:21.615Z"
   },
   {
    "duration": 367,
    "start_time": "2022-01-20T18:52:31.195Z"
   },
   {
    "duration": 100,
    "start_time": "2022-01-20T18:52:37.654Z"
   },
   {
    "duration": 380,
    "start_time": "2022-01-20T18:53:29.506Z"
   },
   {
    "duration": 99,
    "start_time": "2022-01-20T18:53:49.900Z"
   },
   {
    "duration": 100,
    "start_time": "2022-01-20T18:58:11.775Z"
   },
   {
    "duration": 96,
    "start_time": "2022-01-21T12:55:00.345Z"
   },
   {
    "duration": 329,
    "start_time": "2022-01-21T12:55:07.678Z"
   },
   {
    "duration": 1346,
    "start_time": "2022-01-21T12:55:17.816Z"
   },
   {
    "duration": 467,
    "start_time": "2022-01-21T12:55:19.165Z"
   },
   {
    "duration": 76,
    "start_time": "2022-01-21T12:55:19.635Z"
   },
   {
    "duration": 71,
    "start_time": "2022-01-21T12:55:19.713Z"
   },
   {
    "duration": 58,
    "start_time": "2022-01-21T12:55:19.786Z"
   },
   {
    "duration": 82,
    "start_time": "2022-01-21T12:55:19.846Z"
   },
   {
    "duration": 40,
    "start_time": "2022-01-21T12:55:19.930Z"
   },
   {
    "duration": 149,
    "start_time": "2022-01-21T12:55:19.972Z"
   },
   {
    "duration": 104,
    "start_time": "2022-01-21T12:55:20.125Z"
   },
   {
    "duration": 64,
    "start_time": "2022-01-21T12:55:20.231Z"
   },
   {
    "duration": 43,
    "start_time": "2022-01-21T12:55:20.297Z"
   },
   {
    "duration": 143,
    "start_time": "2022-01-21T12:55:20.342Z"
   },
   {
    "duration": 97,
    "start_time": "2022-01-21T12:55:39.275Z"
   },
   {
    "duration": 197,
    "start_time": "2022-01-21T13:01:30.762Z"
   },
   {
    "duration": 1472,
    "start_time": "2022-01-21T18:29:59.383Z"
   },
   {
    "duration": 582,
    "start_time": "2022-01-21T18:30:00.858Z"
   },
   {
    "duration": 87,
    "start_time": "2022-01-21T18:30:01.443Z"
   },
   {
    "duration": 96,
    "start_time": "2022-01-21T18:30:01.533Z"
   },
   {
    "duration": 66,
    "start_time": "2022-01-21T18:30:01.631Z"
   },
   {
    "duration": 85,
    "start_time": "2022-01-21T18:30:01.700Z"
   },
   {
    "duration": 46,
    "start_time": "2022-01-21T18:30:01.788Z"
   },
   {
    "duration": 169,
    "start_time": "2022-01-21T18:30:01.837Z"
   },
   {
    "duration": 131,
    "start_time": "2022-01-21T18:30:02.010Z"
   },
   {
    "duration": 96,
    "start_time": "2022-01-21T18:30:02.144Z"
   },
   {
    "duration": 39,
    "start_time": "2022-01-21T18:30:02.244Z"
   },
   {
    "duration": 238,
    "start_time": "2022-01-21T18:30:02.286Z"
   },
   {
    "duration": 193,
    "start_time": "2022-01-21T18:33:03.924Z"
   },
   {
    "duration": 178,
    "start_time": "2022-01-21T18:33:32.799Z"
   },
   {
    "duration": 174,
    "start_time": "2022-01-21T18:33:41.420Z"
   },
   {
    "duration": 174,
    "start_time": "2022-01-21T18:34:06.337Z"
   },
   {
    "duration": 178,
    "start_time": "2022-01-21T18:34:11.011Z"
   },
   {
    "duration": 173,
    "start_time": "2022-01-21T18:40:23.707Z"
   },
   {
    "duration": 177,
    "start_time": "2022-01-21T18:40:32.114Z"
   },
   {
    "duration": 175,
    "start_time": "2022-01-21T18:40:37.417Z"
   },
   {
    "duration": 1495,
    "start_time": "2022-01-21T18:40:52.850Z"
   },
   {
    "duration": 554,
    "start_time": "2022-01-21T18:40:54.348Z"
   },
   {
    "duration": 81,
    "start_time": "2022-01-21T18:40:54.905Z"
   },
   {
    "duration": 90,
    "start_time": "2022-01-21T18:40:54.989Z"
   },
   {
    "duration": 46,
    "start_time": "2022-01-21T18:40:55.081Z"
   },
   {
    "duration": 78,
    "start_time": "2022-01-21T18:40:55.129Z"
   },
   {
    "duration": 78,
    "start_time": "2022-01-21T18:40:55.210Z"
   },
   {
    "duration": 155,
    "start_time": "2022-01-21T18:40:55.293Z"
   },
   {
    "duration": 126,
    "start_time": "2022-01-21T18:40:55.451Z"
   },
   {
    "duration": 89,
    "start_time": "2022-01-21T18:40:55.580Z"
   },
   {
    "duration": 25,
    "start_time": "2022-01-21T18:40:55.672Z"
   },
   {
    "duration": 198,
    "start_time": "2022-01-21T18:40:55.700Z"
   },
   {
    "duration": 1501,
    "start_time": "2022-01-21T18:49:24.973Z"
   },
   {
    "duration": 545,
    "start_time": "2022-01-21T18:49:26.477Z"
   },
   {
    "duration": 84,
    "start_time": "2022-01-21T18:49:27.025Z"
   },
   {
    "duration": 90,
    "start_time": "2022-01-21T18:49:27.112Z"
   },
   {
    "duration": 48,
    "start_time": "2022-01-21T18:49:27.204Z"
   },
   {
    "duration": 71,
    "start_time": "2022-01-21T18:49:27.254Z"
   },
   {
    "duration": 64,
    "start_time": "2022-01-21T18:49:27.327Z"
   },
   {
    "duration": 157,
    "start_time": "2022-01-21T18:49:27.394Z"
   },
   {
    "duration": 126,
    "start_time": "2022-01-21T18:49:27.554Z"
   },
   {
    "duration": 88,
    "start_time": "2022-01-21T18:49:27.682Z"
   },
   {
    "duration": 25,
    "start_time": "2022-01-21T18:49:27.773Z"
   },
   {
    "duration": 208,
    "start_time": "2022-01-21T18:49:27.801Z"
   },
   {
    "duration": 74,
    "start_time": "2022-01-21T18:59:01.835Z"
   },
   {
    "duration": 55,
    "start_time": "2022-01-21T18:59:35.200Z"
   },
   {
    "duration": 106,
    "start_time": "2022-01-21T19:00:25.879Z"
   },
   {
    "duration": 157,
    "start_time": "2022-01-21T19:00:37.177Z"
   },
   {
    "duration": 137,
    "start_time": "2022-01-21T19:01:00.370Z"
   },
   {
    "duration": 97,
    "start_time": "2022-01-21T19:02:07.149Z"
   },
   {
    "duration": 154,
    "start_time": "2022-01-21T19:02:14.867Z"
   },
   {
    "duration": 187,
    "start_time": "2022-01-21T19:02:34.430Z"
   },
   {
    "duration": 158,
    "start_time": "2022-01-21T19:02:46.532Z"
   },
   {
    "duration": 159,
    "start_time": "2022-01-21T19:03:18.287Z"
   },
   {
    "duration": 8662,
    "start_time": "2022-01-21T19:20:47.797Z"
   },
   {
    "duration": 7473,
    "start_time": "2022-01-21T19:21:38.722Z"
   },
   {
    "duration": 398,
    "start_time": "2022-01-21T19:23:17.592Z"
   },
   {
    "duration": 160,
    "start_time": "2022-01-21T19:23:25.047Z"
   },
   {
    "duration": 365,
    "start_time": "2022-01-22T13:03:32.700Z"
   },
   {
    "duration": 1144,
    "start_time": "2022-01-22T13:03:40.965Z"
   },
   {
    "duration": 354,
    "start_time": "2022-01-22T13:03:42.111Z"
   },
   {
    "duration": 54,
    "start_time": "2022-01-22T13:03:42.467Z"
   },
   {
    "duration": 63,
    "start_time": "2022-01-22T13:03:42.522Z"
   },
   {
    "duration": 29,
    "start_time": "2022-01-22T13:03:42.586Z"
   },
   {
    "duration": 34,
    "start_time": "2022-01-22T13:03:42.617Z"
   },
   {
    "duration": 23,
    "start_time": "2022-01-22T13:03:42.672Z"
   },
   {
    "duration": 100,
    "start_time": "2022-01-22T13:03:42.697Z"
   },
   {
    "duration": 82,
    "start_time": "2022-01-22T13:03:42.799Z"
   },
   {
    "duration": 47,
    "start_time": "2022-01-22T13:03:42.883Z"
   },
   {
    "duration": 14,
    "start_time": "2022-01-22T13:03:42.932Z"
   },
   {
    "duration": 540,
    "start_time": "2022-01-22T13:03:42.948Z"
   },
   {
    "duration": 388,
    "start_time": "2022-01-22T13:03:59.201Z"
   },
   {
    "duration": 137,
    "start_time": "2022-01-22T13:04:06.539Z"
   },
   {
    "duration": 103,
    "start_time": "2022-01-22T13:04:20.485Z"
   },
   {
    "duration": 101,
    "start_time": "2022-01-22T13:04:33.223Z"
   },
   {
    "duration": 8053,
    "start_time": "2022-01-22T13:11:25.556Z"
   },
   {
    "duration": 104,
    "start_time": "2022-01-22T13:11:58.907Z"
   },
   {
    "duration": 103,
    "start_time": "2022-01-22T13:12:15.149Z"
   },
   {
    "duration": 110,
    "start_time": "2022-01-22T13:12:29.344Z"
   },
   {
    "duration": 103,
    "start_time": "2022-01-22T13:13:43.684Z"
   },
   {
    "duration": 137,
    "start_time": "2022-01-22T13:13:47.184Z"
   },
   {
    "duration": 810,
    "start_time": "2022-01-22T13:20:45.841Z"
   },
   {
    "duration": 425,
    "start_time": "2022-01-22T13:20:54.261Z"
   },
   {
    "duration": 125,
    "start_time": "2022-01-22T13:21:21.540Z"
   },
   {
    "duration": 116,
    "start_time": "2022-01-22T13:21:44.535Z"
   },
   {
    "duration": 112,
    "start_time": "2022-01-22T13:22:09.147Z"
   },
   {
    "duration": 128,
    "start_time": "2022-01-22T13:22:56.523Z"
   },
   {
    "duration": 401,
    "start_time": "2022-01-22T13:31:33.693Z"
   },
   {
    "duration": 128,
    "start_time": "2022-01-22T13:31:48.477Z"
   },
   {
    "duration": 116,
    "start_time": "2022-01-22T13:32:09.149Z"
   },
   {
    "duration": 115,
    "start_time": "2022-01-22T13:32:24.625Z"
   },
   {
    "duration": 119,
    "start_time": "2022-01-22T13:32:47.390Z"
   },
   {
    "duration": 110,
    "start_time": "2022-01-22T13:33:37.670Z"
   },
   {
    "duration": 107,
    "start_time": "2022-01-22T13:34:46.753Z"
   },
   {
    "duration": 118,
    "start_time": "2022-01-22T14:10:44.016Z"
   },
   {
    "duration": 110,
    "start_time": "2022-01-22T14:11:08.414Z"
   },
   {
    "duration": 119,
    "start_time": "2022-01-22T14:11:57.701Z"
   },
   {
    "duration": 118,
    "start_time": "2022-01-22T14:12:03.163Z"
   },
   {
    "duration": 114,
    "start_time": "2022-01-22T14:29:11.385Z"
   },
   {
    "duration": 119,
    "start_time": "2022-01-22T14:33:34.517Z"
   },
   {
    "duration": 310,
    "start_time": "2022-01-22T14:52:32.249Z"
   },
   {
    "duration": 198,
    "start_time": "2022-01-22T14:52:52.690Z"
   },
   {
    "duration": 321,
    "start_time": "2022-01-22T14:53:27.799Z"
   },
   {
    "duration": 1374,
    "start_time": "2022-01-22T14:53:40.198Z"
   },
   {
    "duration": 371,
    "start_time": "2022-01-22T14:53:41.574Z"
   },
   {
    "duration": 54,
    "start_time": "2022-01-22T14:53:41.947Z"
   },
   {
    "duration": 49,
    "start_time": "2022-01-22T14:53:42.003Z"
   },
   {
    "duration": 47,
    "start_time": "2022-01-22T14:53:42.054Z"
   },
   {
    "duration": 33,
    "start_time": "2022-01-22T14:53:42.103Z"
   },
   {
    "duration": 50,
    "start_time": "2022-01-22T14:53:42.138Z"
   },
   {
    "duration": 100,
    "start_time": "2022-01-22T14:53:42.190Z"
   },
   {
    "duration": 82,
    "start_time": "2022-01-22T14:53:42.292Z"
   },
   {
    "duration": 49,
    "start_time": "2022-01-22T14:53:42.375Z"
   },
   {
    "duration": 16,
    "start_time": "2022-01-22T14:53:42.425Z"
   },
   {
    "duration": 144,
    "start_time": "2022-01-22T14:53:42.443Z"
   },
   {
    "duration": 213,
    "start_time": "2022-01-22T14:53:42.588Z"
   },
   {
    "duration": 223,
    "start_time": "2022-01-22T14:54:13.839Z"
   },
   {
    "duration": 186,
    "start_time": "2022-01-22T14:54:54.869Z"
   },
   {
    "duration": 176,
    "start_time": "2022-01-22T14:56:11.683Z"
   },
   {
    "duration": 72,
    "start_time": "2022-01-22T14:59:48.863Z"
   },
   {
    "duration": 543,
    "start_time": "2022-01-22T15:41:33.890Z"
   },
   {
    "duration": 1122,
    "start_time": "2022-01-22T15:42:33.486Z"
   },
   {
    "duration": 498,
    "start_time": "2022-01-22T15:42:34.609Z"
   },
   {
    "duration": 100,
    "start_time": "2022-01-22T15:42:35.109Z"
   },
   {
    "duration": 100,
    "start_time": "2022-01-22T15:42:35.211Z"
   },
   {
    "duration": 59,
    "start_time": "2022-01-22T15:42:35.313Z"
   },
   {
    "duration": 32,
    "start_time": "2022-01-22T15:42:35.374Z"
   },
   {
    "duration": 25,
    "start_time": "2022-01-22T15:42:35.407Z"
   },
   {
    "duration": 112,
    "start_time": "2022-01-22T15:42:35.434Z"
   },
   {
    "duration": 81,
    "start_time": "2022-01-22T15:42:35.548Z"
   },
   {
    "duration": 61,
    "start_time": "2022-01-22T15:42:35.630Z"
   },
   {
    "duration": 15,
    "start_time": "2022-01-22T15:42:35.693Z"
   },
   {
    "duration": 483,
    "start_time": "2022-01-22T15:42:35.709Z"
   },
   {
    "duration": 27,
    "start_time": "2022-01-22T15:42:36.166Z"
   },
   {
    "duration": 23,
    "start_time": "2022-01-22T15:42:36.172Z"
   },
   {
    "duration": 466,
    "start_time": "2022-01-22T15:42:52.749Z"
   },
   {
    "duration": 1212,
    "start_time": "2022-01-22T15:44:20.432Z"
   },
   {
    "duration": 379,
    "start_time": "2022-01-22T15:44:21.645Z"
   },
   {
    "duration": 57,
    "start_time": "2022-01-22T15:44:22.026Z"
   },
   {
    "duration": 46,
    "start_time": "2022-01-22T15:44:22.085Z"
   },
   {
    "duration": 41,
    "start_time": "2022-01-22T15:44:22.133Z"
   },
   {
    "duration": 386,
    "start_time": "2022-01-22T15:44:22.176Z"
   },
   {
    "duration": -142,
    "start_time": "2022-01-22T15:44:22.706Z"
   },
   {
    "duration": -148,
    "start_time": "2022-01-22T15:44:22.713Z"
   },
   {
    "duration": -153,
    "start_time": "2022-01-22T15:44:22.718Z"
   },
   {
    "duration": -160,
    "start_time": "2022-01-22T15:44:22.726Z"
   },
   {
    "duration": -163,
    "start_time": "2022-01-22T15:44:22.730Z"
   },
   {
    "duration": -198,
    "start_time": "2022-01-22T15:44:22.766Z"
   },
   {
    "duration": -201,
    "start_time": "2022-01-22T15:44:22.769Z"
   },
   {
    "duration": -202,
    "start_time": "2022-01-22T15:44:22.771Z"
   },
   {
    "duration": 1103,
    "start_time": "2022-01-22T15:44:55.507Z"
   },
   {
    "duration": 367,
    "start_time": "2022-01-22T15:44:56.612Z"
   },
   {
    "duration": 57,
    "start_time": "2022-01-22T15:44:56.981Z"
   },
   {
    "duration": 58,
    "start_time": "2022-01-22T15:44:57.040Z"
   },
   {
    "duration": 29,
    "start_time": "2022-01-22T15:44:57.099Z"
   },
   {
    "duration": 59,
    "start_time": "2022-01-22T15:44:57.129Z"
   },
   {
    "duration": 26,
    "start_time": "2022-01-22T15:44:57.190Z"
   },
   {
    "duration": 104,
    "start_time": "2022-01-22T15:44:57.218Z"
   },
   {
    "duration": 81,
    "start_time": "2022-01-22T15:44:57.324Z"
   },
   {
    "duration": 47,
    "start_time": "2022-01-22T15:44:57.406Z"
   },
   {
    "duration": 27,
    "start_time": "2022-01-22T15:44:57.454Z"
   },
   {
    "duration": 468,
    "start_time": "2022-01-22T15:44:57.482Z"
   },
   {
    "duration": -42,
    "start_time": "2022-01-22T15:44:57.994Z"
   },
   {
    "duration": -46,
    "start_time": "2022-01-22T15:44:57.999Z"
   },
   {
    "duration": 447,
    "start_time": "2022-01-22T15:46:05.821Z"
   },
   {
    "duration": 1114,
    "start_time": "2022-01-22T15:46:17.489Z"
   },
   {
    "duration": 373,
    "start_time": "2022-01-22T15:46:18.604Z"
   },
   {
    "duration": 56,
    "start_time": "2022-01-22T15:46:18.979Z"
   },
   {
    "duration": 59,
    "start_time": "2022-01-22T15:46:19.037Z"
   },
   {
    "duration": 28,
    "start_time": "2022-01-22T15:46:19.097Z"
   },
   {
    "duration": 57,
    "start_time": "2022-01-22T15:46:19.126Z"
   },
   {
    "duration": 24,
    "start_time": "2022-01-22T15:46:19.184Z"
   },
   {
    "duration": 103,
    "start_time": "2022-01-22T15:46:19.210Z"
   },
   {
    "duration": 82,
    "start_time": "2022-01-22T15:46:19.315Z"
   },
   {
    "duration": 51,
    "start_time": "2022-01-22T15:46:19.399Z"
   },
   {
    "duration": 33,
    "start_time": "2022-01-22T15:46:19.451Z"
   },
   {
    "duration": 481,
    "start_time": "2022-01-22T15:46:19.486Z"
   },
   {
    "duration": -43,
    "start_time": "2022-01-22T15:46:20.013Z"
   },
   {
    "duration": -44,
    "start_time": "2022-01-22T15:46:20.015Z"
   },
   {
    "duration": 403,
    "start_time": "2022-01-22T15:53:30.142Z"
   },
   {
    "duration": 117,
    "start_time": "2022-01-22T15:53:50.647Z"
   },
   {
    "duration": 115,
    "start_time": "2022-01-22T16:04:28.146Z"
   },
   {
    "duration": 8914,
    "start_time": "2022-01-22T16:05:00.914Z"
   },
   {
    "duration": 246,
    "start_time": "2022-01-22T16:05:56.671Z"
   },
   {
    "duration": 222,
    "start_time": "2022-01-22T16:06:20.382Z"
   },
   {
    "duration": 226,
    "start_time": "2022-01-22T16:06:35.173Z"
   },
   {
    "duration": 215,
    "start_time": "2022-01-22T16:06:49.512Z"
   },
   {
    "duration": 122,
    "start_time": "2022-01-22T16:07:57.472Z"
   },
   {
    "duration": 1490,
    "start_time": "2022-01-23T10:27:25.850Z"
   },
   {
    "duration": 515,
    "start_time": "2022-01-23T10:27:27.343Z"
   },
   {
    "duration": 79,
    "start_time": "2022-01-23T10:27:27.861Z"
   },
   {
    "duration": 91,
    "start_time": "2022-01-23T10:27:27.943Z"
   },
   {
    "duration": 73,
    "start_time": "2022-01-23T10:27:28.036Z"
   },
   {
    "duration": 87,
    "start_time": "2022-01-23T10:27:28.111Z"
   },
   {
    "duration": 69,
    "start_time": "2022-01-23T10:27:28.200Z"
   },
   {
    "duration": 137,
    "start_time": "2022-01-23T10:27:28.273Z"
   },
   {
    "duration": 129,
    "start_time": "2022-01-23T10:27:28.413Z"
   },
   {
    "duration": 84,
    "start_time": "2022-01-23T10:27:28.544Z"
   },
   {
    "duration": 44,
    "start_time": "2022-01-23T10:27:28.631Z"
   },
   {
    "duration": 217,
    "start_time": "2022-01-23T10:27:28.677Z"
   },
   {
    "duration": 3,
    "start_time": "2022-01-23T10:27:28.896Z"
   },
   {
    "duration": 396,
    "start_time": "2022-01-23T10:27:28.901Z"
   },
   {
    "duration": 419,
    "start_time": "2022-01-23T10:35:58.610Z"
   },
   {
    "duration": 377,
    "start_time": "2022-01-23T10:39:38.780Z"
   },
   {
    "duration": 397,
    "start_time": "2022-01-23T10:40:45.538Z"
   },
   {
    "duration": 91,
    "start_time": "2022-01-23T11:12:44.858Z"
   },
   {
    "duration": 415,
    "start_time": "2022-01-23T11:12:58.937Z"
   },
   {
    "duration": 52,
    "start_time": "2022-01-23T11:16:01.240Z"
   },
   {
    "duration": 87,
    "start_time": "2022-01-23T11:18:24.897Z"
   },
   {
    "duration": 54,
    "start_time": "2022-01-23T11:19:12.330Z"
   },
   {
    "duration": 319,
    "start_time": "2022-01-23T11:20:50.711Z"
   },
   {
    "duration": 55,
    "start_time": "2022-01-23T11:21:06.358Z"
   },
   {
    "duration": 46,
    "start_time": "2022-01-23T11:21:28.666Z"
   },
   {
    "duration": 47,
    "start_time": "2022-01-23T11:22:15.434Z"
   },
   {
    "duration": 53,
    "start_time": "2022-01-23T11:22:29.736Z"
   },
   {
    "duration": 1507,
    "start_time": "2022-01-23T11:28:00.639Z"
   },
   {
    "duration": 518,
    "start_time": "2022-01-23T11:28:02.148Z"
   },
   {
    "duration": 80,
    "start_time": "2022-01-23T11:28:02.669Z"
   },
   {
    "duration": 85,
    "start_time": "2022-01-23T11:28:02.752Z"
   },
   {
    "duration": 62,
    "start_time": "2022-01-23T11:28:02.839Z"
   },
   {
    "duration": 84,
    "start_time": "2022-01-23T11:28:02.903Z"
   },
   {
    "duration": 43,
    "start_time": "2022-01-23T11:28:02.989Z"
   },
   {
    "duration": 163,
    "start_time": "2022-01-23T11:28:03.036Z"
   },
   {
    "duration": 125,
    "start_time": "2022-01-23T11:28:03.202Z"
   },
   {
    "duration": 88,
    "start_time": "2022-01-23T11:28:03.330Z"
   },
   {
    "duration": 25,
    "start_time": "2022-01-23T11:28:03.421Z"
   },
   {
    "duration": 152,
    "start_time": "2022-01-23T11:28:03.448Z"
   },
   {
    "duration": 126,
    "start_time": "2022-01-23T11:28:03.603Z"
   },
   {
    "duration": 7820,
    "start_time": "2022-01-23T11:28:03.731Z"
   },
   {
    "duration": 115,
    "start_time": "2022-01-23T11:31:16.907Z"
   },
   {
    "duration": 2266,
    "start_time": "2022-01-23T11:31:30.233Z"
   },
   {
    "duration": 562,
    "start_time": "2022-01-23T11:31:32.502Z"
   },
   {
    "duration": 125,
    "start_time": "2022-01-23T11:31:33.071Z"
   },
   {
    "duration": 103,
    "start_time": "2022-01-23T11:31:33.199Z"
   },
   {
    "duration": 83,
    "start_time": "2022-01-23T11:31:33.305Z"
   },
   {
    "duration": 86,
    "start_time": "2022-01-23T11:31:33.390Z"
   },
   {
    "duration": 45,
    "start_time": "2022-01-23T11:31:33.479Z"
   },
   {
    "duration": 182,
    "start_time": "2022-01-23T11:31:33.529Z"
   },
   {
    "duration": 135,
    "start_time": "2022-01-23T11:31:33.714Z"
   },
   {
    "duration": 89,
    "start_time": "2022-01-23T11:31:33.852Z"
   },
   {
    "duration": 43,
    "start_time": "2022-01-23T11:31:33.944Z"
   },
   {
    "duration": 146,
    "start_time": "2022-01-23T11:31:33.989Z"
   },
   {
    "duration": 169,
    "start_time": "2022-01-23T11:31:34.138Z"
   },
   {
    "duration": 504,
    "start_time": "2022-01-23T11:31:34.310Z"
   },
   {
    "duration": 503,
    "start_time": "2022-01-23T11:35:42.994Z"
   },
   {
    "duration": 122,
    "start_time": "2022-01-23T11:35:51.799Z"
   },
   {
    "duration": 132,
    "start_time": "2022-01-23T11:47:03.717Z"
   },
   {
    "duration": 1423,
    "start_time": "2022-01-23T11:47:13.420Z"
   },
   {
    "duration": 516,
    "start_time": "2022-01-23T11:47:14.845Z"
   },
   {
    "duration": 82,
    "start_time": "2022-01-23T11:47:15.364Z"
   },
   {
    "duration": 90,
    "start_time": "2022-01-23T11:47:15.449Z"
   },
   {
    "duration": 61,
    "start_time": "2022-01-23T11:47:15.541Z"
   },
   {
    "duration": 85,
    "start_time": "2022-01-23T11:47:15.605Z"
   },
   {
    "duration": 43,
    "start_time": "2022-01-23T11:47:15.692Z"
   },
   {
    "duration": 165,
    "start_time": "2022-01-23T11:47:15.740Z"
   },
   {
    "duration": 126,
    "start_time": "2022-01-23T11:47:15.908Z"
   },
   {
    "duration": 84,
    "start_time": "2022-01-23T11:47:16.036Z"
   },
   {
    "duration": 25,
    "start_time": "2022-01-23T11:47:16.122Z"
   },
   {
    "duration": 150,
    "start_time": "2022-01-23T11:47:16.149Z"
   },
   {
    "duration": 7547,
    "start_time": "2022-01-23T11:47:16.301Z"
   },
   {
    "duration": -85,
    "start_time": "2022-01-23T11:47:23.935Z"
   },
   {
    "duration": 114,
    "start_time": "2022-01-23T11:47:57.545Z"
   },
   {
    "duration": 1519,
    "start_time": "2022-01-23T11:48:04.241Z"
   },
   {
    "duration": 538,
    "start_time": "2022-01-23T11:48:05.763Z"
   },
   {
    "duration": 84,
    "start_time": "2022-01-23T11:48:06.304Z"
   },
   {
    "duration": 85,
    "start_time": "2022-01-23T11:48:06.390Z"
   },
   {
    "duration": 44,
    "start_time": "2022-01-23T11:48:06.478Z"
   },
   {
    "duration": 89,
    "start_time": "2022-01-23T11:48:06.524Z"
   },
   {
    "duration": 67,
    "start_time": "2022-01-23T11:48:06.615Z"
   },
   {
    "duration": 150,
    "start_time": "2022-01-23T11:48:06.687Z"
   },
   {
    "duration": 140,
    "start_time": "2022-01-23T11:48:06.840Z"
   },
   {
    "duration": 99,
    "start_time": "2022-01-23T11:48:06.984Z"
   },
   {
    "duration": 28,
    "start_time": "2022-01-23T11:48:07.085Z"
   },
   {
    "duration": 155,
    "start_time": "2022-01-23T11:48:07.115Z"
   },
   {
    "duration": 225,
    "start_time": "2022-01-23T11:48:07.273Z"
   },
   {
    "duration": 685,
    "start_time": "2022-01-23T11:48:07.500Z"
   },
   {
    "duration": 116,
    "start_time": "2022-01-23T11:51:46.042Z"
   },
   {
    "duration": 428,
    "start_time": "2022-01-23T11:53:40.692Z"
   },
   {
    "duration": 114,
    "start_time": "2022-01-23T12:24:14.081Z"
   },
   {
    "duration": 1508,
    "start_time": "2022-01-23T12:45:31.944Z"
   },
   {
    "duration": 506,
    "start_time": "2022-01-23T12:45:33.455Z"
   },
   {
    "duration": 79,
    "start_time": "2022-01-23T12:45:33.964Z"
   },
   {
    "duration": 83,
    "start_time": "2022-01-23T12:45:34.046Z"
   },
   {
    "duration": 67,
    "start_time": "2022-01-23T12:45:34.131Z"
   },
   {
    "duration": 87,
    "start_time": "2022-01-23T12:45:34.201Z"
   },
   {
    "duration": 43,
    "start_time": "2022-01-23T12:45:34.291Z"
   },
   {
    "duration": 153,
    "start_time": "2022-01-23T12:45:34.337Z"
   },
   {
    "duration": 127,
    "start_time": "2022-01-23T12:45:34.493Z"
   },
   {
    "duration": 88,
    "start_time": "2022-01-23T12:45:34.623Z"
   },
   {
    "duration": 24,
    "start_time": "2022-01-23T12:45:34.713Z"
   },
   {
    "duration": 143,
    "start_time": "2022-01-23T12:45:34.740Z"
   },
   {
    "duration": 123,
    "start_time": "2022-01-23T12:45:34.886Z"
   },
   {
    "duration": 443,
    "start_time": "2022-01-23T12:45:35.011Z"
   },
   {
    "duration": 1472,
    "start_time": "2022-01-23T12:53:01.974Z"
   },
   {
    "duration": 518,
    "start_time": "2022-01-23T12:53:03.448Z"
   },
   {
    "duration": 84,
    "start_time": "2022-01-23T12:53:03.969Z"
   },
   {
    "duration": 75,
    "start_time": "2022-01-23T12:53:04.069Z"
   },
   {
    "duration": 51,
    "start_time": "2022-01-23T12:53:04.169Z"
   },
   {
    "duration": 81,
    "start_time": "2022-01-23T12:53:04.223Z"
   },
   {
    "duration": 68,
    "start_time": "2022-01-23T12:53:04.307Z"
   },
   {
    "duration": 238,
    "start_time": "2022-01-23T12:53:04.377Z"
   },
   {
    "duration": 126,
    "start_time": "2022-01-23T12:53:04.619Z"
   },
   {
    "duration": 137,
    "start_time": "2022-01-23T12:53:04.748Z"
   },
   {
    "duration": 436,
    "start_time": "2022-01-23T12:53:04.888Z"
   },
   {
    "duration": 77,
    "start_time": "2022-01-23T12:53:05.326Z"
   },
   {
    "duration": 106,
    "start_time": "2022-01-23T12:54:08.001Z"
   },
   {
    "duration": 4,
    "start_time": "2022-01-23T12:54:46.973Z"
   },
   {
    "duration": 1477,
    "start_time": "2022-01-23T12:54:52.666Z"
   },
   {
    "duration": 542,
    "start_time": "2022-01-23T12:54:54.146Z"
   },
   {
    "duration": 92,
    "start_time": "2022-01-23T12:54:54.696Z"
   },
   {
    "duration": 95,
    "start_time": "2022-01-23T12:54:54.791Z"
   },
   {
    "duration": 45,
    "start_time": "2022-01-23T12:54:54.889Z"
   },
   {
    "duration": 85,
    "start_time": "2022-01-23T12:54:54.936Z"
   },
   {
    "duration": 70,
    "start_time": "2022-01-23T12:54:55.024Z"
   },
   {
    "duration": 208,
    "start_time": "2022-01-23T12:54:55.097Z"
   },
   {
    "duration": 136,
    "start_time": "2022-01-23T12:54:55.307Z"
   },
   {
    "duration": 125,
    "start_time": "2022-01-23T12:54:55.446Z"
   },
   {
    "duration": 433,
    "start_time": "2022-01-23T12:54:55.574Z"
   },
   {
    "duration": 83,
    "start_time": "2022-01-23T12:54:56.009Z"
   },
   {
    "duration": 396,
    "start_time": "2022-01-23T12:55:24.989Z"
   },
   {
    "duration": 468,
    "start_time": "2022-01-23T12:56:17.304Z"
   },
   {
    "duration": 468,
    "start_time": "2022-01-23T12:56:32.438Z"
   },
   {
    "duration": 413,
    "start_time": "2022-01-23T12:56:59.808Z"
   },
   {
    "duration": 768,
    "start_time": "2022-01-23T13:00:43.986Z"
   },
   {
    "duration": 2840,
    "start_time": "2022-01-23T13:00:51.724Z"
   },
   {
    "duration": 620,
    "start_time": "2022-01-23T13:01:34.037Z"
   },
   {
    "duration": 1131,
    "start_time": "2022-01-23T13:01:42.433Z"
   },
   {
    "duration": 422,
    "start_time": "2022-01-23T13:01:58.097Z"
   },
   {
    "duration": 421,
    "start_time": "2022-01-23T13:07:43.410Z"
   },
   {
    "duration": 406,
    "start_time": "2022-01-23T13:13:21.868Z"
   },
   {
    "duration": 87,
    "start_time": "2022-01-23T13:14:20.281Z"
   },
   {
    "duration": 90,
    "start_time": "2022-01-23T13:14:37.958Z"
   },
   {
    "duration": 1548,
    "start_time": "2022-01-23T13:15:08.102Z"
   },
   {
    "duration": 660,
    "start_time": "2022-01-23T13:15:09.652Z"
   },
   {
    "duration": 85,
    "start_time": "2022-01-23T13:15:10.316Z"
   },
   {
    "duration": 96,
    "start_time": "2022-01-23T13:15:10.405Z"
   },
   {
    "duration": 46,
    "start_time": "2022-01-23T13:15:10.503Z"
   },
   {
    "duration": 59,
    "start_time": "2022-01-23T13:15:10.569Z"
   },
   {
    "duration": 73,
    "start_time": "2022-01-23T13:15:10.631Z"
   },
   {
    "duration": 208,
    "start_time": "2022-01-23T13:15:10.707Z"
   },
   {
    "duration": 151,
    "start_time": "2022-01-23T13:15:10.918Z"
   },
   {
    "duration": 122,
    "start_time": "2022-01-23T13:15:11.071Z"
   },
   {
    "duration": 427,
    "start_time": "2022-01-23T13:15:11.196Z"
   },
   {
    "duration": 118,
    "start_time": "2022-01-23T13:15:11.626Z"
   },
   {
    "duration": 415,
    "start_time": "2022-01-23T13:16:12.989Z"
   },
   {
    "duration": 94,
    "start_time": "2022-01-23T13:17:49.294Z"
   },
   {
    "duration": 96,
    "start_time": "2022-01-23T13:18:08.328Z"
   },
   {
    "duration": 107,
    "start_time": "2022-01-23T13:21:57.041Z"
   },
   {
    "duration": 102,
    "start_time": "2022-01-23T13:22:07.388Z"
   },
   {
    "duration": 95,
    "start_time": "2022-01-23T13:22:45.827Z"
   },
   {
    "duration": 1466,
    "start_time": "2022-01-23T13:24:01.893Z"
   },
   {
    "duration": 524,
    "start_time": "2022-01-23T13:24:03.362Z"
   },
   {
    "duration": 81,
    "start_time": "2022-01-23T13:24:03.889Z"
   },
   {
    "duration": 71,
    "start_time": "2022-01-23T13:24:03.973Z"
   },
   {
    "duration": 46,
    "start_time": "2022-01-23T13:24:04.070Z"
   },
   {
    "duration": 87,
    "start_time": "2022-01-23T13:24:04.119Z"
   },
   {
    "duration": 64,
    "start_time": "2022-01-23T13:24:04.208Z"
   },
   {
    "duration": 198,
    "start_time": "2022-01-23T13:24:04.275Z"
   },
   {
    "duration": 126,
    "start_time": "2022-01-23T13:24:04.475Z"
   },
   {
    "duration": 112,
    "start_time": "2022-01-23T13:24:04.603Z"
   },
   {
    "duration": 429,
    "start_time": "2022-01-23T13:24:04.719Z"
   },
   {
    "duration": 118,
    "start_time": "2022-01-23T13:24:05.151Z"
   },
   {
    "duration": 108,
    "start_time": "2022-01-23T13:24:52.761Z"
   },
   {
    "duration": 135,
    "start_time": "2022-01-23T13:25:26.863Z"
   },
   {
    "duration": 150,
    "start_time": "2022-01-23T13:26:02.991Z"
   },
   {
    "duration": 1455,
    "start_time": "2022-01-23T13:27:44.986Z"
   },
   {
    "duration": 495,
    "start_time": "2022-01-23T13:27:46.444Z"
   },
   {
    "duration": 83,
    "start_time": "2022-01-23T13:27:46.943Z"
   },
   {
    "duration": 83,
    "start_time": "2022-01-23T13:27:47.029Z"
   },
   {
    "duration": 66,
    "start_time": "2022-01-23T13:27:47.115Z"
   },
   {
    "duration": 57,
    "start_time": "2022-01-23T13:27:47.183Z"
   },
   {
    "duration": 67,
    "start_time": "2022-01-23T13:27:47.242Z"
   },
   {
    "duration": 207,
    "start_time": "2022-01-23T13:27:47.313Z"
   },
   {
    "duration": 118,
    "start_time": "2022-01-23T13:27:47.523Z"
   },
   {
    "duration": 109,
    "start_time": "2022-01-23T13:27:47.644Z"
   },
   {
    "duration": 431,
    "start_time": "2022-01-23T13:27:47.755Z"
   },
   {
    "duration": 175,
    "start_time": "2022-01-23T13:27:48.189Z"
   },
   {
    "duration": 9357,
    "start_time": "2022-01-23T13:33:41.614Z"
   },
   {
    "duration": 102,
    "start_time": "2022-01-23T13:34:03.769Z"
   },
   {
    "duration": 1482,
    "start_time": "2022-01-23T13:34:10.669Z"
   },
   {
    "duration": 516,
    "start_time": "2022-01-23T13:34:12.154Z"
   },
   {
    "duration": 100,
    "start_time": "2022-01-23T13:34:12.673Z"
   },
   {
    "duration": 96,
    "start_time": "2022-01-23T13:34:12.776Z"
   },
   {
    "duration": 52,
    "start_time": "2022-01-23T13:34:12.874Z"
   },
   {
    "duration": 84,
    "start_time": "2022-01-23T13:34:12.929Z"
   },
   {
    "duration": 68,
    "start_time": "2022-01-23T13:34:13.016Z"
   },
   {
    "duration": 199,
    "start_time": "2022-01-23T13:34:13.087Z"
   },
   {
    "duration": 122,
    "start_time": "2022-01-23T13:34:13.289Z"
   },
   {
    "duration": 113,
    "start_time": "2022-01-23T13:34:13.413Z"
   },
   {
    "duration": 429,
    "start_time": "2022-01-23T13:34:13.528Z"
   },
   {
    "duration": 150,
    "start_time": "2022-01-23T13:34:13.960Z"
   },
   {
    "duration": 1524,
    "start_time": "2022-01-23T13:44:19.442Z"
   },
   {
    "duration": 515,
    "start_time": "2022-01-23T13:44:20.970Z"
   },
   {
    "duration": 86,
    "start_time": "2022-01-23T13:44:21.489Z"
   },
   {
    "duration": 71,
    "start_time": "2022-01-23T13:44:21.577Z"
   },
   {
    "duration": 48,
    "start_time": "2022-01-23T13:44:21.669Z"
   },
   {
    "duration": 81,
    "start_time": "2022-01-23T13:44:21.719Z"
   },
   {
    "duration": 69,
    "start_time": "2022-01-23T13:44:21.802Z"
   },
   {
    "duration": 195,
    "start_time": "2022-01-23T13:44:21.874Z"
   },
   {
    "duration": 117,
    "start_time": "2022-01-23T13:44:22.072Z"
   },
   {
    "duration": 108,
    "start_time": "2022-01-23T13:44:22.191Z"
   },
   {
    "duration": 421,
    "start_time": "2022-01-23T13:44:22.301Z"
   },
   {
    "duration": 135,
    "start_time": "2022-01-23T13:44:22.724Z"
   },
   {
    "duration": 119,
    "start_time": "2022-01-23T13:46:25.615Z"
   },
   {
    "duration": 69,
    "start_time": "2022-01-23T13:46:37.614Z"
   },
   {
    "duration": 382,
    "start_time": "2022-01-23T13:47:25.078Z"
   },
   {
    "duration": 379,
    "start_time": "2022-01-23T13:47:33.426Z"
   },
   {
    "duration": 390,
    "start_time": "2022-01-23T13:47:37.328Z"
   },
   {
    "duration": 119,
    "start_time": "2022-01-23T13:47:44.108Z"
   },
   {
    "duration": 384,
    "start_time": "2022-01-23T13:48:15.377Z"
   },
   {
    "duration": 384,
    "start_time": "2022-01-23T13:48:20.195Z"
   },
   {
    "duration": 390,
    "start_time": "2022-01-23T13:48:58.532Z"
   },
   {
    "duration": 1600,
    "start_time": "2022-01-23T13:56:04.169Z"
   },
   {
    "duration": 548,
    "start_time": "2022-01-23T13:56:05.772Z"
   },
   {
    "duration": 86,
    "start_time": "2022-01-23T13:56:06.324Z"
   },
   {
    "duration": 104,
    "start_time": "2022-01-23T13:56:06.414Z"
   },
   {
    "duration": 71,
    "start_time": "2022-01-23T13:56:06.520Z"
   },
   {
    "duration": 88,
    "start_time": "2022-01-23T13:56:06.593Z"
   },
   {
    "duration": 45,
    "start_time": "2022-01-23T13:56:06.683Z"
   },
   {
    "duration": 227,
    "start_time": "2022-01-23T13:56:06.731Z"
   },
   {
    "duration": 143,
    "start_time": "2022-01-23T13:56:06.961Z"
   },
   {
    "duration": 104,
    "start_time": "2022-01-23T13:56:07.106Z"
   },
   {
    "duration": 412,
    "start_time": "2022-01-23T13:56:07.213Z"
   },
   {
    "duration": 131,
    "start_time": "2022-01-23T13:56:07.629Z"
   },
   {
    "duration": 106,
    "start_time": "2022-01-23T14:01:35.390Z"
   },
   {
    "duration": 411,
    "start_time": "2022-01-23T14:02:40.995Z"
   },
   {
    "duration": 85,
    "start_time": "2022-01-23T14:03:03.823Z"
   },
   {
    "duration": 95,
    "start_time": "2022-01-23T14:03:14.198Z"
   },
   {
    "duration": 392,
    "start_time": "2022-01-23T14:03:19.756Z"
   },
   {
    "duration": 377,
    "start_time": "2022-01-23T14:03:33.054Z"
   },
   {
    "duration": 406,
    "start_time": "2022-01-23T14:03:42.570Z"
   },
   {
    "duration": 386,
    "start_time": "2022-01-23T14:04:06.818Z"
   },
   {
    "duration": 383,
    "start_time": "2022-01-23T14:04:30.544Z"
   },
   {
    "duration": 413,
    "start_time": "2022-01-23T14:19:52.304Z"
   },
   {
    "duration": 404,
    "start_time": "2022-01-23T14:20:06.011Z"
   },
   {
    "duration": 429,
    "start_time": "2022-01-23T14:21:37.493Z"
   },
   {
    "duration": 1417,
    "start_time": "2022-01-23T14:22:12.414Z"
   },
   {
    "duration": 869,
    "start_time": "2022-01-23T14:22:13.833Z"
   },
   {
    "duration": 82,
    "start_time": "2022-01-23T14:22:14.705Z"
   },
   {
    "duration": 88,
    "start_time": "2022-01-23T14:22:14.789Z"
   },
   {
    "duration": 45,
    "start_time": "2022-01-23T14:22:14.879Z"
   },
   {
    "duration": 80,
    "start_time": "2022-01-23T14:22:14.926Z"
   },
   {
    "duration": 67,
    "start_time": "2022-01-23T14:22:15.008Z"
   },
   {
    "duration": 201,
    "start_time": "2022-01-23T14:22:15.079Z"
   },
   {
    "duration": 151,
    "start_time": "2022-01-23T14:22:15.283Z"
   },
   {
    "duration": 90,
    "start_time": "2022-01-23T14:22:15.437Z"
   },
   {
    "duration": 425,
    "start_time": "2022-01-23T14:22:15.530Z"
   },
   {
    "duration": 119,
    "start_time": "2022-01-23T14:22:15.958Z"
   },
   {
    "duration": 548,
    "start_time": "2022-01-23T14:22:16.080Z"
   },
   {
    "duration": 67,
    "start_time": "2022-01-23T14:23:29.941Z"
   },
   {
    "duration": 11,
    "start_time": "2022-01-23T14:24:02.979Z"
   },
   {
    "duration": 11,
    "start_time": "2022-01-23T14:50:37.566Z"
   },
   {
    "duration": 10,
    "start_time": "2022-01-23T14:51:05.830Z"
   },
   {
    "duration": 6,
    "start_time": "2022-01-23T14:51:51.083Z"
   },
   {
    "duration": 12,
    "start_time": "2022-01-23T14:52:00.024Z"
   },
   {
    "duration": 7,
    "start_time": "2022-01-23T14:52:22.429Z"
   },
   {
    "duration": 15,
    "start_time": "2022-01-23T14:52:34.113Z"
   },
   {
    "duration": 7,
    "start_time": "2022-01-23T14:52:59.803Z"
   },
   {
    "duration": 334,
    "start_time": "2022-01-23T14:53:16.895Z"
   },
   {
    "duration": 12,
    "start_time": "2022-01-23T14:53:22.766Z"
   },
   {
    "duration": 79,
    "start_time": "2022-01-23T15:02:50.067Z"
   },
   {
    "duration": 97,
    "start_time": "2022-01-23T15:04:15.951Z"
   },
   {
    "duration": 48,
    "start_time": "2022-01-23T15:04:21.457Z"
   },
   {
    "duration": 110,
    "start_time": "2022-01-23T15:04:47.170Z"
   },
   {
    "duration": 1918,
    "start_time": "2022-01-23T15:04:53.751Z"
   },
   {
    "duration": 757,
    "start_time": "2022-01-23T15:04:55.673Z"
   },
   {
    "duration": 85,
    "start_time": "2022-01-23T15:04:56.435Z"
   },
   {
    "duration": 93,
    "start_time": "2022-01-23T15:04:56.523Z"
   },
   {
    "duration": 70,
    "start_time": "2022-01-23T15:04:56.619Z"
   },
   {
    "duration": 94,
    "start_time": "2022-01-23T15:04:56.692Z"
   },
   {
    "duration": 86,
    "start_time": "2022-01-23T15:04:56.789Z"
   },
   {
    "duration": 295,
    "start_time": "2022-01-23T15:04:56.881Z"
   },
   {
    "duration": 130,
    "start_time": "2022-01-23T15:04:57.180Z"
   },
   {
    "duration": 88,
    "start_time": "2022-01-23T15:04:57.313Z"
   },
   {
    "duration": 424,
    "start_time": "2022-01-23T15:04:57.404Z"
   },
   {
    "duration": 119,
    "start_time": "2022-01-23T15:04:57.831Z"
   },
   {
    "duration": 57,
    "start_time": "2022-01-23T15:04:57.953Z"
   },
   {
    "duration": 18,
    "start_time": "2022-01-23T15:04:58.013Z"
   },
   {
    "duration": 11,
    "start_time": "2022-01-23T15:05:58.451Z"
   },
   {
    "duration": 6,
    "start_time": "2022-01-23T15:12:37.563Z"
   },
   {
    "duration": 85,
    "start_time": "2022-01-23T15:16:02.416Z"
   },
   {
    "duration": 131,
    "start_time": "2022-01-23T15:16:31.125Z"
   },
   {
    "duration": 13,
    "start_time": "2022-01-23T15:16:45.289Z"
   },
   {
    "duration": 128,
    "start_time": "2022-01-23T15:16:57.283Z"
   },
   {
    "duration": 7,
    "start_time": "2022-01-23T15:17:47.529Z"
   },
   {
    "duration": 11,
    "start_time": "2022-01-23T15:17:58.136Z"
   },
   {
    "duration": 89,
    "start_time": "2022-01-23T15:18:36.128Z"
   },
   {
    "duration": 18,
    "start_time": "2022-01-23T15:19:06.478Z"
   },
   {
    "duration": 8,
    "start_time": "2022-01-23T15:20:17.345Z"
   },
   {
    "duration": 10,
    "start_time": "2022-01-23T15:26:04.313Z"
   },
   {
    "duration": 7,
    "start_time": "2022-01-23T15:28:30.701Z"
   },
   {
    "duration": 8,
    "start_time": "2022-01-23T15:28:39.940Z"
   },
   {
    "duration": 9,
    "start_time": "2022-01-23T15:30:22.229Z"
   },
   {
    "duration": 8,
    "start_time": "2022-01-23T15:31:36.242Z"
   },
   {
    "duration": 9,
    "start_time": "2022-01-23T15:31:38.003Z"
   },
   {
    "duration": 8,
    "start_time": "2022-01-23T15:31:39.722Z"
   },
   {
    "duration": 4912,
    "start_time": "2022-01-23T15:36:12.265Z"
   },
   {
    "duration": 4629,
    "start_time": "2022-01-23T15:36:34.954Z"
   },
   {
    "duration": 16,
    "start_time": "2022-01-23T15:38:54.795Z"
   },
   {
    "duration": 4738,
    "start_time": "2022-01-23T15:39:07.149Z"
   },
   {
    "duration": 103,
    "start_time": "2022-01-23T15:40:24.899Z"
   },
   {
    "duration": 105,
    "start_time": "2022-01-23T15:41:02.628Z"
   },
   {
    "duration": 96,
    "start_time": "2022-01-23T15:41:28.340Z"
   },
   {
    "duration": 14,
    "start_time": "2022-01-23T15:43:21.537Z"
   },
   {
    "duration": 14,
    "start_time": "2022-01-23T15:43:24.094Z"
   },
   {
    "duration": 695,
    "start_time": "2022-01-23T15:44:50.807Z"
   },
   {
    "duration": 717,
    "start_time": "2022-01-23T15:46:18.791Z"
   },
   {
    "duration": 704,
    "start_time": "2022-01-23T15:47:10.580Z"
   },
   {
    "duration": 422,
    "start_time": "2022-01-23T15:47:20.444Z"
   },
   {
    "duration": 682,
    "start_time": "2022-01-23T15:48:22.529Z"
   },
   {
    "duration": 21,
    "start_time": "2022-01-23T15:49:32.955Z"
   },
   {
    "duration": 7,
    "start_time": "2022-01-23T15:49:47.529Z"
   },
   {
    "duration": 14,
    "start_time": "2022-01-23T15:49:55.537Z"
   },
   {
    "duration": 8,
    "start_time": "2022-01-23T15:50:03.306Z"
   },
   {
    "duration": 14,
    "start_time": "2022-01-23T15:50:45.147Z"
   },
   {
    "duration": 14,
    "start_time": "2022-01-23T15:50:47.411Z"
   },
   {
    "duration": 15,
    "start_time": "2022-01-23T15:50:55.814Z"
   },
   {
    "duration": 4943,
    "start_time": "2022-01-23T15:53:10.301Z"
   },
   {
    "duration": 5519,
    "start_time": "2022-01-23T15:53:25.998Z"
   },
   {
    "duration": 1409,
    "start_time": "2022-01-23T15:54:14.029Z"
   },
   {
    "duration": 409,
    "start_time": "2022-01-23T15:54:40.163Z"
   },
   {
    "duration": 1473,
    "start_time": "2022-01-23T15:54:58.564Z"
   },
   {
    "duration": 534,
    "start_time": "2022-01-23T15:55:00.039Z"
   },
   {
    "duration": 98,
    "start_time": "2022-01-23T15:55:00.576Z"
   },
   {
    "duration": 92,
    "start_time": "2022-01-23T15:55:00.677Z"
   },
   {
    "duration": 46,
    "start_time": "2022-01-23T15:55:00.772Z"
   },
   {
    "duration": 81,
    "start_time": "2022-01-23T15:55:00.821Z"
   },
   {
    "duration": 79,
    "start_time": "2022-01-23T15:55:00.905Z"
   },
   {
    "duration": 216,
    "start_time": "2022-01-23T15:55:00.988Z"
   },
   {
    "duration": 127,
    "start_time": "2022-01-23T15:55:01.207Z"
   },
   {
    "duration": 90,
    "start_time": "2022-01-23T15:55:01.336Z"
   },
   {
    "duration": 416,
    "start_time": "2022-01-23T15:55:01.428Z"
   },
   {
    "duration": 111,
    "start_time": "2022-01-23T15:55:01.847Z"
   },
   {
    "duration": 22,
    "start_time": "2022-01-23T15:55:01.970Z"
   },
   {
    "duration": 12,
    "start_time": "2022-01-23T15:55:01.995Z"
   },
   {
    "duration": 4492,
    "start_time": "2022-01-23T15:55:02.009Z"
   },
   {
    "duration": 8,
    "start_time": "2022-01-23T15:55:06.504Z"
   },
   {
    "duration": 732,
    "start_time": "2022-01-23T15:55:06.515Z"
   },
   {
    "duration": 7,
    "start_time": "2022-01-23T15:55:07.250Z"
   },
   {
    "duration": 418,
    "start_time": "2022-01-23T15:55:07.269Z"
   },
   {
    "duration": 15,
    "start_time": "2022-01-23T15:55:07.689Z"
   },
   {
    "duration": 5288,
    "start_time": "2022-01-23T15:55:07.707Z"
   },
   {
    "duration": 15,
    "start_time": "2022-01-23T15:55:12.997Z"
   },
   {
    "duration": 962,
    "start_time": "2022-01-23T15:55:13.016Z"
   },
   {
    "duration": 14,
    "start_time": "2022-01-23T15:55:13.981Z"
   },
   {
    "duration": 437,
    "start_time": "2022-01-23T15:55:13.998Z"
   },
   {
    "duration": 15,
    "start_time": "2022-01-23T16:07:19.113Z"
   },
   {
    "duration": 10702,
    "start_time": "2022-01-23T16:09:30.703Z"
   },
   {
    "duration": 3761,
    "start_time": "2022-01-23T16:10:04.045Z"
   },
   {
    "duration": 1354,
    "start_time": "2022-01-23T16:11:03.359Z"
   },
   {
    "duration": 16,
    "start_time": "2022-01-23T16:11:29.480Z"
   },
   {
    "duration": 8,
    "start_time": "2022-01-23T16:14:30.565Z"
   },
   {
    "duration": 16,
    "start_time": "2022-01-23T16:14:35.372Z"
   },
   {
    "duration": 16,
    "start_time": "2022-01-23T16:14:37.374Z"
   },
   {
    "duration": 407,
    "start_time": "2022-01-23T16:15:13.089Z"
   },
   {
    "duration": 1727,
    "start_time": "2022-01-23T16:15:21.822Z"
   },
   {
    "duration": 915,
    "start_time": "2022-01-23T16:15:43.511Z"
   },
   {
    "duration": 604,
    "start_time": "2022-01-23T16:15:58.326Z"
   },
   {
    "duration": 931,
    "start_time": "2022-01-23T16:16:29.559Z"
   },
   {
    "duration": 1452,
    "start_time": "2022-01-23T16:23:30.868Z"
   },
   {
    "duration": 16,
    "start_time": "2022-01-23T16:23:58.619Z"
   },
   {
    "duration": 632,
    "start_time": "2022-01-23T16:24:05.893Z"
   },
   {
    "duration": 6,
    "start_time": "2022-01-23T16:56:10.451Z"
   },
   {
    "duration": 10,
    "start_time": "2022-01-23T16:56:35.998Z"
   },
   {
    "duration": 56,
    "start_time": "2022-01-23T16:57:42.856Z"
   },
   {
    "duration": 12,
    "start_time": "2022-01-23T16:59:46.549Z"
   },
   {
    "duration": 65,
    "start_time": "2022-01-23T16:59:55.517Z"
   },
   {
    "duration": 14,
    "start_time": "2022-01-23T17:00:37.056Z"
   },
   {
    "duration": 526,
    "start_time": "2022-01-23T17:00:55.476Z"
   },
   {
    "duration": 10,
    "start_time": "2022-01-23T17:01:09.812Z"
   },
   {
    "duration": 22,
    "start_time": "2022-01-23T17:06:17.766Z"
   },
   {
    "duration": 4257,
    "start_time": "2022-01-23T17:07:49.273Z"
   },
   {
    "duration": 700,
    "start_time": "2022-01-23T17:07:59.926Z"
   },
   {
    "duration": 1023,
    "start_time": "2022-01-23T17:10:41.508Z"
   },
   {
    "duration": 826,
    "start_time": "2022-01-23T17:10:49.303Z"
   },
   {
    "duration": 7,
    "start_time": "2022-01-23T17:15:08.523Z"
   },
   {
    "duration": 8,
    "start_time": "2022-01-23T17:15:16.056Z"
   },
   {
    "duration": 23,
    "start_time": "2022-01-23T17:21:07.196Z"
   },
   {
    "duration": 27,
    "start_time": "2022-01-23T17:21:31.819Z"
   },
   {
    "duration": 31,
    "start_time": "2022-01-23T17:21:44.336Z"
   },
   {
    "duration": 30,
    "start_time": "2022-01-23T17:22:02.444Z"
   },
   {
    "duration": 21,
    "start_time": "2022-01-23T17:22:07.077Z"
   },
   {
    "duration": 8,
    "start_time": "2022-01-23T17:22:09.040Z"
   },
   {
    "duration": 19,
    "start_time": "2022-01-23T17:22:52.867Z"
   },
   {
    "duration": 29,
    "start_time": "2022-01-23T17:23:00.904Z"
   },
   {
    "duration": 19,
    "start_time": "2022-01-23T17:23:24.168Z"
   },
   {
    "duration": 19,
    "start_time": "2022-01-23T17:23:25.102Z"
   },
   {
    "duration": 7,
    "start_time": "2022-01-23T17:23:27.020Z"
   },
   {
    "duration": 849,
    "start_time": "2022-01-23T17:24:00.303Z"
   },
   {
    "duration": 29,
    "start_time": "2022-01-23T18:15:23.271Z"
   },
   {
    "duration": 438,
    "start_time": "2022-01-23T18:15:43.165Z"
   },
   {
    "duration": 30,
    "start_time": "2022-01-23T18:15:55.184Z"
   },
   {
    "duration": 7,
    "start_time": "2022-01-23T18:26:48.635Z"
   },
   {
    "duration": 21,
    "start_time": "2022-01-23T18:32:54.862Z"
   },
   {
    "duration": 7,
    "start_time": "2022-01-23T18:33:39.195Z"
   },
   {
    "duration": 14,
    "start_time": "2022-01-23T18:34:29.356Z"
   },
   {
    "duration": 25,
    "start_time": "2022-01-23T18:37:42.397Z"
   },
   {
    "duration": 27,
    "start_time": "2022-01-23T18:38:06.390Z"
   },
   {
    "duration": 17,
    "start_time": "2022-01-23T18:38:33.494Z"
   },
   {
    "duration": 23,
    "start_time": "2022-01-23T18:38:49.620Z"
   },
   {
    "duration": 24,
    "start_time": "2022-01-23T18:39:09.791Z"
   },
   {
    "duration": 22,
    "start_time": "2022-01-23T18:39:17.475Z"
   },
   {
    "duration": 1138,
    "start_time": "2022-01-23T18:41:33.674Z"
   },
   {
    "duration": 384,
    "start_time": "2022-01-23T18:41:52.855Z"
   },
   {
    "duration": 551,
    "start_time": "2022-01-23T18:42:08.695Z"
   },
   {
    "duration": 508,
    "start_time": "2022-01-23T18:42:19.265Z"
   },
   {
    "duration": 14,
    "start_time": "2022-01-23T19:03:25.114Z"
   },
   {
    "duration": 30,
    "start_time": "2022-01-23T19:03:50.360Z"
   },
   {
    "duration": 24,
    "start_time": "2022-01-23T19:13:33.273Z"
   },
   {
    "duration": 11,
    "start_time": "2022-01-23T19:13:40.414Z"
   },
   {
    "duration": 7,
    "start_time": "2022-01-23T19:14:06.974Z"
   },
   {
    "duration": 16,
    "start_time": "2022-01-23T19:14:23.817Z"
   },
   {
    "duration": 11,
    "start_time": "2022-01-23T19:14:30.154Z"
   },
   {
    "duration": 12,
    "start_time": "2022-01-23T19:19:19.017Z"
   },
   {
    "duration": 1705,
    "start_time": "2022-01-23T19:37:36.946Z"
   },
   {
    "duration": 515,
    "start_time": "2022-01-23T19:37:38.653Z"
   },
   {
    "duration": 81,
    "start_time": "2022-01-23T19:37:39.171Z"
   },
   {
    "duration": 72,
    "start_time": "2022-01-23T19:37:39.270Z"
   },
   {
    "duration": 62,
    "start_time": "2022-01-23T19:37:39.344Z"
   },
   {
    "duration": 87,
    "start_time": "2022-01-23T19:37:39.408Z"
   },
   {
    "duration": 45,
    "start_time": "2022-01-23T19:37:39.498Z"
   },
   {
    "duration": 208,
    "start_time": "2022-01-23T19:37:39.573Z"
   },
   {
    "duration": 128,
    "start_time": "2022-01-23T19:37:39.784Z"
   },
   {
    "duration": 87,
    "start_time": "2022-01-23T19:37:39.915Z"
   },
   {
    "duration": 426,
    "start_time": "2022-01-23T19:37:40.005Z"
   },
   {
    "duration": 115,
    "start_time": "2022-01-23T19:37:40.434Z"
   },
   {
    "duration": 23,
    "start_time": "2022-01-23T19:37:40.552Z"
   },
   {
    "duration": 14,
    "start_time": "2022-01-23T19:37:40.577Z"
   },
   {
    "duration": 15,
    "start_time": "2022-01-23T19:37:40.593Z"
   },
   {
    "duration": 1288,
    "start_time": "2022-01-23T19:37:40.610Z"
   },
   {
    "duration": 16,
    "start_time": "2022-01-23T19:37:41.901Z"
   },
   {
    "duration": 13,
    "start_time": "2022-01-23T19:37:41.920Z"
   },
   {
    "duration": 1085,
    "start_time": "2022-01-23T19:37:41.935Z"
   },
   {
    "duration": 15,
    "start_time": "2022-01-23T19:37:43.024Z"
   },
   {
    "duration": 38,
    "start_time": "2022-01-23T19:37:43.042Z"
   },
   {
    "duration": 605,
    "start_time": "2022-01-23T19:37:43.082Z"
   },
   {
    "duration": 14,
    "start_time": "2022-01-23T19:37:43.694Z"
   },
   {
    "duration": 10,
    "start_time": "2022-01-23T19:37:43.711Z"
   },
   {
    "duration": 543,
    "start_time": "2022-01-23T19:37:43.724Z"
   },
   {
    "duration": 19,
    "start_time": "2022-01-23T19:37:44.270Z"
   },
   {
    "duration": 8,
    "start_time": "2022-01-23T19:37:44.291Z"
   },
   {
    "duration": 733,
    "start_time": "2022-01-23T19:37:44.301Z"
   },
   {
    "duration": 1660,
    "start_time": "2022-01-23T19:42:38.891Z"
   },
   {
    "duration": 556,
    "start_time": "2022-01-23T19:42:40.554Z"
   },
   {
    "duration": 85,
    "start_time": "2022-01-23T19:42:41.113Z"
   },
   {
    "duration": 97,
    "start_time": "2022-01-23T19:42:41.202Z"
   },
   {
    "duration": 75,
    "start_time": "2022-01-23T19:42:41.302Z"
   },
   {
    "duration": 61,
    "start_time": "2022-01-23T19:42:41.380Z"
   },
   {
    "duration": 63,
    "start_time": "2022-01-23T19:42:41.444Z"
   },
   {
    "duration": 216,
    "start_time": "2022-01-23T19:42:41.511Z"
   },
   {
    "duration": 129,
    "start_time": "2022-01-23T19:42:41.731Z"
   },
   {
    "duration": 73,
    "start_time": "2022-01-23T19:42:41.863Z"
   },
   {
    "duration": 445,
    "start_time": "2022-01-23T19:42:41.938Z"
   },
   {
    "duration": 108,
    "start_time": "2022-01-23T19:42:42.386Z"
   },
   {
    "duration": 11,
    "start_time": "2022-01-23T19:42:42.496Z"
   },
   {
    "duration": 15,
    "start_time": "2022-01-23T19:42:42.509Z"
   },
   {
    "duration": 53,
    "start_time": "2022-01-23T19:42:42.527Z"
   },
   {
    "duration": 1249,
    "start_time": "2022-01-23T19:42:42.582Z"
   },
   {
    "duration": 13,
    "start_time": "2022-01-23T19:42:43.834Z"
   },
   {
    "duration": 15,
    "start_time": "2022-01-23T19:42:43.869Z"
   },
   {
    "duration": 1046,
    "start_time": "2022-01-23T19:42:43.887Z"
   },
   {
    "duration": 17,
    "start_time": "2022-01-23T19:42:44.936Z"
   },
   {
    "duration": 14,
    "start_time": "2022-01-23T19:42:44.970Z"
   },
   {
    "duration": 579,
    "start_time": "2022-01-23T19:42:44.987Z"
   },
   {
    "duration": 14,
    "start_time": "2022-01-23T19:42:45.571Z"
   },
   {
    "duration": 7,
    "start_time": "2022-01-23T19:42:45.588Z"
   },
   {
    "duration": 517,
    "start_time": "2022-01-23T19:42:45.597Z"
   },
   {
    "duration": 20,
    "start_time": "2022-01-23T19:42:46.116Z"
   },
   {
    "duration": 8,
    "start_time": "2022-01-23T19:42:46.139Z"
   },
   {
    "duration": 705,
    "start_time": "2022-01-23T19:42:46.171Z"
   },
   {
    "duration": 24,
    "start_time": "2022-01-23T20:01:32.040Z"
   },
   {
    "duration": 29,
    "start_time": "2022-01-23T20:05:21.520Z"
   },
   {
    "duration": 20,
    "start_time": "2022-01-23T20:05:35.140Z"
   },
   {
    "duration": 1446,
    "start_time": "2022-01-23T20:09:06.704Z"
   },
   {
    "duration": 548,
    "start_time": "2022-01-23T20:09:08.153Z"
   },
   {
    "duration": 83,
    "start_time": "2022-01-23T20:09:08.704Z"
   },
   {
    "duration": 88,
    "start_time": "2022-01-23T20:09:08.790Z"
   },
   {
    "duration": 46,
    "start_time": "2022-01-23T20:09:08.880Z"
   },
   {
    "duration": 84,
    "start_time": "2022-01-23T20:09:08.928Z"
   },
   {
    "duration": 69,
    "start_time": "2022-01-23T20:09:09.014Z"
   },
   {
    "duration": 207,
    "start_time": "2022-01-23T20:09:09.087Z"
   },
   {
    "duration": 126,
    "start_time": "2022-01-23T20:09:09.297Z"
   },
   {
    "duration": 81,
    "start_time": "2022-01-23T20:09:09.426Z"
   },
   {
    "duration": 418,
    "start_time": "2022-01-23T20:09:09.510Z"
   },
   {
    "duration": 111,
    "start_time": "2022-01-23T20:09:09.931Z"
   },
   {
    "duration": 24,
    "start_time": "2022-01-23T20:09:10.045Z"
   },
   {
    "duration": 16,
    "start_time": "2022-01-23T20:09:10.072Z"
   },
   {
    "duration": 17,
    "start_time": "2022-01-23T20:09:10.091Z"
   },
   {
    "duration": 1369,
    "start_time": "2022-01-23T20:09:10.111Z"
   },
   {
    "duration": 16,
    "start_time": "2022-01-23T20:09:11.483Z"
   },
   {
    "duration": 21,
    "start_time": "2022-01-23T20:09:11.502Z"
   },
   {
    "duration": 1043,
    "start_time": "2022-01-23T20:09:11.526Z"
   },
   {
    "duration": 16,
    "start_time": "2022-01-23T20:09:12.572Z"
   },
   {
    "duration": 16,
    "start_time": "2022-01-23T20:09:12.591Z"
   },
   {
    "duration": 612,
    "start_time": "2022-01-23T20:09:12.609Z"
   },
   {
    "duration": 12,
    "start_time": "2022-01-23T20:09:13.225Z"
   },
   {
    "duration": 31,
    "start_time": "2022-01-23T20:09:13.240Z"
   },
   {
    "duration": 505,
    "start_time": "2022-01-23T20:09:13.274Z"
   },
   {
    "duration": 19,
    "start_time": "2022-01-23T20:09:13.782Z"
   },
   {
    "duration": 7,
    "start_time": "2022-01-23T20:09:13.804Z"
   },
   {
    "duration": 749,
    "start_time": "2022-01-23T20:09:13.813Z"
   },
   {
    "duration": 980,
    "start_time": "2022-01-30T19:21:48.112Z"
   },
   {
    "duration": 376,
    "start_time": "2022-01-30T19:21:49.094Z"
   },
   {
    "duration": 51,
    "start_time": "2022-01-30T19:21:49.472Z"
   },
   {
    "duration": 60,
    "start_time": "2022-01-30T19:21:49.524Z"
   },
   {
    "duration": 28,
    "start_time": "2022-01-30T19:21:49.586Z"
   },
   {
    "duration": 30,
    "start_time": "2022-01-30T19:21:49.616Z"
   },
   {
    "duration": 47,
    "start_time": "2022-01-30T19:21:49.647Z"
   },
   {
    "duration": 136,
    "start_time": "2022-01-30T19:21:49.697Z"
   },
   {
    "duration": 80,
    "start_time": "2022-01-30T19:21:49.835Z"
   },
   {
    "duration": 44,
    "start_time": "2022-01-30T19:21:49.916Z"
   },
   {
    "duration": 239,
    "start_time": "2022-01-30T19:21:49.961Z"
   },
   {
    "duration": 70,
    "start_time": "2022-01-30T19:21:50.202Z"
   },
   {
    "duration": 7,
    "start_time": "2022-01-30T19:21:50.273Z"
   },
   {
    "duration": 10,
    "start_time": "2022-01-30T19:21:50.281Z"
   },
   {
    "duration": 10,
    "start_time": "2022-01-30T19:21:50.292Z"
   },
   {
    "duration": 668,
    "start_time": "2022-01-30T19:21:50.303Z"
   },
   {
    "duration": 10,
    "start_time": "2022-01-30T19:21:50.973Z"
   },
   {
    "duration": 11,
    "start_time": "2022-01-30T19:21:50.984Z"
   },
   {
    "duration": 550,
    "start_time": "2022-01-30T19:21:50.997Z"
   },
   {
    "duration": 8,
    "start_time": "2022-01-30T19:21:51.549Z"
   },
   {
    "duration": 18,
    "start_time": "2022-01-30T19:21:51.559Z"
   },
   {
    "duration": 311,
    "start_time": "2022-01-30T19:21:51.578Z"
   },
   {
    "duration": 8,
    "start_time": "2022-01-30T19:21:51.891Z"
   },
   {
    "duration": 6,
    "start_time": "2022-01-30T19:21:51.900Z"
   },
   {
    "duration": 269,
    "start_time": "2022-01-30T19:21:51.907Z"
   },
   {
    "duration": 11,
    "start_time": "2022-01-30T19:21:52.178Z"
   },
   {
    "duration": 4,
    "start_time": "2022-01-30T19:21:52.191Z"
   },
   {
    "duration": 376,
    "start_time": "2022-01-30T19:21:52.196Z"
   },
   {
    "duration": 7,
    "start_time": "2022-01-30T19:30:28.937Z"
   },
   {
    "duration": 6,
    "start_time": "2022-01-30T19:32:18.064Z"
   },
   {
    "duration": 637,
    "start_time": "2022-01-30T19:33:59.627Z"
   },
   {
    "duration": 83,
    "start_time": "2022-01-31T07:21:31.686Z"
   },
   {
    "duration": 369,
    "start_time": "2022-01-31T07:21:39.439Z"
   },
   {
    "duration": 1640,
    "start_time": "2022-01-31T07:21:59.803Z"
   },
   {
    "duration": 450,
    "start_time": "2022-01-31T07:22:01.445Z"
   },
   {
    "duration": 70,
    "start_time": "2022-01-31T07:22:01.898Z"
   },
   {
    "duration": 73,
    "start_time": "2022-01-31T07:22:01.970Z"
   },
   {
    "duration": 64,
    "start_time": "2022-01-31T07:22:02.046Z"
   },
   {
    "duration": 44,
    "start_time": "2022-01-31T07:22:02.113Z"
   },
   {
    "duration": 58,
    "start_time": "2022-01-31T07:22:02.159Z"
   },
   {
    "duration": 165,
    "start_time": "2022-01-31T07:22:02.220Z"
   },
   {
    "duration": 98,
    "start_time": "2022-01-31T07:22:02.388Z"
   },
   {
    "duration": 6372,
    "start_time": "2022-01-31T07:22:02.488Z"
   },
   {
    "duration": -50,
    "start_time": "2022-01-31T07:22:08.913Z"
   },
   {
    "duration": -54,
    "start_time": "2022-01-31T07:22:08.918Z"
   },
   {
    "duration": -59,
    "start_time": "2022-01-31T07:22:08.924Z"
   },
   {
    "duration": -62,
    "start_time": "2022-01-31T07:22:08.929Z"
   },
   {
    "duration": -69,
    "start_time": "2022-01-31T07:22:08.937Z"
   },
   {
    "duration": -73,
    "start_time": "2022-01-31T07:22:08.942Z"
   },
   {
    "duration": -79,
    "start_time": "2022-01-31T07:22:08.949Z"
   },
   {
    "duration": -88,
    "start_time": "2022-01-31T07:22:08.960Z"
   },
   {
    "duration": -92,
    "start_time": "2022-01-31T07:22:08.965Z"
   },
   {
    "duration": -96,
    "start_time": "2022-01-31T07:22:08.971Z"
   },
   {
    "duration": -115,
    "start_time": "2022-01-31T07:22:08.991Z"
   },
   {
    "duration": -120,
    "start_time": "2022-01-31T07:22:08.997Z"
   },
   {
    "duration": -150,
    "start_time": "2022-01-31T07:22:09.029Z"
   },
   {
    "duration": -154,
    "start_time": "2022-01-31T07:22:09.034Z"
   },
   {
    "duration": -159,
    "start_time": "2022-01-31T07:22:09.040Z"
   },
   {
    "duration": -163,
    "start_time": "2022-01-31T07:22:09.045Z"
   },
   {
    "duration": -143,
    "start_time": "2022-01-31T07:22:09.051Z"
   },
   {
    "duration": -147,
    "start_time": "2022-01-31T07:22:09.056Z"
   },
   {
    "duration": 287,
    "start_time": "2022-01-31T07:23:43.024Z"
   },
   {
    "duration": 50,
    "start_time": "2022-01-31T07:23:50.117Z"
   },
   {
    "duration": 250,
    "start_time": "2022-01-31T07:25:36.937Z"
   },
   {
    "duration": 1159,
    "start_time": "2022-01-31T07:25:43.335Z"
   },
   {
    "duration": 448,
    "start_time": "2022-01-31T07:25:44.496Z"
   },
   {
    "duration": 68,
    "start_time": "2022-01-31T07:25:44.947Z"
   },
   {
    "duration": 62,
    "start_time": "2022-01-31T07:25:45.018Z"
   },
   {
    "duration": 51,
    "start_time": "2022-01-31T07:25:45.082Z"
   },
   {
    "duration": 39,
    "start_time": "2022-01-31T07:25:45.135Z"
   },
   {
    "duration": 59,
    "start_time": "2022-01-31T07:25:45.176Z"
   },
   {
    "duration": 160,
    "start_time": "2022-01-31T07:25:45.237Z"
   },
   {
    "duration": 88,
    "start_time": "2022-01-31T07:25:45.400Z"
   },
   {
    "duration": 62,
    "start_time": "2022-01-31T07:25:45.490Z"
   },
   {
    "duration": 266,
    "start_time": "2022-01-31T07:25:45.553Z"
   },
   {
    "duration": 65,
    "start_time": "2022-01-31T07:25:45.821Z"
   },
   {
    "duration": 22,
    "start_time": "2022-01-31T07:25:45.888Z"
   },
   {
    "duration": 12,
    "start_time": "2022-01-31T07:25:45.912Z"
   },
   {
    "duration": 14,
    "start_time": "2022-01-31T07:25:45.926Z"
   },
   {
    "duration": 795,
    "start_time": "2022-01-31T07:25:45.942Z"
   },
   {
    "duration": 12,
    "start_time": "2022-01-31T07:25:46.739Z"
   },
   {
    "duration": 14,
    "start_time": "2022-01-31T07:25:46.753Z"
   },
   {
    "duration": 741,
    "start_time": "2022-01-31T07:25:46.769Z"
   },
   {
    "duration": 11,
    "start_time": "2022-01-31T07:25:47.513Z"
   },
   {
    "duration": 17,
    "start_time": "2022-01-31T07:25:47.525Z"
   },
   {
    "duration": 383,
    "start_time": "2022-01-31T07:25:47.544Z"
   },
   {
    "duration": 10,
    "start_time": "2022-01-31T07:25:47.929Z"
   },
   {
    "duration": 9,
    "start_time": "2022-01-31T07:25:47.941Z"
   },
   {
    "duration": 331,
    "start_time": "2022-01-31T07:25:47.952Z"
   },
   {
    "duration": 22,
    "start_time": "2022-01-31T07:25:48.285Z"
   },
   {
    "duration": 6,
    "start_time": "2022-01-31T07:25:48.311Z"
   },
   {
    "duration": 435,
    "start_time": "2022-01-31T07:25:48.319Z"
   },
   {
    "duration": 381,
    "start_time": "2022-01-31T07:34:47.229Z"
   },
   {
    "duration": 293,
    "start_time": "2022-01-31T07:35:22.578Z"
   },
   {
    "duration": 51,
    "start_time": "2022-01-31T07:35:29.794Z"
   },
   {
    "duration": 1173,
    "start_time": "2022-01-31T08:05:57.020Z"
   },
   {
    "duration": 446,
    "start_time": "2022-01-31T08:05:58.195Z"
   },
   {
    "duration": 64,
    "start_time": "2022-01-31T08:05:58.643Z"
   },
   {
    "duration": 58,
    "start_time": "2022-01-31T08:05:58.709Z"
   },
   {
    "duration": 59,
    "start_time": "2022-01-31T08:05:58.769Z"
   },
   {
    "duration": 40,
    "start_time": "2022-01-31T08:05:58.830Z"
   },
   {
    "duration": 56,
    "start_time": "2022-01-31T08:05:58.872Z"
   },
   {
    "duration": 160,
    "start_time": "2022-01-31T08:05:58.931Z"
   },
   {
    "duration": 92,
    "start_time": "2022-01-31T08:05:59.094Z"
   },
   {
    "duration": 78,
    "start_time": "2022-01-31T08:05:59.188Z"
   },
   {
    "duration": 349,
    "start_time": "2022-01-31T08:05:59.268Z"
   },
   {
    "duration": 117,
    "start_time": "2022-01-31T08:05:59.619Z"
   },
   {
    "duration": 9,
    "start_time": "2022-01-31T08:05:59.738Z"
   },
   {
    "duration": 67,
    "start_time": "2022-01-31T08:05:59.749Z"
   },
   {
    "duration": 13,
    "start_time": "2022-01-31T08:05:59.818Z"
   },
   {
    "duration": 874,
    "start_time": "2022-01-31T08:05:59.833Z"
   },
   {
    "duration": 12,
    "start_time": "2022-01-31T08:06:00.709Z"
   },
   {
    "duration": 20,
    "start_time": "2022-01-31T08:06:00.722Z"
   },
   {
    "duration": 674,
    "start_time": "2022-01-31T08:06:00.745Z"
   },
   {
    "duration": 12,
    "start_time": "2022-01-31T08:06:01.421Z"
   },
   {
    "duration": 41,
    "start_time": "2022-01-31T08:06:01.436Z"
   },
   {
    "duration": 406,
    "start_time": "2022-01-31T08:06:01.479Z"
   },
   {
    "duration": 20,
    "start_time": "2022-01-31T08:06:01.890Z"
   },
   {
    "duration": 13,
    "start_time": "2022-01-31T08:06:01.913Z"
   },
   {
    "duration": 408,
    "start_time": "2022-01-31T08:06:01.928Z"
   },
   {
    "duration": 18,
    "start_time": "2022-01-31T08:06:02.339Z"
   },
   {
    "duration": 12,
    "start_time": "2022-01-31T08:06:02.359Z"
   },
   {
    "duration": 477,
    "start_time": "2022-01-31T08:06:02.373Z"
   },
   {
    "duration": 380,
    "start_time": "2022-01-31T08:10:26.274Z"
   },
   {
    "duration": 51,
    "start_time": "2022-01-31T08:10:43.007Z"
   },
   {
    "duration": 48,
    "start_time": "2022-01-31T08:11:38.540Z"
   },
   {
    "duration": 67,
    "start_time": "2022-01-31T08:12:52.275Z"
   },
   {
    "duration": 74,
    "start_time": "2022-01-31T08:13:15.165Z"
   },
   {
    "duration": 174,
    "start_time": "2022-01-31T08:15:32.674Z"
   },
   {
    "duration": 88,
    "start_time": "2022-01-31T08:15:39.878Z"
   },
   {
    "duration": 86,
    "start_time": "2022-01-31T08:15:59.051Z"
   },
   {
    "duration": 78,
    "start_time": "2022-01-31T08:16:10.380Z"
   },
   {
    "duration": 51,
    "start_time": "2022-01-31T08:16:55.268Z"
   },
   {
    "duration": 1174,
    "start_time": "2022-01-31T08:17:23.932Z"
   },
   {
    "duration": 442,
    "start_time": "2022-01-31T08:17:25.109Z"
   },
   {
    "duration": 67,
    "start_time": "2022-01-31T08:17:25.553Z"
   },
   {
    "duration": 57,
    "start_time": "2022-01-31T08:17:25.623Z"
   },
   {
    "duration": 52,
    "start_time": "2022-01-31T08:17:25.682Z"
   },
   {
    "duration": 42,
    "start_time": "2022-01-31T08:17:25.736Z"
   },
   {
    "duration": 57,
    "start_time": "2022-01-31T08:17:25.779Z"
   },
   {
    "duration": 166,
    "start_time": "2022-01-31T08:17:25.839Z"
   },
   {
    "duration": 99,
    "start_time": "2022-01-31T08:17:26.008Z"
   },
   {
    "duration": 77,
    "start_time": "2022-01-31T08:17:26.109Z"
   },
   {
    "duration": 77,
    "start_time": "2022-01-31T08:17:26.188Z"
   },
   {
    "duration": 47,
    "start_time": "2022-01-31T08:17:26.221Z"
   },
   {
    "duration": 42,
    "start_time": "2022-01-31T08:17:26.227Z"
   },
   {
    "duration": 40,
    "start_time": "2022-01-31T08:17:26.230Z"
   },
   {
    "duration": 36,
    "start_time": "2022-01-31T08:17:26.235Z"
   },
   {
    "duration": 32,
    "start_time": "2022-01-31T08:17:26.239Z"
   },
   {
    "duration": 29,
    "start_time": "2022-01-31T08:17:26.243Z"
   },
   {
    "duration": 26,
    "start_time": "2022-01-31T08:17:26.247Z"
   },
   {
    "duration": 24,
    "start_time": "2022-01-31T08:17:26.250Z"
   },
   {
    "duration": 21,
    "start_time": "2022-01-31T08:17:26.254Z"
   },
   {
    "duration": 19,
    "start_time": "2022-01-31T08:17:26.257Z"
   },
   {
    "duration": 15,
    "start_time": "2022-01-31T08:17:26.261Z"
   },
   {
    "duration": 10,
    "start_time": "2022-01-31T08:17:26.267Z"
   },
   {
    "duration": 8,
    "start_time": "2022-01-31T08:17:26.270Z"
   },
   {
    "duration": -8,
    "start_time": "2022-01-31T08:17:26.287Z"
   },
   {
    "duration": -12,
    "start_time": "2022-01-31T08:17:26.292Z"
   },
   {
    "duration": -15,
    "start_time": "2022-01-31T08:17:26.296Z"
   },
   {
    "duration": -17,
    "start_time": "2022-01-31T08:17:26.299Z"
   },
   {
    "duration": -20,
    "start_time": "2022-01-31T08:17:26.303Z"
   },
   {
    "duration": 1228,
    "start_time": "2022-01-31T08:17:42.662Z"
   },
   {
    "duration": 439,
    "start_time": "2022-01-31T08:17:43.892Z"
   },
   {
    "duration": 66,
    "start_time": "2022-01-31T08:17:44.334Z"
   },
   {
    "duration": 57,
    "start_time": "2022-01-31T08:17:44.402Z"
   },
   {
    "duration": 53,
    "start_time": "2022-01-31T08:17:44.461Z"
   },
   {
    "duration": 42,
    "start_time": "2022-01-31T08:17:44.515Z"
   },
   {
    "duration": 55,
    "start_time": "2022-01-31T08:17:44.558Z"
   },
   {
    "duration": 157,
    "start_time": "2022-01-31T08:17:44.616Z"
   },
   {
    "duration": 104,
    "start_time": "2022-01-31T08:17:44.776Z"
   },
   {
    "duration": 83,
    "start_time": "2022-01-31T08:17:44.882Z"
   },
   {
    "duration": 3,
    "start_time": "2022-01-31T08:17:44.967Z"
   },
   {
    "duration": 269,
    "start_time": "2022-01-31T08:17:44.972Z"
   },
   {
    "duration": 422,
    "start_time": "2022-01-31T08:17:45.243Z"
   },
   {
    "duration": -208,
    "start_time": "2022-01-31T08:17:45.876Z"
   },
   {
    "duration": -240,
    "start_time": "2022-01-31T08:17:45.909Z"
   },
   {
    "duration": -247,
    "start_time": "2022-01-31T08:17:45.917Z"
   },
   {
    "duration": -250,
    "start_time": "2022-01-31T08:17:45.922Z"
   },
   {
    "duration": -253,
    "start_time": "2022-01-31T08:17:45.926Z"
   },
   {
    "duration": -259,
    "start_time": "2022-01-31T08:17:45.933Z"
   },
   {
    "duration": -264,
    "start_time": "2022-01-31T08:17:45.939Z"
   },
   {
    "duration": -267,
    "start_time": "2022-01-31T08:17:45.943Z"
   },
   {
    "duration": -270,
    "start_time": "2022-01-31T08:17:45.947Z"
   },
   {
    "duration": -272,
    "start_time": "2022-01-31T08:17:45.950Z"
   },
   {
    "duration": -277,
    "start_time": "2022-01-31T08:17:45.956Z"
   },
   {
    "duration": -281,
    "start_time": "2022-01-31T08:17:45.961Z"
   },
   {
    "duration": -282,
    "start_time": "2022-01-31T08:17:45.964Z"
   },
   {
    "duration": -286,
    "start_time": "2022-01-31T08:17:45.969Z"
   },
   {
    "duration": -289,
    "start_time": "2022-01-31T08:17:45.973Z"
   },
   {
    "duration": -293,
    "start_time": "2022-01-31T08:17:45.978Z"
   },
   {
    "duration": 118,
    "start_time": "2022-01-31T08:25:31.740Z"
   },
   {
    "duration": 72,
    "start_time": "2022-01-31T08:25:43.199Z"
   },
   {
    "duration": 67,
    "start_time": "2022-01-31T08:26:46.051Z"
   },
   {
    "duration": 42,
    "start_time": "2022-01-31T08:26:50.569Z"
   },
   {
    "duration": 1189,
    "start_time": "2022-01-31T08:27:21.553Z"
   },
   {
    "duration": 580,
    "start_time": "2022-01-31T08:27:22.744Z"
   },
   {
    "duration": 98,
    "start_time": "2022-01-31T08:27:23.328Z"
   },
   {
    "duration": 58,
    "start_time": "2022-01-31T08:27:23.428Z"
   },
   {
    "duration": 54,
    "start_time": "2022-01-31T08:27:23.488Z"
   },
   {
    "duration": 68,
    "start_time": "2022-01-31T08:27:23.544Z"
   },
   {
    "duration": 30,
    "start_time": "2022-01-31T08:27:23.614Z"
   },
   {
    "duration": 166,
    "start_time": "2022-01-31T08:27:23.647Z"
   },
   {
    "duration": 96,
    "start_time": "2022-01-31T08:27:23.816Z"
   },
   {
    "duration": 2,
    "start_time": "2022-01-31T08:27:23.915Z"
   },
   {
    "duration": 59,
    "start_time": "2022-01-31T08:27:23.920Z"
   },
   {
    "duration": 258,
    "start_time": "2022-01-31T08:27:23.981Z"
   },
   {
    "duration": 376,
    "start_time": "2022-01-31T08:27:24.241Z"
   },
   {
    "duration": 15,
    "start_time": "2022-01-31T08:27:24.604Z"
   },
   {
    "duration": 12,
    "start_time": "2022-01-31T08:27:24.609Z"
   },
   {
    "duration": 10,
    "start_time": "2022-01-31T08:27:24.612Z"
   },
   {
    "duration": 7,
    "start_time": "2022-01-31T08:27:24.616Z"
   },
   {
    "duration": 5,
    "start_time": "2022-01-31T08:27:24.619Z"
   },
   {
    "duration": 1,
    "start_time": "2022-01-31T08:27:24.624Z"
   },
   {
    "duration": -2,
    "start_time": "2022-01-31T08:27:24.628Z"
   },
   {
    "duration": -5,
    "start_time": "2022-01-31T08:27:24.632Z"
   },
   {
    "duration": -8,
    "start_time": "2022-01-31T08:27:24.636Z"
   },
   {
    "duration": -11,
    "start_time": "2022-01-31T08:27:24.640Z"
   },
   {
    "duration": -13,
    "start_time": "2022-01-31T08:27:24.643Z"
   },
   {
    "duration": -16,
    "start_time": "2022-01-31T08:27:24.647Z"
   },
   {
    "duration": -19,
    "start_time": "2022-01-31T08:27:24.651Z"
   },
   {
    "duration": -21,
    "start_time": "2022-01-31T08:27:24.655Z"
   },
   {
    "duration": -23,
    "start_time": "2022-01-31T08:27:24.658Z"
   },
   {
    "duration": -28,
    "start_time": "2022-01-31T08:27:24.664Z"
   },
   {
    "duration": 94,
    "start_time": "2022-01-31T08:32:18.029Z"
   },
   {
    "duration": 68,
    "start_time": "2022-01-31T08:33:30.065Z"
   },
   {
    "duration": 75,
    "start_time": "2022-01-31T08:34:14.211Z"
   },
   {
    "duration": 1226,
    "start_time": "2022-01-31T08:39:23.470Z"
   },
   {
    "duration": 559,
    "start_time": "2022-01-31T08:39:24.699Z"
   },
   {
    "duration": 63,
    "start_time": "2022-01-31T08:39:25.260Z"
   },
   {
    "duration": 55,
    "start_time": "2022-01-31T08:39:25.326Z"
   },
   {
    "duration": 52,
    "start_time": "2022-01-31T08:39:25.383Z"
   },
   {
    "duration": 43,
    "start_time": "2022-01-31T08:39:25.437Z"
   },
   {
    "duration": 33,
    "start_time": "2022-01-31T08:39:25.508Z"
   },
   {
    "duration": 164,
    "start_time": "2022-01-31T08:39:25.544Z"
   },
   {
    "duration": 100,
    "start_time": "2022-01-31T08:39:25.710Z"
   },
   {
    "duration": 3,
    "start_time": "2022-01-31T08:39:25.812Z"
   },
   {
    "duration": 51,
    "start_time": "2022-01-31T08:39:25.817Z"
   },
   {
    "duration": 268,
    "start_time": "2022-01-31T08:39:25.870Z"
   },
   {
    "duration": 75,
    "start_time": "2022-01-31T08:39:26.140Z"
   },
   {
    "duration": 8,
    "start_time": "2022-01-31T08:39:26.218Z"
   },
   {
    "duration": 16,
    "start_time": "2022-01-31T08:39:26.228Z"
   },
   {
    "duration": 11,
    "start_time": "2022-01-31T08:39:26.246Z"
   },
   {
    "duration": 852,
    "start_time": "2022-01-31T08:39:26.259Z"
   },
   {
    "duration": 12,
    "start_time": "2022-01-31T08:39:27.113Z"
   },
   {
    "duration": 17,
    "start_time": "2022-01-31T08:39:27.126Z"
   },
   {
    "duration": 677,
    "start_time": "2022-01-31T08:39:27.144Z"
   },
   {
    "duration": 12,
    "start_time": "2022-01-31T08:39:27.823Z"
   },
   {
    "duration": 11,
    "start_time": "2022-01-31T08:39:27.837Z"
   },
   {
    "duration": 400,
    "start_time": "2022-01-31T08:39:27.852Z"
   },
   {
    "duration": 10,
    "start_time": "2022-01-31T08:39:28.255Z"
   },
   {
    "duration": 11,
    "start_time": "2022-01-31T08:39:28.267Z"
   },
   {
    "duration": 330,
    "start_time": "2022-01-31T08:39:28.279Z"
   },
   {
    "duration": 14,
    "start_time": "2022-01-31T08:39:28.611Z"
   },
   {
    "duration": 5,
    "start_time": "2022-01-31T08:39:28.627Z"
   },
   {
    "duration": 731,
    "start_time": "2022-01-31T08:39:28.634Z"
   },
   {
    "duration": 1131,
    "start_time": "2022-01-31T10:04:33.002Z"
   },
   {
    "duration": 1091,
    "start_time": "2022-01-31T10:04:42.511Z"
   },
   {
    "duration": 770,
    "start_time": "2022-01-31T10:11:02.211Z"
   },
   {
    "duration": 518,
    "start_time": "2022-01-31T10:11:09.925Z"
   },
   {
    "duration": 558,
    "start_time": "2022-01-31T10:11:20.332Z"
   },
   {
    "duration": 833,
    "start_time": "2022-01-31T10:11:28.082Z"
   },
   {
    "duration": 1058,
    "start_time": "2022-01-31T10:13:42.392Z"
   },
   {
    "duration": 1136,
    "start_time": "2022-01-31T10:14:07.728Z"
   },
   {
    "duration": 740,
    "start_time": "2022-01-31T10:14:55.588Z"
   },
   {
    "duration": 735,
    "start_time": "2022-01-31T10:15:15.440Z"
   },
   {
    "duration": 477,
    "start_time": "2022-01-31T10:16:11.190Z"
   },
   {
    "duration": 576,
    "start_time": "2022-01-31T10:16:44.722Z"
   },
   {
    "duration": 559,
    "start_time": "2022-01-31T10:18:03.225Z"
   },
   {
    "duration": 269,
    "start_time": "2022-01-31T12:22:50.963Z"
   },
   {
    "duration": 272,
    "start_time": "2022-01-31T12:24:30.364Z"
   },
   {
    "duration": 6,
    "start_time": "2022-01-31T13:15:07.391Z"
   },
   {
    "duration": 349,
    "start_time": "2022-01-31T13:16:24.826Z"
   },
   {
    "duration": 2,
    "start_time": "2022-01-31T13:18:39.036Z"
   },
   {
    "duration": 3,
    "start_time": "2022-01-31T13:19:45.842Z"
   },
   {
    "duration": 1284,
    "start_time": "2022-01-31T15:27:57.924Z"
   },
   {
    "duration": 435,
    "start_time": "2022-01-31T15:27:59.211Z"
   },
   {
    "duration": 67,
    "start_time": "2022-01-31T15:27:59.652Z"
   },
   {
    "duration": 56,
    "start_time": "2022-01-31T15:27:59.722Z"
   },
   {
    "duration": 60,
    "start_time": "2022-01-31T15:27:59.781Z"
   },
   {
    "duration": 74,
    "start_time": "2022-01-31T15:27:59.844Z"
   },
   {
    "duration": 46,
    "start_time": "2022-01-31T15:27:59.922Z"
   },
   {
    "duration": 222,
    "start_time": "2022-01-31T15:27:59.971Z"
   },
   {
    "duration": 140,
    "start_time": "2022-01-31T15:28:00.195Z"
   },
   {
    "duration": 3,
    "start_time": "2022-01-31T15:28:00.338Z"
   },
   {
    "duration": 85,
    "start_time": "2022-01-31T15:28:00.343Z"
   },
   {
    "duration": 260,
    "start_time": "2022-01-31T15:28:00.431Z"
   },
   {
    "duration": 71,
    "start_time": "2022-01-31T15:28:00.693Z"
   },
   {
    "duration": 8,
    "start_time": "2022-01-31T15:28:00.765Z"
   },
   {
    "duration": 17,
    "start_time": "2022-01-31T15:28:00.775Z"
   },
   {
    "duration": 33,
    "start_time": "2022-01-31T15:28:00.794Z"
   },
   {
    "duration": 1088,
    "start_time": "2022-01-31T15:28:00.830Z"
   },
   {
    "duration": 12,
    "start_time": "2022-01-31T15:28:01.921Z"
   },
   {
    "duration": 17,
    "start_time": "2022-01-31T15:28:01.935Z"
   },
   {
    "duration": 783,
    "start_time": "2022-01-31T15:28:01.954Z"
   },
   {
    "duration": 11,
    "start_time": "2022-01-31T15:28:02.738Z"
   },
   {
    "duration": 11,
    "start_time": "2022-01-31T15:28:02.753Z"
   },
   {
    "duration": 437,
    "start_time": "2022-01-31T15:28:02.766Z"
   },
   {
    "duration": 16,
    "start_time": "2022-01-31T15:28:03.205Z"
   },
   {
    "duration": 16,
    "start_time": "2022-01-31T15:28:03.223Z"
   },
   {
    "duration": 12,
    "start_time": "2022-01-31T15:28:03.240Z"
   },
   {
    "duration": 6,
    "start_time": "2022-01-31T15:28:03.254Z"
   },
   {
    "duration": 328,
    "start_time": "2022-01-31T15:28:03.261Z"
   },
   {
    "duration": 13,
    "start_time": "2022-01-31T15:28:03.591Z"
   },
   {
    "duration": 15,
    "start_time": "2022-01-31T15:28:03.606Z"
   },
   {
    "duration": 510,
    "start_time": "2022-01-31T15:28:03.622Z"
   },
   {
    "duration": 56,
    "start_time": "2022-06-03T14:16:17.012Z"
   },
   {
    "duration": 8,
    "start_time": "2022-06-03T14:16:21.798Z"
   },
   {
    "duration": 10,
    "start_time": "2022-06-03T14:17:10.896Z"
   },
   {
    "duration": 1035,
    "start_time": "2022-06-03T14:17:18.449Z"
   },
   {
    "duration": 883,
    "start_time": "2022-06-03T14:17:19.486Z"
   },
   {
    "duration": 63,
    "start_time": "2022-06-03T14:17:20.371Z"
   },
   {
    "duration": 53,
    "start_time": "2022-06-03T14:17:20.436Z"
   },
   {
    "duration": 33,
    "start_time": "2022-06-03T14:17:20.491Z"
   },
   {
    "duration": 64,
    "start_time": "2022-06-03T14:17:20.526Z"
   },
   {
    "duration": 30,
    "start_time": "2022-06-03T14:17:20.592Z"
   },
   {
    "duration": 156,
    "start_time": "2022-06-03T14:17:20.624Z"
   },
   {
    "duration": 81,
    "start_time": "2022-06-03T14:17:20.782Z"
   },
   {
    "duration": 4,
    "start_time": "2022-06-03T14:17:20.865Z"
   },
   {
    "duration": 33,
    "start_time": "2022-06-03T14:17:20.871Z"
   },
   {
    "duration": 279,
    "start_time": "2022-06-03T14:17:20.905Z"
   },
   {
    "duration": 100,
    "start_time": "2022-06-03T14:17:21.186Z"
   },
   {
    "duration": 64,
    "start_time": "2022-06-03T14:17:21.288Z"
   },
   {
    "duration": 12,
    "start_time": "2022-06-03T14:17:21.354Z"
   },
   {
    "duration": 13,
    "start_time": "2022-06-03T14:17:21.367Z"
   },
   {
    "duration": 1453,
    "start_time": "2022-06-03T14:17:21.381Z"
   },
   {
    "duration": 17,
    "start_time": "2022-06-03T14:17:22.836Z"
   },
   {
    "duration": 15,
    "start_time": "2022-06-03T14:17:22.855Z"
   },
   {
    "duration": 493,
    "start_time": "2022-06-03T14:17:22.871Z"
   },
   {
    "duration": 10,
    "start_time": "2022-06-03T14:17:23.366Z"
   },
   {
    "duration": 19,
    "start_time": "2022-06-03T14:17:23.377Z"
   },
   {
    "duration": 304,
    "start_time": "2022-06-03T14:17:23.397Z"
   },
   {
    "duration": 9,
    "start_time": "2022-06-03T14:17:23.703Z"
   },
   {
    "duration": 5,
    "start_time": "2022-06-03T14:17:23.713Z"
   },
   {
    "duration": 10,
    "start_time": "2022-06-03T14:17:23.719Z"
   },
   {
    "duration": 6,
    "start_time": "2022-06-03T14:17:23.731Z"
   },
   {
    "duration": 334,
    "start_time": "2022-06-03T14:17:23.739Z"
   },
   {
    "duration": 13,
    "start_time": "2022-06-03T14:17:24.075Z"
   },
   {
    "duration": 14,
    "start_time": "2022-06-03T14:17:24.090Z"
   },
   {
    "duration": 393,
    "start_time": "2022-06-03T14:17:24.106Z"
   },
   {
    "duration": 182,
    "start_time": "2022-06-03T14:37:03.878Z"
   },
   {
    "duration": 526,
    "start_time": "2022-06-03T14:37:11.428Z"
   }
  ],
  "kernelspec": {
   "display_name": "Python 3",
   "language": "python",
   "name": "python3"
  },
  "language_info": {
   "codemirror_mode": {
    "name": "ipython",
    "version": 3
   },
   "file_extension": ".py",
   "mimetype": "text/x-python",
   "name": "python",
   "nbconvert_exporter": "python",
   "pygments_lexer": "ipython3",
   "version": "3.8.8"
  },
  "toc": {
   "base_numbering": 1,
   "nav_menu": {},
   "number_sections": true,
   "sideBar": true,
   "skip_h1_title": true,
   "title_cell": "Содержание",
   "title_sidebar": "Contents",
   "toc_cell": true,
   "toc_position": {
    "height": "calc(100% - 180px)",
    "left": "10px",
    "top": "150px",
    "width": "318.391px"
   },
   "toc_section_display": true,
   "toc_window_display": true
  }
 },
 "nbformat": 4,
 "nbformat_minor": 2
}
